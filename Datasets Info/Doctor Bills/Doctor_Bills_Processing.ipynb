{
  "nbformat": 4,
  "nbformat_minor": 0,
  "metadata": {
    "colab": {
      "provenance": []
    },
    "kernelspec": {
      "name": "python3",
      "display_name": "Python 3"
    },
    "language_info": {
      "name": "python"
    }
  },
  "cells": [
    {
      "cell_type": "code",
      "source": [
        "!pip install tesseract\n",
        "!pip install tesseract-ocr\n",
        "\n",
        "!sudo apt install tesseract-ocr\n",
        "!pip install pytesseract"
      ],
      "metadata": {
        "colab": {
          "base_uri": "https://localhost:8080/"
        },
        "collapsed": true,
        "id": "KzaeEZtlcGIV",
        "outputId": "44c16ba4-986e-4872-9cf3-76463c7febb9"
      },
      "execution_count": 6,
      "outputs": [
        {
          "output_type": "stream",
          "name": "stdout",
          "text": [
            "Collecting tesseract\n",
            "  Downloading tesseract-0.1.3.tar.gz (45.6 MB)\n",
            "\u001b[2K     \u001b[90m━━━━━━━━━━━━━━━━━━━━━━━━━━━━━━━━━━━━━━━━\u001b[0m \u001b[32m45.6/45.6 MB\u001b[0m \u001b[31m9.8 MB/s\u001b[0m eta \u001b[36m0:00:00\u001b[0m\n",
            "\u001b[?25h  Preparing metadata (setup.py) ... \u001b[?25l\u001b[?25hdone\n",
            "Building wheels for collected packages: tesseract\n",
            "  Building wheel for tesseract (setup.py) ... \u001b[?25l\u001b[?25hdone\n",
            "  Created wheel for tesseract: filename=tesseract-0.1.3-py3-none-any.whl size=45562552 sha256=dfdd1fb50c64dd8de6a6e851bc5cc1358007afb4e7826048b2575aa4f165a21f\n",
            "  Stored in directory: /root/.cache/pip/wheels/71/c9/aa/698c579693e83fdda9ad6d6f0d8f61ed986e27925ef576f109\n",
            "Successfully built tesseract\n",
            "Installing collected packages: tesseract\n",
            "Successfully installed tesseract-0.1.3\n",
            "Collecting tesseract-ocr\n",
            "  Downloading tesseract-ocr-0.0.1.tar.gz (33 kB)\n",
            "  Preparing metadata (setup.py) ... \u001b[?25l\u001b[?25hdone\n",
            "Requirement already satisfied: cython in /usr/local/lib/python3.10/dist-packages (from tesseract-ocr) (3.0.10)\n",
            "Building wheels for collected packages: tesseract-ocr\n",
            "  \u001b[1;31merror\u001b[0m: \u001b[1msubprocess-exited-with-error\u001b[0m\n",
            "  \n",
            "  \u001b[31m×\u001b[0m \u001b[32mpython setup.py bdist_wheel\u001b[0m did not run successfully.\n",
            "  \u001b[31m│\u001b[0m exit code: \u001b[1;36m1\u001b[0m\n",
            "  \u001b[31m╰─>\u001b[0m See above for output.\n",
            "  \n",
            "  \u001b[1;35mnote\u001b[0m: This error originates from a subprocess, and is likely not a problem with pip.\n",
            "  Building wheel for tesseract-ocr (setup.py) ... \u001b[?25lerror\n",
            "\u001b[31m  ERROR: Failed building wheel for tesseract-ocr\u001b[0m\u001b[31m\n",
            "\u001b[0m\u001b[?25h  Running setup.py clean for tesseract-ocr\n",
            "Failed to build tesseract-ocr\n",
            "\u001b[31mERROR: Could not build wheels for tesseract-ocr, which is required to install pyproject.toml-based projects\u001b[0m\u001b[31m\n",
            "Reading package lists... Done\n",
            "Building dependency tree... Done\n",
            "Reading state information... Done\n",
            "tesseract-ocr is already the newest version (4.1.1-2.1build1).\n",
            "0 upgraded, 0 newly installed, 0 to remove and 45 not upgraded.\n",
            "Requirement already satisfied: pytesseract in /usr/local/lib/python3.10/dist-packages (0.3.10)\n",
            "Requirement already satisfied: packaging>=21.3 in /usr/local/lib/python3.10/dist-packages (from pytesseract) (24.0)\n",
            "Requirement already satisfied: Pillow>=8.0.0 in /usr/local/lib/python3.10/dist-packages (from pytesseract) (9.4.0)\n"
          ]
        }
      ]
    },
    {
      "cell_type": "code",
      "source": [
        "!unzip /content/drive/MyDrive/Doctor_Bills.zip"
      ],
      "metadata": {
        "colab": {
          "base_uri": "https://localhost:8080/"
        },
        "collapsed": true,
        "id": "cKuDJOpXgvak",
        "outputId": "3835a320-722e-46c4-fad9-eb5fdec8b4bb"
      },
      "execution_count": 81,
      "outputs": [
        {
          "output_type": "stream",
          "name": "stdout",
          "text": [
            "Archive:  /content/drive/MyDrive/Doctor_Bills.zip\n",
            "   creating: Doctor_Bills/\n",
            "   creating: Doctor_Bills/test/\n",
            "  inflating: Doctor_Bills/test/genuine-type01a-001.png  \n",
            "  inflating: Doctor_Bills/test/genuine-type01a-024.png  \n",
            "  inflating: Doctor_Bills/test/genuine-type01a-029.png  \n",
            "  inflating: Doctor_Bills/test/genuine-type01b-007.png  \n",
            "  inflating: Doctor_Bills/test/genuine-type01b-012.png  \n",
            "  inflating: Doctor_Bills/test/genuine-type01b-020.png  \n",
            "  inflating: Doctor_Bills/test/genuine-type02-006.png  \n",
            "  inflating: Doctor_Bills/test/genuine-type02-008.png  \n",
            "  inflating: Doctor_Bills/test/genuine-type02-039.png  \n",
            "   creating: Doctor_Bills/test_bb/\n",
            "   creating: Doctor_Bills/test_bm/\n",
            "   creating: Doctor_Bills/train/\n",
            "  inflating: Doctor_Bills/train/genuine-type01a-002.png  \n",
            "  inflating: Doctor_Bills/train/genuine-type01a-003.png  \n",
            "  inflating: Doctor_Bills/train/genuine-type01a-004.png  \n",
            "  inflating: Doctor_Bills/train/genuine-type01a-005.png  \n",
            "  inflating: Doctor_Bills/train/genuine-type01a-007.png  \n",
            "  inflating: Doctor_Bills/train/genuine-type01a-008.png  \n",
            "  inflating: Doctor_Bills/train/genuine-type01a-009.png  \n",
            "  inflating: Doctor_Bills/train/genuine-type01a-011.png  \n",
            "  inflating: Doctor_Bills/train/genuine-type01a-012.png  \n",
            "  inflating: Doctor_Bills/train/genuine-type01a-013.png  \n",
            "  inflating: Doctor_Bills/train/genuine-type01a-014.png  \n",
            "  inflating: Doctor_Bills/train/genuine-type01a-015.png  \n",
            "  inflating: Doctor_Bills/train/genuine-type01a-016.png  \n",
            "  inflating: Doctor_Bills/train/genuine-type01a-017.png  \n",
            "  inflating: Doctor_Bills/train/genuine-type01a-018.png  \n",
            "  inflating: Doctor_Bills/train/genuine-type01a-019.png  \n",
            "  inflating: Doctor_Bills/train/genuine-type01a-020.png  \n",
            "  inflating: Doctor_Bills/train/genuine-type01a-021.png  \n",
            "  inflating: Doctor_Bills/train/genuine-type01a-022.png  \n",
            "  inflating: Doctor_Bills/train/genuine-type01a-023.png  \n",
            "  inflating: Doctor_Bills/train/genuine-type01a-025.png  \n",
            "  inflating: Doctor_Bills/train/genuine-type01a-026.png  \n",
            "  inflating: Doctor_Bills/train/genuine-type01a-027.png  \n",
            "  inflating: Doctor_Bills/train/genuine-type01a-030.png  \n",
            "  inflating: Doctor_Bills/train/genuine-type01b-001.png  \n",
            "  inflating: Doctor_Bills/train/genuine-type01b-002.png  \n",
            "  inflating: Doctor_Bills/train/genuine-type01b-003.png  \n",
            "  inflating: Doctor_Bills/train/genuine-type01b-004.png  \n",
            "  inflating: Doctor_Bills/train/genuine-type01b-005.png  \n",
            "  inflating: Doctor_Bills/train/genuine-type01b-006.png  \n",
            "  inflating: Doctor_Bills/train/genuine-type01b-008.png  \n",
            "  inflating: Doctor_Bills/train/genuine-type01b-010.png  \n",
            "  inflating: Doctor_Bills/train/genuine-type01b-011.png  \n",
            "  inflating: Doctor_Bills/train/genuine-type01b-013.png  \n",
            "  inflating: Doctor_Bills/train/genuine-type01b-014.png  \n",
            "  inflating: Doctor_Bills/train/genuine-type01b-015.png  \n",
            "  inflating: Doctor_Bills/train/genuine-type01b-017.png  \n",
            "  inflating: Doctor_Bills/train/genuine-type01b-018.png  \n",
            "  inflating: Doctor_Bills/train/genuine-type01b-019.png  \n",
            "  inflating: Doctor_Bills/train/genuine-type02-001.png  \n",
            "  inflating: Doctor_Bills/train/genuine-type02-002.png  \n",
            "  inflating: Doctor_Bills/train/genuine-type02-003.png  \n",
            "  inflating: Doctor_Bills/train/genuine-type02-004.png  \n",
            "  inflating: Doctor_Bills/train/genuine-type02-007.png  \n",
            "  inflating: Doctor_Bills/train/genuine-type02-009.png  \n",
            "  inflating: Doctor_Bills/train/genuine-type02-010.png  \n",
            "  inflating: Doctor_Bills/train/genuine-type02-011.png  \n",
            "  inflating: Doctor_Bills/train/genuine-type02-012.png  \n",
            "  inflating: Doctor_Bills/train/genuine-type02-013.png  \n",
            "  inflating: Doctor_Bills/train/genuine-type02-014.png  \n",
            "  inflating: Doctor_Bills/train/genuine-type02-015.png  \n",
            "  inflating: Doctor_Bills/train/genuine-type02-016.png  \n",
            "  inflating: Doctor_Bills/train/genuine-type02-017.png  \n",
            "  inflating: Doctor_Bills/train/genuine-type02-018.png  \n",
            "  inflating: Doctor_Bills/train/genuine-type02-019.png  \n",
            "  inflating: Doctor_Bills/train/genuine-type02-020.png  \n",
            "  inflating: Doctor_Bills/train/genuine-type02-022.png  \n",
            "  inflating: Doctor_Bills/train/genuine-type02-023.png  \n",
            "  inflating: Doctor_Bills/train/genuine-type02-024.png  \n",
            "  inflating: Doctor_Bills/train/genuine-type02-025.png  \n",
            "  inflating: Doctor_Bills/train/genuine-type02-026.png  \n",
            "  inflating: Doctor_Bills/train/genuine-type02-027.png  \n",
            "  inflating: Doctor_Bills/train/genuine-type02-028.png  \n",
            "  inflating: Doctor_Bills/train/genuine-type02-029.png  \n",
            "  inflating: Doctor_Bills/train/genuine-type02-030.png  \n",
            "  inflating: Doctor_Bills/train/genuine-type02-031.png  \n",
            "  inflating: Doctor_Bills/train/genuine-type02-032.png  \n",
            "  inflating: Doctor_Bills/train/genuine-type02-034.png  \n",
            "  inflating: Doctor_Bills/train/genuine-type02-035.png  \n",
            "  inflating: Doctor_Bills/train/genuine-type02-036.png  \n",
            "  inflating: Doctor_Bills/train/genuine-type02-037.png  \n",
            "  inflating: Doctor_Bills/train/genuine-type02-038.png  \n",
            "   creating: Doctor_Bills/train_bb/\n",
            "   creating: Doctor_Bills/train_bm/\n",
            "   creating: Doctor_Bills/val/\n",
            "  inflating: Doctor_Bills/val/genuine-type01a-006.png  \n",
            "  inflating: Doctor_Bills/val/genuine-type01a-010.png  \n",
            "  inflating: Doctor_Bills/val/genuine-type01a-028.png  \n",
            "  inflating: Doctor_Bills/val/genuine-type01b-009.png  \n",
            "  inflating: Doctor_Bills/val/genuine-type01b-016.png  \n",
            "  inflating: Doctor_Bills/val/genuine-type02-005.png  \n",
            "  inflating: Doctor_Bills/val/genuine-type02-021.png  \n",
            "  inflating: Doctor_Bills/val/genuine-type02-033.png  \n",
            "  inflating: Doctor_Bills/val/genuine-type02-040.png  \n",
            "   creating: Doctor_Bills/val_bb/\n",
            "   creating: Doctor_Bills/val_bm/\n"
          ]
        }
      ]
    },
    {
      "cell_type": "code",
      "source": [
        "import pytesseract\n",
        "pytesseract.pytesseract.tesseract_cmd = (\n",
        "    r'/usr/bin/tesseract'\n",
        ")"
      ],
      "metadata": {
        "id": "28pW7N6TeOkE"
      },
      "execution_count": 8,
      "outputs": []
    },
    {
      "cell_type": "code",
      "source": [
        "# from PIL import Image\n",
        "# import pytesseract\n",
        "\n",
        "# def extract_text_from_image(image_path):\n",
        "#     image = Image.open(image_path)\n",
        "#     text = pytesseract.image_to_string(image)\n",
        "#     return text\n",
        "\n",
        "# # Example usage\n",
        "# image_path = '/content/genuine-type01a-001.png'\n",
        "# extracted_text = extract_text_from_image(image_path)\n",
        "# print(\"Extracted Text:\", extracted_text)\n",
        "\n",
        "\n",
        "# from fontTools.ttLib import TTFont\n",
        "# from fontTools.unicode import Unicode\n",
        "# import os\n",
        "\n",
        "# def get_font_name(font_path):\n",
        "#     font = TTFont(font_path)\n",
        "#     for record in font['name'].names:\n",
        "#         if record.nameID == 1 and record.platformID == 3:\n",
        "#             return record.string.decode('utf-16-be')\n",
        "#     return None\n",
        "\n",
        "# def find_matching_fonts(extracted_text, fonts_directory):\n",
        "#     matching_fonts = []\n",
        "#     for font_file in os.listdir(fonts_directory):\n",
        "#         if font_file.endswith('.ttf') or font_file.endswith('.otf'):\n",
        "#             font_path = os.path.join(fonts_directory, font_file)\n",
        "#             font_name = get_font_name(font_path)\n",
        "#             if font_name:\n",
        "#                 matching_fonts.append(font_name)\n",
        "#     return matching_fonts\n",
        "\n",
        "# # Example usage\n",
        "# fonts_directory = '/content/Fonts'\n",
        "# matching_fonts = find_matching_fonts(extracted_text, fonts_directory)\n",
        "# print(\"Matching Fonts:\", matching_fonts)\n"
      ],
      "metadata": {
        "id": "DJe1bP3acGK1"
      },
      "execution_count": null,
      "outputs": []
    },
    {
      "cell_type": "code",
      "source": [
        "!rm -r /content/Doctor_Bills/test/test_bb"
      ],
      "metadata": {
        "id": "RQyjUoQZ9fFs"
      },
      "execution_count": 95,
      "outputs": []
    },
    {
      "cell_type": "code",
      "source": [
        "from PIL import Image\n",
        "import os\n",
        "\n",
        "def crop_image(image_path, crop_top, crop_left, crop_bottom, crop_right):\n",
        "    \"\"\"\n",
        "    Crop an image using the specified dimensions and save it with the same name.\n",
        "\n",
        "    Args:\n",
        "    - image_path (str): Path to the original image file.\n",
        "    - crop_top (int): Number of pixels to crop from the top.\n",
        "    - crop_left (int): Number of pixels to crop from the left.\n",
        "    - crop_bottom (int): Number of pixels to crop from the bottom.\n",
        "    - crop_right (int): Number of pixels to crop from the right.\n",
        "    \"\"\"\n",
        "    # Open the original image\n",
        "    original_image = Image.open(image_path)\n",
        "\n",
        "    # Get the dimensions of the original image\n",
        "    width, height = original_image.size\n",
        "\n",
        "    # Calculate the coordinates for cropping\n",
        "    left = crop_left\n",
        "    upper = crop_top\n",
        "    right = width - crop_right   # Subtracting crop_right pixels from the width\n",
        "    lower = height - crop_bottom  # Subtracting crop_bottom pixels from the height\n",
        "\n",
        "    # Crop the image to the defined dimensions\n",
        "    cropped_image = original_image.crop((left, upper, right, lower))\n",
        "\n",
        "    # Save the cropped image with the same filename\n",
        "    cropped_image.save(image_path)\n",
        "\n",
        "# Function to iterate through a directory and apply cropping to each image\n",
        "def crop_images_in_directory(directory):\n",
        "    # Define cropping dimensions\n",
        "    crop_top = 370\n",
        "    crop_left = 220\n",
        "    crop_bottom = 370\n",
        "    crop_right = 210\n",
        "\n",
        "    # Iterate through each file in the directory\n",
        "    for root, _, files in os.walk(directory):\n",
        "        for file in files:\n",
        "            if file.endswith(('.png', '.jpg', '.jpeg')):  # Adjust file extensions as needed\n",
        "                file_path = os.path.join(root, file)\n",
        "                crop_image(file_path, crop_top, crop_left, crop_bottom, crop_right)\n",
        "\n",
        "# Paths to the main directories containing train, test, val folders\n",
        "main_folder = '/content/Doctor_Bills/'  # Replace with your main folder path\n",
        "\n",
        "# Apply cropping to train, test, and val folders\n",
        "train_folder = os.path.join(main_folder, 'train')\n",
        "test_folder = os.path.join(main_folder, 'test')\n",
        "val_folder = os.path.join(main_folder, 'val')\n",
        "\n",
        "crop_images_in_directory(train_folder)\n",
        "crop_images_in_directory(test_folder)\n",
        "crop_images_in_directory(val_folder)\n"
      ],
      "metadata": {
        "id": "gKpeDMu8cGNQ"
      },
      "execution_count": 82,
      "outputs": []
    },
    {
      "cell_type": "code",
      "source": [
        "from PIL import Image, ImageDraw, ImageFont\n",
        "import pytesseract\n",
        "import random\n",
        "import string\n",
        "import os\n",
        "\n",
        "# Configure tesseract command if needed\n",
        "# pytesseract.pytesseract.tesseract_cmd = r'C:\\Program Files\\Tesseract-OCR\\tesseract.exe'\n",
        "\n",
        "def extract_text_with_boxes(image_path):\n",
        "    image = Image.open(image_path)\n",
        "    data = pytesseract.image_to_data(image, output_type=pytesseract.Output.DICT)\n",
        "    boxes = []\n",
        "    for i in range(len(data['text'])):\n",
        "        if int(data['conf'][i]) > 0:\n",
        "            text = data['text'][i]\n",
        "            x, y, w, h = data['left'][i], data['top'][i], data['width'][i], data['height'][i]\n",
        "            boxes.append((text, (x, y, w, h)))\n",
        "    return boxes\n",
        "\n",
        "def get_font_name(font_path):\n",
        "    font = TTFont(font_path)\n",
        "    for record in font['name'].names:\n",
        "        if record.nameID == 1 and record.platformID == 3:\n",
        "            return record.string.decode('utf-16-be')\n",
        "        elif record.nameID == 1 and record.platformID == 1:\n",
        "            return record.string.decode('latin-1')\n",
        "    return None\n",
        "\n",
        "def find_matching_fonts(extracted_text, fonts_directory):\n",
        "    matching_fonts = []\n",
        "    for font_file in os.listdir(fonts_directory):\n",
        "        if font_file.endswith('.ttf') or font_file.endswith('.otf'):\n",
        "            font_path = os.path.join(fonts_directory, font_file)\n",
        "            font_name = get_font_name(font_path)\n",
        "            if font_name:\n",
        "                matching_fonts.append((font_name, font_path))\n",
        "    return matching_fonts\n",
        "\n",
        "def find_font_size(image_path, box, font_path):\n",
        "    image = Image.open(image_path)\n",
        "    draw = ImageDraw.Draw(image)\n",
        "    (x, y, w, h) = box\n",
        "    font_size = 1\n",
        "    font = ImageFont.truetype(font_path, font_size)\n",
        "\n",
        "    # Increase font size until it fits within the bounding box\n",
        "    while font.getsize('A')[1] < h:\n",
        "        font_size += 1\n",
        "        font = ImageFont.truetype(font_path, font_size)\n",
        "\n",
        "    return font_size - 1  # Subtract 1 to ensure the font fits within the bounding box\n",
        "\n",
        "def scramble_text(text):\n",
        "    # Only scramble alphanumeric characters (letters and digits)\n",
        "    characters = list(text)\n",
        "    alphanum_indices = [idx for idx, char in enumerate(characters) if char.isalnum()]\n",
        "    random.shuffle(alphanum_indices)\n",
        "    scrambled_text = list(text)\n",
        "    for i, idx in enumerate(alphanum_indices):\n",
        "        scrambled_text[idx] = characters[i]\n",
        "    return ''.join(scrambled_text)\n",
        "\n",
        "def add_text_to_image(image, text, box, font_path, font_size):\n",
        "    draw = ImageDraw.Draw(image)\n",
        "    font = ImageFont.truetype(font_path, font_size)\n",
        "    (x, y, w, h) = box\n",
        "\n",
        "    # Erase the old text by drawing a white rectangle over it\n",
        "    draw.rectangle([x, y, x + w, y + h], fill=\"white\")\n",
        "\n",
        "    # Add new text to the bounding box\n",
        "    draw.text((x, y), text, font=font, fill='black')\n",
        "\n",
        "def create_binary_mask(image_size, boxes, modified_boxes):\n",
        "    mask = Image.new('1', image_size, color=0)  # Binary mask (0: black, 1: white)\n",
        "    draw = ImageDraw.Draw(mask)\n",
        "\n",
        "    for _, box in boxes:\n",
        "        if box in modified_boxes:\n",
        "            (x, y, w, h) = box\n",
        "            draw.rectangle([x, y, x + w, y + h], fill=1)  # Mark the modified area as white\n",
        "        else:\n",
        "            (x, y, w, h) = box\n",
        "            draw.rectangle([x, y, x + w, y + h], fill=0)  # Mark the unmodified area as black\n",
        "\n",
        "    return mask\n",
        "\n",
        "def apply_forgery_and_save(image_path, fonts_directory, output_folder):\n",
        "    # Extract text and their bounding boxes\n",
        "    boxes = extract_text_with_boxes(image_path)\n",
        "\n",
        "    # Find matching fonts (this should be done in a more sophisticated way in a real application)\n",
        "    matching_fonts = find_matching_fonts([text for text, _ in boxes], fonts_directory)\n",
        "\n",
        "    if boxes and matching_fonts:\n",
        "        total_bounding_boxes = len(boxes)\n",
        "\n",
        "        # Create a copy of the original image to work on\n",
        "        modified_image = Image.open(image_path).copy()\n",
        "\n",
        "        # Select 30% of the bounding boxes randomly\n",
        "        num_boxes_to_modify = max(1, len(boxes) * 3 // 10)  # 30% of total bounding boxes\n",
        "        selected_boxes = random.sample(boxes, num_boxes_to_modify)\n",
        "        modified_boxes = []\n",
        "\n",
        "        for selected_box in selected_boxes:\n",
        "            text_in_box, box = selected_box\n",
        "\n",
        "            # Get the font path for the text in the selected bounding box\n",
        "            font_path = matching_fonts[0][1]  # Assuming the first matching font is the right one\n",
        "\n",
        "            # Find the font size that fits in the bounding box\n",
        "            font_size = find_font_size(image_path, box, font_path)\n",
        "\n",
        "            # Scramble the original text\n",
        "            scrambled_text = scramble_text(text_in_box)\n",
        "\n",
        "            # Add new text (scrambled) to the bounding box in the modified image\n",
        "            add_text_to_image(modified_image, scrambled_text, box, font_path, font_size)\n",
        "\n",
        "            # Record modified box for the binary mask\n",
        "            modified_boxes.append(box)\n",
        "\n",
        "        # Determine if the image has forgeries (modifications)\n",
        "        has_forgery = len(modified_boxes) > 0\n",
        "\n",
        "        # Save the modified image to the output folder\n",
        "        output_image_folder = os.path.join(output_folder, '_bb')\n",
        "        os.makedirs(output_image_folder, exist_ok=True)\n",
        "        modified_image.save(os.path.join(output_image_folder, os.path.basename(image_path)))\n",
        "\n",
        "        # Create and save the binary mask\n",
        "        binary_mask = create_binary_mask(modified_image.size, boxes, modified_boxes)\n",
        "        binary_mask_folder = os.path.join(output_folder, '_bm')\n",
        "        os.makedirs(binary_mask_folder, exist_ok=True)\n",
        "        binary_mask.save(os.path.join(binary_mask_folder, os.path.basename(image_path)))\n",
        "\n",
        "        return True, total_bounding_boxes, num_boxes_to_modify\n",
        "    else:\n",
        "        return False, 0, 0\n",
        "\n",
        "# Example usage for train, val, test folders\n",
        "main_folder = '/content/Doctor_Bills/'  # Replace with your main folder path\n",
        "selected_image_paths = train_images\n",
        "\n",
        "fonts_directory = '/content/Fonts'  # Replace with your fonts directory\n",
        "\n",
        "for image_path in selected_image_paths:\n",
        "    # output_folder = os.path.dirname(image_path)  # Output folder will be the same as original image folder\n",
        "    output_folder = '/content/Doctor_Bills/train'\n",
        "    success, total_bounding_boxes, num_boxes_to_modify = apply_forgery_and_save(image_path, fonts_directory, output_folder)\n",
        "    if success:\n",
        "        print(f\"Successfully modified {image_path}:\")\n",
        "        print(f\"Total bounding boxes found in the image: {total_bounding_boxes}\")\n",
        "        print(f\"Number of bounding boxes modified: {num_boxes_to_modify}\")\n",
        "        print(\"============================================\")\n",
        "    else:\n",
        "        print(f\"No text bounding boxes found in {image_path}. Skipping...\")\n",
        "        print(\"============================================\")\n"
      ],
      "metadata": {
        "colab": {
          "base_uri": "https://localhost:8080/"
        },
        "id": "wfAlC6k2cGPt",
        "outputId": "b516ceac-b993-4a21-8405-dc9d096006c5"
      },
      "execution_count": 98,
      "outputs": [
        {
          "output_type": "stream",
          "name": "stderr",
          "text": [
            "<ipython-input-98-cfecd45feffc>:48: DeprecationWarning: getsize is deprecated and will be removed in Pillow 10 (2023-07-01). Use getbbox or getlength instead.\n",
            "  while font.getsize('A')[1] < h:\n"
          ]
        },
        {
          "output_type": "stream",
          "name": "stdout",
          "text": [
            "Successfully modified /content/Doctor_Bills/train/genuine-type01a-023.png:\n",
            "Total bounding boxes found in the image: 264\n",
            "Number of bounding boxes modified: 79\n",
            "============================================\n",
            "Successfully modified /content/Doctor_Bills/train/genuine-type02-004.png:\n",
            "Total bounding boxes found in the image: 151\n",
            "Number of bounding boxes modified: 45\n",
            "============================================\n",
            "Successfully modified /content/Doctor_Bills/train/genuine-type02-038.png:\n",
            "Total bounding boxes found in the image: 150\n",
            "Number of bounding boxes modified: 45\n",
            "============================================\n",
            "Successfully modified /content/Doctor_Bills/train/genuine-type02-028.png:\n",
            "Total bounding boxes found in the image: 152\n",
            "Number of bounding boxes modified: 45\n",
            "============================================\n",
            "Successfully modified /content/Doctor_Bills/train/genuine-type02-016.png:\n",
            "Total bounding boxes found in the image: 151\n",
            "Number of bounding boxes modified: 45\n",
            "============================================\n",
            "Successfully modified /content/Doctor_Bills/train/genuine-type01b-004.png:\n",
            "Total bounding boxes found in the image: 294\n",
            "Number of bounding boxes modified: 88\n",
            "============================================\n",
            "Successfully modified /content/Doctor_Bills/train/genuine-type01b-008.png:\n",
            "Total bounding boxes found in the image: 270\n",
            "Number of bounding boxes modified: 81\n",
            "============================================\n",
            "Successfully modified /content/Doctor_Bills/train/genuine-type02-026.png:\n",
            "Total bounding boxes found in the image: 151\n",
            "Number of bounding boxes modified: 45\n",
            "============================================\n",
            "Successfully modified /content/Doctor_Bills/train/genuine-type01a-005.png:\n",
            "Total bounding boxes found in the image: 277\n",
            "Number of bounding boxes modified: 83\n",
            "============================================\n",
            "Successfully modified /content/Doctor_Bills/train/genuine-type01b-001.png:\n",
            "Total bounding boxes found in the image: 311\n",
            "Number of bounding boxes modified: 93\n",
            "============================================\n",
            "Successfully modified /content/Doctor_Bills/train/genuine-type01b-018.png:\n",
            "Total bounding boxes found in the image: 278\n",
            "Number of bounding boxes modified: 83\n",
            "============================================\n",
            "Successfully modified /content/Doctor_Bills/train/genuine-type02-023.png:\n",
            "Total bounding boxes found in the image: 158\n",
            "Number of bounding boxes modified: 47\n",
            "============================================\n",
            "Successfully modified /content/Doctor_Bills/train/genuine-type01a-007.png:\n",
            "Total bounding boxes found in the image: 280\n",
            "Number of bounding boxes modified: 84\n",
            "============================================\n",
            "Successfully modified /content/Doctor_Bills/train/genuine-type01a-011.png:\n",
            "Total bounding boxes found in the image: 252\n",
            "Number of bounding boxes modified: 75\n",
            "============================================\n",
            "Successfully modified /content/Doctor_Bills/train/genuine-type01a-020.png:\n",
            "Total bounding boxes found in the image: 281\n",
            "Number of bounding boxes modified: 84\n",
            "============================================\n",
            "Successfully modified /content/Doctor_Bills/train/genuine-type01a-002.png:\n",
            "Total bounding boxes found in the image: 260\n",
            "Number of bounding boxes modified: 78\n",
            "============================================\n",
            "Successfully modified /content/Doctor_Bills/train/genuine-type02-013.png:\n",
            "Total bounding boxes found in the image: 155\n",
            "Number of bounding boxes modified: 46\n",
            "============================================\n",
            "Successfully modified /content/Doctor_Bills/train/genuine-type01a-016.png:\n",
            "Total bounding boxes found in the image: 285\n",
            "Number of bounding boxes modified: 85\n",
            "============================================\n",
            "Successfully modified /content/Doctor_Bills/train/genuine-type02-010.png:\n",
            "Total bounding boxes found in the image: 160\n",
            "Number of bounding boxes modified: 48\n",
            "============================================\n",
            "Successfully modified /content/Doctor_Bills/train/genuine-type01a-018.png:\n",
            "Total bounding boxes found in the image: 271\n",
            "Number of bounding boxes modified: 81\n",
            "============================================\n",
            "Successfully modified /content/Doctor_Bills/train/genuine-type01a-025.png:\n",
            "Total bounding boxes found in the image: 254\n",
            "Number of bounding boxes modified: 76\n",
            "============================================\n",
            "Successfully modified /content/Doctor_Bills/train/genuine-type01a-009.png:\n",
            "Total bounding boxes found in the image: 246\n",
            "Number of bounding boxes modified: 73\n",
            "============================================\n",
            "Successfully modified /content/Doctor_Bills/train/genuine-type02-022.png:\n",
            "Total bounding boxes found in the image: 173\n",
            "Number of bounding boxes modified: 51\n",
            "============================================\n",
            "Successfully modified /content/Doctor_Bills/train/genuine-type02-001.png:\n",
            "Total bounding boxes found in the image: 162\n",
            "Number of bounding boxes modified: 48\n",
            "============================================\n"
          ]
        }
      ]
    },
    {
      "cell_type": "code",
      "source": [
        "import os\n",
        "\n",
        "def count_files_in_folder(folder_path):\n",
        "    # Initialize a counter for files\n",
        "    file_count = 0\n",
        "\n",
        "    # Iterate through all files in the folder\n",
        "    for _, _, files in os.walk(folder_path):\n",
        "        file_count += len(files)\n",
        "\n",
        "    return file_count\n",
        "\n",
        "# Example usage:\n",
        "folder_path = '/content/Doctor_Bills/train'  # Replace with your folder path\n",
        "num_files = count_files_in_folder(folder_path)\n",
        "print(f\"Number of files in '{folder_path}': {num_files}\")\n"
      ],
      "metadata": {
        "colab": {
          "base_uri": "https://localhost:8080/"
        },
        "id": "_fW9EpfHcGST",
        "outputId": "5dac78f2-0893-4f7f-b28a-6f6d0cce2f2c"
      },
      "execution_count": 90,
      "outputs": [
        {
          "output_type": "stream",
          "name": "stdout",
          "text": [
            "Number of files in '/content/Doctor_Bills/train': 72\n"
          ]
        }
      ]
    },
    {
      "cell_type": "code",
      "source": [
        "import os\n",
        "import random\n",
        "\n",
        "# Function to select 30% of images from a folder\n",
        "def select_30_percent_images(folder_path):\n",
        "    # List all files in the folder\n",
        "    all_files = os.listdir(folder_path)\n",
        "\n",
        "    # Filter image files (you can add more extensions if needed)\n",
        "    image_files = [file for file in all_files if file.lower().endswith(('.png', '.jpg', '.jpeg'))]\n",
        "\n",
        "    # Calculate number of files to select (30% of total)\n",
        "    num_files_to_select = int(len(image_files) / 3)\n",
        "    print(num_files_to_select)\n",
        "\n",
        "    # Randomly select 30% of images\n",
        "    selected_images = random.sample(image_files, num_files_to_select)\n",
        "\n",
        "    # Create list of full file paths\n",
        "    selected_image_paths = [os.path.join(folder_path, image) for image in selected_images]\n",
        "\n",
        "    return selected_image_paths\n",
        "\n",
        "# Example usage\n",
        "folder_path = '/content/Doctor_Bills/train'  # Replace with your folder path\n",
        "train_images = select_30_percent_images(folder_path)\n",
        "\n",
        "folder_path = '/content/Doctor_Bills/test'  # Replace with your folder path\n",
        "test_images = select_30_percent_images(folder_path)\n",
        "\n",
        "folder_path = '/content/Doctor_Bills/val'  # Replace with your folder path\n",
        "val_images = select_30_percent_images(folder_path)\n",
        "\n",
        "train_images\n",
        "\n",
        "# # Print the list of selected image paths\n",
        "# for image_path in selected_images:\n",
        "#     print(image_path)\n"
      ],
      "metadata": {
        "colab": {
          "base_uri": "https://localhost:8080/"
        },
        "id": "BdDLVQ2IcGVL",
        "outputId": "e9544b59-1b46-4c3f-9f91-439f107af773"
      },
      "execution_count": 92,
      "outputs": [
        {
          "output_type": "stream",
          "name": "stdout",
          "text": [
            "24\n",
            "3\n",
            "3\n"
          ]
        },
        {
          "output_type": "execute_result",
          "data": {
            "text/plain": [
              "['/content/Doctor_Bills/train/genuine-type01a-023.png',\n",
              " '/content/Doctor_Bills/train/genuine-type02-004.png',\n",
              " '/content/Doctor_Bills/train/genuine-type02-038.png',\n",
              " '/content/Doctor_Bills/train/genuine-type02-028.png',\n",
              " '/content/Doctor_Bills/train/genuine-type02-016.png',\n",
              " '/content/Doctor_Bills/train/genuine-type01b-004.png',\n",
              " '/content/Doctor_Bills/train/genuine-type01b-008.png',\n",
              " '/content/Doctor_Bills/train/genuine-type02-026.png',\n",
              " '/content/Doctor_Bills/train/genuine-type01a-005.png',\n",
              " '/content/Doctor_Bills/train/genuine-type01b-001.png',\n",
              " '/content/Doctor_Bills/train/genuine-type01b-018.png',\n",
              " '/content/Doctor_Bills/train/genuine-type02-023.png',\n",
              " '/content/Doctor_Bills/train/genuine-type01a-007.png',\n",
              " '/content/Doctor_Bills/train/genuine-type01a-011.png',\n",
              " '/content/Doctor_Bills/train/genuine-type01a-020.png',\n",
              " '/content/Doctor_Bills/train/genuine-type01a-002.png',\n",
              " '/content/Doctor_Bills/train/genuine-type02-013.png',\n",
              " '/content/Doctor_Bills/train/genuine-type01a-016.png',\n",
              " '/content/Doctor_Bills/train/genuine-type02-010.png',\n",
              " '/content/Doctor_Bills/train/genuine-type01a-018.png',\n",
              " '/content/Doctor_Bills/train/genuine-type01a-025.png',\n",
              " '/content/Doctor_Bills/train/genuine-type01a-009.png',\n",
              " '/content/Doctor_Bills/train/genuine-type02-022.png',\n",
              " '/content/Doctor_Bills/train/genuine-type02-001.png']"
            ]
          },
          "metadata": {},
          "execution_count": 92
        }
      ]
    },
    {
      "cell_type": "code",
      "source": [
        "from PIL import Image, ImageDraw\n",
        "import os\n",
        "\n",
        "def create_black_mask(image_path, mask_folder):\n",
        "    image = Image.open(image_path)\n",
        "    mask = Image.new('1', image.size, color=0)  # Binary mask (0: black)\n",
        "    mask.save(os.path.join(mask_folder, os.path.basename(image_path)))\n",
        "\n",
        "def copy_image_with_mask(image_path, destination_folder, mask_folder):\n",
        "    image_name = os.path.basename(image_path)\n",
        "    image = Image.open(image_path)\n",
        "    image.save(os.path.join(destination_folder, image_name))\n",
        "    create_black_mask(image_path, mask_folder)\n",
        "\n",
        "def main(source_folder, destination_folder, mask_folder, image_names_to_keep):\n",
        "    os.makedirs(destination_folder, exist_ok=True)\n",
        "    os.makedirs(mask_folder, exist_ok=True)\n",
        "\n",
        "    for root, _, files in os.walk(source_folder):\n",
        "        for file in files:\n",
        "            if file.lower().endswith(('.png', '.jpg', '.jpeg')):  # Adjust file extensions as needed\n",
        "                image_path = os.path.join(root, file)\n",
        "                if os.path.basename(image_path) not in image_names_to_keep:\n",
        "                    copy_image_with_mask(image_path, destination_folder, mask_folder)\n",
        "\n",
        "# Example usage\n",
        "source_folder = '/content/Doctor_Bills/val'\n",
        "destination_folder = '/content/Doctor_Bills/val_bb'\n",
        "mask_folder = '/content/Doctor_Bills/val_bm'\n",
        "image_names_to_keep = val_images  # List of image names to keep\n",
        "\n",
        "main(source_folder, destination_folder, mask_folder, image_names_to_keep)\n",
        "\n",
        "\n",
        "# Example usage\n",
        "source_folder = '/content/Doctor_Bills/train'\n",
        "destination_folder = '/content/Doctor_Bills/train_bb'\n",
        "mask_folder = '/content/Doctor_Bills/train_bm'\n",
        "image_names_to_keep = train_images  # List of image names to keep\n",
        "\n",
        "main(source_folder, destination_folder, mask_folder, image_names_to_keep)\n"
      ],
      "metadata": {
        "id": "zAZBXjvaRCFu"
      },
      "execution_count": 105,
      "outputs": []
    },
    {
      "cell_type": "code",
      "source": [
        "test_images"
      ],
      "metadata": {
        "colab": {
          "base_uri": "https://localhost:8080/"
        },
        "id": "KXNXrjbQSiKa",
        "outputId": "d2fe8657-4bfe-4c96-bcae-6851cbfd2816"
      },
      "execution_count": 104,
      "outputs": [
        {
          "output_type": "execute_result",
          "data": {
            "text/plain": [
              "['/content/Doctor_Bills/test/genuine-type02-039.png',\n",
              " '/content/Doctor_Bills/test/genuine-type02-008.png',\n",
              " '/content/Doctor_Bills/test/genuine-type01b-012.png']"
            ]
          },
          "metadata": {},
          "execution_count": 104
        }
      ]
    },
    {
      "cell_type": "code",
      "source": [
        "!rm -r /content/Doctor_Bills/test/_bb\n",
        "!rm -r /content/Doctor_Bills/test/_bm\n",
        "\n",
        "!rm -r /content/Doctor_Bills/val/_bb\n",
        "!rm -r /content/Doctor_Bills/val/_bm\n",
        "\n",
        "!rm -r /content/Doctor_Bills/train/_bb\n",
        "!rm -r /content/Doctor_Bills/train/_bm"
      ],
      "metadata": {
        "id": "uTSr9ojjRCIp"
      },
      "execution_count": 102,
      "outputs": []
    },
    {
      "cell_type": "code",
      "source": [
        "import os\n",
        "import shutil\n",
        "\n",
        "def move_images(source_folder, destination_folder):\n",
        "    # Create destination folder if it doesn't exist\n",
        "    os.makedirs(destination_folder, exist_ok=True)\n",
        "\n",
        "    # Iterate over files in source folder\n",
        "    for file_name in os.listdir(source_folder):\n",
        "        if file_name.lower().endswith(('.png', '.jpg', '.jpeg')):\n",
        "            source_path = os.path.join(source_folder, file_name)\n",
        "            destination_path = os.path.join(destination_folder, file_name)\n",
        "            shutil.move(source_path, destination_path)\n",
        "            print(f\"Moved {file_name} to {destination_folder}\")\n",
        "\n",
        "# Example usage\n",
        "source_folder = '/content/Doctor_Bills/train/_bb'\n",
        "destination_folder = '/content/Doctor_Bills/train_bb'\n",
        "\n",
        "move_images(source_folder, destination_folder)\n",
        "\n",
        "source_folder = '/content/Doctor_Bills/train/_bm'\n",
        "destination_folder = '/content/Doctor_Bills/train_bm'\n",
        "\n",
        "move_images(source_folder, destination_folder)\n"
      ],
      "metadata": {
        "colab": {
          "base_uri": "https://localhost:8080/"
        },
        "id": "n3Ee3g67RCKw",
        "outputId": "c196ae8b-71c9-496c-e880-eae279beb283"
      },
      "execution_count": 101,
      "outputs": [
        {
          "output_type": "stream",
          "name": "stdout",
          "text": [
            "Moved genuine-type01a-011.png to /content/Doctor_Bills/train_bb\n",
            "Moved genuine-type02-016.png to /content/Doctor_Bills/train_bb\n",
            "Moved genuine-type01a-025.png to /content/Doctor_Bills/train_bb\n",
            "Moved genuine-type02-028.png to /content/Doctor_Bills/train_bb\n",
            "Moved genuine-type01a-005.png to /content/Doctor_Bills/train_bb\n",
            "Moved genuine-type01b-018.png to /content/Doctor_Bills/train_bb\n",
            "Moved genuine-type01b-004.png to /content/Doctor_Bills/train_bb\n",
            "Moved genuine-type01b-008.png to /content/Doctor_Bills/train_bb\n",
            "Moved genuine-type01a-016.png to /content/Doctor_Bills/train_bb\n",
            "Moved genuine-type01a-002.png to /content/Doctor_Bills/train_bb\n",
            "Moved genuine-type01a-020.png to /content/Doctor_Bills/train_bb\n",
            "Moved genuine-type02-038.png to /content/Doctor_Bills/train_bb\n",
            "Moved genuine-type02-004.png to /content/Doctor_Bills/train_bb\n",
            "Moved genuine-type02-026.png to /content/Doctor_Bills/train_bb\n",
            "Moved genuine-type01b-001.png to /content/Doctor_Bills/train_bb\n",
            "Moved genuine-type02-022.png to /content/Doctor_Bills/train_bb\n",
            "Moved genuine-type02-001.png to /content/Doctor_Bills/train_bb\n",
            "Moved genuine-type02-023.png to /content/Doctor_Bills/train_bb\n",
            "Moved genuine-type02-013.png to /content/Doctor_Bills/train_bb\n",
            "Moved genuine-type01a-009.png to /content/Doctor_Bills/train_bb\n",
            "Moved genuine-type02-010.png to /content/Doctor_Bills/train_bb\n",
            "Moved genuine-type01a-023.png to /content/Doctor_Bills/train_bb\n",
            "Moved genuine-type01a-007.png to /content/Doctor_Bills/train_bb\n",
            "Moved genuine-type01a-018.png to /content/Doctor_Bills/train_bb\n",
            "Moved genuine-type01a-011.png to /content/Doctor_Bills/train_bm\n",
            "Moved genuine-type02-016.png to /content/Doctor_Bills/train_bm\n",
            "Moved genuine-type01a-025.png to /content/Doctor_Bills/train_bm\n",
            "Moved genuine-type02-028.png to /content/Doctor_Bills/train_bm\n",
            "Moved genuine-type01a-005.png to /content/Doctor_Bills/train_bm\n",
            "Moved genuine-type01b-018.png to /content/Doctor_Bills/train_bm\n",
            "Moved genuine-type01b-004.png to /content/Doctor_Bills/train_bm\n",
            "Moved genuine-type01b-008.png to /content/Doctor_Bills/train_bm\n",
            "Moved genuine-type01a-016.png to /content/Doctor_Bills/train_bm\n",
            "Moved genuine-type01a-002.png to /content/Doctor_Bills/train_bm\n",
            "Moved genuine-type01a-020.png to /content/Doctor_Bills/train_bm\n",
            "Moved genuine-type02-038.png to /content/Doctor_Bills/train_bm\n",
            "Moved genuine-type02-004.png to /content/Doctor_Bills/train_bm\n",
            "Moved genuine-type02-026.png to /content/Doctor_Bills/train_bm\n",
            "Moved genuine-type01b-001.png to /content/Doctor_Bills/train_bm\n",
            "Moved genuine-type02-022.png to /content/Doctor_Bills/train_bm\n",
            "Moved genuine-type02-001.png to /content/Doctor_Bills/train_bm\n",
            "Moved genuine-type02-023.png to /content/Doctor_Bills/train_bm\n",
            "Moved genuine-type02-013.png to /content/Doctor_Bills/train_bm\n",
            "Moved genuine-type01a-009.png to /content/Doctor_Bills/train_bm\n",
            "Moved genuine-type02-010.png to /content/Doctor_Bills/train_bm\n",
            "Moved genuine-type01a-023.png to /content/Doctor_Bills/train_bm\n",
            "Moved genuine-type01a-007.png to /content/Doctor_Bills/train_bm\n",
            "Moved genuine-type01a-018.png to /content/Doctor_Bills/train_bm\n"
          ]
        }
      ]
    },
    {
      "cell_type": "code",
      "source": [
        "import shutil\n",
        "shutil.make_archive('doctor_bills', 'zip', '/content/Doctor_Bills')"
      ],
      "metadata": {
        "colab": {
          "base_uri": "https://localhost:8080/",
          "height": 36
        },
        "id": "3YvM1GSuTGev",
        "outputId": "52139aa2-c3bf-4a46-d75c-c5c37eaba58f"
      },
      "execution_count": 108,
      "outputs": [
        {
          "output_type": "execute_result",
          "data": {
            "text/plain": [
              "'/content/doctor_bills.zip'"
            ],
            "application/vnd.google.colaboratory.intrinsic+json": {
              "type": "string"
            }
          },
          "metadata": {},
          "execution_count": 108
        }
      ]
    },
    {
      "cell_type": "code",
      "source": [
        "# !rm -r /content/test\n",
        "# !rm -r /content/test_bm\n",
        "# !rm -r /content/test_bb\n",
        "\n",
        "# !rm -r /content/val\n",
        "# !rm -r /content/val_bm\n",
        "# !rm -r /content/val_bb\n",
        "\n",
        "# !rm -r /content/train\n",
        "# !rm -r /content/train_bm\n",
        "# !rm -r /content/train_bb"
      ],
      "metadata": {
        "id": "YskTTPtYTGhg"
      },
      "execution_count": 4,
      "outputs": []
    },
    {
      "cell_type": "markdown",
      "source": [
        "# Split into Patches"
      ],
      "metadata": {
        "id": "3vIUEaSVwmg9"
      }
    },
    {
      "cell_type": "code",
      "source": [
        "!mkdir doctor_bills\n",
        "!unzip /content/drive/MyDrive/doctor_bills.zip -d /content/doctor_bills"
      ],
      "metadata": {
        "id": "9l3PTGe0wlmx"
      },
      "execution_count": null,
      "outputs": []
    },
    {
      "cell_type": "code",
      "source": [
        "!mkdir /content/doctor_bills/train_patches\n",
        "!mkdir /content/doctor_bills/train_patches_masks\n",
        "!mkdir /content/doctor_bills/train_patches_bm\n",
        "\n",
        "!mkdir /content/doctor_bills/test_patches\n",
        "!mkdir /content/doctor_bills/test_patches_masks\n",
        "!mkdir /content/doctor_bills/test_patches_bm\n",
        "\n",
        "!mkdir /content/doctor_bills/val_patches\n",
        "!mkdir /content/doctor_bills/val_patches_masks\n",
        "!mkdir /content/doctor_bills/val_patches_bm\n",
        "\n"
      ],
      "metadata": {
        "colab": {
          "base_uri": "https://localhost:8080/"
        },
        "id": "rmJlqWmiwlpT",
        "outputId": "6e9cced1-0ace-4049-d9f2-3ec285abe275"
      },
      "execution_count": 10,
      "outputs": [
        {
          "output_type": "stream",
          "name": "stdout",
          "text": [
            "mkdir: cannot create directory ‘/content/doctor_bills/train_patches’: File exists\n",
            "mkdir: cannot create directory ‘/content/doctor_bills/train_patches_masks’: File exists\n",
            "mkdir: cannot create directory ‘/content/doctor_bills/train_patches_bm’: File exists\n",
            "mkdir: cannot create directory ‘/content/doctor_bills/test_patches’: File exists\n",
            "mkdir: cannot create directory ‘/content/doctor_bills/test_patches_masks’: File exists\n",
            "mkdir: cannot create directory ‘/content/doctor_bills/test_patches_bm’: File exists\n",
            "mkdir: cannot create directory ‘/content/doctor_bills/val_patches_masks’: File exists\n",
            "mkdir: cannot create directory ‘/content/doctor_bills/val_patches_bm’: File exists\n"
          ]
        }
      ]
    },
    {
      "cell_type": "code",
      "source": [
        "!rm -r /content/doctor_bills/val_patches"
      ],
      "metadata": {
        "id": "Q8pokrRdz45T"
      },
      "execution_count": 9,
      "outputs": []
    },
    {
      "cell_type": "code",
      "source": [
        "import cv2\n",
        "import os\n",
        "import numpy as np\n",
        "from PIL import Image\n",
        "\n",
        "def resize_to_nearest_multiple(image, patch_size):\n",
        "    \"\"\"Resize image to the nearest dimensions that are multiples of patch_size.\"\"\"\n",
        "    h, w = image.shape[:2]\n",
        "    new_h = (h // patch_size) * patch_size\n",
        "    new_w = (w // patch_size) * patch_size\n",
        "    resized_image = cv2.resize(image, (new_w, new_h))\n",
        "    return resized_image\n",
        "\n",
        "def split_into_patches(image, patch_size):\n",
        "    \"\"\"Split image into patches of size patch_size x patch_size.\"\"\"\n",
        "    patches = []\n",
        "    h, w = image.shape[:2]\n",
        "    for y in range(0, h, patch_size):\n",
        "        for x in range(0, w, patch_size):\n",
        "            patch = image[y:y+patch_size, x:x+patch_size]\n",
        "            patches.append(patch)\n",
        "    return patches\n",
        "\n",
        "def save_patches(patches, output_dir, base_name):\n",
        "    \"\"\"Save the patches to the specified directory.\"\"\"\n",
        "    if not os.path.exists(output_dir):\n",
        "        os.makedirs(output_dir)\n",
        "    for idx, patch in enumerate(patches):\n",
        "        patch_filename = f\"{base_name}_patch_{idx}.png\"\n",
        "        cv2.imwrite(os.path.join(output_dir, patch_filename), patch)\n",
        "\n",
        "def process_folder(input_folder, output_folder, patch_size=256):\n",
        "    \"\"\"Process each image in the folder, resize, split into patches, and save the patches.\"\"\"\n",
        "    for root, _, files in os.walk(input_folder):\n",
        "        for file in files:\n",
        "            if file.endswith(('.png', '.jpg', '.jpeg')):  # Adjust file extensions as needed\n",
        "                image_path = os.path.join(root, file)\n",
        "                # Load image\n",
        "                image = cv2.imread(image_path)\n",
        "                if image is not None:\n",
        "                    # Resize image to the nearest multiple of 256\n",
        "                    resized_image = resize_to_nearest_multiple(image, patch_size)\n",
        "                    # Split the image into patches\n",
        "                    patches = split_into_patches(resized_image, patch_size)\n",
        "                    # Save the patches\n",
        "                    save_patches(patches, output_folder, os.path.splitext(file)[0])\n",
        "                    print(f\"Processed {file}: saved {len(patches)} patches to {output_folder}\")\n",
        "                else:\n",
        "                    print(f\"Failed to load {file}\")\n",
        "\n",
        "# Example usage\n",
        "# input_folder  = '/content/doctor_bills/train'\n",
        "# output_folder = input_folder + '_patches'  # Replace with your output folder path\n",
        "\n",
        "# input_folder  = '/content/doctor_bills/train_bb'\n",
        "# output_folder = '/content/doctor_bills/train_patches_masks'  # Replace with your output folder path\n",
        "\n",
        "input_folder  = '/content/doctor_bills/train_bm'\n",
        "output_folder = '/content/doctor_bills/train_patches_bm'  # Replace with your output folder path\n",
        "\n",
        "process_folder(input_folder, output_folder)\n"
      ],
      "metadata": {
        "colab": {
          "base_uri": "https://localhost:8080/"
        },
        "id": "Bt47B0S9wlrf",
        "outputId": "f05c1d93-a90f-41a9-b599-03904b8b2b67"
      },
      "execution_count": 21,
      "outputs": [
        {
          "output_type": "stream",
          "name": "stdout",
          "text": [
            "Processed genuine-type01a-019.png: saved 80 patches to /content/doctor_bills/train_patches_bm\n",
            "Processed genuine-type02-034.png: saved 80 patches to /content/doctor_bills/train_patches_bm\n",
            "Processed genuine-type02-018.png: saved 80 patches to /content/doctor_bills/train_patches_bm\n",
            "Processed genuine-type02-010.png: saved 80 patches to /content/doctor_bills/train_patches_bm\n",
            "Processed genuine-type01a-012.png: saved 80 patches to /content/doctor_bills/train_patches_bm\n",
            "Processed genuine-type01b-008.png: saved 80 patches to /content/doctor_bills/train_patches_bm\n",
            "Processed genuine-type02-019.png: saved 80 patches to /content/doctor_bills/train_patches_bm\n",
            "Processed genuine-type01b-001.png: saved 80 patches to /content/doctor_bills/train_patches_bm\n",
            "Processed genuine-type02-031.png: saved 80 patches to /content/doctor_bills/train_patches_bm\n",
            "Processed genuine-type02-038.png: saved 80 patches to /content/doctor_bills/train_patches_bm\n",
            "Processed genuine-type02-016.png: saved 80 patches to /content/doctor_bills/train_patches_bm\n",
            "Processed genuine-type01b-003.png: saved 80 patches to /content/doctor_bills/train_patches_bm\n",
            "Processed genuine-type01a-004.png: saved 80 patches to /content/doctor_bills/train_patches_bm\n",
            "Processed genuine-type02-011.png: saved 80 patches to /content/doctor_bills/train_patches_bm\n",
            "Processed genuine-type01b-015.png: saved 80 patches to /content/doctor_bills/train_patches_bm\n",
            "Processed genuine-type02-026.png: saved 80 patches to /content/doctor_bills/train_patches_bm\n",
            "Processed genuine-type01b-019.png: saved 80 patches to /content/doctor_bills/train_patches_bm\n",
            "Processed genuine-type02-004.png: saved 80 patches to /content/doctor_bills/train_patches_bm\n",
            "Processed genuine-type01a-025.png: saved 80 patches to /content/doctor_bills/train_patches_bm\n",
            "Processed genuine-type02-007.png: saved 80 patches to /content/doctor_bills/train_patches_bm\n",
            "Processed genuine-type01a-018.png: saved 80 patches to /content/doctor_bills/train_patches_bm\n",
            "Processed genuine-type02-037.png: saved 80 patches to /content/doctor_bills/train_patches_bm\n",
            "Processed genuine-type02-030.png: saved 80 patches to /content/doctor_bills/train_patches_bm\n",
            "Processed genuine-type01a-014.png: saved 80 patches to /content/doctor_bills/train_patches_bm\n",
            "Processed genuine-type02-025.png: saved 80 patches to /content/doctor_bills/train_patches_bm\n",
            "Processed genuine-type02-009.png: saved 80 patches to /content/doctor_bills/train_patches_bm\n",
            "Processed genuine-type01a-003.png: saved 80 patches to /content/doctor_bills/train_patches_bm\n",
            "Processed genuine-type01b-018.png: saved 80 patches to /content/doctor_bills/train_patches_bm\n",
            "Processed genuine-type02-029.png: saved 80 patches to /content/doctor_bills/train_patches_bm\n",
            "Processed genuine-type01a-005.png: saved 80 patches to /content/doctor_bills/train_patches_bm\n",
            "Processed genuine-type01b-017.png: saved 80 patches to /content/doctor_bills/train_patches_bm\n",
            "Processed genuine-type01b-005.png: saved 80 patches to /content/doctor_bills/train_patches_bm\n",
            "Processed genuine-type01a-015.png: saved 80 patches to /content/doctor_bills/train_patches_bm\n",
            "Processed genuine-type02-003.png: saved 80 patches to /content/doctor_bills/train_patches_bm\n",
            "Processed genuine-type02-024.png: saved 80 patches to /content/doctor_bills/train_patches_bm\n",
            "Processed genuine-type01b-010.png: saved 80 patches to /content/doctor_bills/train_patches_bm\n",
            "Processed genuine-type02-032.png: saved 80 patches to /content/doctor_bills/train_patches_bm\n",
            "Processed genuine-type02-017.png: saved 80 patches to /content/doctor_bills/train_patches_bm\n",
            "Processed genuine-type01b-014.png: saved 80 patches to /content/doctor_bills/train_patches_bm\n",
            "Processed genuine-type02-012.png: saved 80 patches to /content/doctor_bills/train_patches_bm\n",
            "Processed genuine-type01a-016.png: saved 80 patches to /content/doctor_bills/train_patches_bm\n",
            "Processed genuine-type01b-013.png: saved 80 patches to /content/doctor_bills/train_patches_bm\n",
            "Processed genuine-type01b-006.png: saved 80 patches to /content/doctor_bills/train_patches_bm\n",
            "Processed genuine-type02-001.png: saved 80 patches to /content/doctor_bills/train_patches_bm\n",
            "Processed genuine-type01a-011.png: saved 80 patches to /content/doctor_bills/train_patches_bm\n",
            "Processed genuine-type01a-021.png: saved 80 patches to /content/doctor_bills/train_patches_bm\n",
            "Processed genuine-type01a-002.png: saved 80 patches to /content/doctor_bills/train_patches_bm\n",
            "Processed genuine-type01b-002.png: saved 80 patches to /content/doctor_bills/train_patches_bm\n",
            "Processed genuine-type02-035.png: saved 80 patches to /content/doctor_bills/train_patches_bm\n",
            "Processed genuine-type02-022.png: saved 80 patches to /content/doctor_bills/train_patches_bm\n",
            "Processed genuine-type02-028.png: saved 80 patches to /content/doctor_bills/train_patches_bm\n",
            "Processed genuine-type02-013.png: saved 80 patches to /content/doctor_bills/train_patches_bm\n",
            "Processed genuine-type01a-022.png: saved 80 patches to /content/doctor_bills/train_patches_bm\n",
            "Processed genuine-type02-014.png: saved 80 patches to /content/doctor_bills/train_patches_bm\n",
            "Processed genuine-type02-020.png: saved 80 patches to /content/doctor_bills/train_patches_bm\n",
            "Processed genuine-type01a-027.png: saved 80 patches to /content/doctor_bills/train_patches_bm\n",
            "Processed genuine-type01a-009.png: saved 80 patches to /content/doctor_bills/train_patches_bm\n",
            "Processed genuine-type01a-026.png: saved 80 patches to /content/doctor_bills/train_patches_bm\n",
            "Processed genuine-type01a-007.png: saved 80 patches to /content/doctor_bills/train_patches_bm\n",
            "Processed genuine-type01b-011.png: saved 80 patches to /content/doctor_bills/train_patches_bm\n",
            "Processed genuine-type01b-004.png: saved 80 patches to /content/doctor_bills/train_patches_bm\n",
            "Processed genuine-type02-015.png: saved 80 patches to /content/doctor_bills/train_patches_bm\n",
            "Processed genuine-type01a-017.png: saved 80 patches to /content/doctor_bills/train_patches_bm\n",
            "Processed genuine-type02-036.png: saved 80 patches to /content/doctor_bills/train_patches_bm\n",
            "Processed genuine-type02-023.png: saved 80 patches to /content/doctor_bills/train_patches_bm\n",
            "Processed genuine-type01a-030.png: saved 80 patches to /content/doctor_bills/train_patches_bm\n",
            "Processed genuine-type01a-020.png: saved 80 patches to /content/doctor_bills/train_patches_bm\n",
            "Processed genuine-type01a-013.png: saved 80 patches to /content/doctor_bills/train_patches_bm\n",
            "Processed genuine-type01a-023.png: saved 80 patches to /content/doctor_bills/train_patches_bm\n",
            "Processed genuine-type02-027.png: saved 80 patches to /content/doctor_bills/train_patches_bm\n",
            "Processed genuine-type02-002.png: saved 80 patches to /content/doctor_bills/train_patches_bm\n",
            "Processed genuine-type01a-008.png: saved 80 patches to /content/doctor_bills/train_patches_bm\n"
          ]
        }
      ]
    },
    {
      "cell_type": "code",
      "source": [
        "import os\n",
        "\n",
        "def count_files_in_folder(folder_path):\n",
        "    # Initialize a counter for files\n",
        "    file_count = 0\n",
        "\n",
        "    # Iterate through all files in the folder\n",
        "    for _, _, files in os.walk(folder_path):\n",
        "        file_count += len(files)\n",
        "\n",
        "    return file_count\n",
        "\n",
        "# Example usage:\n",
        "folder_path = '/content/doctor_bills/train_patches'  # Replace with your folder path\n",
        "num_files = count_files_in_folder(folder_path)\n",
        "print(f\"Number of files in '{folder_path}': {num_files}\")\n",
        "\n",
        "folder_path = '/content/doctor_bills/train_patches_masks'  # Replace with your folder path\n",
        "num_files = count_files_in_folder(folder_path)\n",
        "print(f\"Number of files in '{folder_path}': {num_files}\")\n",
        "\n",
        "folder_path = '/content/doctor_bills/train_patches_bm'  # Replace with your folder path\n",
        "num_files = count_files_in_folder(folder_path)\n",
        "print(f\"Number of files in '{folder_path}': {num_files}\")\n"
      ],
      "metadata": {
        "colab": {
          "base_uri": "https://localhost:8080/"
        },
        "id": "P6gZ0wmmwluH",
        "outputId": "97de3255-697e-4d60-e7af-f37ec0afdc2c"
      },
      "execution_count": 22,
      "outputs": [
        {
          "output_type": "stream",
          "name": "stdout",
          "text": [
            "Number of files in '/content/doctor_bills/train_patches': 5760\n",
            "Number of files in '/content/doctor_bills/train_patches_masks': 5760\n",
            "Number of files in '/content/doctor_bills/train_patches_bm': 5760\n"
          ]
        }
      ]
    },
    {
      "cell_type": "code",
      "source": [
        "!rm -r /content/doctor_bills/test\n",
        "!rm -r /content/doctor_bills/test_bb\n",
        "!rm -r /content/doctor_bills/test_bm\n",
        "\n",
        "!rm -r /content/doctor_bills/train\n",
        "!rm -r /content/doctor_bills/train_bb\n",
        "!rm -r /content/doctor_bills/train_bm\n",
        "\n",
        "!rm -r /content/doctor_bills/val\n",
        "!rm -r /content/doctor_bills/val_bb\n",
        "!rm -r /content/doctor_bills/val_bm"
      ],
      "metadata": {
        "id": "y3YKG5-ewlw4"
      },
      "execution_count": 23,
      "outputs": []
    },
    {
      "cell_type": "code",
      "source": [
        "import shutil\n",
        "shutil.make_archive('doctor_bills_patches', 'zip', '/content/doctor_bills')"
      ],
      "metadata": {
        "colab": {
          "base_uri": "https://localhost:8080/",
          "height": 36
        },
        "id": "ruTaztovwlzi",
        "outputId": "bf0115fa-a882-4305-c023-2bf95d6e2f39"
      },
      "execution_count": 24,
      "outputs": [
        {
          "output_type": "execute_result",
          "data": {
            "text/plain": [
              "'/content/doctor_bills_patches.zip'"
            ],
            "application/vnd.google.colaboratory.intrinsic+json": {
              "type": "string"
            }
          },
          "metadata": {},
          "execution_count": 24
        }
      ]
    },
    {
      "cell_type": "code",
      "source": [],
      "metadata": {
        "id": "4HgUwlTSwl2a"
      },
      "execution_count": null,
      "outputs": []
    },
    {
      "cell_type": "code",
      "source": [],
      "metadata": {
        "id": "oyzyzzUBwl4-"
      },
      "execution_count": null,
      "outputs": []
    },
    {
      "cell_type": "code",
      "source": [],
      "metadata": {
        "id": "prc_ljJSwl7a"
      },
      "execution_count": null,
      "outputs": []
    },
    {
      "cell_type": "code",
      "source": [],
      "metadata": {
        "id": "qphqSqvkwl-B"
      },
      "execution_count": null,
      "outputs": []
    }
  ]
}