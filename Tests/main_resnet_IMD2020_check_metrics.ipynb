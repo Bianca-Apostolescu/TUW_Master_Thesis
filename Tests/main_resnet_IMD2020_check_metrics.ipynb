{
  "cells": [
    {
      "cell_type": "code",
      "execution_count": 2,
      "metadata": {
        "collapsed": true,
        "id": "s8ijPGsW3cLU",
        "colab": {
          "base_uri": "https://localhost:8080/"
        },
        "outputId": "98cee76d-181d-4719-ad87-763594f662ad"
      },
      "outputs": [
        {
          "output_type": "stream",
          "name": "stdout",
          "text": [
            "Collecting segmentation_models_pytorch\n",
            "  Downloading segmentation_models_pytorch-0.3.3-py3-none-any.whl (106 kB)\n",
            "\u001b[?25l     \u001b[90m━━━━━━━━━━━━━━━━━━━━━━━━━━━━━━━━━━━━━━━━\u001b[0m \u001b[32m0.0/106.7 kB\u001b[0m \u001b[31m?\u001b[0m eta \u001b[36m-:--:--\u001b[0m\r\u001b[2K     \u001b[90m━━━━━━━━━━━━━━━━━━━━━━━━━━━━━━━━━━━━━━━━\u001b[0m \u001b[32m106.7/106.7 kB\u001b[0m \u001b[31m3.6 MB/s\u001b[0m eta \u001b[36m0:00:00\u001b[0m\n",
            "\u001b[?25hRequirement already satisfied: torchvision>=0.5.0 in /usr/local/lib/python3.10/dist-packages (from segmentation_models_pytorch) (0.18.0+cu121)\n",
            "Collecting pretrainedmodels==0.7.4 (from segmentation_models_pytorch)\n",
            "  Downloading pretrainedmodels-0.7.4.tar.gz (58 kB)\n",
            "\u001b[2K     \u001b[90m━━━━━━━━━━━━━━━━━━━━━━━━━━━━━━━━━━━━━━━━\u001b[0m \u001b[32m58.8/58.8 kB\u001b[0m \u001b[31m6.3 MB/s\u001b[0m eta \u001b[36m0:00:00\u001b[0m\n",
            "\u001b[?25h  Preparing metadata (setup.py) ... \u001b[?25l\u001b[?25hdone\n",
            "Collecting efficientnet-pytorch==0.7.1 (from segmentation_models_pytorch)\n",
            "  Downloading efficientnet_pytorch-0.7.1.tar.gz (21 kB)\n",
            "  Preparing metadata (setup.py) ... \u001b[?25l\u001b[?25hdone\n",
            "Collecting timm==0.9.2 (from segmentation_models_pytorch)\n",
            "  Downloading timm-0.9.2-py3-none-any.whl (2.2 MB)\n",
            "\u001b[2K     \u001b[90m━━━━━━━━━━━━━━━━━━━━━━━━━━━━━━━━━━━━━━━━\u001b[0m \u001b[32m2.2/2.2 MB\u001b[0m \u001b[31m13.9 MB/s\u001b[0m eta \u001b[36m0:00:00\u001b[0m\n",
            "\u001b[?25hRequirement already satisfied: tqdm in /usr/local/lib/python3.10/dist-packages (from segmentation_models_pytorch) (4.66.4)\n",
            "Requirement already satisfied: pillow in /usr/local/lib/python3.10/dist-packages (from segmentation_models_pytorch) (9.4.0)\n",
            "Requirement already satisfied: torch in /usr/local/lib/python3.10/dist-packages (from efficientnet-pytorch==0.7.1->segmentation_models_pytorch) (2.3.0+cu121)\n",
            "Collecting munch (from pretrainedmodels==0.7.4->segmentation_models_pytorch)\n",
            "  Downloading munch-4.0.0-py2.py3-none-any.whl (9.9 kB)\n",
            "Requirement already satisfied: pyyaml in /usr/local/lib/python3.10/dist-packages (from timm==0.9.2->segmentation_models_pytorch) (6.0.1)\n",
            "Requirement already satisfied: huggingface-hub in /usr/local/lib/python3.10/dist-packages (from timm==0.9.2->segmentation_models_pytorch) (0.23.1)\n",
            "Requirement already satisfied: safetensors in /usr/local/lib/python3.10/dist-packages (from timm==0.9.2->segmentation_models_pytorch) (0.4.3)\n",
            "Requirement already satisfied: numpy in /usr/local/lib/python3.10/dist-packages (from torchvision>=0.5.0->segmentation_models_pytorch) (1.25.2)\n",
            "Requirement already satisfied: filelock in /usr/local/lib/python3.10/dist-packages (from torch->efficientnet-pytorch==0.7.1->segmentation_models_pytorch) (3.14.0)\n",
            "Requirement already satisfied: typing-extensions>=4.8.0 in /usr/local/lib/python3.10/dist-packages (from torch->efficientnet-pytorch==0.7.1->segmentation_models_pytorch) (4.11.0)\n",
            "Requirement already satisfied: sympy in /usr/local/lib/python3.10/dist-packages (from torch->efficientnet-pytorch==0.7.1->segmentation_models_pytorch) (1.12)\n",
            "Requirement already satisfied: networkx in /usr/local/lib/python3.10/dist-packages (from torch->efficientnet-pytorch==0.7.1->segmentation_models_pytorch) (3.3)\n",
            "Requirement already satisfied: jinja2 in /usr/local/lib/python3.10/dist-packages (from torch->efficientnet-pytorch==0.7.1->segmentation_models_pytorch) (3.1.4)\n",
            "Requirement already satisfied: fsspec in /usr/local/lib/python3.10/dist-packages (from torch->efficientnet-pytorch==0.7.1->segmentation_models_pytorch) (2023.6.0)\n",
            "Collecting nvidia-cuda-nvrtc-cu12==12.1.105 (from torch->efficientnet-pytorch==0.7.1->segmentation_models_pytorch)\n",
            "  Using cached nvidia_cuda_nvrtc_cu12-12.1.105-py3-none-manylinux1_x86_64.whl (23.7 MB)\n",
            "Collecting nvidia-cuda-runtime-cu12==12.1.105 (from torch->efficientnet-pytorch==0.7.1->segmentation_models_pytorch)\n",
            "  Using cached nvidia_cuda_runtime_cu12-12.1.105-py3-none-manylinux1_x86_64.whl (823 kB)\n",
            "Collecting nvidia-cuda-cupti-cu12==12.1.105 (from torch->efficientnet-pytorch==0.7.1->segmentation_models_pytorch)\n",
            "  Using cached nvidia_cuda_cupti_cu12-12.1.105-py3-none-manylinux1_x86_64.whl (14.1 MB)\n",
            "Collecting nvidia-cudnn-cu12==8.9.2.26 (from torch->efficientnet-pytorch==0.7.1->segmentation_models_pytorch)\n",
            "  Using cached nvidia_cudnn_cu12-8.9.2.26-py3-none-manylinux1_x86_64.whl (731.7 MB)\n",
            "Collecting nvidia-cublas-cu12==12.1.3.1 (from torch->efficientnet-pytorch==0.7.1->segmentation_models_pytorch)\n",
            "  Using cached nvidia_cublas_cu12-12.1.3.1-py3-none-manylinux1_x86_64.whl (410.6 MB)\n",
            "Collecting nvidia-cufft-cu12==11.0.2.54 (from torch->efficientnet-pytorch==0.7.1->segmentation_models_pytorch)\n",
            "  Using cached nvidia_cufft_cu12-11.0.2.54-py3-none-manylinux1_x86_64.whl (121.6 MB)\n",
            "Collecting nvidia-curand-cu12==10.3.2.106 (from torch->efficientnet-pytorch==0.7.1->segmentation_models_pytorch)\n",
            "  Using cached nvidia_curand_cu12-10.3.2.106-py3-none-manylinux1_x86_64.whl (56.5 MB)\n",
            "Collecting nvidia-cusolver-cu12==11.4.5.107 (from torch->efficientnet-pytorch==0.7.1->segmentation_models_pytorch)\n",
            "  Using cached nvidia_cusolver_cu12-11.4.5.107-py3-none-manylinux1_x86_64.whl (124.2 MB)\n",
            "Collecting nvidia-cusparse-cu12==12.1.0.106 (from torch->efficientnet-pytorch==0.7.1->segmentation_models_pytorch)\n",
            "  Using cached nvidia_cusparse_cu12-12.1.0.106-py3-none-manylinux1_x86_64.whl (196.0 MB)\n",
            "Collecting nvidia-nccl-cu12==2.20.5 (from torch->efficientnet-pytorch==0.7.1->segmentation_models_pytorch)\n",
            "  Using cached nvidia_nccl_cu12-2.20.5-py3-none-manylinux2014_x86_64.whl (176.2 MB)\n",
            "Collecting nvidia-nvtx-cu12==12.1.105 (from torch->efficientnet-pytorch==0.7.1->segmentation_models_pytorch)\n",
            "  Using cached nvidia_nvtx_cu12-12.1.105-py3-none-manylinux1_x86_64.whl (99 kB)\n",
            "Requirement already satisfied: triton==2.3.0 in /usr/local/lib/python3.10/dist-packages (from torch->efficientnet-pytorch==0.7.1->segmentation_models_pytorch) (2.3.0)\n",
            "Collecting nvidia-nvjitlink-cu12 (from nvidia-cusolver-cu12==11.4.5.107->torch->efficientnet-pytorch==0.7.1->segmentation_models_pytorch)\n",
            "  Downloading nvidia_nvjitlink_cu12-12.5.40-py3-none-manylinux2014_x86_64.whl (21.3 MB)\n",
            "\u001b[2K     \u001b[90m━━━━━━━━━━━━━━━━━━━━━━━━━━━━━━━━━━━━━━━━\u001b[0m \u001b[32m21.3/21.3 MB\u001b[0m \u001b[31m60.3 MB/s\u001b[0m eta \u001b[36m0:00:00\u001b[0m\n",
            "\u001b[?25hRequirement already satisfied: packaging>=20.9 in /usr/local/lib/python3.10/dist-packages (from huggingface-hub->timm==0.9.2->segmentation_models_pytorch) (24.0)\n",
            "Requirement already satisfied: requests in /usr/local/lib/python3.10/dist-packages (from huggingface-hub->timm==0.9.2->segmentation_models_pytorch) (2.31.0)\n",
            "Requirement already satisfied: MarkupSafe>=2.0 in /usr/local/lib/python3.10/dist-packages (from jinja2->torch->efficientnet-pytorch==0.7.1->segmentation_models_pytorch) (2.1.5)\n",
            "Requirement already satisfied: charset-normalizer<4,>=2 in /usr/local/lib/python3.10/dist-packages (from requests->huggingface-hub->timm==0.9.2->segmentation_models_pytorch) (3.3.2)\n",
            "Requirement already satisfied: idna<4,>=2.5 in /usr/local/lib/python3.10/dist-packages (from requests->huggingface-hub->timm==0.9.2->segmentation_models_pytorch) (3.7)\n",
            "Requirement already satisfied: urllib3<3,>=1.21.1 in /usr/local/lib/python3.10/dist-packages (from requests->huggingface-hub->timm==0.9.2->segmentation_models_pytorch) (2.0.7)\n",
            "Requirement already satisfied: certifi>=2017.4.17 in /usr/local/lib/python3.10/dist-packages (from requests->huggingface-hub->timm==0.9.2->segmentation_models_pytorch) (2024.2.2)\n",
            "Requirement already satisfied: mpmath>=0.19 in /usr/local/lib/python3.10/dist-packages (from sympy->torch->efficientnet-pytorch==0.7.1->segmentation_models_pytorch) (1.3.0)\n",
            "Building wheels for collected packages: efficientnet-pytorch, pretrainedmodels\n",
            "  Building wheel for efficientnet-pytorch (setup.py) ... \u001b[?25l\u001b[?25hdone\n",
            "  Created wheel for efficientnet-pytorch: filename=efficientnet_pytorch-0.7.1-py3-none-any.whl size=16429 sha256=318c9e3fe5151dd0a4e459a6097a50bdabed6e712d4f0a5b1e2e4da2c6cbfecd\n",
            "  Stored in directory: /root/.cache/pip/wheels/03/3f/e9/911b1bc46869644912bda90a56bcf7b960f20b5187feea3baf\n",
            "  Building wheel for pretrainedmodels (setup.py) ... \u001b[?25l\u001b[?25hdone\n",
            "  Created wheel for pretrainedmodels: filename=pretrainedmodels-0.7.4-py3-none-any.whl size=60945 sha256=ceb930e501a7f62ebfb2fa10bdb27917b9df47594118365a8fbed1006e077376\n",
            "  Stored in directory: /root/.cache/pip/wheels/35/cb/a5/8f534c60142835bfc889f9a482e4a67e0b817032d9c6883b64\n",
            "Successfully built efficientnet-pytorch pretrainedmodels\n",
            "Installing collected packages: nvidia-nvtx-cu12, nvidia-nvjitlink-cu12, nvidia-nccl-cu12, nvidia-curand-cu12, nvidia-cufft-cu12, nvidia-cuda-runtime-cu12, nvidia-cuda-nvrtc-cu12, nvidia-cuda-cupti-cu12, nvidia-cublas-cu12, munch, nvidia-cusparse-cu12, nvidia-cudnn-cu12, nvidia-cusolver-cu12, efficientnet-pytorch, timm, pretrainedmodels, segmentation_models_pytorch\n",
            "Successfully installed efficientnet-pytorch-0.7.1 munch-4.0.0 nvidia-cublas-cu12-12.1.3.1 nvidia-cuda-cupti-cu12-12.1.105 nvidia-cuda-nvrtc-cu12-12.1.105 nvidia-cuda-runtime-cu12-12.1.105 nvidia-cudnn-cu12-8.9.2.26 nvidia-cufft-cu12-11.0.2.54 nvidia-curand-cu12-10.3.2.106 nvidia-cusolver-cu12-11.4.5.107 nvidia-cusparse-cu12-12.1.0.106 nvidia-nccl-cu12-2.20.5 nvidia-nvjitlink-cu12-12.5.40 nvidia-nvtx-cu12-12.1.105 pretrainedmodels-0.7.4 segmentation_models_pytorch-0.3.3 timm-0.9.2\n",
            "Collecting wandb\n",
            "  Downloading wandb-0.17.0-py3-none-manylinux_2_5_x86_64.manylinux1_x86_64.manylinux_2_17_x86_64.manylinux2014_x86_64.whl (6.7 MB)\n",
            "\u001b[2K     \u001b[90m━━━━━━━━━━━━━━━━━━━━━━━━━━━━━━━━━━━━━━━━\u001b[0m \u001b[32m6.7/6.7 MB\u001b[0m \u001b[31m20.0 MB/s\u001b[0m eta \u001b[36m0:00:00\u001b[0m\n",
            "\u001b[?25hRequirement already satisfied: click!=8.0.0,>=7.1 in /usr/local/lib/python3.10/dist-packages (from wandb) (8.1.7)\n",
            "Collecting docker-pycreds>=0.4.0 (from wandb)\n",
            "  Downloading docker_pycreds-0.4.0-py2.py3-none-any.whl (9.0 kB)\n",
            "Collecting gitpython!=3.1.29,>=1.0.0 (from wandb)\n",
            "  Downloading GitPython-3.1.43-py3-none-any.whl (207 kB)\n",
            "\u001b[2K     \u001b[90m━━━━━━━━━━━━━━━━━━━━━━━━━━━━━━━━━━━━━━━━\u001b[0m \u001b[32m207.3/207.3 kB\u001b[0m \u001b[31m27.8 MB/s\u001b[0m eta \u001b[36m0:00:00\u001b[0m\n",
            "\u001b[?25hRequirement already satisfied: platformdirs in /usr/local/lib/python3.10/dist-packages (from wandb) (4.2.2)\n",
            "Requirement already satisfied: protobuf!=4.21.0,<5,>=3.19.0 in /usr/local/lib/python3.10/dist-packages (from wandb) (3.20.3)\n",
            "Requirement already satisfied: psutil>=5.0.0 in /usr/local/lib/python3.10/dist-packages (from wandb) (5.9.5)\n",
            "Requirement already satisfied: pyyaml in /usr/local/lib/python3.10/dist-packages (from wandb) (6.0.1)\n",
            "Requirement already satisfied: requests<3,>=2.0.0 in /usr/local/lib/python3.10/dist-packages (from wandb) (2.31.0)\n",
            "Collecting sentry-sdk>=1.0.0 (from wandb)\n",
            "  Downloading sentry_sdk-2.3.1-py2.py3-none-any.whl (289 kB)\n",
            "\u001b[2K     \u001b[90m━━━━━━━━━━━━━━━━━━━━━━━━━━━━━━━━━━━━━━━━\u001b[0m \u001b[32m289.0/289.0 kB\u001b[0m \u001b[31m34.3 MB/s\u001b[0m eta \u001b[36m0:00:00\u001b[0m\n",
            "\u001b[?25hCollecting setproctitle (from wandb)\n",
            "  Downloading setproctitle-1.3.3-cp310-cp310-manylinux_2_5_x86_64.manylinux1_x86_64.manylinux_2_17_x86_64.manylinux2014_x86_64.whl (30 kB)\n",
            "Requirement already satisfied: setuptools in /usr/local/lib/python3.10/dist-packages (from wandb) (67.7.2)\n",
            "Requirement already satisfied: six>=1.4.0 in /usr/local/lib/python3.10/dist-packages (from docker-pycreds>=0.4.0->wandb) (1.16.0)\n",
            "Collecting gitdb<5,>=4.0.1 (from gitpython!=3.1.29,>=1.0.0->wandb)\n",
            "  Downloading gitdb-4.0.11-py3-none-any.whl (62 kB)\n",
            "\u001b[2K     \u001b[90m━━━━━━━━━━━━━━━━━━━━━━━━━━━━━━━━━━━━━━━━\u001b[0m \u001b[32m62.7/62.7 kB\u001b[0m \u001b[31m8.5 MB/s\u001b[0m eta \u001b[36m0:00:00\u001b[0m\n",
            "\u001b[?25hRequirement already satisfied: charset-normalizer<4,>=2 in /usr/local/lib/python3.10/dist-packages (from requests<3,>=2.0.0->wandb) (3.3.2)\n",
            "Requirement already satisfied: idna<4,>=2.5 in /usr/local/lib/python3.10/dist-packages (from requests<3,>=2.0.0->wandb) (3.7)\n",
            "Requirement already satisfied: urllib3<3,>=1.21.1 in /usr/local/lib/python3.10/dist-packages (from requests<3,>=2.0.0->wandb) (2.0.7)\n",
            "Requirement already satisfied: certifi>=2017.4.17 in /usr/local/lib/python3.10/dist-packages (from requests<3,>=2.0.0->wandb) (2024.2.2)\n",
            "Collecting smmap<6,>=3.0.1 (from gitdb<5,>=4.0.1->gitpython!=3.1.29,>=1.0.0->wandb)\n",
            "  Downloading smmap-5.0.1-py3-none-any.whl (24 kB)\n",
            "Installing collected packages: smmap, setproctitle, sentry-sdk, docker-pycreds, gitdb, gitpython, wandb\n",
            "Successfully installed docker-pycreds-0.4.0 gitdb-4.0.11 gitpython-3.1.43 sentry-sdk-2.3.1 setproctitle-1.3.3 smmap-5.0.1 wandb-0.17.0\n",
            "Collecting torcheval\n",
            "  Downloading torcheval-0.0.7-py3-none-any.whl (179 kB)\n",
            "\u001b[2K     \u001b[90m━━━━━━━━━━━━━━━━━━━━━━━━━━━━━━━━━━━━━━━━\u001b[0m \u001b[32m179.2/179.2 kB\u001b[0m \u001b[31m5.1 MB/s\u001b[0m eta \u001b[36m0:00:00\u001b[0m\n",
            "\u001b[?25hRequirement already satisfied: typing-extensions in /usr/local/lib/python3.10/dist-packages (from torcheval) (4.11.0)\n",
            "Installing collected packages: torcheval\n",
            "Successfully installed torcheval-0.0.7\n",
            "Collecting torchmetrics\n",
            "  Downloading torchmetrics-1.4.0.post0-py3-none-any.whl (868 kB)\n",
            "\u001b[2K     \u001b[90m━━━━━━━━━━━━━━━━━━━━━━━━━━━━━━━━━━━━━━━━\u001b[0m \u001b[32m868.8/868.8 kB\u001b[0m \u001b[31m7.4 MB/s\u001b[0m eta \u001b[36m0:00:00\u001b[0m\n",
            "\u001b[?25hRequirement already satisfied: numpy>1.20.0 in /usr/local/lib/python3.10/dist-packages (from torchmetrics) (1.25.2)\n",
            "Requirement already satisfied: packaging>17.1 in /usr/local/lib/python3.10/dist-packages (from torchmetrics) (24.0)\n",
            "Requirement already satisfied: torch>=1.10.0 in /usr/local/lib/python3.10/dist-packages (from torchmetrics) (2.3.0+cu121)\n",
            "Collecting lightning-utilities>=0.8.0 (from torchmetrics)\n",
            "  Downloading lightning_utilities-0.11.2-py3-none-any.whl (26 kB)\n",
            "Requirement already satisfied: setuptools in /usr/local/lib/python3.10/dist-packages (from lightning-utilities>=0.8.0->torchmetrics) (67.7.2)\n",
            "Requirement already satisfied: typing-extensions in /usr/local/lib/python3.10/dist-packages (from lightning-utilities>=0.8.0->torchmetrics) (4.11.0)\n",
            "Requirement already satisfied: filelock in /usr/local/lib/python3.10/dist-packages (from torch>=1.10.0->torchmetrics) (3.14.0)\n",
            "Requirement already satisfied: sympy in /usr/local/lib/python3.10/dist-packages (from torch>=1.10.0->torchmetrics) (1.12)\n",
            "Requirement already satisfied: networkx in /usr/local/lib/python3.10/dist-packages (from torch>=1.10.0->torchmetrics) (3.3)\n",
            "Requirement already satisfied: jinja2 in /usr/local/lib/python3.10/dist-packages (from torch>=1.10.0->torchmetrics) (3.1.4)\n",
            "Requirement already satisfied: fsspec in /usr/local/lib/python3.10/dist-packages (from torch>=1.10.0->torchmetrics) (2023.6.0)\n",
            "Requirement already satisfied: nvidia-cuda-nvrtc-cu12==12.1.105 in /usr/local/lib/python3.10/dist-packages (from torch>=1.10.0->torchmetrics) (12.1.105)\n",
            "Requirement already satisfied: nvidia-cuda-runtime-cu12==12.1.105 in /usr/local/lib/python3.10/dist-packages (from torch>=1.10.0->torchmetrics) (12.1.105)\n",
            "Requirement already satisfied: nvidia-cuda-cupti-cu12==12.1.105 in /usr/local/lib/python3.10/dist-packages (from torch>=1.10.0->torchmetrics) (12.1.105)\n",
            "Requirement already satisfied: nvidia-cudnn-cu12==8.9.2.26 in /usr/local/lib/python3.10/dist-packages (from torch>=1.10.0->torchmetrics) (8.9.2.26)\n",
            "Requirement already satisfied: nvidia-cublas-cu12==12.1.3.1 in /usr/local/lib/python3.10/dist-packages (from torch>=1.10.0->torchmetrics) (12.1.3.1)\n",
            "Requirement already satisfied: nvidia-cufft-cu12==11.0.2.54 in /usr/local/lib/python3.10/dist-packages (from torch>=1.10.0->torchmetrics) (11.0.2.54)\n",
            "Requirement already satisfied: nvidia-curand-cu12==10.3.2.106 in /usr/local/lib/python3.10/dist-packages (from torch>=1.10.0->torchmetrics) (10.3.2.106)\n",
            "Requirement already satisfied: nvidia-cusolver-cu12==11.4.5.107 in /usr/local/lib/python3.10/dist-packages (from torch>=1.10.0->torchmetrics) (11.4.5.107)\n",
            "Requirement already satisfied: nvidia-cusparse-cu12==12.1.0.106 in /usr/local/lib/python3.10/dist-packages (from torch>=1.10.0->torchmetrics) (12.1.0.106)\n",
            "Requirement already satisfied: nvidia-nccl-cu12==2.20.5 in /usr/local/lib/python3.10/dist-packages (from torch>=1.10.0->torchmetrics) (2.20.5)\n",
            "Requirement already satisfied: nvidia-nvtx-cu12==12.1.105 in /usr/local/lib/python3.10/dist-packages (from torch>=1.10.0->torchmetrics) (12.1.105)\n",
            "Requirement already satisfied: triton==2.3.0 in /usr/local/lib/python3.10/dist-packages (from torch>=1.10.0->torchmetrics) (2.3.0)\n",
            "Requirement already satisfied: nvidia-nvjitlink-cu12 in /usr/local/lib/python3.10/dist-packages (from nvidia-cusolver-cu12==11.4.5.107->torch>=1.10.0->torchmetrics) (12.5.40)\n",
            "Requirement already satisfied: MarkupSafe>=2.0 in /usr/local/lib/python3.10/dist-packages (from jinja2->torch>=1.10.0->torchmetrics) (2.1.5)\n",
            "Requirement already satisfied: mpmath>=0.19 in /usr/local/lib/python3.10/dist-packages (from sympy->torch>=1.10.0->torchmetrics) (1.3.0)\n",
            "Installing collected packages: lightning-utilities, torchmetrics\n",
            "Successfully installed lightning-utilities-0.11.2 torchmetrics-1.4.0.post0\n"
          ]
        }
      ],
      "source": [
        "!pip install segmentation_models_pytorch\n",
        "!pip install wandb\n",
        "!pip install torcheval\n",
        "!pip install torchmetrics"
      ]
    },
    {
      "cell_type": "code",
      "source": [
        "from google.colab import drive\n",
        "drive.mount('/content/drive')"
      ],
      "metadata": {
        "colab": {
          "base_uri": "https://localhost:8080/"
        },
        "id": "gDu4fi5coVLh",
        "outputId": "1df08e41-ce03-46ea-b98d-93478defdbc9"
      },
      "execution_count": 1,
      "outputs": [
        {
          "output_type": "stream",
          "name": "stdout",
          "text": [
            "Mounted at /content/drive\n"
          ]
        }
      ]
    },
    {
      "cell_type": "code",
      "source": [],
      "metadata": {
        "id": "tfkdhNcyhjMe"
      },
      "execution_count": null,
      "outputs": []
    },
    {
      "cell_type": "markdown",
      "metadata": {
        "id": "83DJlE1Mst43"
      },
      "source": [
        "# Iniatial"
      ]
    },
    {
      "cell_type": "code",
      "execution_count": null,
      "metadata": {
        "colab": {
          "base_uri": "https://localhost:8080/"
        },
        "id": "Aq0p0-m7ruYX",
        "outputId": "241f018d-cfcf-4384-8008-d7c25941ee14"
      },
      "outputs": [
        {
          "output_type": "stream",
          "name": "stdout",
          "text": [
            "mkdir: cannot create directory ‘Dataset’: File exists\n",
            "mkdir: cannot create directory ‘Dataset/IMD2020’: File exists\n",
            "--2024-05-15 16:32:05--  https://staff.utia.cas.cz/novozada/db/IMD2020.zip\n",
            "Resolving staff.utia.cas.cz (staff.utia.cas.cz)... 147.231.16.197\n",
            "Connecting to staff.utia.cas.cz (staff.utia.cas.cz)|147.231.16.197|:443... connected.\n",
            "HTTP request sent, awaiting response... 200 OK\n",
            "Length: 592836398 (565M) [application/zip]\n",
            "Saving to: ‘Dataset/IMD2020/IMD2020.zip’\n",
            "\n",
            "IMD2020.zip           0%[                    ]   8.00K  38.0KB/s               ^C\n"
          ]
        }
      ],
      "source": [
        "!mkdir Dataset\n",
        "!mkdir Dataset/IMD2020\n",
        "\n",
        "!wget -P Dataset/IMD2020 https://staff.utia.cas.cz/novozada/db/IMD2020.zip"
      ]
    },
    {
      "cell_type": "code",
      "execution_count": 6,
      "metadata": {
        "colab": {
          "base_uri": "https://localhost:8080/"
        },
        "collapsed": true,
        "id": "dYyAo9ufsw3m",
        "outputId": "9f90a445-43f5-46ef-8baa-63374039d7fc"
      },
      "outputs": [
        {
          "output_type": "stream",
          "name": "stdout",
          "text": [
            "Archive:  /content/drive/MyDrive/IMD2020.zip\n",
            "   creating: /content/Dataset/IMD2020/1a1ogs/\n",
            "  inflating: /content/Dataset/IMD2020/1a1ogs/1a1ogs_orig.jpg  \n",
            "  inflating: /content/Dataset/IMD2020/1a1ogs/c8tf5mq_0.png  \n",
            "  inflating: /content/Dataset/IMD2020/1a1ogs/c8tf5mq_0_mask.png  \n",
            "   creating: /content/Dataset/IMD2020/1a3oag/\n",
            "  inflating: /content/Dataset/IMD2020/1a3oag/1a3oag_orig.jpg  \n",
            "  inflating: /content/Dataset/IMD2020/1a3oag/c8tt7fg_0.jpg  \n",
            "  inflating: /content/Dataset/IMD2020/1a3oag/c8tt7fg_0_mask.png  \n",
            "  inflating: /content/Dataset/IMD2020/1a3oag/c8ttni9_0.jpg  \n",
            "  inflating: /content/Dataset/IMD2020/1a3oag/c8ttni9_0_mask.png  \n",
            "  inflating: /content/Dataset/IMD2020/1a3oag/c8ttxcu_0.jpg  \n",
            "  inflating: /content/Dataset/IMD2020/1a3oag/c8ttxcu_0_mask.png  \n",
            "  inflating: /content/Dataset/IMD2020/1a3oag/c8ttxi0_0.jpg  \n",
            "  inflating: /content/Dataset/IMD2020/1a3oag/c8ttxi0_0_mask.png  \n",
            "  inflating: /content/Dataset/IMD2020/1a3oag/c8tvsnn_0.jpg  \n",
            "  inflating: /content/Dataset/IMD2020/1a3oag/c8tvsnn_0_mask.png  \n",
            "  inflating: /content/Dataset/IMD2020/1a3oag/c8twn73_0.jpg  \n",
            "  inflating: /content/Dataset/IMD2020/1a3oag/c8twn73_0_mask.png  \n",
            "  inflating: /content/Dataset/IMD2020/1a3oag/c8twvej_0.jpg  \n",
            "  inflating: /content/Dataset/IMD2020/1a3oag/c8twvej_0_mask.png  \n",
            "  inflating: /content/Dataset/IMD2020/1a3oag/c8tx1h1_0.jpg  \n",
            "  inflating: /content/Dataset/IMD2020/1a3oag/c8tx1h1_0_mask.png  \n",
            "  inflating: /content/Dataset/IMD2020/1a3oag/c8txu5x_0.jpg  \n",
            "  inflating: /content/Dataset/IMD2020/1a3oag/c8txu5x_0_mask.png  \n",
            "  inflating: /content/Dataset/IMD2020/1a3oag/c8u0rrz_0.jpg  \n",
            "  inflating: /content/Dataset/IMD2020/1a3oag/c8u0rrz_0_mask.png  \n",
            "  inflating: /content/Dataset/IMD2020/1a3oag/c8u0wl4_0.jpg  \n",
            "  inflating: /content/Dataset/IMD2020/1a3oag/c8u0wl4_0_mask.png  \n",
            "   creating: /content/Dataset/IMD2020/1a4dqp/\n",
            "  inflating: /content/Dataset/IMD2020/1a4dqp/1a4dqp_orig.jpg  \n",
            "  inflating: /content/Dataset/IMD2020/1a4dqp/c8u4gpd_0.jpg  \n",
            "  inflating: /content/Dataset/IMD2020/1a4dqp/c8u4gpd_0_mask.png  \n",
            "   creating: /content/Dataset/IMD2020/1a4zdz/\n",
            "  inflating: /content/Dataset/IMD2020/1a4zdz/1a4zdz_orig.jpg  \n",
            "  inflating: /content/Dataset/IMD2020/1a4zdz/c8u86mv_0.jpg  \n",
            "  inflating: /content/Dataset/IMD2020/1a4zdz/c8u86mv_0_mask.png  \n",
            "  inflating: /content/Dataset/IMD2020/1a4zdz/c8uaap3_0.jpg  \n",
            "  inflating: /content/Dataset/IMD2020/1a4zdz/c8uaap3_0_mask.png  \n",
            "  inflating: /content/Dataset/IMD2020/1a4zdz/c8uaesm_0.jpg  \n",
            "  inflating: /content/Dataset/IMD2020/1a4zdz/c8uaesm_0_mask.png  \n",
            "  inflating: /content/Dataset/IMD2020/1a4zdz/c8ubux0_0.jpg  \n",
            "  inflating: /content/Dataset/IMD2020/1a4zdz/c8ubux0_0_mask.png  \n",
            "  inflating: /content/Dataset/IMD2020/1a4zdz/c8ucm3b_0.jpg  \n",
            "  inflating: /content/Dataset/IMD2020/1a4zdz/c8ucm3b_0_mask.png  \n",
            "  inflating: /content/Dataset/IMD2020/1a4zdz/c8uf70a_0.jpg  \n",
            "  inflating: /content/Dataset/IMD2020/1a4zdz/c8uf70a_0_mask.png  \n",
            "   creating: /content/Dataset/IMD2020/1a5h1p/\n",
            "  inflating: /content/Dataset/IMD2020/1a5h1p/1a5h1p_orig.jpg  \n",
            "  inflating: /content/Dataset/IMD2020/1a5h1p/c8ua0at_0.jpg  \n",
            "  inflating: /content/Dataset/IMD2020/1a5h1p/c8ua0at_0_mask.png  \n",
            "  inflating: /content/Dataset/IMD2020/1a5h1p/c8uc2z3_0.jpg  \n",
            "  inflating: /content/Dataset/IMD2020/1a5h1p/c8uc2z3_0_mask.png  \n",
            "  inflating: /content/Dataset/IMD2020/1a5h1p/c8ue2m3_0.jpg  \n",
            "  inflating: /content/Dataset/IMD2020/1a5h1p/c8ue2m3_0_mask.png  \n",
            "   creating: /content/Dataset/IMD2020/1a5x44/\n",
            "  inflating: /content/Dataset/IMD2020/1a5x44/1a5x44_orig.jpg  \n",
            "  inflating: /content/Dataset/IMD2020/1a5x44/c8uefj0_0.jpg  \n",
            "  inflating: /content/Dataset/IMD2020/1a5x44/c8uefj0_0_mask.png  \n",
            "  inflating: /content/Dataset/IMD2020/1a5x44/c8ufqah_0.png  \n",
            "  inflating: /content/Dataset/IMD2020/1a5x44/c8ufqah_0_mask.png  \n",
            "  inflating: /content/Dataset/IMD2020/1a5x44/c8ufr4g_0.jpg  \n",
            "  inflating: /content/Dataset/IMD2020/1a5x44/c8ufr4g_0_mask.png  \n",
            "  inflating: /content/Dataset/IMD2020/1a5x44/c8uiddx_0.png  \n",
            "  inflating: /content/Dataset/IMD2020/1a5x44/c8uiddx_0_mask.png  \n",
            "  inflating: /content/Dataset/IMD2020/1a5x44/c8uiv5e_0.jpg  \n",
            "  inflating: /content/Dataset/IMD2020/1a5x44/c8uiv5e_0_mask.png  \n",
            "   creating: /content/Dataset/IMD2020/1a6upj/\n",
            "  inflating: /content/Dataset/IMD2020/1a6upj/1a6upj_orig.jpg  \n",
            "  inflating: /content/Dataset/IMD2020/1a6upj/c8umnyd_0.jpg  \n",
            "  inflating: /content/Dataset/IMD2020/1a6upj/c8umnyd_0_mask.png  \n",
            "  inflating: /content/Dataset/IMD2020/1a6upj/c8uopdm_0.jpg  \n",
            "  inflating: /content/Dataset/IMD2020/1a6upj/c8uopdm_0_mask.png  \n",
            "   creating: /content/Dataset/IMD2020/1a07yi/\n",
            "  inflating: /content/Dataset/IMD2020/1a07yi/1a07yi_orig.jpg  \n",
            "  inflating: /content/Dataset/IMD2020/1a07yi/c8swtoq_0.jpg  \n",
            "  inflating: /content/Dataset/IMD2020/1a07yi/c8swtoq_0_mask.png  \n",
            "   creating: /content/Dataset/IMD2020/1a8jd2/\n",
            "  inflating: /content/Dataset/IMD2020/1a8jd2/1a8jd2_orig.jpg  \n",
            "  inflating: /content/Dataset/IMD2020/1a8jd2/c8v2pbm_0.jpg  \n",
            "  inflating: /content/Dataset/IMD2020/1a8jd2/c8v2pbm_0_mask.png  \n",
            "  inflating: /content/Dataset/IMD2020/1a8jd2/c8v2xno_0.jpg  \n",
            "  inflating: /content/Dataset/IMD2020/1a8jd2/c8v2xno_0_mask.png  \n",
            "  inflating: /content/Dataset/IMD2020/1a8jd2/c8v5c8j_0.jpg  \n",
            "  inflating: /content/Dataset/IMD2020/1a8jd2/c8v5c8j_0_mask.png  \n",
            "   creating: /content/Dataset/IMD2020/1a9l4s/\n",
            "  inflating: /content/Dataset/IMD2020/1a9l4s/1a9l4s_orig.jpg  \n",
            "  inflating: /content/Dataset/IMD2020/1a9l4s/c8vcovx_0.jpg  \n",
            "  inflating: /content/Dataset/IMD2020/1a9l4s/c8vcovx_0_mask.png  \n",
            "  inflating: /content/Dataset/IMD2020/1a9l4s/c8vemkb_0.jpg  \n",
            "  inflating: /content/Dataset/IMD2020/1a9l4s/c8vemkb_0_mask.png  \n",
            "  inflating: /content/Dataset/IMD2020/1a9l4s/c8venih_0.jpg  \n",
            "  inflating: /content/Dataset/IMD2020/1a9l4s/c8venih_0_mask.png  \n",
            "  inflating: /content/Dataset/IMD2020/1a9l4s/c8vepqy_0.jpg  \n",
            "  inflating: /content/Dataset/IMD2020/1a9l4s/c8vepqy_0_mask.png  \n",
            "  inflating: /content/Dataset/IMD2020/1a9l4s/c8vf42i_0.jpg  \n",
            "  inflating: /content/Dataset/IMD2020/1a9l4s/c8vf42i_0_mask.png  \n",
            "  inflating: /content/Dataset/IMD2020/1a9l4s/c8vfd6x_0.jpg  \n",
            "  inflating: /content/Dataset/IMD2020/1a9l4s/c8vfd6x_0_mask.png  \n",
            "  inflating: /content/Dataset/IMD2020/1a9l4s/c8vjlk1_0.jpg  \n",
            "  inflating: /content/Dataset/IMD2020/1a9l4s/c8vjlk1_0_mask.png  \n",
            "  inflating: /content/Dataset/IMD2020/1a9l4s/c8voq23_0.jpg  \n",
            "  inflating: /content/Dataset/IMD2020/1a9l4s/c8voq23_0_mask.png  \n",
            "   creating: /content/Dataset/IMD2020/1a9tss/\n",
            "  inflating: /content/Dataset/IMD2020/1a9tss/1a9tss_orig.jpg  \n",
            "  inflating: /content/Dataset/IMD2020/1a9tss/c8vejd9_0.jpg  \n",
            "  inflating: /content/Dataset/IMD2020/1a9tss/c8vejd9_0_mask.png  \n",
            "  inflating: /content/Dataset/IMD2020/1a9tss/c8vi1sj_0.png  \n",
            "  inflating: /content/Dataset/IMD2020/1a9tss/c8vi1sj_0_mask.png  \n",
            "  inflating: /content/Dataset/IMD2020/1a9tss/c8vklwm_0.png  \n",
            "  inflating: /content/Dataset/IMD2020/1a9tss/c8vklwm_0_mask.png  \n",
            "  inflating: /content/Dataset/IMD2020/1a9tss/c8vm7al_0.jpg  \n",
            "  inflating: /content/Dataset/IMD2020/1a9tss/c8vm7al_0_mask.png  \n",
            "  inflating: /content/Dataset/IMD2020/1a9tss/c8vnyrx_0.jpg  \n",
            "  inflating: /content/Dataset/IMD2020/1a9tss/c8vnyrx_0_mask.png  \n",
            "  inflating: /content/Dataset/IMD2020/1a9tss/c8vqhe0_0.jpg  \n",
            "  inflating: /content/Dataset/IMD2020/1a9tss/c8vqhe0_0_mask.png  \n",
            "   creating: /content/Dataset/IMD2020/1a16mu/\n",
            "  inflating: /content/Dataset/IMD2020/1a16mu/1a16mu_orig.jpg  \n",
            "  inflating: /content/Dataset/IMD2020/1a16mu/c8t64te_0.jpg  \n",
            "  inflating: /content/Dataset/IMD2020/1a16mu/c8t64te_0_mask.png  \n",
            "  inflating: /content/Dataset/IMD2020/1a16mu/c8t9rsw_0.jpg  \n",
            "  inflating: /content/Dataset/IMD2020/1a16mu/c8t9rsw_0_mask.png  \n",
            "   creating: /content/Dataset/IMD2020/1a41rr/\n",
            "  inflating: /content/Dataset/IMD2020/1a41rr/1a41rr_orig.jpg  \n",
            "  inflating: /content/Dataset/IMD2020/1a41rr/c8ty2bs_0.jpg  \n",
            "  inflating: /content/Dataset/IMD2020/1a41rr/c8ty2bs_0_mask.png  \n",
            "  inflating: /content/Dataset/IMD2020/1a41rr/c8tzqf0_0.jpg  \n",
            "  inflating: /content/Dataset/IMD2020/1a41rr/c8tzqf0_0_mask.png  \n",
            "   creating: /content/Dataset/IMD2020/1a69n6/\n",
            "  inflating: /content/Dataset/IMD2020/1a69n6/1a69n6_orig.jpg  \n",
            "  inflating: /content/Dataset/IMD2020/1a69n6/c8uka8j_0.jpg  \n",
            "  inflating: /content/Dataset/IMD2020/1a69n6/c8uka8j_0_mask.png  \n",
            "  inflating: /content/Dataset/IMD2020/1a69n6/c8ulbmf_0.jpg  \n",
            "  inflating: /content/Dataset/IMD2020/1a69n6/c8ulbmf_0_mask.png  \n",
            "   creating: /content/Dataset/IMD2020/1a84zh/\n",
            "  inflating: /content/Dataset/IMD2020/1a84zh/1a84zh_orig.jpg  \n",
            "  inflating: /content/Dataset/IMD2020/1a84zh/c8v1094_0.png  \n",
            "  inflating: /content/Dataset/IMD2020/1a84zh/c8v1094_0_mask.png  \n",
            "  inflating: /content/Dataset/IMD2020/1a84zh/c8v26qj_0.png  \n",
            "  inflating: /content/Dataset/IMD2020/1a84zh/c8v26qj_0_mask.png  \n",
            "  inflating: /content/Dataset/IMD2020/1a84zh/c8v3tc5_0.png  \n",
            "  inflating: /content/Dataset/IMD2020/1a84zh/c8v3tc5_0_mask.png  \n",
            "  inflating: /content/Dataset/IMD2020/1a84zh/c8v3xty_0.jpg  \n",
            "  inflating: /content/Dataset/IMD2020/1a84zh/c8v3xty_0_mask.png  \n",
            "  inflating: /content/Dataset/IMD2020/1a84zh/c8v70y3_0.png  \n",
            "  inflating: /content/Dataset/IMD2020/1a84zh/c8v70y3_0_mask.png  \n",
            "   creating: /content/Dataset/IMD2020/1aa6sn/\n",
            "  inflating: /content/Dataset/IMD2020/1aa6sn/1aa6sn_orig.jpg  \n",
            "  inflating: /content/Dataset/IMD2020/1aa6sn/c8vgphr_0.jpg  \n",
            "  inflating: /content/Dataset/IMD2020/1aa6sn/c8vgphr_0_mask.png  \n",
            "   creating: /content/Dataset/IMD2020/1aa8xl/\n",
            "  inflating: /content/Dataset/IMD2020/1aa8xl/1aa8xl_orig.jpg  \n",
            "  inflating: /content/Dataset/IMD2020/1aa8xl/c8viohc_0.jpg  \n",
            "  inflating: /content/Dataset/IMD2020/1aa8xl/c8viohc_0_mask.png  \n",
            "  inflating: /content/Dataset/IMD2020/1aa8xl/c8vizkp_0.jpg  \n",
            "  inflating: /content/Dataset/IMD2020/1aa8xl/c8vizkp_0_mask.png  \n",
            "  inflating: /content/Dataset/IMD2020/1aa8xl/c8vkbiq_0.jpg  \n",
            "  inflating: /content/Dataset/IMD2020/1aa8xl/c8vkbiq_0_mask.png  \n",
            "  inflating: /content/Dataset/IMD2020/1aa8xl/c8vkf28_0.jpg  \n",
            "  inflating: /content/Dataset/IMD2020/1aa8xl/c8vkf28_0_mask.png  \n",
            "  inflating: /content/Dataset/IMD2020/1aa8xl/c8vo3wv_0.jpg  \n",
            "  inflating: /content/Dataset/IMD2020/1aa8xl/c8vo3wv_0_mask.png  \n",
            "  inflating: /content/Dataset/IMD2020/1aa8xl/c8vol8v_0.jpg  \n",
            "  inflating: /content/Dataset/IMD2020/1aa8xl/c8vol8v_0_mask.png  \n",
            "  inflating: /content/Dataset/IMD2020/1aa8xl/c8vpmfd_0.jpg  \n",
            "  inflating: /content/Dataset/IMD2020/1aa8xl/c8vpmfd_0_mask.png  \n",
            "  inflating: /content/Dataset/IMD2020/1aa8xl/c8vqeqw_0.jpg  \n",
            "  inflating: /content/Dataset/IMD2020/1aa8xl/c8vqeqw_0_mask.png  \n",
            "   creating: /content/Dataset/IMD2020/1aafqb/\n",
            "  inflating: /content/Dataset/IMD2020/1aafqb/1aafqb_orig.jpg  \n",
            "  inflating: /content/Dataset/IMD2020/1aafqb/c8vkb96_0.jpg  \n",
            "  inflating: /content/Dataset/IMD2020/1aafqb/c8vkb96_0_mask.png  \n",
            "   creating: /content/Dataset/IMD2020/1ac1g7/\n",
            "  inflating: /content/Dataset/IMD2020/1ac1g7/1ac1g7_orig.jpg  \n",
            "  inflating: /content/Dataset/IMD2020/1ac1g7/c8w0a7n_0.jpg  \n",
            "  inflating: /content/Dataset/IMD2020/1ac1g7/c8w0a7n_0_mask.png  \n",
            "  inflating: /content/Dataset/IMD2020/1ac1g7/c8w0r2r_0.jpg  \n",
            "  inflating: /content/Dataset/IMD2020/1ac1g7/c8w0r2r_0_mask.png  \n",
            "  inflating: /content/Dataset/IMD2020/1ac1g7/c8w0y2v_0.jpg  \n",
            "  inflating: /content/Dataset/IMD2020/1ac1g7/c8w0y2v_0_mask.png  \n",
            "  inflating: /content/Dataset/IMD2020/1ac1g7/c8w2mlr_0.jpg  \n",
            "  inflating: /content/Dataset/IMD2020/1ac1g7/c8w2mlr_0_mask.png  \n",
            "  inflating: /content/Dataset/IMD2020/1ac1g7/c8w5v0p_0.jpg  \n",
            "  inflating: /content/Dataset/IMD2020/1ac1g7/c8w5v0p_0_mask.png  \n",
            "   creating: /content/Dataset/IMD2020/1acw36/\n",
            "  inflating: /content/Dataset/IMD2020/1acw36/1acw36_orig.jpg  \n",
            "  inflating: /content/Dataset/IMD2020/1acw36/c8wantc_0.jpg  \n",
            "  inflating: /content/Dataset/IMD2020/1acw36/c8wantc_0_mask.png  \n",
            "  inflating: /content/Dataset/IMD2020/1acw36/c8wbo4v_0.jpg  \n",
            "  inflating: /content/Dataset/IMD2020/1acw36/c8wbo4v_0_mask.png  \n",
            "   creating: /content/Dataset/IMD2020/1aczjh/\n",
            "  inflating: /content/Dataset/IMD2020/1aczjh/1aczjh_orig.jpg  \n",
            "  inflating: /content/Dataset/IMD2020/1aczjh/c8w9n2q_0.png  \n",
            "  inflating: /content/Dataset/IMD2020/1aczjh/c8w9n2q_0_mask.png  \n",
            "  inflating: /content/Dataset/IMD2020/1aczjh/c8wars7_0.jpg  \n",
            "  inflating: /content/Dataset/IMD2020/1aczjh/c8wars7_0_mask.png  \n",
            "   creating: /content/Dataset/IMD2020/1ad1a0/\n",
            "  inflating: /content/Dataset/IMD2020/1ad1a0/1ad1a0_orig.jpg  \n",
            "  inflating: /content/Dataset/IMD2020/1ad1a0/c8wc5ln_0.png  \n",
            "  inflating: /content/Dataset/IMD2020/1ad1a0/c8wc5ln_0_mask.png  \n",
            "  inflating: /content/Dataset/IMD2020/1ad1a0/c8wc6jq_0.png  \n",
            "  inflating: /content/Dataset/IMD2020/1ad1a0/c8wc6jq_0_mask.png  \n",
            "  inflating: /content/Dataset/IMD2020/1ad1a0/c8wc7vs_0.jpg  \n",
            "  inflating: /content/Dataset/IMD2020/1ad1a0/c8wc7vs_0_mask.png  \n",
            "  inflating: /content/Dataset/IMD2020/1ad1a0/c8wcbsq_0.jpg  \n",
            "  inflating: /content/Dataset/IMD2020/1ad1a0/c8wcbsq_0_mask.png  \n",
            "  inflating: /content/Dataset/IMD2020/1ad1a0/c8wcfx9_0.jpg  \n",
            "  inflating: /content/Dataset/IMD2020/1ad1a0/c8wcfx9_0_mask.png  \n",
            "  inflating: /content/Dataset/IMD2020/1ad1a0/c8wclzm_0.jpg  \n",
            "  inflating: /content/Dataset/IMD2020/1ad1a0/c8wclzm_0_mask.png  \n",
            "  inflating: /content/Dataset/IMD2020/1ad1a0/c8wcodr_0.jpg  \n",
            "  inflating: /content/Dataset/IMD2020/1ad1a0/c8wcodr_0_mask.png  \n",
            "  inflating: /content/Dataset/IMD2020/1ad1a0/c8wcpg5_0.png  \n",
            "  inflating: /content/Dataset/IMD2020/1ad1a0/c8wcpg5_0_mask.png  \n",
            "  inflating: /content/Dataset/IMD2020/1ad1a0/c8wdsc1_0.jpg  \n",
            "  inflating: /content/Dataset/IMD2020/1ad1a0/c8wdsc1_0_mask.png  \n",
            "   creating: /content/Dataset/IMD2020/1aeqsl/\n",
            "  inflating: /content/Dataset/IMD2020/1aeqsl/1aeqsl_orig.jpg  \n",
            "  inflating: /content/Dataset/IMD2020/1aeqsl/c8wrczy_0.jpg  \n",
            "  inflating: /content/Dataset/IMD2020/1aeqsl/c8wrczy_0_mask.png  \n",
            "  inflating: /content/Dataset/IMD2020/1aeqsl/c8wrglm_0.jpg  \n",
            "  inflating: /content/Dataset/IMD2020/1aeqsl/c8wrglm_0_mask.png  \n",
            "  inflating: /content/Dataset/IMD2020/1aeqsl/c8wrw4f_0.jpg  \n",
            "  inflating: /content/Dataset/IMD2020/1aeqsl/c8wrw4f_0_mask.png  \n",
            "  inflating: /content/Dataset/IMD2020/1aeqsl/c8wsol6_0.jpg  \n",
            "  inflating: /content/Dataset/IMD2020/1aeqsl/c8wsol6_0_mask.png  \n",
            "  inflating: /content/Dataset/IMD2020/1aeqsl/c8wtc5y_0.jpg  \n",
            "  inflating: /content/Dataset/IMD2020/1aeqsl/c8wtc5y_0_mask.png  \n",
            "  inflating: /content/Dataset/IMD2020/1aeqsl/c8wtjmm_0.png  \n",
            "  inflating: /content/Dataset/IMD2020/1aeqsl/c8wtjmm_0_mask.png  \n",
            "  inflating: /content/Dataset/IMD2020/1aeqsl/c8wufvd_0.png  \n",
            "  inflating: /content/Dataset/IMD2020/1aeqsl/c8wufvd_0_mask.png  \n",
            "  inflating: /content/Dataset/IMD2020/1aeqsl/c8wuvts_0.png  \n",
            "  inflating: /content/Dataset/IMD2020/1aeqsl/c8wuvts_0_mask.png  \n",
            "  inflating: /content/Dataset/IMD2020/1aeqsl/c8x0x1t_0.jpg  \n",
            "  inflating: /content/Dataset/IMD2020/1aeqsl/c8x0x1t_0_mask.png  \n",
            "   creating: /content/Dataset/IMD2020/1aeur2/\n",
            "  inflating: /content/Dataset/IMD2020/1aeur2/1aeur2_orig.jpg  \n",
            "  inflating: /content/Dataset/IMD2020/1aeur2/c8wry2k_0.jpg  \n",
            "  inflating: /content/Dataset/IMD2020/1aeur2/c8wry2k_0_mask.png  \n",
            "  inflating: /content/Dataset/IMD2020/1aeur2/c8wt4r2_0.jpg  \n",
            "  inflating: /content/Dataset/IMD2020/1aeur2/c8wt4r2_0_mask.png  \n",
            "  inflating: /content/Dataset/IMD2020/1aeur2/c8wte77_0.jpg  \n",
            "  inflating: /content/Dataset/IMD2020/1aeur2/c8wte77_0_mask.png  \n",
            "   creating: /content/Dataset/IMD2020/1af2jv/\n",
            "  inflating: /content/Dataset/IMD2020/1af2jv/1af2jv_orig.jpg  \n",
            "  inflating: /content/Dataset/IMD2020/1af2jv/c8wu4jn_0.jpg  \n",
            "  inflating: /content/Dataset/IMD2020/1af2jv/c8wu4jn_0_mask.png  \n",
            "   creating: /content/Dataset/IMD2020/1af7t4/\n",
            "  inflating: /content/Dataset/IMD2020/1af7t4/1af7t4_orig.jpg  \n",
            "  inflating: /content/Dataset/IMD2020/1af7t4/c8wvegs_0.jpg  \n",
            "  inflating: /content/Dataset/IMD2020/1af7t4/c8wvegs_0_mask.png  \n",
            "  inflating: /content/Dataset/IMD2020/1af7t4/c8wwgw2_0.jpg  \n",
            "  inflating: /content/Dataset/IMD2020/1af7t4/c8wwgw2_0_mask.png  \n",
            "  inflating: /content/Dataset/IMD2020/1af7t4/c8wwrie_0.jpg  \n",
            "  inflating: /content/Dataset/IMD2020/1af7t4/c8wwrie_0_mask.png  \n",
            "  inflating: /content/Dataset/IMD2020/1af7t4/c8wx8en_0.jpg  \n",
            "  inflating: /content/Dataset/IMD2020/1af7t4/c8wx8en_0_mask.png  \n",
            "  inflating: /content/Dataset/IMD2020/1af7t4/c8wz8qw_0.jpg  \n",
            "  inflating: /content/Dataset/IMD2020/1af7t4/c8wz8qw_0_mask.png  \n",
            "  inflating: /content/Dataset/IMD2020/1af7t4/c8wziyg_0.jpg  \n",
            "  inflating: /content/Dataset/IMD2020/1af7t4/c8wziyg_0_mask.png  \n",
            "   creating: /content/Dataset/IMD2020/1afc31/\n",
            "  inflating: /content/Dataset/IMD2020/1afc31/1afc31_orig.jpg  \n",
            "  inflating: /content/Dataset/IMD2020/1afc31/c8wyxuh_0.jpg  \n",
            "  inflating: /content/Dataset/IMD2020/1afc31/c8wyxuh_0_mask.png  \n",
            "   creating: /content/Dataset/IMD2020/1afcns/\n",
            "  inflating: /content/Dataset/IMD2020/1afcns/1afcns_orig.jpg  \n",
            "  inflating: /content/Dataset/IMD2020/1afcns/c8wxqdn_0.jpg  \n",
            "  inflating: /content/Dataset/IMD2020/1afcns/c8wxqdn_0_mask.png  \n",
            "   creating: /content/Dataset/IMD2020/1afv6o/\n",
            "  inflating: /content/Dataset/IMD2020/1afv6o/1afv6o_orig.jpg  \n",
            "  inflating: /content/Dataset/IMD2020/1afv6o/c8x27kq_0.jpg  \n",
            "  inflating: /content/Dataset/IMD2020/1afv6o/c8x27kq_0_mask.png  \n",
            "  inflating: /content/Dataset/IMD2020/1afv6o/c8x3rcx_0.jpg  \n",
            "  inflating: /content/Dataset/IMD2020/1afv6o/c8x3rcx_0_mask.png  \n",
            "   creating: /content/Dataset/IMD2020/1afvdd/\n",
            "  inflating: /content/Dataset/IMD2020/1afvdd/1afvdd_orig.jpg  \n",
            "  inflating: /content/Dataset/IMD2020/1afvdd/c8x1pe8_0.jpg  \n",
            "  inflating: /content/Dataset/IMD2020/1afvdd/c8x1pe8_0_mask.png  \n",
            "  inflating: /content/Dataset/IMD2020/1afvdd/c8x2s20_0.jpg  \n",
            "  inflating: /content/Dataset/IMD2020/1afvdd/c8x2s20_0_mask.png  \n",
            "   creating: /content/Dataset/IMD2020/1agrmz/\n",
            "  inflating: /content/Dataset/IMD2020/1agrmz/1agrmz_orig.jpg  \n",
            "  inflating: /content/Dataset/IMD2020/1agrmz/c8x9xkj_0.jpg  \n",
            "  inflating: /content/Dataset/IMD2020/1agrmz/c8x9xkj_0_mask.png  \n",
            "  inflating: /content/Dataset/IMD2020/1agrmz/c8xa1qd_0.jpg  \n",
            "  inflating: /content/Dataset/IMD2020/1agrmz/c8xa1qd_0_mask.png  \n",
            "  inflating: /content/Dataset/IMD2020/1agrmz/c8xanp8_0.png  \n",
            "  inflating: /content/Dataset/IMD2020/1agrmz/c8xanp8_0_mask.png  \n",
            "  inflating: /content/Dataset/IMD2020/1agrmz/c8xariv_0.jpg  \n",
            "  inflating: /content/Dataset/IMD2020/1agrmz/c8xariv_0_mask.png  \n",
            "  inflating: /content/Dataset/IMD2020/1agrmz/c8xd6bv_0.jpg  \n",
            "  inflating: /content/Dataset/IMD2020/1agrmz/c8xd6bv_0_mask.png  \n",
            "  inflating: /content/Dataset/IMD2020/1agrmz/c8xdawa_0.jpg  \n",
            "  inflating: /content/Dataset/IMD2020/1agrmz/c8xdawa_0_mask.png  \n",
            "   creating: /content/Dataset/IMD2020/1agt1r/\n",
            "  inflating: /content/Dataset/IMD2020/1agt1r/1agt1r_orig.jpg  \n",
            "  inflating: /content/Dataset/IMD2020/1agt1r/c8xbjz3_0.jpg  \n",
            "  inflating: /content/Dataset/IMD2020/1agt1r/c8xbjz3_0_mask.png  \n",
            "   creating: /content/Dataset/IMD2020/1ah0n7/\n",
            "  inflating: /content/Dataset/IMD2020/1ah0n7/1ah0n7_orig.jpg  \n",
            "  inflating: /content/Dataset/IMD2020/1ah0n7/c8xfpsi_0.png  \n",
            "  inflating: /content/Dataset/IMD2020/1ah0n7/c8xfpsi_0_mask.png  \n",
            "  inflating: /content/Dataset/IMD2020/1ah0n7/c8xgdhj_0.jpg  \n",
            "  inflating: /content/Dataset/IMD2020/1ah0n7/c8xgdhj_0_mask.png  \n",
            "   creating: /content/Dataset/IMD2020/1ahawd/\n",
            "  inflating: /content/Dataset/IMD2020/1ahawd/1ahawd_orig.jpg  \n",
            "  inflating: /content/Dataset/IMD2020/1ahawd/c8xgnf4_0.jpg  \n",
            "  inflating: /content/Dataset/IMD2020/1ahawd/c8xgnf4_0_mask.png  \n",
            "  inflating: /content/Dataset/IMD2020/1ahawd/c8xhzdr_0.jpg  \n",
            "  inflating: /content/Dataset/IMD2020/1ahawd/c8xhzdr_0_mask.png  \n",
            "   creating: /content/Dataset/IMD2020/1ahtfm/\n",
            "  inflating: /content/Dataset/IMD2020/1ahtfm/1ahtfm_orig.jpg  \n",
            "  inflating: /content/Dataset/IMD2020/1ahtfm/c8xkcsl_0.jpg  \n",
            "  inflating: /content/Dataset/IMD2020/1ahtfm/c8xkcsl_0_mask.png  \n",
            "   creating: /content/Dataset/IMD2020/1aidqf/\n",
            "  inflating: /content/Dataset/IMD2020/1aidqf/1aidqf_orig.jpg  \n",
            "  inflating: /content/Dataset/IMD2020/1aidqf/c8xtrds_0.jpg  \n",
            "  inflating: /content/Dataset/IMD2020/1aidqf/c8xtrds_0_mask.png  \n",
            "  inflating: /content/Dataset/IMD2020/1aidqf/c8xujpn_0.jpg  \n",
            "  inflating: /content/Dataset/IMD2020/1aidqf/c8xujpn_0_mask.png  \n",
            "   creating: /content/Dataset/IMD2020/1ajtpd/\n",
            "  inflating: /content/Dataset/IMD2020/1ajtpd/1ajtpd_orig.jpg  \n",
            "  inflating: /content/Dataset/IMD2020/1ajtpd/c8y2qcw_0.jpg  \n",
            "  inflating: /content/Dataset/IMD2020/1ajtpd/c8y2qcw_0_mask.png  \n",
            "  inflating: /content/Dataset/IMD2020/1ajtpd/c8y2vvo_0.jpg  \n",
            "  inflating: /content/Dataset/IMD2020/1ajtpd/c8y2vvo_0_mask.png  \n",
            "  inflating: /content/Dataset/IMD2020/1ajtpd/c8y31sd_0.jpg  \n",
            "  inflating: /content/Dataset/IMD2020/1ajtpd/c8y31sd_0_mask.png  \n",
            "  inflating: /content/Dataset/IMD2020/1ajtpd/c8y3utt_0.jpg  \n",
            "  inflating: /content/Dataset/IMD2020/1ajtpd/c8y3utt_0_mask.png  \n",
            "  inflating: /content/Dataset/IMD2020/1ajtpd/c8y55d9_0.jpg  \n",
            "  inflating: /content/Dataset/IMD2020/1ajtpd/c8y55d9_0_mask.png  \n",
            "  inflating: /content/Dataset/IMD2020/1ajtpd/c8y5f1t_0.jpg  \n",
            "  inflating: /content/Dataset/IMD2020/1ajtpd/c8y5f1t_0_mask.png  \n",
            "  inflating: /content/Dataset/IMD2020/1ajtpd/c8y9zbo_0.jpg  \n",
            "  inflating: /content/Dataset/IMD2020/1ajtpd/c8y9zbo_0_mask.png  \n",
            "  inflating: /content/Dataset/IMD2020/1ajtpd/c8yaujz_0.jpg  \n",
            "  inflating: /content/Dataset/IMD2020/1ajtpd/c8yaujz_0_mask.png  \n",
            "  inflating: /content/Dataset/IMD2020/1ajtpd/c8yb71t_0.jpg  \n",
            "  inflating: /content/Dataset/IMD2020/1ajtpd/c8yb71t_0_mask.png  \n",
            "  inflating: /content/Dataset/IMD2020/1ajtpd/c8ybsvm_0.png  \n",
            "  inflating: /content/Dataset/IMD2020/1ajtpd/c8ybsvm_0_mask.png  \n",
            "  inflating: /content/Dataset/IMD2020/1ajtpd/c8yc2ry_0.jpg  \n",
            "  inflating: /content/Dataset/IMD2020/1ajtpd/c8yc2ry_0_mask.png  \n",
            "  inflating: /content/Dataset/IMD2020/1ajtpd/c8ydsfu_0.jpg  \n",
            "  inflating: /content/Dataset/IMD2020/1ajtpd/c8ydsfu_0_mask.png  \n",
            "  inflating: /content/Dataset/IMD2020/1ajtpd/c8ye71b_0.jpg  \n",
            "  inflating: /content/Dataset/IMD2020/1ajtpd/c8ye71b_0_mask.png  \n",
            "   creating: /content/Dataset/IMD2020/1al0z1/\n",
            "  inflating: /content/Dataset/IMD2020/1al0z1/1al0z1_orig.jpg  \n",
            "  inflating: /content/Dataset/IMD2020/1al0z1/c8yea0e_0.jpg  \n",
            "  inflating: /content/Dataset/IMD2020/1al0z1/c8yea0e_0_mask.png  \n",
            "  inflating: /content/Dataset/IMD2020/1al0z1/c8yhi3a_0.jpg  \n",
            "  inflating: /content/Dataset/IMD2020/1al0z1/c8yhi3a_0_mask.png  \n",
            "   creating: /content/Dataset/IMD2020/1al8bl/\n",
            "  inflating: /content/Dataset/IMD2020/1al8bl/1al8bl_orig.jpg  \n",
            "  inflating: /content/Dataset/IMD2020/1al8bl/c8yfhte_0.jpg  \n",
            "  inflating: /content/Dataset/IMD2020/1al8bl/c8yfhte_0_mask.png  \n",
            "   creating: /content/Dataset/IMD2020/1al8oy/\n",
            "  inflating: /content/Dataset/IMD2020/1al8oy/1al8oy_orig.jpg  \n",
            "  inflating: /content/Dataset/IMD2020/1al8oy/c8yh8v9_0.jpg  \n",
            "  inflating: /content/Dataset/IMD2020/1al8oy/c8yh8v9_0_mask.png  \n",
            "  inflating: /content/Dataset/IMD2020/1al8oy/c8yhtxf_0.jpg  \n",
            "  inflating: /content/Dataset/IMD2020/1al8oy/c8yhtxf_0_mask.png  \n",
            "  inflating: /content/Dataset/IMD2020/1al8oy/c8yib78_0.png  \n",
            "  inflating: /content/Dataset/IMD2020/1al8oy/c8yib78_0_mask.png  \n",
            "  inflating: /content/Dataset/IMD2020/1al8oy/c8yipuf_0.jpg  \n",
            "  inflating: /content/Dataset/IMD2020/1al8oy/c8yipuf_0_mask.png  \n",
            "  inflating: /content/Dataset/IMD2020/1al8oy/c8yiqdr_0.jpg  \n",
            "  inflating: /content/Dataset/IMD2020/1al8oy/c8yiqdr_0_mask.png  \n",
            "  inflating: /content/Dataset/IMD2020/1al8oy/c8yj464_0.png  \n",
            "  inflating: /content/Dataset/IMD2020/1al8oy/c8yj464_0_mask.png  \n",
            "  inflating: /content/Dataset/IMD2020/1al8oy/c8yjs3y_0.jpg  \n",
            "  inflating: /content/Dataset/IMD2020/1al8oy/c8yjs3y_0_mask.png  \n",
            "  inflating: /content/Dataset/IMD2020/1al8oy/c8yjscj_0.png  \n",
            "  inflating: /content/Dataset/IMD2020/1al8oy/c8yjscj_0_mask.png  \n",
            "  inflating: /content/Dataset/IMD2020/1al8oy/c8yjv4u_0.jpg  \n",
            "  inflating: /content/Dataset/IMD2020/1al8oy/c8yjv4u_0_mask.png  \n",
            "  inflating: /content/Dataset/IMD2020/1al8oy/c8ynnae_0.jpg  \n",
            "  inflating: /content/Dataset/IMD2020/1al8oy/c8ynnae_0_mask.png  \n",
            "   creating: /content/Dataset/IMD2020/1alcdm/\n",
            "  inflating: /content/Dataset/IMD2020/1alcdm/1alcdm_orig.jpg  \n",
            "  inflating: /content/Dataset/IMD2020/1alcdm/c8ypb15_0.jpg  \n",
            "  inflating: /content/Dataset/IMD2020/1alcdm/c8ypb15_0_mask.png  \n",
            "   creating: /content/Dataset/IMD2020/1am7zp/\n",
            "  inflating: /content/Dataset/IMD2020/1am7zp/1am7zp_orig.jpg  \n",
            "  inflating: /content/Dataset/IMD2020/1am7zp/c8yqawk_0.png  \n",
            "  inflating: /content/Dataset/IMD2020/1am7zp/c8yqawk_0_mask.png  \n",
            "   creating: /content/Dataset/IMD2020/1amtqf/\n",
            "  inflating: /content/Dataset/IMD2020/1amtqf/1amtqf_orig.jpg  \n",
            "  inflating: /content/Dataset/IMD2020/1amtqf/c8yv0ld_0.jpg  \n",
            "  inflating: /content/Dataset/IMD2020/1amtqf/c8yv0ld_0_mask.png  \n",
            "  inflating: /content/Dataset/IMD2020/1amtqf/c8yvmji_0.jpg  \n",
            "  inflating: /content/Dataset/IMD2020/1amtqf/c8yvmji_0_mask.png  \n",
            "   creating: /content/Dataset/IMD2020/1anhg4/\n",
            "  inflating: /content/Dataset/IMD2020/1anhg4/1anhg4_orig.jpg  \n",
            "  inflating: /content/Dataset/IMD2020/1anhg4/c8z0zg4_0.jpg  \n",
            "  inflating: /content/Dataset/IMD2020/1anhg4/c8z0zg4_0_mask.png  \n",
            "  inflating: /content/Dataset/IMD2020/1anhg4/c8z1qqq_0.jpg  \n",
            "  inflating: /content/Dataset/IMD2020/1anhg4/c8z1qqq_0_mask.png  \n",
            "  inflating: /content/Dataset/IMD2020/1anhg4/c8z1ubs_0.jpg  \n",
            "  inflating: /content/Dataset/IMD2020/1anhg4/c8z1ubs_0_mask.png  \n",
            "  inflating: /content/Dataset/IMD2020/1anhg4/c8z2itj_0.jpg  \n",
            "  inflating: /content/Dataset/IMD2020/1anhg4/c8z2itj_0_mask.png  \n",
            "  inflating: /content/Dataset/IMD2020/1anhg4/c8zf0hg_0.jpg  \n",
            "  inflating: /content/Dataset/IMD2020/1anhg4/c8zf0hg_0_mask.png  \n",
            "   creating: /content/Dataset/IMD2020/1anq2a/\n",
            "  inflating: /content/Dataset/IMD2020/1anq2a/1anq2a_orig.jpg  \n",
            "  inflating: /content/Dataset/IMD2020/1anq2a/c8z27jg_0.jpg  \n",
            "  inflating: /content/Dataset/IMD2020/1anq2a/c8z27jg_0_mask.png  \n",
            "  inflating: /content/Dataset/IMD2020/1anq2a/c8z31h1_0.jpg  \n",
            "  inflating: /content/Dataset/IMD2020/1anq2a/c8z31h1_0_mask.png  \n",
            "  inflating: /content/Dataset/IMD2020/1anq2a/c8z3et9_0.jpg  \n",
            "  inflating: /content/Dataset/IMD2020/1anq2a/c8z3et9_0_mask.png  \n",
            "  inflating: /content/Dataset/IMD2020/1anq2a/c8z3l9n_0.jpg  \n",
            "  inflating: /content/Dataset/IMD2020/1anq2a/c8z3l9n_0_mask.png  \n",
            "  inflating: /content/Dataset/IMD2020/1anq2a/c8z3m7v_0.jpg  \n",
            "  inflating: /content/Dataset/IMD2020/1anq2a/c8z3m7v_0_mask.png  \n",
            "  inflating: /content/Dataset/IMD2020/1anq2a/c8z3q6p_0.png  \n",
            "  inflating: /content/Dataset/IMD2020/1anq2a/c8z3q6p_0_mask.png  \n",
            "  inflating: /content/Dataset/IMD2020/1anq2a/c8z4ldo_0.jpg  \n",
            "  inflating: /content/Dataset/IMD2020/1anq2a/c8z4ldo_0_mask.png  \n",
            "  inflating: /content/Dataset/IMD2020/1anq2a/c8z4o30_0.jpg  \n",
            "  inflating: /content/Dataset/IMD2020/1anq2a/c8z4o30_0_mask.png  \n",
            "  inflating: /content/Dataset/IMD2020/1anq2a/c8z50ak_0.png  \n",
            "  inflating: /content/Dataset/IMD2020/1anq2a/c8z50ak_0_mask.png  \n",
            "  inflating: /content/Dataset/IMD2020/1anq2a/c8z82ta_0.jpg  \n",
            "  inflating: /content/Dataset/IMD2020/1anq2a/c8z82ta_0_mask.png  \n",
            "  inflating: /content/Dataset/IMD2020/1anq2a/c8zepg5_0.jpg  \n",
            "  inflating: /content/Dataset/IMD2020/1anq2a/c8zepg5_0_mask.png  \n",
            "   creating: /content/Dataset/IMD2020/1aohro/\n",
            "  inflating: /content/Dataset/IMD2020/1aohro/1aohro_orig.jpg  \n",
            "  inflating: /content/Dataset/IMD2020/1aohro/c8zax0v_0.jpg  \n",
            "  inflating: /content/Dataset/IMD2020/1aohro/c8zax0v_0_mask.png  \n",
            "  inflating: /content/Dataset/IMD2020/1aohro/c8zb000_0.jpg  \n",
            "  inflating: /content/Dataset/IMD2020/1aohro/c8zb000_0_mask.png  \n",
            "  inflating: /content/Dataset/IMD2020/1aohro/c8zefoe_0.jpg  \n",
            "  inflating: /content/Dataset/IMD2020/1aohro/c8zefoe_0_mask.png  \n",
            "  inflating: /content/Dataset/IMD2020/1aohro/c8zexo2_0.jpg  \n",
            "  inflating: /content/Dataset/IMD2020/1aohro/c8zexo2_0_mask.png  \n",
            "  inflating: /content/Dataset/IMD2020/1aohro/c8zezwq_0.jpg  \n",
            "  inflating: /content/Dataset/IMD2020/1aohro/c8zezwq_0_mask.png  \n",
            "  inflating: /content/Dataset/IMD2020/1aohro/c8zg45r_0.jpg  \n",
            "  inflating: /content/Dataset/IMD2020/1aohro/c8zg45r_0_mask.png  \n",
            "  inflating: /content/Dataset/IMD2020/1aohro/c8zjhlp_0.jpg  \n",
            "  inflating: /content/Dataset/IMD2020/1aohro/c8zjhlp_0_mask.png  \n",
            "   creating: /content/Dataset/IMD2020/1aoxnt/\n",
            "  inflating: /content/Dataset/IMD2020/1aoxnt/1aoxnt_orig.jpg  \n",
            "  inflating: /content/Dataset/IMD2020/1aoxnt/c8zijis_0.jpg  \n",
            "  inflating: /content/Dataset/IMD2020/1aoxnt/c8zijis_0_mask.png  \n",
            "  inflating: /content/Dataset/IMD2020/1aoxnt/c8zj217_0.jpg  \n",
            "  inflating: /content/Dataset/IMD2020/1aoxnt/c8zj217_0_mask.png  \n",
            "  inflating: /content/Dataset/IMD2020/1aoxnt/c8zj234_0.jpg  \n",
            "  inflating: /content/Dataset/IMD2020/1aoxnt/c8zj234_0_mask.png  \n",
            "  inflating: /content/Dataset/IMD2020/1aoxnt/c8zjp3h_0.jpg  \n",
            "  inflating: /content/Dataset/IMD2020/1aoxnt/c8zjp3h_0_mask.png  \n",
            "  inflating: /content/Dataset/IMD2020/1aoxnt/c8zmf37_0.jpg  \n",
            "  inflating: /content/Dataset/IMD2020/1aoxnt/c8zmf37_0_mask.png  \n",
            "  inflating: /content/Dataset/IMD2020/1aoxnt/c8zpxv6_0.jpg  \n",
            "  inflating: /content/Dataset/IMD2020/1aoxnt/c8zpxv6_0_mask.png  \n",
            "   creating: /content/Dataset/IMD2020/1apbp2/\n",
            "  inflating: /content/Dataset/IMD2020/1apbp2/1apbp2_orig.jpg  \n",
            "  inflating: /content/Dataset/IMD2020/1apbp2/c8zkjgp_0.jpg  \n",
            "  inflating: /content/Dataset/IMD2020/1apbp2/c8zkjgp_0_mask.png  \n",
            "   creating: /content/Dataset/IMD2020/1aq0f0/\n",
            "  inflating: /content/Dataset/IMD2020/1aq0f0/1aq0f0_orig.jpg  \n",
            "  inflating: /content/Dataset/IMD2020/1aq0f0/c8zp10g_0.jpg  \n",
            "  inflating: /content/Dataset/IMD2020/1aq0f0/c8zp10g_0_mask.png  \n",
            "  inflating: /content/Dataset/IMD2020/1aq0f0/c8zv3tl_0.jpg  \n",
            "  inflating: /content/Dataset/IMD2020/1aq0f0/c8zv3tl_0_mask.png  \n",
            "   creating: /content/Dataset/IMD2020/1aq6ym/\n",
            "  inflating: /content/Dataset/IMD2020/1aq6ym/1aq6ym_orig.jpg  \n",
            "  inflating: /content/Dataset/IMD2020/1aq6ym/c8zqh4c_0.jpg  \n",
            "  inflating: /content/Dataset/IMD2020/1aq6ym/c8zqh4c_0_mask.png  \n",
            "  inflating: /content/Dataset/IMD2020/1aq6ym/c8zsg4j_0.jpg  \n",
            "  inflating: /content/Dataset/IMD2020/1aq6ym/c8zsg4j_0_mask.png  \n",
            "  inflating: /content/Dataset/IMD2020/1aq6ym/c8zsnr4_0.png  \n",
            "  inflating: /content/Dataset/IMD2020/1aq6ym/c8zsnr4_0_mask.png  \n",
            "  inflating: /content/Dataset/IMD2020/1aq6ym/c8zstoa_0.jpg  \n",
            "  inflating: /content/Dataset/IMD2020/1aq6ym/c8zstoa_0_mask.png  \n",
            "  inflating: /content/Dataset/IMD2020/1aq6ym/c8zt718_0.png  \n",
            "  inflating: /content/Dataset/IMD2020/1aq6ym/c8zt718_0_mask.png  \n",
            "  inflating: /content/Dataset/IMD2020/1aq6ym/c8zta7f_0.jpg  \n",
            "  inflating: /content/Dataset/IMD2020/1aq6ym/c8zta7f_0_mask.png  \n",
            "  inflating: /content/Dataset/IMD2020/1aq6ym/c8ztmnk_0.jpg  \n",
            "  inflating: /content/Dataset/IMD2020/1aq6ym/c8ztmnk_0_mask.png  \n",
            "  inflating: /content/Dataset/IMD2020/1aq6ym/c8zttpz_0.png  \n",
            "  inflating: /content/Dataset/IMD2020/1aq6ym/c8zttpz_0_mask.png  \n",
            "  inflating: /content/Dataset/IMD2020/1aq6ym/c8ztu03_0.jpg  \n",
            "  inflating: /content/Dataset/IMD2020/1aq6ym/c8ztu03_0_mask.png  \n",
            "  inflating: /content/Dataset/IMD2020/1aq6ym/c8zuhhz_0.jpg  \n",
            "  inflating: /content/Dataset/IMD2020/1aq6ym/c8zuhhz_0_mask.png  \n",
            "  inflating: /content/Dataset/IMD2020/1aq6ym/c8zvzmp_0.jpg  \n",
            "  inflating: /content/Dataset/IMD2020/1aq6ym/c8zvzmp_0_mask.png  \n",
            "  inflating: /content/Dataset/IMD2020/1aq6ym/c8zw8i7_0.jpg  \n",
            "  inflating: /content/Dataset/IMD2020/1aq6ym/c8zw8i7_0_mask.png  \n",
            "  inflating: /content/Dataset/IMD2020/1aq6ym/c8zwpv6_0.jpg  \n",
            "  inflating: /content/Dataset/IMD2020/1aq6ym/c8zwpv6_0_mask.png  \n",
            "  inflating: /content/Dataset/IMD2020/1aq6ym/c8zymv9_0.jpg  \n",
            "  inflating: /content/Dataset/IMD2020/1aq6ym/c8zymv9_0_mask.png  \n",
            "  inflating: /content/Dataset/IMD2020/1aq6ym/c9026js_0.jpg  \n",
            "  inflating: /content/Dataset/IMD2020/1aq6ym/c9026js_0_mask.png  \n",
            "  inflating: /content/Dataset/IMD2020/1aq6ym/c90580v_0.jpg  \n",
            "  inflating: /content/Dataset/IMD2020/1aq6ym/c90580v_0_mask.png  \n",
            "   creating: /content/Dataset/IMD2020/1aqi3j/\n",
            "  inflating: /content/Dataset/IMD2020/1aqi3j/1aqi3j_orig.jpg  \n",
            "  inflating: /content/Dataset/IMD2020/1aqi3j/c8zu1fj_0.jpg  \n",
            "  inflating: /content/Dataset/IMD2020/1aqi3j/c8zu1fj_0_mask.png  \n",
            "   creating: /content/Dataset/IMD2020/1as2hj/\n",
            "  inflating: /content/Dataset/IMD2020/1as2hj/1as2hj_orig.jpg  \n",
            "  inflating: /content/Dataset/IMD2020/1as2hj/c908yxz_0.jpg  \n",
            "  inflating: /content/Dataset/IMD2020/1as2hj/c908yxz_0_mask.png  \n",
            "  inflating: /content/Dataset/IMD2020/1as2hj/c909zbe_0.jpg  \n",
            "  inflating: /content/Dataset/IMD2020/1as2hj/c909zbe_0_mask.png  \n",
            "  inflating: /content/Dataset/IMD2020/1as2hj/c90g2uu_0.jpg  \n",
            "  inflating: /content/Dataset/IMD2020/1as2hj/c90g2uu_0_mask.png  \n",
            "   creating: /content/Dataset/IMD2020/1as3ai/\n",
            "  inflating: /content/Dataset/IMD2020/1as3ai/1as3ai_orig.jpg  \n",
            "  inflating: /content/Dataset/IMD2020/1as3ai/c908vvn_0.jpg  \n",
            "  inflating: /content/Dataset/IMD2020/1as3ai/c908vvn_0_mask.png  \n",
            "  inflating: /content/Dataset/IMD2020/1as3ai/c90c2o3_0.jpg  \n",
            "  inflating: /content/Dataset/IMD2020/1as3ai/c90c2o3_0_mask.png  \n",
            "  inflating: /content/Dataset/IMD2020/1as3ai/c90c412_0.jpg  \n",
            "  inflating: /content/Dataset/IMD2020/1as3ai/c90c412_0_mask.png  \n",
            "  inflating: /content/Dataset/IMD2020/1as3ai/c90d7x7_0.jpg  \n",
            "  inflating: /content/Dataset/IMD2020/1as3ai/c90d7x7_0_mask.png  \n",
            "  inflating: /content/Dataset/IMD2020/1as3ai/c90d9fr_0.jpg  \n",
            "  inflating: /content/Dataset/IMD2020/1as3ai/c90d9fr_0_mask.png  \n",
            "  inflating: /content/Dataset/IMD2020/1as3ai/c90dutg_0.jpg  \n",
            "  inflating: /content/Dataset/IMD2020/1as3ai/c90dutg_0_mask.png  \n",
            "  inflating: /content/Dataset/IMD2020/1as3ai/c90ef5n_0.jpg  \n",
            "  inflating: /content/Dataset/IMD2020/1as3ai/c90ef5n_0_mask.png  \n",
            "  inflating: /content/Dataset/IMD2020/1as3ai/c90fxcd_0.jpg  \n",
            "  inflating: /content/Dataset/IMD2020/1as3ai/c90fxcd_0_mask.png  \n",
            "  inflating: /content/Dataset/IMD2020/1as3ai/c90hy8l_0.jpg  \n",
            "  inflating: /content/Dataset/IMD2020/1as3ai/c90hy8l_0_mask.png  \n",
            "  inflating: /content/Dataset/IMD2020/1as3ai/c90i4n3_0.jpg  \n",
            "  inflating: /content/Dataset/IMD2020/1as3ai/c90i4n3_0_mask.png  \n",
            "  inflating: /content/Dataset/IMD2020/1as3ai/c90lr6w_0.jpg  \n",
            "  inflating: /content/Dataset/IMD2020/1as3ai/c90lr6w_0_mask.png  \n",
            "  inflating: /content/Dataset/IMD2020/1as3ai/c90oh9u_0.jpg  \n",
            "  inflating: /content/Dataset/IMD2020/1as3ai/c90oh9u_0_mask.png  \n",
            "   creating: /content/Dataset/IMD2020/1as9ik/\n",
            "  inflating: /content/Dataset/IMD2020/1as9ik/1as9ik_orig.jpg  \n",
            "  inflating: /content/Dataset/IMD2020/1as9ik/c90ciwt_0.png  \n",
            "  inflating: /content/Dataset/IMD2020/1as9ik/c90ciwt_0_mask.png  \n",
            "  inflating: /content/Dataset/IMD2020/1as9ik/c90cmeo_0.jpg  \n",
            "  inflating: /content/Dataset/IMD2020/1as9ik/c90cmeo_0_mask.png  \n",
            "  inflating: /content/Dataset/IMD2020/1as9ik/c90coip_0.jpg  \n",
            "  inflating: /content/Dataset/IMD2020/1as9ik/c90coip_0_mask.png  \n",
            "  inflating: /content/Dataset/IMD2020/1as9ik/c90cqnr_0.jpg  \n",
            "  inflating: /content/Dataset/IMD2020/1as9ik/c90cqnr_0_mask.png  \n",
            "  inflating: /content/Dataset/IMD2020/1as9ik/c90dflh_0.jpg  \n",
            "  inflating: /content/Dataset/IMD2020/1as9ik/c90dflh_0_mask.png  \n",
            "  inflating: /content/Dataset/IMD2020/1as9ik/c90do08_0.jpg  \n",
            "  inflating: /content/Dataset/IMD2020/1as9ik/c90do08_0_mask.png  \n",
            "  inflating: /content/Dataset/IMD2020/1as9ik/c90eken_0.jpg  \n",
            "  inflating: /content/Dataset/IMD2020/1as9ik/c90eken_0_mask.png  \n",
            "  inflating: /content/Dataset/IMD2020/1as9ik/c90g14e_0.jpg  \n",
            "  inflating: /content/Dataset/IMD2020/1as9ik/c90g14e_0_mask.png  \n",
            "  inflating: /content/Dataset/IMD2020/1as9ik/c90nr8m_0.jpg  \n",
            "  inflating: /content/Dataset/IMD2020/1as9ik/c90nr8m_0_mask.png  \n",
            "   creating: /content/Dataset/IMD2020/1asnfa/\n",
            "  inflating: /content/Dataset/IMD2020/1asnfa/1asnfa_orig.jpg  \n",
            "  inflating: /content/Dataset/IMD2020/1asnfa/c90dujh_0.jpg  \n",
            "  inflating: /content/Dataset/IMD2020/1asnfa/c90dujh_0_mask.png  \n",
            "   creating: /content/Dataset/IMD2020/1at8em/\n",
            "  inflating: /content/Dataset/IMD2020/1at8em/1at8em_orig.jpg  \n",
            "  inflating: /content/Dataset/IMD2020/1at8em/c90jgir_0.jpg  \n",
            "  inflating: /content/Dataset/IMD2020/1at8em/c90jgir_0_mask.png  \n",
            "  inflating: /content/Dataset/IMD2020/1at8em/c90n1qm_0.jpg  \n",
            "  inflating: /content/Dataset/IMD2020/1at8em/c90n1qm_0_mask.png  \n",
            "  inflating: /content/Dataset/IMD2020/1at8em/c90o4ei_0.jpg  \n",
            "  inflating: /content/Dataset/IMD2020/1at8em/c90o4ei_0_mask.png  \n",
            "  inflating: /content/Dataset/IMD2020/1at8em/c90s0h8_0.jpg  \n",
            "  inflating: /content/Dataset/IMD2020/1at8em/c90s0h8_0_mask.png  \n",
            "   creating: /content/Dataset/IMD2020/1atc54/\n",
            "  inflating: /content/Dataset/IMD2020/1atc54/1atc54_orig.jpg  \n",
            "  inflating: /content/Dataset/IMD2020/1atc54/c90k1ai_0.jpg  \n",
            "  inflating: /content/Dataset/IMD2020/1atc54/c90k1ai_0_mask.png  \n",
            "   creating: /content/Dataset/IMD2020/1atm1o/\n",
            "  inflating: /content/Dataset/IMD2020/1atm1o/1atm1o_orig.jpg  \n",
            "  inflating: /content/Dataset/IMD2020/1atm1o/c90mtx6_0.jpg  \n",
            "  inflating: /content/Dataset/IMD2020/1atm1o/c90mtx6_0_mask.png  \n",
            "  inflating: /content/Dataset/IMD2020/1atm1o/c90o79c_0.jpg  \n",
            "  inflating: /content/Dataset/IMD2020/1atm1o/c90o79c_0_mask.png  \n",
            "  inflating: /content/Dataset/IMD2020/1atm1o/c90okur_0.jpg  \n",
            "  inflating: /content/Dataset/IMD2020/1atm1o/c90okur_0_mask.png  \n",
            "  inflating: /content/Dataset/IMD2020/1atm1o/c90omlo_0.jpg  \n",
            "  inflating: /content/Dataset/IMD2020/1atm1o/c90omlo_0_mask.png  \n",
            "  inflating: /content/Dataset/IMD2020/1atm1o/c90os5y_0.jpg  \n",
            "  inflating: /content/Dataset/IMD2020/1atm1o/c90os5y_0_mask.png  \n",
            "  inflating: /content/Dataset/IMD2020/1atm1o/c90prjy_0.jpg  \n",
            "  inflating: /content/Dataset/IMD2020/1atm1o/c90prjy_0_mask.png  \n",
            "  inflating: /content/Dataset/IMD2020/1atm1o/c90pt3k_0.jpg  \n",
            "  inflating: /content/Dataset/IMD2020/1atm1o/c90pt3k_0_mask.png  \n",
            "  inflating: /content/Dataset/IMD2020/1atm1o/c90q0i2_0.jpg  \n",
            "  inflating: /content/Dataset/IMD2020/1atm1o/c90q0i2_0_mask.png  \n",
            "  inflating: /content/Dataset/IMD2020/1atm1o/c90q79y_0.jpg  \n",
            "  inflating: /content/Dataset/IMD2020/1atm1o/c90q79y_0_mask.png  \n",
            "  inflating: /content/Dataset/IMD2020/1atm1o/c90ra8t_0.jpg  \n",
            "  inflating: /content/Dataset/IMD2020/1atm1o/c90ra8t_0_mask.png  \n",
            "  inflating: /content/Dataset/IMD2020/1atm1o/c90rlp6_0.jpg  \n",
            "  inflating: /content/Dataset/IMD2020/1atm1o/c90rlp6_0_mask.png  \n",
            "  inflating: /content/Dataset/IMD2020/1atm1o/c90sb3t_0.jpg  \n",
            "  inflating: /content/Dataset/IMD2020/1atm1o/c90sb3t_0_mask.png  \n",
            "  inflating: /content/Dataset/IMD2020/1atm1o/c90sp6y_0.jpg  \n",
            "  inflating: /content/Dataset/IMD2020/1atm1o/c90sp6y_0_mask.png  \n",
            "   creating: /content/Dataset/IMD2020/1aty89/\n",
            "  inflating: /content/Dataset/IMD2020/1aty89/1aty89_orig.jpg  \n",
            "  inflating: /content/Dataset/IMD2020/1aty89/c90pv3g_0.png  \n",
            "  inflating: /content/Dataset/IMD2020/1aty89/c90pv3g_0_mask.png  \n",
            "   creating: /content/Dataset/IMD2020/1aut4s/\n",
            "  inflating: /content/Dataset/IMD2020/1aut4s/1aut4s_orig.jpg  \n",
            "  inflating: /content/Dataset/IMD2020/1aut4s/c90xtlr_0.png  \n",
            "  inflating: /content/Dataset/IMD2020/1aut4s/c90xtlr_0_mask.png  \n",
            "  inflating: /content/Dataset/IMD2020/1aut4s/c90yb6c_0.jpg  \n",
            "  inflating: /content/Dataset/IMD2020/1aut4s/c90yb6c_0_mask.png  \n",
            "  inflating: /content/Dataset/IMD2020/1aut4s/c90z7wb_0.png  \n",
            "  inflating: /content/Dataset/IMD2020/1aut4s/c90z7wb_0_mask.png  \n",
            "  inflating: /content/Dataset/IMD2020/1aut4s/c90zh16_0.jpg  \n",
            "  inflating: /content/Dataset/IMD2020/1aut4s/c90zh16_0_mask.png  \n",
            "  inflating: /content/Dataset/IMD2020/1aut4s/c90zhs7_0.jpg  \n",
            "  inflating: /content/Dataset/IMD2020/1aut4s/c90zhs7_0_mask.png  \n",
            "  inflating: /content/Dataset/IMD2020/1aut4s/c90znhl_0.jpg  \n",
            "  inflating: /content/Dataset/IMD2020/1aut4s/c90znhl_0_mask.png  \n",
            "  inflating: /content/Dataset/IMD2020/1aut4s/c90znpe_0.jpg  \n",
            "  inflating: /content/Dataset/IMD2020/1aut4s/c90znpe_0_mask.png  \n",
            "  inflating: /content/Dataset/IMD2020/1aut4s/c910bn6_0.jpg  \n",
            "  inflating: /content/Dataset/IMD2020/1aut4s/c910bn6_0_mask.png  \n",
            "  inflating: /content/Dataset/IMD2020/1aut4s/c910i2y_0.jpg  \n",
            "  inflating: /content/Dataset/IMD2020/1aut4s/c910i2y_0_mask.png  \n",
            "  inflating: /content/Dataset/IMD2020/1aut4s/c910wxp_0.jpg  \n",
            "  inflating: /content/Dataset/IMD2020/1aut4s/c910wxp_0_mask.png  \n",
            "  inflating: /content/Dataset/IMD2020/1aut4s/c911e7z_0.jpg  \n",
            "  inflating: /content/Dataset/IMD2020/1aut4s/c911e7z_0_mask.png  \n",
            "  inflating: /content/Dataset/IMD2020/1aut4s/c911vlp_0.jpg  \n",
            "  inflating: /content/Dataset/IMD2020/1aut4s/c911vlp_0_mask.png  \n",
            "  inflating: /content/Dataset/IMD2020/1aut4s/c912un2_0.jpg  \n",
            "  inflating: /content/Dataset/IMD2020/1aut4s/c912un2_0_mask.png  \n",
            "  inflating: /content/Dataset/IMD2020/1aut4s/c912yu8_0.jpg  \n",
            "  inflating: /content/Dataset/IMD2020/1aut4s/c912yu8_0_mask.png  \n",
            "  inflating: /content/Dataset/IMD2020/1aut4s/c9132um_0.jpg  \n",
            "  inflating: /content/Dataset/IMD2020/1aut4s/c9132um_0_mask.png  \n",
            "  inflating: /content/Dataset/IMD2020/1aut4s/c91338s_0.jpg  \n",
            "  inflating: /content/Dataset/IMD2020/1aut4s/c91338s_0_mask.png  \n",
            "  inflating: /content/Dataset/IMD2020/1aut4s/c91416c_0.jpg  \n",
            "  inflating: /content/Dataset/IMD2020/1aut4s/c91416c_0_mask.png  \n",
            "  inflating: /content/Dataset/IMD2020/1aut4s/c91681h_0.jpg  \n",
            "  inflating: /content/Dataset/IMD2020/1aut4s/c91681h_0_mask.png  \n",
            "  inflating: /content/Dataset/IMD2020/1aut4s/c9187tg_0.jpg  \n",
            "  inflating: /content/Dataset/IMD2020/1aut4s/c9187tg_0_mask.png  \n",
            "  inflating: /content/Dataset/IMD2020/1aut4s/c919ztm_0.jpg  \n",
            "  inflating: /content/Dataset/IMD2020/1aut4s/c919ztm_0_mask.png  \n",
            "   creating: /content/Dataset/IMD2020/1avax4/\n",
            "  inflating: /content/Dataset/IMD2020/1avax4/1avax4_orig.jpg  \n",
            "  inflating: /content/Dataset/IMD2020/1avax4/c9163k4_0.jpg  \n",
            "  inflating: /content/Dataset/IMD2020/1avax4/c9163k4_0_mask.png  \n",
            "   creating: /content/Dataset/IMD2020/1awo2u/\n",
            "  inflating: /content/Dataset/IMD2020/1awo2u/1awo2u_orig.jpg  \n",
            "  inflating: /content/Dataset/IMD2020/1awo2u/c91g223_0.jpg  \n",
            "  inflating: /content/Dataset/IMD2020/1awo2u/c91g223_0_mask.png  \n",
            "   creating: /content/Dataset/IMD2020/1awq0s/\n",
            "  inflating: /content/Dataset/IMD2020/1awq0s/1awq0s_orig.jpg  \n",
            "  inflating: /content/Dataset/IMD2020/1awq0s/c91g0zs_0.jpg  \n",
            "  inflating: /content/Dataset/IMD2020/1awq0s/c91g0zs_0_mask.png  \n",
            "  inflating: /content/Dataset/IMD2020/1awq0s/c91gqec_0.jpg  \n",
            "  inflating: /content/Dataset/IMD2020/1awq0s/c91gqec_0_mask.png  \n",
            "  inflating: /content/Dataset/IMD2020/1awq0s/c91gxlz_0.jpg  \n",
            "  inflating: /content/Dataset/IMD2020/1awq0s/c91gxlz_0_mask.png  \n",
            "  inflating: /content/Dataset/IMD2020/1awq0s/c91h8oi_0.jpg  \n",
            "  inflating: /content/Dataset/IMD2020/1awq0s/c91h8oi_0_mask.png  \n",
            "  inflating: /content/Dataset/IMD2020/1awq0s/c91hclm_0.jpg  \n",
            "  inflating: /content/Dataset/IMD2020/1awq0s/c91hclm_0_mask.png  \n",
            "  inflating: /content/Dataset/IMD2020/1awq0s/c91lxbv_0.jpg  \n",
            "  inflating: /content/Dataset/IMD2020/1awq0s/c91lxbv_0_mask.png  \n",
            "   creating: /content/Dataset/IMD2020/1aws4w/\n",
            "  inflating: /content/Dataset/IMD2020/1aws4w/1aws4w_orig.jpg  \n",
            "  inflating: /content/Dataset/IMD2020/1aws4w/c91h0oh_0.png  \n",
            "  inflating: /content/Dataset/IMD2020/1aws4w/c91h0oh_0_mask.png  \n",
            "  inflating: /content/Dataset/IMD2020/1aws4w/c91js2j_0.jpg  \n",
            "  inflating: /content/Dataset/IMD2020/1aws4w/c91js2j_0_mask.png  \n",
            "   creating: /content/Dataset/IMD2020/1awxvm/\n",
            "  inflating: /content/Dataset/IMD2020/1awxvm/1awxvm_orig.jpg  \n",
            "  inflating: /content/Dataset/IMD2020/1awxvm/c91kvfk_0.jpg  \n",
            "  inflating: /content/Dataset/IMD2020/1awxvm/c91kvfk_0_mask.png  \n",
            "  inflating: /content/Dataset/IMD2020/1awxvm/c91lgra_0.jpg  \n",
            "  inflating: /content/Dataset/IMD2020/1awxvm/c91lgra_0_mask.png  \n",
            "  inflating: /content/Dataset/IMD2020/1awxvm/c91mttb_0.png  \n",
            "  inflating: /content/Dataset/IMD2020/1awxvm/c91mttb_0_mask.png  \n",
            "  inflating: /content/Dataset/IMD2020/1awxvm/c91nl9x_0.jpg  \n",
            "  inflating: /content/Dataset/IMD2020/1awxvm/c91nl9x_0_mask.png  \n",
            "  inflating: /content/Dataset/IMD2020/1awxvm/c91o1ca_0.jpg  \n",
            "  inflating: /content/Dataset/IMD2020/1awxvm/c91o1ca_0_mask.png  \n",
            "  inflating: /content/Dataset/IMD2020/1awxvm/c91oecj_0.jpg  \n",
            "  inflating: /content/Dataset/IMD2020/1awxvm/c91oecj_0_mask.png  \n",
            "  inflating: /content/Dataset/IMD2020/1awxvm/c91ot4e_0.jpg  \n",
            "  inflating: /content/Dataset/IMD2020/1awxvm/c91ot4e_0_mask.png  \n",
            "  inflating: /content/Dataset/IMD2020/1awxvm/c91qncg_0.jpg  \n",
            "  inflating: /content/Dataset/IMD2020/1awxvm/c91qncg_0_mask.png  \n",
            "  inflating: /content/Dataset/IMD2020/1awxvm/c91t61z_0.jpg  \n",
            "  inflating: /content/Dataset/IMD2020/1awxvm/c91t61z_0_mask.png  \n",
            "   creating: /content/Dataset/IMD2020/1ax6zq/\n",
            "  inflating: /content/Dataset/IMD2020/1ax6zq/1ax6zq_orig.jpg  \n",
            "  inflating: /content/Dataset/IMD2020/1ax6zq/c91o8wl_0.jpg  \n",
            "  inflating: /content/Dataset/IMD2020/1ax6zq/c91o8wl_0_mask.png  \n",
            "  inflating: /content/Dataset/IMD2020/1ax6zq/c91pkp5_0.jpg  \n",
            "  inflating: /content/Dataset/IMD2020/1ax6zq/c91pkp5_0_mask.png  \n",
            "   creating: /content/Dataset/IMD2020/1axap9/\n",
            "  inflating: /content/Dataset/IMD2020/1axap9/1axap9_orig.jpg  \n",
            "  inflating: /content/Dataset/IMD2020/1axap9/c91tgga_0.jpg  \n",
            "  inflating: /content/Dataset/IMD2020/1axap9/c91tgga_0_mask.png  \n",
            "   creating: /content/Dataset/IMD2020/1axr5s/\n",
            "  inflating: /content/Dataset/IMD2020/1axr5s/1axr5s_orig.jpg  \n",
            "  inflating: /content/Dataset/IMD2020/1axr5s/c91s2tg_0.jpg  \n",
            "  inflating: /content/Dataset/IMD2020/1axr5s/c91s2tg_0_mask.png  \n",
            "   creating: /content/Dataset/IMD2020/1ay6i0/\n",
            "  inflating: /content/Dataset/IMD2020/1ay6i0/1ay6i0_orig.jpg  \n",
            "  inflating: /content/Dataset/IMD2020/1ay6i0/c91ujvf_0.jpg  \n",
            "  inflating: /content/Dataset/IMD2020/1ay6i0/c91ujvf_0_mask.png  \n",
            "  inflating: /content/Dataset/IMD2020/1ay6i0/c91wof4_0.jpg  \n",
            "  inflating: /content/Dataset/IMD2020/1ay6i0/c91wof4_0_mask.png  \n",
            "  inflating: /content/Dataset/IMD2020/1ay6i0/c91x9y7_0.jpg  \n",
            "  inflating: /content/Dataset/IMD2020/1ay6i0/c91x9y7_0_mask.png  \n",
            "  inflating: /content/Dataset/IMD2020/1ay6i0/c923dj8_0.jpg  \n",
            "  inflating: /content/Dataset/IMD2020/1ay6i0/c923dj8_0_mask.png  \n",
            "   creating: /content/Dataset/IMD2020/1ayilh/\n",
            "  inflating: /content/Dataset/IMD2020/1ayilh/1ayilh_orig.jpg  \n",
            "  inflating: /content/Dataset/IMD2020/1ayilh/c91z2wh_0.jpg  \n",
            "  inflating: /content/Dataset/IMD2020/1ayilh/c91z2wh_0_mask.png  \n",
            "   creating: /content/Dataset/IMD2020/1az3z4/\n",
            "  inflating: /content/Dataset/IMD2020/1az3z4/1az3z4_orig.jpg  \n",
            "  inflating: /content/Dataset/IMD2020/1az3z4/c925i21_0.jpg  \n",
            "  inflating: /content/Dataset/IMD2020/1az3z4/c925i21_0_mask.png  \n",
            "  inflating: /content/Dataset/IMD2020/1az3z4/c9266q1_0.jpg  \n",
            "  inflating: /content/Dataset/IMD2020/1az3z4/c9266q1_0_mask.png  \n",
            "  inflating: /content/Dataset/IMD2020/1az3z4/c928dvs_0.jpg  \n",
            "  inflating: /content/Dataset/IMD2020/1az3z4/c928dvs_0_mask.png  \n",
            "  inflating: /content/Dataset/IMD2020/1az3z4/c928z82_0.jpg  \n",
            "  inflating: /content/Dataset/IMD2020/1az3z4/c928z82_0_mask.png  \n",
            "  inflating: /content/Dataset/IMD2020/1az3z4/c92atfy_0.jpg  \n",
            "  inflating: /content/Dataset/IMD2020/1az3z4/c92atfy_0_mask.png  \n",
            "  inflating: /content/Dataset/IMD2020/1az3z4/c92cabj_0.jpg  \n",
            "  inflating: /content/Dataset/IMD2020/1az3z4/c92cabj_0_mask.png  \n",
            "  inflating: /content/Dataset/IMD2020/1az3z4/c92cbi6_0.jpg  \n",
            "  inflating: /content/Dataset/IMD2020/1az3z4/c92cbi6_0_mask.png  \n",
            "  inflating: /content/Dataset/IMD2020/1az3z4/c92cltu_0.jpg  \n",
            "  inflating: /content/Dataset/IMD2020/1az3z4/c92cltu_0_mask.png  \n",
            "  inflating: /content/Dataset/IMD2020/1az3z4/c92coio_0.jpg  \n",
            "  inflating: /content/Dataset/IMD2020/1az3z4/c92coio_0_mask.png  \n",
            "  inflating: /content/Dataset/IMD2020/1az3z4/c92gvqy_0.jpg  \n",
            "  inflating: /content/Dataset/IMD2020/1az3z4/c92gvqy_0_mask.png  \n",
            "   creating: /content/Dataset/IMD2020/1azcvv/\n",
            "  inflating: /content/Dataset/IMD2020/1azcvv/1azcvv_orig.jpg  \n",
            "  inflating: /content/Dataset/IMD2020/1azcvv/c926it4_0.jpg  \n",
            "  inflating: /content/Dataset/IMD2020/1azcvv/c926it4_0_mask.png  \n",
            "  inflating: /content/Dataset/IMD2020/1azcvv/c929k2x_0.jpg  \n",
            "  inflating: /content/Dataset/IMD2020/1azcvv/c929k2x_0_mask.png  \n",
            "  inflating: /content/Dataset/IMD2020/1azcvv/c92b5tv_0.jpg  \n",
            "  inflating: /content/Dataset/IMD2020/1azcvv/c92b5tv_0_mask.png  \n",
            "  inflating: /content/Dataset/IMD2020/1azcvv/c92be1o_0.jpg  \n",
            "  inflating: /content/Dataset/IMD2020/1azcvv/c92be1o_0_mask.png  \n",
            "  inflating: /content/Dataset/IMD2020/1azcvv/c92ebc2_0.jpg  \n",
            "  inflating: /content/Dataset/IMD2020/1azcvv/c92ebc2_0_mask.png  \n",
            "  inflating: /content/Dataset/IMD2020/1azcvv/c92eu2z_0.jpg  \n",
            "  inflating: /content/Dataset/IMD2020/1azcvv/c92eu2z_0_mask.png  \n",
            "  inflating: /content/Dataset/IMD2020/1azcvv/c92fby0_0.jpg  \n",
            "  inflating: /content/Dataset/IMD2020/1azcvv/c92fby0_0_mask.png  \n",
            "   creating: /content/Dataset/IMD2020/1azhe4/\n",
            "  inflating: /content/Dataset/IMD2020/1azhe4/1azhe4_orig.jpg  \n",
            "  inflating: /content/Dataset/IMD2020/1azhe4/c928p9k_0.png  \n",
            "  inflating: /content/Dataset/IMD2020/1azhe4/c928p9k_0_mask.png  \n",
            "  inflating: /content/Dataset/IMD2020/1azhe4/c92dfhw_0.jpg  \n",
            "  inflating: /content/Dataset/IMD2020/1azhe4/c92dfhw_0_mask.png  \n",
            "  inflating: /content/Dataset/IMD2020/1azhe4/c92dy1z_0.jpg  \n",
            "  inflating: /content/Dataset/IMD2020/1azhe4/c92dy1z_0_mask.png  \n",
            "  inflating: /content/Dataset/IMD2020/1azhe4/c92glob_0.jpg  \n",
            "  inflating: /content/Dataset/IMD2020/1azhe4/c92glob_0_mask.png  \n",
            "  inflating: /content/Dataset/IMD2020/1azhe4/c92gt3h_0.jpg  \n",
            "  inflating: /content/Dataset/IMD2020/1azhe4/c92gt3h_0_mask.png  \n",
            "  inflating: /content/Dataset/IMD2020/1azhe4/c92hsr5_0.jpg  \n",
            "  inflating: /content/Dataset/IMD2020/1azhe4/c92hsr5_0_mask.png  \n",
            "  inflating: /content/Dataset/IMD2020/1azhe4/c92m6qm_0.png  \n",
            "  inflating: /content/Dataset/IMD2020/1azhe4/c92m6qm_0_mask.png  \n",
            "   creating: /content/Dataset/IMD2020/1aziip/\n",
            "  inflating: /content/Dataset/IMD2020/1aziip/1aziip_orig.jpg  \n",
            "  inflating: /content/Dataset/IMD2020/1aziip/c92ai3g_0.png  \n",
            "  inflating: /content/Dataset/IMD2020/1aziip/c92ai3g_0_mask.png  \n",
            "   creating: /content/Dataset/IMD2020/1azovt/\n",
            "  inflating: /content/Dataset/IMD2020/1azovt/1azovt_orig.jpg  \n",
            "  inflating: /content/Dataset/IMD2020/1azovt/c92ansy_0.jpg  \n",
            "  inflating: /content/Dataset/IMD2020/1azovt/c92ansy_0_mask.png  \n",
            "  inflating: /content/Dataset/IMD2020/1azovt/c92dxhr_0.jpg  \n",
            "  inflating: /content/Dataset/IMD2020/1azovt/c92dxhr_0_mask.png  \n",
            "   creating: /content/Dataset/IMD2020/1azru8/\n",
            "  inflating: /content/Dataset/IMD2020/1azru8/1azru8_orig.jpg  \n",
            "  inflating: /content/Dataset/IMD2020/1azru8/c929r39_0.jpg  \n",
            "  inflating: /content/Dataset/IMD2020/1azru8/c929r39_0_mask.png  \n",
            "  inflating: /content/Dataset/IMD2020/1azru8/c92a3eh_0.jpg  \n",
            "  inflating: /content/Dataset/IMD2020/1azru8/c92a3eh_0_mask.png  \n",
            "  inflating: /content/Dataset/IMD2020/1azru8/c92df1g_0.jpg  \n",
            "  inflating: /content/Dataset/IMD2020/1azru8/c92df1g_0_mask.png  \n",
            "  inflating: /content/Dataset/IMD2020/1azru8/c92jm4u_0.jpg  \n",
            "  inflating: /content/Dataset/IMD2020/1azru8/c92jm4u_0_mask.png  \n",
            "  inflating: /content/Dataset/IMD2020/1azru8/c92lydr_0.jpg  \n",
            "  inflating: /content/Dataset/IMD2020/1azru8/c92lydr_0_mask.png  \n",
            "   creating: /content/Dataset/IMD2020/1azvyy/\n",
            "  inflating: /content/Dataset/IMD2020/1azvyy/1azvyy_orig.jpg  \n",
            "  inflating: /content/Dataset/IMD2020/1azvyy/c92dgp0_0.jpg  \n",
            "  inflating: /content/Dataset/IMD2020/1azvyy/c92dgp0_0_mask.png  \n",
            "   creating: /content/Dataset/IMD2020/1b0kjn/\n",
            "  inflating: /content/Dataset/IMD2020/1b0kjn/1b0kjn_orig.jpg  \n",
            "  inflating: /content/Dataset/IMD2020/1b0kjn/c92hrf9_0.jpg  \n",
            "  inflating: /content/Dataset/IMD2020/1b0kjn/c92hrf9_0_mask.png  \n",
            "   creating: /content/Dataset/IMD2020/1b1epd/\n",
            "  inflating: /content/Dataset/IMD2020/1b1epd/1b1epd_orig.jpg  \n",
            "  inflating: /content/Dataset/IMD2020/1b1epd/c92q0yd_0.jpg  \n",
            "  inflating: /content/Dataset/IMD2020/1b1epd/c92q0yd_0_mask.png  \n",
            "  inflating: /content/Dataset/IMD2020/1b1epd/c92q18a_0.jpg  \n",
            "  inflating: /content/Dataset/IMD2020/1b1epd/c92q18a_0_mask.png  \n",
            "  inflating: /content/Dataset/IMD2020/1b1epd/c92q4n1_0.jpg  \n",
            "  inflating: /content/Dataset/IMD2020/1b1epd/c92q4n1_0_mask.png  \n",
            "  inflating: /content/Dataset/IMD2020/1b1epd/c92qfqu_0.png  \n",
            "  inflating: /content/Dataset/IMD2020/1b1epd/c92qfqu_0_mask.png  \n",
            "  inflating: /content/Dataset/IMD2020/1b1epd/c92qgq8_0.jpg  \n",
            "  inflating: /content/Dataset/IMD2020/1b1epd/c92qgq8_0_mask.png  \n",
            "  inflating: /content/Dataset/IMD2020/1b1epd/c92qy35_0.png  \n",
            "  inflating: /content/Dataset/IMD2020/1b1epd/c92qy35_0_mask.png  \n",
            "  inflating: /content/Dataset/IMD2020/1b1epd/c92v7b9_0.jpg  \n",
            "  inflating: /content/Dataset/IMD2020/1b1epd/c92v7b9_0_mask.png  \n",
            "  inflating: /content/Dataset/IMD2020/1b1epd/c92wo0u_0.jpg  \n",
            "  inflating: /content/Dataset/IMD2020/1b1epd/c92wo0u_0_mask.png  \n",
            "  inflating: /content/Dataset/IMD2020/1b1epd/c92zq41_0.jpg  \n",
            "  inflating: /content/Dataset/IMD2020/1b1epd/c92zq41_0_mask.png  \n",
            "  inflating: /content/Dataset/IMD2020/1b1epd/c930c3q_0.jpg  \n",
            "  inflating: /content/Dataset/IMD2020/1b1epd/c930c3q_0_mask.png  \n",
            "   creating: /content/Dataset/IMD2020/1b1pdg/\n",
            "  inflating: /content/Dataset/IMD2020/1b1pdg/1b1pdg_orig.jpg  \n",
            "  inflating: /content/Dataset/IMD2020/1b1pdg/c92s0oq_0.jpg  \n",
            "  inflating: /content/Dataset/IMD2020/1b1pdg/c92s0oq_0_mask.png  \n",
            "  inflating: /content/Dataset/IMD2020/1b1pdg/c92s1zk_0.jpg  \n",
            "  inflating: /content/Dataset/IMD2020/1b1pdg/c92s1zk_0_mask.png  \n",
            "  inflating: /content/Dataset/IMD2020/1b1pdg/c92us74_0.jpg  \n",
            "  inflating: /content/Dataset/IMD2020/1b1pdg/c92us74_0_mask.png  \n",
            "  inflating: /content/Dataset/IMD2020/1b1pdg/c92vi3h_0.png  \n",
            "  inflating: /content/Dataset/IMD2020/1b1pdg/c92vi3h_0_mask.png  \n",
            "  inflating: /content/Dataset/IMD2020/1b1pdg/c92vzrm_0.jpg  \n",
            "  inflating: /content/Dataset/IMD2020/1b1pdg/c92vzrm_0_mask.png  \n",
            "  inflating: /content/Dataset/IMD2020/1b1pdg/c92xk95_0.jpg  \n",
            "  inflating: /content/Dataset/IMD2020/1b1pdg/c92xk95_0_mask.png  \n",
            "   creating: /content/Dataset/IMD2020/1b1vqv/\n",
            "  inflating: /content/Dataset/IMD2020/1b1vqv/1b1vqv_orig.jpg  \n",
            "  inflating: /content/Dataset/IMD2020/1b1vqv/c92va3t_0.jpg  \n",
            "  inflating: /content/Dataset/IMD2020/1b1vqv/c92va3t_0_mask.png  \n",
            "  inflating: /content/Dataset/IMD2020/1b1vqv/c92wjsi_0.jpg  \n",
            "  inflating: /content/Dataset/IMD2020/1b1vqv/c92wjsi_0_mask.png  \n",
            "   creating: /content/Dataset/IMD2020/1b2ynb/\n",
            "  inflating: /content/Dataset/IMD2020/1b2ynb/1b2ynb_orig.jpg  \n",
            "  inflating: /content/Dataset/IMD2020/1b2ynb/c933r08_0.jpg  \n",
            "  inflating: /content/Dataset/IMD2020/1b2ynb/c933r08_0_mask.png  \n",
            "  inflating: /content/Dataset/IMD2020/1b2ynb/c934im7_0.jpg  \n",
            "  inflating: /content/Dataset/IMD2020/1b2ynb/c934im7_0_mask.png  \n",
            "  inflating: /content/Dataset/IMD2020/1b2ynb/c9350xa_0.jpg  \n",
            "  inflating: /content/Dataset/IMD2020/1b2ynb/c9350xa_0_mask.png  \n",
            "  inflating: /content/Dataset/IMD2020/1b2ynb/c935hvo_0.jpg  \n",
            "  inflating: /content/Dataset/IMD2020/1b2ynb/c935hvo_0_mask.png  \n",
            "  inflating: /content/Dataset/IMD2020/1b2ynb/c935n1j_0.jpg  \n",
            "  inflating: /content/Dataset/IMD2020/1b2ynb/c935n1j_0_mask.png  \n",
            "  inflating: /content/Dataset/IMD2020/1b2ynb/c935pb2_0.jpg  \n",
            "  inflating: /content/Dataset/IMD2020/1b2ynb/c935pb2_0_mask.png  \n",
            "  inflating: /content/Dataset/IMD2020/1b2ynb/c936lfy_0.jpg  \n",
            "  inflating: /content/Dataset/IMD2020/1b2ynb/c936lfy_0_mask.png  \n",
            "  inflating: /content/Dataset/IMD2020/1b2ynb/c936xo5_0.png  \n",
            "  inflating: /content/Dataset/IMD2020/1b2ynb/c936xo5_0_mask.png  \n",
            "  inflating: /content/Dataset/IMD2020/1b2ynb/c938omt_0.png  \n",
            "  inflating: /content/Dataset/IMD2020/1b2ynb/c938omt_0_mask.png  \n",
            "   creating: /content/Dataset/IMD2020/1b3t1x/\n",
            "  inflating: /content/Dataset/IMD2020/1b3t1x/1b3t1x_orig.jpg  \n",
            "  inflating: /content/Dataset/IMD2020/1b3t1x/c93czl5_0.jpg  \n",
            "  inflating: /content/Dataset/IMD2020/1b3t1x/c93czl5_0_mask.png  \n",
            "   creating: /content/Dataset/IMD2020/1b4a9x/\n",
            "  inflating: /content/Dataset/IMD2020/1b4a9x/1b4a9x_orig.jpg  \n",
            "  inflating: /content/Dataset/IMD2020/1b4a9x/c93hbzp_0.png  \n",
            "  inflating: /content/Dataset/IMD2020/1b4a9x/c93hbzp_0_mask.png  \n",
            "  inflating: /content/Dataset/IMD2020/1b4a9x/c93hwyp_0.jpg  \n",
            "  inflating: /content/Dataset/IMD2020/1b4a9x/c93hwyp_0_mask.png  \n",
            "  inflating: /content/Dataset/IMD2020/1b4a9x/c93idi8_0.jpg  \n",
            "  inflating: /content/Dataset/IMD2020/1b4a9x/c93idi8_0_mask.png  \n",
            "  inflating: /content/Dataset/IMD2020/1b4a9x/c93ls41_0.jpg  \n",
            "  inflating: /content/Dataset/IMD2020/1b4a9x/c93ls41_0_mask.png  \n",
            "  inflating: /content/Dataset/IMD2020/1b4a9x/c93me8y_0.png  \n",
            "  inflating: /content/Dataset/IMD2020/1b4a9x/c93me8y_0_mask.png  \n",
            "  inflating: /content/Dataset/IMD2020/1b4a9x/c93mz9d_0.jpg  \n",
            "  inflating: /content/Dataset/IMD2020/1b4a9x/c93mz9d_0_mask.png  \n",
            "   creating: /content/Dataset/IMD2020/1b4knn/\n",
            "  inflating: /content/Dataset/IMD2020/1b4knn/1b4knn_orig.jpg  \n",
            "  inflating: /content/Dataset/IMD2020/1b4knn/c93k770_0.jpg  \n",
            "  inflating: /content/Dataset/IMD2020/1b4knn/c93k770_0_mask.png  \n",
            "  inflating: /content/Dataset/IMD2020/1b4knn/c93kbyf_0.jpg  \n",
            "  inflating: /content/Dataset/IMD2020/1b4knn/c93kbyf_0_mask.png  \n",
            "   creating: /content/Dataset/IMD2020/1b6yyc/\n",
            "  inflating: /content/Dataset/IMD2020/1b6yyc/1b6yyc_orig.jpg  \n",
            "  inflating: /content/Dataset/IMD2020/1b6yyc/c9482ja_0.jpg  \n",
            "  inflating: /content/Dataset/IMD2020/1b6yyc/c9482ja_0_mask.png  \n",
            "  inflating: /content/Dataset/IMD2020/1b6yyc/c948lks_0.jpg  \n",
            "  inflating: /content/Dataset/IMD2020/1b6yyc/c948lks_0_mask.png  \n",
            "  inflating: /content/Dataset/IMD2020/1b6yyc/c949b58_0.jpg  \n",
            "  inflating: /content/Dataset/IMD2020/1b6yyc/c949b58_0_mask.png  \n",
            "  inflating: /content/Dataset/IMD2020/1b6yyc/c949vtj_0.png  \n",
            "  inflating: /content/Dataset/IMD2020/1b6yyc/c949vtj_0_mask.png  \n",
            "  inflating: /content/Dataset/IMD2020/1b6yyc/c949wvr_0.jpg  \n",
            "  inflating: /content/Dataset/IMD2020/1b6yyc/c949wvr_0_mask.png  \n",
            "  inflating: /content/Dataset/IMD2020/1b6yyc/c949yvb_0.jpg  \n",
            "  inflating: /content/Dataset/IMD2020/1b6yyc/c949yvb_0_mask.png  \n",
            "  inflating: /content/Dataset/IMD2020/1b6yyc/c94b087_0.jpg  \n",
            "  inflating: /content/Dataset/IMD2020/1b6yyc/c94b087_0_mask.png  \n",
            "  inflating: /content/Dataset/IMD2020/1b6yyc/c94bbxr_0.jpg  \n",
            "  inflating: /content/Dataset/IMD2020/1b6yyc/c94bbxr_0_mask.png  \n",
            "  inflating: /content/Dataset/IMD2020/1b6yyc/c94cpfe_0.jpg  \n",
            "  inflating: /content/Dataset/IMD2020/1b6yyc/c94cpfe_0_mask.png  \n",
            "   creating: /content/Dataset/IMD2020/1b7c47/\n",
            "  inflating: /content/Dataset/IMD2020/1b7c47/1b7c47_orig.jpg  \n",
            "  inflating: /content/Dataset/IMD2020/1b7c47/c94a4qa_0.jpg  \n",
            "  inflating: /content/Dataset/IMD2020/1b7c47/c94a4qa_0_mask.png  \n",
            "   creating: /content/Dataset/IMD2020/1b7ua0/\n",
            "  inflating: /content/Dataset/IMD2020/1b7ua0/1b7ua0_orig.jpg  \n",
            "  inflating: /content/Dataset/IMD2020/1b7ua0/c94ejp7_0.jpg  \n",
            "  inflating: /content/Dataset/IMD2020/1b7ua0/c94ejp7_0_mask.png  \n",
            "  inflating: /content/Dataset/IMD2020/1b7ua0/c94f1jd_0.jpg  \n",
            "  inflating: /content/Dataset/IMD2020/1b7ua0/c94f1jd_0_mask.png  \n",
            "  inflating: /content/Dataset/IMD2020/1b7ua0/c94fett_0.jpg  \n",
            "  inflating: /content/Dataset/IMD2020/1b7ua0/c94fett_0_mask.png  \n",
            "  inflating: /content/Dataset/IMD2020/1b7ua0/c94frqx_0.jpg  \n",
            "  inflating: /content/Dataset/IMD2020/1b7ua0/c94frqx_0_mask.png  \n",
            "  inflating: /content/Dataset/IMD2020/1b7ua0/c94fusp_0.jpg  \n",
            "  inflating: /content/Dataset/IMD2020/1b7ua0/c94fusp_0_mask.png  \n",
            "  inflating: /content/Dataset/IMD2020/1b7ua0/c94gj9u_0.jpg  \n",
            "  inflating: /content/Dataset/IMD2020/1b7ua0/c94gj9u_0_mask.png  \n",
            "  inflating: /content/Dataset/IMD2020/1b7ua0/c94i3fa_0.png  \n",
            "  inflating: /content/Dataset/IMD2020/1b7ua0/c94i3fa_0_mask.png  \n",
            "  inflating: /content/Dataset/IMD2020/1b7ua0/c94kqhs_0.jpg  \n",
            "  inflating: /content/Dataset/IMD2020/1b7ua0/c94kqhs_0_mask.png  \n",
            "  inflating: /content/Dataset/IMD2020/1b7ua0/c94l7xc_0.jpg  \n",
            "  inflating: /content/Dataset/IMD2020/1b7ua0/c94l7xc_0_mask.png  \n",
            "  inflating: /content/Dataset/IMD2020/1b7ua0/c94m47r_0.jpg  \n",
            "  inflating: /content/Dataset/IMD2020/1b7ua0/c94m47r_0_mask.png  \n",
            "   creating: /content/Dataset/IMD2020/1b8r7b/\n",
            "  inflating: /content/Dataset/IMD2020/1b8r7b/1b8r7b_orig.jpg  \n",
            "  inflating: /content/Dataset/IMD2020/1b8r7b/c94nt6e_0.jpg  \n",
            "  inflating: /content/Dataset/IMD2020/1b8r7b/c94nt6e_0_mask.png  \n",
            "  inflating: /content/Dataset/IMD2020/1b8r7b/c94nvm9_0.jpg  \n",
            "  inflating: /content/Dataset/IMD2020/1b8r7b/c94nvm9_0_mask.png  \n",
            "  inflating: /content/Dataset/IMD2020/1b8r7b/c94o4hp_0.jpg  \n",
            "  inflating: /content/Dataset/IMD2020/1b8r7b/c94o4hp_0_mask.png  \n",
            "  inflating: /content/Dataset/IMD2020/1b8r7b/c94o5rb_0.jpg  \n",
            "  inflating: /content/Dataset/IMD2020/1b8r7b/c94o5rb_0_mask.png  \n",
            "  inflating: /content/Dataset/IMD2020/1b8r7b/c94o928_0.jpg  \n",
            "  inflating: /content/Dataset/IMD2020/1b8r7b/c94o928_0_mask.png  \n",
            "  inflating: /content/Dataset/IMD2020/1b8r7b/c94objl_0.jpg  \n",
            "  inflating: /content/Dataset/IMD2020/1b8r7b/c94objl_0_mask.png  \n",
            "  inflating: /content/Dataset/IMD2020/1b8r7b/c94obyg_0.jpg  \n",
            "  inflating: /content/Dataset/IMD2020/1b8r7b/c94obyg_0_mask.png  \n",
            "  inflating: /content/Dataset/IMD2020/1b8r7b/c94odrd_0.jpg  \n",
            "  inflating: /content/Dataset/IMD2020/1b8r7b/c94odrd_0_mask.png  \n",
            "  inflating: /content/Dataset/IMD2020/1b8r7b/c94og9i_0.jpg  \n",
            "  inflating: /content/Dataset/IMD2020/1b8r7b/c94og9i_0_mask.png  \n",
            "  inflating: /content/Dataset/IMD2020/1b8r7b/c94ol6h_0.jpg  \n",
            "  inflating: /content/Dataset/IMD2020/1b8r7b/c94ol6h_0_mask.png  \n",
            "  inflating: /content/Dataset/IMD2020/1b8r7b/c94onxp_0.jpg  \n",
            "  inflating: /content/Dataset/IMD2020/1b8r7b/c94onxp_0_mask.png  \n",
            "  inflating: /content/Dataset/IMD2020/1b8r7b/c94os8l_0.jpg  \n",
            "  inflating: /content/Dataset/IMD2020/1b8r7b/c94os8l_0_mask.png  \n",
            "  inflating: /content/Dataset/IMD2020/1b8r7b/c94otp8_0.png  \n",
            "  inflating: /content/Dataset/IMD2020/1b8r7b/c94otp8_0_mask.png  \n",
            "  inflating: /content/Dataset/IMD2020/1b8r7b/c94ouih_0.jpg  \n",
            "  inflating: /content/Dataset/IMD2020/1b8r7b/c94ouih_0_mask.png  \n",
            "  inflating: /content/Dataset/IMD2020/1b8r7b/c94ov3d_0.png  \n",
            "  inflating: /content/Dataset/IMD2020/1b8r7b/c94ov3d_0_mask.png  \n",
            "  inflating: /content/Dataset/IMD2020/1b8r7b/c94ovkm_0.jpg  \n",
            "  inflating: /content/Dataset/IMD2020/1b8r7b/c94ovkm_0_mask.png  \n",
            "  inflating: /content/Dataset/IMD2020/1b8r7b/c94oxzj_0.jpg  \n",
            "  inflating: /content/Dataset/IMD2020/1b8r7b/c94oxzj_0_mask.png  \n",
            "  inflating: /content/Dataset/IMD2020/1b8r7b/c94oyfj_0.jpg  \n",
            "  inflating: /content/Dataset/IMD2020/1b8r7b/c94oyfj_0_mask.png  \n",
            "  inflating: /content/Dataset/IMD2020/1b8r7b/c94p9wa_0.jpg  \n",
            "  inflating: /content/Dataset/IMD2020/1b8r7b/c94p9wa_0_mask.png  \n",
            "  inflating: /content/Dataset/IMD2020/1b8r7b/c94pe6g_0.jpg  \n",
            "  inflating: /content/Dataset/IMD2020/1b8r7b/c94pe6g_0_mask.png  \n",
            "  inflating: /content/Dataset/IMD2020/1b8r7b/c94pnq5_0.jpg  \n",
            "  inflating: /content/Dataset/IMD2020/1b8r7b/c94pnq5_0_mask.png  \n",
            "  inflating: /content/Dataset/IMD2020/1b8r7b/c94psva_0.jpg  \n",
            "  inflating: /content/Dataset/IMD2020/1b8r7b/c94psva_0_mask.png  \n",
            "  inflating: /content/Dataset/IMD2020/1b8r7b/c94psxr_0.jpg  \n",
            "  inflating: /content/Dataset/IMD2020/1b8r7b/c94psxr_0_mask.png  \n",
            "  inflating: /content/Dataset/IMD2020/1b8r7b/c94pvw7_0.jpg  \n",
            "  inflating: /content/Dataset/IMD2020/1b8r7b/c94pvw7_0_mask.png  \n",
            "  inflating: /content/Dataset/IMD2020/1b8r7b/c94pw6i_0.png  \n",
            "  inflating: /content/Dataset/IMD2020/1b8r7b/c94pw6i_0_mask.png  \n",
            "  inflating: /content/Dataset/IMD2020/1b8r7b/c94q3kl_0.jpg  \n",
            "  inflating: /content/Dataset/IMD2020/1b8r7b/c94q3kl_0_mask.png  \n",
            "  inflating: /content/Dataset/IMD2020/1b8r7b/c94q8ji_0.jpg  \n",
            "  inflating: /content/Dataset/IMD2020/1b8r7b/c94q8ji_0_mask.png  \n",
            "  inflating: /content/Dataset/IMD2020/1b8r7b/c94qgem_0.jpg  \n",
            "  inflating: /content/Dataset/IMD2020/1b8r7b/c94qgem_0_mask.png  \n",
            "  inflating: /content/Dataset/IMD2020/1b8r7b/c94qh20_0.jpg  \n",
            "  inflating: /content/Dataset/IMD2020/1b8r7b/c94qh20_0_mask.png  \n",
            "  inflating: /content/Dataset/IMD2020/1b8r7b/c94qp39_0.jpg  \n",
            "  inflating: /content/Dataset/IMD2020/1b8r7b/c94qp39_0_mask.png  \n",
            "  inflating: /content/Dataset/IMD2020/1b8r7b/c94r82x_0.jpg  \n",
            "  inflating: /content/Dataset/IMD2020/1b8r7b/c94r82x_0_mask.png  \n",
            "  inflating: /content/Dataset/IMD2020/1b8r7b/c94rqra_0.jpg  \n",
            "  inflating: /content/Dataset/IMD2020/1b8r7b/c94rqra_0_mask.png  \n",
            "  inflating: /content/Dataset/IMD2020/1b8r7b/c94rx11_0.jpg  \n",
            "  inflating: /content/Dataset/IMD2020/1b8r7b/c94rx11_0_mask.png  \n",
            "  inflating: /content/Dataset/IMD2020/1b8r7b/c94s1ue_0.jpg  \n",
            "  inflating: /content/Dataset/IMD2020/1b8r7b/c94s1ue_0_mask.png  \n",
            "  inflating: /content/Dataset/IMD2020/1b8r7b/c94s6nu_0.jpg  \n",
            "  inflating: /content/Dataset/IMD2020/1b8r7b/c94s6nu_0_mask.png  \n",
            "  inflating: /content/Dataset/IMD2020/1b8r7b/c94scmh_0.jpg  \n",
            "  inflating: /content/Dataset/IMD2020/1b8r7b/c94scmh_0_mask.png  \n",
            "  inflating: /content/Dataset/IMD2020/1b8r7b/c94soye_0.png  \n",
            "  inflating: /content/Dataset/IMD2020/1b8r7b/c94soye_0_mask.png  \n",
            "  inflating: /content/Dataset/IMD2020/1b8r7b/c94t7en_0.jpg  \n",
            "  inflating: /content/Dataset/IMD2020/1b8r7b/c94t7en_0_mask.png  \n",
            "  inflating: /content/Dataset/IMD2020/1b8r7b/c94tbw3_0.jpg  \n",
            "  inflating: /content/Dataset/IMD2020/1b8r7b/c94tbw3_0_mask.png  \n",
            "  inflating: /content/Dataset/IMD2020/1b8r7b/c94ueeu_0.jpg  \n",
            "  inflating: /content/Dataset/IMD2020/1b8r7b/c94ueeu_0_mask.png  \n",
            "  inflating: /content/Dataset/IMD2020/1b8r7b/c94vd78_0.jpg  \n",
            "  inflating: /content/Dataset/IMD2020/1b8r7b/c94vd78_0_mask.png  \n",
            "  inflating: /content/Dataset/IMD2020/1b8r7b/c94waqq_0.jpg  \n",
            "  inflating: /content/Dataset/IMD2020/1b8r7b/c94waqq_0_mask.png  \n",
            "  inflating: /content/Dataset/IMD2020/1b8r7b/c94xgw2_0.jpg  \n",
            "  inflating: /content/Dataset/IMD2020/1b8r7b/c94xgw2_0_mask.png  \n",
            "   creating: /content/Dataset/IMD2020/1b9l65/\n",
            "  inflating: /content/Dataset/IMD2020/1b9l65/1b9l65_orig.jpg  \n",
            "  inflating: /content/Dataset/IMD2020/1b9l65/c94xd3q_0.jpg  \n",
            "  inflating: /content/Dataset/IMD2020/1b9l65/c94xd3q_0_mask.png  \n",
            "  inflating: /content/Dataset/IMD2020/1b9l65/c94ygpb_0.jpg  \n",
            "  inflating: /content/Dataset/IMD2020/1b9l65/c94ygpb_0_mask.png  \n",
            "   creating: /content/Dataset/IMD2020/1b9lyb/\n",
            "  inflating: /content/Dataset/IMD2020/1b9lyb/1b9lyb_orig.jpg  \n",
            "  inflating: /content/Dataset/IMD2020/1b9lyb/c94vpjk_0.jpg  \n",
            "  inflating: /content/Dataset/IMD2020/1b9lyb/c94vpjk_0_mask.png  \n",
            "  inflating: /content/Dataset/IMD2020/1b9lyb/c94zspt_0.jpg  \n",
            "  inflating: /content/Dataset/IMD2020/1b9lyb/c94zspt_0_mask.png  \n",
            "   creating: /content/Dataset/IMD2020/1b9qko/\n",
            "  inflating: /content/Dataset/IMD2020/1b9qko/1b9qko_orig.jpg  \n",
            "  inflating: /content/Dataset/IMD2020/1b9qko/c951j7v_0.jpg  \n",
            "  inflating: /content/Dataset/IMD2020/1b9qko/c951j7v_0_mask.png  \n",
            "   creating: /content/Dataset/IMD2020/1b9voq/\n",
            "  inflating: /content/Dataset/IMD2020/1b9voq/1b9voq_orig.jpg  \n",
            "  inflating: /content/Dataset/IMD2020/1b9voq/c952fpe_0.jpg  \n",
            "  inflating: /content/Dataset/IMD2020/1b9voq/c952fpe_0_mask.png  \n",
            "  inflating: /content/Dataset/IMD2020/1b9voq/c952g1p_0.jpg  \n",
            "  inflating: /content/Dataset/IMD2020/1b9voq/c952g1p_0_mask.png  \n",
            "  inflating: /content/Dataset/IMD2020/1b9voq/c952ngn_0.jpg  \n",
            "  inflating: /content/Dataset/IMD2020/1b9voq/c952ngn_0_mask.png  \n",
            "   creating: /content/Dataset/IMD2020/1b18vd/\n",
            "  inflating: /content/Dataset/IMD2020/1b18vd/1b18vd_orig.jpg  \n",
            "  inflating: /content/Dataset/IMD2020/1b18vd/c92n9gt_0.png  \n",
            "  inflating: /content/Dataset/IMD2020/1b18vd/c92n9gt_0_mask.png  \n",
            "  inflating: /content/Dataset/IMD2020/1b18vd/c92nwb3_0.jpg  \n",
            "  inflating: /content/Dataset/IMD2020/1b18vd/c92nwb3_0_mask.png  \n",
            "  inflating: /content/Dataset/IMD2020/1b18vd/c92onbn_0.png  \n",
            "  inflating: /content/Dataset/IMD2020/1b18vd/c92onbn_0_mask.png  \n",
            "  inflating: /content/Dataset/IMD2020/1b18vd/c92p68x_0.jpg  \n",
            "  inflating: /content/Dataset/IMD2020/1b18vd/c92p68x_0_mask.png  \n",
            "  inflating: /content/Dataset/IMD2020/1b18vd/c92pqca_0.jpg  \n",
            "  inflating: /content/Dataset/IMD2020/1b18vd/c92pqca_0_mask.png  \n",
            "  inflating: /content/Dataset/IMD2020/1b18vd/c92psdg_0.jpg  \n",
            "  inflating: /content/Dataset/IMD2020/1b18vd/c92psdg_0_mask.png  \n",
            "  inflating: /content/Dataset/IMD2020/1b18vd/c92q0xi_0.jpg  \n",
            "  inflating: /content/Dataset/IMD2020/1b18vd/c92q0xi_0_mask.png  \n",
            "  inflating: /content/Dataset/IMD2020/1b18vd/c92q42b_0.png  \n",
            "  inflating: /content/Dataset/IMD2020/1b18vd/c92q42b_0_mask.png  \n",
            "  inflating: /content/Dataset/IMD2020/1b18vd/c92qhl9_0.jpg  \n",
            "  inflating: /content/Dataset/IMD2020/1b18vd/c92qhl9_0_mask.png  \n",
            "  inflating: /content/Dataset/IMD2020/1b18vd/c92qjd8_0.jpg  \n",
            "  inflating: /content/Dataset/IMD2020/1b18vd/c92qjd8_0_mask.png  \n",
            "  inflating: /content/Dataset/IMD2020/1b18vd/c92qres_0.jpg  \n",
            "  inflating: /content/Dataset/IMD2020/1b18vd/c92qres_0_mask.png  \n",
            "  inflating: /content/Dataset/IMD2020/1b18vd/c92qw48_0.jpg  \n",
            "  inflating: /content/Dataset/IMD2020/1b18vd/c92qw48_0_mask.png  \n",
            "  inflating: /content/Dataset/IMD2020/1b18vd/c92rwnu_0.png  \n",
            "  inflating: /content/Dataset/IMD2020/1b18vd/c92rwnu_0_mask.png  \n",
            "  inflating: /content/Dataset/IMD2020/1b18vd/c92slcj_0.jpg  \n",
            "  inflating: /content/Dataset/IMD2020/1b18vd/c92slcj_0_mask.png  \n",
            "  inflating: /content/Dataset/IMD2020/1b18vd/c92sqgw_0.jpg  \n",
            "  inflating: /content/Dataset/IMD2020/1b18vd/c92sqgw_0_mask.png  \n",
            "  inflating: /content/Dataset/IMD2020/1b18vd/c92urd0_0.jpg  \n",
            "  inflating: /content/Dataset/IMD2020/1b18vd/c92urd0_0_mask.png  \n",
            "  inflating: /content/Dataset/IMD2020/1b18vd/c92uvo3_0.jpg  \n",
            "  inflating: /content/Dataset/IMD2020/1b18vd/c92uvo3_0_mask.png  \n",
            "  inflating: /content/Dataset/IMD2020/1b18vd/c9306r3_0.jpg  \n",
            "  inflating: /content/Dataset/IMD2020/1b18vd/c9306r3_0_mask.png  \n",
            "   creating: /content/Dataset/IMD2020/1b26rs/\n",
            "  inflating: /content/Dataset/IMD2020/1b26rs/1b26rs_orig.jpg  \n",
            "  inflating: /content/Dataset/IMD2020/1b26rs/c92zvkq_0.jpg  \n",
            "  inflating: /content/Dataset/IMD2020/1b26rs/c92zvkq_0_mask.png  \n",
            "   creating: /content/Dataset/IMD2020/1b29hp/\n",
            "  inflating: /content/Dataset/IMD2020/1b29hp/1b29hp_orig.jpg  \n",
            "  inflating: /content/Dataset/IMD2020/1b29hp/c930hby_0.png  \n",
            "  inflating: /content/Dataset/IMD2020/1b29hp/c930hby_0_mask.png  \n",
            "   creating: /content/Dataset/IMD2020/1b40l4/\n",
            "  inflating: /content/Dataset/IMD2020/1b40l4/1b40l4_orig.jpg  \n",
            "  inflating: /content/Dataset/IMD2020/1b40l4/c93e2q1_0.png  \n",
            "  inflating: /content/Dataset/IMD2020/1b40l4/c93e2q1_0_mask.png  \n",
            "  inflating: /content/Dataset/IMD2020/1b40l4/c93ewwm_0.jpg  \n",
            "  inflating: /content/Dataset/IMD2020/1b40l4/c93ewwm_0_mask.png  \n",
            "  inflating: /content/Dataset/IMD2020/1b40l4/c93f747_0.jpg  \n",
            "  inflating: /content/Dataset/IMD2020/1b40l4/c93f747_0_mask.png  \n",
            "  inflating: /content/Dataset/IMD2020/1b40l4/c93ft3o_0.jpg  \n",
            "  inflating: /content/Dataset/IMD2020/1b40l4/c93ft3o_0_mask.png  \n",
            "  inflating: /content/Dataset/IMD2020/1b40l4/c93g8n1_0.jpg  \n",
            "  inflating: /content/Dataset/IMD2020/1b40l4/c93g8n1_0_mask.png  \n",
            "  inflating: /content/Dataset/IMD2020/1b40l4/c93gd4c_0.jpg  \n",
            "  inflating: /content/Dataset/IMD2020/1b40l4/c93gd4c_0_mask.png  \n",
            "  inflating: /content/Dataset/IMD2020/1b40l4/c93gg4y_0.png  \n",
            "  inflating: /content/Dataset/IMD2020/1b40l4/c93gg4y_0_mask.png  \n",
            "  inflating: /content/Dataset/IMD2020/1b40l4/c93gtrk_0.jpg  \n",
            "  inflating: /content/Dataset/IMD2020/1b40l4/c93gtrk_0_mask.png  \n",
            "  inflating: /content/Dataset/IMD2020/1b40l4/c93hgyn_0.jpg  \n",
            "  inflating: /content/Dataset/IMD2020/1b40l4/c93hgyn_0_mask.png  \n",
            "  inflating: /content/Dataset/IMD2020/1b40l4/c93i12g_0.jpg  \n",
            "  inflating: /content/Dataset/IMD2020/1b40l4/c93i12g_0_mask.png  \n",
            "  inflating: /content/Dataset/IMD2020/1b40l4/c93ie4w_0.jpg  \n",
            "  inflating: /content/Dataset/IMD2020/1b40l4/c93ie4w_0_mask.png  \n",
            "  inflating: /content/Dataset/IMD2020/1b40l4/c93is7s_0.jpg  \n",
            "  inflating: /content/Dataset/IMD2020/1b40l4/c93is7s_0_mask.png  \n",
            "  inflating: /content/Dataset/IMD2020/1b40l4/c93j7x2_0.jpg  \n",
            "  inflating: /content/Dataset/IMD2020/1b40l4/c93j7x2_0_mask.png  \n",
            "  inflating: /content/Dataset/IMD2020/1b40l4/c93l76u_0.jpg  \n",
            "  inflating: /content/Dataset/IMD2020/1b40l4/c93l76u_0_mask.png  \n",
            "   creating: /content/Dataset/IMD2020/1b61h7/\n",
            "  inflating: /content/Dataset/IMD2020/1b61h7/1b61h7_orig.jpg  \n",
            "  inflating: /content/Dataset/IMD2020/1b61h7/c93yj46_0.jpg  \n",
            "  inflating: /content/Dataset/IMD2020/1b61h7/c93yj46_0_mask.png  \n",
            "  inflating: /content/Dataset/IMD2020/1b61h7/c93yxq8_0.jpg  \n",
            "  inflating: /content/Dataset/IMD2020/1b61h7/c93yxq8_0_mask.png  \n",
            "  inflating: /content/Dataset/IMD2020/1b61h7/c93zcf5_0.jpg  \n",
            "  inflating: /content/Dataset/IMD2020/1b61h7/c93zcf5_0_mask.png  \n",
            "  inflating: /content/Dataset/IMD2020/1b61h7/c9418yh_0.jpg  \n",
            "  inflating: /content/Dataset/IMD2020/1b61h7/c9418yh_0_mask.png  \n",
            "  inflating: /content/Dataset/IMD2020/1b61h7/c942gr7_0.jpg  \n",
            "  inflating: /content/Dataset/IMD2020/1b61h7/c942gr7_0_mask.png  \n",
            "  inflating: /content/Dataset/IMD2020/1b61h7/c942wsd_0.jpg  \n",
            "  inflating: /content/Dataset/IMD2020/1b61h7/c942wsd_0_mask.png  \n",
            "  inflating: /content/Dataset/IMD2020/1b61h7/c944m4x_0.jpg  \n",
            "  inflating: /content/Dataset/IMD2020/1b61h7/c944m4x_0_mask.png  \n",
            "  inflating: /content/Dataset/IMD2020/1b61h7/c94dlao_0.jpg  \n",
            "  inflating: /content/Dataset/IMD2020/1b61h7/c94dlao_0_mask.png  \n",
            "   creating: /content/Dataset/IMD2020/1b68xn/\n",
            "  inflating: /content/Dataset/IMD2020/1b68xn/1b68xn_orig.jpg  \n",
            "  inflating: /content/Dataset/IMD2020/1b68xn/c93z6zn_0.jpg  \n",
            "  inflating: /content/Dataset/IMD2020/1b68xn/c93z6zn_0_mask.png  \n",
            "  inflating: /content/Dataset/IMD2020/1b68xn/c93zetz_0.jpg  \n",
            "  inflating: /content/Dataset/IMD2020/1b68xn/c93zetz_0_mask.png  \n",
            "  inflating: /content/Dataset/IMD2020/1b68xn/c940xti_0.jpg  \n",
            "  inflating: /content/Dataset/IMD2020/1b68xn/c940xti_0_mask.png  \n",
            "  inflating: /content/Dataset/IMD2020/1b68xn/c944h7f_0.png  \n",
            "  inflating: /content/Dataset/IMD2020/1b68xn/c944h7f_0_mask.png  \n",
            "  inflating: /content/Dataset/IMD2020/1b68xn/c946fyh_0.jpg  \n",
            "  inflating: /content/Dataset/IMD2020/1b68xn/c946fyh_0_mask.png  \n",
            "  inflating: /content/Dataset/IMD2020/1b68xn/c9471hz_0.jpg  \n",
            "  inflating: /content/Dataset/IMD2020/1b68xn/c9471hz_0_mask.png  \n",
            "  inflating: /content/Dataset/IMD2020/1b68xn/c9479yq_0.jpg  \n",
            "  inflating: /content/Dataset/IMD2020/1b68xn/c9479yq_0_mask.png  \n",
            "  inflating: /content/Dataset/IMD2020/1b68xn/c947jvq_0.png  \n",
            "  inflating: /content/Dataset/IMD2020/1b68xn/c947jvq_0_mask.png  \n",
            "  inflating: /content/Dataset/IMD2020/1b68xn/c948ak3_0.png  \n",
            "  inflating: /content/Dataset/IMD2020/1b68xn/c948ak3_0_mask.png  \n",
            "  inflating: /content/Dataset/IMD2020/1b68xn/c948hfr_0.jpg  \n",
            "  inflating: /content/Dataset/IMD2020/1b68xn/c948hfr_0_mask.png  \n",
            "  inflating: /content/Dataset/IMD2020/1b68xn/c949n9f_0.jpg  \n",
            "  inflating: /content/Dataset/IMD2020/1b68xn/c949n9f_0_mask.png  \n",
            "  inflating: /content/Dataset/IMD2020/1b68xn/c94amkh_0.png  \n",
            "  inflating: /content/Dataset/IMD2020/1b68xn/c94amkh_0_mask.png  \n",
            "  inflating: /content/Dataset/IMD2020/1b68xn/c94cmpk_0.jpg  \n",
            "  inflating: /content/Dataset/IMD2020/1b68xn/c94cmpk_0_mask.png  \n",
            "  inflating: /content/Dataset/IMD2020/1b68xn/c94ctu2_0.jpg  \n",
            "  inflating: /content/Dataset/IMD2020/1b68xn/c94ctu2_0_mask.png  \n",
            "  inflating: /content/Dataset/IMD2020/1b68xn/c94ddtu_0.jpg  \n",
            "  inflating: /content/Dataset/IMD2020/1b68xn/c94ddtu_0_mask.png  \n",
            "  inflating: /content/Dataset/IMD2020/1b68xn/c94ei0s_0.jpg  \n",
            "  inflating: /content/Dataset/IMD2020/1b68xn/c94ei0s_0_mask.png  \n",
            "  inflating: /content/Dataset/IMD2020/1b68xn/c94epq9_0.jpg  \n",
            "  inflating: /content/Dataset/IMD2020/1b68xn/c94epq9_0_mask.png  \n",
            "   creating: /content/Dataset/IMD2020/1b78na/\n",
            "  inflating: /content/Dataset/IMD2020/1b78na/1b78na_orig.jpg  \n",
            "  inflating: /content/Dataset/IMD2020/1b78na/c948sr5_0.jpg  \n",
            "  inflating: /content/Dataset/IMD2020/1b78na/c948sr5_0_mask.png  \n",
            "  inflating: /content/Dataset/IMD2020/1b78na/c94e0w4_0.jpg  \n",
            "  inflating: /content/Dataset/IMD2020/1b78na/c94e0w4_0_mask.png  \n",
            "  inflating: /content/Dataset/IMD2020/1b78na/c94f69a_0.jpg  \n",
            "  inflating: /content/Dataset/IMD2020/1b78na/c94f69a_0_mask.png  \n",
            "  inflating: /content/Dataset/IMD2020/1b78na/c94fuqy_0.jpg  \n",
            "  inflating: /content/Dataset/IMD2020/1b78na/c94fuqy_0_mask.png  \n",
            "  inflating: /content/Dataset/IMD2020/1b78na/c94fzwl_0.jpg  \n",
            "  inflating: /content/Dataset/IMD2020/1b78na/c94fzwl_0_mask.png  \n",
            "  inflating: /content/Dataset/IMD2020/1b78na/c94gwuu_0.jpg  \n",
            "  inflating: /content/Dataset/IMD2020/1b78na/c94gwuu_0_mask.png  \n",
            "  inflating: /content/Dataset/IMD2020/1b78na/c94gx14_0.jpg  \n",
            "  inflating: /content/Dataset/IMD2020/1b78na/c94gx14_0_mask.png  \n",
            "  inflating: /content/Dataset/IMD2020/1b78na/c94h2qf_0.jpg  \n",
            "  inflating: /content/Dataset/IMD2020/1b78na/c94h2qf_0_mask.png  \n",
            "  inflating: /content/Dataset/IMD2020/1b78na/c94ilwx_0.jpg  \n",
            "  inflating: /content/Dataset/IMD2020/1b78na/c94ilwx_0_mask.png  \n",
            "  inflating: /content/Dataset/IMD2020/1b78na/c94n3m0_0.jpg  \n",
            "  inflating: /content/Dataset/IMD2020/1b78na/c94n3m0_0_mask.png  \n",
            "   creating: /content/Dataset/IMD2020/1b506d/\n",
            "  inflating: /content/Dataset/IMD2020/1b506d/1b506d_orig.jpg  \n",
            "  inflating: /content/Dataset/IMD2020/1b506d/c93p653_0.jpg  \n",
            "  inflating: /content/Dataset/IMD2020/1b506d/c93p653_0_mask.png  \n",
            "   creating: /content/Dataset/IMD2020/1b921i/\n",
            "  inflating: /content/Dataset/IMD2020/1b921i/1b921i_orig.jpg  \n",
            "  inflating: /content/Dataset/IMD2020/1b921i/c94s183_0.jpg  \n",
            "  inflating: /content/Dataset/IMD2020/1b921i/c94s183_0_mask.png  \n",
            "  inflating: /content/Dataset/IMD2020/1b921i/c94vln6_0.jpg  \n",
            "  inflating: /content/Dataset/IMD2020/1b921i/c94vln6_0_mask.png  \n",
            "   creating: /content/Dataset/IMD2020/1bafx4/\n",
            "  inflating: /content/Dataset/IMD2020/1bafx4/1bafx4_orig.jpg  \n",
            "  inflating: /content/Dataset/IMD2020/1bafx4/c956l7o_0.png  \n",
            "  inflating: /content/Dataset/IMD2020/1bafx4/c956l7o_0_mask.png  \n",
            "  inflating: /content/Dataset/IMD2020/1bafx4/c957x7p_0.jpg  \n",
            "  inflating: /content/Dataset/IMD2020/1bafx4/c957x7p_0_mask.png  \n",
            "   creating: /content/Dataset/IMD2020/1bajww/\n",
            "  inflating: /content/Dataset/IMD2020/1bajww/1bajww_orig.jpg  \n",
            "  inflating: /content/Dataset/IMD2020/1bajww/c956eb7_0.jpg  \n",
            "  inflating: /content/Dataset/IMD2020/1bajww/c956eb7_0_mask.png  \n",
            "  inflating: /content/Dataset/IMD2020/1bajww/c956yew_0.jpg  \n",
            "  inflating: /content/Dataset/IMD2020/1bajww/c956yew_0_mask.png  \n",
            "  inflating: /content/Dataset/IMD2020/1bajww/c958b7f_0.jpg  \n",
            "  inflating: /content/Dataset/IMD2020/1bajww/c958b7f_0_mask.png  \n",
            "   creating: /content/Dataset/IMD2020/1batnk/\n",
            "  inflating: /content/Dataset/IMD2020/1batnk/1batnk_orig.jpg  \n",
            "  inflating: /content/Dataset/IMD2020/1batnk/c956q0k_0.jpg  \n",
            "  inflating: /content/Dataset/IMD2020/1batnk/c956q0k_0_mask.png  \n",
            "  inflating: /content/Dataset/IMD2020/1batnk/c957j9n_0.jpg  \n",
            "  inflating: /content/Dataset/IMD2020/1batnk/c957j9n_0_mask.png  \n",
            "  inflating: /content/Dataset/IMD2020/1batnk/c957juh_0.jpg  \n",
            "  inflating: /content/Dataset/IMD2020/1batnk/c957juh_0_mask.png  \n",
            "  inflating: /content/Dataset/IMD2020/1batnk/c957rl8_0.jpg  \n",
            "  inflating: /content/Dataset/IMD2020/1batnk/c957rl8_0_mask.png  \n",
            "  inflating: /content/Dataset/IMD2020/1batnk/c957wt6_0.jpg  \n",
            "  inflating: /content/Dataset/IMD2020/1batnk/c957wt6_0_mask.png  \n",
            "  inflating: /content/Dataset/IMD2020/1batnk/c957wve_0.jpg  \n",
            "  inflating: /content/Dataset/IMD2020/1batnk/c957wve_0_mask.png  \n",
            "  inflating: /content/Dataset/IMD2020/1batnk/c958gik_0.jpg  \n",
            "  inflating: /content/Dataset/IMD2020/1batnk/c958gik_0_mask.png  \n",
            "  inflating: /content/Dataset/IMD2020/1batnk/c9595sv_0.jpg  \n",
            "  inflating: /content/Dataset/IMD2020/1batnk/c9595sv_0_mask.png  \n",
            "  inflating: /content/Dataset/IMD2020/1batnk/c959a6e_0.jpg  \n",
            "  inflating: /content/Dataset/IMD2020/1batnk/c959a6e_0_mask.png  \n",
            "  inflating: /content/Dataset/IMD2020/1batnk/c95adiz_0.jpg  \n",
            "  inflating: /content/Dataset/IMD2020/1batnk/c95adiz_0_mask.png  \n",
            "  inflating: /content/Dataset/IMD2020/1batnk/c95aqlb_0.jpg  \n",
            "  inflating: /content/Dataset/IMD2020/1batnk/c95aqlb_0_mask.png  \n",
            "  inflating: /content/Dataset/IMD2020/1batnk/c95ho7w_0.jpg  \n",
            "  inflating: /content/Dataset/IMD2020/1batnk/c95ho7w_0_mask.png  \n",
            "   creating: /content/Dataset/IMD2020/1bawri/\n",
            "  inflating: /content/Dataset/IMD2020/1bawri/1bawri_orig.jpg  \n",
            "  inflating: /content/Dataset/IMD2020/1bawri/c95biez_0.jpg  \n",
            "  inflating: /content/Dataset/IMD2020/1bawri/c95biez_0_mask.png  \n",
            "   creating: /content/Dataset/IMD2020/1bax4h/\n",
            "  inflating: /content/Dataset/IMD2020/1bax4h/1bax4h_orig.jpg  \n",
            "  inflating: /content/Dataset/IMD2020/1bax4h/c958erg_0.jpg  \n",
            "  inflating: /content/Dataset/IMD2020/1bax4h/c958erg_0_mask.png  \n",
            "  inflating: /content/Dataset/IMD2020/1bax4h/c958j97_0.png  \n",
            "  inflating: /content/Dataset/IMD2020/1bax4h/c958j97_0_mask.png  \n",
            "  inflating: /content/Dataset/IMD2020/1bax4h/c95c3yu_0.png  \n",
            "  inflating: /content/Dataset/IMD2020/1bax4h/c95c3yu_0_mask.png  \n",
            "  inflating: /content/Dataset/IMD2020/1bax4h/c95gz0y_0.jpg  \n",
            "  inflating: /content/Dataset/IMD2020/1bax4h/c95gz0y_0_mask.png  \n",
            "  inflating: /content/Dataset/IMD2020/1bax4h/c95h4kd_0.jpg  \n",
            "  inflating: /content/Dataset/IMD2020/1bax4h/c95h4kd_0_mask.png  \n",
            "  inflating: /content/Dataset/IMD2020/1bax4h/c95iajl_0.jpg  \n",
            "  inflating: /content/Dataset/IMD2020/1bax4h/c95iajl_0_mask.png  \n",
            "   creating: /content/Dataset/IMD2020/1bbmcy/\n",
            "  inflating: /content/Dataset/IMD2020/1bbmcy/1bbmcy_orig.jpg  \n",
            "  inflating: /content/Dataset/IMD2020/1bbmcy/c95flen_0.jpg  \n",
            "  inflating: /content/Dataset/IMD2020/1bbmcy/c95flen_0_mask.png  \n",
            "  inflating: /content/Dataset/IMD2020/1bbmcy/c95hyjq_0.png  \n",
            "  inflating: /content/Dataset/IMD2020/1bbmcy/c95hyjq_0_mask.png  \n",
            "  inflating: /content/Dataset/IMD2020/1bbmcy/c95kdy8_0.jpg  \n",
            "  inflating: /content/Dataset/IMD2020/1bbmcy/c95kdy8_0_mask.png  \n",
            "  inflating: /content/Dataset/IMD2020/1bbmcy/c95ku3b_0.jpg  \n",
            "  inflating: /content/Dataset/IMD2020/1bbmcy/c95ku3b_0_mask.png  \n",
            "   creating: /content/Dataset/IMD2020/1bbpcg/\n",
            "  inflating: /content/Dataset/IMD2020/1bbpcg/1bbpcg_orig.jpg  \n",
            "  inflating: /content/Dataset/IMD2020/1bbpcg/c95ftu6_0.png  \n",
            "  inflating: /content/Dataset/IMD2020/1bbpcg/c95ftu6_0_mask.png  \n",
            "  inflating: /content/Dataset/IMD2020/1bbpcg/c95fx63_0.png  \n",
            "  inflating: /content/Dataset/IMD2020/1bbpcg/c95fx63_0_mask.png  \n",
            "  inflating: /content/Dataset/IMD2020/1bbpcg/c95gjg9_0.jpg  \n",
            "  inflating: /content/Dataset/IMD2020/1bbpcg/c95gjg9_0_mask.png  \n",
            "  inflating: /content/Dataset/IMD2020/1bbpcg/c95lr06_0.jpg  \n",
            "  inflating: /content/Dataset/IMD2020/1bbpcg/c95lr06_0_mask.png  \n",
            "  inflating: /content/Dataset/IMD2020/1bbpcg/c95mkhb_0.jpg  \n",
            "  inflating: /content/Dataset/IMD2020/1bbpcg/c95mkhb_0_mask.png  \n",
            "   creating: /content/Dataset/IMD2020/1bbszb/\n",
            "  inflating: /content/Dataset/IMD2020/1bbszb/1bbszb_orig.jpg  \n",
            "  inflating: /content/Dataset/IMD2020/1bbszb/c95gd9r_0.jpg  \n",
            "  inflating: /content/Dataset/IMD2020/1bbszb/c95gd9r_0_mask.png  \n",
            "  inflating: /content/Dataset/IMD2020/1bbszb/c95nmhg_0.jpg  \n",
            "  inflating: /content/Dataset/IMD2020/1bbszb/c95nmhg_0_mask.png  \n",
            "   creating: /content/Dataset/IMD2020/1bbuj9/\n",
            "  inflating: /content/Dataset/IMD2020/1bbuj9/1bbuj9_orig.jpg  \n",
            "  inflating: /content/Dataset/IMD2020/1bbuj9/c95gkhl_0.jpg  \n",
            "  inflating: /content/Dataset/IMD2020/1bbuj9/c95gkhl_0_mask.png  \n",
            "  inflating: /content/Dataset/IMD2020/1bbuj9/c95h6w7_0.jpg  \n",
            "  inflating: /content/Dataset/IMD2020/1bbuj9/c95h6w7_0_mask.png  \n",
            "  inflating: /content/Dataset/IMD2020/1bbuj9/c95hsqp_0.jpg  \n",
            "  inflating: /content/Dataset/IMD2020/1bbuj9/c95hsqp_0_mask.png  \n",
            "  inflating: /content/Dataset/IMD2020/1bbuj9/c95illf_0.jpg  \n",
            "  inflating: /content/Dataset/IMD2020/1bbuj9/c95illf_0_mask.png  \n",
            "  inflating: /content/Dataset/IMD2020/1bbuj9/c95j6gb_0.jpg  \n",
            "  inflating: /content/Dataset/IMD2020/1bbuj9/c95j6gb_0_mask.png  \n",
            "  inflating: /content/Dataset/IMD2020/1bbuj9/c95je2e_0.jpg  \n",
            "  inflating: /content/Dataset/IMD2020/1bbuj9/c95je2e_0_mask.png  \n",
            "  inflating: /content/Dataset/IMD2020/1bbuj9/c95kras_0.jpg  \n",
            "  inflating: /content/Dataset/IMD2020/1bbuj9/c95kras_0_mask.png  \n",
            "  inflating: /content/Dataset/IMD2020/1bbuj9/c95l9tm_0.jpg  \n",
            "  inflating: /content/Dataset/IMD2020/1bbuj9/c95l9tm_0_mask.png  \n",
            "  inflating: /content/Dataset/IMD2020/1bbuj9/c95lzlj_0.jpg  \n",
            "  inflating: /content/Dataset/IMD2020/1bbuj9/c95lzlj_0_mask.png  \n",
            "  inflating: /content/Dataset/IMD2020/1bbuj9/c95m7eb_0.jpg  \n",
            "  inflating: /content/Dataset/IMD2020/1bbuj9/c95m7eb_0_mask.png  \n",
            "  inflating: /content/Dataset/IMD2020/1bbuj9/c95mu70_0.jpg  \n",
            "  inflating: /content/Dataset/IMD2020/1bbuj9/c95mu70_0_mask.png  \n",
            "  inflating: /content/Dataset/IMD2020/1bbuj9/c95o67f_0.jpg  \n",
            "  inflating: /content/Dataset/IMD2020/1bbuj9/c95o67f_0_mask.png  \n",
            "  inflating: /content/Dataset/IMD2020/1bbuj9/c95occz_0.jpg  \n",
            "  inflating: /content/Dataset/IMD2020/1bbuj9/c95occz_0_mask.png  \n",
            "   creating: /content/Dataset/IMD2020/1bcy4k/\n",
            "  inflating: /content/Dataset/IMD2020/1bcy4k/1bcy4k_orig.jpg  \n",
            "  inflating: /content/Dataset/IMD2020/1bcy4k/c95qbrf_0.jpg  \n",
            "  inflating: /content/Dataset/IMD2020/1bcy4k/c95qbrf_0_mask.png  \n",
            "  inflating: /content/Dataset/IMD2020/1bcy4k/c95srb7_0.jpg  \n",
            "  inflating: /content/Dataset/IMD2020/1bcy4k/c95srb7_0_mask.png  \n",
            "  inflating: /content/Dataset/IMD2020/1bcy4k/c95t0d9_0.jpg  \n",
            "  inflating: /content/Dataset/IMD2020/1bcy4k/c95t0d9_0_mask.png  \n",
            "  inflating: /content/Dataset/IMD2020/1bcy4k/c95ugiv_0.jpg  \n",
            "  inflating: /content/Dataset/IMD2020/1bcy4k/c95ugiv_0_mask.png  \n",
            "  inflating: /content/Dataset/IMD2020/1bcy4k/c95uufr_0.jpg  \n",
            "  inflating: /content/Dataset/IMD2020/1bcy4k/c95uufr_0_mask.png  \n",
            "  inflating: /content/Dataset/IMD2020/1bcy4k/c95wc8c_0.jpg  \n",
            "  inflating: /content/Dataset/IMD2020/1bcy4k/c95wc8c_0_mask.png  \n",
            "  inflating: /content/Dataset/IMD2020/1bcy4k/c95wl0v_0.jpg  \n",
            "  inflating: /content/Dataset/IMD2020/1bcy4k/c95wl0v_0_mask.png  \n",
            "  inflating: /content/Dataset/IMD2020/1bcy4k/c95woiz_0.jpg  \n",
            "  inflating: /content/Dataset/IMD2020/1bcy4k/c95woiz_0_mask.png  \n",
            "  inflating: /content/Dataset/IMD2020/1bcy4k/c95xmd0_0.jpg  \n",
            "  inflating: /content/Dataset/IMD2020/1bcy4k/c95xmd0_0_mask.png  \n",
            "  inflating: /content/Dataset/IMD2020/1bcy4k/c95y02z_0.jpg  \n",
            "  inflating: /content/Dataset/IMD2020/1bcy4k/c95y02z_0_mask.png  \n",
            "  inflating: /content/Dataset/IMD2020/1bcy4k/c95z458_0.jpg  \n",
            "  inflating: /content/Dataset/IMD2020/1bcy4k/c95z458_0_mask.png  \n",
            "   creating: /content/Dataset/IMD2020/1bczrg/\n",
            "  inflating: /content/Dataset/IMD2020/1bczrg/1bczrg_orig.jpg  \n",
            "  inflating: /content/Dataset/IMD2020/1bczrg/c95uyty_0.jpg  \n",
            "  inflating: /content/Dataset/IMD2020/1bczrg/c95uyty_0_mask.png  \n",
            "   creating: /content/Dataset/IMD2020/1bd4lv/\n",
            "  inflating: /content/Dataset/IMD2020/1bd4lv/1bd4lv_orig.jpg  \n",
            "  inflating: /content/Dataset/IMD2020/1bd4lv/c95utnm_0.jpg  \n",
            "  inflating: /content/Dataset/IMD2020/1bd4lv/c95utnm_0_mask.png  \n",
            "   creating: /content/Dataset/IMD2020/1bek0p/\n",
            "  inflating: /content/Dataset/IMD2020/1bek0p/1bek0p_orig.jpg  \n",
            "  inflating: /content/Dataset/IMD2020/1bek0p/c966md3_0.jpg  \n",
            "  inflating: /content/Dataset/IMD2020/1bek0p/c966md3_0_mask.png  \n",
            "  inflating: /content/Dataset/IMD2020/1bek0p/c967vk6_0.jpg  \n",
            "  inflating: /content/Dataset/IMD2020/1bek0p/c967vk6_0_mask.png  \n",
            "  inflating: /content/Dataset/IMD2020/1bek0p/c9684z1_0.jpg  \n",
            "  inflating: /content/Dataset/IMD2020/1bek0p/c9684z1_0_mask.png  \n",
            "  inflating: /content/Dataset/IMD2020/1bek0p/c9689r9_0.png  \n",
            "  inflating: /content/Dataset/IMD2020/1bek0p/c9689r9_0_mask.png  \n",
            "  inflating: /content/Dataset/IMD2020/1bek0p/c968kn0_0.jpg  \n",
            "  inflating: /content/Dataset/IMD2020/1bek0p/c968kn0_0_mask.png  \n",
            "  inflating: /content/Dataset/IMD2020/1bek0p/c968obk_0.jpg  \n",
            "  inflating: /content/Dataset/IMD2020/1bek0p/c968obk_0_mask.png  \n",
            "  inflating: /content/Dataset/IMD2020/1bek0p/c968udn_0.jpg  \n",
            "  inflating: /content/Dataset/IMD2020/1bek0p/c968udn_0_mask.png  \n",
            "  inflating: /content/Dataset/IMD2020/1bek0p/c968x5d_0.jpg  \n",
            "  inflating: /content/Dataset/IMD2020/1bek0p/c968x5d_0_mask.png  \n",
            "  inflating: /content/Dataset/IMD2020/1bek0p/c96bh08_0.jpg  \n",
            "  inflating: /content/Dataset/IMD2020/1bek0p/c96bh08_0_mask.png  \n",
            "  inflating: /content/Dataset/IMD2020/1bek0p/c96dewj_0.jpg  \n",
            "  inflating: /content/Dataset/IMD2020/1bek0p/c96dewj_0_mask.png  \n",
            "  inflating: /content/Dataset/IMD2020/1bek0p/c96ese6_0.jpg  \n",
            "  inflating: /content/Dataset/IMD2020/1bek0p/c96ese6_0_mask.png  \n",
            "  inflating: /content/Dataset/IMD2020/1bek0p/c96euuf_0.jpg  \n",
            "  inflating: /content/Dataset/IMD2020/1bek0p/c96euuf_0_mask.png  \n",
            "   creating: /content/Dataset/IMD2020/1bfbnf/\n",
            "  inflating: /content/Dataset/IMD2020/1bfbnf/1bfbnf_orig.jpg  \n",
            "  inflating: /content/Dataset/IMD2020/1bfbnf/c96blfp_0.jpg  \n",
            "  inflating: /content/Dataset/IMD2020/1bfbnf/c96blfp_0_mask.png  \n",
            "  inflating: /content/Dataset/IMD2020/1bfbnf/c96c40d_0.png  \n",
            "  inflating: /content/Dataset/IMD2020/1bfbnf/c96c40d_0_mask.png  \n",
            "  inflating: /content/Dataset/IMD2020/1bfbnf/c96c9hk_0.jpg  \n",
            "  inflating: /content/Dataset/IMD2020/1bfbnf/c96c9hk_0_mask.png  \n",
            "  inflating: /content/Dataset/IMD2020/1bfbnf/c96cbvq_0.jpg  \n",
            "  inflating: /content/Dataset/IMD2020/1bfbnf/c96cbvq_0_mask.png  \n",
            "  inflating: /content/Dataset/IMD2020/1bfbnf/c96cglv_0.jpg  \n",
            "  inflating: /content/Dataset/IMD2020/1bfbnf/c96cglv_0_mask.png  \n",
            "  inflating: /content/Dataset/IMD2020/1bfbnf/c96cha8_0.png  \n",
            "  inflating: /content/Dataset/IMD2020/1bfbnf/c96cha8_0_mask.png  \n",
            "  inflating: /content/Dataset/IMD2020/1bfbnf/c96chir_0.jpg  \n",
            "  inflating: /content/Dataset/IMD2020/1bfbnf/c96chir_0_mask.png  \n",
            "  inflating: /content/Dataset/IMD2020/1bfbnf/c96d4mq_0.jpg  \n",
            "  inflating: /content/Dataset/IMD2020/1bfbnf/c96d4mq_0_mask.png  \n",
            "  inflating: /content/Dataset/IMD2020/1bfbnf/c96d5la_0.jpg  \n",
            "  inflating: /content/Dataset/IMD2020/1bfbnf/c96d5la_0_mask.png  \n",
            "  inflating: /content/Dataset/IMD2020/1bfbnf/c96dfr7_0.jpg  \n",
            "  inflating: /content/Dataset/IMD2020/1bfbnf/c96dfr7_0_mask.png  \n",
            "  inflating: /content/Dataset/IMD2020/1bfbnf/c96dm5n_0.jpg  \n",
            "  inflating: /content/Dataset/IMD2020/1bfbnf/c96dm5n_0_mask.png  \n",
            "  inflating: /content/Dataset/IMD2020/1bfbnf/c96jvav_0.jpg  \n",
            "  inflating: /content/Dataset/IMD2020/1bfbnf/c96jvav_0_mask.png  \n",
            "   creating: /content/Dataset/IMD2020/1bh7u3/\n",
            "  inflating: /content/Dataset/IMD2020/1bh7u3/1bh7u3_orig.jpg  \n",
            "  inflating: /content/Dataset/IMD2020/1bh7u3/c96qatb_0.jpg  \n",
            "  inflating: /content/Dataset/IMD2020/1bh7u3/c96qatb_0_mask.png  \n",
            "   creating: /content/Dataset/IMD2020/1bigvi/\n",
            "  inflating: /content/Dataset/IMD2020/1bigvi/1bigvi_orig.jpg  \n",
            "  inflating: /content/Dataset/IMD2020/1bigvi/c96z6j0_0.jpg  \n",
            "  inflating: /content/Dataset/IMD2020/1bigvi/c96z6j0_0_mask.png  \n",
            "  inflating: /content/Dataset/IMD2020/1bigvi/c96zee9_0.jpg  \n",
            "  inflating: /content/Dataset/IMD2020/1bigvi/c96zee9_0_mask.png  \n",
            "  inflating: /content/Dataset/IMD2020/1bigvi/c96zxum_0.jpg  \n",
            "  inflating: /content/Dataset/IMD2020/1bigvi/c96zxum_0_mask.png  \n",
            "  inflating: /content/Dataset/IMD2020/1bigvi/c9705ty_0.jpg  \n",
            "  inflating: /content/Dataset/IMD2020/1bigvi/c9705ty_0_mask.png  \n",
            "  inflating: /content/Dataset/IMD2020/1bigvi/c970m97_0.jpg  \n",
            "  inflating: /content/Dataset/IMD2020/1bigvi/c970m97_0_mask.png  \n",
            "  inflating: /content/Dataset/IMD2020/1bigvi/c970mrg_0.jpg  \n",
            "  inflating: /content/Dataset/IMD2020/1bigvi/c970mrg_0_mask.png  \n",
            "  inflating: /content/Dataset/IMD2020/1bigvi/c970wej_0.jpg  \n",
            "  inflating: /content/Dataset/IMD2020/1bigvi/c970wej_0_mask.png  \n",
            "  inflating: /content/Dataset/IMD2020/1bigvi/c970x7m_0.jpg  \n",
            "  inflating: /content/Dataset/IMD2020/1bigvi/c970x7m_0_mask.png  \n",
            "  inflating: /content/Dataset/IMD2020/1bigvi/c9724qm_0.png  \n",
            "  inflating: /content/Dataset/IMD2020/1bigvi/c9724qm_0_mask.png  \n",
            "  inflating: /content/Dataset/IMD2020/1bigvi/c9729qx_0.jpg  \n",
            "  inflating: /content/Dataset/IMD2020/1bigvi/c9729qx_0_mask.png  \n",
            "  inflating: /content/Dataset/IMD2020/1bigvi/c972iqs_0.jpg  \n",
            "  inflating: /content/Dataset/IMD2020/1bigvi/c972iqs_0_mask.png  \n",
            "  inflating: /content/Dataset/IMD2020/1bigvi/c972p3n_0.jpg  \n",
            "  inflating: /content/Dataset/IMD2020/1bigvi/c972p3n_0_mask.png  \n",
            "  inflating: /content/Dataset/IMD2020/1bigvi/c972y81_0.jpg  \n",
            "  inflating: /content/Dataset/IMD2020/1bigvi/c972y81_0_mask.png  \n",
            "  inflating: /content/Dataset/IMD2020/1bigvi/c973pl2_0.png  \n",
            "  inflating: /content/Dataset/IMD2020/1bigvi/c973pl2_0_mask.png  \n",
            "  inflating: /content/Dataset/IMD2020/1bigvi/c978035_0.jpg  \n",
            "  inflating: /content/Dataset/IMD2020/1bigvi/c978035_0_mask.png  \n",
            "  inflating: /content/Dataset/IMD2020/1bigvi/c978nfj_0.png  \n",
            "  inflating: /content/Dataset/IMD2020/1bigvi/c978nfj_0_mask.png  \n",
            "  inflating: /content/Dataset/IMD2020/1bigvi/c979ib3_0.jpg  \n",
            "  inflating: /content/Dataset/IMD2020/1bigvi/c979ib3_0_mask.png  \n",
            "  inflating: /content/Dataset/IMD2020/1bigvi/c97ai36_0.png  \n",
            "  inflating: /content/Dataset/IMD2020/1bigvi/c97ai36_0_mask.png  \n",
            "   creating: /content/Dataset/IMD2020/1bircs/\n",
            "  inflating: /content/Dataset/IMD2020/1bircs/1bircs_orig.jpg  \n",
            "  inflating: /content/Dataset/IMD2020/1bircs/c970ssc_0.jpg  \n",
            "  inflating: /content/Dataset/IMD2020/1bircs/c970ssc_0_mask.png  \n",
            "   creating: /content/Dataset/IMD2020/1bj1te/\n",
            "  inflating: /content/Dataset/IMD2020/1bj1te/1bj1te_orig.jpg  \n",
            "  inflating: /content/Dataset/IMD2020/1bj1te/c976lta_0.jpg  \n",
            "  inflating: /content/Dataset/IMD2020/1bj1te/c976lta_0_mask.png  \n",
            "  inflating: /content/Dataset/IMD2020/1bj1te/c979ed6_0.jpg  \n",
            "  inflating: /content/Dataset/IMD2020/1bj1te/c979ed6_0_mask.png  \n",
            "  inflating: /content/Dataset/IMD2020/1bj1te/c979h5q_0.jpg  \n",
            "  inflating: /content/Dataset/IMD2020/1bj1te/c979h5q_0_mask.png  \n",
            "  inflating: /content/Dataset/IMD2020/1bj1te/c979s43_0.jpg  \n",
            "  inflating: /content/Dataset/IMD2020/1bj1te/c979s43_0_mask.png  \n",
            "   creating: /content/Dataset/IMD2020/1bjy9b/\n",
            "  inflating: /content/Dataset/IMD2020/1bjy9b/1bjy9b_orig.jpg  \n",
            "  inflating: /content/Dataset/IMD2020/1bjy9b/c97g287_0.jpg  \n",
            "  inflating: /content/Dataset/IMD2020/1bjy9b/c97g287_0_mask.png  \n",
            "  inflating: /content/Dataset/IMD2020/1bjy9b/c97gn0w_0.png  \n",
            "  inflating: /content/Dataset/IMD2020/1bjy9b/c97gn0w_0_mask.png  \n",
            "  inflating: /content/Dataset/IMD2020/1bjy9b/c97jfxe_0.png  \n",
            "  inflating: /content/Dataset/IMD2020/1bjy9b/c97jfxe_0_mask.png  \n",
            "  inflating: /content/Dataset/IMD2020/1bjy9b/c97l4h2_0.jpg  \n",
            "  inflating: /content/Dataset/IMD2020/1bjy9b/c97l4h2_0_mask.png  \n",
            "  inflating: /content/Dataset/IMD2020/1bjy9b/c97ofea_0.jpg  \n",
            "  inflating: /content/Dataset/IMD2020/1bjy9b/c97ofea_0_mask.png  \n",
            "   creating: /content/Dataset/IMD2020/1bk4a1/\n",
            "  inflating: /content/Dataset/IMD2020/1bk4a1/1bk4a1_orig.jpg  \n",
            "  inflating: /content/Dataset/IMD2020/1bk4a1/c97ffgf_0.jpg  \n",
            "  inflating: /content/Dataset/IMD2020/1bk4a1/c97ffgf_0_mask.png  \n",
            "   creating: /content/Dataset/IMD2020/1bkkyo/\n",
            "  inflating: /content/Dataset/IMD2020/1bkkyo/1bkkyo_orig.jpg  \n",
            "  inflating: /content/Dataset/IMD2020/1bkkyo/c97knp0_0.jpg  \n",
            "  inflating: /content/Dataset/IMD2020/1bkkyo/c97knp0_0_mask.png  \n",
            "  inflating: /content/Dataset/IMD2020/1bkkyo/c97nhib_0.png  \n",
            "  inflating: /content/Dataset/IMD2020/1bkkyo/c97nhib_0_mask.png  \n",
            "   creating: /content/Dataset/IMD2020/1bl2e5/\n",
            "  inflating: /content/Dataset/IMD2020/1bl2e5/1bl2e5_orig.jpg  \n",
            "  inflating: /content/Dataset/IMD2020/1bl2e5/c97mvm4_0.jpg  \n",
            "  inflating: /content/Dataset/IMD2020/1bl2e5/c97mvm4_0_mask.png  \n",
            "  inflating: /content/Dataset/IMD2020/1bl2e5/c97n72x_0.jpg  \n",
            "  inflating: /content/Dataset/IMD2020/1bl2e5/c97n72x_0_mask.png  \n",
            "  inflating: /content/Dataset/IMD2020/1bl2e5/c97ot02_0.jpg  \n",
            "  inflating: /content/Dataset/IMD2020/1bl2e5/c97ot02_0_mask.png  \n",
            "  inflating: /content/Dataset/IMD2020/1bl2e5/c97p12w_0.jpg  \n",
            "  inflating: /content/Dataset/IMD2020/1bl2e5/c97p12w_0_mask.png  \n",
            "  inflating: /content/Dataset/IMD2020/1bl2e5/c97pbie_0.jpg  \n",
            "  inflating: /content/Dataset/IMD2020/1bl2e5/c97pbie_0_mask.png  \n",
            "  inflating: /content/Dataset/IMD2020/1bl2e5/c97ub08_0.jpg  \n",
            "  inflating: /content/Dataset/IMD2020/1bl2e5/c97ub08_0_mask.png  \n",
            "  inflating: /content/Dataset/IMD2020/1bl2e5/c97xpjh_0.png  \n",
            "  inflating: /content/Dataset/IMD2020/1bl2e5/c97xpjh_0_mask.png  \n",
            "   creating: /content/Dataset/IMD2020/1bl55t/\n",
            "  inflating: /content/Dataset/IMD2020/1bl55t/1bl55t_orig.jpg  \n",
            "  inflating: /content/Dataset/IMD2020/1bl55t/c97npfo_0.jpg  \n",
            "  inflating: /content/Dataset/IMD2020/1bl55t/c97npfo_0_mask.png  \n",
            "  inflating: /content/Dataset/IMD2020/1bl55t/c97nvx1_0.jpg  \n",
            "  inflating: /content/Dataset/IMD2020/1bl55t/c97nvx1_0_mask.png  \n",
            "  inflating: /content/Dataset/IMD2020/1bl55t/c97p9cf_0.jpg  \n",
            "  inflating: /content/Dataset/IMD2020/1bl55t/c97p9cf_0_mask.png  \n",
            "  inflating: /content/Dataset/IMD2020/1bl55t/c97pme4_0.jpg  \n",
            "  inflating: /content/Dataset/IMD2020/1bl55t/c97pme4_0_mask.png  \n",
            "  inflating: /content/Dataset/IMD2020/1bl55t/c97qfid_0.jpg  \n",
            "  inflating: /content/Dataset/IMD2020/1bl55t/c97qfid_0_mask.png  \n",
            "  inflating: /content/Dataset/IMD2020/1bl55t/c97qk9d_0.png  \n",
            "  inflating: /content/Dataset/IMD2020/1bl55t/c97qk9d_0_mask.png  \n",
            "  inflating: /content/Dataset/IMD2020/1bl55t/c97qqbo_0.jpg  \n",
            "  inflating: /content/Dataset/IMD2020/1bl55t/c97qqbo_0_mask.png  \n",
            "  inflating: /content/Dataset/IMD2020/1bl55t/c97qv4m_0.jpg  \n",
            "  inflating: /content/Dataset/IMD2020/1bl55t/c97qv4m_0_mask.png  \n",
            "  inflating: /content/Dataset/IMD2020/1bl55t/c97qyg0_0.jpg  \n",
            "  inflating: /content/Dataset/IMD2020/1bl55t/c97qyg0_0_mask.png  \n",
            "  inflating: /content/Dataset/IMD2020/1bl55t/c97rh7u_0.jpg  \n",
            "  inflating: /content/Dataset/IMD2020/1bl55t/c97rh7u_0_mask.png  \n",
            "  inflating: /content/Dataset/IMD2020/1bl55t/c97rkx9_0.png  \n",
            "  inflating: /content/Dataset/IMD2020/1bl55t/c97rkx9_0_mask.png  \n",
            "  inflating: /content/Dataset/IMD2020/1bl55t/c97shkd_0.jpg  \n",
            "  inflating: /content/Dataset/IMD2020/1bl55t/c97shkd_0_mask.png  \n",
            "  inflating: /content/Dataset/IMD2020/1bl55t/c97sv42_0.png  \n",
            "  inflating: /content/Dataset/IMD2020/1bl55t/c97sv42_0_mask.png  \n",
            "  inflating: /content/Dataset/IMD2020/1bl55t/c97te6m_0.jpg  \n",
            "  inflating: /content/Dataset/IMD2020/1bl55t/c97te6m_0_mask.png  \n",
            "  inflating: /content/Dataset/IMD2020/1bl55t/c97u2q9_0.jpg  \n",
            "  inflating: /content/Dataset/IMD2020/1bl55t/c97u2q9_0_mask.png  \n",
            "  inflating: /content/Dataset/IMD2020/1bl55t/c97v6ia_0.jpg  \n",
            "  inflating: /content/Dataset/IMD2020/1bl55t/c97v6ia_0_mask.png  \n",
            "  inflating: /content/Dataset/IMD2020/1bl55t/c97zamq_0.jpg  \n",
            "  inflating: /content/Dataset/IMD2020/1bl55t/c97zamq_0_mask.png  \n",
            "  inflating: /content/Dataset/IMD2020/1bl55t/c980b28_0.png  \n",
            "  inflating: /content/Dataset/IMD2020/1bl55t/c980b28_0_mask.png  \n",
            "  inflating: /content/Dataset/IMD2020/1bl55t/c980uto_0.jpg  \n",
            "  inflating: /content/Dataset/IMD2020/1bl55t/c980uto_0_mask.png  \n",
            "  inflating: /content/Dataset/IMD2020/1bl55t/c9813uk_0.jpg  \n",
            "  inflating: /content/Dataset/IMD2020/1bl55t/c9813uk_0_mask.png  \n",
            "  inflating: /content/Dataset/IMD2020/1bl55t/c9825wp_0.jpg  \n",
            "  inflating: /content/Dataset/IMD2020/1bl55t/c9825wp_0_mask.png  \n",
            "  inflating: /content/Dataset/IMD2020/1bl55t/c9829t7_0.png  \n",
            "  inflating: /content/Dataset/IMD2020/1bl55t/c9829t7_0_mask.png  \n",
            "  inflating: /content/Dataset/IMD2020/1bl55t/c986who_0.jpg  \n",
            "  inflating: /content/Dataset/IMD2020/1bl55t/c986who_0_mask.png  \n",
            "   creating: /content/Dataset/IMD2020/1bluhu/\n",
            "  inflating: /content/Dataset/IMD2020/1bluhu/1bluhu_orig.jpg  \n",
            "  inflating: /content/Dataset/IMD2020/1bluhu/c97up6j_0.jpg  \n",
            "  inflating: /content/Dataset/IMD2020/1bluhu/c97up6j_0_mask.png  \n",
            "  inflating: /content/Dataset/IMD2020/1bluhu/c97vf7q_0.jpg  \n",
            "  inflating: /content/Dataset/IMD2020/1bluhu/c97vf7q_0_mask.png  \n",
            "  inflating: /content/Dataset/IMD2020/1bluhu/c97vlit_0.jpg  \n",
            "  inflating: /content/Dataset/IMD2020/1bluhu/c97vlit_0_mask.png  \n",
            "  inflating: /content/Dataset/IMD2020/1bluhu/c9876y4_0.jpg  \n",
            "  inflating: /content/Dataset/IMD2020/1bluhu/c9876y4_0_mask.png  \n",
            "   creating: /content/Dataset/IMD2020/1bmqiu/\n",
            "  inflating: /content/Dataset/IMD2020/1bmqiu/1bmqiu_orig.jpg  \n",
            "  inflating: /content/Dataset/IMD2020/1bmqiu/c985sf9_0.jpg  \n",
            "  inflating: /content/Dataset/IMD2020/1bmqiu/c985sf9_0_mask.png  \n",
            "  inflating: /content/Dataset/IMD2020/1bmqiu/c98625n_0.jpg  \n",
            "  inflating: /content/Dataset/IMD2020/1bmqiu/c98625n_0_mask.png  \n",
            "  inflating: /content/Dataset/IMD2020/1bmqiu/c986lv8_0.jpg  \n",
            "  inflating: /content/Dataset/IMD2020/1bmqiu/c986lv8_0_mask.png  \n",
            "  inflating: /content/Dataset/IMD2020/1bmqiu/c987c52_0.jpg  \n",
            "  inflating: /content/Dataset/IMD2020/1bmqiu/c987c52_0_mask.png  \n",
            "  inflating: /content/Dataset/IMD2020/1bmqiu/c987rum_0.jpg  \n",
            "  inflating: /content/Dataset/IMD2020/1bmqiu/c987rum_0_mask.png  \n",
            "  inflating: /content/Dataset/IMD2020/1bmqiu/c98a70p_0.jpg  \n",
            "  inflating: /content/Dataset/IMD2020/1bmqiu/c98a70p_0_mask.png  \n",
            "   creating: /content/Dataset/IMD2020/1bnjhf/\n",
            "  inflating: /content/Dataset/IMD2020/1bnjhf/1bnjhf_orig.jpg  \n",
            "  inflating: /content/Dataset/IMD2020/1bnjhf/c98aivj_0.jpg  \n",
            "  inflating: /content/Dataset/IMD2020/1bnjhf/c98aivj_0_mask.png  \n",
            "  inflating: /content/Dataset/IMD2020/1bnjhf/c98el2l_0.jpg  \n",
            "  inflating: /content/Dataset/IMD2020/1bnjhf/c98el2l_0_mask.png  \n",
            "   creating: /content/Dataset/IMD2020/1bnwrt/\n",
            "  inflating: /content/Dataset/IMD2020/1bnwrt/1bnwrt_orig.jpg  \n",
            "  inflating: /content/Dataset/IMD2020/1bnwrt/c98jpyg_0.jpg  \n",
            "  inflating: /content/Dataset/IMD2020/1bnwrt/c98jpyg_0_mask.png  \n",
            "  inflating: /content/Dataset/IMD2020/1bnwrt/c98jxiu_0.jpg  \n",
            "  inflating: /content/Dataset/IMD2020/1bnwrt/c98jxiu_0_mask.png  \n",
            "  inflating: /content/Dataset/IMD2020/1bnwrt/c98s7f2_0.jpg  \n",
            "  inflating: /content/Dataset/IMD2020/1bnwrt/c98s7f2_0_mask.png  \n",
            "   creating: /content/Dataset/IMD2020/1boa89/\n",
            "  inflating: /content/Dataset/IMD2020/1boa89/1boa89_orig.jpg  \n",
            "  inflating: /content/Dataset/IMD2020/1boa89/c98jkof_0.jpg  \n",
            "  inflating: /content/Dataset/IMD2020/1boa89/c98jkof_0_mask.png  \n",
            "  inflating: /content/Dataset/IMD2020/1boa89/c98jqgu_0.jpg  \n",
            "  inflating: /content/Dataset/IMD2020/1boa89/c98jqgu_0_mask.png  \n",
            "  inflating: /content/Dataset/IMD2020/1boa89/c98lw0x_0.jpg  \n",
            "  inflating: /content/Dataset/IMD2020/1boa89/c98lw0x_0_mask.png  \n",
            "   creating: /content/Dataset/IMD2020/1boevu/\n",
            "  inflating: /content/Dataset/IMD2020/1boevu/1boevu_orig.jpg  \n",
            "  inflating: /content/Dataset/IMD2020/1boevu/c98iwaf_0.jpg  \n",
            "  inflating: /content/Dataset/IMD2020/1boevu/c98iwaf_0_mask.png  \n",
            "  inflating: /content/Dataset/IMD2020/1boevu/c98koeq_0.jpg  \n",
            "  inflating: /content/Dataset/IMD2020/1boevu/c98koeq_0_mask.png  \n",
            "  inflating: /content/Dataset/IMD2020/1boevu/c98ojjv_0.jpg  \n",
            "  inflating: /content/Dataset/IMD2020/1boevu/c98ojjv_0_mask.png  \n",
            "  inflating: /content/Dataset/IMD2020/1boevu/c98ovsv_0.jpg  \n",
            "  inflating: /content/Dataset/IMD2020/1boevu/c98ovsv_0_mask.png  \n",
            "   creating: /content/Dataset/IMD2020/1bojj1/\n",
            "  inflating: /content/Dataset/IMD2020/1bojj1/1bojj1_orig.jpg  \n",
            "  inflating: /content/Dataset/IMD2020/1bojj1/c98mgs3_0.jpg  \n",
            "  inflating: /content/Dataset/IMD2020/1bojj1/c98mgs3_0_mask.png  \n",
            "  inflating: /content/Dataset/IMD2020/1bojj1/c98mhwt_0.jpg  \n",
            "  inflating: /content/Dataset/IMD2020/1bojj1/c98mhwt_0_mask.png  \n",
            "  inflating: /content/Dataset/IMD2020/1bojj1/c98ow2q_0.jpg  \n",
            "  inflating: /content/Dataset/IMD2020/1bojj1/c98ow2q_0_mask.png  \n",
            "  inflating: /content/Dataset/IMD2020/1bojj1/c98qf1y_0.jpg  \n",
            "  inflating: /content/Dataset/IMD2020/1bojj1/c98qf1y_0_mask.png  \n",
            "  inflating: /content/Dataset/IMD2020/1bojj1/c98rtgo_0.png  \n",
            "  inflating: /content/Dataset/IMD2020/1bojj1/c98rtgo_0_mask.png  \n",
            "  inflating: /content/Dataset/IMD2020/1bojj1/c98s4at_0.jpg  \n",
            "  inflating: /content/Dataset/IMD2020/1bojj1/c98s4at_0_mask.png  \n",
            "  inflating: /content/Dataset/IMD2020/1bojj1/c98scja_0.jpg  \n",
            "  inflating: /content/Dataset/IMD2020/1bojj1/c98scja_0_mask.png  \n",
            "  inflating: /content/Dataset/IMD2020/1bojj1/c98sd8w_0.jpg  \n",
            "  inflating: /content/Dataset/IMD2020/1bojj1/c98sd8w_0_mask.png  \n",
            "  inflating: /content/Dataset/IMD2020/1bojj1/c98trtt_0.jpg  \n",
            "  inflating: /content/Dataset/IMD2020/1bojj1/c98trtt_0_mask.png  \n",
            "  inflating: /content/Dataset/IMD2020/1bojj1/c98urai_0.png  \n",
            "  inflating: /content/Dataset/IMD2020/1bojj1/c98urai_0_mask.png  \n",
            "  inflating: /content/Dataset/IMD2020/1bojj1/c98uwak_0.png  \n",
            "  inflating: /content/Dataset/IMD2020/1bojj1/c98uwak_0_mask.png  \n",
            "  inflating: /content/Dataset/IMD2020/1bojj1/c98wx7s_0.jpg  \n",
            "  inflating: /content/Dataset/IMD2020/1bojj1/c98wx7s_0_mask.png  \n",
            "  inflating: /content/Dataset/IMD2020/1bojj1/c98x46e_0.jpg  \n",
            "  inflating: /content/Dataset/IMD2020/1bojj1/c98x46e_0_mask.png  \n",
            "   creating: /content/Dataset/IMD2020/1bp14r/\n",
            "  inflating: /content/Dataset/IMD2020/1bp14r/1bp14r_orig.jpg  \n",
            "  inflating: /content/Dataset/IMD2020/1bp14r/c98qgm4_0.jpg  \n",
            "  inflating: /content/Dataset/IMD2020/1bp14r/c98qgm4_0_mask.png  \n",
            "   creating: /content/Dataset/IMD2020/1bq750/\n",
            "  inflating: /content/Dataset/IMD2020/1bq750/1bq750_orig.jpg  \n",
            "  inflating: /content/Dataset/IMD2020/1bq750/c99303g_0.jpg  \n",
            "  inflating: /content/Dataset/IMD2020/1bq750/c99303g_0_mask.png  \n",
            "  inflating: /content/Dataset/IMD2020/1bq750/c993kz0_0.jpg  \n",
            "  inflating: /content/Dataset/IMD2020/1bq750/c993kz0_0_mask.png  \n",
            "  inflating: /content/Dataset/IMD2020/1bq750/c994oht_0.jpg  \n",
            "  inflating: /content/Dataset/IMD2020/1bq750/c994oht_0_mask.png  \n",
            "  inflating: /content/Dataset/IMD2020/1bq750/c9996ea_0.jpg  \n",
            "  inflating: /content/Dataset/IMD2020/1bq750/c9996ea_0_mask.png  \n",
            "   creating: /content/Dataset/IMD2020/1bqaw1/\n",
            "  inflating: /content/Dataset/IMD2020/1bqaw1/1bqaw1_orig.jpg  \n",
            "  inflating: /content/Dataset/IMD2020/1bqaw1/c990uno_0.jpg  \n",
            "  inflating: /content/Dataset/IMD2020/1bqaw1/c990uno_0_mask.png  \n",
            "  inflating: /content/Dataset/IMD2020/1bqaw1/c990v3g_0.jpg  \n",
            "  inflating: /content/Dataset/IMD2020/1bqaw1/c990v3g_0_mask.png  \n",
            "  inflating: /content/Dataset/IMD2020/1bqaw1/c991rvp_0.jpg  \n",
            "  inflating: /content/Dataset/IMD2020/1bqaw1/c991rvp_0_mask.png  \n",
            "  inflating: /content/Dataset/IMD2020/1bqaw1/c992737_0.jpg  \n",
            "  inflating: /content/Dataset/IMD2020/1bqaw1/c992737_0_mask.png  \n",
            "  inflating: /content/Dataset/IMD2020/1bqaw1/c992d5i_0.jpg  \n",
            "  inflating: /content/Dataset/IMD2020/1bqaw1/c992d5i_0_mask.png  \n",
            "  inflating: /content/Dataset/IMD2020/1bqaw1/c992enl_0.jpg  \n",
            "  inflating: /content/Dataset/IMD2020/1bqaw1/c992enl_0_mask.png  \n",
            "  inflating: /content/Dataset/IMD2020/1bqaw1/c993ui8_0.jpg  \n",
            "  inflating: /content/Dataset/IMD2020/1bqaw1/c993ui8_0_mask.png  \n",
            "  inflating: /content/Dataset/IMD2020/1bqaw1/c994ew8_0.jpg  \n",
            "  inflating: /content/Dataset/IMD2020/1bqaw1/c994ew8_0_mask.png  \n",
            "  inflating: /content/Dataset/IMD2020/1bqaw1/c99548p_0.png  \n",
            "  inflating: /content/Dataset/IMD2020/1bqaw1/c99548p_0_mask.png  \n",
            "  inflating: /content/Dataset/IMD2020/1bqaw1/c995efy_0.jpg  \n",
            "  inflating: /content/Dataset/IMD2020/1bqaw1/c995efy_0_mask.png  \n",
            "  inflating: /content/Dataset/IMD2020/1bqaw1/c995ny6_0.jpg  \n",
            "  inflating: /content/Dataset/IMD2020/1bqaw1/c995ny6_0_mask.png  \n",
            "  inflating: /content/Dataset/IMD2020/1bqaw1/c996msq_0.jpg  \n",
            "  inflating: /content/Dataset/IMD2020/1bqaw1/c996msq_0_mask.png  \n",
            "  inflating: /content/Dataset/IMD2020/1bqaw1/c9977lj_0.jpg  \n",
            "  inflating: /content/Dataset/IMD2020/1bqaw1/c9977lj_0_mask.png  \n",
            "  inflating: /content/Dataset/IMD2020/1bqaw1/c99b3oc_0.jpg  \n",
            "  inflating: /content/Dataset/IMD2020/1bqaw1/c99b3oc_0_mask.png  \n",
            "  inflating: /content/Dataset/IMD2020/1bqaw1/c99d1yy_0.jpg  \n",
            "  inflating: /content/Dataset/IMD2020/1bqaw1/c99d1yy_0_mask.png  \n",
            "  inflating: /content/Dataset/IMD2020/1bqaw1/c99ilht_0.jpg  \n",
            "  inflating: /content/Dataset/IMD2020/1bqaw1/c99ilht_0_mask.png  \n",
            "   creating: /content/Dataset/IMD2020/1bqcx4/\n",
            "  inflating: /content/Dataset/IMD2020/1bqcx4/1bqcx4_orig.jpg  \n",
            "  inflating: /content/Dataset/IMD2020/1bqcx4/c9929g3_0.jpg  \n",
            "  inflating: /content/Dataset/IMD2020/1bqcx4/c9929g3_0_mask.png  \n",
            "   creating: /content/Dataset/IMD2020/1bqic5/\n",
            "  inflating: /content/Dataset/IMD2020/1bqic5/1bqic5_orig.jpg  \n",
            "  inflating: /content/Dataset/IMD2020/1bqic5/c992u19_0.jpg  \n",
            "  inflating: /content/Dataset/IMD2020/1bqic5/c992u19_0_mask.png  \n",
            "  inflating: /content/Dataset/IMD2020/1bqic5/c993h77_0.jpg  \n",
            "  inflating: /content/Dataset/IMD2020/1bqic5/c993h77_0_mask.png  \n",
            "  inflating: /content/Dataset/IMD2020/1bqic5/c993qje_0.jpg  \n",
            "  inflating: /content/Dataset/IMD2020/1bqic5/c993qje_0_mask.png  \n",
            "  inflating: /content/Dataset/IMD2020/1bqic5/c993w8d_0.jpg  \n",
            "  inflating: /content/Dataset/IMD2020/1bqic5/c993w8d_0_mask.png  \n",
            "  inflating: /content/Dataset/IMD2020/1bqic5/c9948kv_0.jpg  \n",
            "  inflating: /content/Dataset/IMD2020/1bqic5/c9948kv_0_mask.png  \n",
            "  inflating: /content/Dataset/IMD2020/1bqic5/c9948nw_0.jpg  \n",
            "  inflating: /content/Dataset/IMD2020/1bqic5/c9948nw_0_mask.png  \n",
            "  inflating: /content/Dataset/IMD2020/1bqic5/c995td6_0.jpg  \n",
            "  inflating: /content/Dataset/IMD2020/1bqic5/c995td6_0_mask.png  \n",
            "  inflating: /content/Dataset/IMD2020/1bqic5/c9969lr_0.jpg  \n",
            "  inflating: /content/Dataset/IMD2020/1bqic5/c9969lr_0_mask.png  \n",
            "  inflating: /content/Dataset/IMD2020/1bqic5/c9969p0_0.jpg  \n",
            "  inflating: /content/Dataset/IMD2020/1bqic5/c9969p0_0_mask.png  \n",
            "  inflating: /content/Dataset/IMD2020/1bqic5/c9981l7_0.jpg  \n",
            "  inflating: /content/Dataset/IMD2020/1bqic5/c9981l7_0_mask.png  \n",
            "  inflating: /content/Dataset/IMD2020/1bqic5/c998fw2_0.jpg  \n",
            "  inflating: /content/Dataset/IMD2020/1bqic5/c998fw2_0_mask.png  \n",
            "  inflating: /content/Dataset/IMD2020/1bqic5/c998ytl_0.jpg  \n",
            "  inflating: /content/Dataset/IMD2020/1bqic5/c998ytl_0_mask.png  \n",
            "  inflating: /content/Dataset/IMD2020/1bqic5/c99ae5w_0.jpg  \n",
            "  inflating: /content/Dataset/IMD2020/1bqic5/c99ae5w_0_mask.png  \n",
            "  inflating: /content/Dataset/IMD2020/1bqic5/c99bj65_0.jpg  \n",
            "  inflating: /content/Dataset/IMD2020/1bqic5/c99bj65_0_mask.png  \n",
            "   creating: /content/Dataset/IMD2020/1brd95/\n",
            "  inflating: /content/Dataset/IMD2020/1brd95/1brd95_orig.jpg  \n",
            "  inflating: /content/Dataset/IMD2020/1brd95/c99bz7g_0.png  \n",
            "  inflating: /content/Dataset/IMD2020/1brd95/c99bz7g_0_mask.png  \n",
            "  inflating: /content/Dataset/IMD2020/1brd95/c99g3y1_0.jpg  \n",
            "  inflating: /content/Dataset/IMD2020/1brd95/c99g3y1_0_mask.png  \n",
            "  inflating: /content/Dataset/IMD2020/1brd95/c99hkdk_0.jpg  \n",
            "  inflating: /content/Dataset/IMD2020/1brd95/c99hkdk_0_mask.png  \n",
            "  inflating: /content/Dataset/IMD2020/1brd95/c99hksz_0.jpg  \n",
            "  inflating: /content/Dataset/IMD2020/1brd95/c99hksz_0_mask.png  \n",
            "  inflating: /content/Dataset/IMD2020/1brd95/c99lcrp_0.jpg  \n",
            "  inflating: /content/Dataset/IMD2020/1brd95/c99lcrp_0_mask.png  \n",
            "   creating: /content/Dataset/IMD2020/1bri83/\n",
            "  inflating: /content/Dataset/IMD2020/1bri83/1bri83_orig.jpg  \n",
            "  inflating: /content/Dataset/IMD2020/1bri83/c99fjx6_0.jpg  \n",
            "  inflating: /content/Dataset/IMD2020/1bri83/c99fjx6_0_mask.png  \n",
            "  inflating: /content/Dataset/IMD2020/1bri83/c99gb54_0.jpg  \n",
            "  inflating: /content/Dataset/IMD2020/1bri83/c99gb54_0_mask.png  \n",
            "  inflating: /content/Dataset/IMD2020/1bri83/c99hbe0_0.jpg  \n",
            "  inflating: /content/Dataset/IMD2020/1bri83/c99hbe0_0_mask.png  \n",
            "  inflating: /content/Dataset/IMD2020/1bri83/c99ixjq_0.jpg  \n",
            "  inflating: /content/Dataset/IMD2020/1bri83/c99ixjq_0_mask.png  \n",
            "  inflating: /content/Dataset/IMD2020/1bri83/c99meyn_0.jpg  \n",
            "  inflating: /content/Dataset/IMD2020/1bri83/c99meyn_0_mask.png  \n",
            "  inflating: /content/Dataset/IMD2020/1bri83/c99mhvd_0.jpg  \n",
            "  inflating: /content/Dataset/IMD2020/1bri83/c99mhvd_0_mask.png  \n",
            "   creating: /content/Dataset/IMD2020/1brscw/\n",
            "  inflating: /content/Dataset/IMD2020/1brscw/1brscw_orig.jpg  \n",
            "  inflating: /content/Dataset/IMD2020/1brscw/c99g8d8_0.jpg  \n",
            "  inflating: /content/Dataset/IMD2020/1brscw/c99g8d8_0_mask.png  \n",
            "  inflating: /content/Dataset/IMD2020/1brscw/c99gesu_0.jpg  \n",
            "  inflating: /content/Dataset/IMD2020/1brscw/c99gesu_0_mask.png  \n",
            "  inflating: /content/Dataset/IMD2020/1brscw/c99grkg_0.jpg  \n",
            "  inflating: /content/Dataset/IMD2020/1brscw/c99grkg_0_mask.png  \n",
            "  inflating: /content/Dataset/IMD2020/1brscw/c99i7gc_0.jpg  \n",
            "  inflating: /content/Dataset/IMD2020/1brscw/c99i7gc_0_mask.png  \n",
            "  inflating: /content/Dataset/IMD2020/1brscw/c99ll0f_0.png  \n",
            "  inflating: /content/Dataset/IMD2020/1brscw/c99ll0f_0_mask.png  \n",
            "   creating: /content/Dataset/IMD2020/1bs5ew/\n",
            "  inflating: /content/Dataset/IMD2020/1bs5ew/1bs5ew_orig.jpg  \n",
            "  inflating: /content/Dataset/IMD2020/1bs5ew/c99k5bh_0.jpg  \n",
            "  inflating: /content/Dataset/IMD2020/1bs5ew/c99k5bh_0_mask.png  \n",
            "  inflating: /content/Dataset/IMD2020/1bs5ew/c99lb7m_0.jpg  \n",
            "  inflating: /content/Dataset/IMD2020/1bs5ew/c99lb7m_0_mask.png  \n",
            "   creating: /content/Dataset/IMD2020/1bsc5v/\n",
            "  inflating: /content/Dataset/IMD2020/1bsc5v/1bsc5v_orig.jpg  \n",
            "  inflating: /content/Dataset/IMD2020/1bsc5v/c99lrlg_0.jpg  \n",
            "  inflating: /content/Dataset/IMD2020/1bsc5v/c99lrlg_0_mask.png  \n",
            "  inflating: /content/Dataset/IMD2020/1bsc5v/c99ml73_0.jpg  \n",
            "  inflating: /content/Dataset/IMD2020/1bsc5v/c99ml73_0_mask.png  \n",
            "  inflating: /content/Dataset/IMD2020/1bsc5v/c99msoi_0.jpg  \n",
            "  inflating: /content/Dataset/IMD2020/1bsc5v/c99msoi_0_mask.png  \n",
            "  inflating: /content/Dataset/IMD2020/1bsc5v/c99par4_0.png  \n",
            "  inflating: /content/Dataset/IMD2020/1bsc5v/c99par4_0_mask.png  \n",
            "  inflating: /content/Dataset/IMD2020/1bsc5v/c99pq37_0.jpg  \n",
            "  inflating: /content/Dataset/IMD2020/1bsc5v/c99pq37_0_mask.png  \n",
            "  inflating: /content/Dataset/IMD2020/1bsc5v/c99s1ad_0.jpg  \n",
            "  inflating: /content/Dataset/IMD2020/1bsc5v/c99s1ad_0_mask.png  \n",
            "  inflating: /content/Dataset/IMD2020/1bsc5v/c99twh4_0.jpg  \n",
            "  inflating: /content/Dataset/IMD2020/1bsc5v/c99twh4_0_mask.png  \n",
            "   creating: /content/Dataset/IMD2020/1bsw3w/\n",
            "  inflating: /content/Dataset/IMD2020/1bsw3w/1bsw3w_orig.jpg  \n",
            "  inflating: /content/Dataset/IMD2020/1bsw3w/c99v20p_0.jpg  \n",
            "  inflating: /content/Dataset/IMD2020/1bsw3w/c99v20p_0_mask.png  \n",
            "  inflating: /content/Dataset/IMD2020/1bsw3w/c99wyrv_0.jpg  \n",
            "  inflating: /content/Dataset/IMD2020/1bsw3w/c99wyrv_0_mask.png  \n",
            "  inflating: /content/Dataset/IMD2020/1bsw3w/c99xlov_0.jpg  \n",
            "  inflating: /content/Dataset/IMD2020/1bsw3w/c99xlov_0_mask.png  \n",
            "   creating: /content/Dataset/IMD2020/1bt7f3/\n",
            "  inflating: /content/Dataset/IMD2020/1bt7f3/1bt7f3_orig.jpg  \n",
            "  inflating: /content/Dataset/IMD2020/1bt7f3/c99utti_0.jpg  \n",
            "  inflating: /content/Dataset/IMD2020/1bt7f3/c99utti_0_mask.png  \n",
            "  inflating: /content/Dataset/IMD2020/1bt7f3/c99wbld_0.jpg  \n",
            "  inflating: /content/Dataset/IMD2020/1bt7f3/c99wbld_0_mask.png  \n",
            "  inflating: /content/Dataset/IMD2020/1bt7f3/c99wogs_0.jpg  \n",
            "  inflating: /content/Dataset/IMD2020/1bt7f3/c99wogs_0_mask.png  \n",
            "  inflating: /content/Dataset/IMD2020/1bt7f3/c99x7l6_0.jpg  \n",
            "  inflating: /content/Dataset/IMD2020/1bt7f3/c99x7l6_0_mask.png  \n",
            "  inflating: /content/Dataset/IMD2020/1bt7f3/c9a0d39_0.jpg  \n",
            "  inflating: /content/Dataset/IMD2020/1bt7f3/c9a0d39_0_mask.png  \n",
            "   creating: /content/Dataset/IMD2020/1btpfr/\n",
            "  inflating: /content/Dataset/IMD2020/1btpfr/1btpfr_orig.jpg  \n",
            "  inflating: /content/Dataset/IMD2020/1btpfr/c99zfgf_0.jpg  \n",
            "  inflating: /content/Dataset/IMD2020/1btpfr/c99zfgf_0_mask.png  \n",
            "  inflating: /content/Dataset/IMD2020/1btpfr/c99zuvu_0.jpg  \n",
            "  inflating: /content/Dataset/IMD2020/1btpfr/c99zuvu_0_mask.png  \n",
            "  inflating: /content/Dataset/IMD2020/1btpfr/c9a00lf_0.jpg  \n",
            "  inflating: /content/Dataset/IMD2020/1btpfr/c9a00lf_0_mask.png  \n",
            "  inflating: /content/Dataset/IMD2020/1btpfr/c9a06ao_0.jpg  \n",
            "  inflating: /content/Dataset/IMD2020/1btpfr/c9a06ao_0_mask.png  \n",
            "  inflating: /content/Dataset/IMD2020/1btpfr/c9a0df4_0.jpg  \n",
            "  inflating: /content/Dataset/IMD2020/1btpfr/c9a0df4_0_mask.png  \n",
            "  inflating: /content/Dataset/IMD2020/1btpfr/c9a0ogm_0.jpg  \n",
            "  inflating: /content/Dataset/IMD2020/1btpfr/c9a0ogm_0_mask.png  \n",
            "  inflating: /content/Dataset/IMD2020/1btpfr/c9a0u7u_0.jpg  \n",
            "  inflating: /content/Dataset/IMD2020/1btpfr/c9a0u7u_0_mask.png  \n",
            "  inflating: /content/Dataset/IMD2020/1btpfr/c9a0vxj_0.jpg  \n",
            "  inflating: /content/Dataset/IMD2020/1btpfr/c9a0vxj_0_mask.png  \n",
            "  inflating: /content/Dataset/IMD2020/1btpfr/c9a0wf8_0.jpg  \n",
            "  inflating: /content/Dataset/IMD2020/1btpfr/c9a0wf8_0_mask.png  \n",
            "  inflating: /content/Dataset/IMD2020/1btpfr/c9a13b5_0.jpg  \n",
            "  inflating: /content/Dataset/IMD2020/1btpfr/c9a13b5_0_mask.png  \n",
            "  inflating: /content/Dataset/IMD2020/1btpfr/c9a16se_0.png  \n",
            "  inflating: /content/Dataset/IMD2020/1btpfr/c9a16se_0_mask.png  \n",
            "  inflating: /content/Dataset/IMD2020/1btpfr/c9a2q02_0.jpg  \n",
            "  inflating: /content/Dataset/IMD2020/1btpfr/c9a2q02_0_mask.png  \n",
            "  inflating: /content/Dataset/IMD2020/1btpfr/c9a3qjw_0.jpg  \n",
            "  inflating: /content/Dataset/IMD2020/1btpfr/c9a3qjw_0_mask.png  \n",
            "  inflating: /content/Dataset/IMD2020/1btpfr/c9a43jm_0.jpg  \n",
            "  inflating: /content/Dataset/IMD2020/1btpfr/c9a43jm_0_mask.png  \n",
            "  inflating: /content/Dataset/IMD2020/1btpfr/c9a6u1u_0.png  \n",
            "  inflating: /content/Dataset/IMD2020/1btpfr/c9a6u1u_0_mask.png  \n",
            "   creating: /content/Dataset/IMD2020/1btup8/\n",
            "  inflating: /content/Dataset/IMD2020/1btup8/1btup8_orig.jpg  \n",
            "  inflating: /content/Dataset/IMD2020/1btup8/c9a5zop_0.jpg  \n",
            "  inflating: /content/Dataset/IMD2020/1btup8/c9a5zop_0_mask.png  \n",
            "   creating: /content/Dataset/IMD2020/1bur91/\n",
            "  inflating: /content/Dataset/IMD2020/1bur91/1bur91_orig.jpg  \n",
            "  inflating: /content/Dataset/IMD2020/1bur91/c9aamu4_0.jpg  \n",
            "  inflating: /content/Dataset/IMD2020/1bur91/c9aamu4_0_mask.png  \n",
            "  inflating: /content/Dataset/IMD2020/1bur91/c9aati3_0.jpg  \n",
            "  inflating: /content/Dataset/IMD2020/1bur91/c9aati3_0_mask.png  \n",
            "  inflating: /content/Dataset/IMD2020/1bur91/c9abrtp_0.jpg  \n",
            "  inflating: /content/Dataset/IMD2020/1bur91/c9abrtp_0_mask.png  \n",
            "  inflating: /content/Dataset/IMD2020/1bur91/c9abx9g_0.jpg  \n",
            "  inflating: /content/Dataset/IMD2020/1bur91/c9abx9g_0_mask.png  \n",
            "  inflating: /content/Dataset/IMD2020/1bur91/c9acbml_0.jpg  \n",
            "  inflating: /content/Dataset/IMD2020/1bur91/c9acbml_0_mask.png  \n",
            "  inflating: /content/Dataset/IMD2020/1bur91/c9af975_0.jpg  \n",
            "  inflating: /content/Dataset/IMD2020/1bur91/c9af975_0_mask.png  \n",
            "  inflating: /content/Dataset/IMD2020/1bur91/c9ag2ll_0.jpg  \n",
            "  inflating: /content/Dataset/IMD2020/1bur91/c9ag2ll_0_mask.png  \n",
            "  inflating: /content/Dataset/IMD2020/1bur91/c9anple_0.jpg  \n",
            "  inflating: /content/Dataset/IMD2020/1bur91/c9anple_0_mask.png  \n",
            "   creating: /content/Dataset/IMD2020/1buvhq/\n",
            "  inflating: /content/Dataset/IMD2020/1buvhq/1buvhq_orig.jpg  \n",
            "  inflating: /content/Dataset/IMD2020/1buvhq/c9abglu_0.jpg  \n",
            "  inflating: /content/Dataset/IMD2020/1buvhq/c9abglu_0_mask.png  \n",
            "   creating: /content/Dataset/IMD2020/1bv5l3/\n",
            "  inflating: /content/Dataset/IMD2020/1bv5l3/1bv5l3_orig.jpg  \n",
            "  inflating: /content/Dataset/IMD2020/1bv5l3/c9aen56_0.jpg  \n",
            "  inflating: /content/Dataset/IMD2020/1bv5l3/c9aen56_0_mask.png  \n",
            "  inflating: /content/Dataset/IMD2020/1bv5l3/c9aeqqk_0.jpg  \n",
            "  inflating: /content/Dataset/IMD2020/1bv5l3/c9aeqqk_0_mask.png  \n",
            "  inflating: /content/Dataset/IMD2020/1bv5l3/c9afm8r_0.jpg  \n",
            "  inflating: /content/Dataset/IMD2020/1bv5l3/c9afm8r_0_mask.png  \n",
            "  inflating: /content/Dataset/IMD2020/1bv5l3/c9agnet_0.jpg  \n",
            "  inflating: /content/Dataset/IMD2020/1bv5l3/c9agnet_0_mask.png  \n",
            "  inflating: /content/Dataset/IMD2020/1bv5l3/c9aj3nm_0.jpg  \n",
            "  inflating: /content/Dataset/IMD2020/1bv5l3/c9aj3nm_0_mask.png  \n",
            "  inflating: /content/Dataset/IMD2020/1bv5l3/c9ajz8e_0.jpg  \n",
            "  inflating: /content/Dataset/IMD2020/1bv5l3/c9ajz8e_0_mask.png  \n",
            "  inflating: /content/Dataset/IMD2020/1bv5l3/c9alf9o_0.jpg  \n",
            "  inflating: /content/Dataset/IMD2020/1bv5l3/c9alf9o_0_mask.png  \n",
            "   creating: /content/Dataset/IMD2020/1bvscz/\n",
            "  inflating: /content/Dataset/IMD2020/1bvscz/1bvscz_orig.jpg  \n",
            "  inflating: /content/Dataset/IMD2020/1bvscz/c9alw3v_0.png  \n",
            "  inflating: /content/Dataset/IMD2020/1bvscz/c9alw3v_0_mask.png  \n",
            "  inflating: /content/Dataset/IMD2020/1bvscz/c9amlei_0.jpg  \n",
            "  inflating: /content/Dataset/IMD2020/1bvscz/c9amlei_0_mask.png  \n",
            "  inflating: /content/Dataset/IMD2020/1bvscz/c9an6i7_0.png  \n",
            "  inflating: /content/Dataset/IMD2020/1bvscz/c9an6i7_0_mask.png  \n",
            "  inflating: /content/Dataset/IMD2020/1bvscz/c9anb73_0.jpg  \n",
            "  inflating: /content/Dataset/IMD2020/1bvscz/c9anb73_0_mask.png  \n",
            "  inflating: /content/Dataset/IMD2020/1bvscz/c9ane75_0.jpg  \n",
            "  inflating: /content/Dataset/IMD2020/1bvscz/c9ane75_0_mask.png  \n",
            "  inflating: /content/Dataset/IMD2020/1bvscz/c9aq17o_0.jpg  \n",
            "  inflating: /content/Dataset/IMD2020/1bvscz/c9aq17o_0_mask.png  \n",
            "  inflating: /content/Dataset/IMD2020/1bvscz/c9arquy_0.jpg  \n",
            "  inflating: /content/Dataset/IMD2020/1bvscz/c9arquy_0_mask.png  \n",
            "   creating: /content/Dataset/IMD2020/1bws7y/\n",
            "  inflating: /content/Dataset/IMD2020/1bws7y/1bws7y_orig.jpg  \n",
            "  inflating: /content/Dataset/IMD2020/1bws7y/c9atngk_0.jpg  \n",
            "  inflating: /content/Dataset/IMD2020/1bws7y/c9atngk_0_mask.png  \n",
            "  inflating: /content/Dataset/IMD2020/1bws7y/c9atqpq_0.jpg  \n",
            "  inflating: /content/Dataset/IMD2020/1bws7y/c9atqpq_0_mask.png  \n",
            "  inflating: /content/Dataset/IMD2020/1bws7y/c9au1qa_0.jpg  \n",
            "  inflating: /content/Dataset/IMD2020/1bws7y/c9au1qa_0_mask.png  \n",
            "   creating: /content/Dataset/IMD2020/1bx6fj/\n",
            "  inflating: /content/Dataset/IMD2020/1bx6fj/1bx6fj_orig.jpg  \n",
            "  inflating: /content/Dataset/IMD2020/1bx6fj/c9axg8n_0.jpg  \n",
            "  inflating: /content/Dataset/IMD2020/1bx6fj/c9axg8n_0_mask.png  \n",
            "  inflating: /content/Dataset/IMD2020/1bx6fj/c9axqrl_0.jpg  \n",
            "  inflating: /content/Dataset/IMD2020/1bx6fj/c9axqrl_0_mask.png  \n",
            "  inflating: /content/Dataset/IMD2020/1bx6fj/c9ay9o7_0.jpg  \n",
            "  inflating: /content/Dataset/IMD2020/1bx6fj/c9ay9o7_0_mask.png  \n",
            "  inflating: /content/Dataset/IMD2020/1bx6fj/c9b0yv0_0.jpg  \n",
            "  inflating: /content/Dataset/IMD2020/1bx6fj/c9b0yv0_0_mask.png  \n",
            "  inflating: /content/Dataset/IMD2020/1bx6fj/c9b3g8m_0.jpg  \n",
            "  inflating: /content/Dataset/IMD2020/1bx6fj/c9b3g8m_0_mask.png  \n",
            "   creating: /content/Dataset/IMD2020/1bx64j/\n",
            "  inflating: /content/Dataset/IMD2020/1bx64j/1bx64j_orig.jpg  \n",
            "  inflating: /content/Dataset/IMD2020/1bx64j/c9ax2ln_0.jpg  \n",
            "  inflating: /content/Dataset/IMD2020/1bx64j/c9ax2ln_0_mask.png  \n",
            "  inflating: /content/Dataset/IMD2020/1bx64j/c9ayosx_0.jpg  \n",
            "  inflating: /content/Dataset/IMD2020/1bx64j/c9ayosx_0_mask.png  \n",
            "  inflating: /content/Dataset/IMD2020/1bx64j/c9ayp33_0.jpg  \n",
            "  inflating: /content/Dataset/IMD2020/1bx64j/c9ayp33_0_mask.png  \n",
            "  inflating: /content/Dataset/IMD2020/1bx64j/c9aysiu_0.jpg  \n",
            "  inflating: /content/Dataset/IMD2020/1bx64j/c9aysiu_0_mask.png  \n",
            "  inflating: /content/Dataset/IMD2020/1bx64j/c9az9ha_0.jpg  \n",
            "  inflating: /content/Dataset/IMD2020/1bx64j/c9az9ha_0_mask.png  \n",
            "  inflating: /content/Dataset/IMD2020/1bx64j/c9azgqp_0.jpg  \n",
            "  inflating: /content/Dataset/IMD2020/1bx64j/c9azgqp_0_mask.png  \n",
            "  inflating: /content/Dataset/IMD2020/1bx64j/c9b0gy6_0.jpg  \n",
            "  inflating: /content/Dataset/IMD2020/1bx64j/c9b0gy6_0_mask.png  \n",
            "  inflating: /content/Dataset/IMD2020/1bx64j/c9b0jbt_0.jpg  \n",
            "  inflating: /content/Dataset/IMD2020/1bx64j/c9b0jbt_0_mask.png  \n",
            "  inflating: /content/Dataset/IMD2020/1bx64j/c9b0mve_0.jpg  \n",
            "  inflating: /content/Dataset/IMD2020/1bx64j/c9b0mve_0_mask.png  \n",
            "  inflating: /content/Dataset/IMD2020/1bx64j/c9b0xit_0.jpg  \n",
            "  inflating: /content/Dataset/IMD2020/1bx64j/c9b0xit_0_mask.png  \n",
            "  inflating: /content/Dataset/IMD2020/1bx64j/c9b10e8_0.jpg  \n",
            "  inflating: /content/Dataset/IMD2020/1bx64j/c9b10e8_0_mask.png  \n",
            "  inflating: /content/Dataset/IMD2020/1bx64j/c9b11xy_0.jpg  \n",
            "  inflating: /content/Dataset/IMD2020/1bx64j/c9b11xy_0_mask.png  \n",
            "  inflating: /content/Dataset/IMD2020/1bx64j/c9b2vt4_0.jpg  \n",
            "  inflating: /content/Dataset/IMD2020/1bx64j/c9b2vt4_0_mask.png  \n",
            "  inflating: /content/Dataset/IMD2020/1bx64j/c9b6d4b_0.jpg  \n",
            "  inflating: /content/Dataset/IMD2020/1bx64j/c9b6d4b_0_mask.png  \n",
            "  inflating: /content/Dataset/IMD2020/1bx64j/c9b6ddb_0.jpg  \n",
            "  inflating: /content/Dataset/IMD2020/1bx64j/c9b6ddb_0_mask.png  \n",
            "  inflating: /content/Dataset/IMD2020/1bx64j/c9befb1_0.jpg  \n",
            "  inflating: /content/Dataset/IMD2020/1bx64j/c9befb1_0_mask.png  \n",
            "   creating: /content/Dataset/IMD2020/1bz432/\n",
            "  inflating: /content/Dataset/IMD2020/1bz432/1bz432_orig.jpg  \n",
            "  inflating: /content/Dataset/IMD2020/1bz432/c9bhen2_0.jpg  \n",
            "  inflating: /content/Dataset/IMD2020/1bz432/c9bhen2_0_mask.png  \n",
            "  inflating: /content/Dataset/IMD2020/1bz432/c9bk4ex_0.jpg  \n",
            "  inflating: /content/Dataset/IMD2020/1bz432/c9bk4ex_0_mask.png  \n",
            "  inflating: /content/Dataset/IMD2020/1bz432/c9bldbp_0.png  \n",
            "  inflating: /content/Dataset/IMD2020/1bz432/c9bldbp_0_mask.png  \n",
            "   creating: /content/Dataset/IMD2020/1bza2v/\n",
            "  inflating: /content/Dataset/IMD2020/1bza2v/1bza2v_orig.jpg  \n",
            "  inflating: /content/Dataset/IMD2020/1bza2v/c9biybz_0.jpg  \n",
            "  inflating: /content/Dataset/IMD2020/1bza2v/c9biybz_0_mask.png  \n",
            "  inflating: /content/Dataset/IMD2020/1bza2v/c9bkfb3_0.jpg  \n",
            "  inflating: /content/Dataset/IMD2020/1bza2v/c9bkfb3_0_mask.png  \n",
            "  inflating: /content/Dataset/IMD2020/1bza2v/c9bld2v_0.jpg  \n",
            "  inflating: /content/Dataset/IMD2020/1bza2v/c9bld2v_0_mask.png  \n",
            "  inflating: /content/Dataset/IMD2020/1bza2v/c9bldch_0.jpg  \n",
            "  inflating: /content/Dataset/IMD2020/1bza2v/c9bldch_0_mask.png  \n",
            "  inflating: /content/Dataset/IMD2020/1bza2v/c9bly1t_0.jpg  \n",
            "  inflating: /content/Dataset/IMD2020/1bza2v/c9bly1t_0_mask.png  \n",
            "  inflating: /content/Dataset/IMD2020/1bza2v/c9booko_0.jpg  \n",
            "  inflating: /content/Dataset/IMD2020/1bza2v/c9booko_0_mask.png  \n",
            "  inflating: /content/Dataset/IMD2020/1bza2v/c9bqr3l_0.jpg  \n",
            "  inflating: /content/Dataset/IMD2020/1bza2v/c9bqr3l_0_mask.png  \n",
            "  inflating: /content/Dataset/IMD2020/1bza2v/c9brtmx_0.jpg  \n",
            "  inflating: /content/Dataset/IMD2020/1bza2v/c9brtmx_0_mask.png  \n",
            "   creating: /content/Dataset/IMD2020/1bzitw/\n",
            "  inflating: /content/Dataset/IMD2020/1bzitw/1bzitw_orig.jpg  \n",
            "  inflating: /content/Dataset/IMD2020/1bzitw/c9bk4fn_0.jpg  \n",
            "  inflating: /content/Dataset/IMD2020/1bzitw/c9bk4fn_0_mask.png  \n",
            "  inflating: /content/Dataset/IMD2020/1bzitw/c9bl9ay_0.jpg  \n",
            "  inflating: /content/Dataset/IMD2020/1bzitw/c9bl9ay_0_mask.png  \n",
            "  inflating: /content/Dataset/IMD2020/1bzitw/c9bp70d_0.jpg  \n",
            "  inflating: /content/Dataset/IMD2020/1bzitw/c9bp70d_0_mask.png  \n",
            "   creating: /content/Dataset/IMD2020/1bzmio/\n",
            "  inflating: /content/Dataset/IMD2020/1bzmio/1bzmio_orig.jpg  \n",
            "  inflating: /content/Dataset/IMD2020/1bzmio/c9blqqz_0.jpg  \n",
            "  inflating: /content/Dataset/IMD2020/1bzmio/c9blqqz_0_mask.png  \n",
            "  inflating: /content/Dataset/IMD2020/1bzmio/c9bn0uy_0.jpg  \n",
            "  inflating: /content/Dataset/IMD2020/1bzmio/c9bn0uy_0_mask.png  \n",
            "   creating: /content/Dataset/IMD2020/1bzno4/\n",
            "  inflating: /content/Dataset/IMD2020/1bzno4/1bzno4_orig.jpg  \n",
            "  inflating: /content/Dataset/IMD2020/1bzno4/c9bm4rt_0.jpg  \n",
            "  inflating: /content/Dataset/IMD2020/1bzno4/c9bm4rt_0_mask.png  \n",
            "  inflating: /content/Dataset/IMD2020/1bzno4/c9bmply_0.jpg  \n",
            "  inflating: /content/Dataset/IMD2020/1bzno4/c9bmply_0_mask.png  \n",
            "  inflating: /content/Dataset/IMD2020/1bzno4/c9bmw1x_0.jpg  \n",
            "  inflating: /content/Dataset/IMD2020/1bzno4/c9bmw1x_0_mask.png  \n",
            "  inflating: /content/Dataset/IMD2020/1bzno4/c9bmy3r_0.jpg  \n",
            "  inflating: /content/Dataset/IMD2020/1bzno4/c9bmy3r_0_mask.png  \n",
            "  inflating: /content/Dataset/IMD2020/1bzno4/c9bn5v6_0.jpg  \n",
            "  inflating: /content/Dataset/IMD2020/1bzno4/c9bn5v6_0_mask.png  \n",
            "  inflating: /content/Dataset/IMD2020/1bzno4/c9bn6ip_0.jpg  \n",
            "  inflating: /content/Dataset/IMD2020/1bzno4/c9bn6ip_0_mask.png  \n",
            "  inflating: /content/Dataset/IMD2020/1bzno4/c9bncio_0.jpg  \n",
            "  inflating: /content/Dataset/IMD2020/1bzno4/c9bncio_0_mask.png  \n",
            "  inflating: /content/Dataset/IMD2020/1bzno4/c9bns5o_0.jpg  \n",
            "  inflating: /content/Dataset/IMD2020/1bzno4/c9bns5o_0_mask.png  \n",
            "  inflating: /content/Dataset/IMD2020/1bzno4/c9bq4ri_0.jpg  \n",
            "  inflating: /content/Dataset/IMD2020/1bzno4/c9bq4ri_0_mask.png  \n",
            "  inflating: /content/Dataset/IMD2020/1bzno4/c9br8f7_0.jpg  \n",
            "  inflating: /content/Dataset/IMD2020/1bzno4/c9br8f7_0_mask.png  \n",
            "  inflating: /content/Dataset/IMD2020/1bzno4/c9bse2z_0.jpg  \n",
            "  inflating: /content/Dataset/IMD2020/1bzno4/c9bse2z_0_mask.png  \n",
            "   creating: /content/Dataset/IMD2020/1c0yl5/\n",
            "  inflating: /content/Dataset/IMD2020/1c0yl5/1c0yl5_orig.jpg  \n",
            "  inflating: /content/Dataset/IMD2020/1c0yl5/c9bzbcq_0.jpg  \n",
            "  inflating: /content/Dataset/IMD2020/1c0yl5/c9bzbcq_0_mask.png  \n",
            "  inflating: /content/Dataset/IMD2020/1c0yl5/c9c4juu_0.jpg  \n",
            "  inflating: /content/Dataset/IMD2020/1c0yl5/c9c4juu_0_mask.png  \n",
            "   creating: /content/Dataset/IMD2020/1c1mwo/\n",
            "  inflating: /content/Dataset/IMD2020/1c1mwo/1c1mwo_orig.jpg  \n",
            "  inflating: /content/Dataset/IMD2020/1c1mwo/c9c75hs_0.jpg  \n",
            "  inflating: /content/Dataset/IMD2020/1c1mwo/c9c75hs_0_mask.png  \n",
            "  inflating: /content/Dataset/IMD2020/1c1mwo/c9c9t84_0.jpg  \n",
            "  inflating: /content/Dataset/IMD2020/1c1mwo/c9c9t84_0_mask.png  \n",
            "  inflating: /content/Dataset/IMD2020/1c1mwo/c9ca1of_0.jpg  \n",
            "  inflating: /content/Dataset/IMD2020/1c1mwo/c9ca1of_0_mask.png  \n",
            "  inflating: /content/Dataset/IMD2020/1c1mwo/c9cate8_0.jpg  \n",
            "  inflating: /content/Dataset/IMD2020/1c1mwo/c9cate8_0_mask.png  \n",
            "  inflating: /content/Dataset/IMD2020/1c1mwo/c9ceq9q_0.jpg  \n",
            "  inflating: /content/Dataset/IMD2020/1c1mwo/c9ceq9q_0_mask.png  \n",
            "  inflating: /content/Dataset/IMD2020/1c1mwo/c9cetkp_0.png  \n",
            "  inflating: /content/Dataset/IMD2020/1c1mwo/c9cetkp_0_mask.png  \n",
            "  inflating: /content/Dataset/IMD2020/1c1mwo/c9cfhhv_0.jpg  \n",
            "  inflating: /content/Dataset/IMD2020/1c1mwo/c9cfhhv_0_mask.png  \n",
            "  inflating: /content/Dataset/IMD2020/1c1mwo/c9chzty_0.jpg  \n",
            "  inflating: /content/Dataset/IMD2020/1c1mwo/c9chzty_0_mask.png  \n",
            "  inflating: /content/Dataset/IMD2020/1c1mwo/c9chzux_0.jpg  \n",
            "  inflating: /content/Dataset/IMD2020/1c1mwo/c9chzux_0_mask.png  \n",
            "  inflating: /content/Dataset/IMD2020/1c1mwo/c9cilly_0.jpg  \n",
            "  inflating: /content/Dataset/IMD2020/1c1mwo/c9cilly_0_mask.png  \n",
            "  inflating: /content/Dataset/IMD2020/1c1mwo/c9ckx05_0.jpg  \n",
            "  inflating: /content/Dataset/IMD2020/1c1mwo/c9ckx05_0_mask.png  \n",
            "  inflating: /content/Dataset/IMD2020/1c1mwo/c9cm5nk_0.jpg  \n",
            "  inflating: /content/Dataset/IMD2020/1c1mwo/c9cm5nk_0_mask.png  \n",
            "  inflating: /content/Dataset/IMD2020/1c1mwo/c9cml58_0.jpg  \n",
            "  inflating: /content/Dataset/IMD2020/1c1mwo/c9cml58_0_mask.png  \n",
            "  inflating: /content/Dataset/IMD2020/1c1mwo/c9cqpt2_0.jpg  \n",
            "  inflating: /content/Dataset/IMD2020/1c1mwo/c9cqpt2_0_mask.png  \n",
            "   creating: /content/Dataset/IMD2020/1c2bbr/\n",
            "  inflating: /content/Dataset/IMD2020/1c2bbr/1c2bbr_orig.jpg  \n",
            "  inflating: /content/Dataset/IMD2020/1c2bbr/c9ccedw_0.jpg  \n",
            "  inflating: /content/Dataset/IMD2020/1c2bbr/c9ccedw_0_mask.png  \n",
            "  inflating: /content/Dataset/IMD2020/1c2bbr/c9cd7xe_0.jpg  \n",
            "  inflating: /content/Dataset/IMD2020/1c2bbr/c9cd7xe_0_mask.png  \n",
            "  inflating: /content/Dataset/IMD2020/1c2bbr/c9cefz7_0.jpg  \n",
            "  inflating: /content/Dataset/IMD2020/1c2bbr/c9cefz7_0_mask.png  \n",
            "  inflating: /content/Dataset/IMD2020/1c2bbr/c9ceg0w_0.jpg  \n",
            "  inflating: /content/Dataset/IMD2020/1c2bbr/c9ceg0w_0_mask.png  \n",
            "  inflating: /content/Dataset/IMD2020/1c2bbr/c9cgjfv_0.jpg  \n",
            "  inflating: /content/Dataset/IMD2020/1c2bbr/c9cgjfv_0_mask.png  \n",
            "  inflating: /content/Dataset/IMD2020/1c2bbr/c9chbnh_0.jpg  \n",
            "  inflating: /content/Dataset/IMD2020/1c2bbr/c9chbnh_0_mask.png  \n",
            "  inflating: /content/Dataset/IMD2020/1c2bbr/c9cmtkc_0.jpg  \n",
            "  inflating: /content/Dataset/IMD2020/1c2bbr/c9cmtkc_0_mask.png  \n",
            "   creating: /content/Dataset/IMD2020/1c2gbq/\n",
            "  inflating: /content/Dataset/IMD2020/1c2gbq/1c2gbq_orig.jpg  \n",
            "  inflating: /content/Dataset/IMD2020/1c2gbq/c9ceql8_0.jpg  \n",
            "  inflating: /content/Dataset/IMD2020/1c2gbq/c9ceql8_0_mask.png  \n",
            "  inflating: /content/Dataset/IMD2020/1c2gbq/c9cgnm5_0.jpg  \n",
            "  inflating: /content/Dataset/IMD2020/1c2gbq/c9cgnm5_0_mask.png  \n",
            "  inflating: /content/Dataset/IMD2020/1c2gbq/c9cgxt5_0.jpg  \n",
            "  inflating: /content/Dataset/IMD2020/1c2gbq/c9cgxt5_0_mask.png  \n",
            "   creating: /content/Dataset/IMD2020/1c2ojm/\n",
            "  inflating: /content/Dataset/IMD2020/1c2ojm/1c2ojm_orig.jpg  \n",
            "  inflating: /content/Dataset/IMD2020/1c2ojm/c9chqo0_0.jpg  \n",
            "  inflating: /content/Dataset/IMD2020/1c2ojm/c9chqo0_0_mask.png  \n",
            "  inflating: /content/Dataset/IMD2020/1c2ojm/c9cklgd_0.jpg  \n",
            "  inflating: /content/Dataset/IMD2020/1c2ojm/c9cklgd_0_mask.png  \n",
            "  inflating: /content/Dataset/IMD2020/1c2ojm/c9clhtf_0.jpg  \n",
            "  inflating: /content/Dataset/IMD2020/1c2ojm/c9clhtf_0_mask.png  \n",
            "  inflating: /content/Dataset/IMD2020/1c2ojm/c9clks3_0.jpg  \n",
            "  inflating: /content/Dataset/IMD2020/1c2ojm/c9clks3_0_mask.png  \n",
            "  inflating: /content/Dataset/IMD2020/1c2ojm/c9clq8i_0.png  \n",
            "  inflating: /content/Dataset/IMD2020/1c2ojm/c9clq8i_0_mask.png  \n",
            "  inflating: /content/Dataset/IMD2020/1c2ojm/c9cm824_0.png  \n",
            "  inflating: /content/Dataset/IMD2020/1c2ojm/c9cm824_0_mask.png  \n",
            "  inflating: /content/Dataset/IMD2020/1c2ojm/c9cmdfe_0.jpg  \n",
            "  inflating: /content/Dataset/IMD2020/1c2ojm/c9cmdfe_0_mask.png  \n",
            "  inflating: /content/Dataset/IMD2020/1c2ojm/c9cnjtp_0.png  \n",
            "  inflating: /content/Dataset/IMD2020/1c2ojm/c9cnjtp_0_mask.png  \n",
            "  inflating: /content/Dataset/IMD2020/1c2ojm/c9cnkd2_0.jpg  \n",
            "  inflating: /content/Dataset/IMD2020/1c2ojm/c9cnkd2_0_mask.png  \n",
            "  inflating: /content/Dataset/IMD2020/1c2ojm/c9cnkxl_0.jpg  \n",
            "  inflating: /content/Dataset/IMD2020/1c2ojm/c9cnkxl_0_mask.png  \n",
            "  inflating: /content/Dataset/IMD2020/1c2ojm/c9cnv8n_0.jpg  \n",
            "  inflating: /content/Dataset/IMD2020/1c2ojm/c9cnv8n_0_mask.png  \n",
            "  inflating: /content/Dataset/IMD2020/1c2ojm/c9cnzf8_0.jpg  \n",
            "  inflating: /content/Dataset/IMD2020/1c2ojm/c9cnzf8_0_mask.png  \n",
            "  inflating: /content/Dataset/IMD2020/1c2ojm/c9co6ln_0.jpg  \n",
            "  inflating: /content/Dataset/IMD2020/1c2ojm/c9co6ln_0_mask.png  \n",
            "  inflating: /content/Dataset/IMD2020/1c2ojm/c9codtz_0.png  \n",
            "  inflating: /content/Dataset/IMD2020/1c2ojm/c9codtz_0_mask.png  \n",
            "  inflating: /content/Dataset/IMD2020/1c2ojm/c9cofak_0.jpg  \n",
            "  inflating: /content/Dataset/IMD2020/1c2ojm/c9cofak_0_mask.png  \n",
            "  inflating: /content/Dataset/IMD2020/1c2ojm/c9cojnz_0.jpg  \n",
            "  inflating: /content/Dataset/IMD2020/1c2ojm/c9cojnz_0_mask.png  \n",
            "  inflating: /content/Dataset/IMD2020/1c2ojm/c9coljf_0.jpg  \n",
            "  inflating: /content/Dataset/IMD2020/1c2ojm/c9coljf_0_mask.png  \n",
            "  inflating: /content/Dataset/IMD2020/1c2ojm/c9colrh_0.jpg  \n",
            "  inflating: /content/Dataset/IMD2020/1c2ojm/c9colrh_0_mask.png  \n",
            "  inflating: /content/Dataset/IMD2020/1c2ojm/c9con3s_0.jpg  \n",
            "  inflating: /content/Dataset/IMD2020/1c2ojm/c9con3s_0_mask.png  \n",
            "  inflating: /content/Dataset/IMD2020/1c2ojm/c9coynw_0.png  \n",
            "  inflating: /content/Dataset/IMD2020/1c2ojm/c9coynw_0_mask.png  \n",
            "  inflating: /content/Dataset/IMD2020/1c2ojm/c9cpohz_0.jpg  \n",
            "  inflating: /content/Dataset/IMD2020/1c2ojm/c9cpohz_0_mask.png  \n",
            "  inflating: /content/Dataset/IMD2020/1c2ojm/c9cptn0_0.jpg  \n",
            "  inflating: /content/Dataset/IMD2020/1c2ojm/c9cptn0_0_mask.png  \n",
            "  inflating: /content/Dataset/IMD2020/1c2ojm/c9cqfso_0.jpg  \n",
            "  inflating: /content/Dataset/IMD2020/1c2ojm/c9cqfso_0_mask.png  \n",
            "  inflating: /content/Dataset/IMD2020/1c2ojm/c9cqodp_0.jpg  \n",
            "  inflating: /content/Dataset/IMD2020/1c2ojm/c9cqodp_0_mask.png  \n",
            "  inflating: /content/Dataset/IMD2020/1c2ojm/c9crgzl_0.png  \n",
            "  inflating: /content/Dataset/IMD2020/1c2ojm/c9crgzl_0_mask.png  \n",
            "  inflating: /content/Dataset/IMD2020/1c2ojm/c9crh2a_0.jpg  \n",
            "  inflating: /content/Dataset/IMD2020/1c2ojm/c9crh2a_0_mask.png  \n",
            "  inflating: /content/Dataset/IMD2020/1c2ojm/c9cu722_0.jpg  \n",
            "  inflating: /content/Dataset/IMD2020/1c2ojm/c9cu722_0_mask.png  \n",
            "   creating: /content/Dataset/IMD2020/1c2uxu/\n",
            "  inflating: /content/Dataset/IMD2020/1c2uxu/1c2uxu_orig.jpg  \n",
            "  inflating: /content/Dataset/IMD2020/1c2uxu/c9clmau_0.png  \n",
            "  inflating: /content/Dataset/IMD2020/1c2uxu/c9clmau_0_mask.png  \n",
            "  inflating: /content/Dataset/IMD2020/1c2uxu/c9cocnw_0.jpg  \n",
            "  inflating: /content/Dataset/IMD2020/1c2uxu/c9cocnw_0_mask.png  \n",
            "  inflating: /content/Dataset/IMD2020/1c2uxu/c9cpev3_0.jpg  \n",
            "  inflating: /content/Dataset/IMD2020/1c2uxu/c9cpev3_0_mask.png  \n",
            "  inflating: /content/Dataset/IMD2020/1c2uxu/c9cqrf4_0.jpg  \n",
            "  inflating: /content/Dataset/IMD2020/1c2uxu/c9cqrf4_0_mask.png  \n",
            "  inflating: /content/Dataset/IMD2020/1c2uxu/c9ct2jr_0.jpg  \n",
            "  inflating: /content/Dataset/IMD2020/1c2uxu/c9ct2jr_0_mask.png  \n",
            "  inflating: /content/Dataset/IMD2020/1c2uxu/c9cucm2_0.jpg  \n",
            "  inflating: /content/Dataset/IMD2020/1c2uxu/c9cucm2_0_mask.png  \n",
            "   creating: /content/Dataset/IMD2020/1c03j4/\n",
            "  inflating: /content/Dataset/IMD2020/1c03j4/1c03j4_orig.jpg  \n",
            "  inflating: /content/Dataset/IMD2020/1c03j4/c9bugf8_0.jpg  \n",
            "  inflating: /content/Dataset/IMD2020/1c03j4/c9bugf8_0_mask.png  \n",
            "   creating: /content/Dataset/IMD2020/1c3l17/\n",
            "  inflating: /content/Dataset/IMD2020/1c3l17/1c3l17_orig.jpg  \n",
            "  inflating: /content/Dataset/IMD2020/1c3l17/c9coy2n_0.jpg  \n",
            "  inflating: /content/Dataset/IMD2020/1c3l17/c9coy2n_0_mask.png  \n",
            "  inflating: /content/Dataset/IMD2020/1c3l17/c9cufxm_0.jpg  \n",
            "  inflating: /content/Dataset/IMD2020/1c3l17/c9cufxm_0_mask.png  \n",
            "   creating: /content/Dataset/IMD2020/1c4ksv/\n",
            "  inflating: /content/Dataset/IMD2020/1c4ksv/1c4ksv_orig.jpg  \n",
            "  inflating: /content/Dataset/IMD2020/1c4ksv/c9cyjm5_0.jpg  \n",
            "  inflating: /content/Dataset/IMD2020/1c4ksv/c9cyjm5_0_mask.png  \n",
            "  inflating: /content/Dataset/IMD2020/1c4ksv/c9cysih_0.jpg  \n",
            "  inflating: /content/Dataset/IMD2020/1c4ksv/c9cysih_0_mask.png  \n",
            "  inflating: /content/Dataset/IMD2020/1c4ksv/c9czi34_0.jpg  \n",
            "  inflating: /content/Dataset/IMD2020/1c4ksv/c9czi34_0_mask.png  \n",
            "  inflating: /content/Dataset/IMD2020/1c4ksv/c9czkzr_0.jpg  \n",
            "  inflating: /content/Dataset/IMD2020/1c4ksv/c9czkzr_0_mask.png  \n",
            "  inflating: /content/Dataset/IMD2020/1c4ksv/c9czl4x_0.jpg  \n",
            "  inflating: /content/Dataset/IMD2020/1c4ksv/c9czl4x_0_mask.png  \n",
            "  inflating: /content/Dataset/IMD2020/1c4ksv/c9d09n3_0.jpg  \n",
            "  inflating: /content/Dataset/IMD2020/1c4ksv/c9d09n3_0_mask.png  \n",
            "  inflating: /content/Dataset/IMD2020/1c4ksv/c9d0hcc_0.jpg  \n",
            "  inflating: /content/Dataset/IMD2020/1c4ksv/c9d0hcc_0_mask.png  \n",
            "  inflating: /content/Dataset/IMD2020/1c4ksv/c9d1bek_0.png  \n",
            "  inflating: /content/Dataset/IMD2020/1c4ksv/c9d1bek_0_mask.png  \n",
            "  inflating: /content/Dataset/IMD2020/1c4ksv/c9d1ut9_0.jpg  \n",
            "  inflating: /content/Dataset/IMD2020/1c4ksv/c9d1ut9_0_mask.png  \n",
            "  inflating: /content/Dataset/IMD2020/1c4ksv/c9d2odr_0.jpg  \n",
            "  inflating: /content/Dataset/IMD2020/1c4ksv/c9d2odr_0_mask.png  \n",
            "  inflating: /content/Dataset/IMD2020/1c4ksv/c9d4ljv_0.jpg  \n",
            "  inflating: /content/Dataset/IMD2020/1c4ksv/c9d4ljv_0_mask.png  \n",
            "  inflating: /content/Dataset/IMD2020/1c4ksv/c9d56du_0.png  \n",
            "  inflating: /content/Dataset/IMD2020/1c4ksv/c9d56du_0_mask.png  \n",
            "  inflating: /content/Dataset/IMD2020/1c4ksv/c9d78r8_0.jpg  \n",
            "  inflating: /content/Dataset/IMD2020/1c4ksv/c9d78r8_0_mask.png  \n",
            "  inflating: /content/Dataset/IMD2020/1c4ksv/c9d7t09_0.jpg  \n",
            "  inflating: /content/Dataset/IMD2020/1c4ksv/c9d7t09_0_mask.png  \n",
            "  inflating: /content/Dataset/IMD2020/1c4ksv/c9dc59i_0.jpg  \n",
            "  inflating: /content/Dataset/IMD2020/1c4ksv/c9dc59i_0_mask.png  \n",
            "  inflating: /content/Dataset/IMD2020/1c4ksv/c9dem0q_0.jpg  \n",
            "  inflating: /content/Dataset/IMD2020/1c4ksv/c9dem0q_0_mask.png  \n",
            "   creating: /content/Dataset/IMD2020/1c4q11/\n",
            "  inflating: /content/Dataset/IMD2020/1c4q11/1c4q11_orig.jpg  \n",
            "  inflating: /content/Dataset/IMD2020/1c4q11/c9d0vu3_0.jpg  \n",
            "  inflating: /content/Dataset/IMD2020/1c4q11/c9d0vu3_0_mask.png  \n",
            "   creating: /content/Dataset/IMD2020/1c4ze8/\n",
            "  inflating: /content/Dataset/IMD2020/1c4ze8/1c4ze8_orig.jpg  \n",
            "  inflating: /content/Dataset/IMD2020/1c4ze8/c9d2t1a_0.jpg  \n",
            "  inflating: /content/Dataset/IMD2020/1c4ze8/c9d2t1a_0_mask.png  \n",
            "  inflating: /content/Dataset/IMD2020/1c4ze8/c9d37je_0.jpg  \n",
            "  inflating: /content/Dataset/IMD2020/1c4ze8/c9d37je_0_mask.png  \n",
            "  inflating: /content/Dataset/IMD2020/1c4ze8/c9d38jl_0.jpg  \n",
            "  inflating: /content/Dataset/IMD2020/1c4ze8/c9d38jl_0_mask.png  \n",
            "  inflating: /content/Dataset/IMD2020/1c4ze8/c9d3l1c_0.jpg  \n",
            "  inflating: /content/Dataset/IMD2020/1c4ze8/c9d3l1c_0_mask.png  \n",
            "  inflating: /content/Dataset/IMD2020/1c4ze8/c9d41vh_0.jpg  \n",
            "  inflating: /content/Dataset/IMD2020/1c4ze8/c9d41vh_0_mask.png  \n",
            "  inflating: /content/Dataset/IMD2020/1c4ze8/c9d9e1a_0.png  \n",
            "  inflating: /content/Dataset/IMD2020/1c4ze8/c9d9e1a_0_mask.png  \n",
            "   creating: /content/Dataset/IMD2020/1c6t1h/\n",
            "  inflating: /content/Dataset/IMD2020/1c6t1h/1c6t1h_orig.jpg  \n",
            "  inflating: /content/Dataset/IMD2020/1c6t1h/c9dl27f_0.jpg  \n",
            "  inflating: /content/Dataset/IMD2020/1c6t1h/c9dl27f_0_mask.png  \n",
            "  inflating: /content/Dataset/IMD2020/1c6t1h/c9dmses_0.jpg  \n",
            "  inflating: /content/Dataset/IMD2020/1c6t1h/c9dmses_0_mask.png  \n",
            "  inflating: /content/Dataset/IMD2020/1c6t1h/c9dnkas_0.jpg  \n",
            "  inflating: /content/Dataset/IMD2020/1c6t1h/c9dnkas_0_mask.png  \n",
            "  inflating: /content/Dataset/IMD2020/1c6t1h/c9dnz7d_0.jpg  \n",
            "  inflating: /content/Dataset/IMD2020/1c6t1h/c9dnz7d_0_mask.png  \n",
            "  inflating: /content/Dataset/IMD2020/1c6t1h/c9do678_0.jpg  \n",
            "  inflating: /content/Dataset/IMD2020/1c6t1h/c9do678_0_mask.png  \n",
            "  inflating: /content/Dataset/IMD2020/1c6t1h/c9dobg3_0.jpg  \n",
            "  inflating: /content/Dataset/IMD2020/1c6t1h/c9dobg3_0_mask.png  \n",
            "  inflating: /content/Dataset/IMD2020/1c6t1h/c9dpamg_0.png  \n",
            "  inflating: /content/Dataset/IMD2020/1c6t1h/c9dpamg_0_mask.png  \n",
            "  inflating: /content/Dataset/IMD2020/1c6t1h/c9dq7o6_0.jpg  \n",
            "  inflating: /content/Dataset/IMD2020/1c6t1h/c9dq7o6_0_mask.png  \n",
            "  inflating: /content/Dataset/IMD2020/1c6t1h/c9dqbbe_0.jpg  \n",
            "  inflating: /content/Dataset/IMD2020/1c6t1h/c9dqbbe_0_mask.png  \n",
            "  inflating: /content/Dataset/IMD2020/1c6t1h/c9dr8ae_0.jpg  \n",
            "  inflating: /content/Dataset/IMD2020/1c6t1h/c9dr8ae_0_mask.png  \n",
            "  inflating: /content/Dataset/IMD2020/1c6t1h/c9drap5_0.jpg  \n",
            "  inflating: /content/Dataset/IMD2020/1c6t1h/c9drap5_0_mask.png  \n",
            "  inflating: /content/Dataset/IMD2020/1c6t1h/c9dscl6_0.jpg  \n",
            "  inflating: /content/Dataset/IMD2020/1c6t1h/c9dscl6_0_mask.png  \n",
            "  inflating: /content/Dataset/IMD2020/1c6t1h/c9dst40_0.jpg  \n",
            "  inflating: /content/Dataset/IMD2020/1c6t1h/c9dst40_0_mask.png  \n",
            "  inflating: /content/Dataset/IMD2020/1c6t1h/c9dsznh_0.jpg  \n",
            "  inflating: /content/Dataset/IMD2020/1c6t1h/c9dsznh_0_mask.png  \n",
            "  inflating: /content/Dataset/IMD2020/1c6t1h/c9du4ht_0.jpg  \n",
            "  inflating: /content/Dataset/IMD2020/1c6t1h/c9du4ht_0_mask.png  \n",
            "  inflating: /content/Dataset/IMD2020/1c6t1h/c9du7a8_0.jpg  \n",
            "  inflating: /content/Dataset/IMD2020/1c6t1h/c9du7a8_0_mask.png  \n",
            "  inflating: /content/Dataset/IMD2020/1c6t1h/c9dvojg_0.jpg  \n",
            "  inflating: /content/Dataset/IMD2020/1c6t1h/c9dvojg_0_mask.png  \n",
            "  inflating: /content/Dataset/IMD2020/1c6t1h/c9dvolx_0.jpg  \n",
            "  inflating: /content/Dataset/IMD2020/1c6t1h/c9dvolx_0_mask.png  \n",
            "  inflating: /content/Dataset/IMD2020/1c6t1h/c9dvu4w_0.jpg  \n",
            "  inflating: /content/Dataset/IMD2020/1c6t1h/c9dvu4w_0_mask.png  \n",
            "  inflating: /content/Dataset/IMD2020/1c6t1h/c9dwil8_0.jpg  \n",
            "  inflating: /content/Dataset/IMD2020/1c6t1h/c9dwil8_0_mask.png  \n",
            "  inflating: /content/Dataset/IMD2020/1c6t1h/c9dwu2g_0.jpg  \n",
            "  inflating: /content/Dataset/IMD2020/1c6t1h/c9dwu2g_0_mask.png  \n",
            "   creating: /content/Dataset/IMD2020/1c7f5q/\n",
            "  inflating: /content/Dataset/IMD2020/1c7f5q/1c7f5q_orig.jpg  \n",
            "  inflating: /content/Dataset/IMD2020/1c7f5q/c9dr5uk_0.jpg  \n",
            "  inflating: /content/Dataset/IMD2020/1c7f5q/c9dr5uk_0_mask.png  \n",
            "  inflating: /content/Dataset/IMD2020/1c7f5q/c9drgb8_0.jpg  \n",
            "  inflating: /content/Dataset/IMD2020/1c7f5q/c9drgb8_0_mask.png  \n",
            "   creating: /content/Dataset/IMD2020/1c7ljf/\n",
            "  inflating: /content/Dataset/IMD2020/1c7ljf/1c7ljf_orig.jpg  \n",
            "  inflating: /content/Dataset/IMD2020/1c7ljf/c9durpw_0.jpg  \n",
            "  inflating: /content/Dataset/IMD2020/1c7ljf/c9durpw_0_mask.png  \n",
            "  inflating: /content/Dataset/IMD2020/1c7ljf/c9dwcgf_0.jpg  \n",
            "  inflating: /content/Dataset/IMD2020/1c7ljf/c9dwcgf_0_mask.png  \n",
            "   creating: /content/Dataset/IMD2020/1c7xcf/\n",
            "  inflating: /content/Dataset/IMD2020/1c7xcf/1c7xcf_orig.jpg  \n",
            "  inflating: /content/Dataset/IMD2020/1c7xcf/c9dwwid_0.jpg  \n",
            "  inflating: /content/Dataset/IMD2020/1c7xcf/c9dwwid_0_mask.png  \n",
            "  inflating: /content/Dataset/IMD2020/1c7xcf/c9dxbvt_0.jpg  \n",
            "  inflating: /content/Dataset/IMD2020/1c7xcf/c9dxbvt_0_mask.png  \n",
            "  inflating: /content/Dataset/IMD2020/1c7xcf/c9e3ftk_0.jpg  \n",
            "  inflating: /content/Dataset/IMD2020/1c7xcf/c9e3ftk_0_mask.png  \n",
            "  inflating: /content/Dataset/IMD2020/1c7xcf/c9e3pq0_0.png  \n",
            "  inflating: /content/Dataset/IMD2020/1c7xcf/c9e3pq0_0_mask.png  \n",
            "  inflating: /content/Dataset/IMD2020/1c7xcf/c9e4ble_0.jpg  \n",
            "  inflating: /content/Dataset/IMD2020/1c7xcf/c9e4ble_0_mask.png  \n",
            "  inflating: /content/Dataset/IMD2020/1c7xcf/c9e4i0n_0.jpg  \n",
            "  inflating: /content/Dataset/IMD2020/1c7xcf/c9e4i0n_0_mask.png  \n",
            "  inflating: /content/Dataset/IMD2020/1c7xcf/c9e4pg2_0.jpg  \n",
            "  inflating: /content/Dataset/IMD2020/1c7xcf/c9e4pg2_0_mask.png  \n",
            "  inflating: /content/Dataset/IMD2020/1c7xcf/c9eayk3_0.jpg  \n",
            "  inflating: /content/Dataset/IMD2020/1c7xcf/c9eayk3_0_mask.png  \n",
            "   creating: /content/Dataset/IMD2020/1c8xyn/\n",
            "  inflating: /content/Dataset/IMD2020/1c8xyn/1c8xyn_orig.jpg  \n",
            "  inflating: /content/Dataset/IMD2020/1c8xyn/c9e7x90_0.jpg  \n",
            "  inflating: /content/Dataset/IMD2020/1c8xyn/c9e7x90_0_mask.png  \n",
            "  inflating: /content/Dataset/IMD2020/1c8xyn/c9e9r5q_0.jpg  \n",
            "  inflating: /content/Dataset/IMD2020/1c8xyn/c9e9r5q_0_mask.png  \n",
            "  inflating: /content/Dataset/IMD2020/1c8xyn/c9e9teg_0.jpg  \n",
            "  inflating: /content/Dataset/IMD2020/1c8xyn/c9e9teg_0_mask.png  \n",
            "   creating: /content/Dataset/IMD2020/1c9e7e/\n",
            "  inflating: /content/Dataset/IMD2020/1c9e7e/1c9e7e_orig.jpg  \n",
            "  inflating: /content/Dataset/IMD2020/1c9e7e/c9ebxsh_0.jpg  \n",
            "  inflating: /content/Dataset/IMD2020/1c9e7e/c9ebxsh_0_mask.png  \n",
            "  inflating: /content/Dataset/IMD2020/1c9e7e/c9ec1il_0.jpg  \n",
            "  inflating: /content/Dataset/IMD2020/1c9e7e/c9ec1il_0_mask.png  \n",
            "  inflating: /content/Dataset/IMD2020/1c9e7e/c9ec9j2_0.jpg  \n",
            "  inflating: /content/Dataset/IMD2020/1c9e7e/c9ec9j2_0_mask.png  \n",
            "  inflating: /content/Dataset/IMD2020/1c9e7e/c9ece0x_0.jpg  \n",
            "  inflating: /content/Dataset/IMD2020/1c9e7e/c9ece0x_0_mask.png  \n",
            "  inflating: /content/Dataset/IMD2020/1c9e7e/c9ecnrt_0.jpg  \n",
            "  inflating: /content/Dataset/IMD2020/1c9e7e/c9ecnrt_0_mask.png  \n",
            "  inflating: /content/Dataset/IMD2020/1c9e7e/c9ecs0x_0.jpg  \n",
            "  inflating: /content/Dataset/IMD2020/1c9e7e/c9ecs0x_0_mask.png  \n",
            "  inflating: /content/Dataset/IMD2020/1c9e7e/c9ed1is_0.jpg  \n",
            "  inflating: /content/Dataset/IMD2020/1c9e7e/c9ed1is_0_mask.png  \n",
            "  inflating: /content/Dataset/IMD2020/1c9e7e/c9ed8pk_0.jpg  \n",
            "  inflating: /content/Dataset/IMD2020/1c9e7e/c9ed8pk_0_mask.png  \n",
            "  inflating: /content/Dataset/IMD2020/1c9e7e/c9eddxz_0.jpg  \n",
            "  inflating: /content/Dataset/IMD2020/1c9e7e/c9eddxz_0_mask.png  \n",
            "  inflating: /content/Dataset/IMD2020/1c9e7e/c9ee26f_0.jpg  \n",
            "  inflating: /content/Dataset/IMD2020/1c9e7e/c9ee26f_0_mask.png  \n",
            "  inflating: /content/Dataset/IMD2020/1c9e7e/c9ehqe2_0.jpg  \n",
            "  inflating: /content/Dataset/IMD2020/1c9e7e/c9ehqe2_0_mask.png  \n",
            "   creating: /content/Dataset/IMD2020/1c9ol1/\n",
            "  inflating: /content/Dataset/IMD2020/1c9ol1/1c9ol1_orig.jpg  \n",
            "  inflating: /content/Dataset/IMD2020/1c9ol1/c9ege42_0.jpg  \n",
            "  inflating: /content/Dataset/IMD2020/1c9ol1/c9ege42_0_mask.png  \n",
            "  inflating: /content/Dataset/IMD2020/1c9ol1/c9eiaqx_0.jpg  \n",
            "  inflating: /content/Dataset/IMD2020/1c9ol1/c9eiaqx_0_mask.png  \n",
            "   creating: /content/Dataset/IMD2020/1c9vyj/\n",
            "  inflating: /content/Dataset/IMD2020/1c9vyj/1c9vyj_orig.jpg  \n",
            "  inflating: /content/Dataset/IMD2020/1c9vyj/c9eictw_0.png  \n",
            "  inflating: /content/Dataset/IMD2020/1c9vyj/c9eictw_0_mask.png  \n",
            "  inflating: /content/Dataset/IMD2020/1c9vyj/c9eierm_0.jpg  \n",
            "  inflating: /content/Dataset/IMD2020/1c9vyj/c9eierm_0_mask.png  \n",
            "  inflating: /content/Dataset/IMD2020/1c9vyj/c9ens87_0.jpg  \n",
            "  inflating: /content/Dataset/IMD2020/1c9vyj/c9ens87_0_mask.png  \n",
            "  inflating: /content/Dataset/IMD2020/1c9vyj/c9erwxd_0.jpg  \n",
            "  inflating: /content/Dataset/IMD2020/1c9vyj/c9erwxd_0_mask.png  \n",
            "   creating: /content/Dataset/IMD2020/1c9wcj/\n",
            "  inflating: /content/Dataset/IMD2020/1c9wcj/1c9wcj_orig.jpg  \n",
            "  inflating: /content/Dataset/IMD2020/1c9wcj/c9egvex_0.jpg  \n",
            "  inflating: /content/Dataset/IMD2020/1c9wcj/c9egvex_0_mask.png  \n",
            "  inflating: /content/Dataset/IMD2020/1c9wcj/c9ekoti_0.png  \n",
            "  inflating: /content/Dataset/IMD2020/1c9wcj/c9ekoti_0_mask.png  \n",
            "   creating: /content/Dataset/IMD2020/1c54ga/\n",
            "  inflating: /content/Dataset/IMD2020/1c54ga/1c54ga_orig.jpg  \n",
            "  inflating: /content/Dataset/IMD2020/1c54ga/c9d4vh2_0.png  \n",
            "  inflating: /content/Dataset/IMD2020/1c54ga/c9d4vh2_0_mask.png  \n",
            "  inflating: /content/Dataset/IMD2020/1c54ga/c9d5q6i_0.jpg  \n",
            "  inflating: /content/Dataset/IMD2020/1c54ga/c9d5q6i_0_mask.png  \n",
            "  inflating: /content/Dataset/IMD2020/1c54ga/c9d6jfi_0.jpg  \n",
            "  inflating: /content/Dataset/IMD2020/1c54ga/c9d6jfi_0_mask.png  \n",
            "  inflating: /content/Dataset/IMD2020/1c54ga/c9d710z_0.jpg  \n",
            "  inflating: /content/Dataset/IMD2020/1c54ga/c9d710z_0_mask.png  \n",
            "  inflating: /content/Dataset/IMD2020/1c54ga/c9d7ags_0.jpg  \n",
            "  inflating: /content/Dataset/IMD2020/1c54ga/c9d7ags_0_mask.png  \n",
            "  inflating: /content/Dataset/IMD2020/1c54ga/c9d9pl9_0.jpg  \n",
            "  inflating: /content/Dataset/IMD2020/1c54ga/c9d9pl9_0_mask.png  \n",
            "  inflating: /content/Dataset/IMD2020/1c54ga/c9db1wq_0.jpg  \n",
            "  inflating: /content/Dataset/IMD2020/1c54ga/c9db1wq_0_mask.png  \n",
            "  inflating: /content/Dataset/IMD2020/1c54ga/c9db37a_0.jpg  \n",
            "  inflating: /content/Dataset/IMD2020/1c54ga/c9db37a_0_mask.png  \n",
            "  inflating: /content/Dataset/IMD2020/1c54ga/c9dcvq8_0.jpg  \n",
            "  inflating: /content/Dataset/IMD2020/1c54ga/c9dcvq8_0_mask.png  \n",
            "  inflating: /content/Dataset/IMD2020/1c54ga/c9dcyjm_0.jpg  \n",
            "  inflating: /content/Dataset/IMD2020/1c54ga/c9dcyjm_0_mask.png  \n",
            "  inflating: /content/Dataset/IMD2020/1c54ga/c9dd24r_0.jpg  \n",
            "  inflating: /content/Dataset/IMD2020/1c54ga/c9dd24r_0_mask.png  \n",
            "  inflating: /content/Dataset/IMD2020/1c54ga/c9df1un_0.jpg  \n",
            "  inflating: /content/Dataset/IMD2020/1c54ga/c9df1un_0_mask.png  \n",
            "  inflating: /content/Dataset/IMD2020/1c54ga/c9dko71_0.jpg  \n",
            "  inflating: /content/Dataset/IMD2020/1c54ga/c9dko71_0_mask.png  \n",
            "  inflating: /content/Dataset/IMD2020/1c54ga/c9dl0if_0.jpg  \n",
            "  inflating: /content/Dataset/IMD2020/1c54ga/c9dl0if_0_mask.png  \n",
            "  inflating: /content/Dataset/IMD2020/1c54ga/c9do7hm_0.jpg  \n",
            "  inflating: /content/Dataset/IMD2020/1c54ga/c9do7hm_0_mask.png  \n",
            "   creating: /content/Dataset/IMD2020/1c055r/\n",
            "  inflating: /content/Dataset/IMD2020/1c055r/1c055r_orig.jpg  \n",
            "  inflating: /content/Dataset/IMD2020/1c055r/c9bt9ta_0.jpg  \n",
            "  inflating: /content/Dataset/IMD2020/1c055r/c9bt9ta_0_mask.png  \n",
            "  inflating: /content/Dataset/IMD2020/1c055r/c9bttk4_0.jpg  \n",
            "  inflating: /content/Dataset/IMD2020/1c055r/c9bttk4_0_mask.png  \n",
            "   creating: /content/Dataset/IMD2020/1c56yh/\n",
            "  inflating: /content/Dataset/IMD2020/1c56yh/1c56yh_orig.jpg  \n",
            "  inflating: /content/Dataset/IMD2020/1c56yh/c9d5i6n_0.jpg  \n",
            "  inflating: /content/Dataset/IMD2020/1c56yh/c9d5i6n_0_mask.png  \n",
            "  inflating: /content/Dataset/IMD2020/1c56yh/c9d617b_0.jpg  \n",
            "  inflating: /content/Dataset/IMD2020/1c56yh/c9d617b_0_mask.png  \n",
            "  inflating: /content/Dataset/IMD2020/1c56yh/c9d7js8_0.jpg  \n",
            "  inflating: /content/Dataset/IMD2020/1c56yh/c9d7js8_0_mask.png  \n",
            "  inflating: /content/Dataset/IMD2020/1c56yh/c9d81o3_0.jpg  \n",
            "  inflating: /content/Dataset/IMD2020/1c56yh/c9d81o3_0_mask.png  \n",
            "  inflating: /content/Dataset/IMD2020/1c56yh/c9d9dft_0.jpg  \n",
            "  inflating: /content/Dataset/IMD2020/1c56yh/c9d9dft_0_mask.png  \n",
            "   creating: /content/Dataset/IMD2020/1c81cn/\n",
            "  inflating: /content/Dataset/IMD2020/1c81cn/1c81cn_orig.jpg  \n",
            "  inflating: /content/Dataset/IMD2020/1c81cn/c9dyl8y_0.jpg  \n",
            "  inflating: /content/Dataset/IMD2020/1c81cn/c9dyl8y_0_mask.png  \n",
            "  inflating: /content/Dataset/IMD2020/1c81cn/c9e195c_0.jpg  \n",
            "  inflating: /content/Dataset/IMD2020/1c81cn/c9e195c_0_mask.png  \n",
            "   creating: /content/Dataset/IMD2020/1c322x/\n",
            "  inflating: /content/Dataset/IMD2020/1c322x/1c322x_orig.jpg  \n",
            "  inflating: /content/Dataset/IMD2020/1c322x/c9cj5xa_0.jpg  \n",
            "  inflating: /content/Dataset/IMD2020/1c322x/c9cj5xa_0_mask.png  \n",
            "  inflating: /content/Dataset/IMD2020/1c322x/c9ck0j3_0.jpg  \n",
            "  inflating: /content/Dataset/IMD2020/1c322x/c9ck0j3_0_mask.png  \n",
            "  inflating: /content/Dataset/IMD2020/1c322x/c9clzrj_0.jpg  \n",
            "  inflating: /content/Dataset/IMD2020/1c322x/c9clzrj_0_mask.png  \n",
            "  inflating: /content/Dataset/IMD2020/1c322x/c9cnst8_0.jpg  \n",
            "  inflating: /content/Dataset/IMD2020/1c322x/c9cnst8_0_mask.png  \n",
            "  inflating: /content/Dataset/IMD2020/1c322x/c9cser1_0.jpg  \n",
            "  inflating: /content/Dataset/IMD2020/1c322x/c9cser1_0_mask.png  \n",
            "  inflating: /content/Dataset/IMD2020/1c322x/c9cu6ad_0.jpg  \n",
            "  inflating: /content/Dataset/IMD2020/1c322x/c9cu6ad_0_mask.png  \n",
            "   creating: /content/Dataset/IMD2020/1ca8nm/\n",
            "  inflating: /content/Dataset/IMD2020/1ca8nm/1ca8nm_orig.jpg  \n",
            "  inflating: /content/Dataset/IMD2020/1ca8nm/c9eki1d_0.jpg  \n",
            "  inflating: /content/Dataset/IMD2020/1ca8nm/c9eki1d_0_mask.png  \n",
            "  inflating: /content/Dataset/IMD2020/1ca8nm/c9elhr5_0.png  \n",
            "  inflating: /content/Dataset/IMD2020/1ca8nm/c9elhr5_0_mask.png  \n",
            "  inflating: /content/Dataset/IMD2020/1ca8nm/c9elrrk_0.jpg  \n",
            "  inflating: /content/Dataset/IMD2020/1ca8nm/c9elrrk_0_mask.png  \n",
            "  inflating: /content/Dataset/IMD2020/1ca8nm/c9en86k_0.jpg  \n",
            "  inflating: /content/Dataset/IMD2020/1ca8nm/c9en86k_0_mask.png  \n",
            "  inflating: /content/Dataset/IMD2020/1ca8nm/c9eowm6_0.jpg  \n",
            "  inflating: /content/Dataset/IMD2020/1ca8nm/c9eowm6_0_mask.png  \n",
            "  inflating: /content/Dataset/IMD2020/1ca8nm/c9ep601_0.jpg  \n",
            "  inflating: /content/Dataset/IMD2020/1ca8nm/c9ep601_0_mask.png  \n",
            "  inflating: /content/Dataset/IMD2020/1ca8nm/c9epo48_0.jpg  \n",
            "  inflating: /content/Dataset/IMD2020/1ca8nm/c9epo48_0_mask.png  \n",
            "  inflating: /content/Dataset/IMD2020/1ca8nm/c9epyi9_0.jpg  \n",
            "  inflating: /content/Dataset/IMD2020/1ca8nm/c9epyi9_0_mask.png  \n",
            "  inflating: /content/Dataset/IMD2020/1ca8nm/c9eqhuj_0.jpg  \n",
            "  inflating: /content/Dataset/IMD2020/1ca8nm/c9eqhuj_0_mask.png  \n",
            "  inflating: /content/Dataset/IMD2020/1ca8nm/c9eqqy1_0.jpg  \n",
            "  inflating: /content/Dataset/IMD2020/1ca8nm/c9eqqy1_0_mask.png  \n",
            "  inflating: /content/Dataset/IMD2020/1ca8nm/c9esffq_0.jpg  \n",
            "  inflating: /content/Dataset/IMD2020/1ca8nm/c9esffq_0_mask.png  \n",
            "  inflating: /content/Dataset/IMD2020/1ca8nm/c9euxib_0.jpg  \n",
            "  inflating: /content/Dataset/IMD2020/1ca8nm/c9euxib_0_mask.png  \n",
            "   creating: /content/Dataset/IMD2020/1cb58x/\n",
            "  inflating: /content/Dataset/IMD2020/1cb58x/1cb58x_orig.jpg  \n",
            "  inflating: /content/Dataset/IMD2020/1cb58x/c9etyea_0.jpg  \n",
            "  inflating: /content/Dataset/IMD2020/1cb58x/c9etyea_0_mask.png  \n",
            "  inflating: /content/Dataset/IMD2020/1cb58x/c9euw8c_0.jpg  \n",
            "  inflating: /content/Dataset/IMD2020/1cb58x/c9euw8c_0_mask.png  \n",
            "   creating: /content/Dataset/IMD2020/1cbqiu/\n",
            "  inflating: /content/Dataset/IMD2020/1cbqiu/1cbqiu_orig.jpg  \n",
            "  inflating: /content/Dataset/IMD2020/1cbqiu/c9f14qe_0.jpg  \n",
            "  inflating: /content/Dataset/IMD2020/1cbqiu/c9f14qe_0_mask.png  \n",
            "  inflating: /content/Dataset/IMD2020/1cbqiu/c9f3da2_0.jpg  \n",
            "  inflating: /content/Dataset/IMD2020/1cbqiu/c9f3da2_0_mask.png  \n",
            "   creating: /content/Dataset/IMD2020/1cbs6k/\n",
            "  inflating: /content/Dataset/IMD2020/1cbs6k/1cbs6k_orig.jpg  \n",
            "  inflating: /content/Dataset/IMD2020/1cbs6k/c9f0e67_0.jpg  \n",
            "  inflating: /content/Dataset/IMD2020/1cbs6k/c9f0e67_0_mask.png  \n",
            "  inflating: /content/Dataset/IMD2020/1cbs6k/c9f0jqs_0.jpg  \n",
            "  inflating: /content/Dataset/IMD2020/1cbs6k/c9f0jqs_0_mask.png  \n",
            "  inflating: /content/Dataset/IMD2020/1cbs6k/c9f0la4_0.jpg  \n",
            "  inflating: /content/Dataset/IMD2020/1cbs6k/c9f0la4_0_mask.png  \n",
            "  inflating: /content/Dataset/IMD2020/1cbs6k/c9f0r3h_0.png  \n",
            "  inflating: /content/Dataset/IMD2020/1cbs6k/c9f0r3h_0_mask.png  \n",
            "  inflating: /content/Dataset/IMD2020/1cbs6k/c9f0vmz_0.jpg  \n",
            "  inflating: /content/Dataset/IMD2020/1cbs6k/c9f0vmz_0_mask.png  \n",
            "  inflating: /content/Dataset/IMD2020/1cbs6k/c9f13p5_0.jpg  \n",
            "  inflating: /content/Dataset/IMD2020/1cbs6k/c9f13p5_0_mask.png  \n",
            "  inflating: /content/Dataset/IMD2020/1cbs6k/c9f1h60_0.jpg  \n",
            "  inflating: /content/Dataset/IMD2020/1cbs6k/c9f1h60_0_mask.png  \n",
            "  inflating: /content/Dataset/IMD2020/1cbs6k/c9f2szu_0.jpg  \n",
            "  inflating: /content/Dataset/IMD2020/1cbs6k/c9f2szu_0_mask.png  \n",
            "  inflating: /content/Dataset/IMD2020/1cbs6k/c9f38b8_0.jpg  \n",
            "  inflating: /content/Dataset/IMD2020/1cbs6k/c9f38b8_0_mask.png  \n",
            "  inflating: /content/Dataset/IMD2020/1cbs6k/c9f517t_0.jpg  \n",
            "  inflating: /content/Dataset/IMD2020/1cbs6k/c9f517t_0_mask.png  \n",
            "   creating: /content/Dataset/IMD2020/1cbtfp/\n",
            "  inflating: /content/Dataset/IMD2020/1cbtfp/1cbtfp_orig.jpg  \n",
            "  inflating: /content/Dataset/IMD2020/1cbtfp/c9ezpzg_0.jpg  \n",
            "  inflating: /content/Dataset/IMD2020/1cbtfp/c9ezpzg_0_mask.png  \n",
            "  inflating: /content/Dataset/IMD2020/1cbtfp/c9f090n_0.jpg  \n",
            "  inflating: /content/Dataset/IMD2020/1cbtfp/c9f090n_0_mask.png  \n",
            "  inflating: /content/Dataset/IMD2020/1cbtfp/c9f0n0z_0.jpg  \n",
            "  inflating: /content/Dataset/IMD2020/1cbtfp/c9f0n0z_0_mask.png  \n",
            "  inflating: /content/Dataset/IMD2020/1cbtfp/c9f2dub_0.jpg  \n",
            "  inflating: /content/Dataset/IMD2020/1cbtfp/c9f2dub_0_mask.png  \n",
            "  inflating: /content/Dataset/IMD2020/1cbtfp/c9f2qch_0.jpg  \n",
            "  inflating: /content/Dataset/IMD2020/1cbtfp/c9f2qch_0_mask.png  \n",
            "  inflating: /content/Dataset/IMD2020/1cbtfp/c9f2sfv_0.jpg  \n",
            "  inflating: /content/Dataset/IMD2020/1cbtfp/c9f2sfv_0_mask.png  \n",
            "  inflating: /content/Dataset/IMD2020/1cbtfp/c9f3n7z_0.jpg  \n",
            "  inflating: /content/Dataset/IMD2020/1cbtfp/c9f3n7z_0_mask.png  \n",
            "  inflating: /content/Dataset/IMD2020/1cbtfp/c9f465i_0.png  \n",
            "  inflating: /content/Dataset/IMD2020/1cbtfp/c9f465i_0_mask.png  \n",
            "  inflating: /content/Dataset/IMD2020/1cbtfp/c9f535u_0.jpg  \n",
            "  inflating: /content/Dataset/IMD2020/1cbtfp/c9f535u_0_mask.png  \n",
            "  inflating: /content/Dataset/IMD2020/1cbtfp/c9f627v_0.jpg  \n",
            "  inflating: /content/Dataset/IMD2020/1cbtfp/c9f627v_0_mask.png  \n",
            "  inflating: /content/Dataset/IMD2020/1cbtfp/c9f8vaj_0.jpg  \n",
            "  inflating: /content/Dataset/IMD2020/1cbtfp/c9f8vaj_0_mask.png  \n",
            "  inflating: /content/Dataset/IMD2020/1cbtfp/c9faxnv_0.jpg  \n",
            "  inflating: /content/Dataset/IMD2020/1cbtfp/c9faxnv_0_mask.png  \n",
            "  inflating: /content/Dataset/IMD2020/1cbtfp/c9ffae4_0.jpg  \n",
            "  inflating: /content/Dataset/IMD2020/1cbtfp/c9ffae4_0_mask.png  \n",
            "   creating: /content/Dataset/IMD2020/1cd24q/\n",
            "  inflating: /content/Dataset/IMD2020/1cd24q/1cd24q_orig.jpg  \n",
            "  inflating: /content/Dataset/IMD2020/1cd24q/c9fdzmf_0.jpg  \n",
            "  inflating: /content/Dataset/IMD2020/1cd24q/c9fdzmf_0_mask.png  \n",
            "  inflating: /content/Dataset/IMD2020/1cd24q/c9fep2z_0.jpg  \n",
            "  inflating: /content/Dataset/IMD2020/1cd24q/c9fep2z_0_mask.png  \n",
            "   creating: /content/Dataset/IMD2020/1cdqz3/\n",
            "  inflating: /content/Dataset/IMD2020/1cdqz3/1cdqz3_orig.jpg  \n",
            "  inflating: /content/Dataset/IMD2020/1cdqz3/c9fj64j_0.jpg  \n",
            "  inflating: /content/Dataset/IMD2020/1cdqz3/c9fj64j_0_mask.png  \n",
            "  inflating: /content/Dataset/IMD2020/1cdqz3/c9fjobh_0.jpg  \n",
            "  inflating: /content/Dataset/IMD2020/1cdqz3/c9fjobh_0_mask.png  \n",
            "  inflating: /content/Dataset/IMD2020/1cdqz3/c9fjq1l_0.jpg  \n",
            "  inflating: /content/Dataset/IMD2020/1cdqz3/c9fjq1l_0_mask.png  \n",
            "  inflating: /content/Dataset/IMD2020/1cdqz3/c9fl051_0.jpg  \n",
            "  inflating: /content/Dataset/IMD2020/1cdqz3/c9fl051_0_mask.png  \n",
            "  inflating: /content/Dataset/IMD2020/1cdqz3/c9fl0yy_0.jpg  \n",
            "  inflating: /content/Dataset/IMD2020/1cdqz3/c9fl0yy_0_mask.png  \n",
            "  inflating: /content/Dataset/IMD2020/1cdqz3/c9fl1lk_0.jpg  \n",
            "  inflating: /content/Dataset/IMD2020/1cdqz3/c9fl1lk_0_mask.png  \n",
            "  inflating: /content/Dataset/IMD2020/1cdqz3/c9fmaeu_0.jpg  \n",
            "  inflating: /content/Dataset/IMD2020/1cdqz3/c9fmaeu_0_mask.png  \n",
            "  inflating: /content/Dataset/IMD2020/1cdqz3/c9fmrsm_0.png  \n",
            "  inflating: /content/Dataset/IMD2020/1cdqz3/c9fmrsm_0_mask.png  \n",
            "  inflating: /content/Dataset/IMD2020/1cdqz3/c9fmv7c_0.jpg  \n",
            "  inflating: /content/Dataset/IMD2020/1cdqz3/c9fmv7c_0_mask.png  \n",
            "  inflating: /content/Dataset/IMD2020/1cdqz3/c9fntrg_0.jpg  \n",
            "  inflating: /content/Dataset/IMD2020/1cdqz3/c9fntrg_0_mask.png  \n",
            "  inflating: /content/Dataset/IMD2020/1cdqz3/c9fnyyh_0.jpg  \n",
            "  inflating: /content/Dataset/IMD2020/1cdqz3/c9fnyyh_0_mask.png  \n",
            "  inflating: /content/Dataset/IMD2020/1cdqz3/c9fqbs0_0.jpg  \n",
            "  inflating: /content/Dataset/IMD2020/1cdqz3/c9fqbs0_0_mask.png  \n",
            "  inflating: /content/Dataset/IMD2020/1cdqz3/c9fxdln_0.jpg  \n",
            "  inflating: /content/Dataset/IMD2020/1cdqz3/c9fxdln_0_mask.png  \n",
            "   creating: /content/Dataset/IMD2020/1cdvuj/\n",
            "  inflating: /content/Dataset/IMD2020/1cdvuj/1cdvuj_orig.jpg  \n",
            "  inflating: /content/Dataset/IMD2020/1cdvuj/c9fk35b_0.jpg  \n",
            "  inflating: /content/Dataset/IMD2020/1cdvuj/c9fk35b_0_mask.png  \n",
            "  inflating: /content/Dataset/IMD2020/1cdvuj/c9flfa0_0.jpg  \n",
            "  inflating: /content/Dataset/IMD2020/1cdvuj/c9flfa0_0_mask.png  \n",
            "  inflating: /content/Dataset/IMD2020/1cdvuj/c9fo87w_0.jpg  \n",
            "  inflating: /content/Dataset/IMD2020/1cdvuj/c9fo87w_0_mask.png  \n",
            "   creating: /content/Dataset/IMD2020/1cdwa7/\n",
            "  inflating: /content/Dataset/IMD2020/1cdwa7/1cdwa7_orig.jpg  \n",
            "  inflating: /content/Dataset/IMD2020/1cdwa7/c9fmhir_0.jpg  \n",
            "  inflating: /content/Dataset/IMD2020/1cdwa7/c9fmhir_0_mask.png  \n",
            "  inflating: /content/Dataset/IMD2020/1cdwa7/c9fn5j8_0.jpg  \n",
            "  inflating: /content/Dataset/IMD2020/1cdwa7/c9fn5j8_0_mask.png  \n",
            "  inflating: /content/Dataset/IMD2020/1cdwa7/c9fprtk_0.jpg  \n",
            "  inflating: /content/Dataset/IMD2020/1cdwa7/c9fprtk_0_mask.png  \n",
            "  inflating: /content/Dataset/IMD2020/1cdwa7/c9fqiqn_0.jpg  \n",
            "  inflating: /content/Dataset/IMD2020/1cdwa7/c9fqiqn_0_mask.png  \n",
            "   creating: /content/Dataset/IMD2020/1ceaqo/\n",
            "  inflating: /content/Dataset/IMD2020/1ceaqo/1ceaqo_orig.jpg  \n",
            "  inflating: /content/Dataset/IMD2020/1ceaqo/c9fqvx5_0.jpg  \n",
            "  inflating: /content/Dataset/IMD2020/1ceaqo/c9fqvx5_0_mask.png  \n",
            "  inflating: /content/Dataset/IMD2020/1ceaqo/c9ft4yi_0.jpg  \n",
            "  inflating: /content/Dataset/IMD2020/1ceaqo/c9ft4yi_0_mask.png  \n",
            "   creating: /content/Dataset/IMD2020/1cek5i/\n",
            "  inflating: /content/Dataset/IMD2020/1cek5i/1cek5i_orig.jpg  \n",
            "  inflating: /content/Dataset/IMD2020/1cek5i/c9fuxna_0.jpg  \n",
            "  inflating: /content/Dataset/IMD2020/1cek5i/c9fuxna_0_mask.png  \n",
            "  inflating: /content/Dataset/IMD2020/1cek5i/c9fva3b_0.jpg  \n",
            "  inflating: /content/Dataset/IMD2020/1cek5i/c9fva3b_0_mask.png  \n",
            "  inflating: /content/Dataset/IMD2020/1cek5i/c9fvs3e_0.jpg  \n",
            "  inflating: /content/Dataset/IMD2020/1cek5i/c9fvs3e_0_mask.png  \n",
            "  inflating: /content/Dataset/IMD2020/1cek5i/c9fw1nt_0.jpg  \n",
            "  inflating: /content/Dataset/IMD2020/1cek5i/c9fw1nt_0_mask.png  \n",
            "  inflating: /content/Dataset/IMD2020/1cek5i/c9fxe3f_0.jpg  \n",
            "  inflating: /content/Dataset/IMD2020/1cek5i/c9fxe3f_0_mask.png  \n",
            "  inflating: /content/Dataset/IMD2020/1cek5i/c9fz0du_0.jpg  \n",
            "  inflating: /content/Dataset/IMD2020/1cek5i/c9fz0du_0_mask.png  \n",
            "  inflating: /content/Dataset/IMD2020/1cek5i/c9g1oc0_0.jpg  \n",
            "  inflating: /content/Dataset/IMD2020/1cek5i/c9g1oc0_0_mask.png  \n",
            "  inflating: /content/Dataset/IMD2020/1cek5i/c9g1s99_0.jpg  \n",
            "  inflating: /content/Dataset/IMD2020/1cek5i/c9g1s99_0_mask.png  \n",
            "   creating: /content/Dataset/IMD2020/1cexsx/\n",
            "  inflating: /content/Dataset/IMD2020/1cexsx/1cexsx_orig.jpg  \n",
            "  inflating: /content/Dataset/IMD2020/1cexsx/c9fvtzk_0.jpg  \n",
            "  inflating: /content/Dataset/IMD2020/1cexsx/c9fvtzk_0_mask.png  \n",
            "  inflating: /content/Dataset/IMD2020/1cexsx/c9fxc80_0.jpg  \n",
            "  inflating: /content/Dataset/IMD2020/1cexsx/c9fxc80_0_mask.png  \n",
            "  inflating: /content/Dataset/IMD2020/1cexsx/c9fxudz_0.jpg  \n",
            "  inflating: /content/Dataset/IMD2020/1cexsx/c9fxudz_0_mask.png  \n",
            "  inflating: /content/Dataset/IMD2020/1cexsx/c9fyiz2_0.jpg  \n",
            "  inflating: /content/Dataset/IMD2020/1cexsx/c9fyiz2_0_mask.png  \n",
            "  inflating: /content/Dataset/IMD2020/1cexsx/c9g35w2_0.jpg  \n",
            "  inflating: /content/Dataset/IMD2020/1cexsx/c9g35w2_0_mask.png  \n",
            "  inflating: /content/Dataset/IMD2020/1cexsx/c9g5jrp_0.jpg  \n",
            "  inflating: /content/Dataset/IMD2020/1cexsx/c9g5jrp_0_mask.png  \n",
            "  inflating: /content/Dataset/IMD2020/1cexsx/c9g5nv8_0.jpg  \n",
            "  inflating: /content/Dataset/IMD2020/1cexsx/c9g5nv8_0_mask.png  \n",
            "  inflating: /content/Dataset/IMD2020/1cexsx/c9g5v1g_0.jpg  \n",
            "  inflating: /content/Dataset/IMD2020/1cexsx/c9g5v1g_0_mask.png  \n",
            "  inflating: /content/Dataset/IMD2020/1cexsx/c9g6vta_0.jpg  \n",
            "  inflating: /content/Dataset/IMD2020/1cexsx/c9g6vta_0_mask.png  \n",
            "  inflating: /content/Dataset/IMD2020/1cexsx/c9g7604_0.jpg  \n",
            "  inflating: /content/Dataset/IMD2020/1cexsx/c9g7604_0_mask.png  \n",
            "  inflating: /content/Dataset/IMD2020/1cexsx/c9g93re_0.jpg  \n",
            "  inflating: /content/Dataset/IMD2020/1cexsx/c9g93re_0_mask.png  \n",
            "   creating: /content/Dataset/IMD2020/1cezq4/\n",
            "  inflating: /content/Dataset/IMD2020/1cezq4/1cezq4_orig.jpg  \n",
            "  inflating: /content/Dataset/IMD2020/1cezq4/c9fwc5l_0.jpg  \n",
            "  inflating: /content/Dataset/IMD2020/1cezq4/c9fwc5l_0_mask.png  \n",
            "  inflating: /content/Dataset/IMD2020/1cezq4/c9fxwfb_0.png  \n",
            "  inflating: /content/Dataset/IMD2020/1cezq4/c9fxwfb_0_mask.png  \n",
            "   creating: /content/Dataset/IMD2020/1cfau1/\n",
            "  inflating: /content/Dataset/IMD2020/1cfau1/1cfau1_orig.jpg  \n",
            "  inflating: /content/Dataset/IMD2020/1cfau1/c9g2fgf_0.jpg  \n",
            "  inflating: /content/Dataset/IMD2020/1cfau1/c9g2fgf_0_mask.png  \n",
            "  inflating: /content/Dataset/IMD2020/1cfau1/c9g3a9c_0.jpg  \n",
            "  inflating: /content/Dataset/IMD2020/1cfau1/c9g3a9c_0_mask.png  \n",
            "   creating: /content/Dataset/IMD2020/1cfc30/\n",
            "  inflating: /content/Dataset/IMD2020/1cfc30/1cfc30_orig.jpg  \n",
            "  inflating: /content/Dataset/IMD2020/1cfc30/c9fzio7_0.jpg  \n",
            "  inflating: /content/Dataset/IMD2020/1cfc30/c9fzio7_0_mask.png  \n",
            "  inflating: /content/Dataset/IMD2020/1cfc30/c9g3oqm_0.jpg  \n",
            "  inflating: /content/Dataset/IMD2020/1cfc30/c9g3oqm_0_mask.png  \n",
            "  inflating: /content/Dataset/IMD2020/1cfc30/c9g4hr5_0.jpg  \n",
            "  inflating: /content/Dataset/IMD2020/1cfc30/c9g4hr5_0_mask.png  \n",
            "  inflating: /content/Dataset/IMD2020/1cfc30/c9g4vhi_0.png  \n",
            "  inflating: /content/Dataset/IMD2020/1cfc30/c9g4vhi_0_mask.png  \n",
            "   creating: /content/Dataset/IMD2020/1cfo9x/\n",
            "  inflating: /content/Dataset/IMD2020/1cfo9x/1cfo9x_orig.jpg  \n",
            "  inflating: /content/Dataset/IMD2020/1cfo9x/c9g3114_0.jpg  \n",
            "  inflating: /content/Dataset/IMD2020/1cfo9x/c9g3114_0_mask.png  \n",
            "  inflating: /content/Dataset/IMD2020/1cfo9x/c9g3rke_0.jpg  \n",
            "  inflating: /content/Dataset/IMD2020/1cfo9x/c9g3rke_0_mask.png  \n",
            "  inflating: /content/Dataset/IMD2020/1cfo9x/c9g4p2k_0.jpg  \n",
            "  inflating: /content/Dataset/IMD2020/1cfo9x/c9g4p2k_0_mask.png  \n",
            "  inflating: /content/Dataset/IMD2020/1cfo9x/c9g5zv6_0.jpg  \n",
            "  inflating: /content/Dataset/IMD2020/1cfo9x/c9g5zv6_0_mask.png  \n",
            "  inflating: /content/Dataset/IMD2020/1cfo9x/c9g80q7_0.jpg  \n",
            "  inflating: /content/Dataset/IMD2020/1cfo9x/c9g80q7_0_mask.png  \n",
            "  inflating: /content/Dataset/IMD2020/1cfo9x/c9g8384_0.jpg  \n",
            "  inflating: /content/Dataset/IMD2020/1cfo9x/c9g8384_0_mask.png  \n",
            "   creating: /content/Dataset/IMD2020/1cfo34/\n",
            "  inflating: /content/Dataset/IMD2020/1cfo34/1cfo34_orig.jpg  \n",
            "  inflating: /content/Dataset/IMD2020/1cfo34/c9g2y6q_0.png  \n",
            "  inflating: /content/Dataset/IMD2020/1cfo34/c9g2y6q_0_mask.png  \n",
            "  inflating: /content/Dataset/IMD2020/1cfo34/c9g6sg0_0.jpg  \n",
            "  inflating: /content/Dataset/IMD2020/1cfo34/c9g6sg0_0_mask.png  \n",
            "  inflating: /content/Dataset/IMD2020/1cfo34/c9g787e_0.jpg  \n",
            "  inflating: /content/Dataset/IMD2020/1cfo34/c9g787e_0_mask.png  \n",
            "  inflating: /content/Dataset/IMD2020/1cfo34/c9g9ld3_0.jpg  \n",
            "  inflating: /content/Dataset/IMD2020/1cfo34/c9g9ld3_0_mask.png  \n",
            "  inflating: /content/Dataset/IMD2020/1cfo34/c9gattf_0.jpg  \n",
            "  inflating: /content/Dataset/IMD2020/1cfo34/c9gattf_0_mask.png  \n",
            "  inflating: /content/Dataset/IMD2020/1cfo34/c9gd5k9_0.jpg  \n",
            "  inflating: /content/Dataset/IMD2020/1cfo34/c9gd5k9_0_mask.png  \n",
            "   creating: /content/Dataset/IMD2020/1cg3vm/\n",
            "  inflating: /content/Dataset/IMD2020/1cg3vm/1cg3vm_orig.jpg  \n",
            "  inflating: /content/Dataset/IMD2020/1cg3vm/c9g9t6z_0.jpg  \n",
            "  inflating: /content/Dataset/IMD2020/1cg3vm/c9g9t6z_0_mask.png  \n",
            "   creating: /content/Dataset/IMD2020/1cgew4/\n",
            "  inflating: /content/Dataset/IMD2020/1cgew4/1cgew4_orig.jpg  \n",
            "  inflating: /content/Dataset/IMD2020/1cgew4/c9g8k86_0.jpg  \n",
            "  inflating: /content/Dataset/IMD2020/1cgew4/c9g8k86_0_mask.png  \n",
            "  inflating: /content/Dataset/IMD2020/1cgew4/c9g8zth_0.jpg  \n",
            "  inflating: /content/Dataset/IMD2020/1cgew4/c9g8zth_0_mask.png  \n",
            "  inflating: /content/Dataset/IMD2020/1cgew4/c9g9mr9_0.jpg  \n",
            "  inflating: /content/Dataset/IMD2020/1cgew4/c9g9mr9_0_mask.png  \n",
            "  inflating: /content/Dataset/IMD2020/1cgew4/c9gbskr_0.jpg  \n",
            "  inflating: /content/Dataset/IMD2020/1cgew4/c9gbskr_0_mask.png  \n",
            "  inflating: /content/Dataset/IMD2020/1cgew4/c9gda7u_0.jpg  \n",
            "  inflating: /content/Dataset/IMD2020/1cgew4/c9gda7u_0_mask.png  \n",
            "   creating: /content/Dataset/IMD2020/1cglge/\n",
            "  inflating: /content/Dataset/IMD2020/1cglge/1cglge_orig.jpg  \n",
            "  inflating: /content/Dataset/IMD2020/1cglge/c9gck87_0.jpg  \n",
            "  inflating: /content/Dataset/IMD2020/1cglge/c9gck87_0_mask.png  \n",
            "  inflating: /content/Dataset/IMD2020/1cglge/c9gd2mj_0.jpg  \n",
            "  inflating: /content/Dataset/IMD2020/1cglge/c9gd2mj_0_mask.png  \n",
            "  inflating: /content/Dataset/IMD2020/1cglge/c9gd6qy_0.jpg  \n",
            "  inflating: /content/Dataset/IMD2020/1cglge/c9gd6qy_0_mask.png  \n",
            "  inflating: /content/Dataset/IMD2020/1cglge/c9gd8cq_0.jpg  \n",
            "  inflating: /content/Dataset/IMD2020/1cglge/c9gd8cq_0_mask.png  \n",
            "  inflating: /content/Dataset/IMD2020/1cglge/c9gdsx5_0.jpg  \n",
            "  inflating: /content/Dataset/IMD2020/1cglge/c9gdsx5_0_mask.png  \n",
            "  inflating: /content/Dataset/IMD2020/1cglge/c9gdyzr_0.jpg  \n",
            "  inflating: /content/Dataset/IMD2020/1cglge/c9gdyzr_0_mask.png  \n",
            "  inflating: /content/Dataset/IMD2020/1cglge/c9gfhtc_0.jpg  \n",
            "  inflating: /content/Dataset/IMD2020/1cglge/c9gfhtc_0_mask.png  \n",
            "  inflating: /content/Dataset/IMD2020/1cglge/c9gfnnb_0.jpg  \n",
            "  inflating: /content/Dataset/IMD2020/1cglge/c9gfnnb_0_mask.png  \n",
            "  inflating: /content/Dataset/IMD2020/1cglge/c9gg5nc_0.jpg  \n",
            "  inflating: /content/Dataset/IMD2020/1cglge/c9gg5nc_0_mask.png  \n",
            "  inflating: /content/Dataset/IMD2020/1cglge/c9ghgvz_0.jpg  \n",
            "  inflating: /content/Dataset/IMD2020/1cglge/c9ghgvz_0_mask.png  \n",
            "  inflating: /content/Dataset/IMD2020/1cglge/c9ghoad_0.jpg  \n",
            "  inflating: /content/Dataset/IMD2020/1cglge/c9ghoad_0_mask.png  \n",
            "  inflating: /content/Dataset/IMD2020/1cglge/c9gkk0s_0.jpg  \n",
            "  inflating: /content/Dataset/IMD2020/1cglge/c9gkk0s_0_mask.png  \n",
            "   creating: /content/Dataset/IMD2020/1cgonc/\n",
            "  inflating: /content/Dataset/IMD2020/1cgonc/1cgonc_orig.jpg  \n",
            "  inflating: /content/Dataset/IMD2020/1cgonc/c9gdmsw_0.jpg  \n",
            "  inflating: /content/Dataset/IMD2020/1cgonc/c9gdmsw_0_mask.png  \n",
            "   creating: /content/Dataset/IMD2020/1cgvx4/\n",
            "  inflating: /content/Dataset/IMD2020/1cgvx4/1cgvx4_orig.jpg  \n",
            "  inflating: /content/Dataset/IMD2020/1cgvx4/c9gf8ln_0.jpg  \n",
            "  inflating: /content/Dataset/IMD2020/1cgvx4/c9gf8ln_0_mask.png  \n",
            "  inflating: /content/Dataset/IMD2020/1cgvx4/c9gjh0g_0.jpg  \n",
            "  inflating: /content/Dataset/IMD2020/1cgvx4/c9gjh0g_0_mask.png  \n",
            "   creating: /content/Dataset/IMD2020/1civbz/\n",
            "  inflating: /content/Dataset/IMD2020/1civbz/1civbz_orig.jpg  \n",
            "  inflating: /content/Dataset/IMD2020/1civbz/c9gx2vm_0.png  \n",
            "  inflating: /content/Dataset/IMD2020/1civbz/c9gx2vm_0_mask.png  \n",
            "   creating: /content/Dataset/IMD2020/1cixd9/\n",
            "  inflating: /content/Dataset/IMD2020/1cixd9/1cixd9_orig.jpg  \n",
            "  inflating: /content/Dataset/IMD2020/1cixd9/c9gxwzy_0.jpg  \n",
            "  inflating: /content/Dataset/IMD2020/1cixd9/c9gxwzy_0_mask.png  \n",
            "  inflating: /content/Dataset/IMD2020/1cixd9/c9gyshx_0.jpg  \n",
            "  inflating: /content/Dataset/IMD2020/1cixd9/c9gyshx_0_mask.png  \n",
            "  inflating: /content/Dataset/IMD2020/1cixd9/c9gz0w4_0.jpg  \n",
            "  inflating: /content/Dataset/IMD2020/1cixd9/c9gz0w4_0_mask.png  \n",
            "  inflating: /content/Dataset/IMD2020/1cixd9/c9h2sab_0.jpg  \n",
            "  inflating: /content/Dataset/IMD2020/1cixd9/c9h2sab_0_mask.png  \n",
            "  inflating: /content/Dataset/IMD2020/1cixd9/c9h2seb_0.jpg  \n",
            "  inflating: /content/Dataset/IMD2020/1cixd9/c9h2seb_0_mask.png  \n",
            "   creating: /content/Dataset/IMD2020/1cj2wk/\n",
            "  inflating: /content/Dataset/IMD2020/1cj2wk/1cj2wk_orig.jpg  \n",
            "  inflating: /content/Dataset/IMD2020/1cj2wk/c9gzach_0.jpg  \n",
            "  inflating: /content/Dataset/IMD2020/1cj2wk/c9gzach_0_mask.png  \n",
            "  inflating: /content/Dataset/IMD2020/1cj2wk/c9h02el_0.png  \n",
            "  inflating: /content/Dataset/IMD2020/1cj2wk/c9h02el_0_mask.png  \n",
            "  inflating: /content/Dataset/IMD2020/1cj2wk/c9h0z4q_0.jpg  \n",
            "  inflating: /content/Dataset/IMD2020/1cj2wk/c9h0z4q_0_mask.png  \n",
            "  inflating: /content/Dataset/IMD2020/1cj2wk/c9h11gt_0.jpg  \n",
            "  inflating: /content/Dataset/IMD2020/1cj2wk/c9h11gt_0_mask.png  \n",
            "  inflating: /content/Dataset/IMD2020/1cj2wk/c9h1614_0.jpg  \n",
            "  inflating: /content/Dataset/IMD2020/1cj2wk/c9h1614_0_mask.png  \n",
            "  inflating: /content/Dataset/IMD2020/1cj2wk/c9h2k3n_0.jpg  \n",
            "  inflating: /content/Dataset/IMD2020/1cj2wk/c9h2k3n_0_mask.png  \n",
            "  inflating: /content/Dataset/IMD2020/1cj2wk/c9h2tvs_0.jpg  \n",
            "  inflating: /content/Dataset/IMD2020/1cj2wk/c9h2tvs_0_mask.png  \n",
            "  inflating: /content/Dataset/IMD2020/1cj2wk/c9h3qse_0.jpg  \n",
            "  inflating: /content/Dataset/IMD2020/1cj2wk/c9h3qse_0_mask.png  \n",
            "  inflating: /content/Dataset/IMD2020/1cj2wk/c9h41sp_0.jpg  \n",
            "  inflating: /content/Dataset/IMD2020/1cj2wk/c9h41sp_0_mask.png  \n",
            "  inflating: /content/Dataset/IMD2020/1cj2wk/c9h4ej3_0.jpg  \n",
            "  inflating: /content/Dataset/IMD2020/1cj2wk/c9h4ej3_0_mask.png  \n",
            "  inflating: /content/Dataset/IMD2020/1cj2wk/c9h4l2n_0.jpg  \n",
            "  inflating: /content/Dataset/IMD2020/1cj2wk/c9h4l2n_0_mask.png  \n",
            "  inflating: /content/Dataset/IMD2020/1cj2wk/c9h5fdh_0.jpg  \n",
            "  inflating: /content/Dataset/IMD2020/1cj2wk/c9h5fdh_0_mask.png  \n",
            "  inflating: /content/Dataset/IMD2020/1cj2wk/c9h5ga4_0.jpg  \n",
            "  inflating: /content/Dataset/IMD2020/1cj2wk/c9h5ga4_0_mask.png  \n",
            "  inflating: /content/Dataset/IMD2020/1cj2wk/c9h6iyv_0.jpg  \n",
            "  inflating: /content/Dataset/IMD2020/1cj2wk/c9h6iyv_0_mask.png  \n",
            "  inflating: /content/Dataset/IMD2020/1cj2wk/c9h6m92_0.jpg  \n",
            "  inflating: /content/Dataset/IMD2020/1cj2wk/c9h6m92_0_mask.png  \n",
            "  inflating: /content/Dataset/IMD2020/1cj2wk/c9h7w73_0.jpg  \n",
            "  inflating: /content/Dataset/IMD2020/1cj2wk/c9h7w73_0_mask.png  \n",
            "  inflating: /content/Dataset/IMD2020/1cj2wk/c9h97f9_0.jpg  \n",
            "  inflating: /content/Dataset/IMD2020/1cj2wk/c9h97f9_0_mask.png  \n",
            "  inflating: /content/Dataset/IMD2020/1cj2wk/c9hal43_0.jpg  \n",
            "  inflating: /content/Dataset/IMD2020/1cj2wk/c9hal43_0_mask.png  \n",
            "  inflating: /content/Dataset/IMD2020/1cj2wk/c9harx6_0.jpg  \n",
            "  inflating: /content/Dataset/IMD2020/1cj2wk/c9harx6_0_mask.png  \n",
            "  inflating: /content/Dataset/IMD2020/1cj2wk/c9hb4rz_0.jpg  \n",
            "  inflating: /content/Dataset/IMD2020/1cj2wk/c9hb4rz_0_mask.png  \n",
            "  inflating: /content/Dataset/IMD2020/1cj2wk/c9hg0i2_0.jpg  \n",
            "  inflating: /content/Dataset/IMD2020/1cj2wk/c9hg0i2_0_mask.png  \n",
            "   creating: /content/Dataset/IMD2020/1cj6ta/\n",
            "  inflating: /content/Dataset/IMD2020/1cj6ta/1cj6ta_orig.jpg  \n",
            "  inflating: /content/Dataset/IMD2020/1cj6ta/c9h0993_0.jpg  \n",
            "  inflating: /content/Dataset/IMD2020/1cj6ta/c9h0993_0_mask.png  \n",
            "  inflating: /content/Dataset/IMD2020/1cj6ta/c9h0gbn_0.png  \n",
            "  inflating: /content/Dataset/IMD2020/1cj6ta/c9h0gbn_0_mask.png  \n",
            "  inflating: /content/Dataset/IMD2020/1cj6ta/c9h1dkc_0.jpg  \n",
            "  inflating: /content/Dataset/IMD2020/1cj6ta/c9h1dkc_0_mask.png  \n",
            "  inflating: /content/Dataset/IMD2020/1cj6ta/c9h2clv_0.jpg  \n",
            "  inflating: /content/Dataset/IMD2020/1cj6ta/c9h2clv_0_mask.png  \n",
            "  inflating: /content/Dataset/IMD2020/1cj6ta/c9h38o1_0.jpg  \n",
            "  inflating: /content/Dataset/IMD2020/1cj6ta/c9h38o1_0_mask.png  \n",
            "  inflating: /content/Dataset/IMD2020/1cj6ta/c9h3b9x_0.jpg  \n",
            "  inflating: /content/Dataset/IMD2020/1cj6ta/c9h3b9x_0_mask.png  \n",
            "  inflating: /content/Dataset/IMD2020/1cj6ta/c9h6icz_0.jpg  \n",
            "  inflating: /content/Dataset/IMD2020/1cj6ta/c9h6icz_0_mask.png  \n",
            "   creating: /content/Dataset/IMD2020/1cjl4e/\n",
            "  inflating: /content/Dataset/IMD2020/1cjl4e/1cjl4e_orig.jpg  \n",
            "  inflating: /content/Dataset/IMD2020/1cjl4e/c9h53ur_0.jpg  \n",
            "  inflating: /content/Dataset/IMD2020/1cjl4e/c9h53ur_0_mask.png  \n",
            "   creating: /content/Dataset/IMD2020/1cjuyc/\n",
            "  inflating: /content/Dataset/IMD2020/1cjuyc/1cjuyc_orig.jpg  \n",
            "  inflating: /content/Dataset/IMD2020/1cjuyc/c9hanuj_0.jpg  \n",
            "  inflating: /content/Dataset/IMD2020/1cjuyc/c9hanuj_0_mask.png  \n",
            "  inflating: /content/Dataset/IMD2020/1cjuyc/c9hd3rx_0.jpg  \n",
            "  inflating: /content/Dataset/IMD2020/1cjuyc/c9hd3rx_0_mask.png  \n",
            "   creating: /content/Dataset/IMD2020/1cjy5s/\n",
            "  inflating: /content/Dataset/IMD2020/1cjy5s/1cjy5s_orig.jpg  \n",
            "  inflating: /content/Dataset/IMD2020/1cjy5s/c9hgkbl_0.jpg  \n",
            "  inflating: /content/Dataset/IMD2020/1cjy5s/c9hgkbl_0_mask.png  \n",
            "   creating: /content/Dataset/IMD2020/1ck17j/\n",
            "  inflating: /content/Dataset/IMD2020/1ck17j/1ck17j_orig.jpg  \n",
            "  inflating: /content/Dataset/IMD2020/1ck17j/c9h9cv3_0.jpg  \n",
            "  inflating: /content/Dataset/IMD2020/1ck17j/c9h9cv3_0_mask.png  \n",
            "   creating: /content/Dataset/IMD2020/1ckdxo/\n",
            "  inflating: /content/Dataset/IMD2020/1ckdxo/1ckdxo_orig.jpg  \n",
            "  inflating: /content/Dataset/IMD2020/1ckdxo/c9hcema_0.jpg  \n",
            "  inflating: /content/Dataset/IMD2020/1ckdxo/c9hcema_0_mask.png  \n",
            "  inflating: /content/Dataset/IMD2020/1ckdxo/c9hdjxv_0.png  \n",
            "  inflating: /content/Dataset/IMD2020/1ckdxo/c9hdjxv_0_mask.png  \n",
            "  inflating: /content/Dataset/IMD2020/1ckdxo/c9hgxau_0.jpg  \n",
            "  inflating: /content/Dataset/IMD2020/1ckdxo/c9hgxau_0_mask.png  \n",
            "   creating: /content/Dataset/IMD2020/1cko19/\n",
            "  inflating: /content/Dataset/IMD2020/1cko19/1cko19_orig.jpg  \n",
            "  inflating: /content/Dataset/IMD2020/1cko19/c9hr4mf_0.png  \n",
            "  inflating: /content/Dataset/IMD2020/1cko19/c9hr4mf_0_mask.png  \n",
            "  inflating: /content/Dataset/IMD2020/1cko19/c9hui3v_0.jpg  \n",
            "  inflating: /content/Dataset/IMD2020/1cko19/c9hui3v_0_mask.png  \n",
            "   creating: /content/Dataset/IMD2020/1ckwje/\n",
            "  inflating: /content/Dataset/IMD2020/1ckwje/1ckwje_orig.jpg  \n",
            "  inflating: /content/Dataset/IMD2020/1ckwje/c9hj5lr_0.jpg  \n",
            "  inflating: /content/Dataset/IMD2020/1ckwje/c9hj5lr_0_mask.png  \n",
            "  inflating: /content/Dataset/IMD2020/1ckwje/c9hjnfo_0.jpg  \n",
            "  inflating: /content/Dataset/IMD2020/1ckwje/c9hjnfo_0_mask.png  \n",
            "  inflating: /content/Dataset/IMD2020/1ckwje/c9hk5hp_0.jpg  \n",
            "  inflating: /content/Dataset/IMD2020/1ckwje/c9hk5hp_0_mask.png  \n",
            "  inflating: /content/Dataset/IMD2020/1ckwje/c9hlbrm_0.jpg  \n",
            "  inflating: /content/Dataset/IMD2020/1ckwje/c9hlbrm_0_mask.png  \n",
            "  inflating: /content/Dataset/IMD2020/1ckwje/c9hlhc2_0.jpg  \n",
            "  inflating: /content/Dataset/IMD2020/1ckwje/c9hlhc2_0_mask.png  \n",
            "  inflating: /content/Dataset/IMD2020/1ckwje/c9hmf8f_0.jpg  \n",
            "  inflating: /content/Dataset/IMD2020/1ckwje/c9hmf8f_0_mask.png  \n",
            "  inflating: /content/Dataset/IMD2020/1ckwje/c9hmzo9_0.jpg  \n",
            "  inflating: /content/Dataset/IMD2020/1ckwje/c9hmzo9_0_mask.png  \n",
            "  inflating: /content/Dataset/IMD2020/1ckwje/c9hnxex_0.jpg  \n",
            "  inflating: /content/Dataset/IMD2020/1ckwje/c9hnxex_0_mask.png  \n",
            "  inflating: /content/Dataset/IMD2020/1ckwje/c9hoexk_0.jpg  \n",
            "  inflating: /content/Dataset/IMD2020/1ckwje/c9hoexk_0_mask.png  \n",
            "  inflating: /content/Dataset/IMD2020/1ckwje/c9honhf_0.jpg  \n",
            "  inflating: /content/Dataset/IMD2020/1ckwje/c9honhf_0_mask.png  \n",
            "  inflating: /content/Dataset/IMD2020/1ckwje/c9houy2_0.jpg  \n",
            "  inflating: /content/Dataset/IMD2020/1ckwje/c9houy2_0_mask.png  \n",
            "  inflating: /content/Dataset/IMD2020/1ckwje/c9hs9do_0.jpg  \n",
            "  inflating: /content/Dataset/IMD2020/1ckwje/c9hs9do_0_mask.png  \n",
            "  inflating: /content/Dataset/IMD2020/1ckwje/c9hu5ce_0.jpg  \n",
            "  inflating: /content/Dataset/IMD2020/1ckwje/c9hu5ce_0_mask.png  \n",
            "   creating: /content/Dataset/IMD2020/1ckxsa/\n",
            "  inflating: /content/Dataset/IMD2020/1ckxsa/1ckxsa_orig.jpg  \n",
            "  inflating: /content/Dataset/IMD2020/1ckxsa/c9hi7nj_0.jpg  \n",
            "  inflating: /content/Dataset/IMD2020/1ckxsa/c9hi7nj_0_mask.png  \n",
            "  inflating: /content/Dataset/IMD2020/1ckxsa/c9hk6li_0.jpg  \n",
            "  inflating: /content/Dataset/IMD2020/1ckxsa/c9hk6li_0_mask.png  \n",
            "  inflating: /content/Dataset/IMD2020/1ckxsa/c9hks52_0.jpg  \n",
            "  inflating: /content/Dataset/IMD2020/1ckxsa/c9hks52_0_mask.png  \n",
            "   creating: /content/Dataset/IMD2020/1clwgb/\n",
            "  inflating: /content/Dataset/IMD2020/1clwgb/1clwgb_orig.jpg  \n",
            "  inflating: /content/Dataset/IMD2020/1clwgb/c9hto4a_0.jpg  \n",
            "  inflating: /content/Dataset/IMD2020/1clwgb/c9hto4a_0_mask.png  \n",
            "  inflating: /content/Dataset/IMD2020/1clwgb/c9hud83_0.jpg  \n",
            "  inflating: /content/Dataset/IMD2020/1clwgb/c9hud83_0_mask.png  \n",
            "  inflating: /content/Dataset/IMD2020/1clwgb/c9hv3aa_0.jpg  \n",
            "  inflating: /content/Dataset/IMD2020/1clwgb/c9hv3aa_0_mask.png  \n",
            "  inflating: /content/Dataset/IMD2020/1clwgb/c9hx5lf_0.jpg  \n",
            "  inflating: /content/Dataset/IMD2020/1clwgb/c9hx5lf_0_mask.png  \n",
            "  inflating: /content/Dataset/IMD2020/1clwgb/c9hxjwt_0.jpg  \n",
            "  inflating: /content/Dataset/IMD2020/1clwgb/c9hxjwt_0_mask.png  \n",
            "  inflating: /content/Dataset/IMD2020/1clwgb/c9hyb2c_0.jpg  \n",
            "  inflating: /content/Dataset/IMD2020/1clwgb/c9hyb2c_0_mask.png  \n",
            "  inflating: /content/Dataset/IMD2020/1clwgb/c9hyeec_0.jpg  \n",
            "  inflating: /content/Dataset/IMD2020/1clwgb/c9hyeec_0_mask.png  \n",
            "  inflating: /content/Dataset/IMD2020/1clwgb/c9i057u_0.jpg  \n",
            "  inflating: /content/Dataset/IMD2020/1clwgb/c9i057u_0_mask.png  \n",
            "  inflating: /content/Dataset/IMD2020/1clwgb/c9i09lt_0.jpg  \n",
            "  inflating: /content/Dataset/IMD2020/1clwgb/c9i09lt_0_mask.png  \n",
            "  inflating: /content/Dataset/IMD2020/1clwgb/c9i2yhe_0.jpg  \n",
            "  inflating: /content/Dataset/IMD2020/1clwgb/c9i2yhe_0_mask.png  \n",
            "  inflating: /content/Dataset/IMD2020/1clwgb/c9i6dg5_0.jpg  \n",
            "  inflating: /content/Dataset/IMD2020/1clwgb/c9i6dg5_0_mask.png  \n",
            "   creating: /content/Dataset/IMD2020/1cm382/\n",
            "  inflating: /content/Dataset/IMD2020/1cm382/1cm382_orig.jpg  \n",
            "  inflating: /content/Dataset/IMD2020/1cm382/c9hsiyf_0.jpg  \n",
            "  inflating: /content/Dataset/IMD2020/1cm382/c9hsiyf_0_mask.png  \n",
            "   creating: /content/Dataset/IMD2020/1cme9d/\n",
            "  inflating: /content/Dataset/IMD2020/1cme9d/1cme9d_orig.jpg  \n",
            "  inflating: /content/Dataset/IMD2020/1cme9d/c9hxepw_0.jpg  \n",
            "  inflating: /content/Dataset/IMD2020/1cme9d/c9hxepw_0_mask.png  \n",
            "   creating: /content/Dataset/IMD2020/1cnlum/\n",
            "  inflating: /content/Dataset/IMD2020/1cnlum/1cnlum_orig.jpg  \n",
            "  inflating: /content/Dataset/IMD2020/1cnlum/c9i892b_0.jpg  \n",
            "  inflating: /content/Dataset/IMD2020/1cnlum/c9i892b_0_mask.png  \n",
            "  inflating: /content/Dataset/IMD2020/1cnlum/c9i8kwz_0.jpg  \n",
            "  inflating: /content/Dataset/IMD2020/1cnlum/c9i8kwz_0_mask.png  \n",
            "  inflating: /content/Dataset/IMD2020/1cnlum/c9ic90m_0.jpg  \n",
            "  inflating: /content/Dataset/IMD2020/1cnlum/c9ic90m_0_mask.png  \n",
            "  inflating: /content/Dataset/IMD2020/1cnlum/c9iccvg_0.jpg  \n",
            "  inflating: /content/Dataset/IMD2020/1cnlum/c9iccvg_0_mask.png  \n",
            "  inflating: /content/Dataset/IMD2020/1cnlum/c9iff6x_0.jpg  \n",
            "  inflating: /content/Dataset/IMD2020/1cnlum/c9iff6x_0_mask.png  \n",
            "  inflating: /content/Dataset/IMD2020/1cnlum/c9ihhh7_0.jpg  \n",
            "  inflating: /content/Dataset/IMD2020/1cnlum/c9ihhh7_0_mask.png  \n",
            "  inflating: /content/Dataset/IMD2020/1cnlum/c9ii3or_0.jpg  \n",
            "  inflating: /content/Dataset/IMD2020/1cnlum/c9ii3or_0_mask.png  \n",
            "   creating: /content/Dataset/IMD2020/1cny76/\n",
            "  inflating: /content/Dataset/IMD2020/1cny76/1cny76_orig.jpg  \n",
            "  inflating: /content/Dataset/IMD2020/1cny76/c9ic6md_0.jpg  \n",
            "  inflating: /content/Dataset/IMD2020/1cny76/c9ic6md_0_mask.png  \n",
            "  inflating: /content/Dataset/IMD2020/1cny76/c9idrs0_0.jpg  \n",
            "  inflating: /content/Dataset/IMD2020/1cny76/c9idrs0_0_mask.png  \n",
            "  inflating: /content/Dataset/IMD2020/1cny76/c9ieqkj_0.jpg  \n",
            "  inflating: /content/Dataset/IMD2020/1cny76/c9ieqkj_0_mask.png  \n",
            "  inflating: /content/Dataset/IMD2020/1cny76/c9if3fi_0.jpg  \n",
            "  inflating: /content/Dataset/IMD2020/1cny76/c9if3fi_0_mask.png  \n",
            "   creating: /content/Dataset/IMD2020/1codvj/\n",
            "  inflating: /content/Dataset/IMD2020/1codvj/1codvj_orig.jpg  \n",
            "  inflating: /content/Dataset/IMD2020/1codvj/c9ihn1n_0.png  \n",
            "  inflating: /content/Dataset/IMD2020/1codvj/c9ihn1n_0_mask.png  \n",
            "  inflating: /content/Dataset/IMD2020/1codvj/c9ihomk_0.jpg  \n",
            "  inflating: /content/Dataset/IMD2020/1codvj/c9ihomk_0_mask.png  \n",
            "  inflating: /content/Dataset/IMD2020/1codvj/c9ihrfw_0.jpg  \n",
            "  inflating: /content/Dataset/IMD2020/1codvj/c9ihrfw_0_mask.png  \n",
            "  inflating: /content/Dataset/IMD2020/1codvj/c9ihvi6_0.jpg  \n",
            "  inflating: /content/Dataset/IMD2020/1codvj/c9ihvi6_0_mask.png  \n",
            "  inflating: /content/Dataset/IMD2020/1codvj/c9ii586_0.jpg  \n",
            "  inflating: /content/Dataset/IMD2020/1codvj/c9ii586_0_mask.png  \n",
            "  inflating: /content/Dataset/IMD2020/1codvj/c9ii7ff_0.jpg  \n",
            "  inflating: /content/Dataset/IMD2020/1codvj/c9ii7ff_0_mask.png  \n",
            "  inflating: /content/Dataset/IMD2020/1codvj/c9ii97p_0.png  \n",
            "  inflating: /content/Dataset/IMD2020/1codvj/c9ii97p_0_mask.png  \n",
            "  inflating: /content/Dataset/IMD2020/1codvj/c9iibxz_0.jpg  \n",
            "  inflating: /content/Dataset/IMD2020/1codvj/c9iibxz_0_mask.png  \n",
            "  inflating: /content/Dataset/IMD2020/1codvj/c9iibzf_0.jpg  \n",
            "  inflating: /content/Dataset/IMD2020/1codvj/c9iibzf_0_mask.png  \n",
            "  inflating: /content/Dataset/IMD2020/1codvj/c9iidxf_0.jpg  \n",
            "  inflating: /content/Dataset/IMD2020/1codvj/c9iidxf_0_mask.png  \n",
            "  inflating: /content/Dataset/IMD2020/1codvj/c9iihrs_0.jpg  \n",
            "  inflating: /content/Dataset/IMD2020/1codvj/c9iihrs_0_mask.png  \n",
            "  inflating: /content/Dataset/IMD2020/1codvj/c9iijp8_0.jpg  \n",
            "  inflating: /content/Dataset/IMD2020/1codvj/c9iijp8_0_mask.png  \n",
            "  inflating: /content/Dataset/IMD2020/1codvj/c9iiklk_0.jpg  \n",
            "  inflating: /content/Dataset/IMD2020/1codvj/c9iiklk_0_mask.png  \n",
            "  inflating: /content/Dataset/IMD2020/1codvj/c9iin2c_0.jpg  \n",
            "  inflating: /content/Dataset/IMD2020/1codvj/c9iin2c_0_mask.png  \n",
            "  inflating: /content/Dataset/IMD2020/1codvj/c9iin8c_0.jpg  \n",
            "  inflating: /content/Dataset/IMD2020/1codvj/c9iin8c_0_mask.png  \n",
            "  inflating: /content/Dataset/IMD2020/1codvj/c9iis5u_0.jpg  \n",
            "  inflating: /content/Dataset/IMD2020/1codvj/c9iis5u_0_mask.png  \n",
            "  inflating: /content/Dataset/IMD2020/1codvj/c9ij6ir_0.jpg  \n",
            "  inflating: /content/Dataset/IMD2020/1codvj/c9ij6ir_0_mask.png  \n",
            "  inflating: /content/Dataset/IMD2020/1codvj/c9ijdae_0.jpg  \n",
            "  inflating: /content/Dataset/IMD2020/1codvj/c9ijdae_0_mask.png  \n",
            "  inflating: /content/Dataset/IMD2020/1codvj/c9ijf08_0.jpg  \n",
            "  inflating: /content/Dataset/IMD2020/1codvj/c9ijf08_0_mask.png  \n",
            "  inflating: /content/Dataset/IMD2020/1codvj/c9ik1fl_0.jpg  \n",
            "  inflating: /content/Dataset/IMD2020/1codvj/c9ik1fl_0_mask.png  \n",
            "  inflating: /content/Dataset/IMD2020/1codvj/c9ikbq4_0.jpg  \n",
            "  inflating: /content/Dataset/IMD2020/1codvj/c9ikbq4_0_mask.png  \n",
            "  inflating: /content/Dataset/IMD2020/1codvj/c9il4y8_0.jpg  \n",
            "  inflating: /content/Dataset/IMD2020/1codvj/c9il4y8_0_mask.png  \n",
            "  inflating: /content/Dataset/IMD2020/1codvj/c9ily5x_0.jpg  \n",
            "  inflating: /content/Dataset/IMD2020/1codvj/c9ily5x_0_mask.png  \n",
            "  inflating: /content/Dataset/IMD2020/1codvj/c9imetl_0.jpg  \n",
            "  inflating: /content/Dataset/IMD2020/1codvj/c9imetl_0_mask.png  \n",
            "  inflating: /content/Dataset/IMD2020/1codvj/c9imiv9_0.jpg  \n",
            "  inflating: /content/Dataset/IMD2020/1codvj/c9imiv9_0_mask.png  \n",
            "  inflating: /content/Dataset/IMD2020/1codvj/c9iorrc_0.jpg  \n",
            "  inflating: /content/Dataset/IMD2020/1codvj/c9iorrc_0_mask.png  \n",
            "   creating: /content/Dataset/IMD2020/1coha8/\n",
            "  inflating: /content/Dataset/IMD2020/1coha8/1coha8_orig.jpg  \n",
            "  inflating: /content/Dataset/IMD2020/1coha8/c9imbmj_0.jpg  \n",
            "  inflating: /content/Dataset/IMD2020/1coha8/c9imbmj_0_mask.png  \n",
            "  inflating: /content/Dataset/IMD2020/1coha8/c9io67n_0.jpg  \n",
            "  inflating: /content/Dataset/IMD2020/1coha8/c9io67n_0_mask.png  \n",
            "  inflating: /content/Dataset/IMD2020/1coha8/c9iqfsg_0.jpg  \n",
            "  inflating: /content/Dataset/IMD2020/1coha8/c9iqfsg_0_mask.png  \n",
            "   creating: /content/Dataset/IMD2020/1cp3qd/\n",
            "  inflating: /content/Dataset/IMD2020/1cp3qd/1cp3qd_orig.jpg  \n",
            "  inflating: /content/Dataset/IMD2020/1cp3qd/c9iovzx_0.jpg  \n",
            "  inflating: /content/Dataset/IMD2020/1cp3qd/c9iovzx_0_mask.png  \n",
            "  inflating: /content/Dataset/IMD2020/1cp3qd/c9is39d_0.jpg  \n",
            "  inflating: /content/Dataset/IMD2020/1cp3qd/c9is39d_0_mask.png  \n",
            "   creating: /content/Dataset/IMD2020/1cp4wl/\n",
            "  inflating: /content/Dataset/IMD2020/1cp4wl/1cp4wl_orig.jpg  \n",
            "  inflating: /content/Dataset/IMD2020/1cp4wl/c9islb2_0.jpg  \n",
            "  inflating: /content/Dataset/IMD2020/1cp4wl/c9islb2_0_mask.png  \n",
            "   creating: /content/Dataset/IMD2020/1cpsql/\n",
            "  inflating: /content/Dataset/IMD2020/1cpsql/1cpsql_orig.jpg  \n",
            "  inflating: /content/Dataset/IMD2020/1cpsql/c9iup8s_0.jpg  \n",
            "  inflating: /content/Dataset/IMD2020/1cpsql/c9iup8s_0_mask.png  \n",
            "  inflating: /content/Dataset/IMD2020/1cpsql/c9iuyp5_0.jpg  \n",
            "  inflating: /content/Dataset/IMD2020/1cpsql/c9iuyp5_0_mask.png  \n",
            "  inflating: /content/Dataset/IMD2020/1cpsql/c9iwpff_0.jpg  \n",
            "  inflating: /content/Dataset/IMD2020/1cpsql/c9iwpff_0_mask.png  \n",
            "  inflating: /content/Dataset/IMD2020/1cpsql/c9ixvi8_0.jpg  \n",
            "  inflating: /content/Dataset/IMD2020/1cpsql/c9ixvi8_0_mask.png  \n",
            "  inflating: /content/Dataset/IMD2020/1cpsql/c9ixvz6_0.jpg  \n",
            "  inflating: /content/Dataset/IMD2020/1cpsql/c9ixvz6_0_mask.png  \n",
            "  inflating: /content/Dataset/IMD2020/1cpsql/c9ixwnp_0.jpg  \n",
            "  inflating: /content/Dataset/IMD2020/1cpsql/c9ixwnp_0_mask.png  \n",
            "  inflating: /content/Dataset/IMD2020/1cpsql/c9iz4b4_0.jpg  \n",
            "  inflating: /content/Dataset/IMD2020/1cpsql/c9iz4b4_0_mask.png  \n",
            "  inflating: /content/Dataset/IMD2020/1cpsql/c9j1u8d_0.jpg  \n",
            "  inflating: /content/Dataset/IMD2020/1cpsql/c9j1u8d_0_mask.png  \n",
            "  inflating: /content/Dataset/IMD2020/1cpsql/c9j223g_0.jpg  \n",
            "  inflating: /content/Dataset/IMD2020/1cpsql/c9j223g_0_mask.png  \n",
            "  inflating: /content/Dataset/IMD2020/1cpsql/c9j7uh8_0.jpg  \n",
            "  inflating: /content/Dataset/IMD2020/1cpsql/c9j7uh8_0_mask.png  \n",
            "  inflating: /content/Dataset/IMD2020/1cpsql/c9j8c6q_0.png  \n",
            "  inflating: /content/Dataset/IMD2020/1cpsql/c9j8c6q_0_mask.png  \n",
            "   creating: /content/Dataset/IMD2020/1cq2u5/\n",
            "  inflating: /content/Dataset/IMD2020/1cq2u5/1cq2u5_orig.jpg  \n",
            "  inflating: /content/Dataset/IMD2020/1cq2u5/c9iy8fs_0.jpg  \n",
            "  inflating: /content/Dataset/IMD2020/1cq2u5/c9iy8fs_0_mask.png  \n",
            "   creating: /content/Dataset/IMD2020/1cqg67/\n",
            "  inflating: /content/Dataset/IMD2020/1cqg67/1cqg67_orig.jpg  \n",
            "  inflating: /content/Dataset/IMD2020/1cqg67/c9j1upi_0.jpg  \n",
            "  inflating: /content/Dataset/IMD2020/1cqg67/c9j1upi_0_mask.png  \n",
            "  inflating: /content/Dataset/IMD2020/1cqg67/c9j35au_0.jpg  \n",
            "  inflating: /content/Dataset/IMD2020/1cqg67/c9j35au_0_mask.png  \n",
            "  inflating: /content/Dataset/IMD2020/1cqg67/c9j8ny0_0.jpg  \n",
            "  inflating: /content/Dataset/IMD2020/1cqg67/c9j8ny0_0_mask.png  \n",
            "  inflating: /content/Dataset/IMD2020/1cqg67/c9j8xqc_0.jpg  \n",
            "  inflating: /content/Dataset/IMD2020/1cqg67/c9j8xqc_0_mask.png  \n",
            "   creating: /content/Dataset/IMD2020/1cqnqe/\n",
            "  inflating: /content/Dataset/IMD2020/1cqnqe/1cqnqe_orig.jpg  \n",
            "  inflating: /content/Dataset/IMD2020/1cqnqe/c9j6as6_0.jpg  \n",
            "  inflating: /content/Dataset/IMD2020/1cqnqe/c9j6as6_0_mask.png  \n",
            "   creating: /content/Dataset/IMD2020/1cquf3/\n",
            "  inflating: /content/Dataset/IMD2020/1cquf3/1cquf3_orig.jpg  \n",
            "  inflating: /content/Dataset/IMD2020/1cquf3/c9j4nvh_0.jpg  \n",
            "  inflating: /content/Dataset/IMD2020/1cquf3/c9j4nvh_0_mask.png  \n",
            "  inflating: /content/Dataset/IMD2020/1cquf3/c9j52sd_0.jpg  \n",
            "  inflating: /content/Dataset/IMD2020/1cquf3/c9j52sd_0_mask.png  \n",
            "  inflating: /content/Dataset/IMD2020/1cquf3/c9j61u4_0.jpg  \n",
            "  inflating: /content/Dataset/IMD2020/1cquf3/c9j61u4_0_mask.png  \n",
            "  inflating: /content/Dataset/IMD2020/1cquf3/c9j64u7_0.jpg  \n",
            "  inflating: /content/Dataset/IMD2020/1cquf3/c9j64u7_0_mask.png  \n",
            "  inflating: /content/Dataset/IMD2020/1cquf3/c9j6j6z_0.jpg  \n",
            "  inflating: /content/Dataset/IMD2020/1cquf3/c9j6j6z_0_mask.png  \n",
            "  inflating: /content/Dataset/IMD2020/1cquf3/c9j6rhn_0.jpg  \n",
            "  inflating: /content/Dataset/IMD2020/1cquf3/c9j6rhn_0_mask.png  \n",
            "  inflating: /content/Dataset/IMD2020/1cquf3/c9j72t2_0.jpg  \n",
            "  inflating: /content/Dataset/IMD2020/1cquf3/c9j72t2_0_mask.png  \n",
            "  inflating: /content/Dataset/IMD2020/1cquf3/c9j9hjm_0.jpg  \n",
            "  inflating: /content/Dataset/IMD2020/1cquf3/c9j9hjm_0_mask.png  \n",
            "   creating: /content/Dataset/IMD2020/1cr6qy/\n",
            "  inflating: /content/Dataset/IMD2020/1cr6qy/1cr6qy_orig.jpg  \n",
            "  inflating: /content/Dataset/IMD2020/1cr6qy/c9j80i6_0.jpg  \n",
            "  inflating: /content/Dataset/IMD2020/1cr6qy/c9j80i6_0_mask.png  \n",
            "   creating: /content/Dataset/IMD2020/1crdz7/\n",
            "  inflating: /content/Dataset/IMD2020/1crdz7/1crdz7_orig.jpg  \n",
            "  inflating: /content/Dataset/IMD2020/1crdz7/c9jbfvl_0.jpg  \n",
            "  inflating: /content/Dataset/IMD2020/1crdz7/c9jbfvl_0_mask.png  \n",
            "   creating: /content/Dataset/IMD2020/1crv9k/\n",
            "  inflating: /content/Dataset/IMD2020/1crv9k/1crv9k_orig.jpg  \n",
            "  inflating: /content/Dataset/IMD2020/1crv9k/c9je6ik_0.jpg  \n",
            "  inflating: /content/Dataset/IMD2020/1crv9k/c9je6ik_0_mask.png  \n",
            "  inflating: /content/Dataset/IMD2020/1crv9k/c9jesbk_0.jpg  \n",
            "  inflating: /content/Dataset/IMD2020/1crv9k/c9jesbk_0_mask.png  \n",
            "   creating: /content/Dataset/IMD2020/1cssa3/\n",
            "  inflating: /content/Dataset/IMD2020/1cssa3/1cssa3_orig.jpg  \n",
            "  inflating: /content/Dataset/IMD2020/1cssa3/c9jmyul_0.jpg  \n",
            "  inflating: /content/Dataset/IMD2020/1cssa3/c9jmyul_0_mask.png  \n",
            "  inflating: /content/Dataset/IMD2020/1cssa3/c9joxzm_0.jpg  \n",
            "  inflating: /content/Dataset/IMD2020/1cssa3/c9joxzm_0_mask.png  \n",
            "  inflating: /content/Dataset/IMD2020/1cssa3/c9jp25w_0.jpg  \n",
            "  inflating: /content/Dataset/IMD2020/1cssa3/c9jp25w_0_mask.png  \n",
            "  inflating: /content/Dataset/IMD2020/1cssa3/c9jp5wt_0.jpg  \n",
            "  inflating: /content/Dataset/IMD2020/1cssa3/c9jp5wt_0_mask.png  \n",
            "  inflating: /content/Dataset/IMD2020/1cssa3/c9jpn76_0.jpg  \n",
            "  inflating: /content/Dataset/IMD2020/1cssa3/c9jpn76_0_mask.png  \n",
            "  inflating: /content/Dataset/IMD2020/1cssa3/c9jppfm_0.jpg  \n",
            "  inflating: /content/Dataset/IMD2020/1cssa3/c9jppfm_0_mask.png  \n",
            "  inflating: /content/Dataset/IMD2020/1cssa3/c9jpr8z_0.jpg  \n",
            "  inflating: /content/Dataset/IMD2020/1cssa3/c9jpr8z_0_mask.png  \n",
            "  inflating: /content/Dataset/IMD2020/1cssa3/c9jq15h_0.jpg  \n",
            "  inflating: /content/Dataset/IMD2020/1cssa3/c9jq15h_0_mask.png  \n",
            "  inflating: /content/Dataset/IMD2020/1cssa3/c9jqa49_0.jpg  \n",
            "  inflating: /content/Dataset/IMD2020/1cssa3/c9jqa49_0_mask.png  \n",
            "  inflating: /content/Dataset/IMD2020/1cssa3/c9jqgc7_0.jpg  \n",
            "  inflating: /content/Dataset/IMD2020/1cssa3/c9jqgc7_0_mask.png  \n",
            "  inflating: /content/Dataset/IMD2020/1cssa3/c9jqnxf_0.jpg  \n",
            "  inflating: /content/Dataset/IMD2020/1cssa3/c9jqnxf_0_mask.png  \n",
            "  inflating: /content/Dataset/IMD2020/1cssa3/c9jr9le_0.jpg  \n",
            "  inflating: /content/Dataset/IMD2020/1cssa3/c9jr9le_0_mask.png  \n",
            "  inflating: /content/Dataset/IMD2020/1cssa3/c9jrs8t_0.jpg  \n",
            "  inflating: /content/Dataset/IMD2020/1cssa3/c9jrs8t_0_mask.png  \n",
            "  inflating: /content/Dataset/IMD2020/1cssa3/c9jsau5_0.jpg  \n",
            "  inflating: /content/Dataset/IMD2020/1cssa3/c9jsau5_0_mask.png  \n",
            "  inflating: /content/Dataset/IMD2020/1cssa3/c9jtoex_0.png  \n",
            "  inflating: /content/Dataset/IMD2020/1cssa3/c9jtoex_0_mask.png  \n",
            "  inflating: /content/Dataset/IMD2020/1cssa3/c9jwdvv_0.jpg  \n",
            "  inflating: /content/Dataset/IMD2020/1cssa3/c9jwdvv_0_mask.png  \n",
            "   creating: /content/Dataset/IMD2020/1cst9h/\n",
            "  inflating: /content/Dataset/IMD2020/1cst9h/1cst9h_orig.jpg  \n",
            "  inflating: /content/Dataset/IMD2020/1cst9h/c9jnza3_0.jpg  \n",
            "  inflating: /content/Dataset/IMD2020/1cst9h/c9jnza3_0_mask.png  \n",
            "  inflating: /content/Dataset/IMD2020/1cst9h/c9joq7w_0.jpg  \n",
            "  inflating: /content/Dataset/IMD2020/1cst9h/c9joq7w_0_mask.png  \n",
            "  inflating: /content/Dataset/IMD2020/1cst9h/c9jqshm_0.jpg  \n",
            "  inflating: /content/Dataset/IMD2020/1cst9h/c9jqshm_0_mask.png  \n",
            "  inflating: /content/Dataset/IMD2020/1cst9h/c9jsov8_0.jpg  \n",
            "  inflating: /content/Dataset/IMD2020/1cst9h/c9jsov8_0_mask.png  \n",
            "  inflating: /content/Dataset/IMD2020/1cst9h/c9k2es6_0.png  \n",
            "  inflating: /content/Dataset/IMD2020/1cst9h/c9k2es6_0_mask.png  \n",
            "   creating: /content/Dataset/IMD2020/1csvlp/\n",
            "  inflating: /content/Dataset/IMD2020/1csvlp/1csvlp_orig.jpg  \n",
            "  inflating: /content/Dataset/IMD2020/1csvlp/c9jp0p0_0.jpg  \n",
            "  inflating: /content/Dataset/IMD2020/1csvlp/c9jp0p0_0_mask.png  \n",
            "  inflating: /content/Dataset/IMD2020/1csvlp/c9jtkmu_0.jpg  \n",
            "  inflating: /content/Dataset/IMD2020/1csvlp/c9jtkmu_0_mask.png  \n",
            "  inflating: /content/Dataset/IMD2020/1csvlp/c9jzdxb_0.jpg  \n",
            "  inflating: /content/Dataset/IMD2020/1csvlp/c9jzdxb_0_mask.png  \n",
            "   creating: /content/Dataset/IMD2020/1ctk0g/\n",
            "  inflating: /content/Dataset/IMD2020/1ctk0g/1ctk0g_orig.jpg  \n",
            "  inflating: /content/Dataset/IMD2020/1ctk0g/c9juyz1_0.jpg  \n",
            "  inflating: /content/Dataset/IMD2020/1ctk0g/c9juyz1_0_mask.png  \n",
            "  inflating: /content/Dataset/IMD2020/1ctk0g/c9jv5re_0.png  \n",
            "  inflating: /content/Dataset/IMD2020/1ctk0g/c9jv5re_0_mask.png  \n",
            "   creating: /content/Dataset/IMD2020/1cu6rq/\n",
            "  inflating: /content/Dataset/IMD2020/1cu6rq/1cu6rq_orig.jpg  \n",
            "  inflating: /content/Dataset/IMD2020/1cu6rq/c9k2gmo_0.jpg  \n",
            "  inflating: /content/Dataset/IMD2020/1cu6rq/c9k2gmo_0_mask.png  \n",
            "  inflating: /content/Dataset/IMD2020/1cu6rq/c9k2t5d_0.jpg  \n",
            "  inflating: /content/Dataset/IMD2020/1cu6rq/c9k2t5d_0_mask.png  \n",
            "  inflating: /content/Dataset/IMD2020/1cu6rq/c9k3zdn_0.jpg  \n",
            "  inflating: /content/Dataset/IMD2020/1cu6rq/c9k3zdn_0_mask.png  \n",
            "  inflating: /content/Dataset/IMD2020/1cu6rq/c9k5pqu_0.jpg  \n",
            "  inflating: /content/Dataset/IMD2020/1cu6rq/c9k5pqu_0_mask.png  \n",
            "   creating: /content/Dataset/IMD2020/1cueig/\n",
            "  inflating: /content/Dataset/IMD2020/1cueig/1cueig_orig.jpg  \n",
            "  inflating: /content/Dataset/IMD2020/1cueig/c9kajwp_0.jpg  \n",
            "  inflating: /content/Dataset/IMD2020/1cueig/c9kajwp_0_mask.png  \n",
            "   creating: /content/Dataset/IMD2020/1cufzj/\n",
            "  inflating: /content/Dataset/IMD2020/1cufzj/1cufzj_orig.jpg  \n",
            "  inflating: /content/Dataset/IMD2020/1cufzj/c9k4d7o_0.jpg  \n",
            "  inflating: /content/Dataset/IMD2020/1cufzj/c9k4d7o_0_mask.png  \n",
            "  inflating: /content/Dataset/IMD2020/1cufzj/c9k9w0q_0.jpg  \n",
            "  inflating: /content/Dataset/IMD2020/1cufzj/c9k9w0q_0_mask.png  \n",
            "  inflating: /content/Dataset/IMD2020/1cufzj/c9kdajw_0.png  \n",
            "  inflating: /content/Dataset/IMD2020/1cufzj/c9kdajw_0_mask.png  \n",
            "  inflating: /content/Dataset/IMD2020/1cufzj/c9kjun7_0.jpg  \n",
            "  inflating: /content/Dataset/IMD2020/1cufzj/c9kjun7_0_mask.png  \n",
            "   creating: /content/Dataset/IMD2020/1cuksu/\n",
            "  inflating: /content/Dataset/IMD2020/1cuksu/1cuksu_orig.jpg  \n",
            "  inflating: /content/Dataset/IMD2020/1cuksu/c9kirao_0.jpg  \n",
            "  inflating: /content/Dataset/IMD2020/1cuksu/c9kirao_0_mask.png  \n",
            "  inflating: /content/Dataset/IMD2020/1cuksu/c9kj3pe_0.jpg  \n",
            "  inflating: /content/Dataset/IMD2020/1cuksu/c9kj3pe_0_mask.png  \n",
            "   creating: /content/Dataset/IMD2020/1cw5cy/\n",
            "  inflating: /content/Dataset/IMD2020/1cw5cy/1cw5cy_orig.jpg  \n",
            "  inflating: /content/Dataset/IMD2020/1cw5cy/c9kkyc7_0.jpg  \n",
            "  inflating: /content/Dataset/IMD2020/1cw5cy/c9kkyc7_0_mask.png  \n",
            "  inflating: /content/Dataset/IMD2020/1cw5cy/c9kl1ld_0.png  \n",
            "  inflating: /content/Dataset/IMD2020/1cw5cy/c9kl1ld_0_mask.png  \n",
            "  inflating: /content/Dataset/IMD2020/1cw5cy/c9kldmk_0.jpg  \n",
            "  inflating: /content/Dataset/IMD2020/1cw5cy/c9kldmk_0_mask.png  \n",
            "  inflating: /content/Dataset/IMD2020/1cw5cy/c9kliff_0.jpg  \n",
            "  inflating: /content/Dataset/IMD2020/1cw5cy/c9kliff_0_mask.png  \n",
            "  inflating: /content/Dataset/IMD2020/1cw5cy/c9klnxl_0.jpg  \n",
            "  inflating: /content/Dataset/IMD2020/1cw5cy/c9klnxl_0_mask.png  \n",
            "  inflating: /content/Dataset/IMD2020/1cw5cy/c9kloca_0.jpg  \n",
            "  inflating: /content/Dataset/IMD2020/1cw5cy/c9kloca_0_mask.png  \n",
            "  inflating: /content/Dataset/IMD2020/1cw5cy/c9klqw1_0.jpg  \n",
            "  inflating: /content/Dataset/IMD2020/1cw5cy/c9klqw1_0_mask.png  \n",
            "  inflating: /content/Dataset/IMD2020/1cw5cy/c9kmx4q_0.jpg  \n",
            "  inflating: /content/Dataset/IMD2020/1cw5cy/c9kmx4q_0_mask.png  \n",
            "  inflating: /content/Dataset/IMD2020/1cw5cy/c9kn2yy_0.png  \n",
            "  inflating: /content/Dataset/IMD2020/1cw5cy/c9kn2yy_0_mask.png  \n",
            "  inflating: /content/Dataset/IMD2020/1cw5cy/c9kn5q6_0.png  \n",
            "  inflating: /content/Dataset/IMD2020/1cw5cy/c9kn5q6_0_mask.png  \n",
            "  inflating: /content/Dataset/IMD2020/1cw5cy/c9knqlg_0.png  \n",
            "  inflating: /content/Dataset/IMD2020/1cw5cy/c9knqlg_0_mask.png  \n",
            "  inflating: /content/Dataset/IMD2020/1cw5cy/c9knukz_0.jpg  \n",
            "  inflating: /content/Dataset/IMD2020/1cw5cy/c9knukz_0_mask.png  \n",
            "  inflating: /content/Dataset/IMD2020/1cw5cy/c9ko6vm_0.jpg  \n",
            "  inflating: /content/Dataset/IMD2020/1cw5cy/c9ko6vm_0_mask.png  \n",
            "  inflating: /content/Dataset/IMD2020/1cw5cy/c9kp1yg_0.jpg  \n",
            "  inflating: /content/Dataset/IMD2020/1cw5cy/c9kp1yg_0_mask.png  \n",
            "  inflating: /content/Dataset/IMD2020/1cw5cy/c9kqck4_0.jpg  \n",
            "  inflating: /content/Dataset/IMD2020/1cw5cy/c9kqck4_0_mask.png  \n",
            "  inflating: /content/Dataset/IMD2020/1cw5cy/c9kums5_0.jpg  \n",
            "  inflating: /content/Dataset/IMD2020/1cw5cy/c9kums5_0_mask.png  \n",
            "  inflating: /content/Dataset/IMD2020/1cw5cy/c9kyp1k_0.jpg  \n",
            "  inflating: /content/Dataset/IMD2020/1cw5cy/c9kyp1k_0_mask.png  \n",
            "   creating: /content/Dataset/IMD2020/1cx0wu/\n",
            "  inflating: /content/Dataset/IMD2020/1cx0wu/1cx0wu_orig.jpg  \n",
            "  inflating: /content/Dataset/IMD2020/1cx0wu/c9kspnj_0.jpg  \n",
            "  inflating: /content/Dataset/IMD2020/1cx0wu/c9kspnj_0_mask.png  \n",
            "   creating: /content/Dataset/IMD2020/1cxff2/\n",
            "  inflating: /content/Dataset/IMD2020/1cxff2/1cxff2_orig.jpg  \n",
            "  inflating: /content/Dataset/IMD2020/1cxff2/c9kw0f4_0.jpg  \n",
            "  inflating: /content/Dataset/IMD2020/1cxff2/c9kw0f4_0_mask.png  \n",
            "  inflating: /content/Dataset/IMD2020/1cxff2/c9kwco4_0.png  \n",
            "  inflating: /content/Dataset/IMD2020/1cxff2/c9kwco4_0_mask.png  \n",
            "  inflating: /content/Dataset/IMD2020/1cxff2/c9kws3p_0.jpg  \n",
            "  inflating: /content/Dataset/IMD2020/1cxff2/c9kws3p_0_mask.png  \n",
            "  inflating: /content/Dataset/IMD2020/1cxff2/c9l20xa_0.jpg  \n",
            "  inflating: /content/Dataset/IMD2020/1cxff2/c9l20xa_0_mask.png  \n",
            "  inflating: /content/Dataset/IMD2020/1cxff2/c9l2kg9_0.png  \n",
            "  inflating: /content/Dataset/IMD2020/1cxff2/c9l2kg9_0_mask.png  \n",
            "   creating: /content/Dataset/IMD2020/1cxotg/\n",
            "  inflating: /content/Dataset/IMD2020/1cxotg/1cxotg_orig.jpg  \n",
            "  inflating: /content/Dataset/IMD2020/1cxotg/c9kym5f_0.jpg  \n",
            "  inflating: /content/Dataset/IMD2020/1cxotg/c9kym5f_0_mask.png  \n",
            "  inflating: /content/Dataset/IMD2020/1cxotg/c9kyq67_0.jpg  \n",
            "  inflating: /content/Dataset/IMD2020/1cxotg/c9kyq67_0_mask.png  \n",
            "  inflating: /content/Dataset/IMD2020/1cxotg/c9kzet8_0.jpg  \n",
            "  inflating: /content/Dataset/IMD2020/1cxotg/c9kzet8_0_mask.png  \n",
            "   creating: /content/Dataset/IMD2020/1cxupi/\n",
            "  inflating: /content/Dataset/IMD2020/1cxupi/1cxupi_orig.jpg  \n",
            "  inflating: /content/Dataset/IMD2020/1cxupi/c9l3keq_0.jpg  \n",
            "  inflating: /content/Dataset/IMD2020/1cxupi/c9l3keq_0_mask.png  \n",
            "  inflating: /content/Dataset/IMD2020/1cxupi/c9l597y_0.jpg  \n",
            "  inflating: /content/Dataset/IMD2020/1cxupi/c9l597y_0_mask.png  \n",
            "   creating: /content/Dataset/IMD2020/1cy4bb/\n",
            "  inflating: /content/Dataset/IMD2020/1cy4bb/1cy4bb_orig.jpg  \n",
            "  inflating: /content/Dataset/IMD2020/1cy4bb/c9l5ksv_0.jpg  \n",
            "  inflating: /content/Dataset/IMD2020/1cy4bb/c9l5ksv_0_mask.png  \n",
            "  inflating: /content/Dataset/IMD2020/1cy4bb/c9l5lkt_0.jpg  \n",
            "  inflating: /content/Dataset/IMD2020/1cy4bb/c9l5lkt_0_mask.png  \n",
            "  inflating: /content/Dataset/IMD2020/1cy4bb/c9l6nsf_0.jpg  \n",
            "  inflating: /content/Dataset/IMD2020/1cy4bb/c9l6nsf_0_mask.png  \n",
            "  inflating: /content/Dataset/IMD2020/1cy4bb/c9l6uz2_0.jpg  \n",
            "  inflating: /content/Dataset/IMD2020/1cy4bb/c9l6uz2_0_mask.png  \n",
            "  inflating: /content/Dataset/IMD2020/1cy4bb/c9l707b_0.jpg  \n",
            "  inflating: /content/Dataset/IMD2020/1cy4bb/c9l707b_0_mask.png  \n",
            "  inflating: /content/Dataset/IMD2020/1cy4bb/c9l75x0_0.jpg  \n",
            "  inflating: /content/Dataset/IMD2020/1cy4bb/c9l75x0_0_mask.png  \n",
            "  inflating: /content/Dataset/IMD2020/1cy4bb/c9l7j1r_0.jpg  \n",
            "  inflating: /content/Dataset/IMD2020/1cy4bb/c9l7j1r_0_mask.png  \n",
            "  inflating: /content/Dataset/IMD2020/1cy4bb/c9l7lmt_0.jpg  \n",
            "  inflating: /content/Dataset/IMD2020/1cy4bb/c9l7lmt_0_mask.png  \n",
            "  inflating: /content/Dataset/IMD2020/1cy4bb/c9l7ppj_0.jpg  \n",
            "  inflating: /content/Dataset/IMD2020/1cy4bb/c9l7ppj_0_mask.png  \n",
            "  inflating: /content/Dataset/IMD2020/1cy4bb/c9l89l2_0.jpg  \n",
            "  inflating: /content/Dataset/IMD2020/1cy4bb/c9l89l2_0_mask.png  \n",
            "  inflating: /content/Dataset/IMD2020/1cy4bb/c9l8asi_0.jpg  \n",
            "  inflating: /content/Dataset/IMD2020/1cy4bb/c9l8asi_0_mask.png  \n",
            "  inflating: /content/Dataset/IMD2020/1cy4bb/c9l8c1u_0.png  \n",
            "  inflating: /content/Dataset/IMD2020/1cy4bb/c9l8c1u_0_mask.png  \n",
            "  inflating: /content/Dataset/IMD2020/1cy4bb/c9laeqh_0.jpg  \n",
            "  inflating: /content/Dataset/IMD2020/1cy4bb/c9laeqh_0_mask.png  \n",
            "  inflating: /content/Dataset/IMD2020/1cy4bb/c9lat0v_0.jpg  \n",
            "  inflating: /content/Dataset/IMD2020/1cy4bb/c9lat0v_0_mask.png  \n",
            "  inflating: /content/Dataset/IMD2020/1cy4bb/c9lazy2_0.jpg  \n",
            "  inflating: /content/Dataset/IMD2020/1cy4bb/c9lazy2_0_mask.png  \n",
            "  inflating: /content/Dataset/IMD2020/1cy4bb/c9lcj56_0.jpg  \n",
            "  inflating: /content/Dataset/IMD2020/1cy4bb/c9lcj56_0_mask.png  \n",
            "   creating: /content/Dataset/IMD2020/1cyazy/\n",
            "  inflating: /content/Dataset/IMD2020/1cyazy/1cyazy_orig.jpg  \n",
            "  inflating: /content/Dataset/IMD2020/1cyazy/c9l4y7e_0.jpg  \n",
            "  inflating: /content/Dataset/IMD2020/1cyazy/c9l4y7e_0_mask.png  \n",
            "  inflating: /content/Dataset/IMD2020/1cyazy/c9l6bwf_0.jpg  \n",
            "  inflating: /content/Dataset/IMD2020/1cyazy/c9l6bwf_0_mask.png  \n",
            "   creating: /content/Dataset/IMD2020/1czwh6/\n",
            "  inflating: /content/Dataset/IMD2020/1czwh6/1czwh6_orig.jpg  \n",
            "  inflating: /content/Dataset/IMD2020/1czwh6/c9lkxdi_0.png  \n",
            "  inflating: /content/Dataset/IMD2020/1czwh6/c9lkxdi_0_mask.png  \n",
            "  inflating: /content/Dataset/IMD2020/1czwh6/c9lkzn4_0.jpg  \n",
            "  inflating: /content/Dataset/IMD2020/1czwh6/c9lkzn4_0_mask.png  \n",
            "  inflating: /content/Dataset/IMD2020/1czwh6/c9ll4vo_0.jpg  \n",
            "  inflating: /content/Dataset/IMD2020/1czwh6/c9ll4vo_0_mask.png  \n",
            "  inflating: /content/Dataset/IMD2020/1czwh6/c9ll7hu_0.jpg  \n",
            "  inflating: /content/Dataset/IMD2020/1czwh6/c9ll7hu_0_mask.png  \n",
            "  inflating: /content/Dataset/IMD2020/1czwh6/c9ll8td_0.jpg  \n",
            "  inflating: /content/Dataset/IMD2020/1czwh6/c9ll8td_0_mask.png  \n",
            "  inflating: /content/Dataset/IMD2020/1czwh6/c9ln0pg_0.jpg  \n",
            "  inflating: /content/Dataset/IMD2020/1czwh6/c9ln0pg_0_mask.png  \n",
            "  inflating: /content/Dataset/IMD2020/1czwh6/c9lnb0l_0.jpg  \n",
            "  inflating: /content/Dataset/IMD2020/1czwh6/c9lnb0l_0_mask.png  \n",
            "   creating: /content/Dataset/IMD2020/1d0bba/\n",
            "  inflating: /content/Dataset/IMD2020/1d0bba/1d0bba_orig.jpg  \n",
            "  inflating: /content/Dataset/IMD2020/1d0bba/c9lnnea_0.jpg  \n",
            "  inflating: /content/Dataset/IMD2020/1d0bba/c9lnnea_0_mask.png  \n",
            "  inflating: /content/Dataset/IMD2020/1d0bba/c9lnp9v_0.jpg  \n",
            "  inflating: /content/Dataset/IMD2020/1d0bba/c9lnp9v_0_mask.png  \n",
            "   creating: /content/Dataset/IMD2020/1d0csx/\n",
            "  inflating: /content/Dataset/IMD2020/1d0csx/1d0csx_orig.jpg  \n",
            "  inflating: /content/Dataset/IMD2020/1d0csx/c9lo9be_0.jpg  \n",
            "  inflating: /content/Dataset/IMD2020/1d0csx/c9lo9be_0_mask.png  \n",
            "  inflating: /content/Dataset/IMD2020/1d0csx/c9lofx5_0.jpg  \n",
            "  inflating: /content/Dataset/IMD2020/1d0csx/c9lofx5_0_mask.png  \n",
            "  inflating: /content/Dataset/IMD2020/1d0csx/c9lon94_0.png  \n",
            "  inflating: /content/Dataset/IMD2020/1d0csx/c9lon94_0_mask.png  \n",
            "  inflating: /content/Dataset/IMD2020/1d0csx/c9lpuor_0.jpg  \n",
            "  inflating: /content/Dataset/IMD2020/1d0csx/c9lpuor_0_mask.png  \n",
            "  inflating: /content/Dataset/IMD2020/1d0csx/c9lqv8m_0.jpg  \n",
            "  inflating: /content/Dataset/IMD2020/1d0csx/c9lqv8m_0_mask.png  \n",
            "  inflating: /content/Dataset/IMD2020/1d0csx/c9lvns7_0.jpg  \n",
            "  inflating: /content/Dataset/IMD2020/1d0csx/c9lvns7_0_mask.png  \n",
            "   creating: /content/Dataset/IMD2020/1d0g26/\n",
            "  inflating: /content/Dataset/IMD2020/1d0g26/1d0g26_orig.jpg  \n",
            "  inflating: /content/Dataset/IMD2020/1d0g26/c9ltbe6_0.jpg  \n",
            "  inflating: /content/Dataset/IMD2020/1d0g26/c9ltbe6_0_mask.png  \n",
            "  inflating: /content/Dataset/IMD2020/1d0g26/c9lvfdp_0.jpg  \n",
            "  inflating: /content/Dataset/IMD2020/1d0g26/c9lvfdp_0_mask.png  \n",
            "   creating: /content/Dataset/IMD2020/1d0m2h/\n",
            "  inflating: /content/Dataset/IMD2020/1d0m2h/1d0m2h_orig.jpg  \n",
            "  inflating: /content/Dataset/IMD2020/1d0m2h/c9lqz29_0.jpg  \n",
            "  inflating: /content/Dataset/IMD2020/1d0m2h/c9lqz29_0_mask.png  \n",
            "  inflating: /content/Dataset/IMD2020/1d0m2h/c9ls62j_0.jpg  \n",
            "  inflating: /content/Dataset/IMD2020/1d0m2h/c9ls62j_0_mask.png  \n",
            "  inflating: /content/Dataset/IMD2020/1d0m2h/c9lslic_0.jpg  \n",
            "  inflating: /content/Dataset/IMD2020/1d0m2h/c9lslic_0_mask.png  \n",
            "   creating: /content/Dataset/IMD2020/1d1dgt/\n",
            "  inflating: /content/Dataset/IMD2020/1d1dgt/1d1dgt_orig.jpg  \n",
            "  inflating: /content/Dataset/IMD2020/1d1dgt/c9lyit5_0.jpg  \n",
            "  inflating: /content/Dataset/IMD2020/1d1dgt/c9lyit5_0_mask.png  \n",
            "  inflating: /content/Dataset/IMD2020/1d1dgt/c9lz131_0.jpg  \n",
            "  inflating: /content/Dataset/IMD2020/1d1dgt/c9lz131_0_mask.png  \n",
            "  inflating: /content/Dataset/IMD2020/1d1dgt/c9m1ged_0.jpg  \n",
            "  inflating: /content/Dataset/IMD2020/1d1dgt/c9m1ged_0_mask.png  \n",
            "  inflating: /content/Dataset/IMD2020/1d1dgt/c9m1ree_0.jpg  \n",
            "  inflating: /content/Dataset/IMD2020/1d1dgt/c9m1ree_0_mask.png  \n",
            "  inflating: /content/Dataset/IMD2020/1d1dgt/c9m8hr9_0.png  \n",
            "  inflating: /content/Dataset/IMD2020/1d1dgt/c9m8hr9_0_mask.png  \n",
            "  inflating: /content/Dataset/IMD2020/1d1dgt/c9mdh2i_0.jpg  \n",
            "  inflating: /content/Dataset/IMD2020/1d1dgt/c9mdh2i_0_mask.png  \n",
            "   creating: /content/Dataset/IMD2020/1d1sle/\n",
            "  inflating: /content/Dataset/IMD2020/1d1sle/1d1sle_orig.jpg  \n",
            "  inflating: /content/Dataset/IMD2020/1d1sle/c9m2mgp_0.jpg  \n",
            "  inflating: /content/Dataset/IMD2020/1d1sle/c9m2mgp_0_mask.png  \n",
            "  inflating: /content/Dataset/IMD2020/1d1sle/c9m3r45_0.jpg  \n",
            "  inflating: /content/Dataset/IMD2020/1d1sle/c9m3r45_0_mask.png  \n",
            "  inflating: /content/Dataset/IMD2020/1d1sle/c9m59bz_0.jpg  \n",
            "  inflating: /content/Dataset/IMD2020/1d1sle/c9m59bz_0_mask.png  \n",
            "  inflating: /content/Dataset/IMD2020/1d1sle/c9m7kgn_0.jpg  \n",
            "  inflating: /content/Dataset/IMD2020/1d1sle/c9m7kgn_0_mask.png  \n",
            "  inflating: /content/Dataset/IMD2020/1d1sle/c9m7wt8_0.png  \n",
            "  inflating: /content/Dataset/IMD2020/1d1sle/c9m7wt8_0_mask.png  \n",
            "  inflating: /content/Dataset/IMD2020/1d1sle/c9m99xu_0.jpg  \n",
            "  inflating: /content/Dataset/IMD2020/1d1sle/c9m99xu_0_mask.png  \n",
            "  inflating: /content/Dataset/IMD2020/1d1sle/c9mg9wr_0.jpg  \n",
            "  inflating: /content/Dataset/IMD2020/1d1sle/c9mg9wr_0_mask.png  \n",
            "   creating: /content/Dataset/IMD2020/1d2r0w/\n",
            "  inflating: /content/Dataset/IMD2020/1d2r0w/1d2r0w_orig.jpg  \n",
            "  inflating: /content/Dataset/IMD2020/1d2r0w/c9mf0b8_0.png  \n",
            "  inflating: /content/Dataset/IMD2020/1d2r0w/c9mf0b8_0_mask.png  \n",
            "   creating: /content/Dataset/IMD2020/1d4apg/\n",
            "  inflating: /content/Dataset/IMD2020/1d4apg/1d4apg_orig.jpg  \n",
            "  inflating: /content/Dataset/IMD2020/1d4apg/c9msbgg_0.jpg  \n",
            "  inflating: /content/Dataset/IMD2020/1d4apg/c9msbgg_0_mask.png  \n",
            "  inflating: /content/Dataset/IMD2020/1d4apg/c9mtwu3_0.jpg  \n",
            "  inflating: /content/Dataset/IMD2020/1d4apg/c9mtwu3_0_mask.png  \n",
            "   creating: /content/Dataset/IMD2020/1d05a0/\n",
            "  inflating: /content/Dataset/IMD2020/1d05a0/1d05a0_orig.jpg  \n",
            "  inflating: /content/Dataset/IMD2020/1d05a0/c9lmn3m_0.jpg  \n",
            "  inflating: /content/Dataset/IMD2020/1d05a0/c9lmn3m_0_mask.png  \n",
            "  inflating: /content/Dataset/IMD2020/1d05a0/c9ln2lz_0.jpg  \n",
            "  inflating: /content/Dataset/IMD2020/1d05a0/c9ln2lz_0_mask.png  \n",
            "  inflating: /content/Dataset/IMD2020/1d05a0/c9lnfms_0.jpg  \n",
            "  inflating: /content/Dataset/IMD2020/1d05a0/c9lnfms_0_mask.png  \n",
            "  inflating: /content/Dataset/IMD2020/1d05a0/c9lp8gw_0.jpg  \n",
            "  inflating: /content/Dataset/IMD2020/1d05a0/c9lp8gw_0_mask.png  \n",
            "  inflating: /content/Dataset/IMD2020/1d05a0/c9lqbfv_0.jpg  \n",
            "  inflating: /content/Dataset/IMD2020/1d05a0/c9lqbfv_0_mask.png  \n",
            "  inflating: /content/Dataset/IMD2020/1d05a0/c9lqecr_0.png  \n",
            "  inflating: /content/Dataset/IMD2020/1d05a0/c9lqecr_0_mask.png  \n",
            "  inflating: /content/Dataset/IMD2020/1d05a0/c9lqual_0.jpg  \n",
            "  inflating: /content/Dataset/IMD2020/1d05a0/c9lqual_0_mask.png  \n",
            "  inflating: /content/Dataset/IMD2020/1d05a0/c9lqv7f_0.jpg  \n",
            "  inflating: /content/Dataset/IMD2020/1d05a0/c9lqv7f_0_mask.png  \n",
            "  inflating: /content/Dataset/IMD2020/1d05a0/c9lrb3p_0.jpg  \n",
            "  inflating: /content/Dataset/IMD2020/1d05a0/c9lrb3p_0_mask.png  \n",
            "  inflating: /content/Dataset/IMD2020/1d05a0/c9lrubh_0.jpg  \n",
            "  inflating: /content/Dataset/IMD2020/1d05a0/c9lrubh_0_mask.png  \n",
            "  inflating: /content/Dataset/IMD2020/1d05a0/c9lt1dp_0.jpg  \n",
            "  inflating: /content/Dataset/IMD2020/1d05a0/c9lt1dp_0_mask.png  \n",
            "  inflating: /content/Dataset/IMD2020/1d05a0/c9ltnkp_0.jpg  \n",
            "  inflating: /content/Dataset/IMD2020/1d05a0/c9ltnkp_0_mask.png  \n",
            "  inflating: /content/Dataset/IMD2020/1d05a0/c9ltxrr_0.jpg  \n",
            "  inflating: /content/Dataset/IMD2020/1d05a0/c9ltxrr_0_mask.png  \n",
            "  inflating: /content/Dataset/IMD2020/1d05a0/c9lvqgs_0.jpg  \n",
            "  inflating: /content/Dataset/IMD2020/1d05a0/c9lvqgs_0_mask.png  \n",
            "  inflating: /content/Dataset/IMD2020/1d05a0/c9lyu4h_0.jpg  \n",
            "  inflating: /content/Dataset/IMD2020/1d05a0/c9lyu4h_0_mask.png  \n",
            "   creating: /content/Dataset/IMD2020/1d5aqv/\n",
            "  inflating: /content/Dataset/IMD2020/1d5aqv/1d5aqv_orig.jpg  \n",
            "  inflating: /content/Dataset/IMD2020/1d5aqv/c9n0zlx_0.jpg  \n",
            "  inflating: /content/Dataset/IMD2020/1d5aqv/c9n0zlx_0_mask.png  \n",
            "  inflating: /content/Dataset/IMD2020/1d5aqv/c9n1skr_0.jpg  \n",
            "  inflating: /content/Dataset/IMD2020/1d5aqv/c9n1skr_0_mask.png  \n",
            "  inflating: /content/Dataset/IMD2020/1d5aqv/c9n4613_0.jpg  \n",
            "  inflating: /content/Dataset/IMD2020/1d5aqv/c9n4613_0_mask.png  \n",
            "  inflating: /content/Dataset/IMD2020/1d5aqv/c9n4bm5_0.jpg  \n",
            "  inflating: /content/Dataset/IMD2020/1d5aqv/c9n4bm5_0_mask.png  \n",
            "  inflating: /content/Dataset/IMD2020/1d5aqv/c9n64mb_0.jpg  \n",
            "  inflating: /content/Dataset/IMD2020/1d5aqv/c9n64mb_0_mask.png  \n",
            "  inflating: /content/Dataset/IMD2020/1d5aqv/c9n6ne8_0.jpg  \n",
            "  inflating: /content/Dataset/IMD2020/1d5aqv/c9n6ne8_0_mask.png  \n",
            "  inflating: /content/Dataset/IMD2020/1d5aqv/c9n70f3_0.jpg  \n",
            "  inflating: /content/Dataset/IMD2020/1d5aqv/c9n70f3_0_mask.png  \n",
            "  inflating: /content/Dataset/IMD2020/1d5aqv/c9n90q8_0.jpg  \n",
            "  inflating: /content/Dataset/IMD2020/1d5aqv/c9n90q8_0_mask.png  \n",
            "  inflating: /content/Dataset/IMD2020/1d5aqv/c9n98ue_0.jpg  \n",
            "  inflating: /content/Dataset/IMD2020/1d5aqv/c9n98ue_0_mask.png  \n",
            "  inflating: /content/Dataset/IMD2020/1d5aqv/c9n9au8_0.jpg  \n",
            "  inflating: /content/Dataset/IMD2020/1d5aqv/c9n9au8_0_mask.png  \n",
            "  inflating: /content/Dataset/IMD2020/1d5aqv/c9n9bnt_0.jpg  \n",
            "  inflating: /content/Dataset/IMD2020/1d5aqv/c9n9bnt_0_mask.png  \n",
            "   creating: /content/Dataset/IMD2020/1d5zdj/\n",
            "  inflating: /content/Dataset/IMD2020/1d5zdj/1d5zdj_orig.jpg  \n",
            "  inflating: /content/Dataset/IMD2020/1d5zdj/c9nds5g_0.jpg  \n",
            "  inflating: /content/Dataset/IMD2020/1d5zdj/c9nds5g_0_mask.png  \n",
            "  inflating: /content/Dataset/IMD2020/1d5zdj/c9nf4zp_0.jpg  \n",
            "  inflating: /content/Dataset/IMD2020/1d5zdj/c9nf4zp_0_mask.png  \n",
            "   creating: /content/Dataset/IMD2020/1d6ase/\n",
            "  inflating: /content/Dataset/IMD2020/1d6ase/1d6ase_orig.jpg  \n",
            "  inflating: /content/Dataset/IMD2020/1d6ase/c9nb0ph_0.jpg  \n",
            "  inflating: /content/Dataset/IMD2020/1d6ase/c9nb0ph_0_mask.png  \n",
            "  inflating: /content/Dataset/IMD2020/1d6ase/c9nfw8h_0.jpg  \n",
            "  inflating: /content/Dataset/IMD2020/1d6ase/c9nfw8h_0_mask.png  \n",
            "   creating: /content/Dataset/IMD2020/1d6mhe/\n",
            "  inflating: /content/Dataset/IMD2020/1d6mhe/c9nfts5_0.jpg  \n",
            "  inflating: /content/Dataset/IMD2020/1d6mhe/c9nfts5_0_mask.png  \n",
            "  inflating: /content/Dataset/IMD2020/1d6mhe/d6mhe_orig.jpg  \n",
            "   creating: /content/Dataset/IMD2020/1d6q63/\n",
            "  inflating: /content/Dataset/IMD2020/1d6q63/1d6q63_orig.jpg  \n",
            "  inflating: /content/Dataset/IMD2020/1d6q63/c9nma8l_0.jpg  \n",
            "  inflating: /content/Dataset/IMD2020/1d6q63/c9nma8l_0_mask.png  \n",
            "   creating: /content/Dataset/IMD2020/1d6v4y/\n",
            "  inflating: /content/Dataset/IMD2020/1d6v4y/1d6v4y_orig.jpg  \n",
            "  inflating: /content/Dataset/IMD2020/1d6v4y/c9nhm96_0.jpg  \n",
            "  inflating: /content/Dataset/IMD2020/1d6v4y/c9nhm96_0_mask.png  \n",
            "  inflating: /content/Dataset/IMD2020/1d6v4y/c9ni4dr_0.jpg  \n",
            "  inflating: /content/Dataset/IMD2020/1d6v4y/c9ni4dr_0_mask.png  \n",
            "  inflating: /content/Dataset/IMD2020/1d6v4y/c9njmjd_0.jpg  \n",
            "  inflating: /content/Dataset/IMD2020/1d6v4y/c9njmjd_0_mask.png  \n",
            "  inflating: /content/Dataset/IMD2020/1d6v4y/c9njsph_0.jpg  \n",
            "  inflating: /content/Dataset/IMD2020/1d6v4y/c9njsph_0_mask.png  \n",
            "  inflating: /content/Dataset/IMD2020/1d6v4y/c9njyrr_0.jpg  \n",
            "  inflating: /content/Dataset/IMD2020/1d6v4y/c9njyrr_0_mask.png  \n",
            "  inflating: /content/Dataset/IMD2020/1d6v4y/c9nk4s4_0.jpg  \n",
            "  inflating: /content/Dataset/IMD2020/1d6v4y/c9nk4s4_0_mask.png  \n",
            "  inflating: /content/Dataset/IMD2020/1d6v4y/c9nk828_0.jpg  \n",
            "  inflating: /content/Dataset/IMD2020/1d6v4y/c9nk828_0_mask.png  \n",
            "  inflating: /content/Dataset/IMD2020/1d6v4y/c9nkbnj_0.jpg  \n",
            "  inflating: /content/Dataset/IMD2020/1d6v4y/c9nkbnj_0_mask.png  \n",
            "  inflating: /content/Dataset/IMD2020/1d6v4y/c9nkk3r_0.jpg  \n",
            "  inflating: /content/Dataset/IMD2020/1d6v4y/c9nkk3r_0_mask.png  \n",
            "  inflating: /content/Dataset/IMD2020/1d6v4y/c9nknvd_0.png  \n",
            "  inflating: /content/Dataset/IMD2020/1d6v4y/c9nknvd_0_mask.png  \n",
            "  inflating: /content/Dataset/IMD2020/1d6v4y/c9nks0m_0.jpg  \n",
            "  inflating: /content/Dataset/IMD2020/1d6v4y/c9nks0m_0_mask.png  \n",
            "  inflating: /content/Dataset/IMD2020/1d6v4y/c9nl77k_0.jpg  \n",
            "  inflating: /content/Dataset/IMD2020/1d6v4y/c9nl77k_0_mask.png  \n",
            "  inflating: /content/Dataset/IMD2020/1d6v4y/c9nmqfd_0.jpg  \n",
            "  inflating: /content/Dataset/IMD2020/1d6v4y/c9nmqfd_0_mask.png  \n",
            "  inflating: /content/Dataset/IMD2020/1d6v4y/c9npg11_0.jpg  \n",
            "  inflating: /content/Dataset/IMD2020/1d6v4y/c9npg11_0_mask.png  \n",
            "  inflating: /content/Dataset/IMD2020/1d6v4y/c9nra1a_0.jpg  \n",
            "  inflating: /content/Dataset/IMD2020/1d6v4y/c9nra1a_0_mask.png  \n",
            "  inflating: /content/Dataset/IMD2020/1d6v4y/ca8jhgo_0.jpg  \n",
            "  inflating: /content/Dataset/IMD2020/1d6v4y/ca8jhgo_0_mask.png  \n",
            "   creating: /content/Dataset/IMD2020/1d7oxn/\n",
            "  inflating: /content/Dataset/IMD2020/1d7oxn/1d7oxn_orig.jpg  \n",
            "  inflating: /content/Dataset/IMD2020/1d7oxn/c9nqp2a_0.jpg  \n",
            "  inflating: /content/Dataset/IMD2020/1d7oxn/c9nqp2a_0_mask.png  \n",
            "  inflating: /content/Dataset/IMD2020/1d7oxn/c9nt2o8_0.jpg  \n",
            "  inflating: /content/Dataset/IMD2020/1d7oxn/c9nt2o8_0_mask.png  \n",
            "  inflating: /content/Dataset/IMD2020/1d7oxn/c9nut9u_0.jpg  \n",
            "  inflating: /content/Dataset/IMD2020/1d7oxn/c9nut9u_0_mask.png  \n",
            "   creating: /content/Dataset/IMD2020/1d7uhv/\n",
            "  inflating: /content/Dataset/IMD2020/1d7uhv/1d7uhv_orig.jpg  \n",
            "  inflating: /content/Dataset/IMD2020/1d7uhv/c9ntew0_0.jpg  \n",
            "  inflating: /content/Dataset/IMD2020/1d7uhv/c9ntew0_0_mask.png  \n",
            "  inflating: /content/Dataset/IMD2020/1d7uhv/c9ntuji_0.jpg  \n",
            "  inflating: /content/Dataset/IMD2020/1d7uhv/c9ntuji_0_mask.png  \n",
            "  inflating: /content/Dataset/IMD2020/1d7uhv/c9nvi4n_0.jpg  \n",
            "  inflating: /content/Dataset/IMD2020/1d7uhv/c9nvi4n_0_mask.png  \n",
            "  inflating: /content/Dataset/IMD2020/1d7uhv/c9nvnky_0.jpg  \n",
            "  inflating: /content/Dataset/IMD2020/1d7uhv/c9nvnky_0_mask.png  \n",
            "  inflating: /content/Dataset/IMD2020/1d7uhv/c9nvpcp_0.jpg  \n",
            "  inflating: /content/Dataset/IMD2020/1d7uhv/c9nvpcp_0_mask.png  \n",
            "  inflating: /content/Dataset/IMD2020/1d7uhv/c9nw6k4_0.jpg  \n",
            "  inflating: /content/Dataset/IMD2020/1d7uhv/c9nw6k4_0_mask.png  \n",
            "  inflating: /content/Dataset/IMD2020/1d7uhv/c9nwfkt_0.jpg  \n",
            "  inflating: /content/Dataset/IMD2020/1d7uhv/c9nwfkt_0_mask.png  \n",
            "  inflating: /content/Dataset/IMD2020/1d7uhv/c9nxj2d_0.jpg  \n",
            "  inflating: /content/Dataset/IMD2020/1d7uhv/c9nxj2d_0_mask.png  \n",
            "  inflating: /content/Dataset/IMD2020/1d7uhv/c9nytom_0.jpg  \n",
            "  inflating: /content/Dataset/IMD2020/1d7uhv/c9nytom_0_mask.png  \n",
            "  inflating: /content/Dataset/IMD2020/1d7uhv/c9o0hnh_0.jpg  \n",
            "  inflating: /content/Dataset/IMD2020/1d7uhv/c9o0hnh_0_mask.png  \n",
            "  inflating: /content/Dataset/IMD2020/1d7uhv/c9o3z78_0.jpg  \n",
            "  inflating: /content/Dataset/IMD2020/1d7uhv/c9o3z78_0_mask.png  \n",
            "  inflating: /content/Dataset/IMD2020/1d7uhv/c9o6bus_0.jpg  \n",
            "  inflating: /content/Dataset/IMD2020/1d7uhv/c9o6bus_0_mask.png  \n",
            "   creating: /content/Dataset/IMD2020/1d8gti/\n",
            "  inflating: /content/Dataset/IMD2020/1d8gti/1d8gti_orig.jpg  \n",
            "  inflating: /content/Dataset/IMD2020/1d8gti/c9nz0zs_0.jpg  \n",
            "  inflating: /content/Dataset/IMD2020/1d8gti/c9nz0zs_0_mask.png  \n",
            "  inflating: /content/Dataset/IMD2020/1d8gti/c9o08b5_0.jpg  \n",
            "  inflating: /content/Dataset/IMD2020/1d8gti/c9o08b5_0_mask.png  \n",
            "  inflating: /content/Dataset/IMD2020/1d8gti/c9o1yg4_0.jpg  \n",
            "  inflating: /content/Dataset/IMD2020/1d8gti/c9o1yg4_0_mask.png  \n",
            "  inflating: /content/Dataset/IMD2020/1d8gti/c9o2ydg_0.jpg  \n",
            "  inflating: /content/Dataset/IMD2020/1d8gti/c9o2ydg_0_mask.png  \n",
            "  inflating: /content/Dataset/IMD2020/1d8gti/c9o4h65_0.jpg  \n",
            "  inflating: /content/Dataset/IMD2020/1d8gti/c9o4h65_0_mask.png  \n",
            "  inflating: /content/Dataset/IMD2020/1d8gti/c9o54v5_0.jpg  \n",
            "  inflating: /content/Dataset/IMD2020/1d8gti/c9o54v5_0_mask.png  \n",
            "  inflating: /content/Dataset/IMD2020/1d8gti/c9o5mjb_0.jpg  \n",
            "  inflating: /content/Dataset/IMD2020/1d8gti/c9o5mjb_0_mask.png  \n",
            "  inflating: /content/Dataset/IMD2020/1d8gti/c9o6082_0.jpg  \n",
            "  inflating: /content/Dataset/IMD2020/1d8gti/c9o6082_0_mask.png  \n",
            "  inflating: /content/Dataset/IMD2020/1d8gti/c9o6e0q_0.png  \n",
            "  inflating: /content/Dataset/IMD2020/1d8gti/c9o6e0q_0_mask.png  \n",
            "   creating: /content/Dataset/IMD2020/1d8yzu/\n",
            "  inflating: /content/Dataset/IMD2020/1d8yzu/1d8yzu_orig.jpg  \n",
            "  inflating: /content/Dataset/IMD2020/1d8yzu/c9o85b2_0.png  \n",
            "  inflating: /content/Dataset/IMD2020/1d8yzu/c9o85b2_0_mask.png  \n",
            "   creating: /content/Dataset/IMD2020/1d9ly5/\n",
            "  inflating: /content/Dataset/IMD2020/1d9ly5/1d9ly5_orig.jpg  \n",
            "  inflating: /content/Dataset/IMD2020/1d9ly5/c9o87nu_0.jpg  \n",
            "  inflating: /content/Dataset/IMD2020/1d9ly5/c9o87nu_0_mask.png  \n",
            "  inflating: /content/Dataset/IMD2020/1d9ly5/c9o8vr7_0.jpg  \n",
            "  inflating: /content/Dataset/IMD2020/1d9ly5/c9o8vr7_0_mask.png  \n",
            "  inflating: /content/Dataset/IMD2020/1d9ly5/c9o979d_0.jpg  \n",
            "  inflating: /content/Dataset/IMD2020/1d9ly5/c9o979d_0_mask.png  \n",
            "  inflating: /content/Dataset/IMD2020/1d9ly5/c9oc4q6_0.jpg  \n",
            "  inflating: /content/Dataset/IMD2020/1d9ly5/c9oc4q6_0_mask.png  \n",
            "   creating: /content/Dataset/IMD2020/1d9puw/\n",
            "  inflating: /content/Dataset/IMD2020/1d9puw/1d9puw_orig.jpg  \n",
            "  inflating: /content/Dataset/IMD2020/1d9puw/c9ocka2_0.png  \n",
            "  inflating: /content/Dataset/IMD2020/1d9puw/c9ocka2_0_mask.png  \n",
            "   creating: /content/Dataset/IMD2020/1d9tn1/\n",
            "  inflating: /content/Dataset/IMD2020/1d9tn1/1d9tn1_orig.jpg  \n",
            "  inflating: /content/Dataset/IMD2020/1d9tn1/c9oce7b_0.jpg  \n",
            "  inflating: /content/Dataset/IMD2020/1d9tn1/c9oce7b_0_mask.png  \n",
            "  inflating: /content/Dataset/IMD2020/1d9tn1/c9octsz_0.jpg  \n",
            "  inflating: /content/Dataset/IMD2020/1d9tn1/c9octsz_0_mask.png  \n",
            "  inflating: /content/Dataset/IMD2020/1d9tn1/c9ocul2_0.jpg  \n",
            "  inflating: /content/Dataset/IMD2020/1d9tn1/c9ocul2_0_mask.png  \n",
            "  inflating: /content/Dataset/IMD2020/1d9tn1/c9odpwo_0.jpg  \n",
            "  inflating: /content/Dataset/IMD2020/1d9tn1/c9odpwo_0_mask.png  \n",
            "   creating: /content/Dataset/IMD2020/1d9ygm/\n",
            "  inflating: /content/Dataset/IMD2020/1d9ygm/1d9ygm_orig.jpg  \n",
            "  inflating: /content/Dataset/IMD2020/1d9ygm/c9ockip_0.jpg  \n",
            "  inflating: /content/Dataset/IMD2020/1d9ygm/c9ockip_0_mask.png  \n",
            "  inflating: /content/Dataset/IMD2020/1d9ygm/c9od2bp_0.jpg  \n",
            "  inflating: /content/Dataset/IMD2020/1d9ygm/c9od2bp_0_mask.png  \n",
            "  inflating: /content/Dataset/IMD2020/1d9ygm/c9oe4ae_0.jpg  \n",
            "  inflating: /content/Dataset/IMD2020/1d9ygm/c9oe4ae_0_mask.png  \n",
            "  inflating: /content/Dataset/IMD2020/1d9ygm/c9oe89a_0.jpg  \n",
            "  inflating: /content/Dataset/IMD2020/1d9ygm/c9oe89a_0_mask.png  \n",
            "  inflating: /content/Dataset/IMD2020/1d9ygm/c9oexva_0.jpg  \n",
            "  inflating: /content/Dataset/IMD2020/1d9ygm/c9oexva_0_mask.png  \n",
            "   creating: /content/Dataset/IMD2020/1d63ep/\n",
            "  inflating: /content/Dataset/IMD2020/1d63ep/1d63ep_orig.jpg  \n",
            "  inflating: /content/Dataset/IMD2020/1d63ep/c9n96qs_0.jpg  \n",
            "  inflating: /content/Dataset/IMD2020/1d63ep/c9n96qs_0_mask.png  \n",
            "  inflating: /content/Dataset/IMD2020/1d63ep/c9nau5v_0.jpg  \n",
            "  inflating: /content/Dataset/IMD2020/1d63ep/c9nau5v_0_mask.png  \n",
            "  inflating: /content/Dataset/IMD2020/1d63ep/c9nbea3_0.jpg  \n",
            "  inflating: /content/Dataset/IMD2020/1d63ep/c9nbea3_0_mask.png  \n",
            "  inflating: /content/Dataset/IMD2020/1d63ep/c9nbxwv_0.jpg  \n",
            "  inflating: /content/Dataset/IMD2020/1d63ep/c9nbxwv_0_mask.png  \n",
            "  inflating: /content/Dataset/IMD2020/1d63ep/c9ne5m1_0.png  \n",
            "  inflating: /content/Dataset/IMD2020/1d63ep/c9ne5m1_0_mask.png  \n",
            "   creating: /content/Dataset/IMD2020/1d84o7/\n",
            "  inflating: /content/Dataset/IMD2020/1d84o7/1d84o7_orig.jpg  \n",
            "  inflating: /content/Dataset/IMD2020/1d84o7/c9nty5e_0.jpg  \n",
            "  inflating: /content/Dataset/IMD2020/1d84o7/c9nty5e_0_mask.png  \n",
            "  inflating: /content/Dataset/IMD2020/1d84o7/c9nu96c_0.jpg  \n",
            "  inflating: /content/Dataset/IMD2020/1d84o7/c9nu96c_0_mask.png  \n",
            "  inflating: /content/Dataset/IMD2020/1d84o7/c9nuhbj_0.jpg  \n",
            "  inflating: /content/Dataset/IMD2020/1d84o7/c9nuhbj_0_mask.png  \n",
            "  inflating: /content/Dataset/IMD2020/1d84o7/c9nuvz4_0.jpg  \n",
            "  inflating: /content/Dataset/IMD2020/1d84o7/c9nuvz4_0_mask.png  \n",
            "  inflating: /content/Dataset/IMD2020/1d84o7/c9nv7k9_0.png  \n",
            "  inflating: /content/Dataset/IMD2020/1d84o7/c9nv7k9_0_mask.png  \n",
            "  inflating: /content/Dataset/IMD2020/1d84o7/c9nvnml_0.jpg  \n",
            "  inflating: /content/Dataset/IMD2020/1d84o7/c9nvnml_0_mask.png  \n",
            "  inflating: /content/Dataset/IMD2020/1d84o7/c9nwdn2_0.jpg  \n",
            "  inflating: /content/Dataset/IMD2020/1d84o7/c9nwdn2_0_mask.png  \n",
            "  inflating: /content/Dataset/IMD2020/1d84o7/c9nxok1_0.jpg  \n",
            "  inflating: /content/Dataset/IMD2020/1d84o7/c9nxok1_0_mask.png  \n",
            "  inflating: /content/Dataset/IMD2020/1d84o7/c9nxy4w_0.png  \n",
            "  inflating: /content/Dataset/IMD2020/1d84o7/c9nxy4w_0_mask.png  \n",
            "  inflating: /content/Dataset/IMD2020/1d84o7/c9nzsmx_0.jpg  \n",
            "  inflating: /content/Dataset/IMD2020/1d84o7/c9nzsmx_0_mask.png  \n",
            "  inflating: /content/Dataset/IMD2020/1d84o7/c9nzxnk_0.jpg  \n",
            "  inflating: /content/Dataset/IMD2020/1d84o7/c9nzxnk_0_mask.png  \n",
            "  inflating: /content/Dataset/IMD2020/1d84o7/c9o1k73_0.jpg  \n",
            "  inflating: /content/Dataset/IMD2020/1d84o7/c9o1k73_0_mask.png  \n",
            "  inflating: /content/Dataset/IMD2020/1d84o7/c9o1y6b_0.jpg  \n",
            "  inflating: /content/Dataset/IMD2020/1d84o7/c9o1y6b_0_mask.png  \n",
            "   creating: /content/Dataset/IMD2020/1d86gr/\n",
            "  inflating: /content/Dataset/IMD2020/1d86gr/1d86gr_orig.jpg  \n",
            "  inflating: /content/Dataset/IMD2020/1d86gr/c9nwr7t_0.jpg  \n",
            "  inflating: /content/Dataset/IMD2020/1d86gr/c9nwr7t_0_mask.png  \n",
            "  inflating: /content/Dataset/IMD2020/1d86gr/c9nx3jn_0.jpg  \n",
            "  inflating: /content/Dataset/IMD2020/1d86gr/c9nx3jn_0_mask.png  \n",
            "   creating: /content/Dataset/IMD2020/1d304x/\n",
            "  inflating: /content/Dataset/IMD2020/1d304x/1d304x_orig.jpg  \n",
            "  inflating: /content/Dataset/IMD2020/1d304x/c9mdqpy_0.jpg  \n",
            "  inflating: /content/Dataset/IMD2020/1d304x/c9mdqpy_0_mask.png  \n",
            "  inflating: /content/Dataset/IMD2020/1d304x/c9mhcvf_0.jpg  \n",
            "  inflating: /content/Dataset/IMD2020/1d304x/c9mhcvf_0_mask.png  \n",
            "   creating: /content/Dataset/IMD2020/1d860v/\n",
            "  inflating: /content/Dataset/IMD2020/1d860v/1d860v_orig.jpg  \n",
            "  inflating: /content/Dataset/IMD2020/1d860v/c9nuh5z_0.jpg  \n",
            "  inflating: /content/Dataset/IMD2020/1d860v/c9nuh5z_0_mask.png  \n",
            "  inflating: /content/Dataset/IMD2020/1d860v/c9nxumx_0.jpg  \n",
            "  inflating: /content/Dataset/IMD2020/1d860v/c9nxumx_0_mask.png  \n",
            "  inflating: /content/Dataset/IMD2020/1d860v/c9nxx81_0.png  \n",
            "  inflating: /content/Dataset/IMD2020/1d860v/c9nxx81_0_mask.png  \n",
            "  inflating: /content/Dataset/IMD2020/1d860v/c9o51n8_0.jpg  \n",
            "  inflating: /content/Dataset/IMD2020/1d860v/c9o51n8_0_mask.png  \n",
            "   creating: /content/Dataset/IMD2020/1d1888/\n",
            "  inflating: /content/Dataset/IMD2020/1d1888/1d1888_orig.jpg  \n",
            "  inflating: /content/Dataset/IMD2020/1d1888/c9m5ndi_0.jpg  \n",
            "  inflating: /content/Dataset/IMD2020/1d1888/c9m5ndi_0_mask.png  \n",
            "   creating: /content/Dataset/IMD2020/1d3556/\n",
            "  inflating: /content/Dataset/IMD2020/1d3556/1d3556_orig.jpg  \n",
            "  inflating: /content/Dataset/IMD2020/1d3556/c9mf9lg_0.jpg  \n",
            "  inflating: /content/Dataset/IMD2020/1d3556/c9mf9lg_0_mask.png  \n",
            "  inflating: /content/Dataset/IMD2020/1d3556/c9mfrd2_0.jpg  \n",
            "  inflating: /content/Dataset/IMD2020/1d3556/c9mfrd2_0_mask.png  \n",
            "  inflating: /content/Dataset/IMD2020/1d3556/c9mfypt_0.jpg  \n",
            "  inflating: /content/Dataset/IMD2020/1d3556/c9mfypt_0_mask.png  \n",
            "  inflating: /content/Dataset/IMD2020/1d3556/c9mgiwj_0.jpg  \n",
            "  inflating: /content/Dataset/IMD2020/1d3556/c9mgiwj_0_mask.png  \n",
            "  inflating: /content/Dataset/IMD2020/1d3556/c9mgqt3_0.jpg  \n",
            "  inflating: /content/Dataset/IMD2020/1d3556/c9mgqt3_0_mask.png  \n",
            "  inflating: /content/Dataset/IMD2020/1d3556/c9mgyh0_0.jpg  \n",
            "  inflating: /content/Dataset/IMD2020/1d3556/c9mgyh0_0_mask.png  \n",
            "  inflating: /content/Dataset/IMD2020/1d3556/c9mho3e_0.jpg  \n",
            "  inflating: /content/Dataset/IMD2020/1d3556/c9mho3e_0_mask.png  \n",
            "  inflating: /content/Dataset/IMD2020/1d3556/c9mht38_0.jpg  \n",
            "  inflating: /content/Dataset/IMD2020/1d3556/c9mht38_0_mask.png  \n",
            "  inflating: /content/Dataset/IMD2020/1d3556/c9mib1x_0.jpg  \n",
            "  inflating: /content/Dataset/IMD2020/1d3556/c9mib1x_0_mask.png  \n",
            "  inflating: /content/Dataset/IMD2020/1d3556/c9mic78_0.jpg  \n",
            "  inflating: /content/Dataset/IMD2020/1d3556/c9mic78_0_mask.png  \n",
            "  inflating: /content/Dataset/IMD2020/1d3556/c9mivhd_0.jpg  \n",
            "  inflating: /content/Dataset/IMD2020/1d3556/c9mivhd_0_mask.png  \n",
            "  inflating: /content/Dataset/IMD2020/1d3556/c9mjrvb_0.jpg  \n",
            "  inflating: /content/Dataset/IMD2020/1d3556/c9mjrvb_0_mask.png  \n",
            "  inflating: /content/Dataset/IMD2020/1d3556/c9mjv8c_0.jpg  \n",
            "  inflating: /content/Dataset/IMD2020/1d3556/c9mjv8c_0_mask.png  \n",
            "  inflating: /content/Dataset/IMD2020/1d3556/c9ml96z_0.jpg  \n",
            "  inflating: /content/Dataset/IMD2020/1d3556/c9ml96z_0_mask.png  \n",
            "  inflating: /content/Dataset/IMD2020/1d3556/c9mlghk_0.jpg  \n",
            "  inflating: /content/Dataset/IMD2020/1d3556/c9mlghk_0_mask.png  \n",
            "  inflating: /content/Dataset/IMD2020/1d3556/c9mpeuk_0.jpg  \n",
            "  inflating: /content/Dataset/IMD2020/1d3556/c9mpeuk_0_mask.png  \n",
            "  inflating: /content/Dataset/IMD2020/1d3556/c9mriaz_0.jpg  \n",
            "  inflating: /content/Dataset/IMD2020/1d3556/c9mriaz_0_mask.png  \n",
            "  inflating: /content/Dataset/IMD2020/1d3556/c9mtfwz_0.jpg  \n",
            "  inflating: /content/Dataset/IMD2020/1d3556/c9mtfwz_0_mask.png  \n",
            "  inflating: /content/Dataset/IMD2020/1d3556/c9mvlue_0.jpg  \n",
            "  inflating: /content/Dataset/IMD2020/1d3556/c9mvlue_0_mask.png  \n",
            "   creating: /content/Dataset/IMD2020/1d8099/\n",
            "  inflating: /content/Dataset/IMD2020/1d8099/1d8099_orig.jpg  \n",
            "  inflating: /content/Dataset/IMD2020/1d8099/c9nuy5u_0.jpg  \n",
            "  inflating: /content/Dataset/IMD2020/1d8099/c9nuy5u_0_mask.png  \n",
            "  inflating: /content/Dataset/IMD2020/1d8099/c9o3qze_0.jpg  \n",
            "  inflating: /content/Dataset/IMD2020/1d8099/c9o3qze_0_mask.png  \n",
            "   creating: /content/Dataset/IMD2020/1da0ta/\n",
            "  inflating: /content/Dataset/IMD2020/1da0ta/1da0ta_orig.jpg  \n",
            "  inflating: /content/Dataset/IMD2020/1da0ta/c9oej2d_0.jpg  \n",
            "  inflating: /content/Dataset/IMD2020/1da0ta/c9oej2d_0_mask.png  \n",
            "  inflating: /content/Dataset/IMD2020/1da0ta/c9ogiu1_0.jpg  \n",
            "  inflating: /content/Dataset/IMD2020/1da0ta/c9ogiu1_0_mask.png  \n",
            "  inflating: /content/Dataset/IMD2020/1da0ta/c9ohsnw_0.jpg  \n",
            "  inflating: /content/Dataset/IMD2020/1da0ta/c9ohsnw_0_mask.png  \n",
            "  inflating: /content/Dataset/IMD2020/1da0ta/c9oinbz_0.jpg  \n",
            "  inflating: /content/Dataset/IMD2020/1da0ta/c9oinbz_0_mask.png  \n",
            "  inflating: /content/Dataset/IMD2020/1da0ta/c9oiun2_0.jpg  \n",
            "  inflating: /content/Dataset/IMD2020/1da0ta/c9oiun2_0_mask.png  \n",
            "  inflating: /content/Dataset/IMD2020/1da0ta/c9ojssa_0.jpg  \n",
            "  inflating: /content/Dataset/IMD2020/1da0ta/c9ojssa_0_mask.png  \n",
            "  inflating: /content/Dataset/IMD2020/1da0ta/c9omlsl_0.jpg  \n",
            "  inflating: /content/Dataset/IMD2020/1da0ta/c9omlsl_0_mask.png  \n",
            "   creating: /content/Dataset/IMD2020/1dbddo/\n",
            "  inflating: /content/Dataset/IMD2020/1dbddo/1dbddo_orig.jpg  \n",
            "  inflating: /content/Dataset/IMD2020/1dbddo/c9orbjh_0.jpg  \n",
            "  inflating: /content/Dataset/IMD2020/1dbddo/c9orbjh_0_mask.png  \n",
            "  inflating: /content/Dataset/IMD2020/1dbddo/c9orhl5_0.jpg  \n",
            "  inflating: /content/Dataset/IMD2020/1dbddo/c9orhl5_0_mask.png  \n",
            "  inflating: /content/Dataset/IMD2020/1dbddo/c9oridj_0.jpg  \n",
            "  inflating: /content/Dataset/IMD2020/1dbddo/c9oridj_0_mask.png  \n",
            "  inflating: /content/Dataset/IMD2020/1dbddo/c9os1tp_0.jpg  \n",
            "  inflating: /content/Dataset/IMD2020/1dbddo/c9os1tp_0_mask.png  \n",
            "  inflating: /content/Dataset/IMD2020/1dbddo/c9os3m3_0.jpg  \n",
            "  inflating: /content/Dataset/IMD2020/1dbddo/c9os3m3_0_mask.png  \n",
            "  inflating: /content/Dataset/IMD2020/1dbddo/c9ouujp_0.jpg  \n",
            "  inflating: /content/Dataset/IMD2020/1dbddo/c9ouujp_0_mask.png  \n",
            "  inflating: /content/Dataset/IMD2020/1dbddo/c9oviie_0.jpg  \n",
            "  inflating: /content/Dataset/IMD2020/1dbddo/c9oviie_0_mask.png  \n",
            "   creating: /content/Dataset/IMD2020/1dbul3/\n",
            "  inflating: /content/Dataset/IMD2020/1dbul3/1dbul3_orig.jpg  \n",
            "  inflating: /content/Dataset/IMD2020/1dbul3/c9owhds_0.jpg  \n",
            "  inflating: /content/Dataset/IMD2020/1dbul3/c9owhds_0_mask.png  \n",
            "  inflating: /content/Dataset/IMD2020/1dbul3/c9owniu_0.jpg  \n",
            "  inflating: /content/Dataset/IMD2020/1dbul3/c9owniu_0_mask.png  \n",
            "  inflating: /content/Dataset/IMD2020/1dbul3/c9oz0g4_0.jpg  \n",
            "  inflating: /content/Dataset/IMD2020/1dbul3/c9oz0g4_0_mask.png  \n",
            "  inflating: /content/Dataset/IMD2020/1dbul3/c9ozu20_0.jpg  \n",
            "  inflating: /content/Dataset/IMD2020/1dbul3/c9ozu20_0_mask.png  \n",
            "  inflating: /content/Dataset/IMD2020/1dbul3/c9p0mfv_0.jpg  \n",
            "  inflating: /content/Dataset/IMD2020/1dbul3/c9p0mfv_0_mask.png  \n",
            "  inflating: /content/Dataset/IMD2020/1dbul3/c9p5bmr_0.jpg  \n",
            "  inflating: /content/Dataset/IMD2020/1dbul3/c9p5bmr_0_mask.png  \n",
            "   creating: /content/Dataset/IMD2020/1dc9sm/\n",
            "  inflating: /content/Dataset/IMD2020/1dc9sm/1dc9sm_orig.jpg  \n",
            "  inflating: /content/Dataset/IMD2020/1dc9sm/c9oz87d_0.jpg  \n",
            "  inflating: /content/Dataset/IMD2020/1dc9sm/c9oz87d_0_mask.png  \n",
            "  inflating: /content/Dataset/IMD2020/1dc9sm/c9ozajr_0.jpg  \n",
            "  inflating: /content/Dataset/IMD2020/1dc9sm/c9ozajr_0_mask.png  \n",
            "  inflating: /content/Dataset/IMD2020/1dc9sm/c9ozgv4_0.jpg  \n",
            "  inflating: /content/Dataset/IMD2020/1dc9sm/c9ozgv4_0_mask.png  \n",
            "  inflating: /content/Dataset/IMD2020/1dc9sm/c9p01qy_0.jpg  \n",
            "  inflating: /content/Dataset/IMD2020/1dc9sm/c9p01qy_0_mask.png  \n",
            "  inflating: /content/Dataset/IMD2020/1dc9sm/c9p1j4k_0.jpg  \n",
            "  inflating: /content/Dataset/IMD2020/1dc9sm/c9p1j4k_0_mask.png  \n",
            "  inflating: /content/Dataset/IMD2020/1dc9sm/c9p2hfz_0.png  \n",
            "  inflating: /content/Dataset/IMD2020/1dc9sm/c9p2hfz_0_mask.png  \n",
            "  inflating: /content/Dataset/IMD2020/1dc9sm/c9p4sou_0.jpg  \n",
            "  inflating: /content/Dataset/IMD2020/1dc9sm/c9p4sou_0_mask.png  \n",
            "  inflating: /content/Dataset/IMD2020/1dc9sm/c9p6j5b_0.jpg  \n",
            "  inflating: /content/Dataset/IMD2020/1dc9sm/c9p6j5b_0_mask.png  \n",
            "  inflating: /content/Dataset/IMD2020/1dc9sm/c9p7smn_0.jpg  \n",
            "  inflating: /content/Dataset/IMD2020/1dc9sm/c9p7smn_0_mask.png  \n",
            "  inflating: /content/Dataset/IMD2020/1dc9sm/c9pgah7_0.jpg  \n",
            "  inflating: /content/Dataset/IMD2020/1dc9sm/c9pgah7_0_mask.png  \n",
            "   creating: /content/Dataset/IMD2020/1dc54a/\n",
            "  inflating: /content/Dataset/IMD2020/1dc54a/1dc54a_orig.jpg  \n",
            "  inflating: /content/Dataset/IMD2020/1dc54a/c9owyxs_0.jpg  \n",
            "  inflating: /content/Dataset/IMD2020/1dc54a/c9owyxs_0_mask.png  \n",
            "  inflating: /content/Dataset/IMD2020/1dc54a/c9ozb2v_0.jpg  \n",
            "  inflating: /content/Dataset/IMD2020/1dc54a/c9ozb2v_0_mask.png  \n",
            "   creating: /content/Dataset/IMD2020/1dcm0x/\n",
            "  inflating: /content/Dataset/IMD2020/1dcm0x/1dcm0x_orig.jpg  \n",
            "  inflating: /content/Dataset/IMD2020/1dcm0x/c9p282z_0.jpg  \n",
            "  inflating: /content/Dataset/IMD2020/1dcm0x/c9p282z_0_mask.png  \n",
            "   creating: /content/Dataset/IMD2020/1de0l0/\n",
            "  inflating: /content/Dataset/IMD2020/1de0l0/1de0l0_orig.jpg  \n",
            "  inflating: /content/Dataset/IMD2020/1de0l0/c9pefdl_0.jpg  \n",
            "  inflating: /content/Dataset/IMD2020/1de0l0/c9pefdl_0_mask.png  \n",
            "  inflating: /content/Dataset/IMD2020/1de0l0/c9pfl6d_0.jpg  \n",
            "  inflating: /content/Dataset/IMD2020/1de0l0/c9pfl6d_0_mask.png  \n",
            "  inflating: /content/Dataset/IMD2020/1de0l0/c9pfqeq_0.jpg  \n",
            "  inflating: /content/Dataset/IMD2020/1de0l0/c9pfqeq_0_mask.png  \n",
            "  inflating: /content/Dataset/IMD2020/1de0l0/c9pfvx9_0.jpg  \n",
            "  inflating: /content/Dataset/IMD2020/1de0l0/c9pfvx9_0_mask.png  \n",
            "  inflating: /content/Dataset/IMD2020/1de0l0/c9pgddf_0.jpg  \n",
            "  inflating: /content/Dataset/IMD2020/1de0l0/c9pgddf_0_mask.png  \n",
            "  inflating: /content/Dataset/IMD2020/1de0l0/c9pgi5r_0.jpg  \n",
            "  inflating: /content/Dataset/IMD2020/1de0l0/c9pgi5r_0_mask.png  \n",
            "  inflating: /content/Dataset/IMD2020/1de0l0/c9pgmbx_0.jpg  \n",
            "  inflating: /content/Dataset/IMD2020/1de0l0/c9pgmbx_0_mask.png  \n",
            "  inflating: /content/Dataset/IMD2020/1de0l0/c9pilty_0.jpg  \n",
            "  inflating: /content/Dataset/IMD2020/1de0l0/c9pilty_0_mask.png  \n",
            "  inflating: /content/Dataset/IMD2020/1de0l0/c9pj6yb_0.jpg  \n",
            "  inflating: /content/Dataset/IMD2020/1de0l0/c9pj6yb_0_mask.png  \n",
            "  inflating: /content/Dataset/IMD2020/1de0l0/c9plhb5_0.jpg  \n",
            "  inflating: /content/Dataset/IMD2020/1de0l0/c9plhb5_0_mask.png  \n",
            "   creating: /content/Dataset/IMD2020/1de6me/\n",
            "  inflating: /content/Dataset/IMD2020/1de6me/1de6me_orig.jpg  \n",
            "  inflating: /content/Dataset/IMD2020/1de6me/c9pged8_0.png  \n",
            "  inflating: /content/Dataset/IMD2020/1de6me/c9pged8_0_mask.png  \n",
            "  inflating: /content/Dataset/IMD2020/1de6me/c9pgyxl_0.jpg  \n",
            "  inflating: /content/Dataset/IMD2020/1de6me/c9pgyxl_0_mask.png  \n",
            "  inflating: /content/Dataset/IMD2020/1de6me/c9pju0e_0.jpg  \n",
            "  inflating: /content/Dataset/IMD2020/1de6me/c9pju0e_0_mask.png  \n",
            "  inflating: /content/Dataset/IMD2020/1de6me/c9plxty_0.png  \n",
            "  inflating: /content/Dataset/IMD2020/1de6me/c9plxty_0_mask.png  \n",
            "  inflating: /content/Dataset/IMD2020/1de6me/c9pmle5_0.jpg  \n",
            "  inflating: /content/Dataset/IMD2020/1de6me/c9pmle5_0_mask.png  \n",
            "  inflating: /content/Dataset/IMD2020/1de6me/c9pmyfj_0.jpg  \n",
            "  inflating: /content/Dataset/IMD2020/1de6me/c9pmyfj_0_mask.png  \n",
            "  inflating: /content/Dataset/IMD2020/1de6me/c9pnjfr_0.jpg  \n",
            "  inflating: /content/Dataset/IMD2020/1de6me/c9pnjfr_0_mask.png  \n",
            "  inflating: /content/Dataset/IMD2020/1de6me/c9pojdy_0.jpg  \n",
            "  inflating: /content/Dataset/IMD2020/1de6me/c9pojdy_0_mask.png  \n",
            "  inflating: /content/Dataset/IMD2020/1de6me/c9pq1oo_0.jpg  \n",
            "  inflating: /content/Dataset/IMD2020/1de6me/c9pq1oo_0_mask.png  \n",
            "  inflating: /content/Dataset/IMD2020/1de6me/c9pqiu6_0.jpg  \n",
            "  inflating: /content/Dataset/IMD2020/1de6me/c9pqiu6_0_mask.png  \n",
            "   creating: /content/Dataset/IMD2020/1devsm/\n",
            "  inflating: /content/Dataset/IMD2020/1devsm/1devsm_orig.jpg  \n",
            "  inflating: /content/Dataset/IMD2020/1devsm/c9pmfw0_0.jpg  \n",
            "  inflating: /content/Dataset/IMD2020/1devsm/c9pmfw0_0_mask.png  \n",
            "  inflating: /content/Dataset/IMD2020/1devsm/c9pmrb5_0.jpg  \n",
            "  inflating: /content/Dataset/IMD2020/1devsm/c9pmrb5_0_mask.png  \n",
            "  inflating: /content/Dataset/IMD2020/1devsm/c9pmymm_0.jpg  \n",
            "  inflating: /content/Dataset/IMD2020/1devsm/c9pmymm_0_mask.png  \n",
            "  inflating: /content/Dataset/IMD2020/1devsm/c9pn1gz_0.jpg  \n",
            "  inflating: /content/Dataset/IMD2020/1devsm/c9pn1gz_0_mask.png  \n",
            "  inflating: /content/Dataset/IMD2020/1devsm/c9pn1hj_0.jpg  \n",
            "  inflating: /content/Dataset/IMD2020/1devsm/c9pn1hj_0_mask.png  \n",
            "  inflating: /content/Dataset/IMD2020/1devsm/c9pnfbw_0.jpg  \n",
            "  inflating: /content/Dataset/IMD2020/1devsm/c9pnfbw_0_mask.png  \n",
            "  inflating: /content/Dataset/IMD2020/1devsm/c9pnr75_0.jpg  \n",
            "  inflating: /content/Dataset/IMD2020/1devsm/c9pnr75_0_mask.png  \n",
            "  inflating: /content/Dataset/IMD2020/1devsm/c9pnuvp_0.jpg  \n",
            "  inflating: /content/Dataset/IMD2020/1devsm/c9pnuvp_0_mask.png  \n",
            "   creating: /content/Dataset/IMD2020/1df1ik/\n",
            "  inflating: /content/Dataset/IMD2020/1df1ik/1df1ik_orig.jpg  \n",
            "  inflating: /content/Dataset/IMD2020/1df1ik/c9poq56_0.jpg  \n",
            "  inflating: /content/Dataset/IMD2020/1df1ik/c9poq56_0_mask.png  \n",
            "  inflating: /content/Dataset/IMD2020/1df1ik/c9pp2db_0.jpg  \n",
            "  inflating: /content/Dataset/IMD2020/1df1ik/c9pp2db_0_mask.png  \n",
            "  inflating: /content/Dataset/IMD2020/1df1ik/c9ppuxs_0.jpg  \n",
            "  inflating: /content/Dataset/IMD2020/1df1ik/c9ppuxs_0_mask.png  \n",
            "  inflating: /content/Dataset/IMD2020/1df1ik/c9pqbmt_0.jpg  \n",
            "  inflating: /content/Dataset/IMD2020/1df1ik/c9pqbmt_0_mask.png  \n",
            "  inflating: /content/Dataset/IMD2020/1df1ik/c9prbhe_0.jpg  \n",
            "  inflating: /content/Dataset/IMD2020/1df1ik/c9prbhe_0_mask.png  \n",
            "  inflating: /content/Dataset/IMD2020/1df1ik/c9pse6z_0.jpg  \n",
            "  inflating: /content/Dataset/IMD2020/1df1ik/c9pse6z_0_mask.png  \n",
            "  inflating: /content/Dataset/IMD2020/1df1ik/c9pskj4_0.jpg  \n",
            "  inflating: /content/Dataset/IMD2020/1df1ik/c9pskj4_0_mask.png  \n",
            "  inflating: /content/Dataset/IMD2020/1df1ik/c9pu31c_0.jpg  \n",
            "  inflating: /content/Dataset/IMD2020/1df1ik/c9pu31c_0_mask.png  \n",
            "  inflating: /content/Dataset/IMD2020/1df1ik/c9pufrq_0.jpg  \n",
            "  inflating: /content/Dataset/IMD2020/1df1ik/c9pufrq_0_mask.png  \n",
            "  inflating: /content/Dataset/IMD2020/1df1ik/c9pw7al_0.jpg  \n",
            "  inflating: /content/Dataset/IMD2020/1df1ik/c9pw7al_0_mask.png  \n",
            "  inflating: /content/Dataset/IMD2020/1df1ik/c9px7bq_0.jpg  \n",
            "  inflating: /content/Dataset/IMD2020/1df1ik/c9px7bq_0_mask.png  \n",
            "  inflating: /content/Dataset/IMD2020/1df1ik/c9pxyb3_0.jpg  \n",
            "  inflating: /content/Dataset/IMD2020/1df1ik/c9pxyb3_0_mask.png  \n",
            "   creating: /content/Dataset/IMD2020/1df8mm/\n",
            "  inflating: /content/Dataset/IMD2020/1df8mm/1df8mm_orig.jpg  \n",
            "  inflating: /content/Dataset/IMD2020/1df8mm/c9prszs_0.jpg  \n",
            "  inflating: /content/Dataset/IMD2020/1df8mm/c9prszs_0_mask.png  \n",
            "  inflating: /content/Dataset/IMD2020/1df8mm/c9prwxt_0.png  \n",
            "  inflating: /content/Dataset/IMD2020/1df8mm/c9prwxt_0_mask.png  \n",
            "  inflating: /content/Dataset/IMD2020/1df8mm/c9ps27s_0.jpg  \n",
            "  inflating: /content/Dataset/IMD2020/1df8mm/c9ps27s_0_mask.png  \n",
            "  inflating: /content/Dataset/IMD2020/1df8mm/c9q0ksk_0.jpg  \n",
            "  inflating: /content/Dataset/IMD2020/1df8mm/c9q0ksk_0_mask.png  \n",
            "   creating: /content/Dataset/IMD2020/1dfo3j/\n",
            "  inflating: /content/Dataset/IMD2020/1dfo3j/1dfo3j_orig.jpg  \n",
            "  inflating: /content/Dataset/IMD2020/1dfo3j/c9pur9b_0.jpg  \n",
            "  inflating: /content/Dataset/IMD2020/1dfo3j/c9pur9b_0_mask.png  \n",
            "  inflating: /content/Dataset/IMD2020/1dfo3j/c9q0f2e_0.png  \n",
            "  inflating: /content/Dataset/IMD2020/1dfo3j/c9q0f2e_0_mask.png  \n",
            "   creating: /content/Dataset/IMD2020/1dg8l3/\n",
            "  inflating: /content/Dataset/IMD2020/1dg8l3/1dg8l3_orig.jpg  \n",
            "  inflating: /content/Dataset/IMD2020/1dg8l3/c9q1yvj_0.jpg  \n",
            "  inflating: /content/Dataset/IMD2020/1dg8l3/c9q1yvj_0_mask.png  \n",
            "   creating: /content/Dataset/IMD2020/1dh4tu/\n",
            "  inflating: /content/Dataset/IMD2020/1dh4tu/1dh4tu_orig.jpg  \n",
            "  inflating: /content/Dataset/IMD2020/1dh4tu/c9q9vd2_0.jpg  \n",
            "  inflating: /content/Dataset/IMD2020/1dh4tu/c9q9vd2_0_mask.png  \n",
            "  inflating: /content/Dataset/IMD2020/1dh4tu/c9qa0jn_0.jpg  \n",
            "  inflating: /content/Dataset/IMD2020/1dh4tu/c9qa0jn_0_mask.png  \n",
            "  inflating: /content/Dataset/IMD2020/1dh4tu/c9qa804_0.jpg  \n",
            "  inflating: /content/Dataset/IMD2020/1dh4tu/c9qa804_0_mask.png  \n",
            "  inflating: /content/Dataset/IMD2020/1dh4tu/c9qeolo_0.jpg  \n",
            "  inflating: /content/Dataset/IMD2020/1dh4tu/c9qeolo_0_mask.png  \n",
            "  inflating: /content/Dataset/IMD2020/1dh4tu/c9qfggr_0.jpg  \n",
            "  inflating: /content/Dataset/IMD2020/1dh4tu/c9qfggr_0_mask.png  \n",
            "  inflating: /content/Dataset/IMD2020/1dh4tu/c9qh57b_0.jpg  \n",
            "  inflating: /content/Dataset/IMD2020/1dh4tu/c9qh57b_0_mask.png  \n",
            "  inflating: /content/Dataset/IMD2020/1dh4tu/c9qj2yg_0.jpg  \n",
            "  inflating: /content/Dataset/IMD2020/1dh4tu/c9qj2yg_0_mask.png  \n",
            "  inflating: /content/Dataset/IMD2020/1dh4tu/c9qjqw1_0.jpg  \n",
            "  inflating: /content/Dataset/IMD2020/1dh4tu/c9qjqw1_0_mask.png  \n",
            "   creating: /content/Dataset/IMD2020/1dh9dg/\n",
            "  inflating: /content/Dataset/IMD2020/1dh9dg/1dh9dg_orig.jpg  \n",
            "  inflating: /content/Dataset/IMD2020/1dh9dg/c9qbapf_0.jpg  \n",
            "  inflating: /content/Dataset/IMD2020/1dh9dg/c9qbapf_0_mask.png  \n",
            "  inflating: /content/Dataset/IMD2020/1dh9dg/c9qbb3c_0.jpg  \n",
            "  inflating: /content/Dataset/IMD2020/1dh9dg/c9qbb3c_0_mask.png  \n",
            "  inflating: /content/Dataset/IMD2020/1dh9dg/c9qbf36_0.jpg  \n",
            "  inflating: /content/Dataset/IMD2020/1dh9dg/c9qbf36_0_mask.png  \n",
            "  inflating: /content/Dataset/IMD2020/1dh9dg/c9qbijq_0.jpg  \n",
            "  inflating: /content/Dataset/IMD2020/1dh9dg/c9qbijq_0_mask.png  \n",
            "  inflating: /content/Dataset/IMD2020/1dh9dg/c9qbl44_0.png  \n",
            "  inflating: /content/Dataset/IMD2020/1dh9dg/c9qbl44_0_mask.png  \n",
            "  inflating: /content/Dataset/IMD2020/1dh9dg/c9qblv3_0.jpg  \n",
            "  inflating: /content/Dataset/IMD2020/1dh9dg/c9qblv3_0_mask.png  \n",
            "  inflating: /content/Dataset/IMD2020/1dh9dg/c9qbopn_0.jpg  \n",
            "  inflating: /content/Dataset/IMD2020/1dh9dg/c9qbopn_0_mask.png  \n",
            "  inflating: /content/Dataset/IMD2020/1dh9dg/c9qbqiy_0.jpg  \n",
            "  inflating: /content/Dataset/IMD2020/1dh9dg/c9qbqiy_0_mask.png  \n",
            "  inflating: /content/Dataset/IMD2020/1dh9dg/c9qbx13_0.png  \n",
            "  inflating: /content/Dataset/IMD2020/1dh9dg/c9qbx13_0_mask.png  \n",
            "  inflating: /content/Dataset/IMD2020/1dh9dg/c9qc61f_0.jpg  \n",
            "  inflating: /content/Dataset/IMD2020/1dh9dg/c9qc61f_0_mask.png  \n",
            "  inflating: /content/Dataset/IMD2020/1dh9dg/c9qcjlz_0.jpg  \n",
            "  inflating: /content/Dataset/IMD2020/1dh9dg/c9qcjlz_0_mask.png  \n",
            "  inflating: /content/Dataset/IMD2020/1dh9dg/c9qck5s_0.jpg  \n",
            "  inflating: /content/Dataset/IMD2020/1dh9dg/c9qck5s_0_mask.png  \n",
            "  inflating: /content/Dataset/IMD2020/1dh9dg/c9qclh8_0.jpg  \n",
            "  inflating: /content/Dataset/IMD2020/1dh9dg/c9qclh8_0_mask.png  \n",
            "  inflating: /content/Dataset/IMD2020/1dh9dg/c9qct83_0.png  \n",
            "  inflating: /content/Dataset/IMD2020/1dh9dg/c9qct83_0_mask.png  \n",
            "  inflating: /content/Dataset/IMD2020/1dh9dg/c9qd0uq_0.jpg  \n",
            "  inflating: /content/Dataset/IMD2020/1dh9dg/c9qd0uq_0_mask.png  \n",
            "  inflating: /content/Dataset/IMD2020/1dh9dg/c9qdz3g_0.jpg  \n",
            "  inflating: /content/Dataset/IMD2020/1dh9dg/c9qdz3g_0_mask.png  \n",
            "  inflating: /content/Dataset/IMD2020/1dh9dg/c9qf78w_0.jpg  \n",
            "  inflating: /content/Dataset/IMD2020/1dh9dg/c9qf78w_0_mask.png  \n",
            "  inflating: /content/Dataset/IMD2020/1dh9dg/c9qf8d5_0.jpg  \n",
            "  inflating: /content/Dataset/IMD2020/1dh9dg/c9qf8d5_0_mask.png  \n",
            "  inflating: /content/Dataset/IMD2020/1dh9dg/c9qfljn_0.jpg  \n",
            "  inflating: /content/Dataset/IMD2020/1dh9dg/c9qfljn_0_mask.png  \n",
            "  inflating: /content/Dataset/IMD2020/1dh9dg/c9qgjzt_0.jpg  \n",
            "  inflating: /content/Dataset/IMD2020/1dh9dg/c9qgjzt_0_mask.png  \n",
            "  inflating: /content/Dataset/IMD2020/1dh9dg/c9qgsja_0.jpg  \n",
            "  inflating: /content/Dataset/IMD2020/1dh9dg/c9qgsja_0_mask.png  \n",
            "  inflating: /content/Dataset/IMD2020/1dh9dg/c9qhgpe_0.jpg  \n",
            "  inflating: /content/Dataset/IMD2020/1dh9dg/c9qhgpe_0_mask.png  \n",
            "  inflating: /content/Dataset/IMD2020/1dh9dg/c9qhy6w_0.jpg  \n",
            "  inflating: /content/Dataset/IMD2020/1dh9dg/c9qhy6w_0_mask.png  \n",
            "  inflating: /content/Dataset/IMD2020/1dh9dg/c9qlwig_0.jpg  \n",
            "  inflating: /content/Dataset/IMD2020/1dh9dg/c9qlwig_0_mask.png  \n",
            "  inflating: /content/Dataset/IMD2020/1dh9dg/c9qlz7i_0.jpg  \n",
            "  inflating: /content/Dataset/IMD2020/1dh9dg/c9qlz7i_0_mask.png  \n",
            "  inflating: /content/Dataset/IMD2020/1dh9dg/c9qm1u8_0.jpg  \n",
            "  inflating: /content/Dataset/IMD2020/1dh9dg/c9qm1u8_0_mask.png  \n",
            "   creating: /content/Dataset/IMD2020/1dhgfj/\n",
            "  inflating: /content/Dataset/IMD2020/1dhgfj/1dhgfj_orig.jpg  \n",
            "  inflating: /content/Dataset/IMD2020/1dhgfj/c9qchcl_0.jpg  \n",
            "  inflating: /content/Dataset/IMD2020/1dhgfj/c9qchcl_0_mask.png  \n",
            "  inflating: /content/Dataset/IMD2020/1dhgfj/c9qesys_0.jpg  \n",
            "  inflating: /content/Dataset/IMD2020/1dhgfj/c9qesys_0_mask.png  \n",
            "  inflating: /content/Dataset/IMD2020/1dhgfj/c9qf9n8_0.jpg  \n",
            "  inflating: /content/Dataset/IMD2020/1dhgfj/c9qf9n8_0_mask.png  \n",
            "   creating: /content/Dataset/IMD2020/1dhobr/\n",
            "  inflating: /content/Dataset/IMD2020/1dhobr/1dhobr_orig.jpg  \n",
            "  inflating: /content/Dataset/IMD2020/1dhobr/c9qgg7m_0.png  \n",
            "  inflating: /content/Dataset/IMD2020/1dhobr/c9qgg7m_0_mask.png  \n",
            "  inflating: /content/Dataset/IMD2020/1dhobr/c9qhtma_0.jpg  \n",
            "  inflating: /content/Dataset/IMD2020/1dhobr/c9qhtma_0_mask.png  \n",
            "   creating: /content/Dataset/IMD2020/1dhs34/\n",
            "  inflating: /content/Dataset/IMD2020/1dhs34/1dhs34_orig.jpg  \n",
            "  inflating: /content/Dataset/IMD2020/1dhs34/c9ql7s0_0.jpg  \n",
            "  inflating: /content/Dataset/IMD2020/1dhs34/c9ql7s0_0_mask.png  \n",
            "   creating: /content/Dataset/IMD2020/1dhtj0/\n",
            "  inflating: /content/Dataset/IMD2020/1dhtj0/1dhtj0_orig.jpg  \n",
            "  inflating: /content/Dataset/IMD2020/1dhtj0/c9qjgce_0.jpg  \n",
            "  inflating: /content/Dataset/IMD2020/1dhtj0/c9qjgce_0_mask.png  \n",
            "   creating: /content/Dataset/IMD2020/1di4sz/\n",
            "  inflating: /content/Dataset/IMD2020/1di4sz/1di4sz_orig.jpg  \n",
            "  inflating: /content/Dataset/IMD2020/1di4sz/c9qn2pn_0.jpg  \n",
            "  inflating: /content/Dataset/IMD2020/1di4sz/c9qn2pn_0_mask.png  \n",
            "   creating: /content/Dataset/IMD2020/1dit8o/\n",
            "  inflating: /content/Dataset/IMD2020/1dit8o/1dit8o_orig.jpg  \n",
            "  inflating: /content/Dataset/IMD2020/1dit8o/c9qs50l_0.jpg  \n",
            "  inflating: /content/Dataset/IMD2020/1dit8o/c9qs50l_0_mask.png  \n",
            "  inflating: /content/Dataset/IMD2020/1dit8o/c9qu9on_0.jpg  \n",
            "  inflating: /content/Dataset/IMD2020/1dit8o/c9qu9on_0_mask.png  \n",
            "  inflating: /content/Dataset/IMD2020/1dit8o/c9qvtyc_0.jpg  \n",
            "  inflating: /content/Dataset/IMD2020/1dit8o/c9qvtyc_0_mask.png  \n",
            "  inflating: /content/Dataset/IMD2020/1dit8o/c9qwcfj_0.jpg  \n",
            "  inflating: /content/Dataset/IMD2020/1dit8o/c9qwcfj_0_mask.png  \n",
            "  inflating: /content/Dataset/IMD2020/1dit8o/c9qxrer_0.png  \n",
            "  inflating: /content/Dataset/IMD2020/1dit8o/c9qxrer_0_mask.png  \n",
            "  inflating: /content/Dataset/IMD2020/1dit8o/c9r3z04_0.jpg  \n",
            "  inflating: /content/Dataset/IMD2020/1dit8o/c9r3z04_0_mask.png  \n",
            "   creating: /content/Dataset/IMD2020/1diu8r/\n",
            "  inflating: /content/Dataset/IMD2020/1diu8r/1diu8r_orig.jpg  \n",
            "  inflating: /content/Dataset/IMD2020/1diu8r/c9qqxbn_0.jpg  \n",
            "  inflating: /content/Dataset/IMD2020/1diu8r/c9qqxbn_0_mask.png  \n",
            "   creating: /content/Dataset/IMD2020/1djggl/\n",
            "  inflating: /content/Dataset/IMD2020/1djggl/1djggl_orig.jpg  \n",
            "  inflating: /content/Dataset/IMD2020/1djggl/c9qyul2_0.jpg  \n",
            "  inflating: /content/Dataset/IMD2020/1djggl/c9qyul2_0_mask.png  \n",
            "  inflating: /content/Dataset/IMD2020/1djggl/c9qzamk_0.png  \n",
            "  inflating: /content/Dataset/IMD2020/1djggl/c9qzamk_0_mask.png  \n",
            "  inflating: /content/Dataset/IMD2020/1djggl/c9r1e51_0.jpg  \n",
            "  inflating: /content/Dataset/IMD2020/1djggl/c9r1e51_0_mask.png  \n",
            "   creating: /content/Dataset/IMD2020/1djp9t/\n",
            "  inflating: /content/Dataset/IMD2020/1djp9t/1djp9t_orig.jpg  \n",
            "  inflating: /content/Dataset/IMD2020/1djp9t/c9r01uk_0.jpg  \n",
            "  inflating: /content/Dataset/IMD2020/1djp9t/c9r01uk_0_mask.png  \n",
            "  inflating: /content/Dataset/IMD2020/1djp9t/c9r0i3p_0.jpg  \n",
            "  inflating: /content/Dataset/IMD2020/1djp9t/c9r0i3p_0_mask.png  \n",
            "  inflating: /content/Dataset/IMD2020/1djp9t/c9r11np_0.jpg  \n",
            "  inflating: /content/Dataset/IMD2020/1djp9t/c9r11np_0_mask.png  \n",
            "  inflating: /content/Dataset/IMD2020/1djp9t/c9r1x9k_0.jpg  \n",
            "  inflating: /content/Dataset/IMD2020/1djp9t/c9r1x9k_0_mask.png  \n",
            "  inflating: /content/Dataset/IMD2020/1djp9t/c9r1yor_0.jpg  \n",
            "  inflating: /content/Dataset/IMD2020/1djp9t/c9r1yor_0_mask.png  \n",
            "  inflating: /content/Dataset/IMD2020/1djp9t/c9r227u_0.jpg  \n",
            "  inflating: /content/Dataset/IMD2020/1djp9t/c9r227u_0_mask.png  \n",
            "  inflating: /content/Dataset/IMD2020/1djp9t/c9r55jp_0.jpg  \n",
            "  inflating: /content/Dataset/IMD2020/1djp9t/c9r55jp_0_mask.png  \n",
            "  inflating: /content/Dataset/IMD2020/1djp9t/c9r8my1_0.jpg  \n",
            "  inflating: /content/Dataset/IMD2020/1djp9t/c9r8my1_0_mask.png  \n",
            "   creating: /content/Dataset/IMD2020/1djqwm/\n",
            "  inflating: /content/Dataset/IMD2020/1djqwm/1djqwm_orig.jpg  \n",
            "  inflating: /content/Dataset/IMD2020/1djqwm/c9r116y_0.jpg  \n",
            "  inflating: /content/Dataset/IMD2020/1djqwm/c9r116y_0_mask.png  \n",
            "  inflating: /content/Dataset/IMD2020/1djqwm/c9r4jzf_0.jpg  \n",
            "  inflating: /content/Dataset/IMD2020/1djqwm/c9r4jzf_0_mask.png  \n",
            "  inflating: /content/Dataset/IMD2020/1djqwm/c9r4vts_0.jpg  \n",
            "  inflating: /content/Dataset/IMD2020/1djqwm/c9r4vts_0_mask.png  \n",
            "  inflating: /content/Dataset/IMD2020/1djqwm/c9r5xdn_0.jpg  \n",
            "  inflating: /content/Dataset/IMD2020/1djqwm/c9r5xdn_0_mask.png  \n",
            "  inflating: /content/Dataset/IMD2020/1djqwm/c9r6gfi_0.jpg  \n",
            "  inflating: /content/Dataset/IMD2020/1djqwm/c9r6gfi_0_mask.png  \n",
            "  inflating: /content/Dataset/IMD2020/1djqwm/c9r6r63_0.jpg  \n",
            "  inflating: /content/Dataset/IMD2020/1djqwm/c9r6r63_0_mask.png  \n",
            "  inflating: /content/Dataset/IMD2020/1djqwm/c9r6z10_0.jpg  \n",
            "  inflating: /content/Dataset/IMD2020/1djqwm/c9r6z10_0_mask.png  \n",
            "  inflating: /content/Dataset/IMD2020/1djqwm/c9r7c3k_0.jpg  \n",
            "  inflating: /content/Dataset/IMD2020/1djqwm/c9r7c3k_0_mask.png  \n",
            "  inflating: /content/Dataset/IMD2020/1djqwm/c9r7lra_0.jpg  \n",
            "  inflating: /content/Dataset/IMD2020/1djqwm/c9r7lra_0_mask.png  \n",
            "  inflating: /content/Dataset/IMD2020/1djqwm/c9r7vrf_0.jpg  \n",
            "  inflating: /content/Dataset/IMD2020/1djqwm/c9r7vrf_0_mask.png  \n",
            "  inflating: /content/Dataset/IMD2020/1djqwm/c9r8uoc_0.jpg  \n",
            "  inflating: /content/Dataset/IMD2020/1djqwm/c9r8uoc_0_mask.png  \n",
            "  inflating: /content/Dataset/IMD2020/1djqwm/c9r9pvh_0.jpg  \n",
            "  inflating: /content/Dataset/IMD2020/1djqwm/c9r9pvh_0_mask.png  \n",
            "  inflating: /content/Dataset/IMD2020/1djqwm/c9r9rgc_0.jpg  \n",
            "  inflating: /content/Dataset/IMD2020/1djqwm/c9r9rgc_0_mask.png  \n",
            "  inflating: /content/Dataset/IMD2020/1djqwm/c9raw4l_0.jpg  \n",
            "  inflating: /content/Dataset/IMD2020/1djqwm/c9raw4l_0_mask.png  \n",
            "  inflating: /content/Dataset/IMD2020/1djqwm/c9rci56_0.jpg  \n",
            "  inflating: /content/Dataset/IMD2020/1djqwm/c9rci56_0_mask.png  \n",
            "   creating: /content/Dataset/IMD2020/1djzgt/\n",
            "  inflating: /content/Dataset/IMD2020/1djzgt/1djzgt_orig.jpg  \n",
            "  inflating: /content/Dataset/IMD2020/1djzgt/c9r2mxr_0.jpg  \n",
            "  inflating: /content/Dataset/IMD2020/1djzgt/c9r2mxr_0_mask.png  \n",
            "   creating: /content/Dataset/IMD2020/1dkb0u/\n",
            "  inflating: /content/Dataset/IMD2020/1dkb0u/1dkb0u_orig.jpg  \n",
            "  inflating: /content/Dataset/IMD2020/1dkb0u/c9r63ei_0.jpg  \n",
            "  inflating: /content/Dataset/IMD2020/1dkb0u/c9r63ei_0_mask.png  \n",
            "  inflating: /content/Dataset/IMD2020/1dkb0u/c9r6ey7_0.jpg  \n",
            "  inflating: /content/Dataset/IMD2020/1dkb0u/c9r6ey7_0_mask.png  \n",
            "  inflating: /content/Dataset/IMD2020/1dkb0u/c9r72x2_0.jpg  \n",
            "  inflating: /content/Dataset/IMD2020/1dkb0u/c9r72x2_0_mask.png  \n",
            "  inflating: /content/Dataset/IMD2020/1dkb0u/c9r82u9_0.jpg  \n",
            "  inflating: /content/Dataset/IMD2020/1dkb0u/c9r82u9_0_mask.png  \n",
            "  inflating: /content/Dataset/IMD2020/1dkb0u/c9r9e1p_0.jpg  \n",
            "  inflating: /content/Dataset/IMD2020/1dkb0u/c9r9e1p_0_mask.png  \n",
            "   creating: /content/Dataset/IMD2020/1dln2g/\n",
            "  inflating: /content/Dataset/IMD2020/1dln2g/1dln2g_orig.jpg  \n",
            "  inflating: /content/Dataset/IMD2020/1dln2g/c9riqoh_0.jpg  \n",
            "  inflating: /content/Dataset/IMD2020/1dln2g/c9riqoh_0_mask.png  \n",
            "  inflating: /content/Dataset/IMD2020/1dln2g/c9riv1o_0.jpg  \n",
            "  inflating: /content/Dataset/IMD2020/1dln2g/c9riv1o_0_mask.png  \n",
            "  inflating: /content/Dataset/IMD2020/1dln2g/c9rj3zp_0.jpg  \n",
            "  inflating: /content/Dataset/IMD2020/1dln2g/c9rj3zp_0_mask.png  \n",
            "  inflating: /content/Dataset/IMD2020/1dln2g/c9rmr49_0.jpg  \n",
            "  inflating: /content/Dataset/IMD2020/1dln2g/c9rmr49_0_mask.png  \n",
            "  inflating: /content/Dataset/IMD2020/1dln2g/c9ro49b_0.jpg  \n",
            "  inflating: /content/Dataset/IMD2020/1dln2g/c9ro49b_0_mask.png  \n",
            "  inflating: /content/Dataset/IMD2020/1dln2g/c9roi3w_0.jpg  \n",
            "  inflating: /content/Dataset/IMD2020/1dln2g/c9roi3w_0_mask.png  \n",
            "  inflating: /content/Dataset/IMD2020/1dln2g/c9rp985_0.jpg  \n",
            "  inflating: /content/Dataset/IMD2020/1dln2g/c9rp985_0_mask.png  \n",
            "  inflating: /content/Dataset/IMD2020/1dln2g/c9rpaia_0.jpg  \n",
            "  inflating: /content/Dataset/IMD2020/1dln2g/c9rpaia_0_mask.png  \n",
            "  inflating: /content/Dataset/IMD2020/1dln2g/c9rrhbu_0.png  \n",
            "  inflating: /content/Dataset/IMD2020/1dln2g/c9rrhbu_0_mask.png  \n",
            "   creating: /content/Dataset/IMD2020/1dm1ic/\n",
            "  inflating: /content/Dataset/IMD2020/1dm1ic/1dm1ic_orig.jpg  \n",
            "  inflating: /content/Dataset/IMD2020/1dm1ic/c9rsftz_0.jpg  \n",
            "  inflating: /content/Dataset/IMD2020/1dm1ic/c9rsftz_0_mask.png  \n",
            "  inflating: /content/Dataset/IMD2020/1dm1ic/c9rwbtx_0.jpg  \n",
            "  inflating: /content/Dataset/IMD2020/1dm1ic/c9rwbtx_0_mask.png  \n",
            "   creating: /content/Dataset/IMD2020/1dmcqo/\n",
            "  inflating: /content/Dataset/IMD2020/1dmcqo/1dmcqo_orig.jpg  \n",
            "  inflating: /content/Dataset/IMD2020/1dmcqo/c9rorcy_0.jpg  \n",
            "  inflating: /content/Dataset/IMD2020/1dmcqo/c9rorcy_0_mask.png  \n",
            "   creating: /content/Dataset/IMD2020/1dmikm/\n",
            "  inflating: /content/Dataset/IMD2020/1dmikm/1dmikm_orig.jpg  \n",
            "  inflating: /content/Dataset/IMD2020/1dmikm/c9ru0d5_0.jpg  \n",
            "  inflating: /content/Dataset/IMD2020/1dmikm/c9ru0d5_0_mask.png  \n",
            "  inflating: /content/Dataset/IMD2020/1dmikm/c9rv3bk_0.jpg  \n",
            "  inflating: /content/Dataset/IMD2020/1dmikm/c9rv3bk_0_mask.png  \n",
            "  inflating: /content/Dataset/IMD2020/1dmikm/c9rwfag_0.jpg  \n",
            "  inflating: /content/Dataset/IMD2020/1dmikm/c9rwfag_0_mask.png  \n",
            "  inflating: /content/Dataset/IMD2020/1dmikm/c9rx5mc_0.jpg  \n",
            "  inflating: /content/Dataset/IMD2020/1dmikm/c9rx5mc_0_mask.png  \n",
            "  inflating: /content/Dataset/IMD2020/1dmikm/c9rxhks_0.jpg  \n",
            "  inflating: /content/Dataset/IMD2020/1dmikm/c9rxhks_0_mask.png  \n",
            "  inflating: /content/Dataset/IMD2020/1dmikm/c9s0iit_0.jpg  \n",
            "  inflating: /content/Dataset/IMD2020/1dmikm/c9s0iit_0_mask.png  \n",
            "  inflating: /content/Dataset/IMD2020/1dmikm/c9s2tum_0.jpg  \n",
            "  inflating: /content/Dataset/IMD2020/1dmikm/c9s2tum_0_mask.png  \n",
            "   creating: /content/Dataset/IMD2020/1dmmss/\n",
            "  inflating: /content/Dataset/IMD2020/1dmmss/1dmmss_orig.jpg  \n",
            "  inflating: /content/Dataset/IMD2020/1dmmss/c9rsjqz_0.jpg  \n",
            "  inflating: /content/Dataset/IMD2020/1dmmss/c9rsjqz_0_mask.png  \n",
            "   creating: /content/Dataset/IMD2020/1dn6vh/\n",
            "  inflating: /content/Dataset/IMD2020/1dn6vh/1dn6vh_orig.jpg  \n",
            "  inflating: /content/Dataset/IMD2020/1dn6vh/c9ryjzh_0.jpg  \n",
            "  inflating: /content/Dataset/IMD2020/1dn6vh/c9ryjzh_0_mask.png  \n",
            "  inflating: /content/Dataset/IMD2020/1dn6vh/c9rz8bm_0.jpg  \n",
            "  inflating: /content/Dataset/IMD2020/1dn6vh/c9rz8bm_0_mask.png  \n",
            "   creating: /content/Dataset/IMD2020/1dnhng/\n",
            "  inflating: /content/Dataset/IMD2020/1dnhng/1dnhng_orig.jpg  \n",
            "  inflating: /content/Dataset/IMD2020/1dnhng/c9s0eqx_0.jpg  \n",
            "  inflating: /content/Dataset/IMD2020/1dnhng/c9s0eqx_0_mask.png  \n",
            "  inflating: /content/Dataset/IMD2020/1dnhng/c9s0tj6_0.jpg  \n",
            "  inflating: /content/Dataset/IMD2020/1dnhng/c9s0tj6_0_mask.png  \n",
            "  inflating: /content/Dataset/IMD2020/1dnhng/c9s10kg_0.jpg  \n",
            "  inflating: /content/Dataset/IMD2020/1dnhng/c9s10kg_0_mask.png  \n",
            "   creating: /content/Dataset/IMD2020/1dnko6/\n",
            "  inflating: /content/Dataset/IMD2020/1dnko6/1dnko6_orig.jpg  \n",
            "  inflating: /content/Dataset/IMD2020/1dnko6/c9s5r36_0.png  \n",
            "  inflating: /content/Dataset/IMD2020/1dnko6/c9s5r36_0_mask.png  \n",
            "   creating: /content/Dataset/IMD2020/1do47w/\n",
            "  inflating: /content/Dataset/IMD2020/1do47w/1do47w_orig.jpg  \n",
            "  inflating: /content/Dataset/IMD2020/1do47w/c9s7zuv_0.jpg  \n",
            "  inflating: /content/Dataset/IMD2020/1do47w/c9s7zuv_0_mask.png  \n",
            "  inflating: /content/Dataset/IMD2020/1do47w/c9s81l3_0.jpg  \n",
            "  inflating: /content/Dataset/IMD2020/1do47w/c9s81l3_0_mask.png  \n",
            "  inflating: /content/Dataset/IMD2020/1do47w/c9s89u4_0.jpg  \n",
            "  inflating: /content/Dataset/IMD2020/1do47w/c9s89u4_0_mask.png  \n",
            "  inflating: /content/Dataset/IMD2020/1do47w/c9s8qkh_0.jpg  \n",
            "  inflating: /content/Dataset/IMD2020/1do47w/c9s8qkh_0_mask.png  \n",
            "  inflating: /content/Dataset/IMD2020/1do47w/c9saxhk_0.jpg  \n",
            "  inflating: /content/Dataset/IMD2020/1do47w/c9saxhk_0_mask.png  \n",
            "   creating: /content/Dataset/IMD2020/1doaz6/\n",
            "  inflating: /content/Dataset/IMD2020/1doaz6/1doaz6_orig.jpg  \n",
            "  inflating: /content/Dataset/IMD2020/1doaz6/c9s9ofo_0.jpg  \n",
            "  inflating: /content/Dataset/IMD2020/1doaz6/c9s9ofo_0_mask.png  \n",
            "  inflating: /content/Dataset/IMD2020/1doaz6/c9sasg7_0.jpg  \n",
            "  inflating: /content/Dataset/IMD2020/1doaz6/c9sasg7_0_mask.png  \n",
            "  inflating: /content/Dataset/IMD2020/1doaz6/c9sb09t_0.jpg  \n",
            "  inflating: /content/Dataset/IMD2020/1doaz6/c9sb09t_0_mask.png  \n",
            "  inflating: /content/Dataset/IMD2020/1doaz6/c9sbtl1_0.jpg  \n",
            "  inflating: /content/Dataset/IMD2020/1doaz6/c9sbtl1_0_mask.png  \n",
            "  inflating: /content/Dataset/IMD2020/1doaz6/c9sh0l8_0.jpg  \n",
            "  inflating: /content/Dataset/IMD2020/1doaz6/c9sh0l8_0_mask.png  \n",
            "   creating: /content/Dataset/IMD2020/1doipu/\n",
            "  inflating: /content/Dataset/IMD2020/1doipu/1doipu_orig.jpg  \n",
            "  inflating: /content/Dataset/IMD2020/1doipu/c9sevmb_0.jpg  \n",
            "  inflating: /content/Dataset/IMD2020/1doipu/c9sevmb_0_mask.png  \n",
            "   creating: /content/Dataset/IMD2020/1doo2u/\n",
            "  inflating: /content/Dataset/IMD2020/1doo2u/1doo2u_orig.jpg  \n",
            "  inflating: /content/Dataset/IMD2020/1doo2u/c9sd8lt_0.jpg  \n",
            "  inflating: /content/Dataset/IMD2020/1doo2u/c9sd8lt_0_mask.png  \n",
            "  inflating: /content/Dataset/IMD2020/1doo2u/c9sl9vi_0.jpg  \n",
            "  inflating: /content/Dataset/IMD2020/1doo2u/c9sl9vi_0_mask.png  \n",
            "  inflating: /content/Dataset/IMD2020/1doo2u/c9snzf4_0.jpg  \n",
            "  inflating: /content/Dataset/IMD2020/1doo2u/c9snzf4_0_mask.png  \n",
            "   creating: /content/Dataset/IMD2020/1dpa2u/\n",
            "  inflating: /content/Dataset/IMD2020/1dpa2u/1dpa2u_orig.jpg  \n",
            "  inflating: /content/Dataset/IMD2020/1dpa2u/c9sk4y8_0.jpg  \n",
            "  inflating: /content/Dataset/IMD2020/1dpa2u/c9sk4y8_0_mask.png  \n",
            "   creating: /content/Dataset/IMD2020/1dpeca/\n",
            "  inflating: /content/Dataset/IMD2020/1dpeca/1dpeca_orig.jpg  \n",
            "  inflating: /content/Dataset/IMD2020/1dpeca/c9skrua_0.jpg  \n",
            "  inflating: /content/Dataset/IMD2020/1dpeca/c9skrua_0_mask.png  \n",
            "  inflating: /content/Dataset/IMD2020/1dpeca/c9snbpi_0.png  \n",
            "  inflating: /content/Dataset/IMD2020/1dpeca/c9snbpi_0_mask.png  \n",
            "  inflating: /content/Dataset/IMD2020/1dpeca/c9sni90_0.jpg  \n",
            "  inflating: /content/Dataset/IMD2020/1dpeca/c9sni90_0_mask.png  \n",
            "  inflating: /content/Dataset/IMD2020/1dpeca/c9sol61_0.png  \n",
            "  inflating: /content/Dataset/IMD2020/1dpeca/c9sol61_0_mask.png  \n",
            "   creating: /content/Dataset/IMD2020/1dpme2/\n",
            "  inflating: /content/Dataset/IMD2020/1dpme2/1dpme2_orig.jpg  \n",
            "  inflating: /content/Dataset/IMD2020/1dpme2/c9slrk8_0.jpg  \n",
            "  inflating: /content/Dataset/IMD2020/1dpme2/c9slrk8_0_mask.png  \n",
            "   creating: /content/Dataset/IMD2020/1dpo10/\n",
            "  inflating: /content/Dataset/IMD2020/1dpo10/1dpo10_orig.jpg  \n",
            "  inflating: /content/Dataset/IMD2020/1dpo10/c9smbbb_0.jpg  \n",
            "  inflating: /content/Dataset/IMD2020/1dpo10/c9smbbb_0_mask.png  \n",
            "  inflating: /content/Dataset/IMD2020/1dpo10/c9smxwp_0.jpg  \n",
            "  inflating: /content/Dataset/IMD2020/1dpo10/c9smxwp_0_mask.png  \n",
            "  inflating: /content/Dataset/IMD2020/1dpo10/c9spdmn_0.jpg  \n",
            "  inflating: /content/Dataset/IMD2020/1dpo10/c9spdmn_0_mask.png  \n",
            "  inflating: /content/Dataset/IMD2020/1dpo10/c9sq9wb_0.png  \n",
            "  inflating: /content/Dataset/IMD2020/1dpo10/c9sq9wb_0_mask.png  \n",
            "  inflating: /content/Dataset/IMD2020/1dpo10/c9ssolx_0.jpg  \n",
            "  inflating: /content/Dataset/IMD2020/1dpo10/c9ssolx_0_mask.png  \n",
            "  inflating: /content/Dataset/IMD2020/1dpo10/c9swoak_0.jpg  \n",
            "  inflating: /content/Dataset/IMD2020/1dpo10/c9swoak_0_mask.png  \n",
            "   creating: /content/Dataset/IMD2020/1dqcce/\n",
            "  inflating: /content/Dataset/IMD2020/1dqcce/1dqcce_orig.jpg  \n",
            "  inflating: /content/Dataset/IMD2020/1dqcce/c9sxszx_0.jpg  \n",
            "  inflating: /content/Dataset/IMD2020/1dqcce/c9sxszx_0_mask.png  \n",
            "  inflating: /content/Dataset/IMD2020/1dqcce/c9syk85_0.jpg  \n",
            "  inflating: /content/Dataset/IMD2020/1dqcce/c9syk85_0_mask.png  \n",
            "  inflating: /content/Dataset/IMD2020/1dqcce/c9sz63f_0.jpg  \n",
            "  inflating: /content/Dataset/IMD2020/1dqcce/c9sz63f_0_mask.png  \n",
            "  inflating: /content/Dataset/IMD2020/1dqcce/c9szqbq_0.jpg  \n",
            "  inflating: /content/Dataset/IMD2020/1dqcce/c9szqbq_0_mask.png  \n",
            "  inflating: /content/Dataset/IMD2020/1dqcce/c9szyfw_0.png  \n",
            "  inflating: /content/Dataset/IMD2020/1dqcce/c9szyfw_0_mask.png  \n",
            "  inflating: /content/Dataset/IMD2020/1dqcce/c9t18zw_0.jpg  \n",
            "  inflating: /content/Dataset/IMD2020/1dqcce/c9t18zw_0_mask.png  \n",
            "  inflating: /content/Dataset/IMD2020/1dqcce/c9t32sp_0.png  \n",
            "  inflating: /content/Dataset/IMD2020/1dqcce/c9t32sp_0_mask.png  \n",
            "  inflating: /content/Dataset/IMD2020/1dqcce/c9t5fpp_0.jpg  \n",
            "  inflating: /content/Dataset/IMD2020/1dqcce/c9t5fpp_0_mask.png  \n",
            "   creating: /content/Dataset/IMD2020/1dqd7u/\n",
            "  inflating: /content/Dataset/IMD2020/1dqd7u/1dqd7u_orig.jpg  \n",
            "  inflating: /content/Dataset/IMD2020/1dqd7u/c9stktv_0.jpg  \n",
            "  inflating: /content/Dataset/IMD2020/1dqd7u/c9stktv_0_mask.png  \n",
            "  inflating: /content/Dataset/IMD2020/1dqd7u/c9sujg5_0.jpg  \n",
            "  inflating: /content/Dataset/IMD2020/1dqd7u/c9sujg5_0_mask.png  \n",
            "  inflating: /content/Dataset/IMD2020/1dqd7u/c9sut3r_0.jpg  \n",
            "  inflating: /content/Dataset/IMD2020/1dqd7u/c9sut3r_0_mask.png  \n",
            "  inflating: /content/Dataset/IMD2020/1dqd7u/c9sv7jw_0.jpg  \n",
            "  inflating: /content/Dataset/IMD2020/1dqd7u/c9sv7jw_0_mask.png  \n",
            "  inflating: /content/Dataset/IMD2020/1dqd7u/c9t11zo_0.jpg  \n",
            "  inflating: /content/Dataset/IMD2020/1dqd7u/c9t11zo_0_mask.png  \n",
            "   creating: /content/Dataset/IMD2020/1dqg84/\n",
            "  inflating: /content/Dataset/IMD2020/1dqg84/1dqg84_orig.jpg  \n",
            "  inflating: /content/Dataset/IMD2020/1dqg84/c9svxax_0.jpg  \n",
            "  inflating: /content/Dataset/IMD2020/1dqg84/c9svxax_0_mask.png  \n",
            "  inflating: /content/Dataset/IMD2020/1dqg84/c9swpes_0.jpg  \n",
            "  inflating: /content/Dataset/IMD2020/1dqg84/c9swpes_0_mask.png  \n",
            "  inflating: /content/Dataset/IMD2020/1dqg84/c9swxup_0.jpg  \n",
            "  inflating: /content/Dataset/IMD2020/1dqg84/c9swxup_0_mask.png  \n",
            "  inflating: /content/Dataset/IMD2020/1dqg84/c9sx6lo_0.jpg  \n",
            "  inflating: /content/Dataset/IMD2020/1dqg84/c9sx6lo_0_mask.png  \n",
            "  inflating: /content/Dataset/IMD2020/1dqg84/c9sx82c_0.jpg  \n",
            "  inflating: /content/Dataset/IMD2020/1dqg84/c9sx82c_0_mask.png  \n",
            "  inflating: /content/Dataset/IMD2020/1dqg84/c9sxsh2_0.jpg  \n",
            "  inflating: /content/Dataset/IMD2020/1dqg84/c9sxsh2_0_mask.png  \n",
            "  inflating: /content/Dataset/IMD2020/1dqg84/c9sxugb_0.jpg  \n",
            "  inflating: /content/Dataset/IMD2020/1dqg84/c9sxugb_0_mask.png  \n",
            "  inflating: /content/Dataset/IMD2020/1dqg84/c9sxwk6_0.png  \n",
            "  inflating: /content/Dataset/IMD2020/1dqg84/c9sxwk6_0_mask.png  \n",
            "  inflating: /content/Dataset/IMD2020/1dqg84/c9sxwtn_0.jpg  \n",
            "  inflating: /content/Dataset/IMD2020/1dqg84/c9sxwtn_0_mask.png  \n",
            "  inflating: /content/Dataset/IMD2020/1dqg84/c9syfrn_0.jpg  \n",
            "  inflating: /content/Dataset/IMD2020/1dqg84/c9syfrn_0_mask.png  \n",
            "  inflating: /content/Dataset/IMD2020/1dqg84/c9syx9t_0.jpg  \n",
            "  inflating: /content/Dataset/IMD2020/1dqg84/c9syx9t_0_mask.png  \n",
            "  inflating: /content/Dataset/IMD2020/1dqg84/c9sznzx_0.jpg  \n",
            "  inflating: /content/Dataset/IMD2020/1dqg84/c9sznzx_0_mask.png  \n",
            "  inflating: /content/Dataset/IMD2020/1dqg84/c9t0nzc_0.png  \n",
            "  inflating: /content/Dataset/IMD2020/1dqg84/c9t0nzc_0_mask.png  \n",
            "   creating: /content/Dataset/IMD2020/1dqmdg/\n",
            "  inflating: /content/Dataset/IMD2020/1dqmdg/1dqmdg_orig.jpg  \n",
            "  inflating: /content/Dataset/IMD2020/1dqmdg/c9svxp7_0.png  \n",
            "  inflating: /content/Dataset/IMD2020/1dqmdg/c9svxp7_0_mask.png  \n",
            "   creating: /content/Dataset/IMD2020/1dqtd8/\n",
            "  inflating: /content/Dataset/IMD2020/1dqtd8/1dqtd8_orig.jpg  \n",
            "  inflating: /content/Dataset/IMD2020/1dqtd8/c9sydmi_0.jpg  \n",
            "  inflating: /content/Dataset/IMD2020/1dqtd8/c9sydmi_0_mask.png  \n",
            "   creating: /content/Dataset/IMD2020/1dqwyl/\n",
            "  inflating: /content/Dataset/IMD2020/1dqwyl/1dqwyl_orig.jpg  \n",
            "  inflating: /content/Dataset/IMD2020/1dqwyl/c9t2l1i_0.jpg  \n",
            "  inflating: /content/Dataset/IMD2020/1dqwyl/c9t2l1i_0_mask.png  \n",
            "  inflating: /content/Dataset/IMD2020/1dqwyl/c9t4d4m_0.jpg  \n",
            "  inflating: /content/Dataset/IMD2020/1dqwyl/c9t4d4m_0_mask.png  \n",
            "  inflating: /content/Dataset/IMD2020/1dqwyl/c9t4vnq_0.jpg  \n",
            "  inflating: /content/Dataset/IMD2020/1dqwyl/c9t4vnq_0_mask.png  \n",
            "  inflating: /content/Dataset/IMD2020/1dqwyl/c9t57ny_0.jpg  \n",
            "  inflating: /content/Dataset/IMD2020/1dqwyl/c9t57ny_0_mask.png  \n",
            "  inflating: /content/Dataset/IMD2020/1dqwyl/c9t5bpb_0.jpg  \n",
            "  inflating: /content/Dataset/IMD2020/1dqwyl/c9t5bpb_0_mask.png  \n",
            "  inflating: /content/Dataset/IMD2020/1dqwyl/c9t5y36_0.jpg  \n",
            "  inflating: /content/Dataset/IMD2020/1dqwyl/c9t5y36_0_mask.png  \n",
            "  inflating: /content/Dataset/IMD2020/1dqwyl/c9t6w7g_0.jpg  \n",
            "  inflating: /content/Dataset/IMD2020/1dqwyl/c9t6w7g_0_mask.png  \n",
            "  inflating: /content/Dataset/IMD2020/1dqwyl/c9tc1u1_0.jpg  \n",
            "  inflating: /content/Dataset/IMD2020/1dqwyl/c9tc1u1_0_mask.png  \n",
            "   creating: /content/Dataset/IMD2020/1drczk/\n",
            "  inflating: /content/Dataset/IMD2020/1drczk/1drczk_orig.jpg  \n",
            "  inflating: /content/Dataset/IMD2020/1drczk/c9t437l_0.jpg  \n",
            "  inflating: /content/Dataset/IMD2020/1drczk/c9t437l_0_mask.png  \n",
            "   creating: /content/Dataset/IMD2020/1ds4ao/\n",
            "  inflating: /content/Dataset/IMD2020/1ds4ao/1ds4ao_orig.jpg  \n",
            "  inflating: /content/Dataset/IMD2020/1ds4ao/c9td4wy_0.jpg  \n",
            "  inflating: /content/Dataset/IMD2020/1ds4ao/c9td4wy_0_mask.png  \n",
            "  inflating: /content/Dataset/IMD2020/1ds4ao/c9telos_0.jpg  \n",
            "  inflating: /content/Dataset/IMD2020/1ds4ao/c9telos_0_mask.png  \n",
            "  inflating: /content/Dataset/IMD2020/1ds4ao/c9teyfk_0.jpg  \n",
            "  inflating: /content/Dataset/IMD2020/1ds4ao/c9teyfk_0_mask.png  \n",
            "  inflating: /content/Dataset/IMD2020/1ds4ao/c9tgf50_0.png  \n",
            "  inflating: /content/Dataset/IMD2020/1ds4ao/c9tgf50_0_mask.png  \n",
            "  inflating: /content/Dataset/IMD2020/1ds4ao/c9th08v_0.jpg  \n",
            "  inflating: /content/Dataset/IMD2020/1ds4ao/c9th08v_0_mask.png  \n",
            "  inflating: /content/Dataset/IMD2020/1ds4ao/c9thhyx_0.jpg  \n",
            "  inflating: /content/Dataset/IMD2020/1ds4ao/c9thhyx_0_mask.png  \n",
            "   creating: /content/Dataset/IMD2020/1dsr0p/\n",
            "  inflating: /content/Dataset/IMD2020/1dsr0p/1dsr0p_orig.jpg  \n",
            "  inflating: /content/Dataset/IMD2020/1dsr0p/c9ti2l5_0.jpg  \n",
            "  inflating: /content/Dataset/IMD2020/1dsr0p/c9ti2l5_0_mask.png  \n",
            "  inflating: /content/Dataset/IMD2020/1dsr0p/c9tivpo_0.png  \n",
            "  inflating: /content/Dataset/IMD2020/1dsr0p/c9tivpo_0_mask.png  \n",
            "  inflating: /content/Dataset/IMD2020/1dsr0p/c9tjpep_0.jpg  \n",
            "  inflating: /content/Dataset/IMD2020/1dsr0p/c9tjpep_0_mask.png  \n",
            "  inflating: /content/Dataset/IMD2020/1dsr0p/c9tl14w_0.png  \n",
            "  inflating: /content/Dataset/IMD2020/1dsr0p/c9tl14w_0_mask.png  \n",
            "  inflating: /content/Dataset/IMD2020/1dsr0p/c9tmqeu_0.jpg  \n",
            "  inflating: /content/Dataset/IMD2020/1dsr0p/c9tmqeu_0_mask.png  \n",
            "   creating: /content/Dataset/IMD2020/1dswqr/\n",
            "  inflating: /content/Dataset/IMD2020/1dswqr/1dswqr_orig.jpg  \n",
            "  inflating: /content/Dataset/IMD2020/1dswqr/c9tm0rs_0.jpg  \n",
            "  inflating: /content/Dataset/IMD2020/1dswqr/c9tm0rs_0_mask.png  \n",
            "   creating: /content/Dataset/IMD2020/1dtll6/\n",
            "  inflating: /content/Dataset/IMD2020/1dtll6/1dtll6_orig.jpg  \n",
            "  inflating: /content/Dataset/IMD2020/1dtll6/c9trg08_0.jpg  \n",
            "  inflating: /content/Dataset/IMD2020/1dtll6/c9trg08_0_mask.png  \n",
            "  inflating: /content/Dataset/IMD2020/1dtll6/c9tz09a_0.jpg  \n",
            "  inflating: /content/Dataset/IMD2020/1dtll6/c9tz09a_0_mask.png  \n",
            "   creating: /content/Dataset/IMD2020/1du8jo/\n",
            "  inflating: /content/Dataset/IMD2020/1du8jo/1du8jo_orig.jpg  \n",
            "  inflating: /content/Dataset/IMD2020/1du8jo/c9tzpit_0.jpg  \n",
            "  inflating: /content/Dataset/IMD2020/1du8jo/c9tzpit_0_mask.png  \n",
            "  inflating: /content/Dataset/IMD2020/1du8jo/c9u4rvj_0.jpg  \n",
            "  inflating: /content/Dataset/IMD2020/1du8jo/c9u4rvj_0_mask.png  \n",
            "   creating: /content/Dataset/IMD2020/1duja4/\n",
            "  inflating: /content/Dataset/IMD2020/1duja4/1duja4_orig.jpg  \n",
            "  inflating: /content/Dataset/IMD2020/1duja4/c9u17mo_0.jpg  \n",
            "  inflating: /content/Dataset/IMD2020/1duja4/c9u17mo_0_mask.png  \n",
            "  inflating: /content/Dataset/IMD2020/1duja4/c9u4fdo_0.jpg  \n",
            "  inflating: /content/Dataset/IMD2020/1duja4/c9u4fdo_0_mask.png  \n",
            "  inflating: /content/Dataset/IMD2020/1duja4/c9u8l4u_0.jpg  \n",
            "  inflating: /content/Dataset/IMD2020/1duja4/c9u8l4u_0_mask.png  \n",
            "   creating: /content/Dataset/IMD2020/1dunwx/\n",
            "  inflating: /content/Dataset/IMD2020/1dunwx/1dunwx_orig.jpg  \n",
            "  inflating: /content/Dataset/IMD2020/1dunwx/c9u55gy_0.jpg  \n",
            "  inflating: /content/Dataset/IMD2020/1dunwx/c9u55gy_0_mask.png  \n",
            "   creating: /content/Dataset/IMD2020/1duygu/\n",
            "  inflating: /content/Dataset/IMD2020/1duygu/1duygu_orig.jpg  \n",
            "  inflating: /content/Dataset/IMD2020/1duygu/c9u2w1w_0.png  \n",
            "  inflating: /content/Dataset/IMD2020/1duygu/c9u2w1w_0_mask.png  \n",
            "  inflating: /content/Dataset/IMD2020/1duygu/c9u513b_0.jpg  \n",
            "  inflating: /content/Dataset/IMD2020/1duygu/c9u513b_0_mask.png  \n",
            "  inflating: /content/Dataset/IMD2020/1duygu/c9u54ff_0.jpg  \n",
            "  inflating: /content/Dataset/IMD2020/1duygu/c9u54ff_0_mask.png  \n",
            "  inflating: /content/Dataset/IMD2020/1duygu/c9u63t1_0.jpg  \n",
            "  inflating: /content/Dataset/IMD2020/1duygu/c9u63t1_0_mask.png  \n",
            "  inflating: /content/Dataset/IMD2020/1duygu/c9u7myf_0.jpg  \n",
            "  inflating: /content/Dataset/IMD2020/1duygu/c9u7myf_0_mask.png  \n",
            "   creating: /content/Dataset/IMD2020/1dv6ms/\n",
            "  inflating: /content/Dataset/IMD2020/1dv6ms/1dv6ms_orig.jpg  \n",
            "  inflating: /content/Dataset/IMD2020/1dv6ms/c9u5f90_0.jpg  \n",
            "  inflating: /content/Dataset/IMD2020/1dv6ms/c9u5f90_0_mask.png  \n",
            "  inflating: /content/Dataset/IMD2020/1dv6ms/c9u5rax_0.jpg  \n",
            "  inflating: /content/Dataset/IMD2020/1dv6ms/c9u5rax_0_mask.png  \n",
            "  inflating: /content/Dataset/IMD2020/1dv6ms/c9u6xhp_0.jpg  \n",
            "  inflating: /content/Dataset/IMD2020/1dv6ms/c9u6xhp_0_mask.png  \n",
            "  inflating: /content/Dataset/IMD2020/1dv6ms/c9u8n2n_0.png  \n",
            "  inflating: /content/Dataset/IMD2020/1dv6ms/c9u8n2n_0_mask.png  \n",
            "   creating: /content/Dataset/IMD2020/1dva5e/\n",
            "  inflating: /content/Dataset/IMD2020/1dva5e/1dva5e_orig.jpg  \n",
            "  inflating: /content/Dataset/IMD2020/1dva5e/c9u6r0p_0.jpg  \n",
            "  inflating: /content/Dataset/IMD2020/1dva5e/c9u6r0p_0_mask.png  \n",
            "  inflating: /content/Dataset/IMD2020/1dva5e/c9u6sk6_0.jpg  \n",
            "  inflating: /content/Dataset/IMD2020/1dva5e/c9u6sk6_0_mask.png  \n",
            "  inflating: /content/Dataset/IMD2020/1dva5e/c9u6u6a_0.jpg  \n",
            "  inflating: /content/Dataset/IMD2020/1dva5e/c9u6u6a_0_mask.png  \n",
            "  inflating: /content/Dataset/IMD2020/1dva5e/c9u7cgz_0.jpg  \n",
            "  inflating: /content/Dataset/IMD2020/1dva5e/c9u7cgz_0_mask.png  \n",
            "  inflating: /content/Dataset/IMD2020/1dva5e/c9u8hhh_0.jpg  \n",
            "  inflating: /content/Dataset/IMD2020/1dva5e/c9u8hhh_0_mask.png  \n",
            "  inflating: /content/Dataset/IMD2020/1dva5e/c9uaypt_0.jpg  \n",
            "  inflating: /content/Dataset/IMD2020/1dva5e/c9uaypt_0_mask.png  \n",
            "  inflating: /content/Dataset/IMD2020/1dva5e/c9ucsmp_0.jpg  \n",
            "  inflating: /content/Dataset/IMD2020/1dva5e/c9ucsmp_0_mask.png  \n",
            "  inflating: /content/Dataset/IMD2020/1dva5e/c9uep5n_0.jpg  \n",
            "  inflating: /content/Dataset/IMD2020/1dva5e/c9uep5n_0_mask.png  \n",
            "  inflating: /content/Dataset/IMD2020/1dva5e/c9uj2fl_0.png  \n",
            "  inflating: /content/Dataset/IMD2020/1dva5e/c9uj2fl_0_mask.png  \n",
            "   creating: /content/Dataset/IMD2020/1dvi1f/\n",
            "  inflating: /content/Dataset/IMD2020/1dvi1f/1dvi1f_orig.jpg  \n",
            "  inflating: /content/Dataset/IMD2020/1dvi1f/c9u8wpx_0.jpg  \n",
            "  inflating: /content/Dataset/IMD2020/1dvi1f/c9u8wpx_0_mask.png  \n",
            "  inflating: /content/Dataset/IMD2020/1dvi1f/c9u90oo_0.jpg  \n",
            "  inflating: /content/Dataset/IMD2020/1dvi1f/c9u90oo_0_mask.png  \n",
            "  inflating: /content/Dataset/IMD2020/1dvi1f/c9ua527_0.jpg  \n",
            "  inflating: /content/Dataset/IMD2020/1dvi1f/c9ua527_0_mask.png  \n",
            "  inflating: /content/Dataset/IMD2020/1dvi1f/c9uanxz_0.jpg  \n",
            "  inflating: /content/Dataset/IMD2020/1dvi1f/c9uanxz_0_mask.png  \n",
            "  inflating: /content/Dataset/IMD2020/1dvi1f/c9uaxgp_0.png  \n",
            "  inflating: /content/Dataset/IMD2020/1dvi1f/c9uaxgp_0_mask.png  \n",
            "  inflating: /content/Dataset/IMD2020/1dvi1f/c9ub2de_0.jpg  \n",
            "  inflating: /content/Dataset/IMD2020/1dvi1f/c9ub2de_0_mask.png  \n",
            "  inflating: /content/Dataset/IMD2020/1dvi1f/c9ub2k7_0.jpg  \n",
            "  inflating: /content/Dataset/IMD2020/1dvi1f/c9ub2k7_0_mask.png  \n",
            "  inflating: /content/Dataset/IMD2020/1dvi1f/c9udub9_0.jpg  \n",
            "  inflating: /content/Dataset/IMD2020/1dvi1f/c9udub9_0_mask.png  \n",
            "  inflating: /content/Dataset/IMD2020/1dvi1f/c9umoqv_0.jpg  \n",
            "  inflating: /content/Dataset/IMD2020/1dvi1f/c9umoqv_0_mask.png  \n",
            "   creating: /content/Dataset/IMD2020/1dvqal/\n",
            "  inflating: /content/Dataset/IMD2020/1dvqal/1dvqal_orig.jpg  \n",
            "  inflating: /content/Dataset/IMD2020/1dvqal/c9ub6j6_0.jpg  \n",
            "  inflating: /content/Dataset/IMD2020/1dvqal/c9ub6j6_0_mask.png  \n",
            "  inflating: /content/Dataset/IMD2020/1dvqal/c9ulmme_0.jpg  \n",
            "  inflating: /content/Dataset/IMD2020/1dvqal/c9ulmme_0_mask.png  \n",
            "  inflating: /content/Dataset/IMD2020/1dvqal/c9uonxh_0.jpg  \n",
            "  inflating: /content/Dataset/IMD2020/1dvqal/c9uonxh_0_mask.png  \n",
            "  inflating: /content/Dataset/IMD2020/1dvqal/c9uyxnv_0.png  \n",
            "  inflating: /content/Dataset/IMD2020/1dvqal/c9uyxnv_0_mask.png  \n",
            "   creating: /content/Dataset/IMD2020/1dvu5a/\n",
            "  inflating: /content/Dataset/IMD2020/1dvu5a/1dvu5a_orig.jpg  \n",
            "  inflating: /content/Dataset/IMD2020/1dvu5a/c9ubdgk_0.jpg  \n",
            "  inflating: /content/Dataset/IMD2020/1dvu5a/c9ubdgk_0_mask.png  \n",
            "   creating: /content/Dataset/IMD2020/1dxfa0/\n",
            "  inflating: /content/Dataset/IMD2020/1dxfa0/1dxfa0_orig.jpg  \n",
            "  inflating: /content/Dataset/IMD2020/1dxfa0/c9urh6i_0.jpg  \n",
            "  inflating: /content/Dataset/IMD2020/1dxfa0/c9urh6i_0_mask.png  \n",
            "  inflating: /content/Dataset/IMD2020/1dxfa0/c9urhu8_0.jpg  \n",
            "  inflating: /content/Dataset/IMD2020/1dxfa0/c9urhu8_0_mask.png  \n",
            "   creating: /content/Dataset/IMD2020/1dxi3r/\n",
            "  inflating: /content/Dataset/IMD2020/1dxi3r/1dxi3r_orig.jpg  \n",
            "  inflating: /content/Dataset/IMD2020/1dxi3r/c9uti5t_0.jpg  \n",
            "  inflating: /content/Dataset/IMD2020/1dxi3r/c9uti5t_0_mask.png  \n",
            "  inflating: /content/Dataset/IMD2020/1dxi3r/c9uud5o_0.png  \n",
            "  inflating: /content/Dataset/IMD2020/1dxi3r/c9uud5o_0_mask.png  \n",
            "  inflating: /content/Dataset/IMD2020/1dxi3r/c9uudgq_0.jpg  \n",
            "  inflating: /content/Dataset/IMD2020/1dxi3r/c9uudgq_0_mask.png  \n",
            "  inflating: /content/Dataset/IMD2020/1dxi3r/c9uuuw6_0.jpg  \n",
            "  inflating: /content/Dataset/IMD2020/1dxi3r/c9uuuw6_0_mask.png  \n",
            "  inflating: /content/Dataset/IMD2020/1dxi3r/c9uv39w_0.png  \n",
            "  inflating: /content/Dataset/IMD2020/1dxi3r/c9uv39w_0_mask.png  \n",
            "  inflating: /content/Dataset/IMD2020/1dxi3r/c9uv7su_0.jpg  \n",
            "  inflating: /content/Dataset/IMD2020/1dxi3r/c9uv7su_0_mask.png  \n",
            "  inflating: /content/Dataset/IMD2020/1dxi3r/c9uvkos_0.jpg  \n",
            "  inflating: /content/Dataset/IMD2020/1dxi3r/c9uvkos_0_mask.png  \n",
            "  inflating: /content/Dataset/IMD2020/1dxi3r/c9uvsh0_0.png  \n",
            "  inflating: /content/Dataset/IMD2020/1dxi3r/c9uvsh0_0_mask.png  \n",
            "  inflating: /content/Dataset/IMD2020/1dxi3r/c9uwpsx_0.jpg  \n",
            "  inflating: /content/Dataset/IMD2020/1dxi3r/c9uwpsx_0_mask.png  \n",
            "  inflating: /content/Dataset/IMD2020/1dxi3r/c9uwqce_0.jpg  \n",
            "  inflating: /content/Dataset/IMD2020/1dxi3r/c9uwqce_0_mask.png  \n",
            "  inflating: /content/Dataset/IMD2020/1dxi3r/c9uwqsh_0.jpg  \n",
            "  inflating: /content/Dataset/IMD2020/1dxi3r/c9uwqsh_0_mask.png  \n",
            "  inflating: /content/Dataset/IMD2020/1dxi3r/c9uwssv_0.jpg  \n",
            "  inflating: /content/Dataset/IMD2020/1dxi3r/c9uwssv_0_mask.png  \n",
            "  inflating: /content/Dataset/IMD2020/1dxi3r/c9v219b_0.jpg  \n",
            "  inflating: /content/Dataset/IMD2020/1dxi3r/c9v219b_0_mask.png  \n",
            "  inflating: /content/Dataset/IMD2020/1dxi3r/c9v2juf_0.jpg  \n",
            "  inflating: /content/Dataset/IMD2020/1dxi3r/c9v2juf_0_mask.png  \n",
            "  inflating: /content/Dataset/IMD2020/1dxi3r/c9v4hpr_0.jpg  \n",
            "  inflating: /content/Dataset/IMD2020/1dxi3r/c9v4hpr_0_mask.png  \n",
            "  inflating: /content/Dataset/IMD2020/1dxi3r/c9v4jj6_0.png  \n",
            "  inflating: /content/Dataset/IMD2020/1dxi3r/c9v4jj6_0_mask.png  \n",
            "   creating: /content/Dataset/IMD2020/1dxsir/\n",
            "  inflating: /content/Dataset/IMD2020/1dxsir/1dxsir_orig.jpg  \n",
            "  inflating: /content/Dataset/IMD2020/1dxsir/c9uux1l_0.jpg  \n",
            "  inflating: /content/Dataset/IMD2020/1dxsir/c9uux1l_0_mask.png  \n",
            "  inflating: /content/Dataset/IMD2020/1dxsir/c9uvpds_0.jpg  \n",
            "  inflating: /content/Dataset/IMD2020/1dxsir/c9uvpds_0_mask.png  \n",
            "  inflating: /content/Dataset/IMD2020/1dxsir/c9uvrvt_0.jpg  \n",
            "  inflating: /content/Dataset/IMD2020/1dxsir/c9uvrvt_0_mask.png  \n",
            "  inflating: /content/Dataset/IMD2020/1dxsir/c9uwhhl_0.jpg  \n",
            "  inflating: /content/Dataset/IMD2020/1dxsir/c9uwhhl_0_mask.png  \n",
            "   creating: /content/Dataset/IMD2020/1dyeps/\n",
            "  inflating: /content/Dataset/IMD2020/1dyeps/1dyeps_orig.jpg  \n",
            "  inflating: /content/Dataset/IMD2020/1dyeps/c9v35ql_0.jpg  \n",
            "  inflating: /content/Dataset/IMD2020/1dyeps/c9v35ql_0_mask.png  \n",
            "  inflating: /content/Dataset/IMD2020/1dyeps/c9v5ckc_0.jpg  \n",
            "  inflating: /content/Dataset/IMD2020/1dyeps/c9v5ckc_0_mask.png  \n",
            "   creating: /content/Dataset/IMD2020/1dynz4/\n",
            "  inflating: /content/Dataset/IMD2020/1dynz4/1dynz4_orig.jpg  \n",
            "  inflating: /content/Dataset/IMD2020/1dynz4/c9v6alw_0.jpg  \n",
            "  inflating: /content/Dataset/IMD2020/1dynz4/c9v6alw_0_mask.png  \n",
            "   creating: /content/Dataset/IMD2020/1dz63z/\n",
            "  inflating: /content/Dataset/IMD2020/1dz63z/1dz63z_orig.jpg  \n",
            "  inflating: /content/Dataset/IMD2020/1dz63z/c9va3n9_0.jpg  \n",
            "  inflating: /content/Dataset/IMD2020/1dz63z/c9va3n9_0_mask.png  \n",
            "  inflating: /content/Dataset/IMD2020/1dz63z/c9vax7w_0.jpg  \n",
            "  inflating: /content/Dataset/IMD2020/1dz63z/c9vax7w_0_mask.png  \n",
            "  inflating: /content/Dataset/IMD2020/1dz63z/c9vb73a_0.jpg  \n",
            "  inflating: /content/Dataset/IMD2020/1dz63z/c9vb73a_0_mask.png  \n",
            "  inflating: /content/Dataset/IMD2020/1dz63z/c9vbhkz_0.jpg  \n",
            "  inflating: /content/Dataset/IMD2020/1dz63z/c9vbhkz_0_mask.png  \n",
            "  inflating: /content/Dataset/IMD2020/1dz63z/c9vbuxe_0.jpg  \n",
            "  inflating: /content/Dataset/IMD2020/1dz63z/c9vbuxe_0_mask.png  \n",
            "  inflating: /content/Dataset/IMD2020/1dz63z/c9vcuci_0.jpg  \n",
            "  inflating: /content/Dataset/IMD2020/1dz63z/c9vcuci_0_mask.png  \n",
            "   creating: /content/Dataset/IMD2020/1dzfup/\n",
            "  inflating: /content/Dataset/IMD2020/1dzfup/1dzfup_orig.jpg  \n",
            "  inflating: /content/Dataset/IMD2020/1dzfup/c9vc8b8_0.jpg  \n",
            "  inflating: /content/Dataset/IMD2020/1dzfup/c9vc8b8_0_mask.png  \n",
            "  inflating: /content/Dataset/IMD2020/1dzfup/c9ved2o_0.png  \n",
            "  inflating: /content/Dataset/IMD2020/1dzfup/c9ved2o_0_mask.png  \n",
            "  inflating: /content/Dataset/IMD2020/1dzfup/c9vftfw_0.jpg  \n",
            "  inflating: /content/Dataset/IMD2020/1dzfup/c9vftfw_0_mask.png  \n",
            "  inflating: /content/Dataset/IMD2020/1dzfup/c9vg2t9_0.jpg  \n",
            "  inflating: /content/Dataset/IMD2020/1dzfup/c9vg2t9_0_mask.png  \n",
            "  inflating: /content/Dataset/IMD2020/1dzfup/c9vhc8k_0.jpg  \n",
            "  inflating: /content/Dataset/IMD2020/1dzfup/c9vhc8k_0_mask.png  \n",
            "  inflating: /content/Dataset/IMD2020/1dzfup/c9vk8ni_0.jpg  \n",
            "  inflating: /content/Dataset/IMD2020/1dzfup/c9vk8ni_0_mask.png  \n",
            "  inflating: /content/Dataset/IMD2020/1dzfup/c9vl1l0_0.jpg  \n",
            "  inflating: /content/Dataset/IMD2020/1dzfup/c9vl1l0_0_mask.png  \n",
            "   creating: /content/Dataset/IMD2020/1dzjwl/\n",
            "  inflating: /content/Dataset/IMD2020/1dzjwl/1dzjwl_orig.jpg  \n",
            "  inflating: /content/Dataset/IMD2020/1dzjwl/c9vgr3d_0.jpg  \n",
            "  inflating: /content/Dataset/IMD2020/1dzjwl/c9vgr3d_0_mask.png  \n",
            "  inflating: /content/Dataset/IMD2020/1dzjwl/c9vin2j_0.png  \n",
            "  inflating: /content/Dataset/IMD2020/1dzjwl/c9vin2j_0_mask.png  \n",
            "  inflating: /content/Dataset/IMD2020/1dzjwl/c9virda_0.jpg  \n",
            "  inflating: /content/Dataset/IMD2020/1dzjwl/c9virda_0_mask.png  \n",
            "   creating: /content/Dataset/IMD2020/1dzykv/\n",
            "  inflating: /content/Dataset/IMD2020/1dzykv/1dzykv_orig.jpg  \n",
            "  inflating: /content/Dataset/IMD2020/1dzykv/c9vhnha_0.jpg  \n",
            "  inflating: /content/Dataset/IMD2020/1dzykv/c9vhnha_0_mask.png  \n",
            "  inflating: /content/Dataset/IMD2020/1dzykv/c9vljl0_0.jpg  \n",
            "  inflating: /content/Dataset/IMD2020/1dzykv/c9vljl0_0_mask.png  \n",
            "   creating: /content/Dataset/IMD2020/1e0ffx/\n",
            "  inflating: /content/Dataset/IMD2020/1e0ffx/1e0ffx_orig.jpg  \n",
            "  inflating: /content/Dataset/IMD2020/1e0ffx/c9vmmk9_0.jpg  \n",
            "  inflating: /content/Dataset/IMD2020/1e0ffx/c9vmmk9_0_mask.png  \n",
            "   creating: /content/Dataset/IMD2020/1e0jr4/\n",
            "  inflating: /content/Dataset/IMD2020/1e0jr4/1e0jr4_orig.jpg  \n",
            "  inflating: /content/Dataset/IMD2020/1e0jr4/c9vp3og_0.jpg  \n",
            "  inflating: /content/Dataset/IMD2020/1e0jr4/c9vp3og_0_mask.png  \n",
            "  inflating: /content/Dataset/IMD2020/1e0jr4/c9vp8tl_0.png  \n",
            "  inflating: /content/Dataset/IMD2020/1e0jr4/c9vp8tl_0_mask.png  \n",
            "  inflating: /content/Dataset/IMD2020/1e0jr4/c9vqeru_0.png  \n",
            "  inflating: /content/Dataset/IMD2020/1e0jr4/c9vqeru_0_mask.png  \n",
            "  inflating: /content/Dataset/IMD2020/1e0jr4/c9vrg7j_0.png  \n",
            "  inflating: /content/Dataset/IMD2020/1e0jr4/c9vrg7j_0_mask.png  \n",
            "  inflating: /content/Dataset/IMD2020/1e0jr4/c9vruzp_0.jpg  \n",
            "  inflating: /content/Dataset/IMD2020/1e0jr4/c9vruzp_0_mask.png  \n",
            "  inflating: /content/Dataset/IMD2020/1e0jr4/c9vsemx_0.jpg  \n",
            "  inflating: /content/Dataset/IMD2020/1e0jr4/c9vsemx_0_mask.png  \n",
            "  inflating: /content/Dataset/IMD2020/1e0jr4/c9vwn9s_0.jpg  \n",
            "  inflating: /content/Dataset/IMD2020/1e0jr4/c9vwn9s_0_mask.png  \n",
            "  inflating: /content/Dataset/IMD2020/1e0jr4/c9w33a8_0.jpg  \n",
            "  inflating: /content/Dataset/IMD2020/1e0jr4/c9w33a8_0_mask.png  \n",
            "   creating: /content/Dataset/IMD2020/1e0zat/\n",
            "  inflating: /content/Dataset/IMD2020/1e0zat/1e0zat_orig.jpg  \n",
            "  inflating: /content/Dataset/IMD2020/1e0zat/c9vwn43_0.jpg  \n",
            "  inflating: /content/Dataset/IMD2020/1e0zat/c9vwn43_0_mask.png  \n",
            "   creating: /content/Dataset/IMD2020/1e1wq5/\n",
            "  inflating: /content/Dataset/IMD2020/1e1wq5/1e1wq5_orig.jpg  \n",
            "  inflating: /content/Dataset/IMD2020/1e1wq5/c9w2r6t_0.jpg  \n",
            "  inflating: /content/Dataset/IMD2020/1e1wq5/c9w2r6t_0_mask.png  \n",
            "   creating: /content/Dataset/IMD2020/1e2gla/\n",
            "  inflating: /content/Dataset/IMD2020/1e2gla/1e2gla_orig.jpg  \n",
            "  inflating: /content/Dataset/IMD2020/1e2gla/c9w5t18_0.jpg  \n",
            "  inflating: /content/Dataset/IMD2020/1e2gla/c9w5t18_0_mask.png  \n",
            "  inflating: /content/Dataset/IMD2020/1e2gla/c9w82t9_0.jpg  \n",
            "  inflating: /content/Dataset/IMD2020/1e2gla/c9w82t9_0_mask.png  \n",
            "  inflating: /content/Dataset/IMD2020/1e2gla/c9w9u7a_0.jpg  \n",
            "  inflating: /content/Dataset/IMD2020/1e2gla/c9w9u7a_0_mask.png  \n",
            "  inflating: /content/Dataset/IMD2020/1e2gla/c9wakel_0.jpg  \n",
            "  inflating: /content/Dataset/IMD2020/1e2gla/c9wakel_0_mask.png  \n",
            "  inflating: /content/Dataset/IMD2020/1e2gla/c9wbc6o_0.jpg  \n",
            "  inflating: /content/Dataset/IMD2020/1e2gla/c9wbc6o_0_mask.png  \n",
            "  inflating: /content/Dataset/IMD2020/1e2gla/c9wcr42_0.jpg  \n",
            "  inflating: /content/Dataset/IMD2020/1e2gla/c9wcr42_0_mask.png  \n",
            "  inflating: /content/Dataset/IMD2020/1e2gla/c9wf4dc_0.jpg  \n",
            "  inflating: /content/Dataset/IMD2020/1e2gla/c9wf4dc_0_mask.png  \n",
            "   creating: /content/Dataset/IMD2020/1e2ic4/\n",
            "  inflating: /content/Dataset/IMD2020/1e2ic4/1e2ic4_orig.jpg  \n",
            "  inflating: /content/Dataset/IMD2020/1e2ic4/c9wa696_0.jpg  \n",
            "  inflating: /content/Dataset/IMD2020/1e2ic4/c9wa696_0_mask.png  \n",
            "   creating: /content/Dataset/IMD2020/1e2n3i/\n",
            "  inflating: /content/Dataset/IMD2020/1e2n3i/1e2n3i_orig.jpg  \n",
            "  inflating: /content/Dataset/IMD2020/1e2n3i/c9w6rkl_0.jpg  \n",
            "  inflating: /content/Dataset/IMD2020/1e2n3i/c9w6rkl_0_mask.png  \n",
            "  inflating: /content/Dataset/IMD2020/1e2n3i/c9w7716_0.jpg  \n",
            "  inflating: /content/Dataset/IMD2020/1e2n3i/c9w7716_0_mask.png  \n",
            "  inflating: /content/Dataset/IMD2020/1e2n3i/c9w8w2m_0.jpg  \n",
            "  inflating: /content/Dataset/IMD2020/1e2n3i/c9w8w2m_0_mask.png  \n",
            "  inflating: /content/Dataset/IMD2020/1e2n3i/c9w96uz_0.jpg  \n",
            "  inflating: /content/Dataset/IMD2020/1e2n3i/c9w96uz_0_mask.png  \n",
            "  inflating: /content/Dataset/IMD2020/1e2n3i/c9way1w_0.jpg  \n",
            "  inflating: /content/Dataset/IMD2020/1e2n3i/c9way1w_0_mask.png  \n",
            "  inflating: /content/Dataset/IMD2020/1e2n3i/c9wcfo6_0.jpg  \n",
            "  inflating: /content/Dataset/IMD2020/1e2n3i/c9wcfo6_0_mask.png  \n",
            "  inflating: /content/Dataset/IMD2020/1e2n3i/c9wi5uo_0.png  \n",
            "  inflating: /content/Dataset/IMD2020/1e2n3i/c9wi5uo_0_mask.png  \n",
            "   creating: /content/Dataset/IMD2020/1e4fj8/\n",
            "  inflating: /content/Dataset/IMD2020/1e4fj8/1e4fj8_orig.jpg  \n",
            "  inflating: /content/Dataset/IMD2020/1e4fj8/c9wp96y_0.jpg  \n",
            "  inflating: /content/Dataset/IMD2020/1e4fj8/c9wp96y_0_mask.png  \n",
            "  inflating: /content/Dataset/IMD2020/1e4fj8/c9wpjvq_0.jpg  \n",
            "  inflating: /content/Dataset/IMD2020/1e4fj8/c9wpjvq_0_mask.png  \n",
            "  inflating: /content/Dataset/IMD2020/1e4fj8/c9wpljd_0.jpg  \n",
            "  inflating: /content/Dataset/IMD2020/1e4fj8/c9wpljd_0_mask.png  \n",
            "  inflating: /content/Dataset/IMD2020/1e4fj8/c9wqghc_0.jpg  \n",
            "  inflating: /content/Dataset/IMD2020/1e4fj8/c9wqghc_0_mask.png  \n",
            "  inflating: /content/Dataset/IMD2020/1e4fj8/c9wr2m9_0.jpg  \n",
            "  inflating: /content/Dataset/IMD2020/1e4fj8/c9wr2m9_0_mask.png  \n",
            "  inflating: /content/Dataset/IMD2020/1e4fj8/c9wrd8e_0.jpg  \n",
            "  inflating: /content/Dataset/IMD2020/1e4fj8/c9wrd8e_0_mask.png  \n",
            "  inflating: /content/Dataset/IMD2020/1e4fj8/c9ws5r0_0.jpg  \n",
            "  inflating: /content/Dataset/IMD2020/1e4fj8/c9ws5r0_0_mask.png  \n",
            "  inflating: /content/Dataset/IMD2020/1e4fj8/c9wua2z_0.jpg  \n",
            "  inflating: /content/Dataset/IMD2020/1e4fj8/c9wua2z_0_mask.png  \n",
            "  inflating: /content/Dataset/IMD2020/1e4fj8/c9wwhov_0.jpg  \n",
            "  inflating: /content/Dataset/IMD2020/1e4fj8/c9wwhov_0_mask.png  \n",
            "  inflating: /content/Dataset/IMD2020/1e4fj8/c9wxubr_0.jpg  \n",
            "  inflating: /content/Dataset/IMD2020/1e4fj8/c9wxubr_0_mask.png  \n",
            "  inflating: /content/Dataset/IMD2020/1e4fj8/c9wybvp_0.jpg  \n",
            "  inflating: /content/Dataset/IMD2020/1e4fj8/c9wybvp_0_mask.png  \n",
            "   creating: /content/Dataset/IMD2020/1e5jsy/\n",
            "  inflating: /content/Dataset/IMD2020/1e5jsy/1e5jsy_orig.jpg  \n",
            "  inflating: /content/Dataset/IMD2020/1e5jsy/c9x24tr_0.jpg  \n",
            "  inflating: /content/Dataset/IMD2020/1e5jsy/c9x24tr_0_mask.png  \n",
            "  inflating: /content/Dataset/IMD2020/1e5jsy/c9x67wt_0.jpg  \n",
            "  inflating: /content/Dataset/IMD2020/1e5jsy/c9x67wt_0_mask.png  \n",
            "   creating: /content/Dataset/IMD2020/1e5ofv/\n",
            "  inflating: /content/Dataset/IMD2020/1e5ofv/1e5ofv_orig.jpg  \n",
            "  inflating: /content/Dataset/IMD2020/1e5ofv/c9x7jrj_0.jpg  \n",
            "  inflating: /content/Dataset/IMD2020/1e5ofv/c9x7jrj_0_mask.png  \n",
            "   creating: /content/Dataset/IMD2020/1e5qxb/\n",
            "  inflating: /content/Dataset/IMD2020/1e5qxb/1e5qxb_orig.jpg  \n",
            "  inflating: /content/Dataset/IMD2020/1e5qxb/c9x31z7_0.png  \n",
            "  inflating: /content/Dataset/IMD2020/1e5qxb/c9x31z7_0_mask.png  \n",
            "  inflating: /content/Dataset/IMD2020/1e5qxb/c9x50xh_0.jpg  \n",
            "  inflating: /content/Dataset/IMD2020/1e5qxb/c9x50xh_0_mask.png  \n",
            "   creating: /content/Dataset/IMD2020/1e6gw3/\n",
            "  inflating: /content/Dataset/IMD2020/1e6gw3/1e6gw3_orig.jpg  \n",
            "  inflating: /content/Dataset/IMD2020/1e6gw3/c9xa55l_0.jpg  \n",
            "  inflating: /content/Dataset/IMD2020/1e6gw3/c9xa55l_0_mask.png  \n",
            "   creating: /content/Dataset/IMD2020/1e6s35/\n",
            "  inflating: /content/Dataset/IMD2020/1e6s35/1e6s35_orig.jpg  \n",
            "  inflating: /content/Dataset/IMD2020/1e6s35/c9xd4rq_0.jpg  \n",
            "  inflating: /content/Dataset/IMD2020/1e6s35/c9xd4rq_0_mask.png  \n",
            "   creating: /content/Dataset/IMD2020/1e6tmo/\n",
            "  inflating: /content/Dataset/IMD2020/1e6tmo/1e6tmo_orig.jpg  \n",
            "  inflating: /content/Dataset/IMD2020/1e6tmo/c9xdfvu_0.jpg  \n",
            "  inflating: /content/Dataset/IMD2020/1e6tmo/c9xdfvu_0_mask.png  \n",
            "  inflating: /content/Dataset/IMD2020/1e6tmo/c9xdmhf_0.jpg  \n",
            "  inflating: /content/Dataset/IMD2020/1e6tmo/c9xdmhf_0_mask.png  \n",
            "  inflating: /content/Dataset/IMD2020/1e6tmo/c9xdp5v_0.jpg  \n",
            "  inflating: /content/Dataset/IMD2020/1e6tmo/c9xdp5v_0_mask.png  \n",
            "  inflating: /content/Dataset/IMD2020/1e6tmo/c9xdu1a_0.png  \n",
            "  inflating: /content/Dataset/IMD2020/1e6tmo/c9xdu1a_0_mask.png  \n",
            "  inflating: /content/Dataset/IMD2020/1e6tmo/c9xe80s_0.jpg  \n",
            "  inflating: /content/Dataset/IMD2020/1e6tmo/c9xe80s_0_mask.png  \n",
            "  inflating: /content/Dataset/IMD2020/1e6tmo/c9xegom_0.png  \n",
            "  inflating: /content/Dataset/IMD2020/1e6tmo/c9xegom_0_mask.png  \n",
            "  inflating: /content/Dataset/IMD2020/1e6tmo/c9xfdz5_0.jpg  \n",
            "  inflating: /content/Dataset/IMD2020/1e6tmo/c9xfdz5_0_mask.png  \n",
            "  inflating: /content/Dataset/IMD2020/1e6tmo/c9xfmme_0.jpg  \n",
            "  inflating: /content/Dataset/IMD2020/1e6tmo/c9xfmme_0_mask.png  \n",
            "  inflating: /content/Dataset/IMD2020/1e6tmo/c9xfzri_0.jpg  \n",
            "  inflating: /content/Dataset/IMD2020/1e6tmo/c9xfzri_0_mask.png  \n",
            "  inflating: /content/Dataset/IMD2020/1e6tmo/c9xhn4w_0.jpg  \n",
            "  inflating: /content/Dataset/IMD2020/1e6tmo/c9xhn4w_0_mask.png  \n",
            "  inflating: /content/Dataset/IMD2020/1e6tmo/c9xi6ts_0.jpg  \n",
            "  inflating: /content/Dataset/IMD2020/1e6tmo/c9xi6ts_0_mask.png  \n",
            "  inflating: /content/Dataset/IMD2020/1e6tmo/c9xl2zu_0.jpg  \n",
            "  inflating: /content/Dataset/IMD2020/1e6tmo/c9xl2zu_0_mask.png  \n",
            "  inflating: /content/Dataset/IMD2020/1e6tmo/c9xo089_0.jpg  \n",
            "  inflating: /content/Dataset/IMD2020/1e6tmo/c9xo089_0_mask.png  \n",
            "   creating: /content/Dataset/IMD2020/1e6vy8/\n",
            "  inflating: /content/Dataset/IMD2020/1e6vy8/1e6vy8_orig.jpg  \n",
            "  inflating: /content/Dataset/IMD2020/1e6vy8/c9xgn8b_0.jpg  \n",
            "  inflating: /content/Dataset/IMD2020/1e6vy8/c9xgn8b_0_mask.png  \n",
            "   creating: /content/Dataset/IMD2020/1e7hp5/\n",
            "  inflating: /content/Dataset/IMD2020/1e7hp5/1e7hp5_orig.jpg  \n",
            "  inflating: /content/Dataset/IMD2020/1e7hp5/c9xkpkx_0.jpg  \n",
            "  inflating: /content/Dataset/IMD2020/1e7hp5/c9xkpkx_0_mask.png  \n",
            "   creating: /content/Dataset/IMD2020/1e8iwm/\n",
            "  inflating: /content/Dataset/IMD2020/1e8iwm/1e8iwm_orig.jpg  \n",
            "  inflating: /content/Dataset/IMD2020/1e8iwm/c9xt8lv_0.jpg  \n",
            "  inflating: /content/Dataset/IMD2020/1e8iwm/c9xt8lv_0_mask.png  \n",
            "  inflating: /content/Dataset/IMD2020/1e8iwm/c9xup2p_0.png  \n",
            "  inflating: /content/Dataset/IMD2020/1e8iwm/c9xup2p_0_mask.png  \n",
            "  inflating: /content/Dataset/IMD2020/1e8iwm/c9xuxck_0.jpg  \n",
            "  inflating: /content/Dataset/IMD2020/1e8iwm/c9xuxck_0_mask.png  \n",
            "  inflating: /content/Dataset/IMD2020/1e8iwm/c9xv7da_0.jpg  \n",
            "  inflating: /content/Dataset/IMD2020/1e8iwm/c9xv7da_0_mask.png  \n",
            "  inflating: /content/Dataset/IMD2020/1e8iwm/c9xwa8e_0.jpg  \n",
            "  inflating: /content/Dataset/IMD2020/1e8iwm/c9xwa8e_0_mask.png  \n",
            "   creating: /content/Dataset/IMD2020/1ch2bt/\n",
            "  inflating: /content/Dataset/IMD2020/1ch2bt/1ch2bt_orig.jpg  \n",
            "  inflating: /content/Dataset/IMD2020/1ch2bt/c9ggl99_0.jpg  \n",
            "  inflating: /content/Dataset/IMD2020/1ch2bt/c9ggl99_0_mask.png  \n",
            "  inflating: /content/Dataset/IMD2020/1ch2bt/c9gmqwd_0.png  \n",
            "  inflating: /content/Dataset/IMD2020/1ch2bt/c9gmqwd_0_mask.png  \n",
            "  inflating: /content/Dataset/IMD2020/1ch2bt/c9gn0vx_0.jpg  \n",
            "  inflating: /content/Dataset/IMD2020/1ch2bt/c9gn0vx_0_mask.png  \n",
            "   creating: /content/Dataset/IMD2020/1chfs0/\n",
            "  inflating: /content/Dataset/IMD2020/1chfs0/1chfs0_orig.jpg  \n",
            "  inflating: /content/Dataset/IMD2020/1chfs0/c9gjago_0.jpg  \n",
            "  inflating: /content/Dataset/IMD2020/1chfs0/c9gjago_0_mask.png  \n",
            "  inflating: /content/Dataset/IMD2020/1chfs0/c9gl75j_0.jpg  \n",
            "  inflating: /content/Dataset/IMD2020/1chfs0/c9gl75j_0_mask.png  \n",
            "  inflating: /content/Dataset/IMD2020/1chfs0/c9glbxq_0.jpg  \n",
            "  inflating: /content/Dataset/IMD2020/1chfs0/c9glbxq_0_mask.png  \n",
            "  inflating: /content/Dataset/IMD2020/1chfs0/c9grcz4_0.jpg  \n",
            "  inflating: /content/Dataset/IMD2020/1chfs0/c9grcz4_0_mask.png  \n",
            "  inflating: /content/Dataset/IMD2020/1chfs0/c9gss1i_0.jpg  \n",
            "  inflating: /content/Dataset/IMD2020/1chfs0/c9gss1i_0_mask.png  \n",
            "  inflating: /content/Dataset/IMD2020/1chfs0/c9gtq1e_0.jpg  \n",
            "  inflating: /content/Dataset/IMD2020/1chfs0/c9gtq1e_0_mask.png  \n",
            "   creating: /content/Dataset/IMD2020/1chs2a/\n",
            "  inflating: /content/Dataset/IMD2020/1chs2a/1chs2a_orig.jpg  \n",
            "  inflating: /content/Dataset/IMD2020/1chs2a/c9grv2t_0.jpg  \n",
            "  inflating: /content/Dataset/IMD2020/1chs2a/c9grv2t_0_mask.png  \n",
            "  inflating: /content/Dataset/IMD2020/1chs2a/c9gs7bm_0.png  \n",
            "  inflating: /content/Dataset/IMD2020/1chs2a/c9gs7bm_0_mask.png  \n",
            "  inflating: /content/Dataset/IMD2020/1chs2a/c9gsyda_0.jpg  \n",
            "  inflating: /content/Dataset/IMD2020/1chs2a/c9gsyda_0_mask.png  \n",
            "  inflating: /content/Dataset/IMD2020/1chs2a/c9gtkcd_0.jpg  \n",
            "  inflating: /content/Dataset/IMD2020/1chs2a/c9gtkcd_0_mask.png  \n",
            "  inflating: /content/Dataset/IMD2020/1chs2a/c9gtlnu_0.jpg  \n",
            "  inflating: /content/Dataset/IMD2020/1chs2a/c9gtlnu_0_mask.png  \n",
            "  inflating: /content/Dataset/IMD2020/1chs2a/c9gw35r_0.jpg  \n",
            "  inflating: /content/Dataset/IMD2020/1chs2a/c9gw35r_0_mask.png  \n",
            "   creating: /content/Dataset/IMD2020/1chuq3/\n",
            "  inflating: /content/Dataset/IMD2020/1chuq3/1chuq3_orig.jpg  \n",
            "  inflating: /content/Dataset/IMD2020/1chuq3/c9gmtbg_0.jpg  \n",
            "  inflating: /content/Dataset/IMD2020/1chuq3/c9gmtbg_0_mask.png  \n",
            "  inflating: /content/Dataset/IMD2020/1chuq3/c9gn94z_0.jpg  \n",
            "  inflating: /content/Dataset/IMD2020/1chuq3/c9gn94z_0_mask.png  \n",
            "   creating: /content/Dataset/IMD2020/z2/\n",
            "  inflating: /content/Dataset/IMD2020/z2/00006_fake.jpg  \n",
            "  inflating: /content/Dataset/IMD2020/z2/00006_fake_mask.png  \n",
            "  inflating: /content/Dataset/IMD2020/z2/00006_orig.jpg  \n",
            "   creating: /content/Dataset/IMD2020/z3/\n",
            "  inflating: /content/Dataset/IMD2020/z3/00009_fake.jpg  \n",
            "  inflating: /content/Dataset/IMD2020/z3/00009_fake_mask.png  \n",
            "  inflating: /content/Dataset/IMD2020/z3/00009_orig.jpg  \n",
            "   creating: /content/Dataset/IMD2020/z4/\n",
            "  inflating: /content/Dataset/IMD2020/z4/00010_fake_01.jpg  \n",
            "  inflating: /content/Dataset/IMD2020/z4/00010_fake_01_mask.png  \n",
            "  inflating: /content/Dataset/IMD2020/z4/00010_fake_02.png  \n",
            "  inflating: /content/Dataset/IMD2020/z4/00010_fake_02_mask.png  \n",
            "  inflating: /content/Dataset/IMD2020/z4/00010_orig.jpg  \n",
            "   creating: /content/Dataset/IMD2020/z5/\n",
            "  inflating: /content/Dataset/IMD2020/z5/00022_fake.jpg  \n",
            "  inflating: /content/Dataset/IMD2020/z5/00022_fake_mask.png  \n",
            "  inflating: /content/Dataset/IMD2020/z5/00022_orig.jpg  \n",
            "   creating: /content/Dataset/IMD2020/z6/\n",
            "  inflating: /content/Dataset/IMD2020/z6/00011_fake.jpg  \n",
            "  inflating: /content/Dataset/IMD2020/z6/00011_fake_mask.png  \n",
            "  inflating: /content/Dataset/IMD2020/z6/00011_orig.jpg  \n",
            "   creating: /content/Dataset/IMD2020/z7/\n",
            "  inflating: /content/Dataset/IMD2020/z7/00015_fake.jpg  \n",
            "  inflating: /content/Dataset/IMD2020/z7/00015_fake_mask.png  \n",
            "  inflating: /content/Dataset/IMD2020/z7/00015_orig.jpg  \n",
            "   creating: /content/Dataset/IMD2020/z8/\n",
            "  inflating: /content/Dataset/IMD2020/z8/00016_fake.jpg  \n",
            "  inflating: /content/Dataset/IMD2020/z8/00016_fake_mask.png  \n",
            "  inflating: /content/Dataset/IMD2020/z8/00016_orig.jpg  \n",
            "   creating: /content/Dataset/IMD2020/z9/\n",
            "  inflating: /content/Dataset/IMD2020/z9/00018_fake.jpg  \n",
            "  inflating: /content/Dataset/IMD2020/z9/00018_fake_mask.png  \n",
            "  inflating: /content/Dataset/IMD2020/z9/00018_orig.jpg  \n",
            "   creating: /content/Dataset/IMD2020/z10/\n",
            "  inflating: /content/Dataset/IMD2020/z10/00021_fake.jpg  \n",
            "  inflating: /content/Dataset/IMD2020/z10/00021_fake_mask.png  \n",
            "  inflating: /content/Dataset/IMD2020/z10/00021_orig.jpg  \n",
            "   creating: /content/Dataset/IMD2020/z11/\n",
            "  inflating: /content/Dataset/IMD2020/z11/00024_fake.jpg  \n",
            "  inflating: /content/Dataset/IMD2020/z11/00024_fake_mask.png  \n",
            "  inflating: /content/Dataset/IMD2020/z11/00024_orig.jpg  \n",
            "   creating: /content/Dataset/IMD2020/z12/\n",
            "  inflating: /content/Dataset/IMD2020/z12/00027_fake.jpg  \n",
            "  inflating: /content/Dataset/IMD2020/z12/00027_fake_mask.png  \n",
            "  inflating: /content/Dataset/IMD2020/z12/00027_orig.jpg  \n",
            "   creating: /content/Dataset/IMD2020/z13/\n",
            "  inflating: /content/Dataset/IMD2020/z13/00028_fake.jpg  \n",
            "  inflating: /content/Dataset/IMD2020/z13/00028_fake_mask.png  \n",
            "  inflating: /content/Dataset/IMD2020/z13/00028_orig.jpg  \n",
            "   creating: /content/Dataset/IMD2020/z14/\n",
            "  inflating: /content/Dataset/IMD2020/z14/00030_fake.jpg  \n",
            "  inflating: /content/Dataset/IMD2020/z14/00030_fake_mask.png  \n",
            "  inflating: /content/Dataset/IMD2020/z14/00030_orig.jpg  \n",
            "   creating: /content/Dataset/IMD2020/z15/\n",
            "  inflating: /content/Dataset/IMD2020/z15/00031_fake.jpg  \n",
            "  inflating: /content/Dataset/IMD2020/z15/00031_fake_mask.png  \n",
            "  inflating: /content/Dataset/IMD2020/z15/00031_orig.jpg  \n",
            "   creating: /content/Dataset/IMD2020/z16/\n",
            "  inflating: /content/Dataset/IMD2020/z16/00032_fake.jpg  \n",
            "  inflating: /content/Dataset/IMD2020/z16/00032_fake_mask.png  \n",
            "  inflating: /content/Dataset/IMD2020/z16/00032_orig.jpg  \n",
            "   creating: /content/Dataset/IMD2020/z17/\n",
            "  inflating: /content/Dataset/IMD2020/z17/00035_fake.jpg  \n",
            "  inflating: /content/Dataset/IMD2020/z17/00035_fake_mask.png  \n",
            "  inflating: /content/Dataset/IMD2020/z17/00035_orig.jpg  \n",
            "   creating: /content/Dataset/IMD2020/z18/\n",
            "  inflating: /content/Dataset/IMD2020/z18/00036_fake.jpg  \n",
            "  inflating: /content/Dataset/IMD2020/z18/00036_fake_mask.png  \n",
            "  inflating: /content/Dataset/IMD2020/z18/00036_orig.jpg  \n",
            "   creating: /content/Dataset/IMD2020/z19/\n",
            "  inflating: /content/Dataset/IMD2020/z19/00037_fake.jpg  \n",
            "  inflating: /content/Dataset/IMD2020/z19/00037_fake_mask.png  \n",
            "  inflating: /content/Dataset/IMD2020/z19/00037_orig.jpg  \n",
            "   creating: /content/Dataset/IMD2020/z20/\n",
            "  inflating: /content/Dataset/IMD2020/z20/00041_fake.jpg  \n",
            "  inflating: /content/Dataset/IMD2020/z20/00041_fake_mask.png  \n",
            "  inflating: /content/Dataset/IMD2020/z20/00041_orig.jpg  \n",
            "   creating: /content/Dataset/IMD2020/z21/\n",
            "  inflating: /content/Dataset/IMD2020/z21/00044_fake.jpg  \n",
            "  inflating: /content/Dataset/IMD2020/z21/00044_fake_mask.png  \n",
            "  inflating: /content/Dataset/IMD2020/z21/00044_orig.jpg  \n",
            "   creating: /content/Dataset/IMD2020/z22/\n",
            "  inflating: /content/Dataset/IMD2020/z22/00047_fake_01.jpg  \n",
            "  inflating: /content/Dataset/IMD2020/z22/00047_fake_01_mask.png  \n",
            "  inflating: /content/Dataset/IMD2020/z22/00047_fake_02.jpg  \n",
            "  inflating: /content/Dataset/IMD2020/z22/00047_fake_02_mask.png  \n",
            "  inflating: /content/Dataset/IMD2020/z22/00047_orig.jpg  \n",
            "   creating: /content/Dataset/IMD2020/z23/\n",
            "  inflating: /content/Dataset/IMD2020/z23/00050_fake.jpg  \n",
            "  inflating: /content/Dataset/IMD2020/z23/00050_fake_mask.png  \n",
            "  inflating: /content/Dataset/IMD2020/z23/00050_orig.jpg  \n",
            "   creating: /content/Dataset/IMD2020/z24/\n",
            "  inflating: /content/Dataset/IMD2020/z24/00056_fake.jpg  \n",
            "  inflating: /content/Dataset/IMD2020/z24/00056_fake_mask.png  \n",
            "  inflating: /content/Dataset/IMD2020/z24/00056_orig.jpg  \n",
            "   creating: /content/Dataset/IMD2020/z25/\n",
            "  inflating: /content/Dataset/IMD2020/z25/00057_fake.jpg  \n",
            "  inflating: /content/Dataset/IMD2020/z25/00057_fake_mask.png  \n",
            "  inflating: /content/Dataset/IMD2020/z25/00057_orig.jpg  \n",
            "   creating: /content/Dataset/IMD2020/z26/\n",
            "  inflating: /content/Dataset/IMD2020/z26/00059_fake.jpg  \n",
            "  inflating: /content/Dataset/IMD2020/z26/00059_fake_mask.png  \n",
            "  inflating: /content/Dataset/IMD2020/z26/00059_orig.jpg  \n",
            "   creating: /content/Dataset/IMD2020/z27/\n",
            "  inflating: /content/Dataset/IMD2020/z27/00064_fake.jpg  \n",
            "  inflating: /content/Dataset/IMD2020/z27/00064_fake_mask.png  \n",
            "  inflating: /content/Dataset/IMD2020/z27/00064_orig.jpg  \n",
            "   creating: /content/Dataset/IMD2020/z28/\n",
            "  inflating: /content/Dataset/IMD2020/z28/00065_fake.jpg  \n",
            "  inflating: /content/Dataset/IMD2020/z28/00065_fake_mask.png  \n",
            "  inflating: /content/Dataset/IMD2020/z28/00065_orig.jpg  \n",
            "   creating: /content/Dataset/IMD2020/z29/\n",
            "  inflating: /content/Dataset/IMD2020/z29/00073_fake.jpg  \n",
            "  inflating: /content/Dataset/IMD2020/z29/00073_fake_mask.png  \n",
            "  inflating: /content/Dataset/IMD2020/z29/00073_orig.jpg  \n",
            "   creating: /content/Dataset/IMD2020/z30/\n",
            "  inflating: /content/Dataset/IMD2020/z30/00076_fake.jpg  \n",
            "  inflating: /content/Dataset/IMD2020/z30/00076_fake_mask.png  \n",
            "  inflating: /content/Dataset/IMD2020/z30/00076_orig.jpg  \n",
            "   creating: /content/Dataset/IMD2020/z31/\n",
            "  inflating: /content/Dataset/IMD2020/z31/00079_fake.jpg  \n",
            "  inflating: /content/Dataset/IMD2020/z31/00079_fake_mask.png  \n",
            "  inflating: /content/Dataset/IMD2020/z31/00079_orig.jpg  \n",
            "   creating: /content/Dataset/IMD2020/z32/\n",
            "  inflating: /content/Dataset/IMD2020/z32/00087_fake.jpg  \n",
            "  inflating: /content/Dataset/IMD2020/z32/00087_fake_mask.png  \n",
            "  inflating: /content/Dataset/IMD2020/z32/00087_orig.jpg  \n",
            "   creating: /content/Dataset/IMD2020/z33/\n",
            "  inflating: /content/Dataset/IMD2020/z33/00088_fake.jpg  \n",
            "  inflating: /content/Dataset/IMD2020/z33/00088_fake_mask.png  \n",
            "  inflating: /content/Dataset/IMD2020/z33/00088_orig.jpg  \n",
            "   creating: /content/Dataset/IMD2020/z34/\n",
            "  inflating: /content/Dataset/IMD2020/z34/00089_fake.jpg  \n",
            "  inflating: /content/Dataset/IMD2020/z34/00089_fake_mask.png  \n",
            "  inflating: /content/Dataset/IMD2020/z34/00089_orig.jpg  \n",
            "   creating: /content/Dataset/IMD2020/z35/\n",
            "  inflating: /content/Dataset/IMD2020/z35/00090_fake.jpg  \n",
            "  inflating: /content/Dataset/IMD2020/z35/00090_fake_mask.png  \n",
            "  inflating: /content/Dataset/IMD2020/z35/00090_orig.jpg  \n",
            "   creating: /content/Dataset/IMD2020/z36/\n",
            "  inflating: /content/Dataset/IMD2020/z36/00095_fake.jpg  \n",
            "  inflating: /content/Dataset/IMD2020/z36/00095_fake_mask.png  \n",
            "  inflating: /content/Dataset/IMD2020/z36/00095_orig.jpg  \n",
            "   creating: /content/Dataset/IMD2020/z37/\n",
            "  inflating: /content/Dataset/IMD2020/z37/00097_fake.jpg  \n",
            "  inflating: /content/Dataset/IMD2020/z37/00097_fake_mask.png  \n",
            "  inflating: /content/Dataset/IMD2020/z37/00097_orig.jpg  \n",
            "   creating: /content/Dataset/IMD2020/z38/\n",
            "  inflating: /content/Dataset/IMD2020/z38/00099_fake.jpg  \n",
            "  inflating: /content/Dataset/IMD2020/z38/00099_fake_mask.png  \n",
            "  inflating: /content/Dataset/IMD2020/z38/00099_orig.jpg  \n",
            "   creating: /content/Dataset/IMD2020/z39/\n",
            "  inflating: /content/Dataset/IMD2020/z39/00104_fake.jpg  \n",
            "  inflating: /content/Dataset/IMD2020/z39/00104_fake_mask.png  \n",
            "  inflating: /content/Dataset/IMD2020/z39/00104_orig.jpg  \n",
            "   creating: /content/Dataset/IMD2020/z40/\n",
            "  inflating: /content/Dataset/IMD2020/z40/00107_fake.jpg  \n",
            "  inflating: /content/Dataset/IMD2020/z40/00107_fake_mask.png  \n",
            "  inflating: /content/Dataset/IMD2020/z40/00107_orig.jpg  \n",
            "   creating: /content/Dataset/IMD2020/z41/\n",
            "  inflating: /content/Dataset/IMD2020/z41/00109_fake.jpg  \n",
            "  inflating: /content/Dataset/IMD2020/z41/00109_fake_mask.png  \n",
            "  inflating: /content/Dataset/IMD2020/z41/00109_orig.jpg  \n"
          ]
        }
      ],
      "source": [
        "!mkdir Dataset\n",
        "!mkdir Dataset/IMD2020\n",
        "\n",
        "!unzip /content/drive/MyDrive/IMD2020.zip -d /content/Dataset/IMD2020"
      ]
    },
    {
      "cell_type": "code",
      "execution_count": 4,
      "metadata": {
        "id": "U8uRR6EQvkfu"
      },
      "outputs": [],
      "source": [
        "!rm -r /content/drive/MyDrive/IMD2020.zip"
      ]
    },
    {
      "cell_type": "code",
      "execution_count": null,
      "metadata": {
        "id": "oVVZBLe7sw6F"
      },
      "outputs": [],
      "source": [
        "# import shutil\n",
        "\n",
        "# shutil.rmtree('/Project/Dataset', ignore_errors=True)"
      ]
    },
    {
      "cell_type": "code",
      "execution_count": null,
      "metadata": {
        "id": "AFg1pMQrrua1"
      },
      "outputs": [],
      "source": []
    },
    {
      "cell_type": "markdown",
      "metadata": {
        "id": "gwVB4g9VrwN-"
      },
      "source": [
        "# Libraries"
      ]
    },
    {
      "cell_type": "code",
      "execution_count": 1,
      "metadata": {
        "colab": {
          "base_uri": "https://localhost:8080/"
        },
        "id": "7D_2fj96rudO",
        "outputId": "a34d9de5-4146-43d9-eff0-14e353c88ef1"
      },
      "outputs": [
        {
          "output_type": "stream",
          "name": "stdout",
          "text": [
            "cuda\n",
            "cuda\n",
            "cuda\n",
            "cuda\n",
            "cuda\n",
            "cuda\n",
            "cuda\n",
            "cuda\n",
            "cuda\n",
            "cuda\n",
            "cuda\n",
            "cuda\n",
            "cuda\n",
            "cuda\n"
          ]
        }
      ],
      "source": [
        "# For managing COCO dataset\n",
        "# from pycocotools.coco import COCO\n",
        "\n",
        "# For creating and managing folder/ files\n",
        "import glob\n",
        "import os\n",
        "import shutil\n",
        "\n",
        "# For managing images\n",
        "from PIL import Image\n",
        "import skimage.io as io\n",
        "\n",
        "# Basic libraries\n",
        "import numpy as np\n",
        "import pandas as pd\n",
        "import random\n",
        "import cv2\n",
        "\n",
        "# For plotting\n",
        "import matplotlib.pyplot as plt\n",
        "import matplotlib.gridspec as gridspec\n",
        "import seaborn as sns\n",
        "import wandb\n",
        "\n",
        "# For importing models and working with them\n",
        "## Torch\n",
        "import torch\n",
        "import torch.utils.data # for Dataset\n",
        "import torch.nn as nn\n",
        "from torch.optim import Adam\n",
        "from torch.autograd import Variable\n",
        "from torch.utils.data import DataLoader, Dataset\n",
        "import segmentation_models_pytorch as smp\n",
        "\n",
        "## Torchvision\n",
        "import torchvision\n",
        "from torchvision.transforms import transforms\n",
        "\n",
        "# For creating train - test splits\n",
        "from sklearn.model_selection import train_test_split\n",
        "\n",
        "import pathlib\n",
        "import pylab\n",
        "import requests\n",
        "from io import BytesIO\n",
        "from pprint import pprint\n",
        "from tqdm import tqdm\n",
        "import time\n",
        "from imutils import paths\n",
        "\n",
        "# Performance Metrics\n",
        "from sklearn.metrics import multilabel_confusion_matrix\n",
        "from sklearn.metrics import confusion_matrix\n",
        "\n",
        "\n",
        "# Functions - to have them separated in files\n",
        "import CalcMetrics as cm\n",
        "import BinaryMasks as bm\n",
        "import TrainModel as trModel\n",
        "import ValidateModel as valModel\n",
        "import TestModel as testModel\n",
        "import CreateDataset_Comofod as com\n",
        "import CreateDataset_IMD2020 as imd\n",
        "import DisplayMetrics as dm\n",
        "import PlotResults as pr\n",
        "import MainLoop as main\n",
        "import EarlyStopping as stopping\n",
        "\n",
        "\n",
        "device = torch.device('cuda' if torch.cuda.is_available() else 'cpu')\n",
        "print(device)\n",
        "\n",
        "\n",
        "# %matplotlib inline"
      ]
    },
    {
      "cell_type": "markdown",
      "metadata": {
        "id": "F2mGv5N9urEV"
      },
      "source": [
        "# Data"
      ]
    },
    {
      "cell_type": "markdown",
      "metadata": {
        "id": "iAe84x2v3J8F"
      },
      "source": [
        "## Data Preparation"
      ]
    },
    {
      "cell_type": "code",
      "execution_count": 2,
      "metadata": {
        "id": "SWurmkptruqa",
        "colab": {
          "base_uri": "https://localhost:8080/"
        },
        "outputId": "1ad62d45-b093-46cd-f62e-a0662f7bd41c"
      },
      "outputs": [
        {
          "output_type": "stream",
          "name": "stdout",
          "text": [
            "Starting loading dataset\n",
            "Error loading images for folder 1d6mhe: [Errno 2] No such file or directory: 'Dataset/IMD2020/1d6mhe/1d6mhe_orig.jpg'\n",
            "No altered image found for folder z10\n",
            "No altered image found for folder z11\n",
            "No altered image found for folder z12\n",
            "No altered image found for folder z13\n",
            "No altered image found for folder z14\n",
            "No altered image found for folder z15\n",
            "No altered image found for folder z16\n",
            "No altered image found for folder z17\n",
            "No altered image found for folder z18\n",
            "No altered image found for folder z19\n",
            "No altered image found for folder z2\n",
            "No altered image found for folder z20\n",
            "No altered image found for folder z21\n",
            "No altered image found for folder z22\n",
            "No altered image found for folder z23\n",
            "No altered image found for folder z24\n",
            "No altered image found for folder z25\n",
            "No altered image found for folder z26\n",
            "No altered image found for folder z27\n",
            "No altered image found for folder z28\n",
            "No altered image found for folder z29\n",
            "No altered image found for folder z3\n",
            "No altered image found for folder z30\n",
            "No altered image found for folder z31\n",
            "No altered image found for folder z32\n",
            "No altered image found for folder z33\n"
          ]
        }
      ],
      "source": [
        "dataset_path = 'Dataset/IMD2020'\n",
        "num_folders = 400  # Number of folders to read\n",
        "\n",
        "original_images, altered_images, masks = imd.load_dataset(dataset_path, num_folders)\n"
      ]
    },
    {
      "cell_type": "code",
      "source": [
        "len(original_images)"
      ],
      "metadata": {
        "colab": {
          "base_uri": "https://localhost:8080/"
        },
        "id": "nVA7Ma-cFNQ8",
        "outputId": "857143a1-ac6d-44d2-cab9-fc341f8f8399"
      },
      "execution_count": 3,
      "outputs": [
        {
          "output_type": "execute_result",
          "data": {
            "text/plain": [
              "373"
            ]
          },
          "metadata": {},
          "execution_count": 3
        }
      ]
    },
    {
      "cell_type": "code",
      "source": [
        "len(altered_images)"
      ],
      "metadata": {
        "colab": {
          "base_uri": "https://localhost:8080/"
        },
        "id": "KCdKBF7ZJDdM",
        "outputId": "fdb20c0f-78ca-4089-d770-9f2d6d6f127a"
      },
      "execution_count": 4,
      "outputs": [
        {
          "output_type": "execute_result",
          "data": {
            "text/plain": [
              "373"
            ]
          },
          "metadata": {},
          "execution_count": 4
        }
      ]
    },
    {
      "cell_type": "code",
      "source": [
        "# 73c482950d37419655b401f882c34c719ca587af"
      ],
      "metadata": {
        "id": "wHmtBNno-WTE"
      },
      "execution_count": 5,
      "outputs": []
    },
    {
      "cell_type": "markdown",
      "metadata": {
        "id": "NK5LE7P38_9W"
      },
      "source": [
        "## Main"
      ]
    },
    {
      "cell_type": "code",
      "execution_count": null,
      "metadata": {
        "colab": {
          "base_uri": "https://localhost:8080/",
          "height": 1000,
          "referenced_widgets": [
            "6281b066ae284a19a94c35ed0c164201",
            "d1d3960aa54045a288563830422ee428",
            "69fc448ee1c14fa2b75c5a8f65f79cfb",
            "a98bc1fc82c84419b5148e81c68dd169",
            "43b6f638e0cc4a9d96cf36dcbd7ddf82",
            "587c8325c0404692b0d933b4555ac6f9",
            "79876b74f21f4c62b8d3495e90555dc6",
            "1b03fc340dc54e2cae1f419c7ba44ad2",
            "efcb8fbdcdf34ac8b1ada1b89be4f6b9",
            "1e69a89a5476424890eff4124277eea5",
            "479e3147597c464eb0a94ec94def2057",
            "b2901aa73b424a0fa71cbef2ac1abc05",
            "c9fa812f4e02484d8ee8fbfc3a64e8b5",
            "b856f4fe136a40238aa924d0e7f9b613",
            "03043ccb8d834d66b6619028a7e175bc",
            "796500ac9fcb4ce291d7878c66478b28",
            "6ad9850ef7ce4330bd81247e721fc745",
            "c18533b304fd47b8ae52fdb1acebef23",
            "452d8c395319427c98a39500944caf48",
            "86fae5d5a6bb4130926120e10e96d921",
            "f34dcc3e33184c0eaccc35ea5b6d858c",
            "4ba042d73b134513b29204f8b6d621a1",
            "5ae23a6eea26456d826463f4276e0f83",
            "6a3d54636c8444f3bbedd94baace8365",
            "bd81fe833fcb4937b92356d94b8f1250",
            "5bd4c435fe3d470c9e9d39aa824042cd",
            "1aaa15ab89bf42cfb254403ea850045c",
            "59f5bca179fa44028f92c1de478e6502",
            "44a7824a496d491ca7196e4166ca3f08",
            "897052877a504de883c73a7f2c4180ad",
            "72114a2a26d44167a84907981822ceb8",
            "3e15e94243a2450e8164bb1e8502db1e",
            "f5765916d5b440a2bc4cab63de2d7ad4",
            "9009a2c7138d49a09e5c77a1f1d8e18d",
            "bc1e79edfe314c819e939e36f65fe08f",
            "4cc4603c935f4ab6be0b8ff82885d908",
            "191e81ca84a2445db741ee440099d5d6",
            "9c4bc36d02314b30bc38321795d95257",
            "c0bd24bfc25b404581ff0bdd7ee1df9a",
            "d8192dd6a1a242a7a4628b13e12e4d6e",
            "6dca51221898422fa703800e3cc89747",
            "344e514819aa4fe3ad9ae6fcb4e1adcf",
            "e9ed7beb17574ca2a3483f9198403371",
            "56e6e62b421c4a08a5d46365a4eefe7a",
            "1900603af9da49a18033d55aa3f70b86",
            "dac0ac9e4ed34479825275ad2aa3dc7e",
            "d3347bb95cac4c15aafaa485a59b1ef7",
            "7658ee7beebf4919ababfede2e4ec2a7",
            "6300954d22e84d1c87179eb4b818aa39",
            "8e47e64db4824be0a5d32adee5ecbd13",
            "501fce067ab24684aa8820667574e7e0",
            "fa8a6677c4f843b99db689b4b1016849",
            "7e79a992e6a946ce930f1f017a1826ed",
            "5e6527862da647dda58142b5275f3503",
            "b992b3236da74b2e805b7462cd663ca4",
            "3d2029daa4264dd4a91cf412aa7e0c8c",
            "0f369b4d647f416db306b1102b040dcf",
            "825bf8a8477b45478cad718bff65754f",
            "3d478a6f96c449398f8be96c2865a99f",
            "b8b481f40cb44a1da12cc3b4df7d1f16",
            "a2ba1a9910564672a5216a357b7d7b07",
            "b59bdd931b0449b1909fae46f5deb6ad",
            "212f0db4fe1547d98aa8ebe2656762b1",
            "47d2b6dd515a47afa9ba87c6c3ac969c",
            "bc8ff4fe79dd44709b2b76696d48e8ca",
            "e511fc908ab04de7a1ddc9aa4124af16",
            "c501e44812404c3ca6f162ab6f48fab9",
            "4f7aadb63bfa4b44b072d49e3a73f5da",
            "98d5a577975f46889e99fb4a6c87d156",
            "6f84343b019c441a9d2a4fb933b39585",
            "6cf09ed72f45430cb20094b6d146a92d",
            "353cfa321e994ef9b38cd26be259461b"
          ]
        },
        "id": "MqKC5sZR7xj8",
        "outputId": "3bfe27b6-05f2-43e8-e10c-14841de3816b"
      },
      "outputs": [
        {
          "metadata": {
            "tags": null
          },
          "name": "stderr",
          "output_type": "stream",
          "text": [
            "\u001b[34m\u001b[1mwandb\u001b[0m: Currently logged in as: \u001b[33mbianca-apostolescu\u001b[0m (\u001b[33mbianca-team\u001b[0m). Use \u001b[1m`wandb login --relogin`\u001b[0m to force relogin\n"
          ]
        },
        {
          "metadata": {
            "tags": null
          },
          "name": "stdout",
          "output_type": "stream",
          "text": [
            "[INFO] TEST_SPLIT = 0.1 ...\n",
            "Splits, Datasets, and Dataloaders\n",
            "[INFO] Total time taken to create the dataset and dataloader: 0.00s\n",
            "trainSteps = 33, testSteps = 4, valSteps = 8\n"
          ]
        },
        {
          "data": {
            "text/html": [
              "Tracking run with wandb version 0.17.0"
            ],
            "text/plain": [
              "<IPython.core.display.HTML object>"
            ]
          },
          "metadata": {},
          "output_type": "display_data"
        },
        {
          "data": {
            "text/html": [
              "Run data is saved locally in <code>/content/wandb/run-20240526_162116-ify3fehp</code>"
            ],
            "text/plain": [
              "<IPython.core.display.HTML object>"
            ]
          },
          "metadata": {},
          "output_type": "display_data"
        },
        {
          "data": {
            "text/html": [
              "Syncing run <strong><a href='https://wandb.ai/bianca-team/GCANet_IMD2020_altered_imgs/runs/ify3fehp' target=\"_blank\">init_metrics_run_tts0.1_ep10</a></strong> to <a href='https://wandb.ai/bianca-team/GCANet_IMD2020_altered_imgs' target=\"_blank\">Weights & Biases</a> (<a href='https://wandb.me/run' target=\"_blank\">docs</a>)<br/>"
            ],
            "text/plain": [
              "<IPython.core.display.HTML object>"
            ]
          },
          "metadata": {},
          "output_type": "display_data"
        },
        {
          "data": {
            "text/html": [
              " View project at <a href='https://wandb.ai/bianca-team/GCANet_IMD2020_altered_imgs' target=\"_blank\">https://wandb.ai/bianca-team/GCANet_IMD2020_altered_imgs</a>"
            ],
            "text/plain": [
              "<IPython.core.display.HTML object>"
            ]
          },
          "metadata": {},
          "output_type": "display_data"
        },
        {
          "data": {
            "text/html": [
              " View run at <a href='https://wandb.ai/bianca-team/GCANet_IMD2020_altered_imgs/runs/ify3fehp' target=\"_blank\">https://wandb.ai/bianca-team/GCANet_IMD2020_altered_imgs/runs/ify3fehp</a>"
            ],
            "text/plain": [
              "<IPython.core.display.HTML object>"
            ]
          },
          "metadata": {},
          "output_type": "display_data"
        },
        {
          "metadata": {
            "tags": null
          },
          "name": "stdout",
          "output_type": "stream",
          "text": [
            "[INFO] Training the network for 10 epochs...\n"
          ]
        },
        {
          "metadata": {
            "tags": null
          },
          "name": "stderr",
          "output_type": "stream",
          "text": [
            "\r  0%|          | 0/10 [00:00<?, ?it/s]"
          ]
        },
        {
          "metadata": {
            "tags": null
          },
          "name": "stdout",
          "output_type": "stream",
          "text": [
            "Training...\n"
          ]
        },
        {
          "metadata": {
            "tags": null
          },
          "name": "stderr",
          "output_type": "stream",
          "text": [
            "/usr/local/lib/python3.10/dist-packages/torch/nn/modules/conv.py:456: UserWarning: Plan failed with a cudnnException: CUDNN_BACKEND_EXECUTION_PLAN_DESCRIPTOR: cudnnFinalize Descriptor Failed cudnn_status: CUDNN_STATUS_NOT_SUPPORTED (Triggered internally at ../aten/src/ATen/native/cudnn/Conv_v8.cpp:919.)\n",
            "  return F.conv2d(input, weight, bias, self.stride,\n",
            "/usr/local/lib/python3.10/dist-packages/torch/autograd/graph.py:744: UserWarning: Plan failed with a cudnnException: CUDNN_BACKEND_EXECUTION_PLAN_DESCRIPTOR: cudnnFinalize Descriptor Failed cudnn_status: CUDNN_STATUS_NOT_SUPPORTED (Triggered internally at ../aten/src/ATen/native/cudnn/Conv_v8.cpp:919.)\n",
            "  return Variable._execution_engine.run_backward(  # Calls into the C++ engine to run the backward pass\n"
          ]
        },
        {
          "metadata": {
            "tags": null
          },
          "name": "stdout",
          "output_type": "stream",
          "text": [
            "Validating...\n"
          ]
        },
        {
          "metadata": {
            "tags": null
          },
          "name": "stderr",
          "output_type": "stream",
          "text": [
            "\r 10%|█         | 1/10 [00:20<03:08, 20.94s/it]"
          ]
        },
        {
          "metadata": {
            "tags": null
          },
          "name": "stdout",
          "output_type": "stream",
          "text": [
            "Training...\n",
            "Validating...\n"
          ]
        },
        {
          "metadata": {
            "tags": null
          },
          "name": "stderr",
          "output_type": "stream",
          "text": [
            "\r 20%|██        | 2/10 [00:41<02:47, 20.88s/it]"
          ]
        },
        {
          "metadata": {
            "tags": null
          },
          "name": "stdout",
          "output_type": "stream",
          "text": [
            "Training...\n",
            "Validating...\n"
          ]
        },
        {
          "metadata": {
            "tags": null
          },
          "name": "stderr",
          "output_type": "stream",
          "text": [
            "\r 30%|███       | 3/10 [01:02<02:26, 20.98s/it]"
          ]
        },
        {
          "metadata": {
            "tags": null
          },
          "name": "stdout",
          "output_type": "stream",
          "text": [
            "Training...\n",
            "Validating...\n"
          ]
        },
        {
          "metadata": {
            "tags": null
          },
          "name": "stderr",
          "output_type": "stream",
          "text": [
            "\r 40%|████      | 4/10 [01:23<02:05, 20.91s/it]"
          ]
        },
        {
          "metadata": {
            "tags": null
          },
          "name": "stdout",
          "output_type": "stream",
          "text": [
            "Training...\n",
            "Validating...\n"
          ]
        },
        {
          "metadata": {
            "tags": null
          },
          "name": "stderr",
          "output_type": "stream",
          "text": [
            "\r 50%|█████     | 5/10 [01:43<01:42, 20.57s/it]"
          ]
        },
        {
          "metadata": {
            "tags": null
          },
          "name": "stdout",
          "output_type": "stream",
          "text": [
            "Training...\n",
            "Validating...\n"
          ]
        },
        {
          "metadata": {
            "tags": null
          },
          "name": "stderr",
          "output_type": "stream",
          "text": [
            "\r 60%|██████    | 6/10 [02:04<01:22, 20.52s/it]"
          ]
        },
        {
          "metadata": {
            "tags": null
          },
          "name": "stdout",
          "output_type": "stream",
          "text": [
            "Training...\n",
            "Validating...\n"
          ]
        },
        {
          "metadata": {
            "tags": null
          },
          "name": "stderr",
          "output_type": "stream",
          "text": [
            "\r 70%|███████   | 7/10 [02:24<01:01, 20.46s/it]"
          ]
        },
        {
          "metadata": {
            "tags": null
          },
          "name": "stdout",
          "output_type": "stream",
          "text": [
            "Training...\n",
            "Validating...\n"
          ]
        },
        {
          "metadata": {
            "tags": null
          },
          "name": "stderr",
          "output_type": "stream",
          "text": [
            "\r 80%|████████  | 8/10 [02:44<00:40, 20.27s/it]"
          ]
        },
        {
          "metadata": {
            "tags": null
          },
          "name": "stdout",
          "output_type": "stream",
          "text": [
            "Training...\n",
            "Validating...\n"
          ]
        },
        {
          "metadata": {
            "tags": null
          },
          "name": "stderr",
          "output_type": "stream",
          "text": [
            "\r 90%|█████████ | 9/10 [03:05<00:20, 20.42s/it]"
          ]
        },
        {
          "metadata": {
            "tags": null
          },
          "name": "stdout",
          "output_type": "stream",
          "text": [
            "Training...\n",
            "Validating...\n"
          ]
        },
        {
          "metadata": {
            "tags": null
          },
          "name": "stderr",
          "output_type": "stream",
          "text": [
            "100%|██████████| 10/10 [03:24<00:00, 20.48s/it]\n"
          ]
        },
        {
          "metadata": {
            "tags": null
          },
          "name": "stdout",
          "output_type": "stream",
          "text": [
            "[INFO] Total time taken to train and validate the model: 204.80s\n",
            "Testing...\n",
            "\n",
            "\n",
            "\n",
            "\n",
            "\n",
            "\n",
            "\n",
            "\n",
            "\n",
            "\n",
            "avg_accuracy = 0.9092415571212769, avg_precision = 0.3071511387825012, avg_recall = 0.2036009132862091, avg_f1_score = 0.24280638992786407, avg_dice_score = 0.24280638992786407, avg_iou = 0.13938568532466888\n",
            "TP = [6450, 9169, 9355, 8204, 3507]\n",
            "TN = [470546, 459128, 470867, 478818, 349732]\n",
            "FP = [19098, 17982, 14258, 16776, 12363]\n",
            "FN = [28194, 38009, 29808, 20490, 27614]\n"
          ]
        },
        {
          "data": {
            "text/html": [
              "Finishing last run (ID:ify3fehp) before initializing another..."
            ],
            "text/plain": [
              "<IPython.core.display.HTML object>"
            ]
          },
          "metadata": {},
          "output_type": "display_data"
        },
        {
          "data": {
            "application/vnd.jupyter.widget-view+json": {
              "model_id": "6281b066ae284a19a94c35ed0c164201",
              "version_major": 2,
              "version_minor": 0
            },
            "text/plain": [
              "VBox(children=(Label(value='7.139 MB of 7.139 MB uploaded\\r'), FloatProgress(value=1.0, max=1.0)))"
            ]
          },
          "metadata": {},
          "output_type": "display_data"
        },
        {
          "data": {
            "text/html": [
              "<style>\n",
              "    table.wandb td:nth-child(1) { padding: 0 10px; text-align: left ; width: auto;} td:nth-child(2) {text-align: left ; width: 100%}\n",
              "    .wandb-row { display: flex; flex-direction: row; flex-wrap: wrap; justify-content: flex-start; width: 100% }\n",
              "    .wandb-col { display: flex; flex-direction: column; flex-basis: 100%; flex: 1; padding: 10px; }\n",
              "    </style>\n",
              "<div class=\"wandb-row\"><div class=\"wandb-col\"><h3>Run history:</h3><br/><table class=\"wandb\"><tr><td>Accuracy</td><td>▁</td></tr><tr><td>DICE</td><td>▁</td></tr><tr><td>Epoch</td><td>▁▂▃▃▄▅▆▆▇█</td></tr><tr><td>F1-Score</td><td>▁</td></tr><tr><td>IOU</td><td>▁</td></tr><tr><td>Precision</td><td>▁</td></tr><tr><td>Recall</td><td>▁</td></tr><tr><td>Train Loss</td><td>█▅▄▄▃▃▃▂▂▁</td></tr><tr><td>Valid Loss</td><td>█▆▅▄▄▃▂▂▂▁</td></tr></table><br/></div><div class=\"wandb-col\"><h3>Run summary:</h3><br/><table class=\"wandb\"><tr><td>Accuracy</td><td>0.90924</td></tr><tr><td>DICE</td><td>0.24281</td></tr><tr><td>Epoch</td><td>9</td></tr><tr><td>F1-Score</td><td>0.24281</td></tr><tr><td>IOU</td><td>0.13939</td></tr><tr><td>Precision</td><td>0.30715</td></tr><tr><td>Recall</td><td>0.2036</td></tr><tr><td>Train Loss</td><td>1.05908</td></tr><tr><td>Valid Loss</td><td>1.14056</td></tr></table><br/></div></div>"
            ],
            "text/plain": [
              "<IPython.core.display.HTML object>"
            ]
          },
          "metadata": {},
          "output_type": "display_data"
        },
        {
          "data": {
            "text/html": [
              " View run <strong style=\"color:#cdcd00\">init_metrics_run_tts0.1_ep10</strong> at: <a href='https://wandb.ai/bianca-team/GCANet_IMD2020_altered_imgs/runs/ify3fehp' target=\"_blank\">https://wandb.ai/bianca-team/GCANet_IMD2020_altered_imgs/runs/ify3fehp</a><br/> View project at: <a href='https://wandb.ai/bianca-team/GCANet_IMD2020_altered_imgs' target=\"_blank\">https://wandb.ai/bianca-team/GCANet_IMD2020_altered_imgs</a><br/>Synced 5 W&B file(s), 152 media file(s), 0 artifact file(s) and 0 other file(s)"
            ],
            "text/plain": [
              "<IPython.core.display.HTML object>"
            ]
          },
          "metadata": {},
          "output_type": "display_data"
        },
        {
          "data": {
            "text/html": [
              "Find logs at: <code>./wandb/run-20240526_162116-ify3fehp/logs</code>"
            ],
            "text/plain": [
              "<IPython.core.display.HTML object>"
            ]
          },
          "metadata": {},
          "output_type": "display_data"
        },
        {
          "data": {
            "text/html": [
              "Successfully finished last run (ID:ify3fehp). Initializing new run:<br/>"
            ],
            "text/plain": [
              "<IPython.core.display.HTML object>"
            ]
          },
          "metadata": {},
          "output_type": "display_data"
        },
        {
          "data": {
            "text/html": [
              "Tracking run with wandb version 0.17.0"
            ],
            "text/plain": [
              "<IPython.core.display.HTML object>"
            ]
          },
          "metadata": {},
          "output_type": "display_data"
        },
        {
          "data": {
            "text/html": [
              "Run data is saved locally in <code>/content/wandb/run-20240526_162455-msjvc06j</code>"
            ],
            "text/plain": [
              "<IPython.core.display.HTML object>"
            ]
          },
          "metadata": {},
          "output_type": "display_data"
        },
        {
          "data": {
            "text/html": [
              "Syncing run <strong><a href='https://wandb.ai/bianca-team/GCANet_IMD2020_altered_imgs/runs/msjvc06j' target=\"_blank\">init_metrics_run_tts0.1_ep20</a></strong> to <a href='https://wandb.ai/bianca-team/GCANet_IMD2020_altered_imgs' target=\"_blank\">Weights & Biases</a> (<a href='https://wandb.me/run' target=\"_blank\">docs</a>)<br/>"
            ],
            "text/plain": [
              "<IPython.core.display.HTML object>"
            ]
          },
          "metadata": {},
          "output_type": "display_data"
        },
        {
          "data": {
            "text/html": [
              " View project at <a href='https://wandb.ai/bianca-team/GCANet_IMD2020_altered_imgs' target=\"_blank\">https://wandb.ai/bianca-team/GCANet_IMD2020_altered_imgs</a>"
            ],
            "text/plain": [
              "<IPython.core.display.HTML object>"
            ]
          },
          "metadata": {},
          "output_type": "display_data"
        },
        {
          "data": {
            "text/html": [
              " View run at <a href='https://wandb.ai/bianca-team/GCANet_IMD2020_altered_imgs/runs/msjvc06j' target=\"_blank\">https://wandb.ai/bianca-team/GCANet_IMD2020_altered_imgs/runs/msjvc06j</a>"
            ],
            "text/plain": [
              "<IPython.core.display.HTML object>"
            ]
          },
          "metadata": {},
          "output_type": "display_data"
        },
        {
          "metadata": {
            "tags": null
          },
          "name": "stdout",
          "output_type": "stream",
          "text": [
            "[INFO] Training the network for 20 epochs...\n"
          ]
        },
        {
          "metadata": {
            "tags": null
          },
          "name": "stderr",
          "output_type": "stream",
          "text": [
            "\r  0%|          | 0/20 [00:00<?, ?it/s]"
          ]
        },
        {
          "metadata": {
            "tags": null
          },
          "name": "stdout",
          "output_type": "stream",
          "text": [
            "Training...\n",
            "Validating...\n"
          ]
        },
        {
          "metadata": {
            "tags": null
          },
          "name": "stderr",
          "output_type": "stream",
          "text": [
            "\r  5%|▌         | 1/20 [00:20<06:29, 20.49s/it]"
          ]
        },
        {
          "output_type": "stream",
          "name": "stdout",
          "text": [
            "Training...\n",
            "Validating...\n"
          ]
        },
        {
          "output_type": "stream",
          "name": "stderr",
          "text": [
            "\r 10%|█         | 2/20 [00:40<06:02, 20.16s/it]"
          ]
        },
        {
          "output_type": "stream",
          "name": "stdout",
          "text": [
            "Training...\n",
            "Validating...\n"
          ]
        },
        {
          "output_type": "stream",
          "name": "stderr",
          "text": [
            "\r 15%|█▌        | 3/20 [01:00<05:45, 20.30s/it]"
          ]
        },
        {
          "output_type": "stream",
          "name": "stdout",
          "text": [
            "Training...\n",
            "Validating...\n"
          ]
        },
        {
          "output_type": "stream",
          "name": "stderr",
          "text": [
            "\r 20%|██        | 4/20 [01:20<05:20, 20.06s/it]"
          ]
        },
        {
          "output_type": "stream",
          "name": "stdout",
          "text": [
            "Training...\n",
            "Validating...\n"
          ]
        },
        {
          "output_type": "stream",
          "name": "stderr",
          "text": [
            "\r 25%|██▌       | 5/20 [01:41<05:03, 20.21s/it]"
          ]
        },
        {
          "output_type": "stream",
          "name": "stdout",
          "text": [
            "Training...\n",
            "Validating...\n"
          ]
        },
        {
          "output_type": "stream",
          "name": "stderr",
          "text": [
            "\r 30%|███       | 6/20 [02:01<04:42, 20.21s/it]"
          ]
        },
        {
          "output_type": "stream",
          "name": "stdout",
          "text": [
            "Training...\n",
            "Validating...\n"
          ]
        },
        {
          "output_type": "stream",
          "name": "stderr",
          "text": [
            "\r 35%|███▌      | 7/20 [02:21<04:20, 20.07s/it]"
          ]
        },
        {
          "output_type": "stream",
          "name": "stdout",
          "text": [
            "Training...\n",
            "Validating...\n"
          ]
        },
        {
          "output_type": "stream",
          "name": "stderr",
          "text": [
            "\r 40%|████      | 8/20 [02:41<04:01, 20.12s/it]"
          ]
        },
        {
          "output_type": "stream",
          "name": "stdout",
          "text": [
            "Training...\n",
            "Validating...\n"
          ]
        },
        {
          "output_type": "stream",
          "name": "stderr",
          "text": [
            "\r 45%|████▌     | 9/20 [03:00<03:39, 20.00s/it]"
          ]
        },
        {
          "output_type": "stream",
          "name": "stdout",
          "text": [
            "Training...\n",
            "Validating...\n"
          ]
        },
        {
          "output_type": "stream",
          "name": "stderr",
          "text": [
            "\r 50%|█████     | 10/20 [03:21<03:22, 20.22s/it]"
          ]
        },
        {
          "output_type": "stream",
          "name": "stdout",
          "text": [
            "Training...\n",
            "Validating...\n"
          ]
        },
        {
          "output_type": "stream",
          "name": "stderr",
          "text": [
            "\r 55%|█████▌    | 11/20 [03:41<03:00, 20.07s/it]"
          ]
        },
        {
          "output_type": "stream",
          "name": "stdout",
          "text": [
            "Training...\n",
            "Validating...\n"
          ]
        },
        {
          "output_type": "stream",
          "name": "stderr",
          "text": [
            "\r 60%|██████    | 12/20 [04:01<02:41, 20.14s/it]"
          ]
        },
        {
          "output_type": "stream",
          "name": "stdout",
          "text": [
            "Training...\n",
            "Validating...\n"
          ]
        },
        {
          "output_type": "stream",
          "name": "stderr",
          "text": [
            "\r 65%|██████▌   | 13/20 [04:21<02:20, 20.11s/it]"
          ]
        },
        {
          "output_type": "stream",
          "name": "stdout",
          "text": [
            "Training...\n",
            "Validating...\n"
          ]
        },
        {
          "output_type": "stream",
          "name": "stderr",
          "text": [
            "\r 70%|███████   | 14/20 [04:41<01:59, 19.98s/it]"
          ]
        },
        {
          "output_type": "stream",
          "name": "stdout",
          "text": [
            "Training...\n",
            "Validating...\n"
          ]
        },
        {
          "output_type": "stream",
          "name": "stderr",
          "text": [
            "\r 75%|███████▌  | 15/20 [05:01<01:40, 20.12s/it]"
          ]
        },
        {
          "output_type": "stream",
          "name": "stdout",
          "text": [
            "Training...\n",
            "Validating...\n"
          ]
        },
        {
          "output_type": "stream",
          "name": "stderr",
          "text": [
            "\r 80%|████████  | 16/20 [05:21<01:19, 19.98s/it]"
          ]
        },
        {
          "output_type": "stream",
          "name": "stdout",
          "text": [
            "Training...\n",
            "Validating...\n"
          ]
        },
        {
          "output_type": "stream",
          "name": "stderr",
          "text": [
            "\r 85%|████████▌ | 17/20 [05:42<01:00, 20.18s/it]"
          ]
        },
        {
          "output_type": "stream",
          "name": "stdout",
          "text": [
            "Training...\n",
            "Validating...\n"
          ]
        },
        {
          "output_type": "stream",
          "name": "stderr",
          "text": [
            "\r 90%|█████████ | 18/20 [06:01<00:40, 20.05s/it]"
          ]
        },
        {
          "output_type": "stream",
          "name": "stdout",
          "text": [
            "Training...\n",
            "Validating...\n"
          ]
        },
        {
          "output_type": "stream",
          "name": "stderr",
          "text": [
            "\r 95%|█████████▌| 19/20 [06:22<00:20, 20.13s/it]"
          ]
        },
        {
          "output_type": "stream",
          "name": "stdout",
          "text": [
            "Training...\n",
            "Validating...\n"
          ]
        },
        {
          "output_type": "stream",
          "name": "stderr",
          "text": [
            "100%|██████████| 20/20 [06:42<00:00, 20.12s/it]\n"
          ]
        },
        {
          "output_type": "stream",
          "name": "stdout",
          "text": [
            "[INFO] Total time taken to train and validate the model: 402.46s\n",
            "Testing...\n",
            "\n",
            "\n",
            "\n",
            "\n",
            "\n",
            "\n",
            "\n",
            "\n",
            "\n",
            "\n",
            "avg_accuracy = 0.8922492861747742, avg_precision = 0.23031553626060486, avg_recall = 0.20497214794158936, avg_f1_score = 0.21111126244068146, avg_dice_score = 0.21111126244068146, avg_iou = 0.11867689341306686\n",
            "TP = [5920, 11257, 5048, 8697, 5707]\n",
            "TN = [465378, 454810, 462336, 457732, 345143]\n",
            "FP = [24266, 22300, 22789, 37862, 16952]\n",
            "FN = [28724, 35921, 34115, 19997, 25414]\n"
          ]
        },
        {
          "output_type": "display_data",
          "data": {
            "text/plain": [
              "<IPython.core.display.HTML object>"
            ],
            "text/html": [
              "Finishing last run (ID:msjvc06j) before initializing another..."
            ]
          },
          "metadata": {}
        },
        {
          "output_type": "display_data",
          "data": {
            "text/plain": [
              "VBox(children=(Label(value='7.146 MB of 7.146 MB uploaded\\r'), FloatProgress(value=1.0, max=1.0)))"
            ],
            "application/vnd.jupyter.widget-view+json": {
              "version_major": 2,
              "version_minor": 0,
              "model_id": "efcb8fbdcdf34ac8b1ada1b89be4f6b9"
            }
          },
          "metadata": {}
        },
        {
          "output_type": "display_data",
          "data": {
            "text/plain": [
              "<IPython.core.display.HTML object>"
            ],
            "text/html": [
              "<style>\n",
              "    table.wandb td:nth-child(1) { padding: 0 10px; text-align: left ; width: auto;} td:nth-child(2) {text-align: left ; width: 100%}\n",
              "    .wandb-row { display: flex; flex-direction: row; flex-wrap: wrap; justify-content: flex-start; width: 100% }\n",
              "    .wandb-col { display: flex; flex-direction: column; flex-basis: 100%; flex: 1; padding: 10px; }\n",
              "    </style>\n",
              "<div class=\"wandb-row\"><div class=\"wandb-col\"><h3>Run history:</h3><br/><table class=\"wandb\"><tr><td>Accuracy</td><td>▁</td></tr><tr><td>DICE</td><td>▁</td></tr><tr><td>Epoch</td><td>▁▁▂▂▂▃▃▄▄▄▅▅▅▆▆▇▇▇██</td></tr><tr><td>F1-Score</td><td>▁</td></tr><tr><td>IOU</td><td>▁</td></tr><tr><td>Precision</td><td>▁</td></tr><tr><td>Recall</td><td>▁</td></tr><tr><td>Train Loss</td><td>█▇▆▆▆▆▅▅▅▅▄▄▄▃▃▃▂▂▂▁</td></tr><tr><td>Valid Loss</td><td>█▅▄▄▃▃▂▃▃▃▃▂▄▃▁▂▂▂▄▃</td></tr></table><br/></div><div class=\"wandb-col\"><h3>Run summary:</h3><br/><table class=\"wandb\"><tr><td>Accuracy</td><td>0.89225</td></tr><tr><td>DICE</td><td>0.21111</td></tr><tr><td>Epoch</td><td>19</td></tr><tr><td>F1-Score</td><td>0.21111</td></tr><tr><td>IOU</td><td>0.11868</td></tr><tr><td>Precision</td><td>0.23032</td></tr><tr><td>Recall</td><td>0.20497</td></tr><tr><td>Train Loss</td><td>0.65553</td></tr><tr><td>Valid Loss</td><td>1.13928</td></tr></table><br/></div></div>"
            ]
          },
          "metadata": {}
        },
        {
          "output_type": "display_data",
          "data": {
            "text/plain": [
              "<IPython.core.display.HTML object>"
            ],
            "text/html": [
              " View run <strong style=\"color:#cdcd00\">init_metrics_run_tts0.1_ep20</strong> at: <a href='https://wandb.ai/bianca-team/GCANet_IMD2020_altered_imgs/runs/msjvc06j' target=\"_blank\">https://wandb.ai/bianca-team/GCANet_IMD2020_altered_imgs/runs/msjvc06j</a><br/> View project at: <a href='https://wandb.ai/bianca-team/GCANet_IMD2020_altered_imgs' target=\"_blank\">https://wandb.ai/bianca-team/GCANet_IMD2020_altered_imgs</a><br/>Synced 5 W&B file(s), 152 media file(s), 0 artifact file(s) and 0 other file(s)"
            ]
          },
          "metadata": {}
        },
        {
          "output_type": "display_data",
          "data": {
            "text/plain": [
              "<IPython.core.display.HTML object>"
            ],
            "text/html": [
              "Find logs at: <code>./wandb/run-20240526_162455-msjvc06j/logs</code>"
            ]
          },
          "metadata": {}
        },
        {
          "output_type": "display_data",
          "data": {
            "text/plain": [
              "<IPython.core.display.HTML object>"
            ],
            "text/html": [
              "Successfully finished last run (ID:msjvc06j). Initializing new run:<br/>"
            ]
          },
          "metadata": {}
        },
        {
          "output_type": "display_data",
          "data": {
            "text/plain": [
              "<IPython.core.display.HTML object>"
            ],
            "text/html": [
              "Tracking run with wandb version 0.17.0"
            ]
          },
          "metadata": {}
        },
        {
          "output_type": "display_data",
          "data": {
            "text/plain": [
              "<IPython.core.display.HTML object>"
            ],
            "text/html": [
              "Run data is saved locally in <code>/content/wandb/run-20240526_163158-vzyqcx10</code>"
            ]
          },
          "metadata": {}
        },
        {
          "output_type": "display_data",
          "data": {
            "text/plain": [
              "<IPython.core.display.HTML object>"
            ],
            "text/html": [
              "Syncing run <strong><a href='https://wandb.ai/bianca-team/GCANet_IMD2020_altered_imgs/runs/vzyqcx10' target=\"_blank\">init_metrics_run_tts0.1_ep50</a></strong> to <a href='https://wandb.ai/bianca-team/GCANet_IMD2020_altered_imgs' target=\"_blank\">Weights & Biases</a> (<a href='https://wandb.me/run' target=\"_blank\">docs</a>)<br/>"
            ]
          },
          "metadata": {}
        },
        {
          "output_type": "display_data",
          "data": {
            "text/plain": [
              "<IPython.core.display.HTML object>"
            ],
            "text/html": [
              " View project at <a href='https://wandb.ai/bianca-team/GCANet_IMD2020_altered_imgs' target=\"_blank\">https://wandb.ai/bianca-team/GCANet_IMD2020_altered_imgs</a>"
            ]
          },
          "metadata": {}
        },
        {
          "output_type": "display_data",
          "data": {
            "text/plain": [
              "<IPython.core.display.HTML object>"
            ],
            "text/html": [
              " View run at <a href='https://wandb.ai/bianca-team/GCANet_IMD2020_altered_imgs/runs/vzyqcx10' target=\"_blank\">https://wandb.ai/bianca-team/GCANet_IMD2020_altered_imgs/runs/vzyqcx10</a>"
            ]
          },
          "metadata": {}
        },
        {
          "output_type": "stream",
          "name": "stdout",
          "text": [
            "[INFO] Training the network for 50 epochs...\n"
          ]
        },
        {
          "output_type": "stream",
          "name": "stderr",
          "text": [
            "\r  0%|          | 0/50 [00:00<?, ?it/s]"
          ]
        },
        {
          "output_type": "stream",
          "name": "stdout",
          "text": [
            "Training...\n",
            "Validating...\n"
          ]
        },
        {
          "output_type": "stream",
          "name": "stderr",
          "text": [
            "\r  2%|▏         | 1/50 [00:20<16:31, 20.24s/it]"
          ]
        },
        {
          "output_type": "stream",
          "name": "stdout",
          "text": [
            "Training...\n",
            "Validating...\n"
          ]
        },
        {
          "output_type": "stream",
          "name": "stderr",
          "text": [
            "\r  4%|▍         | 2/50 [00:40<16:05, 20.12s/it]"
          ]
        },
        {
          "output_type": "stream",
          "name": "stdout",
          "text": [
            "Training...\n",
            "Validating...\n"
          ]
        },
        {
          "output_type": "stream",
          "name": "stderr",
          "text": [
            "\r  6%|▌         | 3/50 [01:00<15:53, 20.30s/it]"
          ]
        },
        {
          "output_type": "stream",
          "name": "stdout",
          "text": [
            "Training...\n",
            "Validating...\n"
          ]
        },
        {
          "output_type": "stream",
          "name": "stderr",
          "text": [
            "\r  8%|▊         | 4/50 [01:20<15:23, 20.07s/it]"
          ]
        },
        {
          "output_type": "stream",
          "name": "stdout",
          "text": [
            "Training...\n",
            "Validating...\n"
          ]
        },
        {
          "output_type": "stream",
          "name": "stderr",
          "text": [
            "\r 10%|█         | 5/50 [01:41<15:10, 20.24s/it]"
          ]
        },
        {
          "output_type": "stream",
          "name": "stdout",
          "text": [
            "Training...\n",
            "Validating...\n"
          ]
        },
        {
          "output_type": "stream",
          "name": "stderr",
          "text": [
            "\r 12%|█▏        | 6/50 [02:00<14:45, 20.13s/it]"
          ]
        },
        {
          "output_type": "stream",
          "name": "stdout",
          "text": [
            "Training...\n",
            "Validating...\n"
          ]
        },
        {
          "output_type": "stream",
          "name": "stderr",
          "text": [
            "\r 14%|█▍        | 7/50 [02:21<14:25, 20.13s/it]"
          ]
        },
        {
          "output_type": "stream",
          "name": "stdout",
          "text": [
            "Training...\n",
            "Validating...\n"
          ]
        },
        {
          "output_type": "stream",
          "name": "stderr",
          "text": [
            "\r 16%|█▌        | 8/50 [02:41<14:06, 20.14s/it]"
          ]
        },
        {
          "output_type": "stream",
          "name": "stdout",
          "text": [
            "Training...\n",
            "Validating...\n"
          ]
        },
        {
          "output_type": "stream",
          "name": "stderr",
          "text": [
            "\r 18%|█▊        | 9/50 [03:00<13:39, 19.98s/it]"
          ]
        },
        {
          "output_type": "stream",
          "name": "stdout",
          "text": [
            "Training...\n",
            "Validating...\n"
          ]
        },
        {
          "output_type": "stream",
          "name": "stderr",
          "text": [
            "\r 20%|██        | 10/50 [03:21<13:25, 20.13s/it]"
          ]
        },
        {
          "output_type": "stream",
          "name": "stdout",
          "text": [
            "Training...\n",
            "Validating...\n"
          ]
        },
        {
          "output_type": "stream",
          "name": "stderr",
          "text": [
            "\r 22%|██▏       | 11/50 [03:41<13:00, 20.00s/it]"
          ]
        },
        {
          "output_type": "stream",
          "name": "stdout",
          "text": [
            "Training...\n",
            "Validating...\n"
          ]
        },
        {
          "output_type": "stream",
          "name": "stderr",
          "text": [
            "\r 24%|██▍       | 12/50 [04:01<12:47, 20.19s/it]"
          ]
        },
        {
          "output_type": "stream",
          "name": "stdout",
          "text": [
            "Training...\n",
            "Validating...\n"
          ]
        },
        {
          "output_type": "stream",
          "name": "stderr",
          "text": [
            "\r 26%|██▌       | 13/50 [04:21<12:23, 20.10s/it]"
          ]
        },
        {
          "output_type": "stream",
          "name": "stdout",
          "text": [
            "Training...\n",
            "Validating...\n"
          ]
        },
        {
          "output_type": "stream",
          "name": "stderr",
          "text": [
            "\r 28%|██▊       | 14/50 [04:41<12:02, 20.06s/it]"
          ]
        },
        {
          "output_type": "stream",
          "name": "stdout",
          "text": [
            "Training...\n",
            "Validating...\n"
          ]
        },
        {
          "output_type": "stream",
          "name": "stderr",
          "text": [
            "\r 30%|███       | 15/50 [05:01<11:44, 20.12s/it]"
          ]
        },
        {
          "output_type": "stream",
          "name": "stdout",
          "text": [
            "Training...\n",
            "Validating...\n"
          ]
        },
        {
          "output_type": "stream",
          "name": "stderr",
          "text": [
            "\r 32%|███▏      | 16/50 [05:21<11:21, 20.06s/it]"
          ]
        },
        {
          "output_type": "stream",
          "name": "stdout",
          "text": [
            "Training...\n",
            "Validating...\n"
          ]
        },
        {
          "output_type": "stream",
          "name": "stderr",
          "text": [
            "\r 34%|███▍      | 17/50 [05:42<11:07, 20.24s/it]"
          ]
        },
        {
          "output_type": "stream",
          "name": "stdout",
          "text": [
            "Training...\n",
            "Validating...\n"
          ]
        },
        {
          "output_type": "stream",
          "name": "stderr",
          "text": [
            "\r 36%|███▌      | 18/50 [06:02<10:43, 20.11s/it]"
          ]
        },
        {
          "output_type": "stream",
          "name": "stdout",
          "text": [
            "Training...\n",
            "Validating...\n"
          ]
        },
        {
          "output_type": "stream",
          "name": "stderr",
          "text": [
            "\r 38%|███▊      | 19/50 [06:22<10:26, 20.22s/it]"
          ]
        },
        {
          "output_type": "stream",
          "name": "stdout",
          "text": [
            "Training...\n",
            "Validating...\n"
          ]
        },
        {
          "output_type": "stream",
          "name": "stderr",
          "text": [
            "\r 40%|████      | 20/50 [06:42<10:03, 20.13s/it]"
          ]
        },
        {
          "output_type": "stream",
          "name": "stdout",
          "text": [
            "Training...\n",
            "Validating...\n"
          ]
        },
        {
          "output_type": "stream",
          "name": "stderr",
          "text": [
            "\r 42%|████▏     | 21/50 [07:02<09:41, 20.06s/it]"
          ]
        },
        {
          "output_type": "stream",
          "name": "stdout",
          "text": [
            "Training...\n",
            "Validating...\n"
          ]
        },
        {
          "output_type": "stream",
          "name": "stderr",
          "text": [
            "\r 44%|████▍     | 22/50 [07:22<09:23, 20.14s/it]"
          ]
        },
        {
          "output_type": "stream",
          "name": "stdout",
          "text": [
            "Training...\n",
            "Validating...\n"
          ]
        },
        {
          "output_type": "stream",
          "name": "stderr",
          "text": [
            "\r 46%|████▌     | 23/50 [07:42<08:59, 20.00s/it]"
          ]
        },
        {
          "output_type": "stream",
          "name": "stdout",
          "text": [
            "Training...\n",
            "Validating...\n"
          ]
        },
        {
          "output_type": "stream",
          "name": "stderr",
          "text": [
            "\r 48%|████▊     | 24/50 [08:02<08:43, 20.15s/it]"
          ]
        },
        {
          "output_type": "stream",
          "name": "stdout",
          "text": [
            "Training...\n",
            "Validating...\n"
          ]
        },
        {
          "output_type": "stream",
          "name": "stderr",
          "text": [
            "\r 50%|█████     | 25/50 [08:22<08:20, 20.04s/it]"
          ]
        },
        {
          "output_type": "stream",
          "name": "stdout",
          "text": [
            "Training...\n",
            "Validating...\n"
          ]
        },
        {
          "output_type": "stream",
          "name": "stderr",
          "text": [
            "\r 52%|█████▏    | 26/50 [08:43<08:03, 20.15s/it]"
          ]
        },
        {
          "output_type": "stream",
          "name": "stdout",
          "text": [
            "Training...\n",
            "Validating...\n"
          ]
        },
        {
          "output_type": "stream",
          "name": "stderr",
          "text": [
            "\r 54%|█████▍    | 27/50 [09:03<07:43, 20.13s/it]"
          ]
        },
        {
          "output_type": "stream",
          "name": "stdout",
          "text": [
            "Training...\n",
            "Validating...\n"
          ]
        },
        {
          "output_type": "stream",
          "name": "stderr",
          "text": [
            "\r 56%|█████▌    | 28/50 [09:22<07:19, 20.00s/it]"
          ]
        },
        {
          "output_type": "stream",
          "name": "stdout",
          "text": [
            "Training...\n",
            "Validating...\n"
          ]
        },
        {
          "output_type": "stream",
          "name": "stderr",
          "text": [
            "\r 58%|█████▊    | 29/50 [09:43<07:02, 20.11s/it]"
          ]
        },
        {
          "output_type": "stream",
          "name": "stdout",
          "text": [
            "Training...\n",
            "Validating...\n"
          ]
        },
        {
          "output_type": "stream",
          "name": "stderr",
          "text": [
            "\r 60%|██████    | 30/50 [10:02<06:39, 19.97s/it]"
          ]
        },
        {
          "output_type": "stream",
          "name": "stdout",
          "text": [
            "Training...\n",
            "Validating...\n"
          ]
        },
        {
          "output_type": "stream",
          "name": "stderr",
          "text": [
            "\r 62%|██████▏   | 31/50 [10:23<06:24, 20.21s/it]"
          ]
        },
        {
          "output_type": "stream",
          "name": "stdout",
          "text": [
            "Training...\n",
            "Validating...\n"
          ]
        },
        {
          "output_type": "stream",
          "name": "stderr",
          "text": [
            "\r 64%|██████▍   | 32/50 [10:43<06:00, 20.05s/it]"
          ]
        },
        {
          "output_type": "stream",
          "name": "stdout",
          "text": [
            "Training...\n",
            "Validating...\n"
          ]
        },
        {
          "output_type": "stream",
          "name": "stderr",
          "text": [
            "\r 66%|██████▌   | 33/50 [11:03<05:43, 20.20s/it]"
          ]
        },
        {
          "output_type": "stream",
          "name": "stdout",
          "text": [
            "Training...\n",
            "Validating...\n"
          ]
        },
        {
          "output_type": "stream",
          "name": "stderr",
          "text": [
            "\r 68%|██████▊   | 34/50 [11:23<05:21, 20.09s/it]"
          ]
        },
        {
          "output_type": "stream",
          "name": "stdout",
          "text": [
            "Training...\n",
            "Validating...\n"
          ]
        },
        {
          "output_type": "stream",
          "name": "stderr",
          "text": [
            "\r 70%|███████   | 35/50 [11:43<04:59, 19.98s/it]"
          ]
        },
        {
          "output_type": "stream",
          "name": "stdout",
          "text": [
            "Training...\n",
            "Validating...\n"
          ]
        },
        {
          "output_type": "stream",
          "name": "stderr",
          "text": [
            "\r 72%|███████▏  | 36/50 [12:03<04:41, 20.10s/it]"
          ]
        },
        {
          "output_type": "stream",
          "name": "stdout",
          "text": [
            "Training...\n",
            "Validating...\n"
          ]
        },
        {
          "output_type": "stream",
          "name": "stderr",
          "text": [
            "\r 74%|███████▍  | 37/50 [12:23<04:20, 20.03s/it]"
          ]
        },
        {
          "output_type": "stream",
          "name": "stdout",
          "text": [
            "Training...\n",
            "Validating...\n"
          ]
        },
        {
          "output_type": "stream",
          "name": "stderr",
          "text": [
            "\r 76%|███████▌  | 38/50 [12:44<04:02, 20.21s/it]"
          ]
        },
        {
          "output_type": "stream",
          "name": "stdout",
          "text": [
            "Training...\n",
            "Validating...\n"
          ]
        },
        {
          "output_type": "stream",
          "name": "stderr",
          "text": [
            "\r 78%|███████▊  | 39/50 [13:04<03:40, 20.08s/it]"
          ]
        },
        {
          "output_type": "stream",
          "name": "stdout",
          "text": [
            "Training...\n",
            "Validating...\n"
          ]
        },
        {
          "output_type": "stream",
          "name": "stderr",
          "text": [
            "\r 80%|████████  | 40/50 [13:24<03:21, 20.16s/it]"
          ]
        },
        {
          "output_type": "stream",
          "name": "stdout",
          "text": [
            "Training...\n",
            "Validating...\n"
          ]
        },
        {
          "output_type": "stream",
          "name": "stderr",
          "text": [
            "\r 82%|████████▏ | 41/50 [13:44<03:00, 20.09s/it]"
          ]
        },
        {
          "output_type": "stream",
          "name": "stdout",
          "text": [
            "Training...\n",
            "Validating...\n"
          ]
        },
        {
          "output_type": "stream",
          "name": "stderr",
          "text": [
            "\r 84%|████████▍ | 42/50 [14:04<02:40, 20.05s/it]"
          ]
        },
        {
          "output_type": "stream",
          "name": "stdout",
          "text": [
            "Training...\n",
            "Validating...\n"
          ]
        },
        {
          "output_type": "stream",
          "name": "stderr",
          "text": [
            "\r 86%|████████▌ | 43/50 [14:24<02:20, 20.10s/it]"
          ]
        },
        {
          "output_type": "stream",
          "name": "stdout",
          "text": [
            "Training...\n",
            "Validating...\n"
          ]
        },
        {
          "output_type": "stream",
          "name": "stderr",
          "text": [
            "\r 88%|████████▊ | 44/50 [14:44<01:59, 19.99s/it]"
          ]
        },
        {
          "output_type": "stream",
          "name": "stdout",
          "text": [
            "Training...\n",
            "Validating...\n"
          ]
        },
        {
          "output_type": "stream",
          "name": "stderr",
          "text": [
            "\r 90%|█████████ | 45/50 [15:04<01:40, 20.19s/it]"
          ]
        },
        {
          "output_type": "stream",
          "name": "stdout",
          "text": [
            "Training...\n",
            "Validating...\n"
          ]
        },
        {
          "output_type": "stream",
          "name": "stderr",
          "text": [
            "\r 92%|█████████▏| 46/50 [15:24<01:20, 20.03s/it]"
          ]
        },
        {
          "output_type": "stream",
          "name": "stdout",
          "text": [
            "Training...\n",
            "Validating...\n"
          ]
        },
        {
          "output_type": "stream",
          "name": "stderr",
          "text": [
            "\r 94%|█████████▍| 47/50 [15:45<01:00, 20.19s/it]"
          ]
        },
        {
          "output_type": "stream",
          "name": "stdout",
          "text": [
            "Training...\n",
            "Validating...\n"
          ]
        },
        {
          "output_type": "stream",
          "name": "stderr",
          "text": [
            "\r 96%|█████████▌| 48/50 [16:05<00:40, 20.14s/it]"
          ]
        },
        {
          "output_type": "stream",
          "name": "stdout",
          "text": [
            "Training...\n",
            "Validating...\n"
          ]
        },
        {
          "output_type": "stream",
          "name": "stderr",
          "text": [
            "\r 98%|█████████▊| 49/50 [16:24<00:20, 20.01s/it]"
          ]
        },
        {
          "output_type": "stream",
          "name": "stdout",
          "text": [
            "Training...\n",
            "Validating...\n"
          ]
        },
        {
          "output_type": "stream",
          "name": "stderr",
          "text": [
            "100%|██████████| 50/50 [16:45<00:00, 20.11s/it]\n"
          ]
        },
        {
          "output_type": "stream",
          "name": "stdout",
          "text": [
            "[INFO] Total time taken to train and validate the model: 1005.40s\n",
            "Testing...\n",
            "\n",
            "\n",
            "\n",
            "\n",
            "\n",
            "\n",
            "\n",
            "\n",
            "\n",
            "\n",
            "avg_accuracy = 0.8925755620002747, avg_precision = 0.24948501586914062, avg_recall = 0.2527180314064026, avg_f1_score = 0.2415790855884552, avg_dice_score = 0.2415790855884552, avg_iou = 0.14106518030166626\n",
            "TP = [11998, 14767, 5076, 11463, 2339]\n",
            "TN = [444335, 454537, 468670, 468570, 342974]\n",
            "FP = [45309, 22573, 16455, 27024, 19121]\n",
            "FN = [22646, 32411, 34087, 17231, 28782]\n"
          ]
        },
        {
          "output_type": "display_data",
          "data": {
            "text/plain": [
              "<IPython.core.display.HTML object>"
            ],
            "text/html": [
              "Finishing last run (ID:vzyqcx10) before initializing another..."
            ]
          },
          "metadata": {}
        },
        {
          "output_type": "display_data",
          "data": {
            "text/plain": [
              "VBox(children=(Label(value='7.147 MB of 7.147 MB uploaded\\r'), FloatProgress(value=1.0, max=1.0)))"
            ],
            "application/vnd.jupyter.widget-view+json": {
              "version_major": 2,
              "version_minor": 0,
              "model_id": "6ad9850ef7ce4330bd81247e721fc745"
            }
          },
          "metadata": {}
        },
        {
          "output_type": "display_data",
          "data": {
            "text/plain": [
              "<IPython.core.display.HTML object>"
            ],
            "text/html": [
              "<style>\n",
              "    table.wandb td:nth-child(1) { padding: 0 10px; text-align: left ; width: auto;} td:nth-child(2) {text-align: left ; width: 100%}\n",
              "    .wandb-row { display: flex; flex-direction: row; flex-wrap: wrap; justify-content: flex-start; width: 100% }\n",
              "    .wandb-col { display: flex; flex-direction: column; flex-basis: 100%; flex: 1; padding: 10px; }\n",
              "    </style>\n",
              "<div class=\"wandb-row\"><div class=\"wandb-col\"><h3>Run history:</h3><br/><table class=\"wandb\"><tr><td>Accuracy</td><td>▁</td></tr><tr><td>DICE</td><td>▁</td></tr><tr><td>Epoch</td><td>▁▁▁▁▂▂▂▂▂▃▃▃▃▃▃▄▄▄▄▄▅▅▅▅▅▅▆▆▆▆▆▆▇▇▇▇▇███</td></tr><tr><td>F1-Score</td><td>▁</td></tr><tr><td>IOU</td><td>▁</td></tr><tr><td>Precision</td><td>▁</td></tr><tr><td>Recall</td><td>▁</td></tr><tr><td>Train Loss</td><td>█▇▇▇▇▆▆▆▆▆▆▅▅▅▅▄▄▄▃▃▃▃▂▂▂▂▂▂▂▂▁▁▁▁▁▁▁▁▁▁</td></tr><tr><td>Valid Loss</td><td>█▆▅▄▄▄▃▃▃▂▂▂▂▃▂▁▄▃▃▂▃▄▂▃▄▄▄▄▅▄▅▅▆▅▆█▆▄▇▆</td></tr></table><br/></div><div class=\"wandb-col\"><h3>Run summary:</h3><br/><table class=\"wandb\"><tr><td>Accuracy</td><td>0.89258</td></tr><tr><td>DICE</td><td>0.24158</td></tr><tr><td>Epoch</td><td>49</td></tr><tr><td>F1-Score</td><td>0.24158</td></tr><tr><td>IOU</td><td>0.14107</td></tr><tr><td>Precision</td><td>0.24949</td></tr><tr><td>Recall</td><td>0.25272</td></tr><tr><td>Train Loss</td><td>0.25378</td></tr><tr><td>Valid Loss</td><td>1.25553</td></tr></table><br/></div></div>"
            ]
          },
          "metadata": {}
        },
        {
          "output_type": "display_data",
          "data": {
            "text/plain": [
              "<IPython.core.display.HTML object>"
            ],
            "text/html": [
              " View run <strong style=\"color:#cdcd00\">init_metrics_run_tts0.1_ep50</strong> at: <a href='https://wandb.ai/bianca-team/GCANet_IMD2020_altered_imgs/runs/vzyqcx10' target=\"_blank\">https://wandb.ai/bianca-team/GCANet_IMD2020_altered_imgs/runs/vzyqcx10</a><br/> View project at: <a href='https://wandb.ai/bianca-team/GCANet_IMD2020_altered_imgs' target=\"_blank\">https://wandb.ai/bianca-team/GCANet_IMD2020_altered_imgs</a><br/>Synced 5 W&B file(s), 152 media file(s), 0 artifact file(s) and 0 other file(s)"
            ]
          },
          "metadata": {}
        },
        {
          "output_type": "display_data",
          "data": {
            "text/plain": [
              "<IPython.core.display.HTML object>"
            ],
            "text/html": [
              "Find logs at: <code>./wandb/run-20240526_163158-vzyqcx10/logs</code>"
            ]
          },
          "metadata": {}
        },
        {
          "output_type": "display_data",
          "data": {
            "text/plain": [
              "<IPython.core.display.HTML object>"
            ],
            "text/html": [
              "Successfully finished last run (ID:vzyqcx10). Initializing new run:<br/>"
            ]
          },
          "metadata": {}
        },
        {
          "output_type": "display_data",
          "data": {
            "text/plain": [
              "<IPython.core.display.HTML object>"
            ],
            "text/html": [
              "Tracking run with wandb version 0.17.0"
            ]
          },
          "metadata": {}
        },
        {
          "output_type": "display_data",
          "data": {
            "text/plain": [
              "<IPython.core.display.HTML object>"
            ],
            "text/html": [
              "Run data is saved locally in <code>/content/wandb/run-20240526_164905-o981xk0s</code>"
            ]
          },
          "metadata": {}
        },
        {
          "output_type": "display_data",
          "data": {
            "text/plain": [
              "<IPython.core.display.HTML object>"
            ],
            "text/html": [
              "Syncing run <strong><a href='https://wandb.ai/bianca-team/GCANet_IMD2020_altered_imgs/runs/o981xk0s' target=\"_blank\">init_metrics_run_tts0.1_ep100</a></strong> to <a href='https://wandb.ai/bianca-team/GCANet_IMD2020_altered_imgs' target=\"_blank\">Weights & Biases</a> (<a href='https://wandb.me/run' target=\"_blank\">docs</a>)<br/>"
            ]
          },
          "metadata": {}
        },
        {
          "output_type": "display_data",
          "data": {
            "text/plain": [
              "<IPython.core.display.HTML object>"
            ],
            "text/html": [
              " View project at <a href='https://wandb.ai/bianca-team/GCANet_IMD2020_altered_imgs' target=\"_blank\">https://wandb.ai/bianca-team/GCANet_IMD2020_altered_imgs</a>"
            ]
          },
          "metadata": {}
        },
        {
          "output_type": "display_data",
          "data": {
            "text/plain": [
              "<IPython.core.display.HTML object>"
            ],
            "text/html": [
              " View run at <a href='https://wandb.ai/bianca-team/GCANet_IMD2020_altered_imgs/runs/o981xk0s' target=\"_blank\">https://wandb.ai/bianca-team/GCANet_IMD2020_altered_imgs/runs/o981xk0s</a>"
            ]
          },
          "metadata": {}
        },
        {
          "output_type": "stream",
          "name": "stdout",
          "text": [
            "[INFO] Training the network for 100 epochs...\n"
          ]
        },
        {
          "output_type": "stream",
          "name": "stderr",
          "text": [
            "\r  0%|          | 0/100 [00:00<?, ?it/s]"
          ]
        },
        {
          "output_type": "stream",
          "name": "stdout",
          "text": [
            "Training...\n",
            "Validating...\n"
          ]
        },
        {
          "output_type": "stream",
          "name": "stderr",
          "text": [
            "\r  1%|          | 1/100 [00:20<34:03, 20.64s/it]"
          ]
        },
        {
          "output_type": "stream",
          "name": "stdout",
          "text": [
            "Training...\n",
            "Validating...\n"
          ]
        },
        {
          "output_type": "stream",
          "name": "stderr",
          "text": [
            "\r  2%|▏         | 2/100 [00:40<33:17, 20.38s/it]"
          ]
        },
        {
          "output_type": "stream",
          "name": "stdout",
          "text": [
            "Training...\n",
            "Validating...\n"
          ]
        },
        {
          "output_type": "stream",
          "name": "stderr",
          "text": [
            "\r  3%|▎         | 3/100 [01:01<33:07, 20.49s/it]"
          ]
        },
        {
          "output_type": "stream",
          "name": "stdout",
          "text": [
            "Training...\n",
            "Validating...\n"
          ]
        },
        {
          "output_type": "stream",
          "name": "stderr",
          "text": [
            "\r  4%|▍         | 4/100 [01:21<32:15, 20.16s/it]"
          ]
        },
        {
          "output_type": "stream",
          "name": "stdout",
          "text": [
            "Training...\n",
            "Validating...\n"
          ]
        },
        {
          "output_type": "stream",
          "name": "stderr",
          "text": [
            "\r  5%|▌         | 5/100 [01:40<31:45, 20.06s/it]"
          ]
        },
        {
          "output_type": "stream",
          "name": "stdout",
          "text": [
            "Training...\n",
            "Validating...\n"
          ]
        },
        {
          "output_type": "stream",
          "name": "stderr",
          "text": [
            "\r  6%|▌         | 6/100 [02:01<31:39, 20.20s/it]"
          ]
        },
        {
          "output_type": "stream",
          "name": "stdout",
          "text": [
            "Training...\n",
            "Validating...\n"
          ]
        },
        {
          "output_type": "stream",
          "name": "stderr",
          "text": [
            "\r  7%|▋         | 7/100 [02:21<31:06, 20.08s/it]"
          ]
        },
        {
          "output_type": "stream",
          "name": "stdout",
          "text": [
            "Training...\n",
            "Validating...\n"
          ]
        },
        {
          "output_type": "stream",
          "name": "stderr",
          "text": [
            "\r  8%|▊         | 8/100 [02:42<31:07, 20.30s/it]"
          ]
        },
        {
          "output_type": "stream",
          "name": "stdout",
          "text": [
            "Training...\n",
            "Validating...\n"
          ]
        },
        {
          "output_type": "stream",
          "name": "stderr",
          "text": [
            "\r  9%|▉         | 9/100 [03:01<30:30, 20.11s/it]"
          ]
        },
        {
          "output_type": "stream",
          "name": "stdout",
          "text": [
            "Training...\n",
            "Validating...\n"
          ]
        },
        {
          "output_type": "stream",
          "name": "stderr",
          "text": [
            "\r 10%|█         | 10/100 [03:22<30:19, 20.22s/it]"
          ]
        },
        {
          "output_type": "stream",
          "name": "stdout",
          "text": [
            "Training...\n",
            "Validating...\n"
          ]
        },
        {
          "output_type": "stream",
          "name": "stderr",
          "text": [
            "\r 11%|█         | 11/100 [03:42<29:51, 20.13s/it]"
          ]
        },
        {
          "output_type": "stream",
          "name": "stdout",
          "text": [
            "Training...\n",
            "Validating...\n"
          ]
        },
        {
          "output_type": "stream",
          "name": "stderr",
          "text": [
            "\r 12%|█▏        | 12/100 [04:01<29:20, 20.00s/it]"
          ]
        },
        {
          "output_type": "stream",
          "name": "stdout",
          "text": [
            "Training...\n",
            "Validating...\n"
          ]
        },
        {
          "output_type": "stream",
          "name": "stderr",
          "text": [
            "\r 13%|█▎        | 13/100 [04:22<29:08, 20.10s/it]"
          ]
        },
        {
          "output_type": "stream",
          "name": "stdout",
          "text": [
            "Training...\n",
            "Validating...\n"
          ]
        },
        {
          "output_type": "stream",
          "name": "stderr",
          "text": [
            "\r 14%|█▍        | 14/100 [04:41<28:37, 19.97s/it]"
          ]
        },
        {
          "output_type": "stream",
          "name": "stdout",
          "text": [
            "Training...\n",
            "Validating...\n"
          ]
        },
        {
          "output_type": "stream",
          "name": "stderr",
          "text": [
            "\r 15%|█▌        | 15/100 [05:02<28:34, 20.17s/it]"
          ]
        },
        {
          "output_type": "stream",
          "name": "stdout",
          "text": [
            "Training...\n",
            "Validating...\n"
          ]
        },
        {
          "output_type": "stream",
          "name": "stderr",
          "text": [
            "\r 16%|█▌        | 16/100 [05:22<28:03, 20.05s/it]"
          ]
        },
        {
          "output_type": "stream",
          "name": "stdout",
          "text": [
            "Training...\n",
            "Validating...\n"
          ]
        },
        {
          "output_type": "stream",
          "name": "stderr",
          "text": [
            "\r 17%|█▋        | 17/100 [05:42<27:50, 20.13s/it]"
          ]
        },
        {
          "output_type": "stream",
          "name": "stdout",
          "text": [
            "Training...\n",
            "Validating...\n"
          ]
        },
        {
          "output_type": "stream",
          "name": "stderr",
          "text": [
            "\r 18%|█▊        | 18/100 [06:02<27:27, 20.09s/it]"
          ]
        },
        {
          "output_type": "stream",
          "name": "stdout",
          "text": [
            "Training...\n",
            "Validating...\n"
          ]
        },
        {
          "output_type": "stream",
          "name": "stderr",
          "text": [
            "\r 19%|█▉        | 19/100 [06:22<26:58, 19.99s/it]"
          ]
        },
        {
          "output_type": "stream",
          "name": "stdout",
          "text": [
            "Training...\n",
            "Validating...\n"
          ]
        },
        {
          "output_type": "stream",
          "name": "stderr",
          "text": [
            "\r 20%|██        | 20/100 [06:42<26:52, 20.15s/it]"
          ]
        },
        {
          "output_type": "stream",
          "name": "stdout",
          "text": [
            "Training...\n",
            "Validating...\n"
          ]
        },
        {
          "output_type": "stream",
          "name": "stderr",
          "text": [
            "\r 21%|██        | 21/100 [07:02<26:22, 20.04s/it]"
          ]
        },
        {
          "output_type": "stream",
          "name": "stdout",
          "text": [
            "Training...\n",
            "Validating...\n"
          ]
        },
        {
          "output_type": "stream",
          "name": "stderr",
          "text": [
            "\r 22%|██▏       | 22/100 [07:23<26:16, 20.21s/it]"
          ]
        },
        {
          "output_type": "stream",
          "name": "stdout",
          "text": [
            "Training...\n",
            "Validating...\n"
          ]
        },
        {
          "output_type": "stream",
          "name": "stderr",
          "text": [
            "\r 23%|██▎       | 23/100 [07:43<25:47, 20.09s/it]"
          ]
        },
        {
          "output_type": "stream",
          "name": "stdout",
          "text": [
            "Training...\n",
            "Validating...\n"
          ]
        },
        {
          "output_type": "stream",
          "name": "stderr",
          "text": [
            "\r 24%|██▍       | 24/100 [08:03<25:34, 20.19s/it]"
          ]
        },
        {
          "output_type": "stream",
          "name": "stdout",
          "text": [
            "Training...\n",
            "Validating...\n"
          ]
        },
        {
          "output_type": "stream",
          "name": "stderr",
          "text": [
            "\r 25%|██▌       | 25/100 [08:23<25:07, 20.10s/it]"
          ]
        },
        {
          "output_type": "stream",
          "name": "stdout",
          "text": [
            "Training...\n",
            "Validating...\n"
          ]
        },
        {
          "output_type": "stream",
          "name": "stderr",
          "text": [
            "\r 26%|██▌       | 26/100 [08:42<24:36, 19.96s/it]"
          ]
        },
        {
          "output_type": "stream",
          "name": "stdout",
          "text": [
            "Training...\n",
            "Validating...\n"
          ]
        },
        {
          "output_type": "stream",
          "name": "stderr",
          "text": [
            "\r 27%|██▋       | 27/100 [09:03<24:25, 20.08s/it]"
          ]
        },
        {
          "output_type": "stream",
          "name": "stdout",
          "text": [
            "Training...\n",
            "Validating...\n"
          ]
        },
        {
          "output_type": "stream",
          "name": "stderr",
          "text": [
            "\r 28%|██▊       | 28/100 [09:23<23:58, 19.98s/it]"
          ]
        },
        {
          "output_type": "stream",
          "name": "stdout",
          "text": [
            "Training...\n",
            "Validating...\n"
          ]
        },
        {
          "output_type": "stream",
          "name": "stderr",
          "text": [
            "\r 29%|██▉       | 29/100 [09:43<23:51, 20.16s/it]"
          ]
        },
        {
          "output_type": "stream",
          "name": "stdout",
          "text": [
            "Training...\n",
            "Validating...\n"
          ]
        },
        {
          "output_type": "stream",
          "name": "stderr",
          "text": [
            "\r 30%|███       | 30/100 [10:03<23:24, 20.06s/it]"
          ]
        },
        {
          "output_type": "stream",
          "name": "stdout",
          "text": [
            "Training...\n",
            "Validating...\n"
          ]
        },
        {
          "output_type": "stream",
          "name": "stderr",
          "text": [
            "\r 31%|███       | 31/100 [10:23<22:59, 20.00s/it]"
          ]
        },
        {
          "output_type": "stream",
          "name": "stdout",
          "text": [
            "Training...\n",
            "Validating...\n"
          ]
        },
        {
          "output_type": "stream",
          "name": "stderr",
          "text": [
            "\r 32%|███▏      | 32/100 [10:43<22:44, 20.07s/it]"
          ]
        },
        {
          "output_type": "stream",
          "name": "stdout",
          "text": [
            "Training...\n",
            "Validating...\n"
          ]
        },
        {
          "output_type": "stream",
          "name": "stderr",
          "text": [
            "\r 33%|███▎      | 33/100 [11:03<22:20, 20.00s/it]"
          ]
        },
        {
          "output_type": "stream",
          "name": "stdout",
          "text": [
            "Training...\n",
            "Validating...\n"
          ]
        },
        {
          "output_type": "stream",
          "name": "stderr",
          "text": [
            "\r 34%|███▍      | 34/100 [11:23<22:07, 20.12s/it]"
          ]
        },
        {
          "output_type": "stream",
          "name": "stdout",
          "text": [
            "Training...\n",
            "Validating...\n"
          ]
        },
        {
          "output_type": "stream",
          "name": "stderr",
          "text": [
            "\r 35%|███▌      | 35/100 [11:43<21:39, 19.99s/it]"
          ]
        },
        {
          "output_type": "stream",
          "name": "stdout",
          "text": [
            "Training...\n",
            "Validating...\n"
          ]
        },
        {
          "output_type": "stream",
          "name": "stderr",
          "text": [
            "\r 36%|███▌      | 36/100 [12:04<21:30, 20.16s/it]"
          ]
        },
        {
          "output_type": "stream",
          "name": "stdout",
          "text": [
            "Training...\n",
            "Validating...\n"
          ]
        },
        {
          "output_type": "stream",
          "name": "stderr",
          "text": [
            "\r 37%|███▋      | 37/100 [12:23<20:59, 20.00s/it]"
          ]
        },
        {
          "output_type": "stream",
          "name": "stdout",
          "text": [
            "Training...\n",
            "Validating...\n"
          ]
        },
        {
          "output_type": "stream",
          "name": "stderr",
          "text": [
            "\r 38%|███▊      | 38/100 [12:43<20:39, 20.00s/it]"
          ]
        },
        {
          "output_type": "stream",
          "name": "stdout",
          "text": [
            "Training...\n",
            "Validating...\n"
          ]
        },
        {
          "output_type": "stream",
          "name": "stderr",
          "text": [
            "\r 39%|███▉      | 39/100 [13:04<20:26, 20.11s/it]"
          ]
        },
        {
          "output_type": "stream",
          "name": "stdout",
          "text": [
            "Training...\n",
            "Validating...\n"
          ]
        },
        {
          "output_type": "stream",
          "name": "stderr",
          "text": [
            "\r 40%|████      | 40/100 [13:23<19:57, 19.96s/it]"
          ]
        },
        {
          "output_type": "stream",
          "name": "stdout",
          "text": [
            "Training...\n",
            "Validating...\n"
          ]
        },
        {
          "output_type": "stream",
          "name": "stderr",
          "text": [
            "\r 41%|████      | 41/100 [13:44<19:44, 20.08s/it]"
          ]
        },
        {
          "output_type": "stream",
          "name": "stdout",
          "text": [
            "Training...\n",
            "Validating...\n"
          ]
        },
        {
          "output_type": "stream",
          "name": "stderr",
          "text": [
            "\r 42%|████▏     | 42/100 [14:03<19:17, 19.96s/it]"
          ]
        },
        {
          "output_type": "stream",
          "name": "stdout",
          "text": [
            "Training...\n",
            "Validating...\n"
          ]
        },
        {
          "output_type": "stream",
          "name": "stderr",
          "text": [
            "\r 43%|████▎     | 43/100 [14:24<19:06, 20.12s/it]"
          ]
        },
        {
          "output_type": "stream",
          "name": "stdout",
          "text": [
            "Training...\n",
            "Validating...\n"
          ]
        },
        {
          "output_type": "stream",
          "name": "stderr",
          "text": [
            "\r 44%|████▍     | 44/100 [14:44<18:43, 20.06s/it]"
          ]
        },
        {
          "output_type": "stream",
          "name": "stdout",
          "text": [
            "Training...\n",
            "Validating...\n"
          ]
        },
        {
          "output_type": "stream",
          "name": "stderr",
          "text": [
            "\r 45%|████▌     | 45/100 [15:03<18:18, 19.97s/it]"
          ]
        },
        {
          "output_type": "stream",
          "name": "stdout",
          "text": [
            "Training...\n",
            "Validating...\n"
          ]
        },
        {
          "output_type": "stream",
          "name": "stderr",
          "text": [
            "\r 46%|████▌     | 46/100 [15:24<18:03, 20.06s/it]"
          ]
        },
        {
          "output_type": "stream",
          "name": "stdout",
          "text": [
            "Training...\n",
            "Validating...\n"
          ]
        },
        {
          "output_type": "stream",
          "name": "stderr",
          "text": [
            "\r 47%|████▋     | 47/100 [15:43<17:39, 19.98s/it]"
          ]
        },
        {
          "output_type": "stream",
          "name": "stdout",
          "text": [
            "Training...\n",
            "Validating...\n"
          ]
        },
        {
          "output_type": "stream",
          "name": "stderr",
          "text": [
            "\r 48%|████▊     | 48/100 [16:04<17:28, 20.17s/it]"
          ]
        },
        {
          "output_type": "stream",
          "name": "stdout",
          "text": [
            "Training...\n",
            "Validating...\n"
          ]
        },
        {
          "output_type": "stream",
          "name": "stderr",
          "text": [
            "\r 49%|████▉     | 49/100 [16:24<16:59, 19.99s/it]"
          ]
        },
        {
          "output_type": "stream",
          "name": "stdout",
          "text": [
            "Training...\n",
            "Validating...\n"
          ]
        },
        {
          "output_type": "stream",
          "name": "stderr",
          "text": [
            "\r 50%|█████     | 50/100 [16:44<16:46, 20.13s/it]"
          ]
        },
        {
          "output_type": "stream",
          "name": "stdout",
          "text": [
            "Training...\n",
            "Validating...\n"
          ]
        },
        {
          "output_type": "stream",
          "name": "stderr",
          "text": [
            "\r 51%|█████     | 51/100 [17:04<16:22, 20.04s/it]"
          ]
        },
        {
          "output_type": "stream",
          "name": "stdout",
          "text": [
            "Training...\n",
            "Validating...\n"
          ]
        },
        {
          "output_type": "stream",
          "name": "stderr",
          "text": [
            "\r 52%|█████▏    | 52/100 [17:24<16:01, 20.03s/it]"
          ]
        },
        {
          "output_type": "stream",
          "name": "stdout",
          "text": [
            "Training...\n",
            "Validating...\n"
          ]
        },
        {
          "output_type": "stream",
          "name": "stderr",
          "text": [
            "\r 53%|█████▎    | 53/100 [17:44<15:46, 20.13s/it]"
          ]
        },
        {
          "output_type": "stream",
          "name": "stdout",
          "text": [
            "Training...\n",
            "Validating...\n"
          ]
        },
        {
          "output_type": "stream",
          "name": "stderr",
          "text": [
            "\r 54%|█████▍    | 54/100 [18:04<15:18, 19.97s/it]"
          ]
        },
        {
          "output_type": "stream",
          "name": "stdout",
          "text": [
            "Training...\n",
            "Validating...\n"
          ]
        },
        {
          "output_type": "stream",
          "name": "stderr",
          "text": [
            "\r 55%|█████▌    | 55/100 [18:25<15:08, 20.19s/it]"
          ]
        },
        {
          "output_type": "stream",
          "name": "stdout",
          "text": [
            "Training...\n",
            "Validating...\n"
          ]
        },
        {
          "output_type": "stream",
          "name": "stderr",
          "text": [
            "\r 56%|█████▌    | 56/100 [18:44<14:43, 20.09s/it]"
          ]
        },
        {
          "output_type": "stream",
          "name": "stdout",
          "text": [
            "Training...\n",
            "Validating...\n"
          ]
        },
        {
          "output_type": "stream",
          "name": "stderr",
          "text": [
            "\r 57%|█████▋    | 57/100 [19:05<14:27, 20.18s/it]"
          ]
        },
        {
          "output_type": "stream",
          "name": "stdout",
          "text": [
            "Training...\n",
            "Validating...\n"
          ]
        },
        {
          "output_type": "stream",
          "name": "stderr",
          "text": [
            "\r 58%|█████▊    | 58/100 [19:25<14:04, 20.11s/it]"
          ]
        },
        {
          "output_type": "stream",
          "name": "stdout",
          "text": [
            "Training...\n",
            "Validating...\n"
          ]
        },
        {
          "output_type": "stream",
          "name": "stderr",
          "text": [
            "\r 59%|█████▉    | 59/100 [19:44<13:39, 19.99s/it]"
          ]
        },
        {
          "output_type": "stream",
          "name": "stdout",
          "text": [
            "Training...\n",
            "Validating...\n"
          ]
        },
        {
          "output_type": "stream",
          "name": "stderr",
          "text": [
            "\r 60%|██████    | 60/100 [20:05<13:25, 20.13s/it]"
          ]
        },
        {
          "output_type": "stream",
          "name": "stdout",
          "text": [
            "Training...\n",
            "Validating...\n"
          ]
        },
        {
          "output_type": "stream",
          "name": "stderr",
          "text": [
            "\r 61%|██████    | 61/100 [20:25<13:00, 20.00s/it]"
          ]
        },
        {
          "output_type": "stream",
          "name": "stdout",
          "text": [
            "Training...\n",
            "Validating...\n"
          ]
        },
        {
          "output_type": "stream",
          "name": "stderr",
          "text": [
            "\r 62%|██████▏   | 62/100 [20:45<12:44, 20.13s/it]"
          ]
        },
        {
          "output_type": "stream",
          "name": "stdout",
          "text": [
            "Training...\n",
            "Validating...\n"
          ]
        },
        {
          "output_type": "stream",
          "name": "stderr",
          "text": [
            "\r 63%|██████▎   | 63/100 [21:05<12:20, 20.03s/it]"
          ]
        },
        {
          "output_type": "stream",
          "name": "stdout",
          "text": [
            "Training...\n",
            "Validating...\n"
          ]
        },
        {
          "output_type": "stream",
          "name": "stderr",
          "text": [
            "\r 64%|██████▍   | 64/100 [21:25<12:04, 20.14s/it]"
          ]
        },
        {
          "output_type": "stream",
          "name": "stdout",
          "text": [
            "Training...\n",
            "Validating...\n"
          ]
        },
        {
          "output_type": "stream",
          "name": "stderr",
          "text": [
            "\r 65%|██████▌   | 65/100 [21:45<11:42, 20.06s/it]"
          ]
        },
        {
          "output_type": "stream",
          "name": "stdout",
          "text": [
            "Training...\n",
            "Validating...\n"
          ]
        },
        {
          "output_type": "stream",
          "name": "stderr",
          "text": [
            "\r 66%|██████▌   | 66/100 [22:05<11:20, 20.01s/it]"
          ]
        },
        {
          "output_type": "stream",
          "name": "stdout",
          "text": [
            "Training...\n",
            "Validating...\n"
          ]
        },
        {
          "output_type": "stream",
          "name": "stderr",
          "text": [
            "\r 67%|██████▋   | 67/100 [22:26<11:05, 20.15s/it]"
          ]
        },
        {
          "output_type": "stream",
          "name": "stdout",
          "text": [
            "Training...\n",
            "Validating...\n"
          ]
        },
        {
          "output_type": "stream",
          "name": "stderr",
          "text": [
            "\r 68%|██████▊   | 68/100 [22:45<10:41, 20.03s/it]"
          ]
        },
        {
          "output_type": "stream",
          "name": "stdout",
          "text": [
            "Training...\n",
            "Validating...\n"
          ]
        },
        {
          "output_type": "stream",
          "name": "stderr",
          "text": [
            "\r 69%|██████▉   | 69/100 [23:06<10:25, 20.19s/it]"
          ]
        },
        {
          "output_type": "stream",
          "name": "stdout",
          "text": [
            "Training...\n",
            "Validating...\n"
          ]
        },
        {
          "output_type": "stream",
          "name": "stderr",
          "text": [
            "\r 70%|███████   | 70/100 [23:26<10:02, 20.09s/it]"
          ]
        },
        {
          "output_type": "stream",
          "name": "stdout",
          "text": [
            "Training...\n",
            "Validating...\n"
          ]
        },
        {
          "output_type": "stream",
          "name": "stderr",
          "text": [
            "\r 71%|███████   | 71/100 [23:46<09:45, 20.19s/it]"
          ]
        },
        {
          "output_type": "stream",
          "name": "stdout",
          "text": [
            "Training...\n",
            "Validating...\n"
          ]
        },
        {
          "output_type": "stream",
          "name": "stderr",
          "text": [
            "\r 72%|███████▏  | 72/100 [24:06<09:23, 20.11s/it]"
          ]
        },
        {
          "output_type": "stream",
          "name": "stdout",
          "text": [
            "Training...\n",
            "Validating...\n"
          ]
        },
        {
          "output_type": "stream",
          "name": "stderr",
          "text": [
            "\r 73%|███████▎  | 73/100 [24:26<09:00, 20.03s/it]"
          ]
        },
        {
          "output_type": "stream",
          "name": "stdout",
          "text": [
            "Training...\n",
            "Validating...\n"
          ]
        },
        {
          "output_type": "stream",
          "name": "stderr",
          "text": [
            "\r 74%|███████▍  | 74/100 [24:46<08:42, 20.11s/it]"
          ]
        },
        {
          "output_type": "stream",
          "name": "stdout",
          "text": [
            "Training...\n",
            "Validating...\n"
          ]
        },
        {
          "output_type": "stream",
          "name": "stderr",
          "text": [
            "\r 75%|███████▌  | 75/100 [25:06<08:19, 20.00s/it]"
          ]
        },
        {
          "output_type": "stream",
          "name": "stdout",
          "text": [
            "Training...\n",
            "Validating...\n"
          ]
        },
        {
          "output_type": "stream",
          "name": "stderr",
          "text": [
            "\r 76%|███████▌  | 76/100 [25:26<08:03, 20.17s/it]"
          ]
        },
        {
          "output_type": "stream",
          "name": "stdout",
          "text": [
            "Training...\n",
            "Validating...\n"
          ]
        },
        {
          "output_type": "stream",
          "name": "stderr",
          "text": [
            "\r 77%|███████▋  | 77/100 [25:46<07:41, 20.07s/it]"
          ]
        },
        {
          "output_type": "stream",
          "name": "stdout",
          "text": [
            "Training...\n",
            "Validating...\n"
          ]
        },
        {
          "output_type": "stream",
          "name": "stderr",
          "text": [
            "\r 78%|███████▊  | 78/100 [26:07<07:24, 20.22s/it]"
          ]
        },
        {
          "output_type": "stream",
          "name": "stdout",
          "text": [
            "Training...\n",
            "Validating...\n"
          ]
        },
        {
          "output_type": "stream",
          "name": "stderr",
          "text": [
            "\r 79%|███████▉  | 79/100 [26:27<07:03, 20.14s/it]"
          ]
        },
        {
          "output_type": "stream",
          "name": "stdout",
          "text": [
            "Training...\n",
            "Validating...\n"
          ]
        },
        {
          "output_type": "stream",
          "name": "stderr",
          "text": [
            "\r 80%|████████  | 80/100 [26:47<06:40, 20.04s/it]"
          ]
        },
        {
          "output_type": "stream",
          "name": "stdout",
          "text": [
            "Training...\n",
            "Validating...\n"
          ]
        },
        {
          "output_type": "stream",
          "name": "stderr",
          "text": [
            "\r 81%|████████  | 81/100 [27:07<06:21, 20.09s/it]"
          ]
        },
        {
          "output_type": "stream",
          "name": "stdout",
          "text": [
            "Training...\n",
            "Validating...\n"
          ]
        },
        {
          "output_type": "stream",
          "name": "stderr",
          "text": [
            "\r 82%|████████▏ | 82/100 [27:27<05:59, 19.96s/it]"
          ]
        },
        {
          "output_type": "stream",
          "name": "stdout",
          "text": [
            "Training...\n",
            "Validating...\n"
          ]
        },
        {
          "output_type": "stream",
          "name": "stderr",
          "text": [
            "\r 83%|████████▎ | 83/100 [27:47<05:43, 20.19s/it]"
          ]
        },
        {
          "output_type": "stream",
          "name": "stdout",
          "text": [
            "Training...\n",
            "Validating...\n"
          ]
        },
        {
          "output_type": "stream",
          "name": "stderr",
          "text": [
            "\r 84%|████████▍ | 84/100 [28:07<05:20, 20.05s/it]"
          ]
        },
        {
          "output_type": "stream",
          "name": "stdout",
          "text": [
            "Training...\n",
            "Validating...\n"
          ]
        },
        {
          "output_type": "stream",
          "name": "stderr",
          "text": [
            "\r 85%|████████▌ | 85/100 [28:27<05:01, 20.11s/it]"
          ]
        },
        {
          "output_type": "stream",
          "name": "stdout",
          "text": [
            "Training...\n",
            "Validating...\n"
          ]
        },
        {
          "output_type": "stream",
          "name": "stderr",
          "text": [
            "\r 86%|████████▌ | 86/100 [28:47<04:41, 20.07s/it]"
          ]
        },
        {
          "output_type": "stream",
          "name": "stdout",
          "text": [
            "Training...\n",
            "Validating...\n"
          ]
        },
        {
          "output_type": "stream",
          "name": "stderr",
          "text": [
            "\r 87%|████████▋ | 87/100 [29:07<04:19, 19.98s/it]"
          ]
        },
        {
          "output_type": "stream",
          "name": "stdout",
          "text": [
            "Training...\n",
            "Validating...\n"
          ]
        },
        {
          "output_type": "stream",
          "name": "stderr",
          "text": [
            "\r 88%|████████▊ | 88/100 [29:27<04:01, 20.09s/it]"
          ]
        },
        {
          "output_type": "stream",
          "name": "stdout",
          "text": [
            "Training...\n",
            "Validating...\n"
          ]
        },
        {
          "output_type": "stream",
          "name": "stderr",
          "text": [
            "\r 89%|████████▉ | 89/100 [29:47<03:39, 20.00s/it]"
          ]
        },
        {
          "output_type": "stream",
          "name": "stdout",
          "text": [
            "Training...\n",
            "Validating...\n"
          ]
        },
        {
          "output_type": "stream",
          "name": "stderr",
          "text": [
            "\r 90%|█████████ | 90/100 [30:08<03:21, 20.18s/it]"
          ]
        },
        {
          "output_type": "stream",
          "name": "stdout",
          "text": [
            "Training...\n",
            "Validating...\n"
          ]
        },
        {
          "output_type": "stream",
          "name": "stderr",
          "text": [
            "\r 91%|█████████ | 91/100 [30:28<03:00, 20.08s/it]"
          ]
        },
        {
          "output_type": "stream",
          "name": "stdout",
          "text": [
            "Training...\n",
            "Validating...\n"
          ]
        },
        {
          "output_type": "stream",
          "name": "stderr",
          "text": [
            "\r 92%|█████████▏| 92/100 [30:48<02:41, 20.18s/it]"
          ]
        },
        {
          "output_type": "stream",
          "name": "stdout",
          "text": [
            "Training...\n",
            "Validating...\n"
          ]
        },
        {
          "output_type": "stream",
          "name": "stderr",
          "text": [
            "\r 93%|█████████▎| 93/100 [31:08<02:21, 20.17s/it]"
          ]
        },
        {
          "output_type": "stream",
          "name": "stdout",
          "text": [
            "Training...\n",
            "Validating...\n"
          ]
        },
        {
          "output_type": "stream",
          "name": "stderr",
          "text": [
            "\r 94%|█████████▍| 94/100 [31:28<02:00, 20.07s/it]"
          ]
        },
        {
          "output_type": "stream",
          "name": "stdout",
          "text": [
            "Training...\n",
            "Validating...\n"
          ]
        },
        {
          "output_type": "stream",
          "name": "stderr",
          "text": [
            "\r 95%|█████████▌| 95/100 [31:48<01:40, 20.17s/it]"
          ]
        },
        {
          "output_type": "stream",
          "name": "stdout",
          "text": [
            "Training...\n",
            "Validating...\n"
          ]
        },
        {
          "output_type": "stream",
          "name": "stderr",
          "text": [
            "\r 96%|█████████▌| 96/100 [32:08<01:20, 20.03s/it]"
          ]
        },
        {
          "output_type": "stream",
          "name": "stdout",
          "text": [
            "Training...\n",
            "Validating...\n"
          ]
        },
        {
          "output_type": "stream",
          "name": "stderr",
          "text": [
            "\r 97%|█████████▋| 97/100 [32:29<01:00, 20.18s/it]"
          ]
        },
        {
          "output_type": "stream",
          "name": "stdout",
          "text": [
            "Training...\n",
            "Validating...\n"
          ]
        },
        {
          "output_type": "stream",
          "name": "stderr",
          "text": [
            "\r 98%|█████████▊| 98/100 [32:49<00:40, 20.14s/it]"
          ]
        },
        {
          "output_type": "stream",
          "name": "stdout",
          "text": [
            "Training...\n",
            "Validating...\n"
          ]
        },
        {
          "output_type": "stream",
          "name": "stderr",
          "text": [
            "\r 99%|█████████▉| 99/100 [33:08<00:20, 20.05s/it]"
          ]
        },
        {
          "output_type": "stream",
          "name": "stdout",
          "text": [
            "Training...\n",
            "Validating...\n"
          ]
        },
        {
          "output_type": "stream",
          "name": "stderr",
          "text": [
            "100%|██████████| 100/100 [33:29<00:00, 20.09s/it]\n"
          ]
        },
        {
          "output_type": "stream",
          "name": "stdout",
          "text": [
            "[INFO] Total time taken to train and validate the model: 2009.26s\n",
            "Testing...\n",
            "\n",
            "\n",
            "\n",
            "\n",
            "\n",
            "\n",
            "\n",
            "\n",
            "\n",
            "\n",
            "avg_accuracy = 0.9089051485061646, avg_precision = 0.30499517917633057, avg_recall = 0.22632375359535217, avg_f1_score = 0.25105926394462585, avg_dice_score = 0.25105926394462585, avg_iou = 0.14822426438331604\n",
            "TP = [5268, 17689, 4938, 10620, 3374]\n",
            "TN = [470509, 458923, 466482, 471290, 354317]\n",
            "FP = [19135, 18187, 18643, 24304, 7778]\n",
            "FN = [29376, 29489, 34225, 18074, 27747]\n"
          ]
        },
        {
          "output_type": "display_data",
          "data": {
            "text/plain": [
              "<IPython.core.display.HTML object>"
            ],
            "text/html": [
              "Finishing last run (ID:o981xk0s) before initializing another..."
            ]
          },
          "metadata": {}
        },
        {
          "output_type": "display_data",
          "data": {
            "text/plain": [
              "VBox(children=(Label(value='7.148 MB of 7.148 MB uploaded\\r'), FloatProgress(value=1.0, max=1.0)))"
            ],
            "application/vnd.jupyter.widget-view+json": {
              "version_major": 2,
              "version_minor": 0,
              "model_id": "bd81fe833fcb4937b92356d94b8f1250"
            }
          },
          "metadata": {}
        },
        {
          "output_type": "display_data",
          "data": {
            "text/plain": [
              "<IPython.core.display.HTML object>"
            ],
            "text/html": [
              "<style>\n",
              "    table.wandb td:nth-child(1) { padding: 0 10px; text-align: left ; width: auto;} td:nth-child(2) {text-align: left ; width: 100%}\n",
              "    .wandb-row { display: flex; flex-direction: row; flex-wrap: wrap; justify-content: flex-start; width: 100% }\n",
              "    .wandb-col { display: flex; flex-direction: column; flex-basis: 100%; flex: 1; padding: 10px; }\n",
              "    </style>\n",
              "<div class=\"wandb-row\"><div class=\"wandb-col\"><h3>Run history:</h3><br/><table class=\"wandb\"><tr><td>Accuracy</td><td>▁</td></tr><tr><td>DICE</td><td>▁</td></tr><tr><td>Epoch</td><td>▁▁▁▁▂▂▂▂▂▃▃▃▃▃▃▄▄▄▄▄▅▅▅▅▅▅▆▆▆▆▆▇▇▇▇▇▇███</td></tr><tr><td>F1-Score</td><td>▁</td></tr><tr><td>IOU</td><td>▁</td></tr><tr><td>Precision</td><td>▁</td></tr><tr><td>Recall</td><td>▁</td></tr><tr><td>Train Loss</td><td>█▇▇▆▆▆▅▅▅▄▄▄▃▃▃▃▂▂▂▂▂▂▂▂▁▁▁▁▁▁▁▁▂▂▁▁▁▁▁▁</td></tr><tr><td>Valid Loss</td><td>█▅▄▃▂▃▂▁▁▂▁▁▁▂▂▂▂▃▃▃▃▄▅▃▃▅▄▅▅▄▅▆▄▅▅▅▆▆▆▇</td></tr></table><br/></div><div class=\"wandb-col\"><h3>Run summary:</h3><br/><table class=\"wandb\"><tr><td>Accuracy</td><td>0.90891</td></tr><tr><td>DICE</td><td>0.25106</td></tr><tr><td>Epoch</td><td>99</td></tr><tr><td>F1-Score</td><td>0.25106</td></tr><tr><td>IOU</td><td>0.14822</td></tr><tr><td>Precision</td><td>0.305</td></tr><tr><td>Recall</td><td>0.22632</td></tr><tr><td>Train Loss</td><td>0.09921</td></tr><tr><td>Valid Loss</td><td>1.36838</td></tr></table><br/></div></div>"
            ]
          },
          "metadata": {}
        },
        {
          "output_type": "display_data",
          "data": {
            "text/plain": [
              "<IPython.core.display.HTML object>"
            ],
            "text/html": [
              " View run <strong style=\"color:#cdcd00\">init_metrics_run_tts0.1_ep100</strong> at: <a href='https://wandb.ai/bianca-team/GCANet_IMD2020_altered_imgs/runs/o981xk0s' target=\"_blank\">https://wandb.ai/bianca-team/GCANet_IMD2020_altered_imgs/runs/o981xk0s</a><br/> View project at: <a href='https://wandb.ai/bianca-team/GCANet_IMD2020_altered_imgs' target=\"_blank\">https://wandb.ai/bianca-team/GCANet_IMD2020_altered_imgs</a><br/>Synced 5 W&B file(s), 152 media file(s), 0 artifact file(s) and 0 other file(s)"
            ]
          },
          "metadata": {}
        },
        {
          "output_type": "display_data",
          "data": {
            "text/plain": [
              "<IPython.core.display.HTML object>"
            ],
            "text/html": [
              "Find logs at: <code>./wandb/run-20240526_164905-o981xk0s/logs</code>"
            ]
          },
          "metadata": {}
        },
        {
          "output_type": "display_data",
          "data": {
            "text/plain": [
              "<IPython.core.display.HTML object>"
            ],
            "text/html": [
              "Successfully finished last run (ID:o981xk0s). Initializing new run:<br/>"
            ]
          },
          "metadata": {}
        },
        {
          "output_type": "display_data",
          "data": {
            "text/plain": [
              "<IPython.core.display.HTML object>"
            ],
            "text/html": [
              "Tracking run with wandb version 0.17.0"
            ]
          },
          "metadata": {}
        },
        {
          "output_type": "display_data",
          "data": {
            "text/plain": [
              "<IPython.core.display.HTML object>"
            ],
            "text/html": [
              "Run data is saved locally in <code>/content/wandb/run-20240526_172256-ppt1rmtl</code>"
            ]
          },
          "metadata": {}
        },
        {
          "output_type": "display_data",
          "data": {
            "text/plain": [
              "<IPython.core.display.HTML object>"
            ],
            "text/html": [
              "Syncing run <strong><a href='https://wandb.ai/bianca-team/GCANet_IMD2020_altered_imgs/runs/ppt1rmtl' target=\"_blank\">init_metrics_run_tts0.1_ep150</a></strong> to <a href='https://wandb.ai/bianca-team/GCANet_IMD2020_altered_imgs' target=\"_blank\">Weights & Biases</a> (<a href='https://wandb.me/run' target=\"_blank\">docs</a>)<br/>"
            ]
          },
          "metadata": {}
        },
        {
          "output_type": "display_data",
          "data": {
            "text/plain": [
              "<IPython.core.display.HTML object>"
            ],
            "text/html": [
              " View project at <a href='https://wandb.ai/bianca-team/GCANet_IMD2020_altered_imgs' target=\"_blank\">https://wandb.ai/bianca-team/GCANet_IMD2020_altered_imgs</a>"
            ]
          },
          "metadata": {}
        },
        {
          "output_type": "display_data",
          "data": {
            "text/plain": [
              "<IPython.core.display.HTML object>"
            ],
            "text/html": [
              " View run at <a href='https://wandb.ai/bianca-team/GCANet_IMD2020_altered_imgs/runs/ppt1rmtl' target=\"_blank\">https://wandb.ai/bianca-team/GCANet_IMD2020_altered_imgs/runs/ppt1rmtl</a>"
            ]
          },
          "metadata": {}
        },
        {
          "output_type": "stream",
          "name": "stdout",
          "text": [
            "[INFO] Training the network for 150 epochs...\n"
          ]
        },
        {
          "output_type": "stream",
          "name": "stderr",
          "text": [
            "\r  0%|          | 0/150 [00:00<?, ?it/s]"
          ]
        },
        {
          "output_type": "stream",
          "name": "stdout",
          "text": [
            "Training...\n",
            "Validating...\n"
          ]
        },
        {
          "output_type": "stream",
          "name": "stderr",
          "text": [
            "\r  1%|          | 1/150 [00:20<51:03, 20.56s/it]"
          ]
        },
        {
          "output_type": "stream",
          "name": "stdout",
          "text": [
            "Training...\n",
            "Validating...\n"
          ]
        },
        {
          "output_type": "stream",
          "name": "stderr",
          "text": [
            "\r  1%|▏         | 2/150 [00:40<50:03, 20.29s/it]"
          ]
        },
        {
          "output_type": "stream",
          "name": "stdout",
          "text": [
            "Training...\n",
            "Validating...\n"
          ]
        },
        {
          "output_type": "stream",
          "name": "stderr",
          "text": [
            "\r  2%|▏         | 3/150 [01:01<50:08, 20.46s/it]"
          ]
        },
        {
          "output_type": "stream",
          "name": "stdout",
          "text": [
            "Training...\n",
            "Validating...\n"
          ]
        },
        {
          "output_type": "stream",
          "name": "stderr",
          "text": [
            "\r  3%|▎         | 4/150 [01:20<48:57, 20.12s/it]"
          ]
        },
        {
          "output_type": "stream",
          "name": "stdout",
          "text": [
            "Training...\n",
            "Validating...\n"
          ]
        },
        {
          "output_type": "stream",
          "name": "stderr",
          "text": [
            "\r  3%|▎         | 5/150 [01:41<48:58, 20.27s/it]"
          ]
        },
        {
          "output_type": "stream",
          "name": "stdout",
          "text": [
            "Training...\n",
            "Validating...\n"
          ]
        },
        {
          "output_type": "stream",
          "name": "stderr",
          "text": [
            "\r  4%|▍         | 6/150 [02:01<48:32, 20.23s/it]"
          ]
        },
        {
          "output_type": "stream",
          "name": "stdout",
          "text": [
            "Training...\n",
            "Validating...\n"
          ]
        },
        {
          "output_type": "stream",
          "name": "stderr",
          "text": [
            "\r  5%|▍         | 7/150 [02:21<47:49, 20.07s/it]"
          ]
        },
        {
          "output_type": "stream",
          "name": "stdout",
          "text": [
            "Training...\n",
            "Validating...\n"
          ]
        },
        {
          "output_type": "stream",
          "name": "stderr",
          "text": [
            "\r  5%|▌         | 8/150 [02:41<47:35, 20.11s/it]"
          ]
        },
        {
          "output_type": "stream",
          "name": "stdout",
          "text": [
            "Training...\n",
            "Validating...\n"
          ]
        },
        {
          "output_type": "stream",
          "name": "stderr",
          "text": [
            "\r  6%|▌         | 9/150 [03:01<47:01, 20.01s/it]"
          ]
        },
        {
          "output_type": "stream",
          "name": "stdout",
          "text": [
            "Training...\n",
            "Validating...\n"
          ]
        },
        {
          "output_type": "stream",
          "name": "stderr",
          "text": [
            "\r  7%|▋         | 10/150 [03:21<47:06, 20.19s/it]"
          ]
        },
        {
          "output_type": "stream",
          "name": "stdout",
          "text": [
            "Training...\n",
            "Validating...\n"
          ]
        },
        {
          "output_type": "stream",
          "name": "stderr",
          "text": [
            "\r  7%|▋         | 11/150 [03:41<46:23, 20.03s/it]"
          ]
        },
        {
          "output_type": "stream",
          "name": "stdout",
          "text": [
            "Training...\n",
            "Validating...\n"
          ]
        },
        {
          "output_type": "stream",
          "name": "stderr",
          "text": [
            "\r  8%|▊         | 12/150 [04:01<46:16, 20.12s/it]"
          ]
        },
        {
          "output_type": "stream",
          "name": "stdout",
          "text": [
            "Training...\n",
            "Validating...\n"
          ]
        },
        {
          "output_type": "stream",
          "name": "stderr",
          "text": [
            "\r  9%|▊         | 13/150 [04:21<45:54, 20.10s/it]"
          ]
        },
        {
          "output_type": "stream",
          "name": "stdout",
          "text": [
            "Training...\n",
            "Validating...\n"
          ]
        },
        {
          "output_type": "stream",
          "name": "stderr",
          "text": [
            "\r  9%|▉         | 14/150 [04:41<45:15, 19.97s/it]"
          ]
        },
        {
          "output_type": "stream",
          "name": "stdout",
          "text": [
            "Training...\n",
            "Validating...\n"
          ]
        },
        {
          "output_type": "stream",
          "name": "stderr",
          "text": [
            "\r 10%|█         | 15/150 [05:01<45:10, 20.08s/it]"
          ]
        },
        {
          "output_type": "stream",
          "name": "stdout",
          "text": [
            "Training...\n",
            "Validating...\n"
          ]
        },
        {
          "output_type": "stream",
          "name": "stderr",
          "text": [
            "\r 11%|█         | 16/150 [05:21<44:38, 19.99s/it]"
          ]
        },
        {
          "output_type": "stream",
          "name": "stdout",
          "text": [
            "Training...\n",
            "Validating...\n"
          ]
        },
        {
          "output_type": "stream",
          "name": "stderr",
          "text": [
            "\r 11%|█▏        | 17/150 [05:42<44:45, 20.19s/it]"
          ]
        },
        {
          "output_type": "stream",
          "name": "stdout",
          "text": [
            "Training...\n",
            "Validating...\n"
          ]
        },
        {
          "output_type": "stream",
          "name": "stderr",
          "text": [
            "\r 12%|█▏        | 18/150 [06:02<44:09, 20.07s/it]"
          ]
        },
        {
          "output_type": "stream",
          "name": "stdout",
          "text": [
            "Training...\n",
            "Validating...\n"
          ]
        },
        {
          "output_type": "stream",
          "name": "stderr",
          "text": [
            "\r 13%|█▎        | 19/150 [06:22<43:52, 20.10s/it]"
          ]
        },
        {
          "output_type": "stream",
          "name": "stdout",
          "text": [
            "Training...\n",
            "Validating...\n"
          ]
        },
        {
          "output_type": "stream",
          "name": "stderr",
          "text": [
            "\r 13%|█▎        | 20/150 [06:42<43:38, 20.15s/it]"
          ]
        },
        {
          "output_type": "stream",
          "name": "stdout",
          "text": [
            "Training...\n",
            "Validating...\n"
          ]
        },
        {
          "output_type": "stream",
          "name": "stderr",
          "text": [
            "\r 14%|█▍        | 21/150 [07:02<42:57, 19.98s/it]"
          ]
        },
        {
          "output_type": "stream",
          "name": "stdout",
          "text": [
            "Training...\n",
            "Validating...\n"
          ]
        },
        {
          "output_type": "stream",
          "name": "stderr",
          "text": [
            "\r 15%|█▍        | 22/150 [07:22<42:54, 20.11s/it]"
          ]
        },
        {
          "output_type": "stream",
          "name": "stdout",
          "text": [
            "Training...\n",
            "Validating...\n"
          ]
        },
        {
          "output_type": "stream",
          "name": "stderr",
          "text": [
            "\r 15%|█▌        | 23/150 [07:42<42:17, 19.98s/it]"
          ]
        },
        {
          "output_type": "stream",
          "name": "stdout",
          "text": [
            "Training...\n",
            "Validating...\n"
          ]
        },
        {
          "output_type": "stream",
          "name": "stderr",
          "text": [
            "\r 16%|█▌        | 24/150 [08:03<42:28, 20.23s/it]"
          ]
        },
        {
          "output_type": "stream",
          "name": "stdout",
          "text": [
            "Training...\n",
            "Validating...\n"
          ]
        },
        {
          "output_type": "stream",
          "name": "stderr",
          "text": [
            "\r 17%|█▋        | 25/150 [08:22<41:53, 20.11s/it]"
          ]
        },
        {
          "output_type": "stream",
          "name": "stdout",
          "text": [
            "Training...\n",
            "Validating...\n"
          ]
        },
        {
          "output_type": "stream",
          "name": "stderr",
          "text": [
            "\r 17%|█▋        | 26/150 [08:42<41:22, 20.02s/it]"
          ]
        },
        {
          "output_type": "stream",
          "name": "stdout",
          "text": [
            "Training...\n",
            "Validating...\n"
          ]
        },
        {
          "output_type": "stream",
          "name": "stderr",
          "text": [
            "\r 18%|█▊        | 27/150 [09:03<41:10, 20.09s/it]"
          ]
        },
        {
          "output_type": "stream",
          "name": "stdout",
          "text": [
            "Training...\n",
            "Validating...\n"
          ]
        },
        {
          "output_type": "stream",
          "name": "stderr",
          "text": [
            "\r 19%|█▊        | 28/150 [09:22<40:33, 19.95s/it]"
          ]
        },
        {
          "output_type": "stream",
          "name": "stdout",
          "text": [
            "Training...\n",
            "Validating...\n"
          ]
        },
        {
          "output_type": "stream",
          "name": "stderr",
          "text": [
            "\r 19%|█▉        | 29/150 [09:43<40:34, 20.12s/it]"
          ]
        },
        {
          "output_type": "stream",
          "name": "stdout",
          "text": [
            "Training...\n",
            "Validating...\n"
          ]
        },
        {
          "output_type": "stream",
          "name": "stderr",
          "text": [
            "\r 20%|██        | 30/150 [10:02<39:59, 20.00s/it]"
          ]
        },
        {
          "output_type": "stream",
          "name": "stdout",
          "text": [
            "Training...\n",
            "Validating...\n"
          ]
        },
        {
          "output_type": "stream",
          "name": "stderr",
          "text": [
            "\r 21%|██        | 31/150 [10:23<39:54, 20.12s/it]"
          ]
        },
        {
          "output_type": "stream",
          "name": "stdout",
          "text": [
            "Training...\n",
            "Validating...\n"
          ]
        },
        {
          "output_type": "stream",
          "name": "stderr",
          "text": [
            "\r 21%|██▏       | 32/150 [10:43<39:33, 20.11s/it]"
          ]
        },
        {
          "output_type": "stream",
          "name": "stdout",
          "text": [
            "Training...\n",
            "Validating...\n"
          ]
        },
        {
          "output_type": "stream",
          "name": "stderr",
          "text": [
            "\r 22%|██▏       | 33/150 [11:03<38:58, 19.99s/it]"
          ]
        },
        {
          "output_type": "stream",
          "name": "stdout",
          "text": [
            "Training...\n",
            "Validating...\n"
          ]
        },
        {
          "output_type": "stream",
          "name": "stderr",
          "text": [
            "\r 23%|██▎       | 34/150 [11:23<38:47, 20.06s/it]"
          ]
        },
        {
          "output_type": "stream",
          "name": "stdout",
          "text": [
            "Training...\n",
            "Validating...\n"
          ]
        },
        {
          "output_type": "stream",
          "name": "stderr",
          "text": [
            "\r 23%|██▎       | 35/150 [11:42<38:14, 19.95s/it]"
          ]
        },
        {
          "output_type": "stream",
          "name": "stdout",
          "text": [
            "Training...\n",
            "Validating...\n"
          ]
        },
        {
          "output_type": "stream",
          "name": "stderr",
          "text": [
            "\r 24%|██▍       | 36/150 [12:03<38:16, 20.14s/it]"
          ]
        },
        {
          "output_type": "stream",
          "name": "stdout",
          "text": [
            "Training...\n",
            "Validating...\n"
          ]
        },
        {
          "output_type": "stream",
          "name": "stderr",
          "text": [
            "\r 25%|██▍       | 37/150 [12:23<37:46, 20.06s/it]"
          ]
        },
        {
          "output_type": "stream",
          "name": "stdout",
          "text": [
            "Training...\n",
            "Validating...\n"
          ]
        },
        {
          "output_type": "stream",
          "name": "stderr",
          "text": [
            "\r 25%|██▌       | 38/150 [12:43<37:34, 20.13s/it]"
          ]
        },
        {
          "output_type": "stream",
          "name": "stdout",
          "text": [
            "Training...\n",
            "Validating...\n"
          ]
        },
        {
          "output_type": "stream",
          "name": "stderr",
          "text": [
            "\r 26%|██▌       | 39/150 [13:03<37:07, 20.07s/it]"
          ]
        },
        {
          "output_type": "stream",
          "name": "stdout",
          "text": [
            "Training...\n",
            "Validating...\n"
          ]
        },
        {
          "output_type": "stream",
          "name": "stderr",
          "text": [
            "\r 27%|██▋       | 40/150 [13:23<36:36, 19.97s/it]"
          ]
        },
        {
          "output_type": "stream",
          "name": "stdout",
          "text": [
            "Training...\n",
            "Validating...\n"
          ]
        },
        {
          "output_type": "stream",
          "name": "stderr",
          "text": [
            "\r 27%|██▋       | 41/150 [13:43<36:30, 20.10s/it]"
          ]
        },
        {
          "output_type": "stream",
          "name": "stdout",
          "text": [
            "Training...\n",
            "Validating...\n"
          ]
        },
        {
          "output_type": "stream",
          "name": "stderr",
          "text": [
            "\r 28%|██▊       | 42/150 [14:03<36:00, 20.01s/it]"
          ]
        },
        {
          "output_type": "stream",
          "name": "stdout",
          "text": [
            "Training...\n",
            "Validating...\n"
          ]
        },
        {
          "output_type": "stream",
          "name": "stderr",
          "text": [
            "\r 29%|██▊       | 43/150 [14:24<35:58, 20.17s/it]"
          ]
        },
        {
          "output_type": "stream",
          "name": "stdout",
          "text": [
            "Training...\n",
            "Validating...\n"
          ]
        },
        {
          "output_type": "stream",
          "name": "stderr",
          "text": [
            "\r 29%|██▉       | 44/150 [14:43<35:24, 20.05s/it]"
          ]
        },
        {
          "output_type": "stream",
          "name": "stdout",
          "text": [
            "Training...\n",
            "Validating...\n"
          ]
        },
        {
          "output_type": "stream",
          "name": "stderr",
          "text": [
            "\r 30%|███       | 45/150 [15:04<35:10, 20.10s/it]"
          ]
        },
        {
          "output_type": "stream",
          "name": "stdout",
          "text": [
            "Training...\n",
            "Validating...\n"
          ]
        },
        {
          "output_type": "stream",
          "name": "stderr",
          "text": [
            "\r 31%|███       | 46/150 [15:24<34:45, 20.06s/it]"
          ]
        },
        {
          "output_type": "stream",
          "name": "stdout",
          "text": [
            "Training...\n",
            "Validating...\n"
          ]
        },
        {
          "output_type": "stream",
          "name": "stderr",
          "text": [
            "\r 31%|███▏      | 47/150 [15:43<34:11, 19.92s/it]"
          ]
        },
        {
          "output_type": "stream",
          "name": "stdout",
          "text": [
            "Training...\n",
            "Validating...\n"
          ]
        },
        {
          "output_type": "stream",
          "name": "stderr",
          "text": [
            "\r 32%|███▏      | 48/150 [16:03<34:02, 20.02s/it]"
          ]
        },
        {
          "output_type": "stream",
          "name": "stdout",
          "text": [
            "Training...\n",
            "Validating...\n"
          ]
        },
        {
          "output_type": "stream",
          "name": "stderr",
          "text": [
            "\r 33%|███▎      | 49/150 [16:23<33:31, 19.92s/it]"
          ]
        },
        {
          "output_type": "stream",
          "name": "stdout",
          "text": [
            "Training...\n",
            "Validating...\n"
          ]
        },
        {
          "output_type": "stream",
          "name": "stderr",
          "text": [
            "\r 33%|███▎      | 50/150 [16:44<33:35, 20.16s/it]"
          ]
        },
        {
          "output_type": "stream",
          "name": "stdout",
          "text": [
            "Training...\n",
            "Validating...\n"
          ]
        },
        {
          "output_type": "stream",
          "name": "stderr",
          "text": [
            "\r 34%|███▍      | 51/150 [17:04<33:03, 20.04s/it]"
          ]
        },
        {
          "output_type": "stream",
          "name": "stdout",
          "text": [
            "Training...\n",
            "Validating...\n"
          ]
        },
        {
          "output_type": "stream",
          "name": "stderr",
          "text": [
            "\r 35%|███▍      | 52/150 [17:24<32:49, 20.09s/it]"
          ]
        },
        {
          "output_type": "stream",
          "name": "stdout",
          "text": [
            "Training...\n",
            "Validating...\n"
          ]
        },
        {
          "output_type": "stream",
          "name": "stderr",
          "text": [
            "\r 35%|███▌      | 53/150 [17:44<32:27, 20.08s/it]"
          ]
        },
        {
          "output_type": "stream",
          "name": "stdout",
          "text": [
            "Training...\n",
            "Validating...\n"
          ]
        },
        {
          "output_type": "stream",
          "name": "stderr",
          "text": [
            "\r 36%|███▌      | 54/150 [18:03<31:53, 19.93s/it]"
          ]
        },
        {
          "output_type": "stream",
          "name": "stdout",
          "text": [
            "Training...\n",
            "Validating...\n"
          ]
        },
        {
          "output_type": "stream",
          "name": "stderr",
          "text": [
            "\r 37%|███▋      | 55/150 [18:24<31:47, 20.08s/it]"
          ]
        },
        {
          "output_type": "stream",
          "name": "stdout",
          "text": [
            "Training...\n",
            "Validating...\n"
          ]
        },
        {
          "output_type": "stream",
          "name": "stderr",
          "text": [
            "\r 37%|███▋      | 56/150 [18:44<31:17, 19.98s/it]"
          ]
        },
        {
          "output_type": "stream",
          "name": "stdout",
          "text": [
            "Training...\n",
            "Validating...\n"
          ]
        },
        {
          "output_type": "stream",
          "name": "stderr",
          "text": [
            "\r 38%|███▊      | 57/150 [19:04<31:13, 20.14s/it]"
          ]
        },
        {
          "output_type": "stream",
          "name": "stdout",
          "text": [
            "Training...\n",
            "Validating...\n"
          ]
        },
        {
          "output_type": "stream",
          "name": "stderr",
          "text": [
            "\r 39%|███▊      | 58/150 [19:24<30:49, 20.11s/it]"
          ]
        },
        {
          "output_type": "stream",
          "name": "stdout",
          "text": [
            "Training...\n",
            "Validating...\n"
          ]
        },
        {
          "output_type": "stream",
          "name": "stderr",
          "text": [
            "\r 39%|███▉      | 59/150 [19:44<30:29, 20.10s/it]"
          ]
        },
        {
          "output_type": "stream",
          "name": "stdout",
          "text": [
            "Training...\n",
            "Validating...\n"
          ]
        },
        {
          "output_type": "stream",
          "name": "stderr",
          "text": [
            "\r 40%|████      | 60/150 [20:05<30:12, 20.14s/it]"
          ]
        },
        {
          "output_type": "stream",
          "name": "stdout",
          "text": [
            "Training...\n",
            "Validating...\n"
          ]
        },
        {
          "output_type": "stream",
          "name": "stderr",
          "text": [
            "\r 41%|████      | 61/150 [20:24<29:42, 20.03s/it]"
          ]
        },
        {
          "output_type": "stream",
          "name": "stdout",
          "text": [
            "Training...\n",
            "Validating...\n"
          ]
        },
        {
          "output_type": "stream",
          "name": "stderr",
          "text": [
            "\r 41%|████▏     | 62/150 [20:45<29:38, 20.21s/it]"
          ]
        },
        {
          "output_type": "stream",
          "name": "stdout",
          "text": [
            "Training...\n",
            "Validating...\n"
          ]
        },
        {
          "output_type": "stream",
          "name": "stderr",
          "text": [
            "\r 42%|████▏     | 63/150 [21:05<29:03, 20.04s/it]"
          ]
        },
        {
          "output_type": "stream",
          "name": "stdout",
          "text": [
            "Training...\n",
            "Validating...\n"
          ]
        },
        {
          "output_type": "stream",
          "name": "stderr",
          "text": [
            "\r 43%|████▎     | 64/150 [21:25<28:50, 20.12s/it]"
          ]
        },
        {
          "output_type": "stream",
          "name": "stdout",
          "text": [
            "Training...\n",
            "Validating...\n"
          ]
        },
        {
          "output_type": "stream",
          "name": "stderr",
          "text": [
            "\r 43%|████▎     | 65/150 [21:45<28:27, 20.09s/it]"
          ]
        },
        {
          "output_type": "stream",
          "name": "stdout",
          "text": [
            "Training...\n",
            "Validating...\n"
          ]
        },
        {
          "output_type": "stream",
          "name": "stderr",
          "text": [
            "\r 44%|████▍     | 66/150 [22:05<28:01, 20.02s/it]"
          ]
        },
        {
          "output_type": "stream",
          "name": "stdout",
          "text": [
            "Training...\n",
            "Validating...\n"
          ]
        },
        {
          "output_type": "stream",
          "name": "stderr",
          "text": [
            "\r 45%|████▍     | 67/150 [22:25<27:49, 20.11s/it]"
          ]
        },
        {
          "output_type": "stream",
          "name": "stdout",
          "text": [
            "Training...\n",
            "Validating...\n"
          ]
        },
        {
          "output_type": "stream",
          "name": "stderr",
          "text": [
            "\r 45%|████▌     | 68/150 [22:45<27:18, 19.98s/it]"
          ]
        },
        {
          "output_type": "stream",
          "name": "stdout",
          "text": [
            "Training...\n",
            "Validating...\n"
          ]
        },
        {
          "output_type": "stream",
          "name": "stderr",
          "text": [
            "\r 46%|████▌     | 69/150 [23:05<27:15, 20.19s/it]"
          ]
        },
        {
          "output_type": "stream",
          "name": "stdout",
          "text": [
            "Training...\n",
            "Validating...\n"
          ]
        },
        {
          "output_type": "stream",
          "name": "stderr",
          "text": [
            "\r 47%|████▋     | 70/150 [23:25<26:42, 20.03s/it]"
          ]
        },
        {
          "output_type": "stream",
          "name": "stdout",
          "text": [
            "Training...\n",
            "Validating...\n"
          ]
        },
        {
          "output_type": "stream",
          "name": "stderr",
          "text": [
            "\r 47%|████▋     | 71/150 [23:45<26:27, 20.10s/it]"
          ]
        },
        {
          "output_type": "stream",
          "name": "stdout",
          "text": [
            "Training...\n",
            "Validating...\n"
          ]
        },
        {
          "output_type": "stream",
          "name": "stderr",
          "text": [
            "\r 48%|████▊     | 72/150 [24:06<26:10, 20.13s/it]"
          ]
        },
        {
          "output_type": "stream",
          "name": "stdout",
          "text": [
            "Training...\n",
            "Validating...\n"
          ]
        },
        {
          "output_type": "stream",
          "name": "stderr",
          "text": [
            "\r 49%|████▊     | 73/150 [24:25<25:41, 20.02s/it]"
          ]
        },
        {
          "output_type": "stream",
          "name": "stdout",
          "text": [
            "Training...\n",
            "Validating...\n"
          ]
        },
        {
          "output_type": "stream",
          "name": "stderr",
          "text": [
            "\r 49%|████▉     | 74/150 [24:46<25:27, 20.09s/it]"
          ]
        },
        {
          "output_type": "stream",
          "name": "stdout",
          "text": [
            "Training...\n",
            "Validating...\n"
          ]
        },
        {
          "output_type": "stream",
          "name": "stderr",
          "text": [
            "\r 50%|█████     | 75/150 [25:05<25:00, 20.01s/it]"
          ]
        },
        {
          "output_type": "stream",
          "name": "stdout",
          "text": [
            "Training...\n",
            "Validating...\n"
          ]
        },
        {
          "output_type": "stream",
          "name": "stderr",
          "text": [
            "\r 51%|█████     | 76/150 [25:26<24:52, 20.16s/it]"
          ]
        },
        {
          "output_type": "stream",
          "name": "stdout",
          "text": [
            "Training...\n",
            "Validating...\n"
          ]
        },
        {
          "output_type": "stream",
          "name": "stderr",
          "text": [
            "\r 51%|█████▏    | 77/150 [25:46<24:24, 20.07s/it]"
          ]
        },
        {
          "output_type": "stream",
          "name": "stdout",
          "text": [
            "Training...\n",
            "Validating...\n"
          ]
        },
        {
          "output_type": "stream",
          "name": "stderr",
          "text": [
            "\r 52%|█████▏    | 78/150 [26:06<24:16, 20.24s/it]"
          ]
        },
        {
          "output_type": "stream",
          "name": "stdout",
          "text": [
            "Training...\n",
            "Validating...\n"
          ]
        },
        {
          "output_type": "stream",
          "name": "stderr",
          "text": [
            "\r 53%|█████▎    | 79/150 [26:26<23:47, 20.10s/it]"
          ]
        },
        {
          "output_type": "stream",
          "name": "stdout",
          "text": [
            "Training...\n",
            "Validating...\n"
          ]
        },
        {
          "output_type": "stream",
          "name": "stderr",
          "text": [
            "\r 53%|█████▎    | 80/150 [26:46<23:20, 20.01s/it]"
          ]
        },
        {
          "output_type": "stream",
          "name": "stdout",
          "text": [
            "Training...\n",
            "Validating...\n"
          ]
        },
        {
          "output_type": "stream",
          "name": "stderr",
          "text": [
            "\r 54%|█████▍    | 81/150 [27:06<23:07, 20.10s/it]"
          ]
        },
        {
          "output_type": "stream",
          "name": "stdout",
          "text": [
            "Training...\n",
            "Validating...\n"
          ]
        },
        {
          "output_type": "stream",
          "name": "stderr",
          "text": [
            "\r 55%|█████▍    | 82/150 [27:26<22:41, 20.02s/it]"
          ]
        },
        {
          "output_type": "stream",
          "name": "stdout",
          "text": [
            "Training...\n",
            "Validating...\n"
          ]
        },
        {
          "output_type": "stream",
          "name": "stderr",
          "text": [
            "\r 55%|█████▌    | 83/150 [27:47<22:35, 20.23s/it]"
          ]
        },
        {
          "output_type": "stream",
          "name": "stdout",
          "text": [
            "Training...\n",
            "Validating...\n"
          ]
        },
        {
          "output_type": "stream",
          "name": "stderr",
          "text": [
            "\r 56%|█████▌    | 84/150 [28:07<22:05, 20.09s/it]"
          ]
        },
        {
          "output_type": "stream",
          "name": "stdout",
          "text": [
            "Training...\n",
            "Validating...\n"
          ]
        },
        {
          "output_type": "stream",
          "name": "stderr",
          "text": [
            "\r 57%|█████▋    | 85/150 [28:27<21:53, 20.21s/it]"
          ]
        },
        {
          "output_type": "stream",
          "name": "stdout",
          "text": [
            "Training...\n",
            "Validating...\n"
          ]
        },
        {
          "output_type": "stream",
          "name": "stderr",
          "text": [
            "\r 57%|█████▋    | 86/150 [28:47<21:28, 20.13s/it]"
          ]
        },
        {
          "output_type": "stream",
          "name": "stdout",
          "text": [
            "Training...\n",
            "Validating...\n"
          ]
        },
        {
          "output_type": "stream",
          "name": "stderr",
          "text": [
            "\r 58%|█████▊    | 87/150 [29:07<21:04, 20.06s/it]"
          ]
        },
        {
          "output_type": "stream",
          "name": "stdout",
          "text": [
            "Training...\n",
            "Validating...\n"
          ]
        },
        {
          "output_type": "stream",
          "name": "stderr",
          "text": [
            "\r 59%|█████▊    | 88/150 [29:27<20:50, 20.17s/it]"
          ]
        },
        {
          "output_type": "stream",
          "name": "stdout",
          "text": [
            "Training...\n",
            "Validating...\n"
          ]
        },
        {
          "output_type": "stream",
          "name": "stderr",
          "text": [
            "\r 59%|█████▉    | 89/150 [29:47<20:22, 20.04s/it]"
          ]
        },
        {
          "output_type": "stream",
          "name": "stdout",
          "text": [
            "Training...\n",
            "Validating...\n"
          ]
        },
        {
          "output_type": "stream",
          "name": "stderr",
          "text": [
            "\r 60%|██████    | 90/150 [30:08<20:11, 20.19s/it]"
          ]
        },
        {
          "output_type": "stream",
          "name": "stdout",
          "text": [
            "Training...\n",
            "Validating...\n"
          ]
        },
        {
          "output_type": "stream",
          "name": "stderr",
          "text": [
            "\r 61%|██████    | 91/150 [30:27<19:43, 20.05s/it]"
          ]
        },
        {
          "output_type": "stream",
          "name": "stdout",
          "text": [
            "Training...\n",
            "Validating...\n"
          ]
        },
        {
          "output_type": "stream",
          "name": "stderr",
          "text": [
            "\r 61%|██████▏   | 92/150 [30:48<19:28, 20.15s/it]"
          ]
        },
        {
          "output_type": "stream",
          "name": "stdout",
          "text": [
            "Training...\n",
            "Validating...\n"
          ]
        },
        {
          "output_type": "stream",
          "name": "stderr",
          "text": [
            "\r 62%|██████▏   | 93/150 [31:08<19:07, 20.13s/it]"
          ]
        },
        {
          "output_type": "stream",
          "name": "stdout",
          "text": [
            "Training...\n",
            "Validating...\n"
          ]
        },
        {
          "output_type": "stream",
          "name": "stderr",
          "text": [
            "\r 63%|██████▎   | 94/150 [31:28<18:42, 20.05s/it]"
          ]
        },
        {
          "output_type": "stream",
          "name": "stdout",
          "text": [
            "Training...\n",
            "Validating...\n"
          ]
        },
        {
          "output_type": "stream",
          "name": "stderr",
          "text": [
            "\r 63%|██████▎   | 95/150 [31:48<18:29, 20.17s/it]"
          ]
        },
        {
          "output_type": "stream",
          "name": "stdout",
          "text": [
            "Training...\n",
            "Validating...\n"
          ]
        },
        {
          "output_type": "stream",
          "name": "stderr",
          "text": [
            "\r 64%|██████▍   | 96/150 [32:08<18:02, 20.05s/it]"
          ]
        },
        {
          "output_type": "stream",
          "name": "stdout",
          "text": [
            "Training...\n",
            "Validating...\n"
          ]
        },
        {
          "output_type": "stream",
          "name": "stderr",
          "text": [
            "\r 65%|██████▍   | 97/150 [32:28<17:51, 20.22s/it]"
          ]
        },
        {
          "output_type": "stream",
          "name": "stdout",
          "text": [
            "Training...\n",
            "Validating...\n"
          ]
        },
        {
          "output_type": "stream",
          "name": "stderr",
          "text": [
            "\r 65%|██████▌   | 98/150 [32:48<17:24, 20.09s/it]"
          ]
        },
        {
          "output_type": "stream",
          "name": "stdout",
          "text": [
            "Training...\n",
            "Validating...\n"
          ]
        },
        {
          "output_type": "stream",
          "name": "stderr",
          "text": [
            "\r 66%|██████▌   | 99/150 [33:09<17:10, 20.20s/it]"
          ]
        },
        {
          "output_type": "stream",
          "name": "stdout",
          "text": [
            "Training...\n",
            "Validating...\n"
          ]
        },
        {
          "output_type": "stream",
          "name": "stderr",
          "text": [
            "\r 67%|██████▋   | 100/150 [33:29<16:43, 20.08s/it]"
          ]
        },
        {
          "output_type": "stream",
          "name": "stdout",
          "text": [
            "Training...\n",
            "Validating...\n"
          ]
        },
        {
          "output_type": "stream",
          "name": "stderr",
          "text": [
            "\r 67%|██████▋   | 101/150 [33:48<16:19, 20.00s/it]"
          ]
        },
        {
          "output_type": "stream",
          "name": "stdout",
          "text": [
            "Training...\n",
            "Validating...\n"
          ]
        },
        {
          "output_type": "stream",
          "name": "stderr",
          "text": [
            "\r 68%|██████▊   | 102/150 [34:09<16:06, 20.14s/it]"
          ]
        },
        {
          "output_type": "stream",
          "name": "stdout",
          "text": [
            "Training...\n",
            "Validating...\n"
          ]
        },
        {
          "output_type": "stream",
          "name": "stderr",
          "text": [
            "\r 69%|██████▊   | 103/150 [34:28<15:40, 20.00s/it]"
          ]
        },
        {
          "output_type": "stream",
          "name": "stdout",
          "text": [
            "Training...\n",
            "Validating...\n"
          ]
        },
        {
          "output_type": "stream",
          "name": "stderr",
          "text": [
            "\r 69%|██████▉   | 104/150 [34:49<15:25, 20.12s/it]"
          ]
        },
        {
          "output_type": "stream",
          "name": "stdout",
          "text": [
            "Training...\n",
            "Validating...\n"
          ]
        },
        {
          "output_type": "stream",
          "name": "stderr",
          "text": [
            "\r 70%|███████   | 105/150 [35:09<15:00, 20.01s/it]"
          ]
        },
        {
          "output_type": "stream",
          "name": "stdout",
          "text": [
            "Training...\n",
            "Validating...\n"
          ]
        },
        {
          "output_type": "stream",
          "name": "stderr",
          "text": [
            "\r 71%|███████   | 106/150 [35:29<14:47, 20.18s/it]"
          ]
        },
        {
          "output_type": "stream",
          "name": "stdout",
          "text": [
            "Training...\n",
            "Validating...\n"
          ]
        },
        {
          "output_type": "stream",
          "name": "stderr",
          "text": [
            "\r 71%|███████▏  | 107/150 [35:49<14:22, 20.06s/it]"
          ]
        },
        {
          "output_type": "stream",
          "name": "stdout",
          "text": [
            "Training...\n",
            "Validating...\n"
          ]
        },
        {
          "output_type": "stream",
          "name": "stderr",
          "text": [
            "\r 72%|███████▏  | 108/150 [36:09<14:01, 20.03s/it]"
          ]
        },
        {
          "output_type": "stream",
          "name": "stdout",
          "text": [
            "Training...\n",
            "Validating...\n"
          ]
        },
        {
          "output_type": "stream",
          "name": "stderr",
          "text": [
            "\r 73%|███████▎  | 109/150 [36:29<13:44, 20.12s/it]"
          ]
        },
        {
          "output_type": "stream",
          "name": "stdout",
          "text": [
            "Training...\n",
            "Validating...\n"
          ]
        },
        {
          "output_type": "stream",
          "name": "stderr",
          "text": [
            "\r 73%|███████▎  | 110/150 [36:49<13:18, 19.97s/it]"
          ]
        },
        {
          "output_type": "stream",
          "name": "stdout",
          "text": [
            "Training...\n",
            "Validating...\n"
          ]
        },
        {
          "output_type": "stream",
          "name": "stderr",
          "text": [
            "\r 74%|███████▍  | 111/150 [37:10<13:06, 20.17s/it]"
          ]
        },
        {
          "output_type": "stream",
          "name": "stdout",
          "text": [
            "Training...\n",
            "Validating...\n"
          ]
        },
        {
          "output_type": "stream",
          "name": "stderr",
          "text": [
            "\r 75%|███████▍  | 112/150 [37:29<12:40, 20.02s/it]"
          ]
        },
        {
          "output_type": "stream",
          "name": "stdout",
          "text": [
            "Training...\n",
            "Validating...\n"
          ]
        },
        {
          "output_type": "stream",
          "name": "stderr",
          "text": [
            "\r 75%|███████▌  | 113/150 [37:50<12:24, 20.12s/it]"
          ]
        },
        {
          "output_type": "stream",
          "name": "stdout",
          "text": [
            "Training...\n",
            "Validating...\n"
          ]
        },
        {
          "output_type": "stream",
          "name": "stderr",
          "text": [
            "\r 76%|███████▌  | 114/150 [38:10<12:03, 20.09s/it]"
          ]
        },
        {
          "output_type": "stream",
          "name": "stdout",
          "text": [
            "Training...\n",
            "Validating...\n"
          ]
        },
        {
          "output_type": "stream",
          "name": "stderr",
          "text": [
            "\r 77%|███████▋  | 115/150 [38:29<11:38, 19.97s/it]"
          ]
        },
        {
          "output_type": "stream",
          "name": "stdout",
          "text": [
            "Training...\n",
            "Validating...\n"
          ]
        },
        {
          "output_type": "stream",
          "name": "stderr",
          "text": [
            "\r 77%|███████▋  | 116/150 [38:50<11:24, 20.12s/it]"
          ]
        },
        {
          "output_type": "stream",
          "name": "stdout",
          "text": [
            "Training...\n",
            "Validating...\n"
          ]
        },
        {
          "output_type": "stream",
          "name": "stderr",
          "text": [
            "\r 78%|███████▊  | 117/150 [39:09<11:00, 20.00s/it]"
          ]
        },
        {
          "output_type": "stream",
          "name": "stdout",
          "text": [
            "Training...\n",
            "Validating...\n"
          ]
        },
        {
          "output_type": "stream",
          "name": "stderr",
          "text": [
            "\r 79%|███████▊  | 118/150 [39:30<10:45, 20.17s/it]"
          ]
        },
        {
          "output_type": "stream",
          "name": "stdout",
          "text": [
            "Training...\n",
            "Validating...\n"
          ]
        },
        {
          "output_type": "stream",
          "name": "stderr",
          "text": [
            "\r 79%|███████▉  | 119/150 [39:50<10:20, 20.01s/it]"
          ]
        },
        {
          "output_type": "stream",
          "name": "stdout",
          "text": [
            "Training...\n",
            "Validating...\n"
          ]
        },
        {
          "output_type": "stream",
          "name": "stderr",
          "text": [
            "\r 80%|████████  | 120/150 [40:10<10:04, 20.13s/it]"
          ]
        },
        {
          "output_type": "stream",
          "name": "stdout",
          "text": [
            "Training...\n",
            "Validating...\n"
          ]
        },
        {
          "output_type": "stream",
          "name": "stderr",
          "text": [
            "\r 81%|████████  | 121/150 [40:30<09:42, 20.10s/it]"
          ]
        },
        {
          "output_type": "stream",
          "name": "stdout",
          "text": [
            "Training...\n",
            "Validating...\n"
          ]
        },
        {
          "output_type": "stream",
          "name": "stderr",
          "text": [
            "\r 81%|████████▏ | 122/150 [40:50<09:19, 19.99s/it]"
          ]
        },
        {
          "output_type": "stream",
          "name": "stdout",
          "text": [
            "Training...\n",
            "Validating...\n"
          ]
        },
        {
          "output_type": "stream",
          "name": "stderr",
          "text": [
            "\r 82%|████████▏ | 123/150 [41:10<09:04, 20.15s/it]"
          ]
        },
        {
          "output_type": "stream",
          "name": "stdout",
          "text": [
            "Training...\n",
            "Validating...\n"
          ]
        },
        {
          "output_type": "stream",
          "name": "stderr",
          "text": [
            "\r 83%|████████▎ | 124/150 [41:30<08:40, 20.03s/it]"
          ]
        },
        {
          "output_type": "stream",
          "name": "stdout",
          "text": [
            "Training...\n",
            "Validating...\n"
          ]
        },
        {
          "output_type": "stream",
          "name": "stderr",
          "text": [
            "\r 83%|████████▎ | 125/150 [41:51<08:25, 20.21s/it]"
          ]
        },
        {
          "output_type": "stream",
          "name": "stdout",
          "text": [
            "Training...\n",
            "Validating...\n"
          ]
        },
        {
          "output_type": "stream",
          "name": "stderr",
          "text": [
            "\r 84%|████████▍ | 126/150 [42:10<08:01, 20.06s/it]"
          ]
        },
        {
          "output_type": "stream",
          "name": "stdout",
          "text": [
            "Training...\n",
            "Validating...\n"
          ]
        },
        {
          "output_type": "stream",
          "name": "stderr",
          "text": [
            "\r 85%|████████▍ | 127/150 [42:31<07:43, 20.15s/it]"
          ]
        },
        {
          "output_type": "stream",
          "name": "stdout",
          "text": [
            "Training...\n",
            "Validating...\n"
          ]
        },
        {
          "output_type": "stream",
          "name": "stderr",
          "text": [
            "\r 85%|████████▌ | 128/150 [42:51<07:22, 20.13s/it]"
          ]
        },
        {
          "output_type": "stream",
          "name": "stdout",
          "text": [
            "Training...\n",
            "Validating...\n"
          ]
        },
        {
          "output_type": "stream",
          "name": "stderr",
          "text": [
            "\r 86%|████████▌ | 129/150 [43:11<06:59, 20.00s/it]"
          ]
        },
        {
          "output_type": "stream",
          "name": "stdout",
          "text": [
            "Training...\n",
            "Validating...\n"
          ]
        },
        {
          "output_type": "stream",
          "name": "stderr",
          "text": [
            "\r 87%|████████▋ | 130/150 [43:31<06:42, 20.14s/it]"
          ]
        },
        {
          "output_type": "stream",
          "name": "stdout",
          "text": [
            "Training...\n",
            "Validating...\n"
          ]
        },
        {
          "output_type": "stream",
          "name": "stderr",
          "text": [
            "\r 87%|████████▋ | 131/150 [43:51<06:20, 20.03s/it]"
          ]
        },
        {
          "output_type": "stream",
          "name": "stdout",
          "text": [
            "Training...\n",
            "Validating...\n"
          ]
        },
        {
          "output_type": "stream",
          "name": "stderr",
          "text": [
            "\r 88%|████████▊ | 132/150 [44:12<06:04, 20.23s/it]"
          ]
        },
        {
          "output_type": "stream",
          "name": "stdout",
          "text": [
            "Training...\n",
            "Validating...\n"
          ]
        },
        {
          "output_type": "stream",
          "name": "stderr",
          "text": [
            "\r 89%|████████▊ | 133/150 [44:31<05:41, 20.10s/it]"
          ]
        },
        {
          "output_type": "stream",
          "name": "stdout",
          "text": [
            "Training...\n",
            "Validating...\n"
          ]
        },
        {
          "output_type": "stream",
          "name": "stderr",
          "text": [
            "\r 89%|████████▉ | 134/150 [44:52<05:23, 20.22s/it]"
          ]
        },
        {
          "output_type": "stream",
          "name": "stdout",
          "text": [
            "Training...\n",
            "Validating...\n"
          ]
        },
        {
          "output_type": "stream",
          "name": "stderr",
          "text": [
            "\r 90%|█████████ | 135/150 [45:12<05:02, 20.16s/it]"
          ]
        },
        {
          "output_type": "stream",
          "name": "stdout",
          "text": [
            "Training...\n",
            "Validating...\n"
          ]
        },
        {
          "output_type": "stream",
          "name": "stderr",
          "text": [
            "\r 91%|█████████ | 136/150 [45:32<04:40, 20.04s/it]"
          ]
        },
        {
          "output_type": "stream",
          "name": "stdout",
          "text": [
            "Training...\n",
            "Validating...\n"
          ]
        },
        {
          "output_type": "stream",
          "name": "stderr",
          "text": [
            "\r 91%|█████████▏| 137/150 [45:52<04:21, 20.11s/it]"
          ]
        },
        {
          "output_type": "stream",
          "name": "stdout",
          "text": [
            "Training...\n",
            "Validating...\n"
          ]
        },
        {
          "output_type": "stream",
          "name": "stderr",
          "text": [
            "\r 92%|█████████▏| 138/150 [46:12<04:00, 20.02s/it]"
          ]
        },
        {
          "output_type": "stream",
          "name": "stdout",
          "text": [
            "Training...\n",
            "Validating...\n"
          ]
        },
        {
          "output_type": "stream",
          "name": "stderr",
          "text": [
            "\r 93%|█████████▎| 139/150 [46:32<03:41, 20.15s/it]"
          ]
        },
        {
          "output_type": "stream",
          "name": "stdout",
          "text": [
            "Training...\n",
            "Validating...\n"
          ]
        },
        {
          "output_type": "stream",
          "name": "stderr",
          "text": [
            "\r 93%|█████████▎| 140/150 [46:52<03:20, 20.03s/it]"
          ]
        },
        {
          "output_type": "stream",
          "name": "stdout",
          "text": [
            "Training...\n",
            "Validating...\n"
          ]
        },
        {
          "output_type": "stream",
          "name": "stderr",
          "text": [
            "\r 94%|█████████▍| 141/150 [47:12<03:01, 20.14s/it]"
          ]
        },
        {
          "output_type": "stream",
          "name": "stdout",
          "text": [
            "Training...\n",
            "Validating...\n"
          ]
        },
        {
          "output_type": "stream",
          "name": "stderr",
          "text": [
            "\r 95%|█████████▍| 142/150 [47:32<02:40, 20.03s/it]"
          ]
        },
        {
          "output_type": "stream",
          "name": "stdout",
          "text": [
            "Training...\n",
            "Validating...\n"
          ]
        },
        {
          "output_type": "stream",
          "name": "stderr",
          "text": [
            "\r 95%|█████████▌| 143/150 [47:52<02:20, 20.03s/it]"
          ]
        },
        {
          "output_type": "stream",
          "name": "stdout",
          "text": [
            "Training...\n",
            "Validating...\n"
          ]
        },
        {
          "output_type": "stream",
          "name": "stderr",
          "text": [
            "\r 96%|█████████▌| 144/150 [48:12<02:00, 20.13s/it]"
          ]
        },
        {
          "output_type": "stream",
          "name": "stdout",
          "text": [
            "Training...\n",
            "Validating...\n"
          ]
        },
        {
          "output_type": "stream",
          "name": "stderr",
          "text": [
            "\r 97%|█████████▋| 145/150 [48:32<01:39, 19.98s/it]"
          ]
        },
        {
          "output_type": "stream",
          "name": "stdout",
          "text": [
            "Training...\n",
            "Validating...\n"
          ]
        },
        {
          "output_type": "stream",
          "name": "stderr",
          "text": [
            "\r 97%|█████████▋| 146/150 [48:53<01:20, 20.21s/it]"
          ]
        },
        {
          "output_type": "stream",
          "name": "stdout",
          "text": [
            "Training...\n",
            "Validating...\n"
          ]
        },
        {
          "output_type": "stream",
          "name": "stderr",
          "text": [
            "\r 98%|█████████▊| 147/150 [49:13<01:00, 20.05s/it]"
          ]
        },
        {
          "output_type": "stream",
          "name": "stdout",
          "text": [
            "Training...\n",
            "Validating...\n"
          ]
        },
        {
          "output_type": "stream",
          "name": "stderr",
          "text": [
            "\r 99%|█████████▊| 148/150 [49:33<00:40, 20.13s/it]"
          ]
        },
        {
          "output_type": "stream",
          "name": "stdout",
          "text": [
            "Training...\n",
            "Validating...\n"
          ]
        },
        {
          "output_type": "stream",
          "name": "stderr",
          "text": [
            "\r 99%|█████████▉| 149/150 [49:53<00:20, 20.09s/it]"
          ]
        },
        {
          "output_type": "stream",
          "name": "stdout",
          "text": [
            "Training...\n",
            "Validating...\n"
          ]
        },
        {
          "output_type": "stream",
          "name": "stderr",
          "text": [
            "100%|██████████| 150/150 [50:13<00:00, 20.09s/it]\n"
          ]
        },
        {
          "output_type": "stream",
          "name": "stdout",
          "text": [
            "[INFO] Total time taken to train and validate the model: 3013.07s\n",
            "Testing...\n",
            "\n",
            "\n",
            "\n",
            "\n",
            "\n",
            "\n",
            "\n",
            "\n",
            "\n",
            "\n",
            "avg_accuracy = 0.9099285006523132, avg_precision = 0.28335168957710266, avg_recall = 0.14428874850273132, avg_f1_score = 0.185629203915596, avg_dice_score = 0.1856292337179184, avg_iou = 0.10516064614057541\n",
            "TP = [3247, 5658, 5417, 8717, 2044]\n",
            "TN = [470877, 466398, 477238, 482359, 347015]\n",
            "FP = [18767, 10712, 7887, 13235, 15080]\n",
            "FN = [31397, 41520, 33746, 19977, 29077]\n",
            "[INFO] TEST_SPLIT = 0.2 ...\n",
            "Splits, Datasets, and Dataloaders\n",
            "[INFO] Total time taken to create the dataset and dataloader: 0.00s\n",
            "trainSteps = 29, testSteps = 9, valSteps = 7\n"
          ]
        },
        {
          "output_type": "display_data",
          "data": {
            "text/plain": [
              "<IPython.core.display.HTML object>"
            ],
            "text/html": [
              "Finishing last run (ID:ppt1rmtl) before initializing another..."
            ]
          },
          "metadata": {}
        },
        {
          "output_type": "display_data",
          "data": {
            "text/plain": [
              "VBox(children=(Label(value='7.136 MB of 7.136 MB uploaded\\r'), FloatProgress(value=1.0, max=1.0)))"
            ],
            "application/vnd.jupyter.widget-view+json": {
              "version_major": 2,
              "version_minor": 0,
              "model_id": "f5765916d5b440a2bc4cab63de2d7ad4"
            }
          },
          "metadata": {}
        },
        {
          "output_type": "display_data",
          "data": {
            "text/plain": [
              "<IPython.core.display.HTML object>"
            ],
            "text/html": [
              "<style>\n",
              "    table.wandb td:nth-child(1) { padding: 0 10px; text-align: left ; width: auto;} td:nth-child(2) {text-align: left ; width: 100%}\n",
              "    .wandb-row { display: flex; flex-direction: row; flex-wrap: wrap; justify-content: flex-start; width: 100% }\n",
              "    .wandb-col { display: flex; flex-direction: column; flex-basis: 100%; flex: 1; padding: 10px; }\n",
              "    </style>\n",
              "<div class=\"wandb-row\"><div class=\"wandb-col\"><h3>Run history:</h3><br/><table class=\"wandb\"><tr><td>Accuracy</td><td>▁</td></tr><tr><td>DICE</td><td>▁</td></tr><tr><td>Epoch</td><td>▁▁▁▁▂▂▂▂▂▃▃▃▃▃▃▄▄▄▄▄▅▅▅▅▅▅▆▆▆▆▆▆▇▇▇▇▇███</td></tr><tr><td>F1-Score</td><td>▁</td></tr><tr><td>IOU</td><td>▁</td></tr><tr><td>Precision</td><td>▁</td></tr><tr><td>Recall</td><td>▁</td></tr><tr><td>Train Loss</td><td>██▇▇▆▅▅▄▃▃▃▂▂▂▂▂▁▁▁▁▁▄▂▁▁▁▁▁▁▁▁▁▁▁▁▁▁▁▁▃</td></tr><tr><td>Valid Loss</td><td>▄▃▂▂▁▂▁▂▂▂▂▂▃▃▃▃▄▄▄▄▅▂▃▄▅▅▅▅▆▅▆▆▆▆▆███▅▃</td></tr></table><br/></div><div class=\"wandb-col\"><h3>Run summary:</h3><br/><table class=\"wandb\"><tr><td>Accuracy</td><td>0.90993</td></tr><tr><td>DICE</td><td>0.18563</td></tr><tr><td>Epoch</td><td>149</td></tr><tr><td>F1-Score</td><td>0.18563</td></tr><tr><td>IOU</td><td>0.10516</td></tr><tr><td>Precision</td><td>0.28335</td></tr><tr><td>Recall</td><td>0.14429</td></tr><tr><td>Train Loss</td><td>0.33539</td></tr><tr><td>Valid Loss</td><td>1.24858</td></tr></table><br/></div></div>"
            ]
          },
          "metadata": {}
        },
        {
          "output_type": "display_data",
          "data": {
            "text/plain": [
              "<IPython.core.display.HTML object>"
            ],
            "text/html": [
              " View run <strong style=\"color:#cdcd00\">init_metrics_run_tts0.1_ep150</strong> at: <a href='https://wandb.ai/bianca-team/GCANet_IMD2020_altered_imgs/runs/ppt1rmtl' target=\"_blank\">https://wandb.ai/bianca-team/GCANet_IMD2020_altered_imgs/runs/ppt1rmtl</a><br/> View project at: <a href='https://wandb.ai/bianca-team/GCANet_IMD2020_altered_imgs' target=\"_blank\">https://wandb.ai/bianca-team/GCANet_IMD2020_altered_imgs</a><br/>Synced 5 W&B file(s), 152 media file(s), 0 artifact file(s) and 0 other file(s)"
            ]
          },
          "metadata": {}
        },
        {
          "output_type": "display_data",
          "data": {
            "text/plain": [
              "<IPython.core.display.HTML object>"
            ],
            "text/html": [
              "Find logs at: <code>./wandb/run-20240526_172256-ppt1rmtl/logs</code>"
            ]
          },
          "metadata": {}
        },
        {
          "output_type": "display_data",
          "data": {
            "text/plain": [
              "<IPython.core.display.HTML object>"
            ],
            "text/html": [
              "Successfully finished last run (ID:ppt1rmtl). Initializing new run:<br/>"
            ]
          },
          "metadata": {}
        },
        {
          "output_type": "display_data",
          "data": {
            "text/plain": [
              "<IPython.core.display.HTML object>"
            ],
            "text/html": [
              "Tracking run with wandb version 0.17.0"
            ]
          },
          "metadata": {}
        },
        {
          "output_type": "display_data",
          "data": {
            "text/plain": [
              "<IPython.core.display.HTML object>"
            ],
            "text/html": [
              "Run data is saved locally in <code>/content/wandb/run-20240526_181330-vcu1i9t7</code>"
            ]
          },
          "metadata": {}
        },
        {
          "output_type": "display_data",
          "data": {
            "text/plain": [
              "<IPython.core.display.HTML object>"
            ],
            "text/html": [
              "Syncing run <strong><a href='https://wandb.ai/bianca-team/GCANet_IMD2020_altered_imgs/runs/vcu1i9t7' target=\"_blank\">init_metrics_run_tts0.2_ep10</a></strong> to <a href='https://wandb.ai/bianca-team/GCANet_IMD2020_altered_imgs' target=\"_blank\">Weights & Biases</a> (<a href='https://wandb.me/run' target=\"_blank\">docs</a>)<br/>"
            ]
          },
          "metadata": {}
        },
        {
          "output_type": "display_data",
          "data": {
            "text/plain": [
              "<IPython.core.display.HTML object>"
            ],
            "text/html": [
              " View project at <a href='https://wandb.ai/bianca-team/GCANet_IMD2020_altered_imgs' target=\"_blank\">https://wandb.ai/bianca-team/GCANet_IMD2020_altered_imgs</a>"
            ]
          },
          "metadata": {}
        },
        {
          "output_type": "display_data",
          "data": {
            "text/plain": [
              "<IPython.core.display.HTML object>"
            ],
            "text/html": [
              " View run at <a href='https://wandb.ai/bianca-team/GCANet_IMD2020_altered_imgs/runs/vcu1i9t7' target=\"_blank\">https://wandb.ai/bianca-team/GCANet_IMD2020_altered_imgs/runs/vcu1i9t7</a>"
            ]
          },
          "metadata": {}
        },
        {
          "output_type": "stream",
          "name": "stdout",
          "text": [
            "[INFO] Training the network for 10 epochs...\n"
          ]
        },
        {
          "output_type": "stream",
          "name": "stderr",
          "text": [
            "\r  0%|          | 0/10 [00:00<?, ?it/s]"
          ]
        },
        {
          "output_type": "stream",
          "name": "stdout",
          "text": [
            "Training...\n",
            "Validating...\n"
          ]
        },
        {
          "output_type": "stream",
          "name": "stderr",
          "text": [
            "\r 10%|█         | 1/10 [00:17<02:40, 17.82s/it]"
          ]
        },
        {
          "output_type": "stream",
          "name": "stdout",
          "text": [
            "Training...\n",
            "Validating...\n"
          ]
        },
        {
          "output_type": "stream",
          "name": "stderr",
          "text": [
            "\r 20%|██        | 2/10 [00:36<02:25, 18.14s/it]"
          ]
        },
        {
          "output_type": "stream",
          "name": "stdout",
          "text": [
            "Training...\n",
            "Validating...\n"
          ]
        },
        {
          "output_type": "stream",
          "name": "stderr",
          "text": [
            "\r 30%|███       | 3/10 [00:54<02:07, 18.21s/it]"
          ]
        },
        {
          "output_type": "stream",
          "name": "stdout",
          "text": [
            "Training...\n",
            "Validating...\n"
          ]
        },
        {
          "output_type": "stream",
          "name": "stderr",
          "text": [
            "\r 40%|████      | 4/10 [01:12<01:47, 17.95s/it]"
          ]
        },
        {
          "output_type": "stream",
          "name": "stdout",
          "text": [
            "Training...\n",
            "Validating...\n"
          ]
        },
        {
          "output_type": "stream",
          "name": "stderr",
          "text": [
            "\r 50%|█████     | 5/10 [01:29<01:29, 17.86s/it]"
          ]
        },
        {
          "output_type": "stream",
          "name": "stdout",
          "text": [
            "Training...\n",
            "Validating...\n"
          ]
        },
        {
          "output_type": "stream",
          "name": "stderr",
          "text": [
            "\r 60%|██████    | 6/10 [01:47<01:11, 17.97s/it]"
          ]
        },
        {
          "output_type": "stream",
          "name": "stdout",
          "text": [
            "Training...\n",
            "Validating...\n"
          ]
        },
        {
          "output_type": "stream",
          "name": "stderr",
          "text": [
            "\r 70%|███████   | 7/10 [02:05<00:53, 17.97s/it]"
          ]
        },
        {
          "output_type": "stream",
          "name": "stdout",
          "text": [
            "Training...\n",
            "Validating...\n"
          ]
        },
        {
          "output_type": "stream",
          "name": "stderr",
          "text": [
            "\r 80%|████████  | 8/10 [02:23<00:35, 17.86s/it]"
          ]
        },
        {
          "output_type": "stream",
          "name": "stdout",
          "text": [
            "Training...\n",
            "Validating...\n"
          ]
        },
        {
          "output_type": "stream",
          "name": "stderr",
          "text": [
            "\r 90%|█████████ | 9/10 [02:40<00:17, 17.75s/it]"
          ]
        },
        {
          "output_type": "stream",
          "name": "stdout",
          "text": [
            "Training...\n",
            "Validating...\n"
          ]
        },
        {
          "output_type": "stream",
          "name": "stderr",
          "text": [
            "100%|██████████| 10/10 [02:59<00:00, 17.94s/it]\n"
          ]
        },
        {
          "output_type": "stream",
          "name": "stdout",
          "text": [
            "[INFO] Total time taken to train and validate the model: 179.37s\n",
            "Testing...\n",
            "\n",
            "\n",
            "\n",
            "\n",
            "\n",
            "\n",
            "\n",
            "\n",
            "\n",
            "\n",
            "\n",
            "\n",
            "\n",
            "\n",
            "\n",
            "\n",
            "\n",
            "\n",
            "\n",
            "\n",
            "avg_accuracy = 0.9021132588386536, avg_precision = 0.3013004660606384, avg_recall = 0.16742724180221558, avg_f1_score = 0.2132931649684906, avg_dice_score = 0.2132931798696518, avg_iou = 0.12108372896909714\n",
            "TP = [4396, 8162, 8419, 7820, 8013, 3983, 6019, 3728, 8301, 3201]\n",
            "TN = [471774, 462644, 473280, 480705, 458890, 460669, 439109, 471596, 477097, 174949]\n",
            "FP = [17870, 14466, 11845, 14889, 15686, 18181, 18851, 18554, 13029, 5251]\n",
            "FN = [30248, 39016, 30744, 20874, 41699, 41455, 60309, 30410, 25861, 13207]\n"
          ]
        },
        {
          "output_type": "display_data",
          "data": {
            "text/plain": [
              "<IPython.core.display.HTML object>"
            ],
            "text/html": [
              "Finishing last run (ID:vcu1i9t7) before initializing another..."
            ]
          },
          "metadata": {}
        },
        {
          "output_type": "display_data",
          "data": {
            "text/plain": [
              "VBox(children=(Label(value='14.369 MB of 14.369 MB uploaded\\r'), FloatProgress(value=1.0, max=1.0)))"
            ],
            "application/vnd.jupyter.widget-view+json": {
              "version_major": 2,
              "version_minor": 0,
              "model_id": "6dca51221898422fa703800e3cc89747"
            }
          },
          "metadata": {}
        },
        {
          "output_type": "display_data",
          "data": {
            "text/plain": [
              "<IPython.core.display.HTML object>"
            ],
            "text/html": [
              "<style>\n",
              "    table.wandb td:nth-child(1) { padding: 0 10px; text-align: left ; width: auto;} td:nth-child(2) {text-align: left ; width: 100%}\n",
              "    .wandb-row { display: flex; flex-direction: row; flex-wrap: wrap; justify-content: flex-start; width: 100% }\n",
              "    .wandb-col { display: flex; flex-direction: column; flex-basis: 100%; flex: 1; padding: 10px; }\n",
              "    </style>\n",
              "<div class=\"wandb-row\"><div class=\"wandb-col\"><h3>Run history:</h3><br/><table class=\"wandb\"><tr><td>Accuracy</td><td>▁</td></tr><tr><td>DICE</td><td>▁</td></tr><tr><td>Epoch</td><td>▁▂▃▃▄▅▆▆▇█</td></tr><tr><td>F1-Score</td><td>▁</td></tr><tr><td>IOU</td><td>▁</td></tr><tr><td>Precision</td><td>▁</td></tr><tr><td>Recall</td><td>▁</td></tr><tr><td>Train Loss</td><td>█▆▄▄▃▃▂▂▁▁</td></tr><tr><td>Valid Loss</td><td>█▆▄▃▃▂▂▁▁▁</td></tr></table><br/></div><div class=\"wandb-col\"><h3>Run summary:</h3><br/><table class=\"wandb\"><tr><td>Accuracy</td><td>0.90211</td></tr><tr><td>DICE</td><td>0.21329</td></tr><tr><td>Epoch</td><td>9</td></tr><tr><td>F1-Score</td><td>0.21329</td></tr><tr><td>IOU</td><td>0.12108</td></tr><tr><td>Precision</td><td>0.3013</td></tr><tr><td>Recall</td><td>0.16743</td></tr><tr><td>Train Loss</td><td>1.11756</td></tr><tr><td>Valid Loss</td><td>1.18691</td></tr></table><br/></div></div>"
            ]
          },
          "metadata": {}
        },
        {
          "output_type": "display_data",
          "data": {
            "text/plain": [
              "<IPython.core.display.HTML object>"
            ],
            "text/html": [
              " View run <strong style=\"color:#cdcd00\">init_metrics_run_tts0.2_ep10</strong> at: <a href='https://wandb.ai/bianca-team/GCANet_IMD2020_altered_imgs/runs/vcu1i9t7' target=\"_blank\">https://wandb.ai/bianca-team/GCANet_IMD2020_altered_imgs/runs/vcu1i9t7</a><br/> View project at: <a href='https://wandb.ai/bianca-team/GCANet_IMD2020_altered_imgs' target=\"_blank\">https://wandb.ai/bianca-team/GCANet_IMD2020_altered_imgs</a><br/>Synced 5 W&B file(s), 300 media file(s), 0 artifact file(s) and 0 other file(s)"
            ]
          },
          "metadata": {}
        },
        {
          "output_type": "display_data",
          "data": {
            "text/plain": [
              "<IPython.core.display.HTML object>"
            ],
            "text/html": [
              "Find logs at: <code>./wandb/run-20240526_181330-vcu1i9t7/logs</code>"
            ]
          },
          "metadata": {}
        },
        {
          "output_type": "display_data",
          "data": {
            "text/plain": [
              "<IPython.core.display.HTML object>"
            ],
            "text/html": [
              "Successfully finished last run (ID:vcu1i9t7). Initializing new run:<br/>"
            ]
          },
          "metadata": {}
        },
        {
          "output_type": "display_data",
          "data": {
            "text/plain": [
              "<IPython.core.display.HTML object>"
            ],
            "text/html": [
              "Tracking run with wandb version 0.17.0"
            ]
          },
          "metadata": {}
        },
        {
          "output_type": "display_data",
          "data": {
            "text/plain": [
              "<IPython.core.display.HTML object>"
            ],
            "text/html": [
              "Run data is saved locally in <code>/content/wandb/run-20240526_181702-72zetk5m</code>"
            ]
          },
          "metadata": {}
        },
        {
          "output_type": "display_data",
          "data": {
            "text/plain": [
              "<IPython.core.display.HTML object>"
            ],
            "text/html": [
              "Syncing run <strong><a href='https://wandb.ai/bianca-team/GCANet_IMD2020_altered_imgs/runs/72zetk5m' target=\"_blank\">init_metrics_run_tts0.2_ep20</a></strong> to <a href='https://wandb.ai/bianca-team/GCANet_IMD2020_altered_imgs' target=\"_blank\">Weights & Biases</a> (<a href='https://wandb.me/run' target=\"_blank\">docs</a>)<br/>"
            ]
          },
          "metadata": {}
        },
        {
          "output_type": "display_data",
          "data": {
            "text/plain": [
              "<IPython.core.display.HTML object>"
            ],
            "text/html": [
              " View project at <a href='https://wandb.ai/bianca-team/GCANet_IMD2020_altered_imgs' target=\"_blank\">https://wandb.ai/bianca-team/GCANet_IMD2020_altered_imgs</a>"
            ]
          },
          "metadata": {}
        },
        {
          "output_type": "display_data",
          "data": {
            "text/plain": [
              "<IPython.core.display.HTML object>"
            ],
            "text/html": [
              " View run at <a href='https://wandb.ai/bianca-team/GCANet_IMD2020_altered_imgs/runs/72zetk5m' target=\"_blank\">https://wandb.ai/bianca-team/GCANet_IMD2020_altered_imgs/runs/72zetk5m</a>"
            ]
          },
          "metadata": {}
        },
        {
          "output_type": "stream",
          "name": "stdout",
          "text": [
            "[INFO] Training the network for 20 epochs...\n"
          ]
        },
        {
          "output_type": "stream",
          "name": "stderr",
          "text": [
            "\r  0%|          | 0/20 [00:00<?, ?it/s]"
          ]
        },
        {
          "output_type": "stream",
          "name": "stdout",
          "text": [
            "Training...\n",
            "Validating...\n"
          ]
        },
        {
          "output_type": "stream",
          "name": "stderr",
          "text": [
            "\r  5%|▌         | 1/20 [00:18<05:43, 18.06s/it]"
          ]
        },
        {
          "output_type": "stream",
          "name": "stdout",
          "text": [
            "Training...\n",
            "Validating...\n"
          ]
        },
        {
          "output_type": "stream",
          "name": "stderr",
          "text": [
            "\r 10%|█         | 2/20 [00:36<05:25, 18.10s/it]"
          ]
        },
        {
          "output_type": "stream",
          "name": "stdout",
          "text": [
            "Training...\n",
            "Validating...\n"
          ]
        },
        {
          "output_type": "stream",
          "name": "stderr",
          "text": [
            "\r 15%|█▌        | 3/20 [00:54<05:11, 18.30s/it]"
          ]
        },
        {
          "output_type": "stream",
          "name": "stdout",
          "text": [
            "Training...\n",
            "Validating...\n"
          ]
        },
        {
          "output_type": "stream",
          "name": "stderr",
          "text": [
            "\r 20%|██        | 4/20 [01:12<04:47, 17.97s/it]"
          ]
        },
        {
          "output_type": "stream",
          "name": "stdout",
          "text": [
            "Training...\n",
            "Validating...\n"
          ]
        },
        {
          "output_type": "stream",
          "name": "stderr",
          "text": [
            "\r 25%|██▌       | 5/20 [01:29<04:27, 17.85s/it]"
          ]
        },
        {
          "output_type": "stream",
          "name": "stdout",
          "text": [
            "Training...\n",
            "Validating...\n"
          ]
        },
        {
          "output_type": "stream",
          "name": "stderr",
          "text": [
            "\r 30%|███       | 6/20 [01:48<04:12, 18.06s/it]"
          ]
        },
        {
          "output_type": "stream",
          "name": "stdout",
          "text": [
            "Training...\n",
            "Validating...\n"
          ]
        },
        {
          "output_type": "stream",
          "name": "stderr",
          "text": [
            "\r 35%|███▌      | 7/20 [02:06<03:54, 18.06s/it]"
          ]
        },
        {
          "output_type": "stream",
          "name": "stdout",
          "text": [
            "Training...\n",
            "Validating...\n"
          ]
        },
        {
          "output_type": "stream",
          "name": "stderr",
          "text": [
            "\r 40%|████      | 8/20 [02:23<03:34, 17.90s/it]"
          ]
        },
        {
          "output_type": "stream",
          "name": "stdout",
          "text": [
            "Training...\n",
            "Validating...\n"
          ]
        },
        {
          "output_type": "stream",
          "name": "stderr",
          "text": [
            "\r 45%|████▌     | 9/20 [02:41<03:16, 17.83s/it]"
          ]
        },
        {
          "output_type": "stream",
          "name": "stdout",
          "text": [
            "Training...\n",
            "Validating...\n"
          ]
        },
        {
          "output_type": "stream",
          "name": "stderr",
          "text": [
            "\r 50%|█████     | 10/20 [03:00<03:00, 18.01s/it]"
          ]
        },
        {
          "output_type": "stream",
          "name": "stdout",
          "text": [
            "Training...\n",
            "Validating...\n"
          ]
        },
        {
          "output_type": "stream",
          "name": "stderr",
          "text": [
            "\r 55%|█████▌    | 11/20 [03:17<02:41, 17.94s/it]"
          ]
        },
        {
          "output_type": "stream",
          "name": "stdout",
          "text": [
            "Training...\n",
            "Validating...\n"
          ]
        },
        {
          "output_type": "stream",
          "name": "stderr",
          "text": [
            "\r 60%|██████    | 12/20 [03:35<02:22, 17.86s/it]"
          ]
        },
        {
          "output_type": "stream",
          "name": "stdout",
          "text": [
            "Training...\n",
            "Validating...\n"
          ]
        },
        {
          "output_type": "stream",
          "name": "stderr",
          "text": [
            "\r 65%|██████▌   | 13/20 [03:53<02:04, 17.80s/it]"
          ]
        },
        {
          "output_type": "stream",
          "name": "stdout",
          "text": [
            "Training...\n",
            "Validating...\n"
          ]
        },
        {
          "output_type": "stream",
          "name": "stderr",
          "text": [
            "\r 70%|███████   | 14/20 [04:11<01:48, 18.01s/it]"
          ]
        },
        {
          "output_type": "stream",
          "name": "stdout",
          "text": [
            "Training...\n",
            "Validating...\n"
          ]
        },
        {
          "output_type": "stream",
          "name": "stderr",
          "text": [
            "\r 75%|███████▌  | 15/20 [04:29<01:29, 17.90s/it]"
          ]
        },
        {
          "output_type": "stream",
          "name": "stdout",
          "text": [
            "Training...\n",
            "Validating...\n"
          ]
        },
        {
          "output_type": "stream",
          "name": "stderr",
          "text": [
            "\r 80%|████████  | 16/20 [04:46<01:11, 17.84s/it]"
          ]
        },
        {
          "output_type": "stream",
          "name": "stdout",
          "text": [
            "Training...\n",
            "Validating...\n"
          ]
        },
        {
          "output_type": "stream",
          "name": "stderr",
          "text": [
            "\r 85%|████████▌ | 17/20 [05:05<00:53, 17.93s/it]"
          ]
        },
        {
          "output_type": "stream",
          "name": "stdout",
          "text": [
            "Training...\n",
            "Validating...\n"
          ]
        },
        {
          "output_type": "stream",
          "name": "stderr",
          "text": [
            "\r 90%|█████████ | 18/20 [05:23<00:35, 17.97s/it]"
          ]
        },
        {
          "output_type": "stream",
          "name": "stdout",
          "text": [
            "Training...\n",
            "Validating...\n"
          ]
        },
        {
          "output_type": "stream",
          "name": "stderr",
          "text": [
            "\r 95%|█████████▌| 19/20 [05:40<00:17, 17.89s/it]"
          ]
        },
        {
          "output_type": "stream",
          "name": "stdout",
          "text": [
            "Training...\n",
            "Validating...\n"
          ]
        },
        {
          "output_type": "stream",
          "name": "stderr",
          "text": [
            "100%|██████████| 20/20 [05:58<00:00, 17.93s/it]\n"
          ]
        },
        {
          "output_type": "stream",
          "name": "stdout",
          "text": [
            "[INFO] Total time taken to train and validate the model: 358.51s\n",
            "Testing...\n",
            "\n",
            "\n",
            "\n",
            "\n",
            "\n",
            "\n",
            "\n",
            "\n",
            "\n",
            "\n",
            "\n",
            "\n",
            "\n",
            "\n",
            "\n",
            "\n",
            "\n",
            "\n",
            "\n",
            "\n",
            "avg_accuracy = 0.8953641653060913, avg_precision = 0.3078480660915375, avg_recall = 0.25749117136001587, avg_f1_score = 0.2740761339664459, avg_dice_score = 0.2740761935710907, avg_iou = 0.16306394338607788\n",
            "TP = [8371, 12941, 10044, 12801, 8104, 6159, 8057, 6816, 8848, 7838]\n",
            "TN = [459931, 453607, 461855, 469034, 458175, 458085, 433725, 461607, 471959, 173725]\n",
            "FP = [29713, 23503, 23270, 26560, 16401, 20765, 24235, 28543, 18167, 6475]\n",
            "FN = [26273, 34237, 29119, 15893, 41608, 39279, 58271, 27322, 25314, 8570]\n"
          ]
        },
        {
          "output_type": "display_data",
          "data": {
            "text/plain": [
              "<IPython.core.display.HTML object>"
            ],
            "text/html": [
              "Finishing last run (ID:72zetk5m) before initializing another..."
            ]
          },
          "metadata": {}
        },
        {
          "output_type": "display_data",
          "data": {
            "text/plain": [
              "VBox(children=(Label(value='14.386 MB of 14.386 MB uploaded\\r'), FloatProgress(value=1.0, max=1.0)))"
            ],
            "application/vnd.jupyter.widget-view+json": {
              "version_major": 2,
              "version_minor": 0,
              "model_id": "6300954d22e84d1c87179eb4b818aa39"
            }
          },
          "metadata": {}
        },
        {
          "output_type": "display_data",
          "data": {
            "text/plain": [
              "<IPython.core.display.HTML object>"
            ],
            "text/html": [
              "<style>\n",
              "    table.wandb td:nth-child(1) { padding: 0 10px; text-align: left ; width: auto;} td:nth-child(2) {text-align: left ; width: 100%}\n",
              "    .wandb-row { display: flex; flex-direction: row; flex-wrap: wrap; justify-content: flex-start; width: 100% }\n",
              "    .wandb-col { display: flex; flex-direction: column; flex-basis: 100%; flex: 1; padding: 10px; }\n",
              "    </style>\n",
              "<div class=\"wandb-row\"><div class=\"wandb-col\"><h3>Run history:</h3><br/><table class=\"wandb\"><tr><td>Accuracy</td><td>▁</td></tr><tr><td>DICE</td><td>▁</td></tr><tr><td>Epoch</td><td>▁▁▂▂▂▃▃▄▄▄▅▅▅▆▆▇▇▇██</td></tr><tr><td>F1-Score</td><td>▁</td></tr><tr><td>IOU</td><td>▁</td></tr><tr><td>Precision</td><td>▁</td></tr><tr><td>Recall</td><td>▁</td></tr><tr><td>Train Loss</td><td>█▇▆▆▅▅▅▅▄▄▄▃▃▃▃▂▂▂▁▁</td></tr><tr><td>Valid Loss</td><td>█▆▅▄▄▄▃▃▃▃▂▂▃▂▂▁▂▁▂▁</td></tr></table><br/></div><div class=\"wandb-col\"><h3>Run summary:</h3><br/><table class=\"wandb\"><tr><td>Accuracy</td><td>0.89536</td></tr><tr><td>DICE</td><td>0.27408</td></tr><tr><td>Epoch</td><td>19</td></tr><tr><td>F1-Score</td><td>0.27408</td></tr><tr><td>IOU</td><td>0.16306</td></tr><tr><td>Precision</td><td>0.30785</td></tr><tr><td>Recall</td><td>0.25749</td></tr><tr><td>Train Loss</td><td>0.81865</td></tr><tr><td>Valid Loss</td><td>1.11613</td></tr></table><br/></div></div>"
            ]
          },
          "metadata": {}
        },
        {
          "output_type": "display_data",
          "data": {
            "text/plain": [
              "<IPython.core.display.HTML object>"
            ],
            "text/html": [
              " View run <strong style=\"color:#cdcd00\">init_metrics_run_tts0.2_ep20</strong> at: <a href='https://wandb.ai/bianca-team/GCANet_IMD2020_altered_imgs/runs/72zetk5m' target=\"_blank\">https://wandb.ai/bianca-team/GCANet_IMD2020_altered_imgs/runs/72zetk5m</a><br/> View project at: <a href='https://wandb.ai/bianca-team/GCANet_IMD2020_altered_imgs' target=\"_blank\">https://wandb.ai/bianca-team/GCANet_IMD2020_altered_imgs</a><br/>Synced 5 W&B file(s), 300 media file(s), 0 artifact file(s) and 0 other file(s)"
            ]
          },
          "metadata": {}
        },
        {
          "output_type": "display_data",
          "data": {
            "text/plain": [
              "<IPython.core.display.HTML object>"
            ],
            "text/html": [
              "Find logs at: <code>./wandb/run-20240526_181702-72zetk5m/logs</code>"
            ]
          },
          "metadata": {}
        },
        {
          "output_type": "display_data",
          "data": {
            "text/plain": [
              "<IPython.core.display.HTML object>"
            ],
            "text/html": [
              "Successfully finished last run (ID:72zetk5m). Initializing new run:<br/>"
            ]
          },
          "metadata": {}
        },
        {
          "output_type": "display_data",
          "data": {
            "text/plain": [
              "<IPython.core.display.HTML object>"
            ],
            "text/html": [
              "Tracking run with wandb version 0.17.0"
            ]
          },
          "metadata": {}
        },
        {
          "output_type": "display_data",
          "data": {
            "text/plain": [
              "<IPython.core.display.HTML object>"
            ],
            "text/html": [
              "Run data is saved locally in <code>/content/wandb/run-20240526_182335-hkqo054v</code>"
            ]
          },
          "metadata": {}
        },
        {
          "output_type": "display_data",
          "data": {
            "text/plain": [
              "<IPython.core.display.HTML object>"
            ],
            "text/html": [
              "Syncing run <strong><a href='https://wandb.ai/bianca-team/GCANet_IMD2020_altered_imgs/runs/hkqo054v' target=\"_blank\">init_metrics_run_tts0.2_ep50</a></strong> to <a href='https://wandb.ai/bianca-team/GCANet_IMD2020_altered_imgs' target=\"_blank\">Weights & Biases</a> (<a href='https://wandb.me/run' target=\"_blank\">docs</a>)<br/>"
            ]
          },
          "metadata": {}
        },
        {
          "output_type": "display_data",
          "data": {
            "text/plain": [
              "<IPython.core.display.HTML object>"
            ],
            "text/html": [
              " View project at <a href='https://wandb.ai/bianca-team/GCANet_IMD2020_altered_imgs' target=\"_blank\">https://wandb.ai/bianca-team/GCANet_IMD2020_altered_imgs</a>"
            ]
          },
          "metadata": {}
        },
        {
          "output_type": "display_data",
          "data": {
            "text/plain": [
              "<IPython.core.display.HTML object>"
            ],
            "text/html": [
              " View run at <a href='https://wandb.ai/bianca-team/GCANet_IMD2020_altered_imgs/runs/hkqo054v' target=\"_blank\">https://wandb.ai/bianca-team/GCANet_IMD2020_altered_imgs/runs/hkqo054v</a>"
            ]
          },
          "metadata": {}
        },
        {
          "output_type": "stream",
          "name": "stdout",
          "text": [
            "[INFO] Training the network for 50 epochs...\n"
          ]
        },
        {
          "output_type": "stream",
          "name": "stderr",
          "text": [
            "\r  0%|          | 0/50 [00:00<?, ?it/s]"
          ]
        },
        {
          "output_type": "stream",
          "name": "stdout",
          "text": [
            "Training...\n",
            "Validating...\n"
          ]
        },
        {
          "output_type": "stream",
          "name": "stderr",
          "text": [
            "\r  2%|▏         | 1/50 [00:18<14:51, 18.18s/it]"
          ]
        },
        {
          "output_type": "stream",
          "name": "stdout",
          "text": [
            "Training...\n",
            "Validating...\n"
          ]
        },
        {
          "output_type": "stream",
          "name": "stderr",
          "text": [
            "\r  4%|▍         | 2/50 [00:36<14:25, 18.02s/it]"
          ]
        },
        {
          "output_type": "stream",
          "name": "stdout",
          "text": [
            "Training...\n",
            "Validating...\n"
          ]
        },
        {
          "output_type": "stream",
          "name": "stderr",
          "text": [
            "\r  6%|▌         | 3/50 [00:53<14:00, 17.87s/it]"
          ]
        },
        {
          "output_type": "stream",
          "name": "stdout",
          "text": [
            "Training...\n",
            "Validating...\n"
          ]
        },
        {
          "output_type": "stream",
          "name": "stderr",
          "text": [
            "\r  8%|▊         | 4/50 [01:12<13:54, 18.13s/it]"
          ]
        },
        {
          "output_type": "stream",
          "name": "stdout",
          "text": [
            "Training...\n",
            "Validating...\n"
          ]
        },
        {
          "output_type": "stream",
          "name": "stderr",
          "text": [
            "\r 10%|█         | 5/50 [01:29<13:25, 17.91s/it]"
          ]
        },
        {
          "output_type": "stream",
          "name": "stdout",
          "text": [
            "Training...\n",
            "Validating...\n"
          ]
        },
        {
          "output_type": "stream",
          "name": "stderr",
          "text": [
            "\r 12%|█▏        | 6/50 [01:47<13:03, 17.80s/it]"
          ]
        },
        {
          "output_type": "stream",
          "name": "stdout",
          "text": [
            "Training...\n",
            "Validating...\n"
          ]
        },
        {
          "output_type": "stream",
          "name": "stderr",
          "text": [
            "\r 14%|█▍        | 7/50 [02:05<12:45, 17.81s/it]"
          ]
        },
        {
          "output_type": "stream",
          "name": "stdout",
          "text": [
            "Training...\n",
            "Validating...\n"
          ]
        },
        {
          "output_type": "stream",
          "name": "stderr",
          "text": [
            "\r 16%|█▌        | 8/50 [02:23<12:39, 18.08s/it]"
          ]
        },
        {
          "output_type": "stream",
          "name": "stdout",
          "text": [
            "Training...\n",
            "Validating...\n"
          ]
        },
        {
          "output_type": "stream",
          "name": "stderr",
          "text": [
            "\r 18%|█▊        | 9/50 [02:41<12:16, 17.96s/it]"
          ]
        },
        {
          "output_type": "stream",
          "name": "stdout",
          "text": [
            "Training...\n",
            "Validating...\n"
          ]
        },
        {
          "output_type": "stream",
          "name": "stderr",
          "text": [
            "\r 20%|██        | 10/50 [02:59<11:53, 17.83s/it]"
          ]
        },
        {
          "output_type": "stream",
          "name": "stdout",
          "text": [
            "Training...\n",
            "Validating...\n"
          ]
        },
        {
          "output_type": "stream",
          "name": "stderr",
          "text": [
            "\r 22%|██▏       | 11/50 [03:17<11:39, 17.94s/it]"
          ]
        },
        {
          "output_type": "stream",
          "name": "stdout",
          "text": [
            "Training...\n",
            "Validating...\n"
          ]
        },
        {
          "output_type": "stream",
          "name": "stderr",
          "text": [
            "\r 24%|██▍       | 12/50 [03:35<11:23, 18.00s/it]"
          ]
        },
        {
          "output_type": "stream",
          "name": "stdout",
          "text": [
            "Training...\n",
            "Validating...\n"
          ]
        },
        {
          "output_type": "stream",
          "name": "stderr",
          "text": [
            "\r 26%|██▌       | 13/50 [03:53<11:00, 17.86s/it]"
          ]
        },
        {
          "output_type": "stream",
          "name": "stdout",
          "text": [
            "Training...\n",
            "Validating...\n"
          ]
        },
        {
          "output_type": "stream",
          "name": "stderr",
          "text": [
            "\r 28%|██▊       | 14/50 [04:10<10:41, 17.83s/it]"
          ]
        },
        {
          "output_type": "stream",
          "name": "stdout",
          "text": [
            "Training...\n",
            "Validating...\n"
          ]
        },
        {
          "output_type": "stream",
          "name": "stderr",
          "text": [
            "\r 30%|███       | 15/50 [04:29<10:30, 18.03s/it]"
          ]
        },
        {
          "output_type": "stream",
          "name": "stdout",
          "text": [
            "Training...\n",
            "Validating...\n"
          ]
        },
        {
          "output_type": "stream",
          "name": "stderr",
          "text": [
            "\r 32%|███▏      | 16/50 [04:47<10:10, 17.96s/it]"
          ]
        },
        {
          "output_type": "stream",
          "name": "stdout",
          "text": [
            "Training...\n",
            "Validating...\n"
          ]
        },
        {
          "output_type": "stream",
          "name": "stderr",
          "text": [
            "\r 34%|███▍      | 17/50 [05:04<09:49, 17.85s/it]"
          ]
        },
        {
          "output_type": "stream",
          "name": "stdout",
          "text": [
            "Training...\n",
            "Validating...\n"
          ]
        },
        {
          "output_type": "stream",
          "name": "stderr",
          "text": [
            "\r 36%|███▌      | 18/50 [05:22<09:30, 17.83s/it]"
          ]
        },
        {
          "output_type": "stream",
          "name": "stdout",
          "text": [
            "Training...\n",
            "Validating...\n"
          ]
        },
        {
          "output_type": "stream",
          "name": "stderr",
          "text": [
            "\r 38%|███▊      | 19/50 [05:40<09:18, 18.02s/it]"
          ]
        },
        {
          "output_type": "stream",
          "name": "stdout",
          "text": [
            "Training...\n",
            "Validating...\n"
          ]
        },
        {
          "output_type": "stream",
          "name": "stderr",
          "text": [
            "\r 40%|████      | 20/50 [05:58<08:57, 17.93s/it]"
          ]
        },
        {
          "output_type": "stream",
          "name": "stdout",
          "text": [
            "Training...\n",
            "Validating...\n"
          ]
        },
        {
          "output_type": "stream",
          "name": "stderr",
          "text": [
            "\r 42%|████▏     | 21/50 [06:16<08:37, 17.85s/it]"
          ]
        },
        {
          "output_type": "stream",
          "name": "stdout",
          "text": [
            "Training...\n",
            "Validating...\n"
          ]
        },
        {
          "output_type": "stream",
          "name": "stderr",
          "text": [
            "\r 44%|████▍     | 22/50 [06:34<08:21, 17.93s/it]"
          ]
        },
        {
          "output_type": "stream",
          "name": "stdout",
          "text": [
            "Training...\n",
            "Validating...\n"
          ]
        },
        {
          "output_type": "stream",
          "name": "stderr",
          "text": [
            "\r 46%|████▌     | 23/50 [06:52<08:04, 17.96s/it]"
          ]
        },
        {
          "output_type": "stream",
          "name": "stdout",
          "text": [
            "Training...\n",
            "Validating...\n"
          ]
        },
        {
          "output_type": "stream",
          "name": "stderr",
          "text": [
            "\r 48%|████▊     | 24/50 [07:10<07:44, 17.87s/it]"
          ]
        },
        {
          "output_type": "stream",
          "name": "stdout",
          "text": [
            "Training...\n",
            "Validating...\n"
          ]
        },
        {
          "output_type": "stream",
          "name": "stderr",
          "text": [
            "\r 50%|█████     | 25/50 [07:27<07:25, 17.81s/it]"
          ]
        },
        {
          "output_type": "stream",
          "name": "stdout",
          "text": [
            "Training...\n",
            "Validating...\n"
          ]
        },
        {
          "output_type": "stream",
          "name": "stderr",
          "text": [
            "\r 52%|█████▏    | 26/50 [07:46<07:13, 18.06s/it]"
          ]
        },
        {
          "output_type": "stream",
          "name": "stdout",
          "text": [
            "Training...\n",
            "Validating...\n"
          ]
        },
        {
          "output_type": "stream",
          "name": "stderr",
          "text": [
            "\r 54%|█████▍    | 27/50 [08:03<06:52, 17.92s/it]"
          ]
        },
        {
          "output_type": "stream",
          "name": "stdout",
          "text": [
            "Training...\n",
            "Validating...\n"
          ]
        },
        {
          "output_type": "stream",
          "name": "stderr",
          "text": [
            "\r 56%|█████▌    | 28/50 [08:21<06:31, 17.82s/it]"
          ]
        },
        {
          "output_type": "stream",
          "name": "stdout",
          "text": [
            "Training...\n",
            "Validating...\n"
          ]
        },
        {
          "output_type": "stream",
          "name": "stderr",
          "text": [
            "\r 58%|█████▊    | 29/50 [08:39<06:13, 17.78s/it]"
          ]
        },
        {
          "output_type": "stream",
          "name": "stdout",
          "text": [
            "Training...\n",
            "Validating...\n"
          ]
        },
        {
          "output_type": "stream",
          "name": "stderr",
          "text": [
            "\r 60%|██████    | 30/50 [08:57<05:59, 17.97s/it]"
          ]
        },
        {
          "output_type": "stream",
          "name": "stdout",
          "text": [
            "Training...\n",
            "Validating...\n"
          ]
        },
        {
          "output_type": "stream",
          "name": "stderr",
          "text": [
            "\r 62%|██████▏   | 31/50 [09:15<05:39, 17.87s/it]"
          ]
        },
        {
          "output_type": "stream",
          "name": "stdout",
          "text": [
            "Training...\n",
            "Validating...\n"
          ]
        },
        {
          "output_type": "stream",
          "name": "stderr",
          "text": [
            "\r 64%|██████▍   | 32/50 [09:32<05:19, 17.76s/it]"
          ]
        },
        {
          "output_type": "stream",
          "name": "stdout",
          "text": [
            "Training...\n",
            "Validating...\n"
          ]
        },
        {
          "output_type": "stream",
          "name": "stderr",
          "text": [
            "\r 66%|██████▌   | 33/50 [09:50<05:03, 17.88s/it]"
          ]
        },
        {
          "output_type": "stream",
          "name": "stdout",
          "text": [
            "Training...\n",
            "Validating...\n"
          ]
        },
        {
          "output_type": "stream",
          "name": "stderr",
          "text": [
            "\r 68%|██████▊   | 34/50 [10:08<04:46, 17.89s/it]"
          ]
        },
        {
          "output_type": "stream",
          "name": "stdout",
          "text": [
            "Training...\n",
            "Validating...\n"
          ]
        },
        {
          "output_type": "stream",
          "name": "stderr",
          "text": [
            "\r 70%|███████   | 35/50 [10:26<04:27, 17.82s/it]"
          ]
        },
        {
          "output_type": "stream",
          "name": "stdout",
          "text": [
            "Training...\n",
            "Validating...\n"
          ]
        },
        {
          "output_type": "stream",
          "name": "stderr",
          "text": [
            "\r 72%|███████▏  | 36/50 [10:44<04:08, 17.74s/it]"
          ]
        },
        {
          "output_type": "stream",
          "name": "stdout",
          "text": [
            "Training...\n",
            "Validating...\n"
          ]
        },
        {
          "output_type": "stream",
          "name": "stderr",
          "text": [
            "\r 74%|███████▍  | 37/50 [11:02<03:54, 18.01s/it]"
          ]
        },
        {
          "output_type": "stream",
          "name": "stdout",
          "text": [
            "Training...\n",
            "Validating...\n"
          ]
        },
        {
          "output_type": "stream",
          "name": "stderr",
          "text": [
            "\r 76%|███████▌  | 38/50 [11:20<03:35, 17.95s/it]"
          ]
        },
        {
          "output_type": "stream",
          "name": "stdout",
          "text": [
            "Training...\n",
            "Validating...\n"
          ]
        },
        {
          "output_type": "stream",
          "name": "stderr",
          "text": [
            "\r 78%|███████▊  | 39/50 [11:38<03:16, 17.85s/it]"
          ]
        },
        {
          "output_type": "stream",
          "name": "stdout",
          "text": [
            "Training...\n",
            "Validating...\n"
          ]
        },
        {
          "output_type": "stream",
          "name": "stderr",
          "text": [
            "\r 80%|████████  | 40/50 [11:55<02:57, 17.76s/it]"
          ]
        },
        {
          "output_type": "stream",
          "name": "stdout",
          "text": [
            "Training...\n",
            "Validating...\n"
          ]
        },
        {
          "output_type": "stream",
          "name": "stderr",
          "text": [
            "\r 82%|████████▏ | 41/50 [12:14<02:42, 18.02s/it]"
          ]
        },
        {
          "output_type": "stream",
          "name": "stdout",
          "text": [
            "Training...\n",
            "Validating...\n"
          ]
        },
        {
          "output_type": "stream",
          "name": "stderr",
          "text": [
            "\r 84%|████████▍ | 42/50 [12:31<02:23, 17.89s/it]"
          ]
        },
        {
          "output_type": "stream",
          "name": "stdout",
          "text": [
            "Training...\n",
            "Validating...\n"
          ]
        },
        {
          "output_type": "stream",
          "name": "stderr",
          "text": [
            "\r 86%|████████▌ | 43/50 [12:49<02:04, 17.82s/it]"
          ]
        },
        {
          "output_type": "stream",
          "name": "stdout",
          "text": [
            "Training...\n",
            "Validating...\n"
          ]
        },
        {
          "output_type": "stream",
          "name": "stderr",
          "text": [
            "\r 88%|████████▊ | 44/50 [13:07<01:47, 17.84s/it]"
          ]
        },
        {
          "output_type": "stream",
          "name": "stdout",
          "text": [
            "Training...\n",
            "Validating...\n"
          ]
        },
        {
          "output_type": "stream",
          "name": "stderr",
          "text": [
            "\r 90%|█████████ | 45/50 [13:25<01:29, 17.94s/it]"
          ]
        },
        {
          "output_type": "stream",
          "name": "stdout",
          "text": [
            "Training...\n",
            "Validating...\n"
          ]
        },
        {
          "output_type": "stream",
          "name": "stderr",
          "text": [
            "\r 92%|█████████▏| 46/50 [13:43<01:11, 17.89s/it]"
          ]
        },
        {
          "output_type": "stream",
          "name": "stdout",
          "text": [
            "Training...\n",
            "Validating...\n"
          ]
        },
        {
          "output_type": "stream",
          "name": "stderr",
          "text": [
            "\r 94%|█████████▍| 47/50 [14:01<00:53, 17.82s/it]"
          ]
        },
        {
          "output_type": "stream",
          "name": "stdout",
          "text": [
            "Training...\n",
            "Validating...\n"
          ]
        },
        {
          "output_type": "stream",
          "name": "stderr",
          "text": [
            "\r 96%|█████████▌| 48/50 [14:19<00:36, 18.02s/it]"
          ]
        },
        {
          "output_type": "stream",
          "name": "stdout",
          "text": [
            "Training...\n",
            "Validating...\n"
          ]
        },
        {
          "output_type": "stream",
          "name": "stderr",
          "text": [
            "\r 98%|█████████▊| 49/50 [14:37<00:17, 17.95s/it]"
          ]
        },
        {
          "output_type": "stream",
          "name": "stdout",
          "text": [
            "Training...\n",
            "Validating...\n"
          ]
        },
        {
          "output_type": "stream",
          "name": "stderr",
          "text": [
            "100%|██████████| 50/50 [14:55<00:00, 17.90s/it]\n"
          ]
        },
        {
          "output_type": "stream",
          "name": "stdout",
          "text": [
            "[INFO] Total time taken to train and validate the model: 895.07s\n",
            "Testing...\n",
            "\n",
            "\n",
            "\n",
            "\n",
            "\n",
            "\n",
            "\n",
            "\n",
            "\n",
            "\n",
            "\n",
            "\n",
            "\n",
            "\n",
            "\n",
            "\n",
            "\n",
            "\n",
            "\n",
            "\n",
            "avg_accuracy = 0.9000388383865356, avg_precision = 0.3006798028945923, avg_recall = 0.17475762963294983, avg_f1_score = 0.2145494669675827, avg_dice_score = 0.2145494669675827, avg_iou = 0.12519729137420654\n",
            "TP = [2046, 8217, 5143, 9811, 2207, 6697, 6591, 4495, 10341, 5178]\n",
            "TN = [469084, 457096, 475093, 470075, 456189, 461512, 439052, 467168, 484101, 176276]\n",
            "FP = [20560, 20014, 10032, 25519, 18387, 17338, 18908, 22982, 6025, 3924]\n",
            "FN = [32598, 38961, 34020, 18883, 47505, 38741, 59737, 29643, 23821, 11230]\n"
          ]
        },
        {
          "output_type": "display_data",
          "data": {
            "text/plain": [
              "<IPython.core.display.HTML object>"
            ],
            "text/html": [
              "Finishing last run (ID:hkqo054v) before initializing another..."
            ]
          },
          "metadata": {}
        },
        {
          "output_type": "display_data",
          "data": {
            "text/plain": [
              "VBox(children=(Label(value='14.377 MB of 14.377 MB uploaded\\r'), FloatProgress(value=1.0, max=1.0)))"
            ],
            "application/vnd.jupyter.widget-view+json": {
              "version_major": 2,
              "version_minor": 0,
              "model_id": "0f369b4d647f416db306b1102b040dcf"
            }
          },
          "metadata": {}
        },
        {
          "output_type": "display_data",
          "data": {
            "text/plain": [
              "<IPython.core.display.HTML object>"
            ],
            "text/html": [
              "<style>\n",
              "    table.wandb td:nth-child(1) { padding: 0 10px; text-align: left ; width: auto;} td:nth-child(2) {text-align: left ; width: 100%}\n",
              "    .wandb-row { display: flex; flex-direction: row; flex-wrap: wrap; justify-content: flex-start; width: 100% }\n",
              "    .wandb-col { display: flex; flex-direction: column; flex-basis: 100%; flex: 1; padding: 10px; }\n",
              "    </style>\n",
              "<div class=\"wandb-row\"><div class=\"wandb-col\"><h3>Run history:</h3><br/><table class=\"wandb\"><tr><td>Accuracy</td><td>▁</td></tr><tr><td>DICE</td><td>▁</td></tr><tr><td>Epoch</td><td>▁▁▁▁▂▂▂▂▂▃▃▃▃▃▃▄▄▄▄▄▅▅▅▅▅▅▆▆▆▆▆▆▇▇▇▇▇███</td></tr><tr><td>F1-Score</td><td>▁</td></tr><tr><td>IOU</td><td>▁</td></tr><tr><td>Precision</td><td>▁</td></tr><tr><td>Recall</td><td>▁</td></tr><tr><td>Train Loss</td><td>█▇▇▇▆▆▆▆▆▆▆▅▅▅▅▅▄▄▄▄▃▃▃▃▃▃▂▂▂▂▂▂▂▂▂▂▁▁▁▁</td></tr><tr><td>Valid Loss</td><td>█▆▅▄▃▃▃▃▂▂▂▂▂▂▂▃▁▃▃▃▂▃▁▂▂▂▂▂▁▂▂▂▃▃▃▂▁▂▂▃</td></tr></table><br/></div><div class=\"wandb-col\"><h3>Run summary:</h3><br/><table class=\"wandb\"><tr><td>Accuracy</td><td>0.90004</td></tr><tr><td>DICE</td><td>0.21455</td></tr><tr><td>Epoch</td><td>49</td></tr><tr><td>F1-Score</td><td>0.21455</td></tr><tr><td>IOU</td><td>0.1252</td></tr><tr><td>Precision</td><td>0.30068</td></tr><tr><td>Recall</td><td>0.17476</td></tr><tr><td>Train Loss</td><td>0.27617</td></tr><tr><td>Valid Loss</td><td>1.21965</td></tr></table><br/></div></div>"
            ]
          },
          "metadata": {}
        },
        {
          "output_type": "display_data",
          "data": {
            "text/plain": [
              "<IPython.core.display.HTML object>"
            ],
            "text/html": [
              " View run <strong style=\"color:#cdcd00\">init_metrics_run_tts0.2_ep50</strong> at: <a href='https://wandb.ai/bianca-team/GCANet_IMD2020_altered_imgs/runs/hkqo054v' target=\"_blank\">https://wandb.ai/bianca-team/GCANet_IMD2020_altered_imgs/runs/hkqo054v</a><br/> View project at: <a href='https://wandb.ai/bianca-team/GCANet_IMD2020_altered_imgs' target=\"_blank\">https://wandb.ai/bianca-team/GCANet_IMD2020_altered_imgs</a><br/>Synced 5 W&B file(s), 300 media file(s), 0 artifact file(s) and 0 other file(s)"
            ]
          },
          "metadata": {}
        },
        {
          "output_type": "display_data",
          "data": {
            "text/plain": [
              "<IPython.core.display.HTML object>"
            ],
            "text/html": [
              "Find logs at: <code>./wandb/run-20240526_182335-hkqo054v/logs</code>"
            ]
          },
          "metadata": {}
        },
        {
          "output_type": "display_data",
          "data": {
            "text/plain": [
              "<IPython.core.display.HTML object>"
            ],
            "text/html": [
              "Successfully finished last run (ID:hkqo054v). Initializing new run:<br/>"
            ]
          },
          "metadata": {}
        },
        {
          "output_type": "display_data",
          "data": {
            "text/plain": [
              "<IPython.core.display.HTML object>"
            ],
            "text/html": [
              "Tracking run with wandb version 0.17.0"
            ]
          },
          "metadata": {}
        },
        {
          "output_type": "display_data",
          "data": {
            "text/plain": [
              "<IPython.core.display.HTML object>"
            ],
            "text/html": [
              "Run data is saved locally in <code>/content/wandb/run-20240526_183905-biq2x2qu</code>"
            ]
          },
          "metadata": {}
        },
        {
          "output_type": "display_data",
          "data": {
            "text/plain": [
              "<IPython.core.display.HTML object>"
            ],
            "text/html": [
              "Syncing run <strong><a href='https://wandb.ai/bianca-team/GCANet_IMD2020_altered_imgs/runs/biq2x2qu' target=\"_blank\">init_metrics_run_tts0.2_ep100</a></strong> to <a href='https://wandb.ai/bianca-team/GCANet_IMD2020_altered_imgs' target=\"_blank\">Weights & Biases</a> (<a href='https://wandb.me/run' target=\"_blank\">docs</a>)<br/>"
            ]
          },
          "metadata": {}
        },
        {
          "output_type": "display_data",
          "data": {
            "text/plain": [
              "<IPython.core.display.HTML object>"
            ],
            "text/html": [
              " View project at <a href='https://wandb.ai/bianca-team/GCANet_IMD2020_altered_imgs' target=\"_blank\">https://wandb.ai/bianca-team/GCANet_IMD2020_altered_imgs</a>"
            ]
          },
          "metadata": {}
        },
        {
          "output_type": "display_data",
          "data": {
            "text/plain": [
              "<IPython.core.display.HTML object>"
            ],
            "text/html": [
              " View run at <a href='https://wandb.ai/bianca-team/GCANet_IMD2020_altered_imgs/runs/biq2x2qu' target=\"_blank\">https://wandb.ai/bianca-team/GCANet_IMD2020_altered_imgs/runs/biq2x2qu</a>"
            ]
          },
          "metadata": {}
        },
        {
          "output_type": "stream",
          "name": "stdout",
          "text": [
            "[INFO] Training the network for 100 epochs...\n"
          ]
        },
        {
          "output_type": "stream",
          "name": "stderr",
          "text": [
            "\r  0%|          | 0/100 [00:00<?, ?it/s]"
          ]
        },
        {
          "output_type": "stream",
          "name": "stdout",
          "text": [
            "Training...\n",
            "Validating...\n"
          ]
        },
        {
          "output_type": "stream",
          "name": "stderr",
          "text": [
            "\r  1%|          | 1/100 [00:18<31:05, 18.84s/it]"
          ]
        },
        {
          "output_type": "stream",
          "name": "stdout",
          "text": [
            "Training...\n",
            "Validating...\n"
          ]
        },
        {
          "output_type": "stream",
          "name": "stderr",
          "text": [
            "\r  2%|▏         | 2/100 [00:36<29:45, 18.22s/it]"
          ]
        },
        {
          "output_type": "stream",
          "name": "stdout",
          "text": [
            "Training...\n",
            "Validating...\n"
          ]
        },
        {
          "output_type": "stream",
          "name": "stderr",
          "text": [
            "\r  3%|▎         | 3/100 [00:54<29:00, 17.94s/it]"
          ]
        },
        {
          "output_type": "stream",
          "name": "stdout",
          "text": [
            "Training...\n",
            "Validating...\n"
          ]
        },
        {
          "output_type": "stream",
          "name": "stderr",
          "text": [
            "\r  4%|▍         | 4/100 [01:12<28:53, 18.06s/it]"
          ]
        },
        {
          "output_type": "stream",
          "name": "stdout",
          "text": [
            "Training...\n",
            "Validating...\n"
          ]
        },
        {
          "output_type": "stream",
          "name": "stderr",
          "text": [
            "\r  5%|▌         | 5/100 [01:30<28:32, 18.03s/it]"
          ]
        },
        {
          "output_type": "stream",
          "name": "stdout",
          "text": [
            "Training...\n",
            "Validating...\n"
          ]
        },
        {
          "output_type": "stream",
          "name": "stderr",
          "text": [
            "\r  6%|▌         | 6/100 [01:48<28:05, 17.93s/it]"
          ]
        },
        {
          "output_type": "stream",
          "name": "stdout",
          "text": [
            "Training...\n",
            "Validating...\n"
          ]
        },
        {
          "output_type": "stream",
          "name": "stderr",
          "text": [
            "\r  7%|▋         | 7/100 [02:05<27:41, 17.87s/it]"
          ]
        },
        {
          "output_type": "stream",
          "name": "stdout",
          "text": [
            "Training...\n",
            "Validating...\n"
          ]
        },
        {
          "output_type": "stream",
          "name": "stderr",
          "text": [
            "\r  8%|▊         | 8/100 [02:24<27:43, 18.08s/it]"
          ]
        },
        {
          "output_type": "stream",
          "name": "stdout",
          "text": [
            "Training...\n",
            "Validating...\n"
          ]
        },
        {
          "output_type": "stream",
          "name": "stderr",
          "text": [
            "\r  9%|▉         | 9/100 [02:42<27:16, 17.98s/it]"
          ]
        },
        {
          "output_type": "stream",
          "name": "stdout",
          "text": [
            "Training...\n",
            "Validating...\n"
          ]
        },
        {
          "output_type": "stream",
          "name": "stderr",
          "text": [
            "\r 10%|█         | 10/100 [02:59<26:46, 17.85s/it]"
          ]
        },
        {
          "output_type": "stream",
          "name": "stdout",
          "text": [
            "Training...\n",
            "Validating...\n"
          ]
        },
        {
          "output_type": "stream",
          "name": "stderr",
          "text": [
            "\r 11%|█         | 11/100 [03:17<26:31, 17.88s/it]"
          ]
        },
        {
          "output_type": "stream",
          "name": "stdout",
          "text": [
            "Training...\n",
            "Validating...\n"
          ]
        },
        {
          "output_type": "stream",
          "name": "stderr",
          "text": [
            "\r 12%|█▏        | 12/100 [03:35<26:19, 17.94s/it]"
          ]
        },
        {
          "output_type": "stream",
          "name": "stdout",
          "text": [
            "Training...\n",
            "Validating...\n"
          ]
        },
        {
          "output_type": "stream",
          "name": "stderr",
          "text": [
            "\r 13%|█▎        | 13/100 [03:53<25:53, 17.86s/it]"
          ]
        },
        {
          "output_type": "stream",
          "name": "stdout",
          "text": [
            "Training...\n",
            "Validating...\n"
          ]
        },
        {
          "output_type": "stream",
          "name": "stderr",
          "text": [
            "\r 14%|█▍        | 14/100 [04:11<25:29, 17.78s/it]"
          ]
        },
        {
          "output_type": "stream",
          "name": "stdout",
          "text": [
            "Training...\n",
            "Validating...\n"
          ]
        },
        {
          "output_type": "stream",
          "name": "stderr",
          "text": [
            "\r 15%|█▌        | 15/100 [04:29<25:33, 18.04s/it]"
          ]
        },
        {
          "output_type": "stream",
          "name": "stdout",
          "text": [
            "Training...\n",
            "Validating...\n"
          ]
        },
        {
          "output_type": "stream",
          "name": "stderr",
          "text": [
            "\r 16%|█▌        | 16/100 [04:47<25:04, 17.91s/it]"
          ]
        },
        {
          "output_type": "stream",
          "name": "stdout",
          "text": [
            "Training...\n",
            "Validating...\n"
          ]
        },
        {
          "output_type": "stream",
          "name": "stderr",
          "text": [
            "\r 17%|█▋        | 17/100 [05:04<24:39, 17.83s/it]"
          ]
        },
        {
          "output_type": "stream",
          "name": "stdout",
          "text": [
            "Training...\n",
            "Validating...\n"
          ]
        },
        {
          "output_type": "stream",
          "name": "stderr",
          "text": [
            "\r 18%|█▊        | 18/100 [05:22<24:23, 17.85s/it]"
          ]
        },
        {
          "output_type": "stream",
          "name": "stdout",
          "text": [
            "Training...\n",
            "Validating...\n"
          ]
        },
        {
          "output_type": "stream",
          "name": "stderr",
          "text": [
            "\r 19%|█▉        | 19/100 [05:41<24:19, 18.02s/it]"
          ]
        },
        {
          "output_type": "stream",
          "name": "stdout",
          "text": [
            "Training...\n",
            "Validating...\n"
          ]
        },
        {
          "output_type": "stream",
          "name": "stderr",
          "text": [
            "\r 20%|██        | 20/100 [05:58<23:53, 17.91s/it]"
          ]
        },
        {
          "output_type": "stream",
          "name": "stdout",
          "text": [
            "Training...\n",
            "Validating...\n"
          ]
        },
        {
          "output_type": "stream",
          "name": "stderr",
          "text": [
            "\r 21%|██        | 21/100 [06:16<23:27, 17.81s/it]"
          ]
        },
        {
          "output_type": "stream",
          "name": "stdout",
          "text": [
            "Training...\n",
            "Validating...\n"
          ]
        },
        {
          "output_type": "stream",
          "name": "stderr",
          "text": [
            "\r 22%|██▏       | 22/100 [06:35<23:27, 18.04s/it]"
          ]
        },
        {
          "output_type": "stream",
          "name": "stdout",
          "text": [
            "Training...\n",
            "Validating...\n"
          ]
        },
        {
          "output_type": "stream",
          "name": "stderr",
          "text": [
            "\r 23%|██▎       | 23/100 [06:52<23:03, 17.97s/it]"
          ]
        },
        {
          "output_type": "stream",
          "name": "stdout",
          "text": [
            "Training...\n",
            "Validating...\n"
          ]
        },
        {
          "output_type": "stream",
          "name": "stderr",
          "text": [
            "\r 24%|██▍       | 24/100 [07:10<22:37, 17.86s/it]"
          ]
        },
        {
          "output_type": "stream",
          "name": "stdout",
          "text": [
            "Training...\n",
            "Validating...\n"
          ]
        },
        {
          "output_type": "stream",
          "name": "stderr",
          "text": [
            "\r 25%|██▌       | 25/100 [07:28<22:25, 17.94s/it]"
          ]
        },
        {
          "output_type": "stream",
          "name": "stdout",
          "text": [
            "Training...\n",
            "Validating...\n"
          ]
        },
        {
          "output_type": "stream",
          "name": "stderr",
          "text": [
            "\r 26%|██▌       | 26/100 [07:47<22:19, 18.11s/it]"
          ]
        },
        {
          "output_type": "stream",
          "name": "stdout",
          "text": [
            "Training...\n",
            "Validating...\n"
          ]
        },
        {
          "output_type": "stream",
          "name": "stderr",
          "text": [
            "\r 27%|██▋       | 27/100 [08:05<21:56, 18.04s/it]"
          ]
        },
        {
          "output_type": "stream",
          "name": "stdout",
          "text": [
            "Training...\n",
            "Validating...\n"
          ]
        },
        {
          "output_type": "stream",
          "name": "stderr",
          "text": [
            "\r 28%|██▊       | 28/100 [08:22<21:31, 17.94s/it]"
          ]
        },
        {
          "output_type": "stream",
          "name": "stdout",
          "text": [
            "Training...\n",
            "Validating...\n"
          ]
        },
        {
          "output_type": "stream",
          "name": "stderr",
          "text": [
            "\r 29%|██▉       | 29/100 [08:41<21:26, 18.12s/it]"
          ]
        },
        {
          "output_type": "stream",
          "name": "stdout",
          "text": [
            "Training...\n",
            "Validating...\n"
          ]
        },
        {
          "output_type": "stream",
          "name": "stderr",
          "text": [
            "\r 30%|███       | 30/100 [08:59<21:02, 18.03s/it]"
          ]
        },
        {
          "output_type": "stream",
          "name": "stdout",
          "text": [
            "Training...\n",
            "Validating...\n"
          ]
        },
        {
          "output_type": "stream",
          "name": "stderr",
          "text": [
            "\r 31%|███       | 31/100 [09:16<20:35, 17.91s/it]"
          ]
        },
        {
          "output_type": "stream",
          "name": "stdout",
          "text": [
            "Training...\n",
            "Validating...\n"
          ]
        },
        {
          "output_type": "stream",
          "name": "stderr",
          "text": [
            "\r 32%|███▏      | 32/100 [09:34<20:15, 17.87s/it]"
          ]
        },
        {
          "output_type": "stream",
          "name": "stdout",
          "text": [
            "Training...\n",
            "Validating...\n"
          ]
        },
        {
          "output_type": "stream",
          "name": "stderr",
          "text": [
            "\r 33%|███▎      | 33/100 [09:52<20:07, 18.03s/it]"
          ]
        },
        {
          "output_type": "stream",
          "name": "stdout",
          "text": [
            "Training...\n",
            "Validating...\n"
          ]
        },
        {
          "output_type": "stream",
          "name": "stderr",
          "text": [
            "\r 34%|███▍      | 34/100 [10:10<19:41, 17.90s/it]"
          ]
        },
        {
          "output_type": "stream",
          "name": "stdout",
          "text": [
            "Training...\n",
            "Validating...\n"
          ]
        },
        {
          "output_type": "stream",
          "name": "stderr",
          "text": [
            "\r 35%|███▌      | 35/100 [10:28<19:18, 17.83s/it]"
          ]
        },
        {
          "output_type": "stream",
          "name": "stdout",
          "text": [
            "Training...\n",
            "Validating...\n"
          ]
        },
        {
          "output_type": "stream",
          "name": "stderr",
          "text": [
            "\r 36%|███▌      | 36/100 [10:46<19:08, 17.95s/it]"
          ]
        },
        {
          "output_type": "stream",
          "name": "stdout",
          "text": [
            "Training...\n",
            "Validating...\n"
          ]
        },
        {
          "output_type": "stream",
          "name": "stderr",
          "text": [
            "\r 37%|███▋      | 37/100 [11:04<18:50, 17.94s/it]"
          ]
        },
        {
          "output_type": "stream",
          "name": "stdout",
          "text": [
            "Training...\n",
            "Validating...\n"
          ]
        },
        {
          "output_type": "stream",
          "name": "stderr",
          "text": [
            "\r 38%|███▊      | 38/100 [11:21<18:25, 17.82s/it]"
          ]
        },
        {
          "output_type": "stream",
          "name": "stdout",
          "text": [
            "Training...\n",
            "Validating...\n"
          ]
        },
        {
          "output_type": "stream",
          "name": "stderr",
          "text": [
            "\r 39%|███▉      | 39/100 [11:39<18:02, 17.75s/it]"
          ]
        },
        {
          "output_type": "stream",
          "name": "stdout",
          "text": [
            "Training...\n",
            "Validating...\n"
          ]
        },
        {
          "output_type": "stream",
          "name": "stderr",
          "text": [
            "\r 40%|████      | 40/100 [11:57<17:58, 17.98s/it]"
          ]
        },
        {
          "output_type": "stream",
          "name": "stdout",
          "text": [
            "Training...\n",
            "Validating...\n"
          ]
        },
        {
          "output_type": "stream",
          "name": "stderr",
          "text": [
            "\r 41%|████      | 41/100 [12:15<17:34, 17.86s/it]"
          ]
        },
        {
          "output_type": "stream",
          "name": "stdout",
          "text": [
            "Training...\n",
            "Validating...\n"
          ]
        },
        {
          "output_type": "stream",
          "name": "stderr",
          "text": [
            "\r 42%|████▏     | 42/100 [12:33<17:14, 17.84s/it]"
          ]
        },
        {
          "output_type": "stream",
          "name": "stdout",
          "text": [
            "Training...\n",
            "Validating...\n"
          ]
        },
        {
          "output_type": "stream",
          "name": "stderr",
          "text": [
            "\r 43%|████▎     | 43/100 [12:51<16:57, 17.85s/it]"
          ]
        },
        {
          "output_type": "stream",
          "name": "stdout",
          "text": [
            "Training...\n",
            "Validating...\n"
          ]
        },
        {
          "output_type": "stream",
          "name": "stderr",
          "text": [
            "\r 44%|████▍     | 44/100 [13:09<16:42, 17.91s/it]"
          ]
        },
        {
          "output_type": "stream",
          "name": "stdout",
          "text": [
            "Training...\n",
            "Validating...\n"
          ]
        },
        {
          "output_type": "stream",
          "name": "stderr",
          "text": [
            "\r 45%|████▌     | 45/100 [13:26<16:18, 17.79s/it]"
          ]
        },
        {
          "output_type": "stream",
          "name": "stdout",
          "text": [
            "Training...\n",
            "Validating...\n"
          ]
        },
        {
          "output_type": "stream",
          "name": "stderr",
          "text": [
            "\r 46%|████▌     | 46/100 [13:44<15:58, 17.75s/it]"
          ]
        },
        {
          "output_type": "stream",
          "name": "stdout",
          "text": [
            "Training...\n",
            "Validating...\n"
          ]
        },
        {
          "output_type": "stream",
          "name": "stderr",
          "text": [
            "\r 47%|████▋     | 47/100 [14:02<15:52, 17.98s/it]"
          ]
        },
        {
          "output_type": "stream",
          "name": "stdout",
          "text": [
            "Training...\n",
            "Validating...\n"
          ]
        },
        {
          "output_type": "stream",
          "name": "stderr",
          "text": [
            "\r 48%|████▊     | 48/100 [14:20<15:31, 17.91s/it]"
          ]
        },
        {
          "output_type": "stream",
          "name": "stdout",
          "text": [
            "Training...\n",
            "Validating...\n"
          ]
        },
        {
          "output_type": "stream",
          "name": "stderr",
          "text": [
            "\r 49%|████▉     | 49/100 [14:38<15:08, 17.81s/it]"
          ]
        },
        {
          "output_type": "stream",
          "name": "stdout",
          "text": [
            "Training...\n",
            "Validating...\n"
          ]
        },
        {
          "output_type": "stream",
          "name": "stderr",
          "text": [
            "\r 50%|█████     | 50/100 [14:55<14:47, 17.74s/it]"
          ]
        },
        {
          "output_type": "stream",
          "name": "stdout",
          "text": [
            "Training...\n",
            "Validating...\n"
          ]
        },
        {
          "output_type": "stream",
          "name": "stderr",
          "text": [
            "\r 51%|█████     | 51/100 [15:14<14:41, 17.99s/it]"
          ]
        },
        {
          "output_type": "stream",
          "name": "stdout",
          "text": [
            "Training...\n",
            "Validating...\n"
          ]
        },
        {
          "output_type": "stream",
          "name": "stderr",
          "text": [
            "\r 52%|█████▏    | 52/100 [15:31<14:17, 17.87s/it]"
          ]
        },
        {
          "output_type": "stream",
          "name": "stdout",
          "text": [
            "Training...\n",
            "Validating...\n"
          ]
        },
        {
          "output_type": "stream",
          "name": "stderr",
          "text": [
            "\r 53%|█████▎    | 53/100 [15:49<13:53, 17.74s/it]"
          ]
        },
        {
          "output_type": "stream",
          "name": "stdout",
          "text": [
            "Training...\n",
            "Validating...\n"
          ]
        },
        {
          "output_type": "stream",
          "name": "stderr",
          "text": [
            "\r 54%|█████▍    | 54/100 [16:07<13:42, 17.87s/it]"
          ]
        },
        {
          "output_type": "stream",
          "name": "stdout",
          "text": [
            "Training...\n",
            "Validating...\n"
          ]
        },
        {
          "output_type": "stream",
          "name": "stderr",
          "text": [
            "\r 55%|█████▌    | 55/100 [16:25<13:25, 17.90s/it]"
          ]
        },
        {
          "output_type": "stream",
          "name": "stdout",
          "text": [
            "Training...\n",
            "Validating...\n"
          ]
        },
        {
          "output_type": "stream",
          "name": "stderr",
          "text": [
            "\r 56%|█████▌    | 56/100 [16:43<13:03, 17.80s/it]"
          ]
        },
        {
          "output_type": "stream",
          "name": "stdout",
          "text": [
            "Training...\n",
            "Validating...\n"
          ]
        },
        {
          "output_type": "stream",
          "name": "stderr",
          "text": [
            "\r 57%|█████▋    | 57/100 [17:00<12:42, 17.73s/it]"
          ]
        },
        {
          "output_type": "stream",
          "name": "stdout",
          "text": [
            "Training...\n",
            "Validating...\n"
          ]
        },
        {
          "output_type": "stream",
          "name": "stderr",
          "text": [
            "\r 58%|█████▊    | 58/100 [17:19<12:35, 17.98s/it]"
          ]
        },
        {
          "output_type": "stream",
          "name": "stdout",
          "text": [
            "Training...\n",
            "Validating...\n"
          ]
        },
        {
          "output_type": "stream",
          "name": "stderr",
          "text": [
            "\r 59%|█████▉    | 59/100 [17:36<12:13, 17.88s/it]"
          ]
        },
        {
          "output_type": "stream",
          "name": "stdout",
          "text": [
            "Training...\n",
            "Validating...\n"
          ]
        },
        {
          "output_type": "stream",
          "name": "stderr",
          "text": [
            "\r 60%|██████    | 60/100 [17:54<11:52, 17.82s/it]"
          ]
        },
        {
          "output_type": "stream",
          "name": "stdout",
          "text": [
            "Training...\n",
            "Validating...\n"
          ]
        },
        {
          "output_type": "stream",
          "name": "stderr",
          "text": [
            "\r 61%|██████    | 61/100 [18:12<11:37, 17.89s/it]"
          ]
        },
        {
          "output_type": "stream",
          "name": "stdout",
          "text": [
            "Training...\n",
            "Validating...\n"
          ]
        },
        {
          "output_type": "stream",
          "name": "stderr",
          "text": [
            "\r 62%|██████▏   | 62/100 [18:30<11:21, 17.95s/it]"
          ]
        },
        {
          "output_type": "stream",
          "name": "stdout",
          "text": [
            "Training...\n",
            "Validating...\n"
          ]
        },
        {
          "output_type": "stream",
          "name": "stderr",
          "text": [
            "\r 63%|██████▎   | 63/100 [18:48<11:00, 17.85s/it]"
          ]
        },
        {
          "output_type": "stream",
          "name": "stdout",
          "text": [
            "Training...\n",
            "Validating...\n"
          ]
        },
        {
          "output_type": "stream",
          "name": "stderr",
          "text": [
            "\r 64%|██████▍   | 64/100 [19:06<10:41, 17.83s/it]"
          ]
        },
        {
          "output_type": "stream",
          "name": "stdout",
          "text": [
            "Training...\n",
            "Validating...\n"
          ]
        },
        {
          "output_type": "stream",
          "name": "stderr",
          "text": [
            "\r 65%|██████▌   | 65/100 [19:24<10:31, 18.05s/it]"
          ]
        },
        {
          "output_type": "stream",
          "name": "stdout",
          "text": [
            "Training...\n",
            "Validating...\n"
          ]
        },
        {
          "output_type": "stream",
          "name": "stderr",
          "text": [
            "\r 66%|██████▌   | 66/100 [19:42<10:09, 17.94s/it]"
          ]
        },
        {
          "output_type": "stream",
          "name": "stdout",
          "text": [
            "Training...\n",
            "Validating...\n"
          ]
        },
        {
          "output_type": "stream",
          "name": "stderr",
          "text": [
            "\r 67%|██████▋   | 67/100 [19:59<09:48, 17.82s/it]"
          ]
        },
        {
          "output_type": "stream",
          "name": "stdout",
          "text": [
            "Training...\n",
            "Validating...\n"
          ]
        },
        {
          "output_type": "stream",
          "name": "stderr",
          "text": [
            "\r 68%|██████▊   | 68/100 [20:17<09:30, 17.84s/it]"
          ]
        },
        {
          "output_type": "stream",
          "name": "stdout",
          "text": [
            "Training...\n",
            "Validating...\n"
          ]
        },
        {
          "output_type": "stream",
          "name": "stderr",
          "text": [
            "\r 69%|██████▉   | 69/100 [20:36<09:16, 17.96s/it]"
          ]
        },
        {
          "output_type": "stream",
          "name": "stdout",
          "text": [
            "Training...\n",
            "Validating...\n"
          ]
        },
        {
          "output_type": "stream",
          "name": "stderr",
          "text": [
            "\r 70%|███████   | 70/100 [20:53<08:55, 17.85s/it]"
          ]
        },
        {
          "output_type": "stream",
          "name": "stdout",
          "text": [
            "Training...\n",
            "Validating...\n"
          ]
        },
        {
          "output_type": "stream",
          "name": "stderr",
          "text": [
            "\r 71%|███████   | 71/100 [21:11<08:36, 17.80s/it]"
          ]
        },
        {
          "output_type": "stream",
          "name": "stdout",
          "text": [
            "Training...\n",
            "Validating...\n"
          ]
        },
        {
          "output_type": "stream",
          "name": "stderr",
          "text": [
            "\r 72%|███████▏  | 72/100 [21:29<08:23, 17.97s/it]"
          ]
        },
        {
          "output_type": "stream",
          "name": "stdout",
          "text": [
            "Training...\n",
            "Validating...\n"
          ]
        },
        {
          "output_type": "stream",
          "name": "stderr",
          "text": [
            "\r 73%|███████▎  | 73/100 [21:47<08:05, 17.97s/it]"
          ]
        },
        {
          "output_type": "stream",
          "name": "stdout",
          "text": [
            "Training...\n",
            "Validating...\n"
          ]
        },
        {
          "output_type": "stream",
          "name": "stderr",
          "text": [
            "\r 74%|███████▍  | 74/100 [22:05<07:45, 17.89s/it]"
          ]
        },
        {
          "output_type": "stream",
          "name": "stdout",
          "text": [
            "Training...\n",
            "Validating...\n"
          ]
        },
        {
          "output_type": "stream",
          "name": "stderr",
          "text": [
            "\r 75%|███████▌  | 75/100 [22:23<07:25, 17.84s/it]"
          ]
        },
        {
          "output_type": "stream",
          "name": "stdout",
          "text": [
            "Training...\n",
            "Validating...\n"
          ]
        },
        {
          "output_type": "stream",
          "name": "stderr",
          "text": [
            "\r 76%|███████▌  | 76/100 [22:41<07:14, 18.09s/it]"
          ]
        },
        {
          "output_type": "stream",
          "name": "stdout",
          "text": [
            "Training...\n",
            "Validating...\n"
          ]
        },
        {
          "output_type": "stream",
          "name": "stderr",
          "text": [
            "\r 77%|███████▋  | 77/100 [22:59<06:52, 17.94s/it]"
          ]
        },
        {
          "output_type": "stream",
          "name": "stdout",
          "text": [
            "Training...\n",
            "Validating...\n"
          ]
        },
        {
          "output_type": "stream",
          "name": "stderr",
          "text": [
            "\r 78%|███████▊  | 78/100 [23:16<06:32, 17.84s/it]"
          ]
        },
        {
          "output_type": "stream",
          "name": "stdout",
          "text": [
            "Training...\n",
            "Validating...\n"
          ]
        },
        {
          "output_type": "stream",
          "name": "stderr",
          "text": [
            "\r 79%|███████▉  | 79/100 [23:34<06:15, 17.86s/it]"
          ]
        },
        {
          "output_type": "stream",
          "name": "stdout",
          "text": [
            "Training...\n",
            "Validating...\n"
          ]
        },
        {
          "output_type": "stream",
          "name": "stderr",
          "text": [
            "\r 80%|████████  | 80/100 [23:53<05:58, 17.94s/it]"
          ]
        },
        {
          "output_type": "stream",
          "name": "stdout",
          "text": [
            "Training...\n",
            "Validating...\n"
          ]
        },
        {
          "output_type": "stream",
          "name": "stderr",
          "text": [
            "\r 81%|████████  | 81/100 [24:10<05:38, 17.81s/it]"
          ]
        },
        {
          "output_type": "stream",
          "name": "stdout",
          "text": [
            "Training...\n",
            "Validating...\n"
          ]
        },
        {
          "output_type": "stream",
          "name": "stderr",
          "text": [
            "\r 82%|████████▏ | 82/100 [24:28<05:19, 17.76s/it]"
          ]
        },
        {
          "output_type": "stream",
          "name": "stdout",
          "text": [
            "Training...\n",
            "Validating...\n"
          ]
        },
        {
          "output_type": "stream",
          "name": "stderr",
          "text": [
            "\r 83%|████████▎ | 83/100 [24:46<05:04, 17.91s/it]"
          ]
        },
        {
          "output_type": "stream",
          "name": "stdout",
          "text": [
            "Training...\n",
            "Validating...\n"
          ]
        },
        {
          "output_type": "stream",
          "name": "stderr",
          "text": [
            "\r 84%|████████▍ | 84/100 [25:04<04:46, 17.88s/it]"
          ]
        },
        {
          "output_type": "stream",
          "name": "stdout",
          "text": [
            "Training...\n",
            "Validating...\n"
          ]
        },
        {
          "output_type": "stream",
          "name": "stderr",
          "text": [
            "\r 85%|████████▌ | 85/100 [25:21<04:27, 17.83s/it]"
          ]
        },
        {
          "output_type": "stream",
          "name": "stdout",
          "text": [
            "Training...\n",
            "Validating...\n"
          ]
        },
        {
          "output_type": "stream",
          "name": "stderr",
          "text": [
            "\r 86%|████████▌ | 86/100 [25:39<04:09, 17.80s/it]"
          ]
        },
        {
          "output_type": "stream",
          "name": "stdout",
          "text": [
            "Training...\n",
            "Validating...\n"
          ]
        },
        {
          "output_type": "stream",
          "name": "stderr",
          "text": [
            "\r 87%|████████▋ | 87/100 [25:58<03:55, 18.08s/it]"
          ]
        },
        {
          "output_type": "stream",
          "name": "stdout",
          "text": [
            "Training...\n",
            "Validating...\n"
          ]
        },
        {
          "output_type": "stream",
          "name": "stderr",
          "text": [
            "\r 88%|████████▊ | 88/100 [26:16<03:35, 17.96s/it]"
          ]
        },
        {
          "output_type": "stream",
          "name": "stdout",
          "text": [
            "Training...\n",
            "Validating...\n"
          ]
        },
        {
          "output_type": "stream",
          "name": "stderr",
          "text": [
            "\r 89%|████████▉ | 89/100 [26:33<03:16, 17.89s/it]"
          ]
        },
        {
          "output_type": "stream",
          "name": "stdout",
          "text": [
            "Training...\n",
            "Validating...\n"
          ]
        },
        {
          "output_type": "stream",
          "name": "stderr",
          "text": [
            "\r 90%|█████████ | 90/100 [26:52<03:00, 18.04s/it]"
          ]
        },
        {
          "output_type": "stream",
          "name": "stdout",
          "text": [
            "Training...\n",
            "Validating...\n"
          ]
        },
        {
          "output_type": "stream",
          "name": "stderr",
          "text": [
            "\r 91%|█████████ | 91/100 [27:10<02:42, 18.04s/it]"
          ]
        },
        {
          "output_type": "stream",
          "name": "stdout",
          "text": [
            "Training...\n",
            "Validating...\n"
          ]
        },
        {
          "output_type": "stream",
          "name": "stderr",
          "text": [
            "\r 92%|█████████▏| 92/100 [27:27<02:23, 17.89s/it]"
          ]
        },
        {
          "output_type": "stream",
          "name": "stdout",
          "text": [
            "Training...\n",
            "Validating...\n"
          ]
        },
        {
          "output_type": "stream",
          "name": "stderr",
          "text": [
            "\r 93%|█████████▎| 93/100 [27:45<02:04, 17.80s/it]"
          ]
        },
        {
          "output_type": "stream",
          "name": "stdout",
          "text": [
            "Training...\n",
            "Validating...\n"
          ]
        },
        {
          "output_type": "stream",
          "name": "stderr",
          "text": [
            "\r 94%|█████████▍| 94/100 [28:03<01:48, 18.02s/it]"
          ]
        },
        {
          "output_type": "stream",
          "name": "stdout",
          "text": [
            "Training...\n",
            "Validating...\n"
          ]
        },
        {
          "output_type": "stream",
          "name": "stderr",
          "text": [
            "\r 95%|█████████▌| 95/100 [28:21<01:29, 17.92s/it]"
          ]
        },
        {
          "output_type": "stream",
          "name": "stdout",
          "text": [
            "Training...\n",
            "Validating...\n"
          ]
        },
        {
          "output_type": "stream",
          "name": "stderr",
          "text": [
            "\r 96%|█████████▌| 96/100 [28:39<01:11, 17.84s/it]"
          ]
        },
        {
          "output_type": "stream",
          "name": "stdout",
          "text": [
            "Training...\n",
            "Validating...\n"
          ]
        },
        {
          "output_type": "stream",
          "name": "stderr",
          "text": [
            "\r 97%|█████████▋| 97/100 [28:56<00:53, 17.80s/it]"
          ]
        },
        {
          "output_type": "stream",
          "name": "stdout",
          "text": [
            "Training...\n",
            "Validating...\n"
          ]
        },
        {
          "output_type": "stream",
          "name": "stderr",
          "text": [
            "\r 98%|█████████▊| 98/100 [29:15<00:35, 18.00s/it]"
          ]
        },
        {
          "output_type": "stream",
          "name": "stdout",
          "text": [
            "Training...\n",
            "Validating...\n"
          ]
        },
        {
          "output_type": "stream",
          "name": "stderr",
          "text": [
            "\r 99%|█████████▉| 99/100 [29:32<00:17, 17.87s/it]"
          ]
        },
        {
          "output_type": "stream",
          "name": "stdout",
          "text": [
            "Training...\n",
            "Validating...\n"
          ]
        },
        {
          "output_type": "stream",
          "name": "stderr",
          "text": [
            "100%|██████████| 100/100 [29:50<00:00, 17.91s/it]\n"
          ]
        },
        {
          "output_type": "stream",
          "name": "stdout",
          "text": [
            "[INFO] Total time taken to train and validate the model: 1790.57s\n",
            "Testing...\n",
            "\n",
            "\n",
            "\n",
            "\n",
            "\n",
            "\n",
            "\n",
            "\n",
            "\n",
            "\n",
            "\n",
            "\n",
            "\n",
            "\n",
            "\n",
            "\n",
            "\n",
            "\n",
            "\n",
            "\n",
            "avg_accuracy = 0.8890331983566284, avg_precision = 0.2279234230518341, avg_recall = 0.16864559054374695, avg_f1_score = 0.19026802480220795, avg_dice_score = 0.19026802480220795, avg_iou = 0.10647418349981308\n",
            "TP = [5084, 12893, 5876, 8496, 4297, 5728, 7222, 4030, 7683, 2559]\n",
            "TN = [468266, 456852, 466306, 469707, 450899, 455583, 436500, 465438, 464936, 171928]\n",
            "FP = [21378, 20258, 18819, 25887, 23677, 23267, 21460, 24712, 25190, 8272]\n",
            "FN = [29560, 34285, 33287, 20198, 45415, 39710, 59106, 30108, 26479, 13849]\n"
          ]
        },
        {
          "output_type": "display_data",
          "data": {
            "text/plain": [
              "<IPython.core.display.HTML object>"
            ],
            "text/html": [
              "Finishing last run (ID:biq2x2qu) before initializing another..."
            ]
          },
          "metadata": {}
        },
        {
          "output_type": "display_data",
          "data": {
            "text/plain": [
              "VBox(children=(Label(value='14.404 MB of 14.404 MB uploaded\\r'), FloatProgress(value=1.0, max=1.0)))"
            ],
            "application/vnd.jupyter.widget-view+json": {
              "version_major": 2,
              "version_minor": 0,
              "model_id": "bc8ff4fe79dd44709b2b76696d48e8ca"
            }
          },
          "metadata": {}
        },
        {
          "output_type": "display_data",
          "data": {
            "text/plain": [
              "<IPython.core.display.HTML object>"
            ],
            "text/html": [
              "<style>\n",
              "    table.wandb td:nth-child(1) { padding: 0 10px; text-align: left ; width: auto;} td:nth-child(2) {text-align: left ; width: 100%}\n",
              "    .wandb-row { display: flex; flex-direction: row; flex-wrap: wrap; justify-content: flex-start; width: 100% }\n",
              "    .wandb-col { display: flex; flex-direction: column; flex-basis: 100%; flex: 1; padding: 10px; }\n",
              "    </style>\n",
              "<div class=\"wandb-row\"><div class=\"wandb-col\"><h3>Run history:</h3><br/><table class=\"wandb\"><tr><td>Accuracy</td><td>▁</td></tr><tr><td>DICE</td><td>▁</td></tr><tr><td>Epoch</td><td>▁▁▁▁▂▂▂▂▂▃▃▃▃▃▃▄▄▄▄▄▅▅▅▅▅▅▆▆▆▆▆▇▇▇▇▇▇███</td></tr><tr><td>F1-Score</td><td>▁</td></tr><tr><td>IOU</td><td>▁</td></tr><tr><td>Precision</td><td>▁</td></tr><tr><td>Recall</td><td>▁</td></tr><tr><td>Train Loss</td><td>█▇▇▆▆▆▅▅▄▄▄▃▃▃▂▂▂▂▂▂▂▁▁▂▃▂▁▁▁▁▁▁▁▁▁▁▁▁▁▁</td></tr><tr><td>Valid Loss</td><td>▇▅▃▃▂▂▂▁▂▂▃▃▃▃▃▃▄▃▄▅▄▅▅▄▄▄▅▅▅▅▆▆▆▆▇▇▇██▇</td></tr></table><br/></div><div class=\"wandb-col\"><h3>Run summary:</h3><br/><table class=\"wandb\"><tr><td>Accuracy</td><td>0.88903</td></tr><tr><td>DICE</td><td>0.19027</td></tr><tr><td>Epoch</td><td>99</td></tr><tr><td>F1-Score</td><td>0.19027</td></tr><tr><td>IOU</td><td>0.10647</td></tr><tr><td>Precision</td><td>0.22792</td></tr><tr><td>Recall</td><td>0.16865</td></tr><tr><td>Train Loss</td><td>0.08709</td></tr><tr><td>Valid Loss</td><td>1.40332</td></tr></table><br/></div></div>"
            ]
          },
          "metadata": {}
        },
        {
          "output_type": "display_data",
          "data": {
            "text/plain": [
              "<IPython.core.display.HTML object>"
            ],
            "text/html": [
              " View run <strong style=\"color:#cdcd00\">init_metrics_run_tts0.2_ep100</strong> at: <a href='https://wandb.ai/bianca-team/GCANet_IMD2020_altered_imgs/runs/biq2x2qu' target=\"_blank\">https://wandb.ai/bianca-team/GCANet_IMD2020_altered_imgs/runs/biq2x2qu</a><br/> View project at: <a href='https://wandb.ai/bianca-team/GCANet_IMD2020_altered_imgs' target=\"_blank\">https://wandb.ai/bianca-team/GCANet_IMD2020_altered_imgs</a><br/>Synced 5 W&B file(s), 300 media file(s), 0 artifact file(s) and 0 other file(s)"
            ]
          },
          "metadata": {}
        },
        {
          "output_type": "display_data",
          "data": {
            "text/plain": [
              "<IPython.core.display.HTML object>"
            ],
            "text/html": [
              "Find logs at: <code>./wandb/run-20240526_183905-biq2x2qu/logs</code>"
            ]
          },
          "metadata": {}
        },
        {
          "output_type": "display_data",
          "data": {
            "text/plain": [
              "<IPython.core.display.HTML object>"
            ],
            "text/html": [
              "Successfully finished last run (ID:biq2x2qu). Initializing new run:<br/>"
            ]
          },
          "metadata": {}
        },
        {
          "output_type": "display_data",
          "data": {
            "text/plain": [
              "<IPython.core.display.HTML object>"
            ],
            "text/html": [
              "Tracking run with wandb version 0.17.0"
            ]
          },
          "metadata": {}
        },
        {
          "output_type": "display_data",
          "data": {
            "text/plain": [
              "<IPython.core.display.HTML object>"
            ],
            "text/html": [
              "Run data is saved locally in <code>/content/wandb/run-20240526_190930-7tefwqti</code>"
            ]
          },
          "metadata": {}
        },
        {
          "output_type": "display_data",
          "data": {
            "text/plain": [
              "<IPython.core.display.HTML object>"
            ],
            "text/html": [
              "Syncing run <strong><a href='https://wandb.ai/bianca-team/GCANet_IMD2020_altered_imgs/runs/7tefwqti' target=\"_blank\">init_metrics_run_tts0.2_ep150</a></strong> to <a href='https://wandb.ai/bianca-team/GCANet_IMD2020_altered_imgs' target=\"_blank\">Weights & Biases</a> (<a href='https://wandb.me/run' target=\"_blank\">docs</a>)<br/>"
            ]
          },
          "metadata": {}
        },
        {
          "output_type": "display_data",
          "data": {
            "text/plain": [
              "<IPython.core.display.HTML object>"
            ],
            "text/html": [
              " View project at <a href='https://wandb.ai/bianca-team/GCANet_IMD2020_altered_imgs' target=\"_blank\">https://wandb.ai/bianca-team/GCANet_IMD2020_altered_imgs</a>"
            ]
          },
          "metadata": {}
        },
        {
          "output_type": "display_data",
          "data": {
            "text/plain": [
              "<IPython.core.display.HTML object>"
            ],
            "text/html": [
              " View run at <a href='https://wandb.ai/bianca-team/GCANet_IMD2020_altered_imgs/runs/7tefwqti' target=\"_blank\">https://wandb.ai/bianca-team/GCANet_IMD2020_altered_imgs/runs/7tefwqti</a>"
            ]
          },
          "metadata": {}
        },
        {
          "output_type": "stream",
          "name": "stdout",
          "text": [
            "[INFO] Training the network for 150 epochs...\n"
          ]
        },
        {
          "output_type": "stream",
          "name": "stderr",
          "text": [
            "\r  0%|          | 0/150 [00:00<?, ?it/s]"
          ]
        },
        {
          "output_type": "stream",
          "name": "stdout",
          "text": [
            "Training...\n",
            "Validating...\n"
          ]
        },
        {
          "output_type": "stream",
          "name": "stderr",
          "text": [
            "\r  1%|          | 1/150 [00:18<46:05, 18.56s/it]"
          ]
        },
        {
          "output_type": "stream",
          "name": "stdout",
          "text": [
            "Training...\n",
            "Validating...\n"
          ]
        },
        {
          "output_type": "stream",
          "name": "stderr",
          "text": [
            "\r  1%|▏         | 2/150 [00:36<45:02, 18.26s/it]"
          ]
        },
        {
          "output_type": "stream",
          "name": "stdout",
          "text": [
            "Training...\n",
            "Validating...\n"
          ]
        },
        {
          "output_type": "stream",
          "name": "stderr",
          "text": [
            "\r  2%|▏         | 3/150 [00:54<44:09, 18.02s/it]"
          ]
        },
        {
          "output_type": "stream",
          "name": "stdout",
          "text": [
            "Training...\n",
            "Validating...\n"
          ]
        },
        {
          "output_type": "stream",
          "name": "stderr",
          "text": [
            "\r  3%|▎         | 4/150 [01:12<43:51, 18.02s/it]"
          ]
        },
        {
          "output_type": "stream",
          "name": "stdout",
          "text": [
            "Training...\n",
            "Validating...\n"
          ]
        },
        {
          "output_type": "stream",
          "name": "stderr",
          "text": [
            "\r  3%|▎         | 5/150 [01:30<43:34, 18.03s/it]"
          ]
        },
        {
          "output_type": "stream",
          "name": "stdout",
          "text": [
            "Training...\n",
            "Validating...\n"
          ]
        },
        {
          "output_type": "stream",
          "name": "stderr",
          "text": [
            "\r  4%|▍         | 6/150 [01:48<42:54, 17.88s/it]"
          ]
        },
        {
          "output_type": "stream",
          "name": "stdout",
          "text": [
            "Training...\n",
            "Validating...\n"
          ]
        },
        {
          "output_type": "stream",
          "name": "stderr",
          "text": [
            "\r  5%|▍         | 7/150 [02:05<42:25, 17.80s/it]"
          ]
        },
        {
          "output_type": "stream",
          "name": "stdout",
          "text": [
            "Training...\n",
            "Validating...\n"
          ]
        },
        {
          "output_type": "stream",
          "name": "stderr",
          "text": [
            "\r  5%|▌         | 8/150 [02:23<42:32, 17.98s/it]"
          ]
        },
        {
          "output_type": "stream",
          "name": "stdout",
          "text": [
            "Training...\n",
            "Validating...\n"
          ]
        },
        {
          "output_type": "stream",
          "name": "stderr",
          "text": [
            "\r  6%|▌         | 9/150 [02:41<42:05, 17.91s/it]"
          ]
        },
        {
          "output_type": "stream",
          "name": "stdout",
          "text": [
            "Training...\n",
            "Validating...\n"
          ]
        },
        {
          "output_type": "stream",
          "name": "stderr",
          "text": [
            "\r  7%|▋         | 10/150 [02:59<41:37, 17.84s/it]"
          ]
        },
        {
          "output_type": "stream",
          "name": "stdout",
          "text": [
            "Training...\n",
            "Validating...\n"
          ]
        },
        {
          "output_type": "stream",
          "name": "stderr",
          "text": [
            "\r  7%|▋         | 11/150 [03:17<41:10, 17.77s/it]"
          ]
        },
        {
          "output_type": "stream",
          "name": "stdout",
          "text": [
            "Training...\n",
            "Validating...\n"
          ]
        },
        {
          "output_type": "stream",
          "name": "stderr",
          "text": [
            "\r  8%|▊         | 12/150 [03:35<41:22, 17.99s/it]"
          ]
        },
        {
          "output_type": "stream",
          "name": "stdout",
          "text": [
            "Training...\n",
            "Validating...\n"
          ]
        },
        {
          "output_type": "stream",
          "name": "stderr",
          "text": [
            "\r  9%|▊         | 13/150 [03:53<40:42, 17.83s/it]"
          ]
        },
        {
          "output_type": "stream",
          "name": "stdout",
          "text": [
            "Training...\n",
            "Validating...\n"
          ]
        },
        {
          "output_type": "stream",
          "name": "stderr",
          "text": [
            "\r  9%|▉         | 14/150 [04:10<40:15, 17.76s/it]"
          ]
        },
        {
          "output_type": "stream",
          "name": "stdout",
          "text": [
            "Training...\n",
            "Validating...\n"
          ]
        },
        {
          "output_type": "stream",
          "name": "stderr",
          "text": [
            "\r 10%|█         | 15/150 [04:29<40:24, 17.96s/it]"
          ]
        },
        {
          "output_type": "stream",
          "name": "stdout",
          "text": [
            "Training...\n",
            "Validating...\n"
          ]
        },
        {
          "output_type": "stream",
          "name": "stderr",
          "text": [
            "\r 11%|█         | 16/150 [04:46<40:03, 17.94s/it]"
          ]
        },
        {
          "output_type": "stream",
          "name": "stdout",
          "text": [
            "Training...\n",
            "Validating...\n"
          ]
        },
        {
          "output_type": "stream",
          "name": "stderr",
          "text": [
            "\r 11%|█▏        | 17/150 [05:04<39:32, 17.84s/it]"
          ]
        },
        {
          "output_type": "stream",
          "name": "stdout",
          "text": [
            "Training...\n",
            "Validating...\n"
          ]
        },
        {
          "output_type": "stream",
          "name": "stderr",
          "text": [
            "\r 12%|█▏        | 18/150 [05:22<39:07, 17.79s/it]"
          ]
        },
        {
          "output_type": "stream",
          "name": "stdout",
          "text": [
            "Training...\n",
            "Validating...\n"
          ]
        },
        {
          "output_type": "stream",
          "name": "stderr",
          "text": [
            "\r 13%|█▎        | 19/150 [05:40<39:25, 18.06s/it]"
          ]
        },
        {
          "output_type": "stream",
          "name": "stdout",
          "text": [
            "Training...\n",
            "Validating...\n"
          ]
        },
        {
          "output_type": "stream",
          "name": "stderr",
          "text": [
            "\r 13%|█▎        | 20/150 [05:58<38:49, 17.92s/it]"
          ]
        },
        {
          "output_type": "stream",
          "name": "stdout",
          "text": [
            "Training...\n",
            "Validating...\n"
          ]
        },
        {
          "output_type": "stream",
          "name": "stderr",
          "text": [
            "\r 14%|█▍        | 21/150 [06:16<38:19, 17.83s/it]"
          ]
        },
        {
          "output_type": "stream",
          "name": "stdout",
          "text": [
            "Training...\n",
            "Validating...\n"
          ]
        },
        {
          "output_type": "stream",
          "name": "stderr",
          "text": [
            "\r 15%|█▍        | 22/150 [06:33<38:02, 17.83s/it]"
          ]
        },
        {
          "output_type": "stream",
          "name": "stdout",
          "text": [
            "Training...\n",
            "Validating...\n"
          ]
        },
        {
          "output_type": "stream",
          "name": "stderr",
          "text": [
            "\r 15%|█▌        | 23/150 [06:52<37:54, 17.91s/it]"
          ]
        },
        {
          "output_type": "stream",
          "name": "stdout",
          "text": [
            "Training...\n",
            "Validating...\n"
          ]
        },
        {
          "output_type": "stream",
          "name": "stderr",
          "text": [
            "\r 16%|█▌        | 24/150 [07:09<37:26, 17.83s/it]"
          ]
        },
        {
          "output_type": "stream",
          "name": "stdout",
          "text": [
            "Training...\n",
            "Validating...\n"
          ]
        },
        {
          "output_type": "stream",
          "name": "stderr",
          "text": [
            "\r 17%|█▋        | 25/150 [07:27<37:00, 17.76s/it]"
          ]
        },
        {
          "output_type": "stream",
          "name": "stdout",
          "text": [
            "Training...\n",
            "Validating...\n"
          ]
        },
        {
          "output_type": "stream",
          "name": "stderr",
          "text": [
            "\r 17%|█▋        | 26/150 [07:45<37:03, 17.93s/it]"
          ]
        },
        {
          "output_type": "stream",
          "name": "stdout",
          "text": [
            "Training...\n",
            "Validating...\n"
          ]
        },
        {
          "output_type": "stream",
          "name": "stderr",
          "text": [
            "\r 18%|█▊        | 27/150 [08:03<36:48, 17.95s/it]"
          ]
        },
        {
          "output_type": "stream",
          "name": "stdout",
          "text": [
            "Training...\n",
            "Validating...\n"
          ]
        },
        {
          "output_type": "stream",
          "name": "stderr",
          "text": [
            "\r 19%|█▊        | 28/150 [08:21<36:16, 17.84s/it]"
          ]
        },
        {
          "output_type": "stream",
          "name": "stdout",
          "text": [
            "Training...\n",
            "Validating...\n"
          ]
        },
        {
          "output_type": "stream",
          "name": "stderr",
          "text": [
            "\r 19%|█▉        | 29/150 [08:38<35:55, 17.81s/it]"
          ]
        },
        {
          "output_type": "stream",
          "name": "stdout",
          "text": [
            "Training...\n",
            "Validating...\n"
          ]
        },
        {
          "output_type": "stream",
          "name": "stderr",
          "text": [
            "\r 20%|██        | 30/150 [08:57<36:05, 18.05s/it]"
          ]
        },
        {
          "output_type": "stream",
          "name": "stdout",
          "text": [
            "Training...\n",
            "Validating...\n"
          ]
        },
        {
          "output_type": "stream",
          "name": "stderr",
          "text": [
            "\r 21%|██        | 31/150 [09:15<35:38, 17.97s/it]"
          ]
        },
        {
          "output_type": "stream",
          "name": "stdout",
          "text": [
            "Training...\n",
            "Validating...\n"
          ]
        },
        {
          "output_type": "stream",
          "name": "stderr",
          "text": [
            "\r 21%|██▏       | 32/150 [09:33<35:10, 17.89s/it]"
          ]
        },
        {
          "output_type": "stream",
          "name": "stdout",
          "text": [
            "Training...\n",
            "Validating...\n"
          ]
        },
        {
          "output_type": "stream",
          "name": "stderr",
          "text": [
            "\r 22%|██▏       | 33/150 [09:50<34:48, 17.85s/it]"
          ]
        },
        {
          "output_type": "stream",
          "name": "stdout",
          "text": [
            "Training...\n",
            "Validating...\n"
          ]
        },
        {
          "output_type": "stream",
          "name": "stderr",
          "text": [
            "\r 23%|██▎       | 34/150 [10:09<34:46, 17.98s/it]"
          ]
        },
        {
          "output_type": "stream",
          "name": "stdout",
          "text": [
            "Training...\n",
            "Validating...\n"
          ]
        },
        {
          "output_type": "stream",
          "name": "stderr",
          "text": [
            "\r 23%|██▎       | 35/150 [10:26<34:16, 17.88s/it]"
          ]
        },
        {
          "output_type": "stream",
          "name": "stdout",
          "text": [
            "Training...\n",
            "Validating...\n"
          ]
        },
        {
          "output_type": "stream",
          "name": "stderr",
          "text": [
            "\r 24%|██▍       | 36/150 [10:44<33:50, 17.81s/it]"
          ]
        },
        {
          "output_type": "stream",
          "name": "stdout",
          "text": [
            "Training...\n",
            "Validating...\n"
          ]
        },
        {
          "output_type": "stream",
          "name": "stderr",
          "text": [
            "\r 25%|██▍       | 37/150 [11:02<33:48, 17.95s/it]"
          ]
        },
        {
          "output_type": "stream",
          "name": "stdout",
          "text": [
            "Training...\n",
            "Validating...\n"
          ]
        },
        {
          "output_type": "stream",
          "name": "stderr",
          "text": [
            "\r 25%|██▌       | 38/150 [11:20<33:25, 17.91s/it]"
          ]
        },
        {
          "output_type": "stream",
          "name": "stdout",
          "text": [
            "Training...\n",
            "Validating...\n"
          ]
        },
        {
          "output_type": "stream",
          "name": "stderr",
          "text": [
            "\r 26%|██▌       | 39/150 [11:38<32:58, 17.82s/it]"
          ]
        },
        {
          "output_type": "stream",
          "name": "stdout",
          "text": [
            "Training...\n",
            "Validating...\n"
          ]
        },
        {
          "output_type": "stream",
          "name": "stderr",
          "text": [
            "\r 27%|██▋       | 40/150 [11:55<32:36, 17.78s/it]"
          ]
        },
        {
          "output_type": "stream",
          "name": "stdout",
          "text": [
            "Training...\n",
            "Validating...\n"
          ]
        },
        {
          "output_type": "stream",
          "name": "stderr",
          "text": [
            "\r 27%|██▋       | 41/150 [12:14<32:45, 18.04s/it]"
          ]
        },
        {
          "output_type": "stream",
          "name": "stdout",
          "text": [
            "Training...\n",
            "Validating...\n"
          ]
        },
        {
          "output_type": "stream",
          "name": "stderr",
          "text": [
            "\r 28%|██▊       | 42/150 [12:32<32:15, 17.92s/it]"
          ]
        },
        {
          "output_type": "stream",
          "name": "stdout",
          "text": [
            "Training...\n",
            "Validating...\n"
          ]
        },
        {
          "output_type": "stream",
          "name": "stderr",
          "text": [
            "\r 29%|██▊       | 43/150 [12:49<31:49, 17.85s/it]"
          ]
        },
        {
          "output_type": "stream",
          "name": "stdout",
          "text": [
            "Training...\n",
            "Validating...\n"
          ]
        },
        {
          "output_type": "stream",
          "name": "stderr",
          "text": [
            "\r 29%|██▉       | 44/150 [13:07<31:39, 17.92s/it]"
          ]
        },
        {
          "output_type": "stream",
          "name": "stdout",
          "text": [
            "Training...\n",
            "Validating...\n"
          ]
        },
        {
          "output_type": "stream",
          "name": "stderr",
          "text": [
            "\r 30%|███       | 45/150 [13:26<31:30, 18.00s/it]"
          ]
        },
        {
          "output_type": "stream",
          "name": "stdout",
          "text": [
            "Training...\n",
            "Validating...\n"
          ]
        },
        {
          "output_type": "stream",
          "name": "stderr",
          "text": [
            "\r 31%|███       | 46/150 [13:43<31:05, 17.94s/it]"
          ]
        },
        {
          "output_type": "stream",
          "name": "stdout",
          "text": [
            "Training...\n",
            "Validating...\n"
          ]
        },
        {
          "output_type": "stream",
          "name": "stderr",
          "text": [
            "\r 31%|███▏      | 47/150 [14:01<30:38, 17.85s/it]"
          ]
        },
        {
          "output_type": "stream",
          "name": "stdout",
          "text": [
            "Training...\n",
            "Validating...\n"
          ]
        },
        {
          "output_type": "stream",
          "name": "stderr",
          "text": [
            "\r 32%|███▏      | 48/150 [14:19<30:39, 18.03s/it]"
          ]
        },
        {
          "output_type": "stream",
          "name": "stdout",
          "text": [
            "Training...\n",
            "Validating...\n"
          ]
        },
        {
          "output_type": "stream",
          "name": "stderr",
          "text": [
            "\r 33%|███▎      | 49/150 [14:37<30:19, 18.02s/it]"
          ]
        },
        {
          "output_type": "stream",
          "name": "stdout",
          "text": [
            "Training...\n",
            "Validating...\n"
          ]
        },
        {
          "output_type": "stream",
          "name": "stderr",
          "text": [
            "\r 33%|███▎      | 50/150 [14:55<29:51, 17.92s/it]"
          ]
        },
        {
          "output_type": "stream",
          "name": "stdout",
          "text": [
            "Training...\n",
            "Validating...\n"
          ]
        },
        {
          "output_type": "stream",
          "name": "stderr",
          "text": [
            "\r 34%|███▍      | 51/150 [15:13<29:25, 17.83s/it]"
          ]
        },
        {
          "output_type": "stream",
          "name": "stdout",
          "text": [
            "Training...\n",
            "Validating...\n"
          ]
        },
        {
          "output_type": "stream",
          "name": "stderr",
          "text": [
            "\r 35%|███▍      | 52/150 [15:31<29:29, 18.06s/it]"
          ]
        },
        {
          "output_type": "stream",
          "name": "stdout",
          "text": [
            "Training...\n",
            "Validating...\n"
          ]
        },
        {
          "output_type": "stream",
          "name": "stderr",
          "text": [
            "\r 35%|███▌      | 53/150 [15:49<28:57, 17.91s/it]"
          ]
        },
        {
          "output_type": "stream",
          "name": "stdout",
          "text": [
            "Training...\n",
            "Validating...\n"
          ]
        },
        {
          "output_type": "stream",
          "name": "stderr",
          "text": [
            "\r 36%|███▌      | 54/150 [16:06<28:28, 17.80s/it]"
          ]
        },
        {
          "output_type": "stream",
          "name": "stdout",
          "text": [
            "Training...\n",
            "Validating...\n"
          ]
        },
        {
          "output_type": "stream",
          "name": "stderr",
          "text": [
            "\r 37%|███▋      | 55/150 [16:25<28:21, 17.91s/it]"
          ]
        },
        {
          "output_type": "stream",
          "name": "stdout",
          "text": [
            "Training...\n",
            "Validating...\n"
          ]
        },
        {
          "output_type": "stream",
          "name": "stderr",
          "text": [
            "\r 37%|███▋      | 56/150 [16:43<28:07, 17.95s/it]"
          ]
        },
        {
          "output_type": "stream",
          "name": "stdout",
          "text": [
            "Training...\n",
            "Validating...\n"
          ]
        },
        {
          "output_type": "stream",
          "name": "stderr",
          "text": [
            "\r 38%|███▊      | 57/150 [17:00<27:38, 17.83s/it]"
          ]
        },
        {
          "output_type": "stream",
          "name": "stdout",
          "text": [
            "Training...\n",
            "Validating...\n"
          ]
        },
        {
          "output_type": "stream",
          "name": "stderr",
          "text": [
            "\r 39%|███▊      | 58/150 [17:18<27:13, 17.75s/it]"
          ]
        },
        {
          "output_type": "stream",
          "name": "stdout",
          "text": [
            "Training...\n",
            "Validating...\n"
          ]
        },
        {
          "output_type": "stream",
          "name": "stderr",
          "text": [
            "\r 39%|███▉      | 59/150 [17:36<27:17, 18.00s/it]"
          ]
        },
        {
          "output_type": "stream",
          "name": "stdout",
          "text": [
            "Training...\n",
            "Validating...\n"
          ]
        },
        {
          "output_type": "stream",
          "name": "stderr",
          "text": [
            "\r 40%|████      | 60/150 [17:54<26:54, 17.94s/it]"
          ]
        },
        {
          "output_type": "stream",
          "name": "stdout",
          "text": [
            "Training...\n",
            "Validating...\n"
          ]
        },
        {
          "output_type": "stream",
          "name": "stderr",
          "text": [
            "\r 41%|████      | 61/150 [18:12<26:26, 17.83s/it]"
          ]
        },
        {
          "output_type": "stream",
          "name": "stdout",
          "text": [
            "Training...\n",
            "Validating...\n"
          ]
        },
        {
          "output_type": "stream",
          "name": "stderr",
          "text": [
            "\r 41%|████▏     | 62/150 [18:30<26:12, 17.87s/it]"
          ]
        },
        {
          "output_type": "stream",
          "name": "stdout",
          "text": [
            "Training...\n",
            "Validating...\n"
          ]
        },
        {
          "output_type": "stream",
          "name": "stderr",
          "text": [
            "\r 42%|████▏     | 63/150 [18:48<26:03, 17.97s/it]"
          ]
        },
        {
          "output_type": "stream",
          "name": "stdout",
          "text": [
            "Training...\n",
            "Validating...\n"
          ]
        },
        {
          "output_type": "stream",
          "name": "stderr",
          "text": [
            "\r 43%|████▎     | 64/150 [19:05<25:34, 17.84s/it]"
          ]
        },
        {
          "output_type": "stream",
          "name": "stdout",
          "text": [
            "Training...\n",
            "Validating...\n"
          ]
        },
        {
          "output_type": "stream",
          "name": "stderr",
          "text": [
            "\r 43%|████▎     | 65/150 [19:23<25:13, 17.80s/it]"
          ]
        },
        {
          "output_type": "stream",
          "name": "stdout",
          "text": [
            "Training...\n",
            "Validating...\n"
          ]
        },
        {
          "output_type": "stream",
          "name": "stderr",
          "text": [
            "\r 44%|████▍     | 66/150 [19:41<25:10, 17.98s/it]"
          ]
        },
        {
          "output_type": "stream",
          "name": "stdout",
          "text": [
            "Training...\n",
            "Validating...\n"
          ]
        },
        {
          "output_type": "stream",
          "name": "stderr",
          "text": [
            "\r 45%|████▍     | 67/150 [19:59<24:46, 17.91s/it]"
          ]
        },
        {
          "output_type": "stream",
          "name": "stdout",
          "text": [
            "Training...\n",
            "Validating...\n"
          ]
        },
        {
          "output_type": "stream",
          "name": "stderr",
          "text": [
            "\r 45%|████▌     | 68/150 [20:17<24:20, 17.81s/it]"
          ]
        },
        {
          "output_type": "stream",
          "name": "stdout",
          "text": [
            "Training...\n",
            "Validating...\n"
          ]
        },
        {
          "output_type": "stream",
          "name": "stderr",
          "text": [
            "\r 46%|████▌     | 69/150 [20:35<24:00, 17.78s/it]"
          ]
        },
        {
          "output_type": "stream",
          "name": "stdout",
          "text": [
            "Training...\n",
            "Validating...\n"
          ]
        },
        {
          "output_type": "stream",
          "name": "stderr",
          "text": [
            "\r 47%|████▋     | 70/150 [20:53<23:59, 18.00s/it]"
          ]
        },
        {
          "output_type": "stream",
          "name": "stdout",
          "text": [
            "Training...\n",
            "Validating...\n"
          ]
        },
        {
          "output_type": "stream",
          "name": "stderr",
          "text": [
            "\r 47%|████▋     | 71/150 [21:11<23:33, 17.90s/it]"
          ]
        },
        {
          "output_type": "stream",
          "name": "stdout",
          "text": [
            "Training...\n",
            "Validating...\n"
          ]
        },
        {
          "output_type": "stream",
          "name": "stderr",
          "text": [
            "\r 48%|████▊     | 72/150 [21:28<23:07, 17.79s/it]"
          ]
        },
        {
          "output_type": "stream",
          "name": "stdout",
          "text": [
            "Training...\n",
            "Validating...\n"
          ]
        },
        {
          "output_type": "stream",
          "name": "stderr",
          "text": [
            "\r 49%|████▊     | 73/150 [21:46<22:53, 17.84s/it]"
          ]
        },
        {
          "output_type": "stream",
          "name": "stdout",
          "text": [
            "Training...\n",
            "Validating...\n"
          ]
        },
        {
          "output_type": "stream",
          "name": "stderr",
          "text": [
            "\r 49%|████▉     | 74/150 [22:04<22:43, 17.94s/it]"
          ]
        },
        {
          "output_type": "stream",
          "name": "stdout",
          "text": [
            "Training...\n",
            "Validating...\n"
          ]
        },
        {
          "output_type": "stream",
          "name": "stderr",
          "text": [
            "\r 50%|█████     | 75/150 [22:22<22:18, 17.85s/it]"
          ]
        },
        {
          "output_type": "stream",
          "name": "stdout",
          "text": [
            "Training...\n",
            "Validating...\n"
          ]
        },
        {
          "output_type": "stream",
          "name": "stderr",
          "text": [
            "\r 51%|█████     | 76/150 [22:40<21:54, 17.77s/it]"
          ]
        },
        {
          "output_type": "stream",
          "name": "stdout",
          "text": [
            "Training...\n",
            "Validating...\n"
          ]
        },
        {
          "output_type": "stream",
          "name": "stderr",
          "text": [
            "\r 51%|█████▏    | 77/150 [22:58<21:47, 17.91s/it]"
          ]
        },
        {
          "output_type": "stream",
          "name": "stdout",
          "text": [
            "Training...\n",
            "Validating...\n"
          ]
        },
        {
          "output_type": "stream",
          "name": "stderr",
          "text": [
            "\r 52%|█████▏    | 78/150 [23:16<21:30, 17.92s/it]"
          ]
        },
        {
          "output_type": "stream",
          "name": "stdout",
          "text": [
            "Training...\n",
            "Validating...\n"
          ]
        },
        {
          "output_type": "stream",
          "name": "stderr",
          "text": [
            "\r 53%|█████▎    | 79/150 [23:33<21:06, 17.84s/it]"
          ]
        },
        {
          "output_type": "stream",
          "name": "stdout",
          "text": [
            "Training...\n",
            "Validating...\n"
          ]
        },
        {
          "output_type": "stream",
          "name": "stderr",
          "text": [
            "\r 53%|█████▎    | 80/150 [23:51<20:45, 17.79s/it]"
          ]
        },
        {
          "output_type": "stream",
          "name": "stdout",
          "text": [
            "Training...\n",
            "Validating...\n"
          ]
        },
        {
          "output_type": "stream",
          "name": "stderr",
          "text": [
            "\r 54%|█████▍    | 81/150 [24:10<20:41, 18.00s/it]"
          ]
        },
        {
          "output_type": "stream",
          "name": "stdout",
          "text": [
            "Training...\n",
            "Validating...\n"
          ]
        },
        {
          "output_type": "stream",
          "name": "stderr",
          "text": [
            "\r 55%|█████▍    | 82/150 [24:27<20:16, 17.89s/it]"
          ]
        },
        {
          "output_type": "stream",
          "name": "stdout",
          "text": [
            "Training...\n",
            "Validating...\n"
          ]
        },
        {
          "output_type": "stream",
          "name": "stderr",
          "text": [
            "\r 55%|█████▌    | 83/150 [24:45<19:53, 17.81s/it]"
          ]
        },
        {
          "output_type": "stream",
          "name": "stdout",
          "text": [
            "Training...\n",
            "Validating...\n"
          ]
        },
        {
          "output_type": "stream",
          "name": "stderr",
          "text": [
            "\r 56%|█████▌    | 84/150 [25:03<19:39, 17.88s/it]"
          ]
        },
        {
          "output_type": "stream",
          "name": "stdout",
          "text": [
            "Training...\n",
            "Validating...\n"
          ]
        },
        {
          "output_type": "stream",
          "name": "stderr",
          "text": [
            "\r 57%|█████▋    | 85/150 [25:21<19:30, 18.01s/it]"
          ]
        },
        {
          "output_type": "stream",
          "name": "stdout",
          "text": [
            "Training...\n",
            "Validating...\n"
          ]
        },
        {
          "output_type": "stream",
          "name": "stderr",
          "text": [
            "\r 57%|█████▋    | 86/150 [25:39<19:06, 17.91s/it]"
          ]
        },
        {
          "output_type": "stream",
          "name": "stdout",
          "text": [
            "Training...\n",
            "Validating...\n"
          ]
        },
        {
          "output_type": "stream",
          "name": "stderr",
          "text": [
            "\r 58%|█████▊    | 87/150 [25:57<18:45, 17.87s/it]"
          ]
        },
        {
          "output_type": "stream",
          "name": "stdout",
          "text": [
            "Training...\n",
            "Validating...\n"
          ]
        },
        {
          "output_type": "stream",
          "name": "stderr",
          "text": [
            "\r 59%|█████▊    | 88/150 [26:15<18:38, 18.05s/it]"
          ]
        },
        {
          "output_type": "stream",
          "name": "stdout",
          "text": [
            "Training...\n",
            "Validating...\n"
          ]
        },
        {
          "output_type": "stream",
          "name": "stderr",
          "text": [
            "\r 59%|█████▉    | 89/150 [26:33<18:16, 17.97s/it]"
          ]
        },
        {
          "output_type": "stream",
          "name": "stdout",
          "text": [
            "Training...\n",
            "Validating...\n"
          ]
        },
        {
          "output_type": "stream",
          "name": "stderr",
          "text": [
            "\r 60%|██████    | 90/150 [26:51<17:52, 17.88s/it]"
          ]
        },
        {
          "output_type": "stream",
          "name": "stdout",
          "text": [
            "Training...\n",
            "Validating...\n"
          ]
        },
        {
          "output_type": "stream",
          "name": "stderr",
          "text": [
            "\r 61%|██████    | 91/150 [27:08<17:27, 17.76s/it]"
          ]
        },
        {
          "output_type": "stream",
          "name": "stdout",
          "text": [
            "Training...\n",
            "Validating...\n"
          ]
        },
        {
          "output_type": "stream",
          "name": "stderr",
          "text": [
            "\r 61%|██████▏   | 92/150 [27:27<17:23, 17.99s/it]"
          ]
        },
        {
          "output_type": "stream",
          "name": "stdout",
          "text": [
            "Training...\n",
            "Validating...\n"
          ]
        },
        {
          "output_type": "stream",
          "name": "stderr",
          "text": [
            "\r 62%|██████▏   | 93/150 [27:44<17:00, 17.91s/it]"
          ]
        },
        {
          "output_type": "stream",
          "name": "stdout",
          "text": [
            "Training...\n",
            "Validating...\n"
          ]
        },
        {
          "output_type": "stream",
          "name": "stderr",
          "text": [
            "\r 63%|██████▎   | 94/150 [28:02<16:37, 17.82s/it]"
          ]
        },
        {
          "output_type": "stream",
          "name": "stdout",
          "text": [
            "Training...\n",
            "Validating...\n"
          ]
        },
        {
          "output_type": "stream",
          "name": "stderr",
          "text": [
            "\r 63%|██████▎   | 95/150 [28:20<16:20, 17.83s/it]"
          ]
        },
        {
          "output_type": "stream",
          "name": "stdout",
          "text": [
            "Training...\n",
            "Validating...\n"
          ]
        },
        {
          "output_type": "stream",
          "name": "stderr",
          "text": [
            "\r 64%|██████▍   | 96/150 [28:38<16:14, 18.05s/it]"
          ]
        },
        {
          "output_type": "stream",
          "name": "stdout",
          "text": [
            "Training...\n",
            "Validating...\n"
          ]
        },
        {
          "output_type": "stream",
          "name": "stderr",
          "text": [
            "\r 65%|██████▍   | 97/150 [28:56<15:49, 17.92s/it]"
          ]
        },
        {
          "output_type": "stream",
          "name": "stdout",
          "text": [
            "Training...\n",
            "Validating...\n"
          ]
        },
        {
          "output_type": "stream",
          "name": "stderr",
          "text": [
            "\r 65%|██████▌   | 98/150 [29:14<15:27, 17.83s/it]"
          ]
        },
        {
          "output_type": "stream",
          "name": "stdout",
          "text": [
            "Training...\n",
            "Validating...\n"
          ]
        },
        {
          "output_type": "stream",
          "name": "stderr",
          "text": [
            "\r 66%|██████▌   | 99/150 [29:32<15:17, 18.00s/it]"
          ]
        },
        {
          "output_type": "stream",
          "name": "stdout",
          "text": [
            "Training...\n",
            "Validating...\n"
          ]
        },
        {
          "output_type": "stream",
          "name": "stderr",
          "text": [
            "\r 67%|██████▋   | 100/150 [29:50<14:58, 17.97s/it]"
          ]
        },
        {
          "output_type": "stream",
          "name": "stdout",
          "text": [
            "Training...\n",
            "Validating...\n"
          ]
        },
        {
          "output_type": "stream",
          "name": "stderr",
          "text": [
            "\r 67%|██████▋   | 101/150 [30:08<14:35, 17.87s/it]"
          ]
        },
        {
          "output_type": "stream",
          "name": "stdout",
          "text": [
            "Training...\n",
            "Validating...\n"
          ]
        },
        {
          "output_type": "stream",
          "name": "stderr",
          "text": [
            "\r 68%|██████▊   | 102/150 [30:25<14:15, 17.81s/it]"
          ]
        },
        {
          "output_type": "stream",
          "name": "stdout",
          "text": [
            "Training...\n",
            "Validating...\n"
          ]
        },
        {
          "output_type": "stream",
          "name": "stderr",
          "text": [
            "\r 69%|██████▊   | 103/150 [30:44<14:07, 18.04s/it]"
          ]
        },
        {
          "output_type": "stream",
          "name": "stdout",
          "text": [
            "Training...\n",
            "Validating...\n"
          ]
        },
        {
          "output_type": "stream",
          "name": "stderr",
          "text": [
            "\r 69%|██████▉   | 104/150 [31:01<13:43, 17.90s/it]"
          ]
        },
        {
          "output_type": "stream",
          "name": "stdout",
          "text": [
            "Training...\n",
            "Validating...\n"
          ]
        },
        {
          "output_type": "stream",
          "name": "stderr",
          "text": [
            "\r 70%|███████   | 105/150 [31:19<13:21, 17.82s/it]"
          ]
        },
        {
          "output_type": "stream",
          "name": "stdout",
          "text": [
            "Training...\n",
            "Validating...\n"
          ]
        },
        {
          "output_type": "stream",
          "name": "stderr",
          "text": [
            "\r 71%|███████   | 106/150 [31:37<13:09, 17.93s/it]"
          ]
        },
        {
          "output_type": "stream",
          "name": "stdout",
          "text": [
            "Training...\n",
            "Validating...\n"
          ]
        },
        {
          "output_type": "stream",
          "name": "stderr",
          "text": [
            "\r 71%|███████▏  | 107/150 [31:55<12:54, 18.00s/it]"
          ]
        },
        {
          "output_type": "stream",
          "name": "stdout",
          "text": [
            "Training...\n",
            "Validating...\n"
          ]
        },
        {
          "output_type": "stream",
          "name": "stderr",
          "text": [
            "\r 72%|███████▏  | 108/150 [32:13<12:30, 17.88s/it]"
          ]
        },
        {
          "output_type": "stream",
          "name": "stdout",
          "text": [
            "Training...\n",
            "Validating...\n"
          ]
        },
        {
          "output_type": "stream",
          "name": "stderr",
          "text": [
            "\r 73%|███████▎  | 109/150 [32:31<12:09, 17.80s/it]"
          ]
        },
        {
          "output_type": "stream",
          "name": "stdout",
          "text": [
            "Training...\n",
            "Validating...\n"
          ]
        },
        {
          "output_type": "stream",
          "name": "stderr",
          "text": [
            "\r 73%|███████▎  | 110/150 [32:49<12:00, 18.02s/it]"
          ]
        },
        {
          "output_type": "stream",
          "name": "stdout",
          "text": [
            "Training...\n",
            "Validating...\n"
          ]
        },
        {
          "output_type": "stream",
          "name": "stderr",
          "text": [
            "\r 74%|███████▍  | 111/150 [33:07<11:38, 17.92s/it]"
          ]
        },
        {
          "output_type": "stream",
          "name": "stdout",
          "text": [
            "Training...\n",
            "Validating...\n"
          ]
        },
        {
          "output_type": "stream",
          "name": "stderr",
          "text": [
            "\r 75%|███████▍  | 112/150 [33:24<11:17, 17.84s/it]"
          ]
        },
        {
          "output_type": "stream",
          "name": "stdout",
          "text": [
            "Training...\n",
            "Validating...\n"
          ]
        },
        {
          "output_type": "stream",
          "name": "stderr",
          "text": [
            "\r 75%|███████▌  | 113/150 [33:42<10:59, 17.82s/it]"
          ]
        },
        {
          "output_type": "stream",
          "name": "stdout",
          "text": [
            "Training...\n",
            "Validating...\n"
          ]
        },
        {
          "output_type": "stream",
          "name": "stderr",
          "text": [
            "\r 76%|███████▌  | 114/150 [34:01<10:47, 17.98s/it]"
          ]
        },
        {
          "output_type": "stream",
          "name": "stdout",
          "text": [
            "Training...\n",
            "Validating...\n"
          ]
        },
        {
          "output_type": "stream",
          "name": "stderr",
          "text": [
            "\r 77%|███████▋  | 115/150 [34:18<10:25, 17.86s/it]"
          ]
        },
        {
          "output_type": "stream",
          "name": "stdout",
          "text": [
            "Training...\n",
            "Validating...\n"
          ]
        },
        {
          "output_type": "stream",
          "name": "stderr",
          "text": [
            "\r 77%|███████▋  | 116/150 [34:36<10:05, 17.80s/it]"
          ]
        },
        {
          "output_type": "stream",
          "name": "stdout",
          "text": [
            "Training...\n",
            "Validating...\n"
          ]
        },
        {
          "output_type": "stream",
          "name": "stderr",
          "text": [
            "\r 78%|███████▊  | 117/150 [34:54<09:53, 17.99s/it]"
          ]
        },
        {
          "output_type": "stream",
          "name": "stdout",
          "text": [
            "Training...\n",
            "Validating...\n"
          ]
        },
        {
          "output_type": "stream",
          "name": "stderr",
          "text": [
            "\r 79%|███████▊  | 118/150 [35:12<09:36, 18.02s/it]"
          ]
        },
        {
          "output_type": "stream",
          "name": "stdout",
          "text": [
            "Training...\n",
            "Validating...\n"
          ]
        },
        {
          "output_type": "stream",
          "name": "stderr",
          "text": [
            "\r 79%|███████▉  | 119/150 [35:30<09:15, 17.90s/it]"
          ]
        },
        {
          "output_type": "stream",
          "name": "stdout",
          "text": [
            "Training...\n",
            "Validating...\n"
          ]
        },
        {
          "output_type": "stream",
          "name": "stderr",
          "text": [
            "\r 80%|████████  | 120/150 [35:47<08:53, 17.79s/it]"
          ]
        },
        {
          "output_type": "stream",
          "name": "stdout",
          "text": [
            "Training...\n",
            "Validating...\n"
          ]
        },
        {
          "output_type": "stream",
          "name": "stderr",
          "text": [
            "\r 81%|████████  | 121/150 [36:06<08:42, 18.01s/it]"
          ]
        },
        {
          "output_type": "stream",
          "name": "stdout",
          "text": [
            "Training...\n",
            "Validating...\n"
          ]
        },
        {
          "output_type": "stream",
          "name": "stderr",
          "text": [
            "\r 81%|████████▏ | 122/150 [36:24<08:21, 17.91s/it]"
          ]
        },
        {
          "output_type": "stream",
          "name": "stdout",
          "text": [
            "Training...\n",
            "Validating...\n"
          ]
        },
        {
          "output_type": "stream",
          "name": "stderr",
          "text": [
            "\r 82%|████████▏ | 123/150 [36:41<08:02, 17.86s/it]"
          ]
        },
        {
          "output_type": "stream",
          "name": "stdout",
          "text": [
            "Training...\n",
            "Validating...\n"
          ]
        },
        {
          "output_type": "stream",
          "name": "stderr",
          "text": [
            "\r 83%|████████▎ | 124/150 [36:59<07:42, 17.79s/it]"
          ]
        },
        {
          "output_type": "stream",
          "name": "stdout",
          "text": [
            "Training...\n",
            "Validating...\n"
          ]
        },
        {
          "output_type": "stream",
          "name": "stderr",
          "text": [
            "\r 83%|████████▎ | 125/150 [37:18<07:30, 18.03s/it]"
          ]
        },
        {
          "output_type": "stream",
          "name": "stdout",
          "text": [
            "Training...\n",
            "Validating...\n"
          ]
        },
        {
          "output_type": "stream",
          "name": "stderr",
          "text": [
            "\r 84%|████████▍ | 126/150 [37:35<07:10, 17.94s/it]"
          ]
        },
        {
          "output_type": "stream",
          "name": "stdout",
          "text": [
            "Training...\n",
            "Validating...\n"
          ]
        },
        {
          "output_type": "stream",
          "name": "stderr",
          "text": [
            "\r 85%|████████▍ | 127/150 [37:53<06:49, 17.81s/it]"
          ]
        },
        {
          "output_type": "stream",
          "name": "stdout",
          "text": [
            "Training...\n",
            "Validating...\n"
          ]
        },
        {
          "output_type": "stream",
          "name": "stderr",
          "text": [
            "\r 85%|████████▌ | 128/150 [38:11<06:35, 17.97s/it]"
          ]
        },
        {
          "output_type": "stream",
          "name": "stdout",
          "text": [
            "Training...\n",
            "Validating...\n"
          ]
        },
        {
          "output_type": "stream",
          "name": "stderr",
          "text": [
            "\r 86%|████████▌ | 129/150 [38:29<06:17, 17.98s/it]"
          ]
        },
        {
          "output_type": "stream",
          "name": "stdout",
          "text": [
            "Training...\n",
            "Validating...\n"
          ]
        },
        {
          "output_type": "stream",
          "name": "stderr",
          "text": [
            "\r 87%|████████▋ | 130/150 [38:47<05:57, 17.89s/it]"
          ]
        },
        {
          "output_type": "stream",
          "name": "stdout",
          "text": [
            "Training...\n",
            "Validating...\n"
          ]
        },
        {
          "output_type": "stream",
          "name": "stderr",
          "text": [
            "\r 87%|████████▋ | 131/150 [39:04<05:37, 17.78s/it]"
          ]
        },
        {
          "output_type": "stream",
          "name": "stdout",
          "text": [
            "Training...\n",
            "Validating...\n"
          ]
        },
        {
          "output_type": "stream",
          "name": "stderr",
          "text": [
            "\r 88%|████████▊ | 132/150 [39:23<05:24, 18.02s/it]"
          ]
        },
        {
          "output_type": "stream",
          "name": "stdout",
          "text": [
            "Training...\n",
            "Validating...\n"
          ]
        },
        {
          "output_type": "stream",
          "name": "stderr",
          "text": [
            "\r 89%|████████▊ | 133/150 [39:41<05:05, 17.98s/it]"
          ]
        },
        {
          "output_type": "stream",
          "name": "stdout",
          "text": [
            "Training...\n",
            "Validating...\n"
          ]
        },
        {
          "output_type": "stream",
          "name": "stderr",
          "text": [
            "\r 89%|████████▉ | 134/150 [39:58<04:45, 17.86s/it]"
          ]
        },
        {
          "output_type": "stream",
          "name": "stdout",
          "text": [
            "Training...\n",
            "Validating...\n"
          ]
        },
        {
          "output_type": "stream",
          "name": "stderr",
          "text": [
            "\r 90%|█████████ | 135/150 [40:16<04:27, 17.85s/it]"
          ]
        },
        {
          "output_type": "stream",
          "name": "stdout",
          "text": [
            "Training...\n",
            "Validating...\n"
          ]
        },
        {
          "output_type": "stream",
          "name": "stderr",
          "text": [
            "\r 91%|█████████ | 136/150 [40:35<04:11, 18.00s/it]"
          ]
        },
        {
          "output_type": "stream",
          "name": "stdout",
          "text": [
            "Training...\n",
            "Validating...\n"
          ]
        },
        {
          "output_type": "stream",
          "name": "stderr",
          "text": [
            "\r 91%|█████████▏| 137/150 [40:52<03:52, 17.87s/it]"
          ]
        },
        {
          "output_type": "stream",
          "name": "stdout",
          "text": [
            "Training...\n",
            "Validating...\n"
          ]
        },
        {
          "output_type": "stream",
          "name": "stderr",
          "text": [
            "\r 92%|█████████▏| 138/150 [41:10<03:33, 17.81s/it]"
          ]
        },
        {
          "output_type": "stream",
          "name": "stdout",
          "text": [
            "Training...\n",
            "Validating...\n"
          ]
        },
        {
          "output_type": "stream",
          "name": "stderr",
          "text": [
            "\r 93%|█████████▎| 139/150 [41:28<03:16, 17.90s/it]"
          ]
        },
        {
          "output_type": "stream",
          "name": "stdout",
          "text": [
            "Training...\n",
            "Validating...\n"
          ]
        },
        {
          "output_type": "stream",
          "name": "stderr",
          "text": [
            "\r 93%|█████████▎| 140/150 [41:46<02:59, 17.97s/it]"
          ]
        },
        {
          "output_type": "stream",
          "name": "stdout",
          "text": [
            "Training...\n",
            "Validating...\n"
          ]
        },
        {
          "output_type": "stream",
          "name": "stderr",
          "text": [
            "\r 94%|█████████▍| 141/150 [42:04<02:40, 17.84s/it]"
          ]
        },
        {
          "output_type": "stream",
          "name": "stdout",
          "text": [
            "Training...\n",
            "Validating...\n"
          ]
        },
        {
          "output_type": "stream",
          "name": "stderr",
          "text": [
            "\r 95%|█████████▍| 142/150 [42:21<02:22, 17.83s/it]"
          ]
        },
        {
          "output_type": "stream",
          "name": "stdout",
          "text": [
            "Training...\n",
            "Validating...\n"
          ]
        },
        {
          "output_type": "stream",
          "name": "stderr",
          "text": [
            "\r 95%|█████████▌| 143/150 [42:40<02:06, 18.03s/it]"
          ]
        },
        {
          "output_type": "stream",
          "name": "stdout",
          "text": [
            "Training...\n",
            "Validating...\n"
          ]
        },
        {
          "output_type": "stream",
          "name": "stderr",
          "text": [
            "\r 96%|█████████▌| 144/150 [42:58<01:47, 17.97s/it]"
          ]
        },
        {
          "output_type": "stream",
          "name": "stdout",
          "text": [
            "Training...\n",
            "Validating...\n"
          ]
        },
        {
          "output_type": "stream",
          "name": "stderr",
          "text": [
            "\r 97%|█████████▋| 145/150 [43:15<01:29, 17.87s/it]"
          ]
        },
        {
          "output_type": "stream",
          "name": "stdout",
          "text": [
            "Training...\n",
            "Validating...\n"
          ]
        },
        {
          "output_type": "stream",
          "name": "stderr",
          "text": [
            "\r 97%|█████████▋| 146/150 [43:33<01:11, 17.92s/it]"
          ]
        },
        {
          "output_type": "stream",
          "name": "stdout",
          "text": [
            "Training...\n",
            "Validating...\n"
          ]
        },
        {
          "output_type": "stream",
          "name": "stderr",
          "text": [
            "\r 98%|█████████▊| 147/150 [43:52<00:54, 18.05s/it]"
          ]
        },
        {
          "output_type": "stream",
          "name": "stdout",
          "text": [
            "Training...\n",
            "Validating...\n"
          ]
        },
        {
          "output_type": "stream",
          "name": "stderr",
          "text": [
            "\r 99%|█████████▊| 148/150 [44:09<00:35, 17.94s/it]"
          ]
        },
        {
          "output_type": "stream",
          "name": "stdout",
          "text": [
            "Training...\n",
            "Validating...\n"
          ]
        },
        {
          "output_type": "stream",
          "name": "stderr",
          "text": [
            "\r 99%|█████████▉| 149/150 [44:27<00:17, 17.83s/it]"
          ]
        },
        {
          "output_type": "stream",
          "name": "stdout",
          "text": [
            "Training...\n",
            "Validating...\n"
          ]
        },
        {
          "output_type": "stream",
          "name": "stderr",
          "text": [
            "100%|██████████| 150/150 [44:45<00:00, 17.91s/it]\n"
          ]
        },
        {
          "output_type": "stream",
          "name": "stdout",
          "text": [
            "[INFO] Total time taken to train and validate the model: 2686.00s\n",
            "Testing...\n",
            "\n",
            "\n",
            "\n",
            "\n",
            "\n",
            "\n",
            "\n",
            "\n",
            "\n",
            "\n",
            "\n",
            "\n",
            "\n",
            "\n",
            "\n",
            "\n",
            "\n",
            "\n",
            "\n",
            "\n"
          ]
        }
      ],
      "source": [
        "RESNET_SIZE = 256\n",
        "transf_size = RESNET_SIZE\n",
        "\n",
        "# Initialize transformations - train\n",
        "transforms_train = transforms.Compose([\n",
        "    transforms.Resize((transf_size, transf_size)),\n",
        "    transforms.ToTensor(),\n",
        "])\n",
        "\n",
        "# Initialize transformations - test (optional)\n",
        "transforms_test = transforms.Compose([\n",
        "    transforms.Resize((transf_size, transf_size)),\n",
        "    transforms.ToTensor(),\n",
        "])\n",
        "\n",
        "# Initialize the U-Net model\n",
        "# unet = smp.Unet(\n",
        "#                 encoder_name = \"resnet101\",\n",
        "#                 encoder_weights = \"imagenet\",\n",
        "#                 in_channels = 3,  # 3 channels for the image\n",
        "#                 classes = 1,  # 1 class => binary mask\n",
        "#                 activation = 'sigmoid'\n",
        "#                ).to(device)\n",
        "\n",
        "\n",
        "# Define hyperparameters\n",
        "INIT_LR = 0.0001\n",
        "BATCH_SIZE = 8\n",
        "NUM_EPOCHS = [10, 20, 50, 100, 150]\n",
        "TEST_SPLIT = [0.1, 0.2] # 0.3\n",
        "VALID_SPLIT = 0.2 # 0.1\n",
        "\n",
        "model_type = 'GCA' # unet\n",
        "channels = 3 # 6\n",
        "dataset_type = 'imd' # imd, comofod\n",
        "\n",
        "wb_name = \"GCANet_IMD2020_altered_imgs\"\n",
        "\n",
        "main.main_loop(original_images, altered_images, masks, transforms_train, transforms_test,\n",
        "               model_type, channels, dataset_type,\n",
        "               wb_name, INIT_LR, BATCH_SIZE, NUM_EPOCHS, TEST_SPLIT, VALID_SPLIT)\n",
        "\n",
        "\n",
        "\n"
      ]
    },
    {
      "cell_type": "code",
      "execution_count": null,
      "metadata": {
        "collapsed": true,
        "id": "YK5xU1QHHwvP",
        "outputId": "1309cb0b-655f-46cd-8d6b-9b4f96cf1fa3"
      },
      "outputs": [
        {
          "name": "stdout",
          "output_type": "stream",
          "text": [
            "\n",
            "\n",
            "\n",
            "\n"
          ]
        },
        {
          "ename": "TypeError",
          "evalue": "plot_results() takes 1 positional argument but 5 were given",
          "output_type": "error",
          "traceback": [
            "\u001b[1;31m---------------------------------------------------------------------------\u001b[0m",
            "\u001b[1;31mTypeError\u001b[0m                                 Traceback (most recent call last)",
            "Cell \u001b[1;32mIn[55], line 9\u001b[0m\n\u001b[0;32m      7\u001b[0m \u001b[38;5;28mprint\u001b[39m(\u001b[38;5;124m'\u001b[39m\u001b[38;5;130;01m\\n\u001b[39;00m\u001b[38;5;124m'\u001b[39m)\n\u001b[0;32m      8\u001b[0m lent \u001b[38;5;241m=\u001b[39m orig_images\u001b[38;5;241m.\u001b[39mcpu()\u001b[38;5;241m.\u001b[39mnumpy()\u001b[38;5;241m.\u001b[39mshape[\u001b[38;5;241m0\u001b[39m]\n\u001b[1;32m----> 9\u001b[0m \u001b[43mpr\u001b[49m\u001b[38;5;241;43m.\u001b[39;49m\u001b[43mplot_results\u001b[49m\u001b[43m(\u001b[49m\u001b[43mlent\u001b[49m\u001b[43m,\u001b[49m\u001b[43m \u001b[49m\u001b[43morig_images\u001b[49m\u001b[43m,\u001b[49m\u001b[43m \u001b[49m\u001b[43maltered_images\u001b[49m\u001b[43m,\u001b[49m\u001b[43m \u001b[49m\u001b[43mmasks\u001b[49m\u001b[43m,\u001b[49m\u001b[43m \u001b[49m\u001b[43mpred_masks\u001b[49m\u001b[43m)\u001b[49m\n\u001b[0;32m     12\u001b[0m \u001b[38;5;66;03m# plot the training loss\u001b[39;00m\n\u001b[0;32m     13\u001b[0m plt\u001b[38;5;241m.\u001b[39mstyle\u001b[38;5;241m.\u001b[39muse(\u001b[38;5;124m\"\u001b[39m\u001b[38;5;124mggplot\u001b[39m\u001b[38;5;124m\"\u001b[39m)\n",
            "\u001b[1;31mTypeError\u001b[0m: plot_results() takes 1 positional argument but 5 were given"
          ]
        }
      ],
      "source": []
    },
    {
      "cell_type": "code",
      "execution_count": null,
      "metadata": {
        "id": "hJsnQ1LTHwxd"
      },
      "outputs": [],
      "source": []
    }
  ],
  "metadata": {
    "accelerator": "GPU",
    "colab": {
      "collapsed_sections": [
        "83DJlE1Mst43",
        "iAe84x2v3J8F"
      ],
      "gpuType": "T4",
      "provenance": []
    },
    "kernelspec": {
      "display_name": "Python 3 (ipykernel)",
      "language": "python",
      "name": "python3"
    },
    "language_info": {
      "codemirror_mode": {
        "name": "ipython",
        "version": 3
      },
      "file_extension": ".py",
      "mimetype": "text/x-python",
      "name": "python",
      "nbconvert_exporter": "python",
      "pygments_lexer": "ipython3",
      "version": "3.10.9"
    },
    "widgets": {
      "application/vnd.jupyter.widget-state+json": {
        "6281b066ae284a19a94c35ed0c164201": {
          "model_module": "@jupyter-widgets/controls",
          "model_name": "VBoxModel",
          "model_module_version": "1.5.0",
          "state": {
            "_dom_classes": [],
            "_model_module": "@jupyter-widgets/controls",
            "_model_module_version": "1.5.0",
            "_model_name": "VBoxModel",
            "_view_count": null,
            "_view_module": "@jupyter-widgets/controls",
            "_view_module_version": "1.5.0",
            "_view_name": "VBoxView",
            "box_style": "",
            "children": [
              "IPY_MODEL_d1d3960aa54045a288563830422ee428",
              "IPY_MODEL_69fc448ee1c14fa2b75c5a8f65f79cfb"
            ],
            "layout": "IPY_MODEL_a98bc1fc82c84419b5148e81c68dd169"
          }
        },
        "d1d3960aa54045a288563830422ee428": {
          "model_module": "@jupyter-widgets/controls",
          "model_name": "LabelModel",
          "model_module_version": "1.5.0",
          "state": {
            "_dom_classes": [],
            "_model_module": "@jupyter-widgets/controls",
            "_model_module_version": "1.5.0",
            "_model_name": "LabelModel",
            "_view_count": null,
            "_view_module": "@jupyter-widgets/controls",
            "_view_module_version": "1.5.0",
            "_view_name": "LabelView",
            "description": "",
            "description_tooltip": null,
            "layout": "IPY_MODEL_43b6f638e0cc4a9d96cf36dcbd7ddf82",
            "placeholder": "​",
            "style": "IPY_MODEL_587c8325c0404692b0d933b4555ac6f9",
            "value": "7.152 MB of 7.152 MB uploaded\r"
          }
        },
        "69fc448ee1c14fa2b75c5a8f65f79cfb": {
          "model_module": "@jupyter-widgets/controls",
          "model_name": "FloatProgressModel",
          "model_module_version": "1.5.0",
          "state": {
            "_dom_classes": [],
            "_model_module": "@jupyter-widgets/controls",
            "_model_module_version": "1.5.0",
            "_model_name": "FloatProgressModel",
            "_view_count": null,
            "_view_module": "@jupyter-widgets/controls",
            "_view_module_version": "1.5.0",
            "_view_name": "ProgressView",
            "bar_style": "",
            "description": "",
            "description_tooltip": null,
            "layout": "IPY_MODEL_79876b74f21f4c62b8d3495e90555dc6",
            "max": 1,
            "min": 0,
            "orientation": "horizontal",
            "style": "IPY_MODEL_1b03fc340dc54e2cae1f419c7ba44ad2",
            "value": 1
          }
        },
        "a98bc1fc82c84419b5148e81c68dd169": {
          "model_module": "@jupyter-widgets/base",
          "model_name": "LayoutModel",
          "model_module_version": "1.2.0",
          "state": {
            "_model_module": "@jupyter-widgets/base",
            "_model_module_version": "1.2.0",
            "_model_name": "LayoutModel",
            "_view_count": null,
            "_view_module": "@jupyter-widgets/base",
            "_view_module_version": "1.2.0",
            "_view_name": "LayoutView",
            "align_content": null,
            "align_items": null,
            "align_self": null,
            "border": null,
            "bottom": null,
            "display": null,
            "flex": null,
            "flex_flow": null,
            "grid_area": null,
            "grid_auto_columns": null,
            "grid_auto_flow": null,
            "grid_auto_rows": null,
            "grid_column": null,
            "grid_gap": null,
            "grid_row": null,
            "grid_template_areas": null,
            "grid_template_columns": null,
            "grid_template_rows": null,
            "height": null,
            "justify_content": null,
            "justify_items": null,
            "left": null,
            "margin": null,
            "max_height": null,
            "max_width": null,
            "min_height": null,
            "min_width": null,
            "object_fit": null,
            "object_position": null,
            "order": null,
            "overflow": null,
            "overflow_x": null,
            "overflow_y": null,
            "padding": null,
            "right": null,
            "top": null,
            "visibility": null,
            "width": null
          }
        },
        "43b6f638e0cc4a9d96cf36dcbd7ddf82": {
          "model_module": "@jupyter-widgets/base",
          "model_name": "LayoutModel",
          "model_module_version": "1.2.0",
          "state": {
            "_model_module": "@jupyter-widgets/base",
            "_model_module_version": "1.2.0",
            "_model_name": "LayoutModel",
            "_view_count": null,
            "_view_module": "@jupyter-widgets/base",
            "_view_module_version": "1.2.0",
            "_view_name": "LayoutView",
            "align_content": null,
            "align_items": null,
            "align_self": null,
            "border": null,
            "bottom": null,
            "display": null,
            "flex": null,
            "flex_flow": null,
            "grid_area": null,
            "grid_auto_columns": null,
            "grid_auto_flow": null,
            "grid_auto_rows": null,
            "grid_column": null,
            "grid_gap": null,
            "grid_row": null,
            "grid_template_areas": null,
            "grid_template_columns": null,
            "grid_template_rows": null,
            "height": null,
            "justify_content": null,
            "justify_items": null,
            "left": null,
            "margin": null,
            "max_height": null,
            "max_width": null,
            "min_height": null,
            "min_width": null,
            "object_fit": null,
            "object_position": null,
            "order": null,
            "overflow": null,
            "overflow_x": null,
            "overflow_y": null,
            "padding": null,
            "right": null,
            "top": null,
            "visibility": null,
            "width": null
          }
        },
        "587c8325c0404692b0d933b4555ac6f9": {
          "model_module": "@jupyter-widgets/controls",
          "model_name": "DescriptionStyleModel",
          "model_module_version": "1.5.0",
          "state": {
            "_model_module": "@jupyter-widgets/controls",
            "_model_module_version": "1.5.0",
            "_model_name": "DescriptionStyleModel",
            "_view_count": null,
            "_view_module": "@jupyter-widgets/base",
            "_view_module_version": "1.2.0",
            "_view_name": "StyleView",
            "description_width": ""
          }
        },
        "79876b74f21f4c62b8d3495e90555dc6": {
          "model_module": "@jupyter-widgets/base",
          "model_name": "LayoutModel",
          "model_module_version": "1.2.0",
          "state": {
            "_model_module": "@jupyter-widgets/base",
            "_model_module_version": "1.2.0",
            "_model_name": "LayoutModel",
            "_view_count": null,
            "_view_module": "@jupyter-widgets/base",
            "_view_module_version": "1.2.0",
            "_view_name": "LayoutView",
            "align_content": null,
            "align_items": null,
            "align_self": null,
            "border": null,
            "bottom": null,
            "display": null,
            "flex": null,
            "flex_flow": null,
            "grid_area": null,
            "grid_auto_columns": null,
            "grid_auto_flow": null,
            "grid_auto_rows": null,
            "grid_column": null,
            "grid_gap": null,
            "grid_row": null,
            "grid_template_areas": null,
            "grid_template_columns": null,
            "grid_template_rows": null,
            "height": null,
            "justify_content": null,
            "justify_items": null,
            "left": null,
            "margin": null,
            "max_height": null,
            "max_width": null,
            "min_height": null,
            "min_width": null,
            "object_fit": null,
            "object_position": null,
            "order": null,
            "overflow": null,
            "overflow_x": null,
            "overflow_y": null,
            "padding": null,
            "right": null,
            "top": null,
            "visibility": null,
            "width": null
          }
        },
        "1b03fc340dc54e2cae1f419c7ba44ad2": {
          "model_module": "@jupyter-widgets/controls",
          "model_name": "ProgressStyleModel",
          "model_module_version": "1.5.0",
          "state": {
            "_model_module": "@jupyter-widgets/controls",
            "_model_module_version": "1.5.0",
            "_model_name": "ProgressStyleModel",
            "_view_count": null,
            "_view_module": "@jupyter-widgets/base",
            "_view_module_version": "1.2.0",
            "_view_name": "StyleView",
            "bar_color": null,
            "description_width": ""
          }
        },
        "efcb8fbdcdf34ac8b1ada1b89be4f6b9": {
          "model_module": "@jupyter-widgets/controls",
          "model_name": "VBoxModel",
          "model_module_version": "1.5.0",
          "state": {
            "_dom_classes": [],
            "_model_module": "@jupyter-widgets/controls",
            "_model_module_version": "1.5.0",
            "_model_name": "VBoxModel",
            "_view_count": null,
            "_view_module": "@jupyter-widgets/controls",
            "_view_module_version": "1.5.0",
            "_view_name": "VBoxView",
            "box_style": "",
            "children": [
              "IPY_MODEL_1e69a89a5476424890eff4124277eea5",
              "IPY_MODEL_479e3147597c464eb0a94ec94def2057"
            ],
            "layout": "IPY_MODEL_b2901aa73b424a0fa71cbef2ac1abc05"
          }
        },
        "1e69a89a5476424890eff4124277eea5": {
          "model_module": "@jupyter-widgets/controls",
          "model_name": "LabelModel",
          "model_module_version": "1.5.0",
          "state": {
            "_dom_classes": [],
            "_model_module": "@jupyter-widgets/controls",
            "_model_module_version": "1.5.0",
            "_model_name": "LabelModel",
            "_view_count": null,
            "_view_module": "@jupyter-widgets/controls",
            "_view_module_version": "1.5.0",
            "_view_name": "LabelView",
            "description": "",
            "description_tooltip": null,
            "layout": "IPY_MODEL_c9fa812f4e02484d8ee8fbfc3a64e8b5",
            "placeholder": "​",
            "style": "IPY_MODEL_b856f4fe136a40238aa924d0e7f9b613",
            "value": "7.159 MB of 7.159 MB uploaded\r"
          }
        },
        "479e3147597c464eb0a94ec94def2057": {
          "model_module": "@jupyter-widgets/controls",
          "model_name": "FloatProgressModel",
          "model_module_version": "1.5.0",
          "state": {
            "_dom_classes": [],
            "_model_module": "@jupyter-widgets/controls",
            "_model_module_version": "1.5.0",
            "_model_name": "FloatProgressModel",
            "_view_count": null,
            "_view_module": "@jupyter-widgets/controls",
            "_view_module_version": "1.5.0",
            "_view_name": "ProgressView",
            "bar_style": "",
            "description": "",
            "description_tooltip": null,
            "layout": "IPY_MODEL_03043ccb8d834d66b6619028a7e175bc",
            "max": 1,
            "min": 0,
            "orientation": "horizontal",
            "style": "IPY_MODEL_796500ac9fcb4ce291d7878c66478b28",
            "value": 1
          }
        },
        "b2901aa73b424a0fa71cbef2ac1abc05": {
          "model_module": "@jupyter-widgets/base",
          "model_name": "LayoutModel",
          "model_module_version": "1.2.0",
          "state": {
            "_model_module": "@jupyter-widgets/base",
            "_model_module_version": "1.2.0",
            "_model_name": "LayoutModel",
            "_view_count": null,
            "_view_module": "@jupyter-widgets/base",
            "_view_module_version": "1.2.0",
            "_view_name": "LayoutView",
            "align_content": null,
            "align_items": null,
            "align_self": null,
            "border": null,
            "bottom": null,
            "display": null,
            "flex": null,
            "flex_flow": null,
            "grid_area": null,
            "grid_auto_columns": null,
            "grid_auto_flow": null,
            "grid_auto_rows": null,
            "grid_column": null,
            "grid_gap": null,
            "grid_row": null,
            "grid_template_areas": null,
            "grid_template_columns": null,
            "grid_template_rows": null,
            "height": null,
            "justify_content": null,
            "justify_items": null,
            "left": null,
            "margin": null,
            "max_height": null,
            "max_width": null,
            "min_height": null,
            "min_width": null,
            "object_fit": null,
            "object_position": null,
            "order": null,
            "overflow": null,
            "overflow_x": null,
            "overflow_y": null,
            "padding": null,
            "right": null,
            "top": null,
            "visibility": null,
            "width": null
          }
        },
        "c9fa812f4e02484d8ee8fbfc3a64e8b5": {
          "model_module": "@jupyter-widgets/base",
          "model_name": "LayoutModel",
          "model_module_version": "1.2.0",
          "state": {
            "_model_module": "@jupyter-widgets/base",
            "_model_module_version": "1.2.0",
            "_model_name": "LayoutModel",
            "_view_count": null,
            "_view_module": "@jupyter-widgets/base",
            "_view_module_version": "1.2.0",
            "_view_name": "LayoutView",
            "align_content": null,
            "align_items": null,
            "align_self": null,
            "border": null,
            "bottom": null,
            "display": null,
            "flex": null,
            "flex_flow": null,
            "grid_area": null,
            "grid_auto_columns": null,
            "grid_auto_flow": null,
            "grid_auto_rows": null,
            "grid_column": null,
            "grid_gap": null,
            "grid_row": null,
            "grid_template_areas": null,
            "grid_template_columns": null,
            "grid_template_rows": null,
            "height": null,
            "justify_content": null,
            "justify_items": null,
            "left": null,
            "margin": null,
            "max_height": null,
            "max_width": null,
            "min_height": null,
            "min_width": null,
            "object_fit": null,
            "object_position": null,
            "order": null,
            "overflow": null,
            "overflow_x": null,
            "overflow_y": null,
            "padding": null,
            "right": null,
            "top": null,
            "visibility": null,
            "width": null
          }
        },
        "b856f4fe136a40238aa924d0e7f9b613": {
          "model_module": "@jupyter-widgets/controls",
          "model_name": "DescriptionStyleModel",
          "model_module_version": "1.5.0",
          "state": {
            "_model_module": "@jupyter-widgets/controls",
            "_model_module_version": "1.5.0",
            "_model_name": "DescriptionStyleModel",
            "_view_count": null,
            "_view_module": "@jupyter-widgets/base",
            "_view_module_version": "1.2.0",
            "_view_name": "StyleView",
            "description_width": ""
          }
        },
        "03043ccb8d834d66b6619028a7e175bc": {
          "model_module": "@jupyter-widgets/base",
          "model_name": "LayoutModel",
          "model_module_version": "1.2.0",
          "state": {
            "_model_module": "@jupyter-widgets/base",
            "_model_module_version": "1.2.0",
            "_model_name": "LayoutModel",
            "_view_count": null,
            "_view_module": "@jupyter-widgets/base",
            "_view_module_version": "1.2.0",
            "_view_name": "LayoutView",
            "align_content": null,
            "align_items": null,
            "align_self": null,
            "border": null,
            "bottom": null,
            "display": null,
            "flex": null,
            "flex_flow": null,
            "grid_area": null,
            "grid_auto_columns": null,
            "grid_auto_flow": null,
            "grid_auto_rows": null,
            "grid_column": null,
            "grid_gap": null,
            "grid_row": null,
            "grid_template_areas": null,
            "grid_template_columns": null,
            "grid_template_rows": null,
            "height": null,
            "justify_content": null,
            "justify_items": null,
            "left": null,
            "margin": null,
            "max_height": null,
            "max_width": null,
            "min_height": null,
            "min_width": null,
            "object_fit": null,
            "object_position": null,
            "order": null,
            "overflow": null,
            "overflow_x": null,
            "overflow_y": null,
            "padding": null,
            "right": null,
            "top": null,
            "visibility": null,
            "width": null
          }
        },
        "796500ac9fcb4ce291d7878c66478b28": {
          "model_module": "@jupyter-widgets/controls",
          "model_name": "ProgressStyleModel",
          "model_module_version": "1.5.0",
          "state": {
            "_model_module": "@jupyter-widgets/controls",
            "_model_module_version": "1.5.0",
            "_model_name": "ProgressStyleModel",
            "_view_count": null,
            "_view_module": "@jupyter-widgets/base",
            "_view_module_version": "1.2.0",
            "_view_name": "StyleView",
            "bar_color": null,
            "description_width": ""
          }
        },
        "6ad9850ef7ce4330bd81247e721fc745": {
          "model_module": "@jupyter-widgets/controls",
          "model_name": "VBoxModel",
          "model_module_version": "1.5.0",
          "state": {
            "_dom_classes": [],
            "_model_module": "@jupyter-widgets/controls",
            "_model_module_version": "1.5.0",
            "_model_name": "VBoxModel",
            "_view_count": null,
            "_view_module": "@jupyter-widgets/controls",
            "_view_module_version": "1.5.0",
            "_view_name": "VBoxView",
            "box_style": "",
            "children": [
              "IPY_MODEL_c18533b304fd47b8ae52fdb1acebef23",
              "IPY_MODEL_452d8c395319427c98a39500944caf48"
            ],
            "layout": "IPY_MODEL_86fae5d5a6bb4130926120e10e96d921"
          }
        },
        "c18533b304fd47b8ae52fdb1acebef23": {
          "model_module": "@jupyter-widgets/controls",
          "model_name": "LabelModel",
          "model_module_version": "1.5.0",
          "state": {
            "_dom_classes": [],
            "_model_module": "@jupyter-widgets/controls",
            "_model_module_version": "1.5.0",
            "_model_name": "LabelModel",
            "_view_count": null,
            "_view_module": "@jupyter-widgets/controls",
            "_view_module_version": "1.5.0",
            "_view_name": "LabelView",
            "description": "",
            "description_tooltip": null,
            "layout": "IPY_MODEL_f34dcc3e33184c0eaccc35ea5b6d858c",
            "placeholder": "​",
            "style": "IPY_MODEL_4ba042d73b134513b29204f8b6d621a1",
            "value": "7.162 MB of 7.162 MB uploaded\r"
          }
        },
        "452d8c395319427c98a39500944caf48": {
          "model_module": "@jupyter-widgets/controls",
          "model_name": "FloatProgressModel",
          "model_module_version": "1.5.0",
          "state": {
            "_dom_classes": [],
            "_model_module": "@jupyter-widgets/controls",
            "_model_module_version": "1.5.0",
            "_model_name": "FloatProgressModel",
            "_view_count": null,
            "_view_module": "@jupyter-widgets/controls",
            "_view_module_version": "1.5.0",
            "_view_name": "ProgressView",
            "bar_style": "",
            "description": "",
            "description_tooltip": null,
            "layout": "IPY_MODEL_5ae23a6eea26456d826463f4276e0f83",
            "max": 1,
            "min": 0,
            "orientation": "horizontal",
            "style": "IPY_MODEL_6a3d54636c8444f3bbedd94baace8365",
            "value": 1
          }
        },
        "86fae5d5a6bb4130926120e10e96d921": {
          "model_module": "@jupyter-widgets/base",
          "model_name": "LayoutModel",
          "model_module_version": "1.2.0",
          "state": {
            "_model_module": "@jupyter-widgets/base",
            "_model_module_version": "1.2.0",
            "_model_name": "LayoutModel",
            "_view_count": null,
            "_view_module": "@jupyter-widgets/base",
            "_view_module_version": "1.2.0",
            "_view_name": "LayoutView",
            "align_content": null,
            "align_items": null,
            "align_self": null,
            "border": null,
            "bottom": null,
            "display": null,
            "flex": null,
            "flex_flow": null,
            "grid_area": null,
            "grid_auto_columns": null,
            "grid_auto_flow": null,
            "grid_auto_rows": null,
            "grid_column": null,
            "grid_gap": null,
            "grid_row": null,
            "grid_template_areas": null,
            "grid_template_columns": null,
            "grid_template_rows": null,
            "height": null,
            "justify_content": null,
            "justify_items": null,
            "left": null,
            "margin": null,
            "max_height": null,
            "max_width": null,
            "min_height": null,
            "min_width": null,
            "object_fit": null,
            "object_position": null,
            "order": null,
            "overflow": null,
            "overflow_x": null,
            "overflow_y": null,
            "padding": null,
            "right": null,
            "top": null,
            "visibility": null,
            "width": null
          }
        },
        "f34dcc3e33184c0eaccc35ea5b6d858c": {
          "model_module": "@jupyter-widgets/base",
          "model_name": "LayoutModel",
          "model_module_version": "1.2.0",
          "state": {
            "_model_module": "@jupyter-widgets/base",
            "_model_module_version": "1.2.0",
            "_model_name": "LayoutModel",
            "_view_count": null,
            "_view_module": "@jupyter-widgets/base",
            "_view_module_version": "1.2.0",
            "_view_name": "LayoutView",
            "align_content": null,
            "align_items": null,
            "align_self": null,
            "border": null,
            "bottom": null,
            "display": null,
            "flex": null,
            "flex_flow": null,
            "grid_area": null,
            "grid_auto_columns": null,
            "grid_auto_flow": null,
            "grid_auto_rows": null,
            "grid_column": null,
            "grid_gap": null,
            "grid_row": null,
            "grid_template_areas": null,
            "grid_template_columns": null,
            "grid_template_rows": null,
            "height": null,
            "justify_content": null,
            "justify_items": null,
            "left": null,
            "margin": null,
            "max_height": null,
            "max_width": null,
            "min_height": null,
            "min_width": null,
            "object_fit": null,
            "object_position": null,
            "order": null,
            "overflow": null,
            "overflow_x": null,
            "overflow_y": null,
            "padding": null,
            "right": null,
            "top": null,
            "visibility": null,
            "width": null
          }
        },
        "4ba042d73b134513b29204f8b6d621a1": {
          "model_module": "@jupyter-widgets/controls",
          "model_name": "DescriptionStyleModel",
          "model_module_version": "1.5.0",
          "state": {
            "_model_module": "@jupyter-widgets/controls",
            "_model_module_version": "1.5.0",
            "_model_name": "DescriptionStyleModel",
            "_view_count": null,
            "_view_module": "@jupyter-widgets/base",
            "_view_module_version": "1.2.0",
            "_view_name": "StyleView",
            "description_width": ""
          }
        },
        "5ae23a6eea26456d826463f4276e0f83": {
          "model_module": "@jupyter-widgets/base",
          "model_name": "LayoutModel",
          "model_module_version": "1.2.0",
          "state": {
            "_model_module": "@jupyter-widgets/base",
            "_model_module_version": "1.2.0",
            "_model_name": "LayoutModel",
            "_view_count": null,
            "_view_module": "@jupyter-widgets/base",
            "_view_module_version": "1.2.0",
            "_view_name": "LayoutView",
            "align_content": null,
            "align_items": null,
            "align_self": null,
            "border": null,
            "bottom": null,
            "display": null,
            "flex": null,
            "flex_flow": null,
            "grid_area": null,
            "grid_auto_columns": null,
            "grid_auto_flow": null,
            "grid_auto_rows": null,
            "grid_column": null,
            "grid_gap": null,
            "grid_row": null,
            "grid_template_areas": null,
            "grid_template_columns": null,
            "grid_template_rows": null,
            "height": null,
            "justify_content": null,
            "justify_items": null,
            "left": null,
            "margin": null,
            "max_height": null,
            "max_width": null,
            "min_height": null,
            "min_width": null,
            "object_fit": null,
            "object_position": null,
            "order": null,
            "overflow": null,
            "overflow_x": null,
            "overflow_y": null,
            "padding": null,
            "right": null,
            "top": null,
            "visibility": null,
            "width": null
          }
        },
        "6a3d54636c8444f3bbedd94baace8365": {
          "model_module": "@jupyter-widgets/controls",
          "model_name": "ProgressStyleModel",
          "model_module_version": "1.5.0",
          "state": {
            "_model_module": "@jupyter-widgets/controls",
            "_model_module_version": "1.5.0",
            "_model_name": "ProgressStyleModel",
            "_view_count": null,
            "_view_module": "@jupyter-widgets/base",
            "_view_module_version": "1.2.0",
            "_view_name": "StyleView",
            "bar_color": null,
            "description_width": ""
          }
        },
        "bd81fe833fcb4937b92356d94b8f1250": {
          "model_module": "@jupyter-widgets/controls",
          "model_name": "VBoxModel",
          "model_module_version": "1.5.0",
          "state": {
            "_dom_classes": [],
            "_model_module": "@jupyter-widgets/controls",
            "_model_module_version": "1.5.0",
            "_model_name": "VBoxModel",
            "_view_count": null,
            "_view_module": "@jupyter-widgets/controls",
            "_view_module_version": "1.5.0",
            "_view_name": "VBoxView",
            "box_style": "",
            "children": [
              "IPY_MODEL_5bd4c435fe3d470c9e9d39aa824042cd",
              "IPY_MODEL_1aaa15ab89bf42cfb254403ea850045c"
            ],
            "layout": "IPY_MODEL_59f5bca179fa44028f92c1de478e6502"
          }
        },
        "5bd4c435fe3d470c9e9d39aa824042cd": {
          "model_module": "@jupyter-widgets/controls",
          "model_name": "LabelModel",
          "model_module_version": "1.5.0",
          "state": {
            "_dom_classes": [],
            "_model_module": "@jupyter-widgets/controls",
            "_model_module_version": "1.5.0",
            "_model_name": "LabelModel",
            "_view_count": null,
            "_view_module": "@jupyter-widgets/controls",
            "_view_module_version": "1.5.0",
            "_view_name": "LabelView",
            "description": "",
            "description_tooltip": null,
            "layout": "IPY_MODEL_44a7824a496d491ca7196e4166ca3f08",
            "placeholder": "​",
            "style": "IPY_MODEL_897052877a504de883c73a7f2c4180ad",
            "value": "7.167 MB of 7.167 MB uploaded\r"
          }
        },
        "1aaa15ab89bf42cfb254403ea850045c": {
          "model_module": "@jupyter-widgets/controls",
          "model_name": "FloatProgressModel",
          "model_module_version": "1.5.0",
          "state": {
            "_dom_classes": [],
            "_model_module": "@jupyter-widgets/controls",
            "_model_module_version": "1.5.0",
            "_model_name": "FloatProgressModel",
            "_view_count": null,
            "_view_module": "@jupyter-widgets/controls",
            "_view_module_version": "1.5.0",
            "_view_name": "ProgressView",
            "bar_style": "",
            "description": "",
            "description_tooltip": null,
            "layout": "IPY_MODEL_72114a2a26d44167a84907981822ceb8",
            "max": 1,
            "min": 0,
            "orientation": "horizontal",
            "style": "IPY_MODEL_3e15e94243a2450e8164bb1e8502db1e",
            "value": 1
          }
        },
        "59f5bca179fa44028f92c1de478e6502": {
          "model_module": "@jupyter-widgets/base",
          "model_name": "LayoutModel",
          "model_module_version": "1.2.0",
          "state": {
            "_model_module": "@jupyter-widgets/base",
            "_model_module_version": "1.2.0",
            "_model_name": "LayoutModel",
            "_view_count": null,
            "_view_module": "@jupyter-widgets/base",
            "_view_module_version": "1.2.0",
            "_view_name": "LayoutView",
            "align_content": null,
            "align_items": null,
            "align_self": null,
            "border": null,
            "bottom": null,
            "display": null,
            "flex": null,
            "flex_flow": null,
            "grid_area": null,
            "grid_auto_columns": null,
            "grid_auto_flow": null,
            "grid_auto_rows": null,
            "grid_column": null,
            "grid_gap": null,
            "grid_row": null,
            "grid_template_areas": null,
            "grid_template_columns": null,
            "grid_template_rows": null,
            "height": null,
            "justify_content": null,
            "justify_items": null,
            "left": null,
            "margin": null,
            "max_height": null,
            "max_width": null,
            "min_height": null,
            "min_width": null,
            "object_fit": null,
            "object_position": null,
            "order": null,
            "overflow": null,
            "overflow_x": null,
            "overflow_y": null,
            "padding": null,
            "right": null,
            "top": null,
            "visibility": null,
            "width": null
          }
        },
        "44a7824a496d491ca7196e4166ca3f08": {
          "model_module": "@jupyter-widgets/base",
          "model_name": "LayoutModel",
          "model_module_version": "1.2.0",
          "state": {
            "_model_module": "@jupyter-widgets/base",
            "_model_module_version": "1.2.0",
            "_model_name": "LayoutModel",
            "_view_count": null,
            "_view_module": "@jupyter-widgets/base",
            "_view_module_version": "1.2.0",
            "_view_name": "LayoutView",
            "align_content": null,
            "align_items": null,
            "align_self": null,
            "border": null,
            "bottom": null,
            "display": null,
            "flex": null,
            "flex_flow": null,
            "grid_area": null,
            "grid_auto_columns": null,
            "grid_auto_flow": null,
            "grid_auto_rows": null,
            "grid_column": null,
            "grid_gap": null,
            "grid_row": null,
            "grid_template_areas": null,
            "grid_template_columns": null,
            "grid_template_rows": null,
            "height": null,
            "justify_content": null,
            "justify_items": null,
            "left": null,
            "margin": null,
            "max_height": null,
            "max_width": null,
            "min_height": null,
            "min_width": null,
            "object_fit": null,
            "object_position": null,
            "order": null,
            "overflow": null,
            "overflow_x": null,
            "overflow_y": null,
            "padding": null,
            "right": null,
            "top": null,
            "visibility": null,
            "width": null
          }
        },
        "897052877a504de883c73a7f2c4180ad": {
          "model_module": "@jupyter-widgets/controls",
          "model_name": "DescriptionStyleModel",
          "model_module_version": "1.5.0",
          "state": {
            "_model_module": "@jupyter-widgets/controls",
            "_model_module_version": "1.5.0",
            "_model_name": "DescriptionStyleModel",
            "_view_count": null,
            "_view_module": "@jupyter-widgets/base",
            "_view_module_version": "1.2.0",
            "_view_name": "StyleView",
            "description_width": ""
          }
        },
        "72114a2a26d44167a84907981822ceb8": {
          "model_module": "@jupyter-widgets/base",
          "model_name": "LayoutModel",
          "model_module_version": "1.2.0",
          "state": {
            "_model_module": "@jupyter-widgets/base",
            "_model_module_version": "1.2.0",
            "_model_name": "LayoutModel",
            "_view_count": null,
            "_view_module": "@jupyter-widgets/base",
            "_view_module_version": "1.2.0",
            "_view_name": "LayoutView",
            "align_content": null,
            "align_items": null,
            "align_self": null,
            "border": null,
            "bottom": null,
            "display": null,
            "flex": null,
            "flex_flow": null,
            "grid_area": null,
            "grid_auto_columns": null,
            "grid_auto_flow": null,
            "grid_auto_rows": null,
            "grid_column": null,
            "grid_gap": null,
            "grid_row": null,
            "grid_template_areas": null,
            "grid_template_columns": null,
            "grid_template_rows": null,
            "height": null,
            "justify_content": null,
            "justify_items": null,
            "left": null,
            "margin": null,
            "max_height": null,
            "max_width": null,
            "min_height": null,
            "min_width": null,
            "object_fit": null,
            "object_position": null,
            "order": null,
            "overflow": null,
            "overflow_x": null,
            "overflow_y": null,
            "padding": null,
            "right": null,
            "top": null,
            "visibility": null,
            "width": null
          }
        },
        "3e15e94243a2450e8164bb1e8502db1e": {
          "model_module": "@jupyter-widgets/controls",
          "model_name": "ProgressStyleModel",
          "model_module_version": "1.5.0",
          "state": {
            "_model_module": "@jupyter-widgets/controls",
            "_model_module_version": "1.5.0",
            "_model_name": "ProgressStyleModel",
            "_view_count": null,
            "_view_module": "@jupyter-widgets/base",
            "_view_module_version": "1.2.0",
            "_view_name": "StyleView",
            "bar_color": null,
            "description_width": ""
          }
        },
        "f5765916d5b440a2bc4cab63de2d7ad4": {
          "model_module": "@jupyter-widgets/controls",
          "model_name": "VBoxModel",
          "model_module_version": "1.5.0",
          "state": {
            "_dom_classes": [],
            "_model_module": "@jupyter-widgets/controls",
            "_model_module_version": "1.5.0",
            "_model_name": "VBoxModel",
            "_view_count": null,
            "_view_module": "@jupyter-widgets/controls",
            "_view_module_version": "1.5.0",
            "_view_name": "VBoxView",
            "box_style": "",
            "children": [
              "IPY_MODEL_9009a2c7138d49a09e5c77a1f1d8e18d",
              "IPY_MODEL_bc1e79edfe314c819e939e36f65fe08f"
            ],
            "layout": "IPY_MODEL_4cc4603c935f4ab6be0b8ff82885d908"
          }
        },
        "9009a2c7138d49a09e5c77a1f1d8e18d": {
          "model_module": "@jupyter-widgets/controls",
          "model_name": "LabelModel",
          "model_module_version": "1.5.0",
          "state": {
            "_dom_classes": [],
            "_model_module": "@jupyter-widgets/controls",
            "_model_module_version": "1.5.0",
            "_model_name": "LabelModel",
            "_view_count": null,
            "_view_module": "@jupyter-widgets/controls",
            "_view_module_version": "1.5.0",
            "_view_name": "LabelView",
            "description": "",
            "description_tooltip": null,
            "layout": "IPY_MODEL_191e81ca84a2445db741ee440099d5d6",
            "placeholder": "​",
            "style": "IPY_MODEL_9c4bc36d02314b30bc38321795d95257",
            "value": "7.158 MB of 7.158 MB uploaded\r"
          }
        },
        "bc1e79edfe314c819e939e36f65fe08f": {
          "model_module": "@jupyter-widgets/controls",
          "model_name": "FloatProgressModel",
          "model_module_version": "1.5.0",
          "state": {
            "_dom_classes": [],
            "_model_module": "@jupyter-widgets/controls",
            "_model_module_version": "1.5.0",
            "_model_name": "FloatProgressModel",
            "_view_count": null,
            "_view_module": "@jupyter-widgets/controls",
            "_view_module_version": "1.5.0",
            "_view_name": "ProgressView",
            "bar_style": "",
            "description": "",
            "description_tooltip": null,
            "layout": "IPY_MODEL_c0bd24bfc25b404581ff0bdd7ee1df9a",
            "max": 1,
            "min": 0,
            "orientation": "horizontal",
            "style": "IPY_MODEL_d8192dd6a1a242a7a4628b13e12e4d6e",
            "value": 1
          }
        },
        "4cc4603c935f4ab6be0b8ff82885d908": {
          "model_module": "@jupyter-widgets/base",
          "model_name": "LayoutModel",
          "model_module_version": "1.2.0",
          "state": {
            "_model_module": "@jupyter-widgets/base",
            "_model_module_version": "1.2.0",
            "_model_name": "LayoutModel",
            "_view_count": null,
            "_view_module": "@jupyter-widgets/base",
            "_view_module_version": "1.2.0",
            "_view_name": "LayoutView",
            "align_content": null,
            "align_items": null,
            "align_self": null,
            "border": null,
            "bottom": null,
            "display": null,
            "flex": null,
            "flex_flow": null,
            "grid_area": null,
            "grid_auto_columns": null,
            "grid_auto_flow": null,
            "grid_auto_rows": null,
            "grid_column": null,
            "grid_gap": null,
            "grid_row": null,
            "grid_template_areas": null,
            "grid_template_columns": null,
            "grid_template_rows": null,
            "height": null,
            "justify_content": null,
            "justify_items": null,
            "left": null,
            "margin": null,
            "max_height": null,
            "max_width": null,
            "min_height": null,
            "min_width": null,
            "object_fit": null,
            "object_position": null,
            "order": null,
            "overflow": null,
            "overflow_x": null,
            "overflow_y": null,
            "padding": null,
            "right": null,
            "top": null,
            "visibility": null,
            "width": null
          }
        },
        "191e81ca84a2445db741ee440099d5d6": {
          "model_module": "@jupyter-widgets/base",
          "model_name": "LayoutModel",
          "model_module_version": "1.2.0",
          "state": {
            "_model_module": "@jupyter-widgets/base",
            "_model_module_version": "1.2.0",
            "_model_name": "LayoutModel",
            "_view_count": null,
            "_view_module": "@jupyter-widgets/base",
            "_view_module_version": "1.2.0",
            "_view_name": "LayoutView",
            "align_content": null,
            "align_items": null,
            "align_self": null,
            "border": null,
            "bottom": null,
            "display": null,
            "flex": null,
            "flex_flow": null,
            "grid_area": null,
            "grid_auto_columns": null,
            "grid_auto_flow": null,
            "grid_auto_rows": null,
            "grid_column": null,
            "grid_gap": null,
            "grid_row": null,
            "grid_template_areas": null,
            "grid_template_columns": null,
            "grid_template_rows": null,
            "height": null,
            "justify_content": null,
            "justify_items": null,
            "left": null,
            "margin": null,
            "max_height": null,
            "max_width": null,
            "min_height": null,
            "min_width": null,
            "object_fit": null,
            "object_position": null,
            "order": null,
            "overflow": null,
            "overflow_x": null,
            "overflow_y": null,
            "padding": null,
            "right": null,
            "top": null,
            "visibility": null,
            "width": null
          }
        },
        "9c4bc36d02314b30bc38321795d95257": {
          "model_module": "@jupyter-widgets/controls",
          "model_name": "DescriptionStyleModel",
          "model_module_version": "1.5.0",
          "state": {
            "_model_module": "@jupyter-widgets/controls",
            "_model_module_version": "1.5.0",
            "_model_name": "DescriptionStyleModel",
            "_view_count": null,
            "_view_module": "@jupyter-widgets/base",
            "_view_module_version": "1.2.0",
            "_view_name": "StyleView",
            "description_width": ""
          }
        },
        "c0bd24bfc25b404581ff0bdd7ee1df9a": {
          "model_module": "@jupyter-widgets/base",
          "model_name": "LayoutModel",
          "model_module_version": "1.2.0",
          "state": {
            "_model_module": "@jupyter-widgets/base",
            "_model_module_version": "1.2.0",
            "_model_name": "LayoutModel",
            "_view_count": null,
            "_view_module": "@jupyter-widgets/base",
            "_view_module_version": "1.2.0",
            "_view_name": "LayoutView",
            "align_content": null,
            "align_items": null,
            "align_self": null,
            "border": null,
            "bottom": null,
            "display": null,
            "flex": null,
            "flex_flow": null,
            "grid_area": null,
            "grid_auto_columns": null,
            "grid_auto_flow": null,
            "grid_auto_rows": null,
            "grid_column": null,
            "grid_gap": null,
            "grid_row": null,
            "grid_template_areas": null,
            "grid_template_columns": null,
            "grid_template_rows": null,
            "height": null,
            "justify_content": null,
            "justify_items": null,
            "left": null,
            "margin": null,
            "max_height": null,
            "max_width": null,
            "min_height": null,
            "min_width": null,
            "object_fit": null,
            "object_position": null,
            "order": null,
            "overflow": null,
            "overflow_x": null,
            "overflow_y": null,
            "padding": null,
            "right": null,
            "top": null,
            "visibility": null,
            "width": null
          }
        },
        "d8192dd6a1a242a7a4628b13e12e4d6e": {
          "model_module": "@jupyter-widgets/controls",
          "model_name": "ProgressStyleModel",
          "model_module_version": "1.5.0",
          "state": {
            "_model_module": "@jupyter-widgets/controls",
            "_model_module_version": "1.5.0",
            "_model_name": "ProgressStyleModel",
            "_view_count": null,
            "_view_module": "@jupyter-widgets/base",
            "_view_module_version": "1.2.0",
            "_view_name": "StyleView",
            "bar_color": null,
            "description_width": ""
          }
        },
        "6dca51221898422fa703800e3cc89747": {
          "model_module": "@jupyter-widgets/controls",
          "model_name": "VBoxModel",
          "model_module_version": "1.5.0",
          "state": {
            "_dom_classes": [],
            "_model_module": "@jupyter-widgets/controls",
            "_model_module_version": "1.5.0",
            "_model_name": "VBoxModel",
            "_view_count": null,
            "_view_module": "@jupyter-widgets/controls",
            "_view_module_version": "1.5.0",
            "_view_name": "VBoxView",
            "box_style": "",
            "children": [
              "IPY_MODEL_344e514819aa4fe3ad9ae6fcb4e1adcf",
              "IPY_MODEL_e9ed7beb17574ca2a3483f9198403371"
            ],
            "layout": "IPY_MODEL_56e6e62b421c4a08a5d46365a4eefe7a"
          }
        },
        "344e514819aa4fe3ad9ae6fcb4e1adcf": {
          "model_module": "@jupyter-widgets/controls",
          "model_name": "LabelModel",
          "model_module_version": "1.5.0",
          "state": {
            "_dom_classes": [],
            "_model_module": "@jupyter-widgets/controls",
            "_model_module_version": "1.5.0",
            "_model_name": "LabelModel",
            "_view_count": null,
            "_view_module": "@jupyter-widgets/controls",
            "_view_module_version": "1.5.0",
            "_view_name": "LabelView",
            "description": "",
            "description_tooltip": null,
            "layout": "IPY_MODEL_1900603af9da49a18033d55aa3f70b86",
            "placeholder": "​",
            "style": "IPY_MODEL_dac0ac9e4ed34479825275ad2aa3dc7e",
            "value": "14.382 MB of 14.382 MB uploaded\r"
          }
        },
        "e9ed7beb17574ca2a3483f9198403371": {
          "model_module": "@jupyter-widgets/controls",
          "model_name": "FloatProgressModel",
          "model_module_version": "1.5.0",
          "state": {
            "_dom_classes": [],
            "_model_module": "@jupyter-widgets/controls",
            "_model_module_version": "1.5.0",
            "_model_name": "FloatProgressModel",
            "_view_count": null,
            "_view_module": "@jupyter-widgets/controls",
            "_view_module_version": "1.5.0",
            "_view_name": "ProgressView",
            "bar_style": "",
            "description": "",
            "description_tooltip": null,
            "layout": "IPY_MODEL_d3347bb95cac4c15aafaa485a59b1ef7",
            "max": 1,
            "min": 0,
            "orientation": "horizontal",
            "style": "IPY_MODEL_7658ee7beebf4919ababfede2e4ec2a7",
            "value": 1
          }
        },
        "56e6e62b421c4a08a5d46365a4eefe7a": {
          "model_module": "@jupyter-widgets/base",
          "model_name": "LayoutModel",
          "model_module_version": "1.2.0",
          "state": {
            "_model_module": "@jupyter-widgets/base",
            "_model_module_version": "1.2.0",
            "_model_name": "LayoutModel",
            "_view_count": null,
            "_view_module": "@jupyter-widgets/base",
            "_view_module_version": "1.2.0",
            "_view_name": "LayoutView",
            "align_content": null,
            "align_items": null,
            "align_self": null,
            "border": null,
            "bottom": null,
            "display": null,
            "flex": null,
            "flex_flow": null,
            "grid_area": null,
            "grid_auto_columns": null,
            "grid_auto_flow": null,
            "grid_auto_rows": null,
            "grid_column": null,
            "grid_gap": null,
            "grid_row": null,
            "grid_template_areas": null,
            "grid_template_columns": null,
            "grid_template_rows": null,
            "height": null,
            "justify_content": null,
            "justify_items": null,
            "left": null,
            "margin": null,
            "max_height": null,
            "max_width": null,
            "min_height": null,
            "min_width": null,
            "object_fit": null,
            "object_position": null,
            "order": null,
            "overflow": null,
            "overflow_x": null,
            "overflow_y": null,
            "padding": null,
            "right": null,
            "top": null,
            "visibility": null,
            "width": null
          }
        },
        "1900603af9da49a18033d55aa3f70b86": {
          "model_module": "@jupyter-widgets/base",
          "model_name": "LayoutModel",
          "model_module_version": "1.2.0",
          "state": {
            "_model_module": "@jupyter-widgets/base",
            "_model_module_version": "1.2.0",
            "_model_name": "LayoutModel",
            "_view_count": null,
            "_view_module": "@jupyter-widgets/base",
            "_view_module_version": "1.2.0",
            "_view_name": "LayoutView",
            "align_content": null,
            "align_items": null,
            "align_self": null,
            "border": null,
            "bottom": null,
            "display": null,
            "flex": null,
            "flex_flow": null,
            "grid_area": null,
            "grid_auto_columns": null,
            "grid_auto_flow": null,
            "grid_auto_rows": null,
            "grid_column": null,
            "grid_gap": null,
            "grid_row": null,
            "grid_template_areas": null,
            "grid_template_columns": null,
            "grid_template_rows": null,
            "height": null,
            "justify_content": null,
            "justify_items": null,
            "left": null,
            "margin": null,
            "max_height": null,
            "max_width": null,
            "min_height": null,
            "min_width": null,
            "object_fit": null,
            "object_position": null,
            "order": null,
            "overflow": null,
            "overflow_x": null,
            "overflow_y": null,
            "padding": null,
            "right": null,
            "top": null,
            "visibility": null,
            "width": null
          }
        },
        "dac0ac9e4ed34479825275ad2aa3dc7e": {
          "model_module": "@jupyter-widgets/controls",
          "model_name": "DescriptionStyleModel",
          "model_module_version": "1.5.0",
          "state": {
            "_model_module": "@jupyter-widgets/controls",
            "_model_module_version": "1.5.0",
            "_model_name": "DescriptionStyleModel",
            "_view_count": null,
            "_view_module": "@jupyter-widgets/base",
            "_view_module_version": "1.2.0",
            "_view_name": "StyleView",
            "description_width": ""
          }
        },
        "d3347bb95cac4c15aafaa485a59b1ef7": {
          "model_module": "@jupyter-widgets/base",
          "model_name": "LayoutModel",
          "model_module_version": "1.2.0",
          "state": {
            "_model_module": "@jupyter-widgets/base",
            "_model_module_version": "1.2.0",
            "_model_name": "LayoutModel",
            "_view_count": null,
            "_view_module": "@jupyter-widgets/base",
            "_view_module_version": "1.2.0",
            "_view_name": "LayoutView",
            "align_content": null,
            "align_items": null,
            "align_self": null,
            "border": null,
            "bottom": null,
            "display": null,
            "flex": null,
            "flex_flow": null,
            "grid_area": null,
            "grid_auto_columns": null,
            "grid_auto_flow": null,
            "grid_auto_rows": null,
            "grid_column": null,
            "grid_gap": null,
            "grid_row": null,
            "grid_template_areas": null,
            "grid_template_columns": null,
            "grid_template_rows": null,
            "height": null,
            "justify_content": null,
            "justify_items": null,
            "left": null,
            "margin": null,
            "max_height": null,
            "max_width": null,
            "min_height": null,
            "min_width": null,
            "object_fit": null,
            "object_position": null,
            "order": null,
            "overflow": null,
            "overflow_x": null,
            "overflow_y": null,
            "padding": null,
            "right": null,
            "top": null,
            "visibility": null,
            "width": null
          }
        },
        "7658ee7beebf4919ababfede2e4ec2a7": {
          "model_module": "@jupyter-widgets/controls",
          "model_name": "ProgressStyleModel",
          "model_module_version": "1.5.0",
          "state": {
            "_model_module": "@jupyter-widgets/controls",
            "_model_module_version": "1.5.0",
            "_model_name": "ProgressStyleModel",
            "_view_count": null,
            "_view_module": "@jupyter-widgets/base",
            "_view_module_version": "1.2.0",
            "_view_name": "StyleView",
            "bar_color": null,
            "description_width": ""
          }
        },
        "6300954d22e84d1c87179eb4b818aa39": {
          "model_module": "@jupyter-widgets/controls",
          "model_name": "VBoxModel",
          "model_module_version": "1.5.0",
          "state": {
            "_dom_classes": [],
            "_model_module": "@jupyter-widgets/controls",
            "_model_module_version": "1.5.0",
            "_model_name": "VBoxModel",
            "_view_count": null,
            "_view_module": "@jupyter-widgets/controls",
            "_view_module_version": "1.5.0",
            "_view_name": "VBoxView",
            "box_style": "",
            "children": [
              "IPY_MODEL_8e47e64db4824be0a5d32adee5ecbd13",
              "IPY_MODEL_501fce067ab24684aa8820667574e7e0"
            ],
            "layout": "IPY_MODEL_fa8a6677c4f843b99db689b4b1016849"
          }
        },
        "8e47e64db4824be0a5d32adee5ecbd13": {
          "model_module": "@jupyter-widgets/controls",
          "model_name": "LabelModel",
          "model_module_version": "1.5.0",
          "state": {
            "_dom_classes": [],
            "_model_module": "@jupyter-widgets/controls",
            "_model_module_version": "1.5.0",
            "_model_name": "LabelModel",
            "_view_count": null,
            "_view_module": "@jupyter-widgets/controls",
            "_view_module_version": "1.5.0",
            "_view_name": "LabelView",
            "description": "",
            "description_tooltip": null,
            "layout": "IPY_MODEL_7e79a992e6a946ce930f1f017a1826ed",
            "placeholder": "​",
            "style": "IPY_MODEL_5e6527862da647dda58142b5275f3503",
            "value": "14.399 MB of 14.399 MB uploaded\r"
          }
        },
        "501fce067ab24684aa8820667574e7e0": {
          "model_module": "@jupyter-widgets/controls",
          "model_name": "FloatProgressModel",
          "model_module_version": "1.5.0",
          "state": {
            "_dom_classes": [],
            "_model_module": "@jupyter-widgets/controls",
            "_model_module_version": "1.5.0",
            "_model_name": "FloatProgressModel",
            "_view_count": null,
            "_view_module": "@jupyter-widgets/controls",
            "_view_module_version": "1.5.0",
            "_view_name": "ProgressView",
            "bar_style": "",
            "description": "",
            "description_tooltip": null,
            "layout": "IPY_MODEL_b992b3236da74b2e805b7462cd663ca4",
            "max": 1,
            "min": 0,
            "orientation": "horizontal",
            "style": "IPY_MODEL_3d2029daa4264dd4a91cf412aa7e0c8c",
            "value": 1
          }
        },
        "fa8a6677c4f843b99db689b4b1016849": {
          "model_module": "@jupyter-widgets/base",
          "model_name": "LayoutModel",
          "model_module_version": "1.2.0",
          "state": {
            "_model_module": "@jupyter-widgets/base",
            "_model_module_version": "1.2.0",
            "_model_name": "LayoutModel",
            "_view_count": null,
            "_view_module": "@jupyter-widgets/base",
            "_view_module_version": "1.2.0",
            "_view_name": "LayoutView",
            "align_content": null,
            "align_items": null,
            "align_self": null,
            "border": null,
            "bottom": null,
            "display": null,
            "flex": null,
            "flex_flow": null,
            "grid_area": null,
            "grid_auto_columns": null,
            "grid_auto_flow": null,
            "grid_auto_rows": null,
            "grid_column": null,
            "grid_gap": null,
            "grid_row": null,
            "grid_template_areas": null,
            "grid_template_columns": null,
            "grid_template_rows": null,
            "height": null,
            "justify_content": null,
            "justify_items": null,
            "left": null,
            "margin": null,
            "max_height": null,
            "max_width": null,
            "min_height": null,
            "min_width": null,
            "object_fit": null,
            "object_position": null,
            "order": null,
            "overflow": null,
            "overflow_x": null,
            "overflow_y": null,
            "padding": null,
            "right": null,
            "top": null,
            "visibility": null,
            "width": null
          }
        },
        "7e79a992e6a946ce930f1f017a1826ed": {
          "model_module": "@jupyter-widgets/base",
          "model_name": "LayoutModel",
          "model_module_version": "1.2.0",
          "state": {
            "_model_module": "@jupyter-widgets/base",
            "_model_module_version": "1.2.0",
            "_model_name": "LayoutModel",
            "_view_count": null,
            "_view_module": "@jupyter-widgets/base",
            "_view_module_version": "1.2.0",
            "_view_name": "LayoutView",
            "align_content": null,
            "align_items": null,
            "align_self": null,
            "border": null,
            "bottom": null,
            "display": null,
            "flex": null,
            "flex_flow": null,
            "grid_area": null,
            "grid_auto_columns": null,
            "grid_auto_flow": null,
            "grid_auto_rows": null,
            "grid_column": null,
            "grid_gap": null,
            "grid_row": null,
            "grid_template_areas": null,
            "grid_template_columns": null,
            "grid_template_rows": null,
            "height": null,
            "justify_content": null,
            "justify_items": null,
            "left": null,
            "margin": null,
            "max_height": null,
            "max_width": null,
            "min_height": null,
            "min_width": null,
            "object_fit": null,
            "object_position": null,
            "order": null,
            "overflow": null,
            "overflow_x": null,
            "overflow_y": null,
            "padding": null,
            "right": null,
            "top": null,
            "visibility": null,
            "width": null
          }
        },
        "5e6527862da647dda58142b5275f3503": {
          "model_module": "@jupyter-widgets/controls",
          "model_name": "DescriptionStyleModel",
          "model_module_version": "1.5.0",
          "state": {
            "_model_module": "@jupyter-widgets/controls",
            "_model_module_version": "1.5.0",
            "_model_name": "DescriptionStyleModel",
            "_view_count": null,
            "_view_module": "@jupyter-widgets/base",
            "_view_module_version": "1.2.0",
            "_view_name": "StyleView",
            "description_width": ""
          }
        },
        "b992b3236da74b2e805b7462cd663ca4": {
          "model_module": "@jupyter-widgets/base",
          "model_name": "LayoutModel",
          "model_module_version": "1.2.0",
          "state": {
            "_model_module": "@jupyter-widgets/base",
            "_model_module_version": "1.2.0",
            "_model_name": "LayoutModel",
            "_view_count": null,
            "_view_module": "@jupyter-widgets/base",
            "_view_module_version": "1.2.0",
            "_view_name": "LayoutView",
            "align_content": null,
            "align_items": null,
            "align_self": null,
            "border": null,
            "bottom": null,
            "display": null,
            "flex": null,
            "flex_flow": null,
            "grid_area": null,
            "grid_auto_columns": null,
            "grid_auto_flow": null,
            "grid_auto_rows": null,
            "grid_column": null,
            "grid_gap": null,
            "grid_row": null,
            "grid_template_areas": null,
            "grid_template_columns": null,
            "grid_template_rows": null,
            "height": null,
            "justify_content": null,
            "justify_items": null,
            "left": null,
            "margin": null,
            "max_height": null,
            "max_width": null,
            "min_height": null,
            "min_width": null,
            "object_fit": null,
            "object_position": null,
            "order": null,
            "overflow": null,
            "overflow_x": null,
            "overflow_y": null,
            "padding": null,
            "right": null,
            "top": null,
            "visibility": null,
            "width": null
          }
        },
        "3d2029daa4264dd4a91cf412aa7e0c8c": {
          "model_module": "@jupyter-widgets/controls",
          "model_name": "ProgressStyleModel",
          "model_module_version": "1.5.0",
          "state": {
            "_model_module": "@jupyter-widgets/controls",
            "_model_module_version": "1.5.0",
            "_model_name": "ProgressStyleModel",
            "_view_count": null,
            "_view_module": "@jupyter-widgets/base",
            "_view_module_version": "1.2.0",
            "_view_name": "StyleView",
            "bar_color": null,
            "description_width": ""
          }
        },
        "0f369b4d647f416db306b1102b040dcf": {
          "model_module": "@jupyter-widgets/controls",
          "model_name": "VBoxModel",
          "model_module_version": "1.5.0",
          "state": {
            "_dom_classes": [],
            "_model_module": "@jupyter-widgets/controls",
            "_model_module_version": "1.5.0",
            "_model_name": "VBoxModel",
            "_view_count": null,
            "_view_module": "@jupyter-widgets/controls",
            "_view_module_version": "1.5.0",
            "_view_name": "VBoxView",
            "box_style": "",
            "children": [
              "IPY_MODEL_825bf8a8477b45478cad718bff65754f",
              "IPY_MODEL_3d478a6f96c449398f8be96c2865a99f"
            ],
            "layout": "IPY_MODEL_b8b481f40cb44a1da12cc3b4df7d1f16"
          }
        },
        "825bf8a8477b45478cad718bff65754f": {
          "model_module": "@jupyter-widgets/controls",
          "model_name": "LabelModel",
          "model_module_version": "1.5.0",
          "state": {
            "_dom_classes": [],
            "_model_module": "@jupyter-widgets/controls",
            "_model_module_version": "1.5.0",
            "_model_name": "LabelModel",
            "_view_count": null,
            "_view_module": "@jupyter-widgets/controls",
            "_view_module_version": "1.5.0",
            "_view_name": "LabelView",
            "description": "",
            "description_tooltip": null,
            "layout": "IPY_MODEL_a2ba1a9910564672a5216a357b7d7b07",
            "placeholder": "​",
            "style": "IPY_MODEL_b59bdd931b0449b1909fae46f5deb6ad",
            "value": "14.393 MB of 14.393 MB uploaded\r"
          }
        },
        "3d478a6f96c449398f8be96c2865a99f": {
          "model_module": "@jupyter-widgets/controls",
          "model_name": "FloatProgressModel",
          "model_module_version": "1.5.0",
          "state": {
            "_dom_classes": [],
            "_model_module": "@jupyter-widgets/controls",
            "_model_module_version": "1.5.0",
            "_model_name": "FloatProgressModel",
            "_view_count": null,
            "_view_module": "@jupyter-widgets/controls",
            "_view_module_version": "1.5.0",
            "_view_name": "ProgressView",
            "bar_style": "",
            "description": "",
            "description_tooltip": null,
            "layout": "IPY_MODEL_212f0db4fe1547d98aa8ebe2656762b1",
            "max": 1,
            "min": 0,
            "orientation": "horizontal",
            "style": "IPY_MODEL_47d2b6dd515a47afa9ba87c6c3ac969c",
            "value": 1
          }
        },
        "b8b481f40cb44a1da12cc3b4df7d1f16": {
          "model_module": "@jupyter-widgets/base",
          "model_name": "LayoutModel",
          "model_module_version": "1.2.0",
          "state": {
            "_model_module": "@jupyter-widgets/base",
            "_model_module_version": "1.2.0",
            "_model_name": "LayoutModel",
            "_view_count": null,
            "_view_module": "@jupyter-widgets/base",
            "_view_module_version": "1.2.0",
            "_view_name": "LayoutView",
            "align_content": null,
            "align_items": null,
            "align_self": null,
            "border": null,
            "bottom": null,
            "display": null,
            "flex": null,
            "flex_flow": null,
            "grid_area": null,
            "grid_auto_columns": null,
            "grid_auto_flow": null,
            "grid_auto_rows": null,
            "grid_column": null,
            "grid_gap": null,
            "grid_row": null,
            "grid_template_areas": null,
            "grid_template_columns": null,
            "grid_template_rows": null,
            "height": null,
            "justify_content": null,
            "justify_items": null,
            "left": null,
            "margin": null,
            "max_height": null,
            "max_width": null,
            "min_height": null,
            "min_width": null,
            "object_fit": null,
            "object_position": null,
            "order": null,
            "overflow": null,
            "overflow_x": null,
            "overflow_y": null,
            "padding": null,
            "right": null,
            "top": null,
            "visibility": null,
            "width": null
          }
        },
        "a2ba1a9910564672a5216a357b7d7b07": {
          "model_module": "@jupyter-widgets/base",
          "model_name": "LayoutModel",
          "model_module_version": "1.2.0",
          "state": {
            "_model_module": "@jupyter-widgets/base",
            "_model_module_version": "1.2.0",
            "_model_name": "LayoutModel",
            "_view_count": null,
            "_view_module": "@jupyter-widgets/base",
            "_view_module_version": "1.2.0",
            "_view_name": "LayoutView",
            "align_content": null,
            "align_items": null,
            "align_self": null,
            "border": null,
            "bottom": null,
            "display": null,
            "flex": null,
            "flex_flow": null,
            "grid_area": null,
            "grid_auto_columns": null,
            "grid_auto_flow": null,
            "grid_auto_rows": null,
            "grid_column": null,
            "grid_gap": null,
            "grid_row": null,
            "grid_template_areas": null,
            "grid_template_columns": null,
            "grid_template_rows": null,
            "height": null,
            "justify_content": null,
            "justify_items": null,
            "left": null,
            "margin": null,
            "max_height": null,
            "max_width": null,
            "min_height": null,
            "min_width": null,
            "object_fit": null,
            "object_position": null,
            "order": null,
            "overflow": null,
            "overflow_x": null,
            "overflow_y": null,
            "padding": null,
            "right": null,
            "top": null,
            "visibility": null,
            "width": null
          }
        },
        "b59bdd931b0449b1909fae46f5deb6ad": {
          "model_module": "@jupyter-widgets/controls",
          "model_name": "DescriptionStyleModel",
          "model_module_version": "1.5.0",
          "state": {
            "_model_module": "@jupyter-widgets/controls",
            "_model_module_version": "1.5.0",
            "_model_name": "DescriptionStyleModel",
            "_view_count": null,
            "_view_module": "@jupyter-widgets/base",
            "_view_module_version": "1.2.0",
            "_view_name": "StyleView",
            "description_width": ""
          }
        },
        "212f0db4fe1547d98aa8ebe2656762b1": {
          "model_module": "@jupyter-widgets/base",
          "model_name": "LayoutModel",
          "model_module_version": "1.2.0",
          "state": {
            "_model_module": "@jupyter-widgets/base",
            "_model_module_version": "1.2.0",
            "_model_name": "LayoutModel",
            "_view_count": null,
            "_view_module": "@jupyter-widgets/base",
            "_view_module_version": "1.2.0",
            "_view_name": "LayoutView",
            "align_content": null,
            "align_items": null,
            "align_self": null,
            "border": null,
            "bottom": null,
            "display": null,
            "flex": null,
            "flex_flow": null,
            "grid_area": null,
            "grid_auto_columns": null,
            "grid_auto_flow": null,
            "grid_auto_rows": null,
            "grid_column": null,
            "grid_gap": null,
            "grid_row": null,
            "grid_template_areas": null,
            "grid_template_columns": null,
            "grid_template_rows": null,
            "height": null,
            "justify_content": null,
            "justify_items": null,
            "left": null,
            "margin": null,
            "max_height": null,
            "max_width": null,
            "min_height": null,
            "min_width": null,
            "object_fit": null,
            "object_position": null,
            "order": null,
            "overflow": null,
            "overflow_x": null,
            "overflow_y": null,
            "padding": null,
            "right": null,
            "top": null,
            "visibility": null,
            "width": null
          }
        },
        "47d2b6dd515a47afa9ba87c6c3ac969c": {
          "model_module": "@jupyter-widgets/controls",
          "model_name": "ProgressStyleModel",
          "model_module_version": "1.5.0",
          "state": {
            "_model_module": "@jupyter-widgets/controls",
            "_model_module_version": "1.5.0",
            "_model_name": "ProgressStyleModel",
            "_view_count": null,
            "_view_module": "@jupyter-widgets/base",
            "_view_module_version": "1.2.0",
            "_view_name": "StyleView",
            "bar_color": null,
            "description_width": ""
          }
        },
        "bc8ff4fe79dd44709b2b76696d48e8ca": {
          "model_module": "@jupyter-widgets/controls",
          "model_name": "VBoxModel",
          "model_module_version": "1.5.0",
          "state": {
            "_dom_classes": [],
            "_model_module": "@jupyter-widgets/controls",
            "_model_module_version": "1.5.0",
            "_model_name": "VBoxModel",
            "_view_count": null,
            "_view_module": "@jupyter-widgets/controls",
            "_view_module_version": "1.5.0",
            "_view_name": "VBoxView",
            "box_style": "",
            "children": [
              "IPY_MODEL_e511fc908ab04de7a1ddc9aa4124af16",
              "IPY_MODEL_c501e44812404c3ca6f162ab6f48fab9"
            ],
            "layout": "IPY_MODEL_4f7aadb63bfa4b44b072d49e3a73f5da"
          }
        },
        "e511fc908ab04de7a1ddc9aa4124af16": {
          "model_module": "@jupyter-widgets/controls",
          "model_name": "LabelModel",
          "model_module_version": "1.5.0",
          "state": {
            "_dom_classes": [],
            "_model_module": "@jupyter-widgets/controls",
            "_model_module_version": "1.5.0",
            "_model_name": "LabelModel",
            "_view_count": null,
            "_view_module": "@jupyter-widgets/controls",
            "_view_module_version": "1.5.0",
            "_view_name": "LabelView",
            "description": "",
            "description_tooltip": null,
            "layout": "IPY_MODEL_98d5a577975f46889e99fb4a6c87d156",
            "placeholder": "​",
            "style": "IPY_MODEL_6f84343b019c441a9d2a4fb933b39585",
            "value": "14.423 MB of 14.423 MB uploaded\r"
          }
        },
        "c501e44812404c3ca6f162ab6f48fab9": {
          "model_module": "@jupyter-widgets/controls",
          "model_name": "FloatProgressModel",
          "model_module_version": "1.5.0",
          "state": {
            "_dom_classes": [],
            "_model_module": "@jupyter-widgets/controls",
            "_model_module_version": "1.5.0",
            "_model_name": "FloatProgressModel",
            "_view_count": null,
            "_view_module": "@jupyter-widgets/controls",
            "_view_module_version": "1.5.0",
            "_view_name": "ProgressView",
            "bar_style": "",
            "description": "",
            "description_tooltip": null,
            "layout": "IPY_MODEL_6cf09ed72f45430cb20094b6d146a92d",
            "max": 1,
            "min": 0,
            "orientation": "horizontal",
            "style": "IPY_MODEL_353cfa321e994ef9b38cd26be259461b",
            "value": 1
          }
        },
        "4f7aadb63bfa4b44b072d49e3a73f5da": {
          "model_module": "@jupyter-widgets/base",
          "model_name": "LayoutModel",
          "model_module_version": "1.2.0",
          "state": {
            "_model_module": "@jupyter-widgets/base",
            "_model_module_version": "1.2.0",
            "_model_name": "LayoutModel",
            "_view_count": null,
            "_view_module": "@jupyter-widgets/base",
            "_view_module_version": "1.2.0",
            "_view_name": "LayoutView",
            "align_content": null,
            "align_items": null,
            "align_self": null,
            "border": null,
            "bottom": null,
            "display": null,
            "flex": null,
            "flex_flow": null,
            "grid_area": null,
            "grid_auto_columns": null,
            "grid_auto_flow": null,
            "grid_auto_rows": null,
            "grid_column": null,
            "grid_gap": null,
            "grid_row": null,
            "grid_template_areas": null,
            "grid_template_columns": null,
            "grid_template_rows": null,
            "height": null,
            "justify_content": null,
            "justify_items": null,
            "left": null,
            "margin": null,
            "max_height": null,
            "max_width": null,
            "min_height": null,
            "min_width": null,
            "object_fit": null,
            "object_position": null,
            "order": null,
            "overflow": null,
            "overflow_x": null,
            "overflow_y": null,
            "padding": null,
            "right": null,
            "top": null,
            "visibility": null,
            "width": null
          }
        },
        "98d5a577975f46889e99fb4a6c87d156": {
          "model_module": "@jupyter-widgets/base",
          "model_name": "LayoutModel",
          "model_module_version": "1.2.0",
          "state": {
            "_model_module": "@jupyter-widgets/base",
            "_model_module_version": "1.2.0",
            "_model_name": "LayoutModel",
            "_view_count": null,
            "_view_module": "@jupyter-widgets/base",
            "_view_module_version": "1.2.0",
            "_view_name": "LayoutView",
            "align_content": null,
            "align_items": null,
            "align_self": null,
            "border": null,
            "bottom": null,
            "display": null,
            "flex": null,
            "flex_flow": null,
            "grid_area": null,
            "grid_auto_columns": null,
            "grid_auto_flow": null,
            "grid_auto_rows": null,
            "grid_column": null,
            "grid_gap": null,
            "grid_row": null,
            "grid_template_areas": null,
            "grid_template_columns": null,
            "grid_template_rows": null,
            "height": null,
            "justify_content": null,
            "justify_items": null,
            "left": null,
            "margin": null,
            "max_height": null,
            "max_width": null,
            "min_height": null,
            "min_width": null,
            "object_fit": null,
            "object_position": null,
            "order": null,
            "overflow": null,
            "overflow_x": null,
            "overflow_y": null,
            "padding": null,
            "right": null,
            "top": null,
            "visibility": null,
            "width": null
          }
        },
        "6f84343b019c441a9d2a4fb933b39585": {
          "model_module": "@jupyter-widgets/controls",
          "model_name": "DescriptionStyleModel",
          "model_module_version": "1.5.0",
          "state": {
            "_model_module": "@jupyter-widgets/controls",
            "_model_module_version": "1.5.0",
            "_model_name": "DescriptionStyleModel",
            "_view_count": null,
            "_view_module": "@jupyter-widgets/base",
            "_view_module_version": "1.2.0",
            "_view_name": "StyleView",
            "description_width": ""
          }
        },
        "6cf09ed72f45430cb20094b6d146a92d": {
          "model_module": "@jupyter-widgets/base",
          "model_name": "LayoutModel",
          "model_module_version": "1.2.0",
          "state": {
            "_model_module": "@jupyter-widgets/base",
            "_model_module_version": "1.2.0",
            "_model_name": "LayoutModel",
            "_view_count": null,
            "_view_module": "@jupyter-widgets/base",
            "_view_module_version": "1.2.0",
            "_view_name": "LayoutView",
            "align_content": null,
            "align_items": null,
            "align_self": null,
            "border": null,
            "bottom": null,
            "display": null,
            "flex": null,
            "flex_flow": null,
            "grid_area": null,
            "grid_auto_columns": null,
            "grid_auto_flow": null,
            "grid_auto_rows": null,
            "grid_column": null,
            "grid_gap": null,
            "grid_row": null,
            "grid_template_areas": null,
            "grid_template_columns": null,
            "grid_template_rows": null,
            "height": null,
            "justify_content": null,
            "justify_items": null,
            "left": null,
            "margin": null,
            "max_height": null,
            "max_width": null,
            "min_height": null,
            "min_width": null,
            "object_fit": null,
            "object_position": null,
            "order": null,
            "overflow": null,
            "overflow_x": null,
            "overflow_y": null,
            "padding": null,
            "right": null,
            "top": null,
            "visibility": null,
            "width": null
          }
        },
        "353cfa321e994ef9b38cd26be259461b": {
          "model_module": "@jupyter-widgets/controls",
          "model_name": "ProgressStyleModel",
          "model_module_version": "1.5.0",
          "state": {
            "_model_module": "@jupyter-widgets/controls",
            "_model_module_version": "1.5.0",
            "_model_name": "ProgressStyleModel",
            "_view_count": null,
            "_view_module": "@jupyter-widgets/base",
            "_view_module_version": "1.2.0",
            "_view_name": "StyleView",
            "bar_color": null,
            "description_width": ""
          }
        }
      }
    }
  },
  "nbformat": 4,
  "nbformat_minor": 0
}